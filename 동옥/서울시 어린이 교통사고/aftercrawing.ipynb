{
 "cells": [
  {
   "cell_type": "code",
   "execution_count": 15,
   "metadata": {},
   "outputs": [
    {
     "name": "stdout",
     "output_type": "stream",
     "text": [
      "Collecting pyproj\n",
      "  Using cached pyproj-3.6.1-cp310-cp310-win_amd64.whl.metadata (31 kB)\n",
      "Requirement already satisfied: certifi in c:\\python\\python310\\lib\\site-packages (from pyproj) (2023.11.17)\n",
      "Using cached pyproj-3.6.1-cp310-cp310-win_amd64.whl (6.1 MB)\n",
      "Installing collected packages: pyproj\n",
      "Successfully installed pyproj-3.6.1\n"
     ]
    }
   ],
   "source": [
    "!pip install pyproj"
   ]
  },
  {
   "cell_type": "code",
   "execution_count": 5,
   "metadata": {},
   "outputs": [
    {
     "name": "stdout",
     "output_type": "stream",
     "text": [
      "         lat(위도)        lon(경도)\n",
      "0       0.000000       1.000000\n",
      "1  206991.276006  454598.549312\n",
      "2  193632.168201  443290.125930\n",
      "3  204196.200223  456471.414814\n",
      "4  205449.323104  446199.017366\n"
     ]
    },
    {
     "name": "stderr",
     "output_type": "stream",
     "text": [
      "c:\\Python\\Python310\\lib\\site-packages\\pyproj\\crs\\crs.py:141: FutureWarning: '+init=<authority>:<code>' syntax is deprecated. '<authority>:<code>' is the preferred initialization method. When making the change, be mindful of axis order changes: https://pyproj4.github.io/pyproj/stable/gotchas.html#axis-order-changes-in-proj-6\n",
      "  in_crs_string = _prepare_from_proj_string(in_crs_string)\n",
      "c:\\Python\\Python310\\lib\\site-packages\\pyproj\\crs\\crs.py:141: FutureWarning: '+init=<authority>:<code>' syntax is deprecated. '<authority>:<code>' is the preferred initialization method. When making the change, be mindful of axis order changes: https://pyproj4.github.io/pyproj/stable/gotchas.html#axis-order-changes-in-proj-6\n",
      "  in_crs_string = _prepare_from_proj_string(in_crs_string)\n"
     ]
    }
   ],
   "source": [
    "import pandas as pd\n",
    "from pyproj import Proj, Transformer\n",
    "\n",
    "# CSV 파일 경로\n",
    "csv_file_path = '서울시어린이보행자교통사고좌표값.csv'\n",
    "\n",
    "# CSV 파일 읽기\n",
    "df = pd.read_csv(csv_file_path, header=None, names=['lat(위도)', 'lon(경도)'])\n",
    "\n",
    "# 데이터프레임의 처음 5행 출력\n",
    "print(df.head())\n",
    "\n",
    "# epsg:5181 좌표계 정의\n",
    "in_proj = Proj(init='epsg:5181')\n",
    "\n",
    "# epsg:4326 좌표계 정의\n",
    "out_proj = Proj(init='epsg:4326')\n",
    "\n",
    "# 좌표 변환 함수 정의\n",
    "def convert_coordinates(row):\n",
    "    lon, lat = row['lat(위도)'], row['lon(경도)']\n",
    "    lon, lat = Transformer.from_proj(in_proj, out_proj).transform(lon, lat)\n",
    "    return pd.Series({'longitude': lon, 'latitude': lat})\n",
    "\n",
    "# 'longitude'와 'latitude' 컬럼 생성 및 좌표 변환\n",
    "df[['lon(경도)', 'lat(위도)']] = df.apply(convert_coordinates, axis=1)\n",
    "\n",
    "# 결과를 CSV 파일로 저장\n",
    "df.to_csv('converted_result.csv', index=False)"
   ]
  },
  {
   "cell_type": "code",
   "execution_count": 1,
   "metadata": {},
   "outputs": [],
   "source": [
    "# 위도경도 순서바꾸기\n",
    "import pandas as pd\n",
    "\n",
    "# CSV 파일 경로\n",
    "csv_file_path = 'converted_result.csv'\n",
    "\n",
    "# CSV 파일 읽기\n",
    "df = pd.read_csv(csv_file_path)\n",
    "\n",
    "# 'lon(경도)'와 'lat(위도)' 컬럼의 위치 바꾸기\n",
    "df = df[['latitude', 'longitude']]\n",
    "\n",
    "# 결과를 CSV 파일로 저장\n",
    "df.to_csv('swapped_result.csv', index=False)"
   ]
  }
 ],
 "metadata": {
  "kernelspec": {
   "display_name": "Python 3",
   "language": "python",
   "name": "python3"
  },
  "language_info": {
   "codemirror_mode": {
    "name": "ipython",
    "version": 3
   },
   "file_extension": ".py",
   "mimetype": "text/x-python",
   "name": "python",
   "nbconvert_exporter": "python",
   "pygments_lexer": "ipython3",
   "version": "3.10.7"
  }
 },
 "nbformat": 4,
 "nbformat_minor": 2
}

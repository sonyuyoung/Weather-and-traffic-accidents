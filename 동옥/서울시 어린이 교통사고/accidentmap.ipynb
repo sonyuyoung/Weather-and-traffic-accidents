{
 "cells": [
  {
   "cell_type": "code",
   "execution_count": 2,
   "metadata": {},
   "outputs": [],
   "source": [
    "# 사고데이터와 크롤링후 변환한 좌표데이터 붙이기작업\n",
    "\n",
    "import pandas as pd\n",
    "\n",
    "# accidentInfoList.csv 파일 읽기\n",
    "accident_df = pd.read_csv('2017~2019 서울시 어린이 보행자사고.csv', encoding='cp949')\n",
    "\n",
    "# swapped_result.csv 파일 읽기(좌표데이터)\n",
    "coord_df = pd.read_csv('swapped_result.csv')\n",
    "\n",
    "# 두 DataFrame을 수평으로 붙이기\n",
    "merged_df = pd.concat([accident_df, coord_df], axis=1)\n",
    "\n",
    "# 결과를 CSV 파일로 저장\n",
    "merged_df.to_csv('merged_result.csv', index=False)"
   ]
  },
  {
   "cell_type": "code",
   "execution_count": 3,
   "metadata": {},
   "outputs": [
    {
     "name": "stdout",
     "output_type": "stream",
     "text": [
      "변환된 좌표 (WGS84): 위도 : 37.64323741802382, 경도 : 127.03117848977485\n",
      "변환된 좌표 (WGS84): 37.64323741802382, 127.03117848977485\n"
     ]
    },
    {
     "name": "stderr",
     "output_type": "stream",
     "text": [
      "c:\\Python\\Python310\\lib\\site-packages\\pyproj\\crs\\crs.py:141: FutureWarning: '+init=<authority>:<code>' syntax is deprecated. '<authority>:<code>' is the preferred initialization method. When making the change, be mindful of axis order changes: https://pyproj4.github.io/pyproj/stable/gotchas.html#axis-order-changes-in-proj-6\n",
      "  in_crs_string = _prepare_from_proj_string(in_crs_string)\n",
      "c:\\Python\\Python310\\lib\\site-packages\\pyproj\\crs\\crs.py:141: FutureWarning: '+init=<authority>:<code>' syntax is deprecated. '<authority>:<code>' is the preferred initialization method. When making the change, be mindful of axis order changes: https://pyproj4.github.io/pyproj/stable/gotchas.html#axis-order-changes-in-proj-6\n",
      "  in_crs_string = _prepare_from_proj_string(in_crs_string)\n",
      "C:\\Users\\ogi\\AppData\\Local\\Temp\\ipykernel_13220\\3738534754.py:13: FutureWarning: This function is deprecated. See: https://pyproj4.github.io/pyproj/stable/gotchas.html#upgrading-to-pyproj-2-from-pyproj-1\n",
      "  lon, lat = transform(transformer[0], transformer[1], x, y)\n"
     ]
    }
   ],
   "source": [
    "# 크롤링한 데이터 좌표 검증에 썼던 코드 (안써도됨 작업하는거아니고 확인하는 코드임)\n",
    "from pyproj import Proj, transform\n",
    "\n",
    "# 원래 좌표계와 목표 좌표계 정의\n",
    "original_crs = \"EPSG:5181\"\n",
    "target_crs = \"EPSG:4326\"\n",
    "\n",
    "# 좌표 변환\n",
    "# x, y = 200524.55963108, 442588.44509583\n",
    "x, y = 202751.69687043,460402.27063206\n",
    "\n",
    "transformer = Proj(init=original_crs), Proj(init=target_crs)\n",
    "lon, lat = transform(transformer[0], transformer[1], x, y)\n",
    "\n",
    "print(f\"변환된 좌표 (WGS84): 위도 : {lat}, 경도 : {lon}\")\n",
    "print(f\"변환된 좌표 (WGS84): {lat}, {lon}\")"
   ]
  }
 ],
 "metadata": {
  "kernelspec": {
   "display_name": "Python 3",
   "language": "python",
   "name": "python3"
  },
  "language_info": {
   "codemirror_mode": {
    "name": "ipython",
    "version": 3
   },
   "file_extension": ".py",
   "mimetype": "text/x-python",
   "name": "python",
   "nbconvert_exporter": "python",
   "pygments_lexer": "ipython3",
   "version": "3.10.7"
  }
 },
 "nbformat": 4,
 "nbformat_minor": 2
}

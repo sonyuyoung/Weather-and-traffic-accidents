{
 "cells": [
  {
   "cell_type": "code",
   "execution_count": null,
   "metadata": {},
   "outputs": [],
   "source": [
    "## TAAS 교통사고데이터 좌표 크롤러 with Selenium\n",
    "#Selenium을 이용한 동적 크롤링"
   ]
  },
  {
   "cell_type": "code",
   "execution_count": 1,
   "metadata": {},
   "outputs": [
    {
     "name": "stderr",
     "output_type": "stream",
     "text": [
      "C:\\Users\\sons\\AppData\\Local\\Temp\\ipykernel_26760\\3160177533.py:7: DeprecationWarning: \n",
      "Pyarrow will become a required dependency of pandas in the next major release of pandas (pandas 3.0),\n",
      "(to allow more performant data types, such as the Arrow string type, and better interoperability with other libraries)\n",
      "but was not found to be installed on your system.\n",
      "If this would cause problems for you,\n",
      "please provide us feedback at https://github.com/pandas-dev/pandas/issues/54466\n",
      "        \n",
      "  import pandas as pd\n"
     ]
    }
   ],
   "source": [
    "from selenium import webdriver\n",
    "from selenium.webdriver.common.by import By\n",
    "from selenium.webdriver.common.keys import Keys\n",
    "from selenium.webdriver.support.select import Select\n",
    "from urllib import parse\n",
    "import time\n",
    "import pandas as pd\n",
    "import re\n",
    "from tqdm import tqdm"
   ]
  },
  {
   "cell_type": "code",
   "execution_count": 39,
   "metadata": {},
   "outputs": [],
   "source": [
    "# TAAS GIS 시스템 로드\n",
    "driver = webdriver.Chrome()\n",
    "driver.maximize_window()\n",
    "driver.get('http://taas.koroad.or.kr/gis/mcm/mcl/initMap.do?menuId=GIS_GMP_STS_RSN')\n",
    "time.sleep(1)"
   ]
  },
  {
   "cell_type": "code",
   "execution_count": 42,
   "metadata": {},
   "outputs": [],
   "source": [
    "#1. 융합분석(고속도로별) 위도,경도 크롤링 시도 -> 실패\n",
    "\n",
    "\n",
    "#융합분석(menuRoadNoSearch) 선택\n",
    "menuRoadNoSearch_element = driver.find_element(By.ID, 'menuRoadNoSearch')\n",
    "\n",
    "# menuRoadNoSearch를 찾았다면 클릭\n",
    "if menuRoadNoSearch_element:\n",
    "    menuRoadNoSearch_element.click()\n",
    "\n",
    "\n",
    "# selectBox지정\n",
    "#2018년 시작\n",
    "selectboxStart = driver.find_element(By.ID, 'ptsNafYearStart')\n",
    "select = Select(selectboxStart)\n",
    "select.select_by_value(\"2018\") \n",
    "\n",
    "#2020년 종료\n",
    "selectboxYearEnd = driver.find_element(By.ID, 'ptsNafYearEnd')\n",
    "select = Select(selectboxYearEnd)\n",
    "select.select_by_value(\"2020\") \n",
    "\n",
    "#고속국도 조회\n",
    "selectboxRoadRank = driver.find_element(By.ID, 'ptsNafRoadRank')\n",
    "select = Select(selectboxRoadRank)\n",
    "select.select_by_visible_text(\"고속국도\") \n",
    "\n",
    "#도로명 지정\n",
    "selectboxRoadName = driver.find_element(By.ID, 'ptsNafCh1RoadName')\n",
    "select = Select(selectboxRoadName)\n",
    "select.select_by_visible_text(\"구마고속도로\") \n",
    "\n",
    "\n",
    "\n",
    "#checkbox 지정\n",
    "#조건설정 전부 체크\n",
    "checkbox_elements = driver.find_elements(By.CSS_SELECTOR, '#ptsNafCh1AccidentContent input[type=\"checkbox\"]')\n",
    "\n",
    "# Check all checkboxes\n",
    "for checkbox in checkbox_elements:\n",
    "    if not checkbox.is_selected():\n",
    "        checkbox.click()\n",
    "\n"
   ]
  },
  {
   "cell_type": "code",
   "execution_count": 43,
   "metadata": {},
   "outputs": [],
   "source": [
    "# search\n",
    "driver.find_element(By.XPATH, '//*[@id=\"roadNumberAccidentFind\"]/div/p/a').send_keys(Keys.ENTER)\n",
    "time.sleep(1)\n"
   ]
  },
  {
   "cell_type": "code",
   "execution_count": 49,
   "metadata": {},
   "outputs": [
    {
     "name": "stderr",
     "output_type": "stream",
     "text": [
      "  0%|          | 0/1 [00:01<?, ?it/s]"
     ]
    },
    {
     "name": "stdout",
     "output_type": "stream",
     "text": [
      "Debugging - bbox content: <selenium.webdriver.remote.webelement.WebElement (session=\"d63eb421735be5afad0ac026cc4e64d9\", element=\"BE8747241E6CA8D597D51FF1DD7A5961_element_7496\")>\n",
      "Debugging - src content: https://map3.daumcdn.net/map_2d/2212ejo/L13/-2/6.png\n",
      "src_split : ['https://map3.daumcdn.net/map_2d/2212ejo/L13/-2/6.png']\n",
      "Debugging - src_split:\n",
      "https://map3.daumcdn.net/map_2d/2212ejo/L13/-2/6.png\n"
     ]
    },
    {
     "name": "stderr",
     "output_type": "stream",
     "text": [
      "\n"
     ]
    },
    {
     "ename": "IndexError",
     "evalue": "list index out of range",
     "output_type": "error",
     "traceback": [
      "\u001b[1;31m---------------------------------------------------------------------------\u001b[0m",
      "\u001b[1;31mIndexError\u001b[0m                                Traceback (most recent call last)",
      "Cell \u001b[1;32mIn[49], line 38\u001b[0m\n\u001b[0;32m     35\u001b[0m \u001b[38;5;28;01melse\u001b[39;00m:\n\u001b[0;32m     36\u001b[0m     \u001b[38;5;28mprint\u001b[39m(\u001b[38;5;124m\"\u001b[39m\u001b[38;5;124mDebugging - src_split:\u001b[39m\u001b[38;5;124m\"\u001b[39m, src_split)\n\u001b[1;32m---> 38\u001b[0m bbox_text \u001b[38;5;241m=\u001b[39m \u001b[43msrc_split\u001b[49m\u001b[43m[\u001b[49m\u001b[38;5;241;43m-\u001b[39;49m\u001b[38;5;241;43m3\u001b[39;49m\u001b[43m]\u001b[49m[\u001b[38;5;241m5\u001b[39m:]\n\u001b[0;32m     39\u001b[0m \u001b[38;5;28mprint\u001b[39m(\u001b[38;5;124m\"\u001b[39m\u001b[38;5;124mbbox_text : \u001b[39m\u001b[38;5;124m\"\u001b[39m \u001b[38;5;241m+\u001b[39m bbox_text)\n\u001b[0;32m     40\u001b[0m \u001b[38;5;66;03m# coords = [float(i) for i in bbox_text.split(',')]\u001b[39;00m\n\u001b[0;32m     41\u001b[0m \u001b[38;5;66;03m# x, y = (coords[0] + coords[2]) / 2, (coords[1] + coords[3]) / 2  # center position\u001b[39;00m\n\u001b[0;32m     42\u001b[0m \u001b[38;5;66;03m# srs = src_split[-4][4:]\u001b[39;00m\n\u001b[0;32m     43\u001b[0m \u001b[38;5;66;03m# coord_ls.append([x, y])\u001b[39;00m\n\u001b[0;32m     44\u001b[0m \u001b[38;5;66;03m# srs_ls.append(srs)\u001b[39;00m\n",
      "\u001b[1;31mIndexError\u001b[0m: list index out of range"
     ]
    }
   ],
   "source": [
    "coord_ls = []\n",
    "srs_ls = []\n",
    "\n",
    "#결과 개수만큼 반복문\n",
    "for i in tqdm(range(0, 1)):\n",
    "    driver.execute_script(f'gis.srh.msh.selectListUi({i}, 11);')  # 개별 사고지점\n",
    "    time.sleep(1)  # 로드\n",
    "\n",
    "    bbox = driver.find_elements(By.CLASS_NAME,'olTileImage')[-2]\n",
    "    # 디버깅 코드\n",
    "    if isinstance(bbox, list):\n",
    "        print(\"Debugging - bbox content:\")\n",
    "        for element in bbox:\n",
    "            print(element)\n",
    "    else:\n",
    "        print(\"Debugging - bbox content:\", bbox)\n",
    "\n",
    "    src = parse.unquote(bbox.get_attribute('src'))  # get src and unquote from 16byte\n",
    "\n",
    "    # 디버깅 코드\n",
    "    if isinstance(src, list):\n",
    "        print(\"Debugging - src content:\")\n",
    "        for element in src:\n",
    "            print(element)\n",
    "    else:\n",
    "        print(\"Debugging - src content:\", src)\n",
    "\n",
    "    src_split = src.split('&')\n",
    "    print(\"src_split : \" + str(src_split))  # Use str() to convert list to string\n",
    "\n",
    "    if isinstance(src_split, list):\n",
    "        print(\"Debugging - src_split:\")\n",
    "        for element in src_split:\n",
    "            print(element)\n",
    "    else:\n",
    "        print(\"Debugging - src_split:\", src_split)\n",
    "\n",
    "    bbox_text = src_split[-3][5:]\n",
    "    print(\"bbox_text : \" + bbox_text)\n",
    "    # coords = [float(i) for i in bbox_text.split(',')]\n",
    "    # x, y = (coords[0] + coords[2]) / 2, (coords[1] + coords[3]) / 2  # center position\n",
    "    # srs = src_split[-4][4:]\n",
    "    # coord_ls.append([x, y])\n",
    "    # srs_ls.append(srs)\n"
   ]
  },
  {
   "cell_type": "code",
   "execution_count": null,
   "metadata": {},
   "outputs": [],
   "source": []
  }
 ],
 "metadata": {
  "kernelspec": {
   "display_name": "Python 3",
   "language": "python",
   "name": "python3"
  },
  "language_info": {
   "codemirror_mode": {
    "name": "ipython",
    "version": 3
   },
   "file_extension": ".py",
   "mimetype": "text/x-python",
   "name": "python",
   "nbconvert_exporter": "python",
   "pygments_lexer": "ipython3",
   "version": "3.12.1"
  }
 },
 "nbformat": 4,
 "nbformat_minor": 2
}

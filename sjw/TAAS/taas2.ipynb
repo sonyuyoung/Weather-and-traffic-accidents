{
 "cells": [
  {
   "cell_type": "code",
   "execution_count": null,
   "metadata": {},
   "outputs": [],
   "source": [
    "## TAAS 교통사고데이터 좌표 크롤러 with Selenium\n",
    "#Selenium을 이용한 동적 크롤링"
   ]
  },
  {
   "cell_type": "code",
   "execution_count": 1,
   "metadata": {},
   "outputs": [
    {
     "name": "stderr",
     "output_type": "stream",
     "text": [
      "C:\\Users\\sons\\AppData\\Local\\Temp\\ipykernel_41832\\3160177533.py:7: DeprecationWarning: \n",
      "Pyarrow will become a required dependency of pandas in the next major release of pandas (pandas 3.0),\n",
      "(to allow more performant data types, such as the Arrow string type, and better interoperability with other libraries)\n",
      "but was not found to be installed on your system.\n",
      "If this would cause problems for you,\n",
      "please provide us feedback at https://github.com/pandas-dev/pandas/issues/54466\n",
      "        \n",
      "  import pandas as pd\n"
     ]
    }
   ],
   "source": [
    "from selenium import webdriver\n",
    "from selenium.webdriver.common.by import By\n",
    "from selenium.webdriver.common.keys import Keys\n",
    "from selenium.webdriver.support.select import Select\n",
    "from urllib import parse\n",
    "import time\n",
    "import pandas as pd\n",
    "import re\n",
    "from tqdm import tqdm"
   ]
  },
  {
   "cell_type": "code",
   "execution_count": 28,
   "metadata": {},
   "outputs": [],
   "source": [
    "# TAAS GIS 시스템 로드\n",
    "driver = webdriver.Chrome()\n",
    "driver.maximize_window()\n",
    "driver.get('http://taas.koroad.or.kr/gis/mcm/mcl/initMap.do?menuId=GIS_GMP_STS_RSN')\n",
    "time.sleep(1)"
   ]
  },
  {
   "cell_type": "code",
   "execution_count": 33,
   "metadata": {},
   "outputs": [
    {
     "ename": "ElementNotInteractableException",
     "evalue": "Message: element not interactable\n  (Session info: chrome=120.0.6099.225)\nStacktrace:\n\tGetHandleVerifier [0x00007FF703E62142+3514994]\n\t(No symbol) [0x00007FF703A80CE2]\n\t(No symbol) [0x00007FF7039274C3]\n\t(No symbol) [0x00007FF703972D29]\n\t(No symbol) [0x00007FF703966A0F]\n\t(No symbol) [0x00007FF703995FEA]\n\t(No symbol) [0x00007FF7039663B6]\n\t(No symbol) [0x00007FF703996490]\n\t(No symbol) [0x00007FF7039B28F6]\n\t(No symbol) [0x00007FF703995D93]\n\t(No symbol) [0x00007FF703964BDC]\n\t(No symbol) [0x00007FF703965C64]\n\tGetHandleVerifier [0x00007FF703E8E16B+3695259]\n\tGetHandleVerifier [0x00007FF703EE6737+4057191]\n\tGetHandleVerifier [0x00007FF703EDE4E3+4023827]\n\tGetHandleVerifier [0x00007FF703BB04F9+689705]\n\t(No symbol) [0x00007FF703A8C048]\n\t(No symbol) [0x00007FF703A88044]\n\t(No symbol) [0x00007FF703A881C9]\n\t(No symbol) [0x00007FF703A788C4]\n\tBaseThreadInitThunk [0x00007FFDF0337614+20]\n\tRtlUserThreadStart [0x00007FFDF1AC26A1+33]\n",
     "output_type": "error",
     "traceback": [
      "\u001b[1;31m---------------------------------------------------------------------------\u001b[0m",
      "\u001b[1;31mElementNotInteractableException\u001b[0m           Traceback (most recent call last)",
      "Cell \u001b[1;32mIn[33], line 28\u001b[0m\n\u001b[0;32m     26\u001b[0m \u001b[38;5;66;03m# 전체해제 클릭\u001b[39;00m\n\u001b[0;32m     27\u001b[0m checkbox_deselect \u001b[38;5;241m=\u001b[39m driver\u001b[38;5;241m.\u001b[39mfind_element(By\u001b[38;5;241m.\u001b[39mID, \u001b[38;5;124m'\u001b[39m\u001b[38;5;124mchk_deselect\u001b[39m\u001b[38;5;124m'\u001b[39m)\n\u001b[1;32m---> 28\u001b[0m \u001b[43mcheckbox_deselect\u001b[49m\u001b[38;5;241;43m.\u001b[39;49m\u001b[43mclick\u001b[49m\u001b[43m(\u001b[49m\u001b[43m)\u001b[49m\n\u001b[0;32m     30\u001b[0m \u001b[38;5;66;03m# 고속국도 체크\u001b[39;00m\n\u001b[0;32m     31\u001b[0m checkbox_highway \u001b[38;5;241m=\u001b[39m driver\u001b[38;5;241m.\u001b[39mfind_element(By\u001b[38;5;241m.\u001b[39mXPATH, \u001b[38;5;124m\"\u001b[39m\u001b[38;5;124m//input[@name=\u001b[39m\u001b[38;5;124m'\u001b[39m\u001b[38;5;124mROAD_TYPE\u001b[39m\u001b[38;5;124m'\u001b[39m\u001b[38;5;124m and @value=\u001b[39m\u001b[38;5;124m'\u001b[39m\u001b[38;5;124m6\u001b[39m\u001b[38;5;124m'\u001b[39m\u001b[38;5;124m]\u001b[39m\u001b[38;5;124m\"\u001b[39m)\n",
      "File \u001b[1;32mc:\\Users\\sons\\AppData\\Local\\Programs\\Python\\Python312\\Lib\\site-packages\\selenium\\webdriver\\remote\\webelement.py:94\u001b[0m, in \u001b[0;36mWebElement.click\u001b[1;34m(self)\u001b[0m\n\u001b[0;32m     92\u001b[0m \u001b[38;5;28;01mdef\u001b[39;00m \u001b[38;5;21mclick\u001b[39m(\u001b[38;5;28mself\u001b[39m) \u001b[38;5;241m-\u001b[39m\u001b[38;5;241m>\u001b[39m \u001b[38;5;28;01mNone\u001b[39;00m:\n\u001b[0;32m     93\u001b[0m \u001b[38;5;250m    \u001b[39m\u001b[38;5;124;03m\"\"\"Clicks the element.\"\"\"\u001b[39;00m\n\u001b[1;32m---> 94\u001b[0m     \u001b[38;5;28;43mself\u001b[39;49m\u001b[38;5;241;43m.\u001b[39;49m\u001b[43m_execute\u001b[49m\u001b[43m(\u001b[49m\u001b[43mCommand\u001b[49m\u001b[38;5;241;43m.\u001b[39;49m\u001b[43mCLICK_ELEMENT\u001b[49m\u001b[43m)\u001b[49m\n",
      "File \u001b[1;32mc:\\Users\\sons\\AppData\\Local\\Programs\\Python\\Python312\\Lib\\site-packages\\selenium\\webdriver\\remote\\webelement.py:395\u001b[0m, in \u001b[0;36mWebElement._execute\u001b[1;34m(self, command, params)\u001b[0m\n\u001b[0;32m    393\u001b[0m     params \u001b[38;5;241m=\u001b[39m {}\n\u001b[0;32m    394\u001b[0m params[\u001b[38;5;124m\"\u001b[39m\u001b[38;5;124mid\u001b[39m\u001b[38;5;124m\"\u001b[39m] \u001b[38;5;241m=\u001b[39m \u001b[38;5;28mself\u001b[39m\u001b[38;5;241m.\u001b[39m_id\n\u001b[1;32m--> 395\u001b[0m \u001b[38;5;28;01mreturn\u001b[39;00m \u001b[38;5;28;43mself\u001b[39;49m\u001b[38;5;241;43m.\u001b[39;49m\u001b[43m_parent\u001b[49m\u001b[38;5;241;43m.\u001b[39;49m\u001b[43mexecute\u001b[49m\u001b[43m(\u001b[49m\u001b[43mcommand\u001b[49m\u001b[43m,\u001b[49m\u001b[43m \u001b[49m\u001b[43mparams\u001b[49m\u001b[43m)\u001b[49m\n",
      "File \u001b[1;32mc:\\Users\\sons\\AppData\\Local\\Programs\\Python\\Python312\\Lib\\site-packages\\selenium\\webdriver\\remote\\webdriver.py:348\u001b[0m, in \u001b[0;36mWebDriver.execute\u001b[1;34m(self, driver_command, params)\u001b[0m\n\u001b[0;32m    346\u001b[0m response \u001b[38;5;241m=\u001b[39m \u001b[38;5;28mself\u001b[39m\u001b[38;5;241m.\u001b[39mcommand_executor\u001b[38;5;241m.\u001b[39mexecute(driver_command, params)\n\u001b[0;32m    347\u001b[0m \u001b[38;5;28;01mif\u001b[39;00m response:\n\u001b[1;32m--> 348\u001b[0m     \u001b[38;5;28;43mself\u001b[39;49m\u001b[38;5;241;43m.\u001b[39;49m\u001b[43merror_handler\u001b[49m\u001b[38;5;241;43m.\u001b[39;49m\u001b[43mcheck_response\u001b[49m\u001b[43m(\u001b[49m\u001b[43mresponse\u001b[49m\u001b[43m)\u001b[49m\n\u001b[0;32m    349\u001b[0m     response[\u001b[38;5;124m\"\u001b[39m\u001b[38;5;124mvalue\u001b[39m\u001b[38;5;124m\"\u001b[39m] \u001b[38;5;241m=\u001b[39m \u001b[38;5;28mself\u001b[39m\u001b[38;5;241m.\u001b[39m_unwrap_value(response\u001b[38;5;241m.\u001b[39mget(\u001b[38;5;124m\"\u001b[39m\u001b[38;5;124mvalue\u001b[39m\u001b[38;5;124m\"\u001b[39m, \u001b[38;5;28;01mNone\u001b[39;00m))\n\u001b[0;32m    350\u001b[0m     \u001b[38;5;28;01mreturn\u001b[39;00m response\n",
      "File \u001b[1;32mc:\\Users\\sons\\AppData\\Local\\Programs\\Python\\Python312\\Lib\\site-packages\\selenium\\webdriver\\remote\\errorhandler.py:229\u001b[0m, in \u001b[0;36mErrorHandler.check_response\u001b[1;34m(self, response)\u001b[0m\n\u001b[0;32m    227\u001b[0m         alert_text \u001b[38;5;241m=\u001b[39m value[\u001b[38;5;124m\"\u001b[39m\u001b[38;5;124malert\u001b[39m\u001b[38;5;124m\"\u001b[39m]\u001b[38;5;241m.\u001b[39mget(\u001b[38;5;124m\"\u001b[39m\u001b[38;5;124mtext\u001b[39m\u001b[38;5;124m\"\u001b[39m)\n\u001b[0;32m    228\u001b[0m     \u001b[38;5;28;01mraise\u001b[39;00m exception_class(message, screen, stacktrace, alert_text)  \u001b[38;5;66;03m# type: ignore[call-arg]  # mypy is not smart enough here\u001b[39;00m\n\u001b[1;32m--> 229\u001b[0m \u001b[38;5;28;01mraise\u001b[39;00m exception_class(message, screen, stacktrace)\n",
      "\u001b[1;31mElementNotInteractableException\u001b[0m: Message: element not interactable\n  (Session info: chrome=120.0.6099.225)\nStacktrace:\n\tGetHandleVerifier [0x00007FF703E62142+3514994]\n\t(No symbol) [0x00007FF703A80CE2]\n\t(No symbol) [0x00007FF7039274C3]\n\t(No symbol) [0x00007FF703972D29]\n\t(No symbol) [0x00007FF703966A0F]\n\t(No symbol) [0x00007FF703995FEA]\n\t(No symbol) [0x00007FF7039663B6]\n\t(No symbol) [0x00007FF703996490]\n\t(No symbol) [0x00007FF7039B28F6]\n\t(No symbol) [0x00007FF703995D93]\n\t(No symbol) [0x00007FF703964BDC]\n\t(No symbol) [0x00007FF703965C64]\n\tGetHandleVerifier [0x00007FF703E8E16B+3695259]\n\tGetHandleVerifier [0x00007FF703EE6737+4057191]\n\tGetHandleVerifier [0x00007FF703EDE4E3+4023827]\n\tGetHandleVerifier [0x00007FF703BB04F9+689705]\n\t(No symbol) [0x00007FF703A8C048]\n\t(No symbol) [0x00007FF703A88044]\n\t(No symbol) [0x00007FF703A881C9]\n\t(No symbol) [0x00007FF703A788C4]\n\tBaseThreadInitThunk [0x00007FFDF0337614+20]\n\tRtlUserThreadStart [0x00007FFDF1AC26A1+33]\n"
     ]
    }
   ],
   "source": [
    "#사고분석 크롤링 시도(용인시 고속도로)\n",
    "\n",
    "from selenium.webdriver.common.by import By\n",
    "from selenium.webdriver.support.ui import WebDriverWait\n",
    "from selenium.webdriver.support import expected_conditions as EC\n",
    "\n",
    "# 체크박스 체크\n",
    "elements = driver.find_elements(By.NAME, 'ACDNT_GAE_CODE')[0:4]\n",
    "for element in elements:\n",
    "    if not element.is_selected():\n",
    "        element.click()\n",
    "\n",
    "selectbox = driver.find_element(By.ID, 'ptsRafSido')\n",
    "select = Select(selectbox)\n",
    "select.select_by_visible_text(\"경기도\")\n",
    "\n",
    "selectbox = driver.find_element(By.ID, 'ptsRafSigungu')\n",
    "\n",
    "select = Select(selectbox)\n",
    "select.select_by_visible_text(\"용인시\")\n",
    "\n",
    "# 도로종류 버튼 클릭\n",
    "driver.find_element(By.XPATH, '//*[@id=\"ptsRaf-ROAD_TYPE\"]/a').send_keys(Keys.ENTER)\n",
    "WebDriverWait(driver, 10)\n",
    "\n",
    "# 전체해제 클릭\n",
    "checkbox_deselect = driver.find_element(By.ID, 'chk_deselect')\n",
    "checkbox_deselect.click()\n",
    "\n",
    "# 고속국도 체크\n",
    "checkbox_highway = driver.find_element(By.XPATH, \"//input[@name='ROAD_TYPE' and @value='6']\")\n",
    "checkbox_highway.click()\n",
    "WebDriverWait(driver, 5)\n",
    "\n",
    "# 닫기 버튼 클릭\n",
    "button_close = driver.find_element(By.ID, 'chk_ok')\n",
    "button_close.click()\n",
    "\n",
    "time.sleep(1)\n",
    "\n",
    "\n"
   ]
  },
  {
   "cell_type": "code",
   "execution_count": 35,
   "metadata": {},
   "outputs": [],
   "source": [
    "# search\n",
    "driver.find_element(By.XPATH, '//*[@id=\"regionAccidentFind\"]/div/p/a').send_keys(Keys.ENTER)\n",
    "time.sleep(1)"
   ]
  },
  {
   "cell_type": "code",
   "execution_count": 36,
   "metadata": {},
   "outputs": [
    {
     "name": "stderr",
     "output_type": "stream",
     "text": [
      "  0%|          | 1/33698 [00:01<9:49:49,  1.05s/it]"
     ]
    },
    {
     "name": "stdout",
     "output_type": "stream",
     "text": [
      "Debugging - src content: <selenium.webdriver.remote.webelement.WebElement (session=\"5b06b3d12ca3a76e5c613afa896de233\", element=\"9E340076E16B0B12E9EB60FAF1C429D4_element_4939\")>\n",
      "Debugging - src content: https://taas.koroad.or.kr/gis36/TAAS/wms?LAYERS=GNRL_GIS_ACDNT_INFO_NON&STYLES=&FORMAT=image/png&TRANSPARENT=TRUE&TILED=false&TILESORIGIN=-30000,-60000&PROJECTION=EPSG:5179&DISPLAYPROJECTION=EPSG:5181&TRANSFORM=EPSG:5181&SERVICE=WMS&VERSION=1.1.1&REQUEST=GetMap&CQL_FILTER=(engn_code='00') and (acdnt_year between '2022' and '2022')  and (legaldong_code ilike '4146%') and (( acdnt_gae_code = '01') or ( acdnt_gae_code = '02') or ( acdnt_gae_code = '03') or ( acdnt_gae_code = '04')) and (( road_type = '6'))&SRS=EPSG:5181&BBOX=158040.08898455,388474.69582018,260312.08898455,448314.69582018&WIDTH=1598&HEIGHT=935\n",
      "src_split : ['https://taas.koroad.or.kr/gis36/TAAS/wms?LAYERS=GNRL_GIS_ACDNT_INFO_NON', 'STYLES=', 'FORMAT=image/png', 'TRANSPARENT=TRUE', 'TILED=false', 'TILESORIGIN=-30000,-60000', 'PROJECTION=EPSG:5179', 'DISPLAYPROJECTION=EPSG:5181', 'TRANSFORM=EPSG:5181', 'SERVICE=WMS', 'VERSION=1.1.1', 'REQUEST=GetMap', \"CQL_FILTER=(engn_code='00') and (acdnt_year between '2022' and '2022')  and (legaldong_code ilike '4146%') and (( acdnt_gae_code = '01') or ( acdnt_gae_code = '02') or ( acdnt_gae_code = '03') or ( acdnt_gae_code = '04')) and (( road_type = '6'))\", 'SRS=EPSG:5181', 'BBOX=158040.08898455,388474.69582018,260312.08898455,448314.69582018', 'WIDTH=1598', 'HEIGHT=935']\n",
      "Debugging - src_split:\n",
      "https://taas.koroad.or.kr/gis36/TAAS/wms?LAYERS=GNRL_GIS_ACDNT_INFO_NON\n",
      "STYLES=\n",
      "FORMAT=image/png\n",
      "TRANSPARENT=TRUE\n",
      "TILED=false\n",
      "TILESORIGIN=-30000,-60000\n",
      "PROJECTION=EPSG:5179\n",
      "DISPLAYPROJECTION=EPSG:5181\n",
      "TRANSFORM=EPSG:5181\n",
      "SERVICE=WMS\n",
      "VERSION=1.1.1\n",
      "REQUEST=GetMap\n",
      "CQL_FILTER=(engn_code='00') and (acdnt_year between '2022' and '2022')  and (legaldong_code ilike '4146%') and (( acdnt_gae_code = '01') or ( acdnt_gae_code = '02') or ( acdnt_gae_code = '03') or ( acdnt_gae_code = '04')) and (( road_type = '6'))\n",
      "SRS=EPSG:5181\n",
      "BBOX=158040.08898455,388474.69582018,260312.08898455,448314.69582018\n",
      "WIDTH=1598\n",
      "HEIGHT=935\n",
      "bbox_text : 158040.08898455,388474.69582018,260312.08898455,448314.69582018\n"
     ]
    },
    {
     "name": "stderr",
     "output_type": "stream",
     "text": [
      "  0%|          | 2/33698 [00:02<9:45:21,  1.04s/it]"
     ]
    },
    {
     "name": "stdout",
     "output_type": "stream",
     "text": [
      "Debugging - src content: <selenium.webdriver.remote.webelement.WebElement (session=\"5b06b3d12ca3a76e5c613afa896de233\", element=\"9E340076E16B0B12E9EB60FAF1C429D4_element_5389\")>\n",
      "Debugging - src content: https://taas.koroad.or.kr/gis36/TAAS/wms?LAYERS=GNRL_GIS_ACDNT_INFO_NON&STYLES=&FORMAT=image/png&TRANSPARENT=TRUE&TILED=false&TILESORIGIN=-30000,-60000&PROJECTION=EPSG:5179&DISPLAYPROJECTION=EPSG:5181&TRANSFORM=EPSG:5181&SERVICE=WMS&VERSION=1.1.1&REQUEST=GetMap&CQL_FILTER=(engn_code='00') and (acdnt_year between '2022' and '2022')  and (legaldong_code ilike '4146%') and (( acdnt_gae_code = '01') or ( acdnt_gae_code = '02') or ( acdnt_gae_code = '03') or ( acdnt_gae_code = '04')) and (( road_type = '6'))&SRS=EPSG:5181&BBOX=158041.22091531,396583.94392474,260313.22091531,456423.94392474&WIDTH=1598&HEIGHT=935\n",
      "src_split : ['https://taas.koroad.or.kr/gis36/TAAS/wms?LAYERS=GNRL_GIS_ACDNT_INFO_NON', 'STYLES=', 'FORMAT=image/png', 'TRANSPARENT=TRUE', 'TILED=false', 'TILESORIGIN=-30000,-60000', 'PROJECTION=EPSG:5179', 'DISPLAYPROJECTION=EPSG:5181', 'TRANSFORM=EPSG:5181', 'SERVICE=WMS', 'VERSION=1.1.1', 'REQUEST=GetMap', \"CQL_FILTER=(engn_code='00') and (acdnt_year between '2022' and '2022')  and (legaldong_code ilike '4146%') and (( acdnt_gae_code = '01') or ( acdnt_gae_code = '02') or ( acdnt_gae_code = '03') or ( acdnt_gae_code = '04')) and (( road_type = '6'))\", 'SRS=EPSG:5181', 'BBOX=158041.22091531,396583.94392474,260313.22091531,456423.94392474', 'WIDTH=1598', 'HEIGHT=935']\n",
      "Debugging - src_split:\n",
      "https://taas.koroad.or.kr/gis36/TAAS/wms?LAYERS=GNRL_GIS_ACDNT_INFO_NON\n",
      "STYLES=\n",
      "FORMAT=image/png\n",
      "TRANSPARENT=TRUE\n",
      "TILED=false\n",
      "TILESORIGIN=-30000,-60000\n",
      "PROJECTION=EPSG:5179\n",
      "DISPLAYPROJECTION=EPSG:5181\n",
      "TRANSFORM=EPSG:5181\n",
      "SERVICE=WMS\n",
      "VERSION=1.1.1\n",
      "REQUEST=GetMap\n",
      "CQL_FILTER=(engn_code='00') and (acdnt_year between '2022' and '2022')  and (legaldong_code ilike '4146%') and (( acdnt_gae_code = '01') or ( acdnt_gae_code = '02') or ( acdnt_gae_code = '03') or ( acdnt_gae_code = '04')) and (( road_type = '6'))\n",
      "SRS=EPSG:5181\n",
      "BBOX=158041.22091531,396583.94392474,260313.22091531,456423.94392474\n",
      "WIDTH=1598\n",
      "HEIGHT=935\n",
      "bbox_text : 158041.22091531,396583.94392474,260313.22091531,456423.94392474\n"
     ]
    },
    {
     "name": "stderr",
     "output_type": "stream",
     "text": [
      "  0%|          | 3/33698 [00:03<9:43:55,  1.04s/it]"
     ]
    },
    {
     "name": "stdout",
     "output_type": "stream",
     "text": [
      "Debugging - src content: <selenium.webdriver.remote.webelement.WebElement (session=\"5b06b3d12ca3a76e5c613afa896de233\", element=\"9E340076E16B0B12E9EB60FAF1C429D4_element_5846\")>\n",
      "Debugging - src content: https://taas.koroad.or.kr/gis36/TAAS/wms?LAYERS=GNRL_GIS_ACDNT_INFO_NON&STYLES=&FORMAT=image/png&TRANSPARENT=TRUE&TILED=false&TILESORIGIN=-30000,-60000&PROJECTION=EPSG:5179&DISPLAYPROJECTION=EPSG:5181&TRANSFORM=EPSG:5181&SERVICE=WMS&VERSION=1.1.1&REQUEST=GetMap&CQL_FILTER=(engn_code='00') and (acdnt_year between '2022' and '2022')  and (legaldong_code ilike '4146%') and (( acdnt_gae_code = '01') or ( acdnt_gae_code = '02') or ( acdnt_gae_code = '03') or ( acdnt_gae_code = '04')) and (( road_type = '6'))&SRS=EPSG:5181&BBOX=173729.49670994,386012.53885942,276001.49670994,445852.53885942&WIDTH=1598&HEIGHT=935\n",
      "src_split : ['https://taas.koroad.or.kr/gis36/TAAS/wms?LAYERS=GNRL_GIS_ACDNT_INFO_NON', 'STYLES=', 'FORMAT=image/png', 'TRANSPARENT=TRUE', 'TILED=false', 'TILESORIGIN=-30000,-60000', 'PROJECTION=EPSG:5179', 'DISPLAYPROJECTION=EPSG:5181', 'TRANSFORM=EPSG:5181', 'SERVICE=WMS', 'VERSION=1.1.1', 'REQUEST=GetMap', \"CQL_FILTER=(engn_code='00') and (acdnt_year between '2022' and '2022')  and (legaldong_code ilike '4146%') and (( acdnt_gae_code = '01') or ( acdnt_gae_code = '02') or ( acdnt_gae_code = '03') or ( acdnt_gae_code = '04')) and (( road_type = '6'))\", 'SRS=EPSG:5181', 'BBOX=173729.49670994,386012.53885942,276001.49670994,445852.53885942', 'WIDTH=1598', 'HEIGHT=935']\n",
      "Debugging - src_split:\n",
      "https://taas.koroad.or.kr/gis36/TAAS/wms?LAYERS=GNRL_GIS_ACDNT_INFO_NON\n",
      "STYLES=\n",
      "FORMAT=image/png\n",
      "TRANSPARENT=TRUE\n",
      "TILED=false\n",
      "TILESORIGIN=-30000,-60000\n",
      "PROJECTION=EPSG:5179\n",
      "DISPLAYPROJECTION=EPSG:5181\n",
      "TRANSFORM=EPSG:5181\n",
      "SERVICE=WMS\n",
      "VERSION=1.1.1\n",
      "REQUEST=GetMap\n",
      "CQL_FILTER=(engn_code='00') and (acdnt_year between '2022' and '2022')  and (legaldong_code ilike '4146%') and (( acdnt_gae_code = '01') or ( acdnt_gae_code = '02') or ( acdnt_gae_code = '03') or ( acdnt_gae_code = '04')) and (( road_type = '6'))\n",
      "SRS=EPSG:5181\n",
      "BBOX=173729.49670994,386012.53885942,276001.49670994,445852.53885942\n",
      "WIDTH=1598\n",
      "HEIGHT=935\n",
      "bbox_text : 173729.49670994,386012.53885942,276001.49670994,445852.53885942\n"
     ]
    },
    {
     "name": "stderr",
     "output_type": "stream",
     "text": [
      "  0%|          | 4/33698 [00:04<9:43:57,  1.04s/it]"
     ]
    },
    {
     "name": "stdout",
     "output_type": "stream",
     "text": [
      "Debugging - src content: <selenium.webdriver.remote.webelement.WebElement (session=\"5b06b3d12ca3a76e5c613afa896de233\", element=\"9E340076E16B0B12E9EB60FAF1C429D4_element_6303\")>\n",
      "Debugging - src content: https://taas.koroad.or.kr/gis36/TAAS/wms?LAYERS=GNRL_GIS_ACDNT_INFO_NON&STYLES=&FORMAT=image/png&TRANSPARENT=TRUE&TILED=false&TILESORIGIN=-30000,-60000&PROJECTION=EPSG:5179&DISPLAYPROJECTION=EPSG:5181&TRANSFORM=EPSG:5181&SERVICE=WMS&VERSION=1.1.1&REQUEST=GetMap&CQL_FILTER=(engn_code='00') and (acdnt_year between '2022' and '2022')  and (legaldong_code ilike '4146%') and (( acdnt_gae_code = '01') or ( acdnt_gae_code = '02') or ( acdnt_gae_code = '03') or ( acdnt_gae_code = '04')) and (( road_type = '6'))&SRS=EPSG:5181&BBOX=158080.39344077,391069.94633964,260352.39344077,450909.94633964&WIDTH=1598&HEIGHT=935\n",
      "src_split : ['https://taas.koroad.or.kr/gis36/TAAS/wms?LAYERS=GNRL_GIS_ACDNT_INFO_NON', 'STYLES=', 'FORMAT=image/png', 'TRANSPARENT=TRUE', 'TILED=false', 'TILESORIGIN=-30000,-60000', 'PROJECTION=EPSG:5179', 'DISPLAYPROJECTION=EPSG:5181', 'TRANSFORM=EPSG:5181', 'SERVICE=WMS', 'VERSION=1.1.1', 'REQUEST=GetMap', \"CQL_FILTER=(engn_code='00') and (acdnt_year between '2022' and '2022')  and (legaldong_code ilike '4146%') and (( acdnt_gae_code = '01') or ( acdnt_gae_code = '02') or ( acdnt_gae_code = '03') or ( acdnt_gae_code = '04')) and (( road_type = '6'))\", 'SRS=EPSG:5181', 'BBOX=158080.39344077,391069.94633964,260352.39344077,450909.94633964', 'WIDTH=1598', 'HEIGHT=935']\n",
      "Debugging - src_split:\n",
      "https://taas.koroad.or.kr/gis36/TAAS/wms?LAYERS=GNRL_GIS_ACDNT_INFO_NON\n",
      "STYLES=\n",
      "FORMAT=image/png\n",
      "TRANSPARENT=TRUE\n",
      "TILED=false\n",
      "TILESORIGIN=-30000,-60000\n",
      "PROJECTION=EPSG:5179\n",
      "DISPLAYPROJECTION=EPSG:5181\n",
      "TRANSFORM=EPSG:5181\n",
      "SERVICE=WMS\n",
      "VERSION=1.1.1\n",
      "REQUEST=GetMap\n",
      "CQL_FILTER=(engn_code='00') and (acdnt_year between '2022' and '2022')  and (legaldong_code ilike '4146%') and (( acdnt_gae_code = '01') or ( acdnt_gae_code = '02') or ( acdnt_gae_code = '03') or ( acdnt_gae_code = '04')) and (( road_type = '6'))\n",
      "SRS=EPSG:5181\n",
      "BBOX=158080.39344077,391069.94633964,260352.39344077,450909.94633964\n",
      "WIDTH=1598\n",
      "HEIGHT=935\n",
      "bbox_text : 158080.39344077,391069.94633964,260352.39344077,450909.94633964\n"
     ]
    },
    {
     "name": "stderr",
     "output_type": "stream",
     "text": [
      "  0%|          | 5/33698 [00:05<9:41:32,  1.04s/it]"
     ]
    },
    {
     "name": "stdout",
     "output_type": "stream",
     "text": [
      "Debugging - src content: <selenium.webdriver.remote.webelement.WebElement (session=\"5b06b3d12ca3a76e5c613afa896de233\", element=\"9E340076E16B0B12E9EB60FAF1C429D4_element_6743\")>\n",
      "Debugging - src content: https://taas.koroad.or.kr/gis36/TAAS/wms?LAYERS=GNRL_GIS_ACDNT_INFO_NON&STYLES=&FORMAT=image/png&TRANSPARENT=TRUE&TILED=false&TILESORIGIN=-30000,-60000&PROJECTION=EPSG:5179&DISPLAYPROJECTION=EPSG:5181&TRANSFORM=EPSG:5181&SERVICE=WMS&VERSION=1.1.1&REQUEST=GetMap&CQL_FILTER=(engn_code='00') and (acdnt_year between '2022' and '2022')  and (legaldong_code ilike '4146%') and (( acdnt_gae_code = '01') or ( acdnt_gae_code = '02') or ( acdnt_gae_code = '03') or ( acdnt_gae_code = '04')) and (( road_type = '6'))&SRS=EPSG:5181&BBOX=158024.0626828,391695.89888425,260296.0626828,451535.89888425&WIDTH=1598&HEIGHT=935\n",
      "src_split : ['https://taas.koroad.or.kr/gis36/TAAS/wms?LAYERS=GNRL_GIS_ACDNT_INFO_NON', 'STYLES=', 'FORMAT=image/png', 'TRANSPARENT=TRUE', 'TILED=false', 'TILESORIGIN=-30000,-60000', 'PROJECTION=EPSG:5179', 'DISPLAYPROJECTION=EPSG:5181', 'TRANSFORM=EPSG:5181', 'SERVICE=WMS', 'VERSION=1.1.1', 'REQUEST=GetMap', \"CQL_FILTER=(engn_code='00') and (acdnt_year between '2022' and '2022')  and (legaldong_code ilike '4146%') and (( acdnt_gae_code = '01') or ( acdnt_gae_code = '02') or ( acdnt_gae_code = '03') or ( acdnt_gae_code = '04')) and (( road_type = '6'))\", 'SRS=EPSG:5181', 'BBOX=158024.0626828,391695.89888425,260296.0626828,451535.89888425', 'WIDTH=1598', 'HEIGHT=935']\n",
      "Debugging - src_split:\n",
      "https://taas.koroad.or.kr/gis36/TAAS/wms?LAYERS=GNRL_GIS_ACDNT_INFO_NON\n",
      "STYLES=\n",
      "FORMAT=image/png\n",
      "TRANSPARENT=TRUE\n",
      "TILED=false\n",
      "TILESORIGIN=-30000,-60000\n",
      "PROJECTION=EPSG:5179\n",
      "DISPLAYPROJECTION=EPSG:5181\n",
      "TRANSFORM=EPSG:5181\n",
      "SERVICE=WMS\n",
      "VERSION=1.1.1\n",
      "REQUEST=GetMap\n",
      "CQL_FILTER=(engn_code='00') and (acdnt_year between '2022' and '2022')  and (legaldong_code ilike '4146%') and (( acdnt_gae_code = '01') or ( acdnt_gae_code = '02') or ( acdnt_gae_code = '03') or ( acdnt_gae_code = '04')) and (( road_type = '6'))\n",
      "SRS=EPSG:5181\n",
      "BBOX=158024.0626828,391695.89888425,260296.0626828,451535.89888425\n",
      "WIDTH=1598\n",
      "HEIGHT=935\n",
      "bbox_text : 158024.0626828,391695.89888425,260296.0626828,451535.89888425\n"
     ]
    },
    {
     "name": "stderr",
     "output_type": "stream",
     "text": [
      "  0%|          | 6/33698 [00:06<9:41:35,  1.04s/it]"
     ]
    },
    {
     "name": "stdout",
     "output_type": "stream",
     "text": [
      "Debugging - src content: <selenium.webdriver.remote.webelement.WebElement (session=\"5b06b3d12ca3a76e5c613afa896de233\", element=\"9E340076E16B0B12E9EB60FAF1C429D4_element_7183\")>\n",
      "Debugging - src content: https://taas.koroad.or.kr/gis36/TAAS/wms?LAYERS=GNRL_GIS_ACDNT_INFO_NON&STYLES=&FORMAT=image/png&TRANSPARENT=TRUE&TILED=false&TILESORIGIN=-30000,-60000&PROJECTION=EPSG:5179&DISPLAYPROJECTION=EPSG:5181&TRANSFORM=EPSG:5181&SERVICE=WMS&VERSION=1.1.1&REQUEST=GetMap&CQL_FILTER=(engn_code='00') and (acdnt_year between '2022' and '2022')  and (legaldong_code ilike '4146%') and (( acdnt_gae_code = '01') or ( acdnt_gae_code = '02') or ( acdnt_gae_code = '03') or ( acdnt_gae_code = '04')) and (( road_type = '6'))&SRS=EPSG:5181&BBOX=158075.80591178,390234.58809908,260347.80591178,450074.58809908&WIDTH=1598&HEIGHT=935\n",
      "src_split : ['https://taas.koroad.or.kr/gis36/TAAS/wms?LAYERS=GNRL_GIS_ACDNT_INFO_NON', 'STYLES=', 'FORMAT=image/png', 'TRANSPARENT=TRUE', 'TILED=false', 'TILESORIGIN=-30000,-60000', 'PROJECTION=EPSG:5179', 'DISPLAYPROJECTION=EPSG:5181', 'TRANSFORM=EPSG:5181', 'SERVICE=WMS', 'VERSION=1.1.1', 'REQUEST=GetMap', \"CQL_FILTER=(engn_code='00') and (acdnt_year between '2022' and '2022')  and (legaldong_code ilike '4146%') and (( acdnt_gae_code = '01') or ( acdnt_gae_code = '02') or ( acdnt_gae_code = '03') or ( acdnt_gae_code = '04')) and (( road_type = '6'))\", 'SRS=EPSG:5181', 'BBOX=158075.80591178,390234.58809908,260347.80591178,450074.58809908', 'WIDTH=1598', 'HEIGHT=935']\n",
      "Debugging - src_split:\n",
      "https://taas.koroad.or.kr/gis36/TAAS/wms?LAYERS=GNRL_GIS_ACDNT_INFO_NON\n",
      "STYLES=\n",
      "FORMAT=image/png\n",
      "TRANSPARENT=TRUE\n",
      "TILED=false\n",
      "TILESORIGIN=-30000,-60000\n",
      "PROJECTION=EPSG:5179\n",
      "DISPLAYPROJECTION=EPSG:5181\n",
      "TRANSFORM=EPSG:5181\n",
      "SERVICE=WMS\n",
      "VERSION=1.1.1\n",
      "REQUEST=GetMap\n",
      "CQL_FILTER=(engn_code='00') and (acdnt_year between '2022' and '2022')  and (legaldong_code ilike '4146%') and (( acdnt_gae_code = '01') or ( acdnt_gae_code = '02') or ( acdnt_gae_code = '03') or ( acdnt_gae_code = '04')) and (( road_type = '6'))\n",
      "SRS=EPSG:5181\n",
      "BBOX=158075.80591178,390234.58809908,260347.80591178,450074.58809908\n",
      "WIDTH=1598\n",
      "HEIGHT=935\n",
      "bbox_text : 158075.80591178,390234.58809908,260347.80591178,450074.58809908\n"
     ]
    },
    {
     "name": "stderr",
     "output_type": "stream",
     "text": [
      "  0%|          | 7/33698 [00:07<9:41:27,  1.04s/it]"
     ]
    },
    {
     "name": "stdout",
     "output_type": "stream",
     "text": [
      "Debugging - src content: <selenium.webdriver.remote.webelement.WebElement (session=\"5b06b3d12ca3a76e5c613afa896de233\", element=\"9E340076E16B0B12E9EB60FAF1C429D4_element_7623\")>\n",
      "Debugging - src content: https://taas.koroad.or.kr/gis36/TAAS/wms?LAYERS=GNRL_GIS_ACDNT_INFO_NON&STYLES=&FORMAT=image/png&TRANSPARENT=TRUE&TILED=false&TILESORIGIN=-30000,-60000&PROJECTION=EPSG:5179&DISPLAYPROJECTION=EPSG:5181&TRANSFORM=EPSG:5181&SERVICE=WMS&VERSION=1.1.1&REQUEST=GetMap&CQL_FILTER=(engn_code='00') and (acdnt_year between '2022' and '2022')  and (legaldong_code ilike '4146%') and (( acdnt_gae_code = '01') or ( acdnt_gae_code = '02') or ( acdnt_gae_code = '03') or ( acdnt_gae_code = '04')) and (( road_type = '6'))&SRS=EPSG:5181&BBOX=157898.19202678,388823.0855474,260170.19202678,448663.0855474&WIDTH=1598&HEIGHT=935\n",
      "src_split : ['https://taas.koroad.or.kr/gis36/TAAS/wms?LAYERS=GNRL_GIS_ACDNT_INFO_NON', 'STYLES=', 'FORMAT=image/png', 'TRANSPARENT=TRUE', 'TILED=false', 'TILESORIGIN=-30000,-60000', 'PROJECTION=EPSG:5179', 'DISPLAYPROJECTION=EPSG:5181', 'TRANSFORM=EPSG:5181', 'SERVICE=WMS', 'VERSION=1.1.1', 'REQUEST=GetMap', \"CQL_FILTER=(engn_code='00') and (acdnt_year between '2022' and '2022')  and (legaldong_code ilike '4146%') and (( acdnt_gae_code = '01') or ( acdnt_gae_code = '02') or ( acdnt_gae_code = '03') or ( acdnt_gae_code = '04')) and (( road_type = '6'))\", 'SRS=EPSG:5181', 'BBOX=157898.19202678,388823.0855474,260170.19202678,448663.0855474', 'WIDTH=1598', 'HEIGHT=935']\n",
      "Debugging - src_split:\n",
      "https://taas.koroad.or.kr/gis36/TAAS/wms?LAYERS=GNRL_GIS_ACDNT_INFO_NON\n",
      "STYLES=\n",
      "FORMAT=image/png\n",
      "TRANSPARENT=TRUE\n",
      "TILED=false\n",
      "TILESORIGIN=-30000,-60000\n",
      "PROJECTION=EPSG:5179\n",
      "DISPLAYPROJECTION=EPSG:5181\n",
      "TRANSFORM=EPSG:5181\n",
      "SERVICE=WMS\n",
      "VERSION=1.1.1\n",
      "REQUEST=GetMap\n",
      "CQL_FILTER=(engn_code='00') and (acdnt_year between '2022' and '2022')  and (legaldong_code ilike '4146%') and (( acdnt_gae_code = '01') or ( acdnt_gae_code = '02') or ( acdnt_gae_code = '03') or ( acdnt_gae_code = '04')) and (( road_type = '6'))\n",
      "SRS=EPSG:5181\n",
      "BBOX=157898.19202678,388823.0855474,260170.19202678,448663.0855474\n",
      "WIDTH=1598\n",
      "HEIGHT=935\n",
      "bbox_text : 157898.19202678,388823.0855474,260170.19202678,448663.0855474\n"
     ]
    },
    {
     "name": "stderr",
     "output_type": "stream",
     "text": [
      "  0%|          | 8/33698 [00:08<9:41:43,  1.04s/it]"
     ]
    },
    {
     "name": "stdout",
     "output_type": "stream",
     "text": [
      "Debugging - src content: <selenium.webdriver.remote.webelement.WebElement (session=\"5b06b3d12ca3a76e5c613afa896de233\", element=\"9E340076E16B0B12E9EB60FAF1C429D4_element_8083\")>\n",
      "Debugging - src content: https://taas.koroad.or.kr/gis36/TAAS/wms?LAYERS=GNRL_GIS_ACDNT_INFO_NON&STYLES=&FORMAT=image/png&TRANSPARENT=TRUE&TILED=false&TILESORIGIN=-30000,-60000&PROJECTION=EPSG:5179&DISPLAYPROJECTION=EPSG:5181&TRANSFORM=EPSG:5181&SERVICE=WMS&VERSION=1.1.1&REQUEST=GetMap&CQL_FILTER=(engn_code='00') and (acdnt_year between '2022' and '2022')  and (legaldong_code ilike '4146%') and (( acdnt_gae_code = '01') or ( acdnt_gae_code = '02') or ( acdnt_gae_code = '03') or ( acdnt_gae_code = '04')) and (( road_type = '6'))&SRS=EPSG:5181&BBOX=159623.24722064,369785.55622113,261895.24722064,429625.55622113&WIDTH=1598&HEIGHT=935\n",
      "src_split : ['https://taas.koroad.or.kr/gis36/TAAS/wms?LAYERS=GNRL_GIS_ACDNT_INFO_NON', 'STYLES=', 'FORMAT=image/png', 'TRANSPARENT=TRUE', 'TILED=false', 'TILESORIGIN=-30000,-60000', 'PROJECTION=EPSG:5179', 'DISPLAYPROJECTION=EPSG:5181', 'TRANSFORM=EPSG:5181', 'SERVICE=WMS', 'VERSION=1.1.1', 'REQUEST=GetMap', \"CQL_FILTER=(engn_code='00') and (acdnt_year between '2022' and '2022')  and (legaldong_code ilike '4146%') and (( acdnt_gae_code = '01') or ( acdnt_gae_code = '02') or ( acdnt_gae_code = '03') or ( acdnt_gae_code = '04')) and (( road_type = '6'))\", 'SRS=EPSG:5181', 'BBOX=159623.24722064,369785.55622113,261895.24722064,429625.55622113', 'WIDTH=1598', 'HEIGHT=935']\n",
      "Debugging - src_split:\n",
      "https://taas.koroad.or.kr/gis36/TAAS/wms?LAYERS=GNRL_GIS_ACDNT_INFO_NON\n",
      "STYLES=\n",
      "FORMAT=image/png\n",
      "TRANSPARENT=TRUE\n",
      "TILED=false\n",
      "TILESORIGIN=-30000,-60000\n",
      "PROJECTION=EPSG:5179\n",
      "DISPLAYPROJECTION=EPSG:5181\n",
      "TRANSFORM=EPSG:5181\n",
      "SERVICE=WMS\n",
      "VERSION=1.1.1\n",
      "REQUEST=GetMap\n",
      "CQL_FILTER=(engn_code='00') and (acdnt_year between '2022' and '2022')  and (legaldong_code ilike '4146%') and (( acdnt_gae_code = '01') or ( acdnt_gae_code = '02') or ( acdnt_gae_code = '03') or ( acdnt_gae_code = '04')) and (( road_type = '6'))\n",
      "SRS=EPSG:5181\n",
      "BBOX=159623.24722064,369785.55622113,261895.24722064,429625.55622113\n",
      "WIDTH=1598\n",
      "HEIGHT=935\n",
      "bbox_text : 159623.24722064,369785.55622113,261895.24722064,429625.55622113\n"
     ]
    },
    {
     "name": "stderr",
     "output_type": "stream",
     "text": [
      "  0%|          | 9/33698 [00:09<9:42:22,  1.04s/it]"
     ]
    },
    {
     "name": "stdout",
     "output_type": "stream",
     "text": [
      "Debugging - src content: <selenium.webdriver.remote.webelement.WebElement (session=\"5b06b3d12ca3a76e5c613afa896de233\", element=\"9E340076E16B0B12E9EB60FAF1C429D4_element_8543\")>\n",
      "Debugging - src content: https://taas.koroad.or.kr/gis36/TAAS/wms?LAYERS=GNRL_GIS_ACDNT_INFO_NON&STYLES=&FORMAT=image/png&TRANSPARENT=TRUE&TILED=false&TILESORIGIN=-30000,-60000&PROJECTION=EPSG:5179&DISPLAYPROJECTION=EPSG:5181&TRANSFORM=EPSG:5181&SERVICE=WMS&VERSION=1.1.1&REQUEST=GetMap&CQL_FILTER=(engn_code='00') and (acdnt_year between '2022' and '2022')  and (legaldong_code ilike '4146%') and (( acdnt_gae_code = '01') or ( acdnt_gae_code = '02') or ( acdnt_gae_code = '03') or ( acdnt_gae_code = '04')) and (( road_type = '6'))&SRS=EPSG:5181&BBOX=159951.79599158,391324.93875139,262223.79599158,451164.93875139&WIDTH=1598&HEIGHT=935\n",
      "src_split : ['https://taas.koroad.or.kr/gis36/TAAS/wms?LAYERS=GNRL_GIS_ACDNT_INFO_NON', 'STYLES=', 'FORMAT=image/png', 'TRANSPARENT=TRUE', 'TILED=false', 'TILESORIGIN=-30000,-60000', 'PROJECTION=EPSG:5179', 'DISPLAYPROJECTION=EPSG:5181', 'TRANSFORM=EPSG:5181', 'SERVICE=WMS', 'VERSION=1.1.1', 'REQUEST=GetMap', \"CQL_FILTER=(engn_code='00') and (acdnt_year between '2022' and '2022')  and (legaldong_code ilike '4146%') and (( acdnt_gae_code = '01') or ( acdnt_gae_code = '02') or ( acdnt_gae_code = '03') or ( acdnt_gae_code = '04')) and (( road_type = '6'))\", 'SRS=EPSG:5181', 'BBOX=159951.79599158,391324.93875139,262223.79599158,451164.93875139', 'WIDTH=1598', 'HEIGHT=935']\n",
      "Debugging - src_split:\n",
      "https://taas.koroad.or.kr/gis36/TAAS/wms?LAYERS=GNRL_GIS_ACDNT_INFO_NON\n",
      "STYLES=\n",
      "FORMAT=image/png\n",
      "TRANSPARENT=TRUE\n",
      "TILED=false\n",
      "TILESORIGIN=-30000,-60000\n",
      "PROJECTION=EPSG:5179\n",
      "DISPLAYPROJECTION=EPSG:5181\n",
      "TRANSFORM=EPSG:5181\n",
      "SERVICE=WMS\n",
      "VERSION=1.1.1\n",
      "REQUEST=GetMap\n",
      "CQL_FILTER=(engn_code='00') and (acdnt_year between '2022' and '2022')  and (legaldong_code ilike '4146%') and (( acdnt_gae_code = '01') or ( acdnt_gae_code = '02') or ( acdnt_gae_code = '03') or ( acdnt_gae_code = '04')) and (( road_type = '6'))\n",
      "SRS=EPSG:5181\n",
      "BBOX=159951.79599158,391324.93875139,262223.79599158,451164.93875139\n",
      "WIDTH=1598\n",
      "HEIGHT=935\n",
      "bbox_text : 159951.79599158,391324.93875139,262223.79599158,451164.93875139\n"
     ]
    },
    {
     "name": "stderr",
     "output_type": "stream",
     "text": [
      "  0%|          | 10/33698 [00:10<9:41:32,  1.04s/it]"
     ]
    },
    {
     "name": "stdout",
     "output_type": "stream",
     "text": [
      "Debugging - src content: <selenium.webdriver.remote.webelement.WebElement (session=\"5b06b3d12ca3a76e5c613afa896de233\", element=\"9E340076E16B0B12E9EB60FAF1C429D4_element_8993\")>\n",
      "Debugging - src content: https://taas.koroad.or.kr/gis36/TAAS/wms?LAYERS=GNRL_GIS_ACDNT_INFO_NON&STYLES=&FORMAT=image/png&TRANSPARENT=TRUE&TILED=false&TILESORIGIN=-30000,-60000&PROJECTION=EPSG:5179&DISPLAYPROJECTION=EPSG:5181&TRANSFORM=EPSG:5181&SERVICE=WMS&VERSION=1.1.1&REQUEST=GetMap&CQL_FILTER=(engn_code='00') and (acdnt_year between '2022' and '2022')  and (legaldong_code ilike '4146%') and (( acdnt_gae_code = '01') or ( acdnt_gae_code = '02') or ( acdnt_gae_code = '03') or ( acdnt_gae_code = '04')) and (( road_type = '6'))&SRS=EPSG:5181&BBOX=158012.37076302,384062.78593158,260284.37076302,443902.78593158&WIDTH=1598&HEIGHT=935\n",
      "src_split : ['https://taas.koroad.or.kr/gis36/TAAS/wms?LAYERS=GNRL_GIS_ACDNT_INFO_NON', 'STYLES=', 'FORMAT=image/png', 'TRANSPARENT=TRUE', 'TILED=false', 'TILESORIGIN=-30000,-60000', 'PROJECTION=EPSG:5179', 'DISPLAYPROJECTION=EPSG:5181', 'TRANSFORM=EPSG:5181', 'SERVICE=WMS', 'VERSION=1.1.1', 'REQUEST=GetMap', \"CQL_FILTER=(engn_code='00') and (acdnt_year between '2022' and '2022')  and (legaldong_code ilike '4146%') and (( acdnt_gae_code = '01') or ( acdnt_gae_code = '02') or ( acdnt_gae_code = '03') or ( acdnt_gae_code = '04')) and (( road_type = '6'))\", 'SRS=EPSG:5181', 'BBOX=158012.37076302,384062.78593158,260284.37076302,443902.78593158', 'WIDTH=1598', 'HEIGHT=935']\n",
      "Debugging - src_split:\n",
      "https://taas.koroad.or.kr/gis36/TAAS/wms?LAYERS=GNRL_GIS_ACDNT_INFO_NON\n",
      "STYLES=\n",
      "FORMAT=image/png\n",
      "TRANSPARENT=TRUE\n",
      "TILED=false\n",
      "TILESORIGIN=-30000,-60000\n",
      "PROJECTION=EPSG:5179\n",
      "DISPLAYPROJECTION=EPSG:5181\n",
      "TRANSFORM=EPSG:5181\n",
      "SERVICE=WMS\n",
      "VERSION=1.1.1\n",
      "REQUEST=GetMap\n",
      "CQL_FILTER=(engn_code='00') and (acdnt_year between '2022' and '2022')  and (legaldong_code ilike '4146%') and (( acdnt_gae_code = '01') or ( acdnt_gae_code = '02') or ( acdnt_gae_code = '03') or ( acdnt_gae_code = '04')) and (( road_type = '6'))\n",
      "SRS=EPSG:5181\n",
      "BBOX=158012.37076302,384062.78593158,260284.37076302,443902.78593158\n",
      "WIDTH=1598\n",
      "HEIGHT=935\n",
      "bbox_text : 158012.37076302,384062.78593158,260284.37076302,443902.78593158\n"
     ]
    },
    {
     "name": "stderr",
     "output_type": "stream",
     "text": [
      "  0%|          | 11/33698 [00:11<9:40:57,  1.03s/it]"
     ]
    },
    {
     "name": "stdout",
     "output_type": "stream",
     "text": [
      "Debugging - src content: <selenium.webdriver.remote.webelement.WebElement (session=\"5b06b3d12ca3a76e5c613afa896de233\", element=\"9E340076E16B0B12E9EB60FAF1C429D4_element_9433\")>\n",
      "Debugging - src content: https://taas.koroad.or.kr/gis36/TAAS/wms?LAYERS=GNRL_GIS_ACDNT_INFO_NON&STYLES=&FORMAT=image/png&TRANSPARENT=TRUE&TILED=false&TILESORIGIN=-30000,-60000&PROJECTION=EPSG:5179&DISPLAYPROJECTION=EPSG:5181&TRANSFORM=EPSG:5181&SERVICE=WMS&VERSION=1.1.1&REQUEST=GetMap&CQL_FILTER=(engn_code='00') and (acdnt_year between '2022' and '2022')  and (legaldong_code ilike '4146%') and (( acdnt_gae_code = '01') or ( acdnt_gae_code = '02') or ( acdnt_gae_code = '03') or ( acdnt_gae_code = '04')) and (( road_type = '6'))&SRS=EPSG:5181&BBOX=158160.5676287,385931.31513254,260432.5676287,445771.31513254&WIDTH=1598&HEIGHT=935\n",
      "src_split : ['https://taas.koroad.or.kr/gis36/TAAS/wms?LAYERS=GNRL_GIS_ACDNT_INFO_NON', 'STYLES=', 'FORMAT=image/png', 'TRANSPARENT=TRUE', 'TILED=false', 'TILESORIGIN=-30000,-60000', 'PROJECTION=EPSG:5179', 'DISPLAYPROJECTION=EPSG:5181', 'TRANSFORM=EPSG:5181', 'SERVICE=WMS', 'VERSION=1.1.1', 'REQUEST=GetMap', \"CQL_FILTER=(engn_code='00') and (acdnt_year between '2022' and '2022')  and (legaldong_code ilike '4146%') and (( acdnt_gae_code = '01') or ( acdnt_gae_code = '02') or ( acdnt_gae_code = '03') or ( acdnt_gae_code = '04')) and (( road_type = '6'))\", 'SRS=EPSG:5181', 'BBOX=158160.5676287,385931.31513254,260432.5676287,445771.31513254', 'WIDTH=1598', 'HEIGHT=935']\n",
      "Debugging - src_split:\n",
      "https://taas.koroad.or.kr/gis36/TAAS/wms?LAYERS=GNRL_GIS_ACDNT_INFO_NON\n",
      "STYLES=\n",
      "FORMAT=image/png\n",
      "TRANSPARENT=TRUE\n",
      "TILED=false\n",
      "TILESORIGIN=-30000,-60000\n",
      "PROJECTION=EPSG:5179\n",
      "DISPLAYPROJECTION=EPSG:5181\n",
      "TRANSFORM=EPSG:5181\n",
      "SERVICE=WMS\n",
      "VERSION=1.1.1\n",
      "REQUEST=GetMap\n",
      "CQL_FILTER=(engn_code='00') and (acdnt_year between '2022' and '2022')  and (legaldong_code ilike '4146%') and (( acdnt_gae_code = '01') or ( acdnt_gae_code = '02') or ( acdnt_gae_code = '03') or ( acdnt_gae_code = '04')) and (( road_type = '6'))\n",
      "SRS=EPSG:5181\n",
      "BBOX=158160.5676287,385931.31513254,260432.5676287,445771.31513254\n",
      "WIDTH=1598\n",
      "HEIGHT=935\n",
      "bbox_text : 158160.5676287,385931.31513254,260432.5676287,445771.31513254\n"
     ]
    },
    {
     "name": "stderr",
     "output_type": "stream",
     "text": [
      "  0%|          | 12/33698 [00:12<9:39:37,  1.03s/it]"
     ]
    },
    {
     "name": "stdout",
     "output_type": "stream",
     "text": [
      "Debugging - src content: <selenium.webdriver.remote.webelement.WebElement (session=\"5b06b3d12ca3a76e5c613afa896de233\", element=\"9E340076E16B0B12E9EB60FAF1C429D4_element_9883\")>\n",
      "Debugging - src content: https://taas.koroad.or.kr/gis36/TAAS/wms?LAYERS=GNRL_GIS_ACDNT_INFO_NON&STYLES=&FORMAT=image/png&TRANSPARENT=TRUE&TILED=false&TILESORIGIN=-30000,-60000&PROJECTION=EPSG:5179&DISPLAYPROJECTION=EPSG:5181&TRANSFORM=EPSG:5181&SERVICE=WMS&VERSION=1.1.1&REQUEST=GetMap&CQL_FILTER=(engn_code='00') and (acdnt_year between '2022' and '2022')  and (legaldong_code ilike '4146%') and (( acdnt_gae_code = '01') or ( acdnt_gae_code = '02') or ( acdnt_gae_code = '03') or ( acdnt_gae_code = '04')) and (( road_type = '6'))&SRS=EPSG:5181&BBOX=157899.03380589,388853.1019889,260171.03380589,448693.1019889&WIDTH=1598&HEIGHT=935\n",
      "src_split : ['https://taas.koroad.or.kr/gis36/TAAS/wms?LAYERS=GNRL_GIS_ACDNT_INFO_NON', 'STYLES=', 'FORMAT=image/png', 'TRANSPARENT=TRUE', 'TILED=false', 'TILESORIGIN=-30000,-60000', 'PROJECTION=EPSG:5179', 'DISPLAYPROJECTION=EPSG:5181', 'TRANSFORM=EPSG:5181', 'SERVICE=WMS', 'VERSION=1.1.1', 'REQUEST=GetMap', \"CQL_FILTER=(engn_code='00') and (acdnt_year between '2022' and '2022')  and (legaldong_code ilike '4146%') and (( acdnt_gae_code = '01') or ( acdnt_gae_code = '02') or ( acdnt_gae_code = '03') or ( acdnt_gae_code = '04')) and (( road_type = '6'))\", 'SRS=EPSG:5181', 'BBOX=157899.03380589,388853.1019889,260171.03380589,448693.1019889', 'WIDTH=1598', 'HEIGHT=935']\n",
      "Debugging - src_split:\n",
      "https://taas.koroad.or.kr/gis36/TAAS/wms?LAYERS=GNRL_GIS_ACDNT_INFO_NON\n",
      "STYLES=\n",
      "FORMAT=image/png\n",
      "TRANSPARENT=TRUE\n",
      "TILED=false\n",
      "TILESORIGIN=-30000,-60000\n",
      "PROJECTION=EPSG:5179\n",
      "DISPLAYPROJECTION=EPSG:5181\n",
      "TRANSFORM=EPSG:5181\n",
      "SERVICE=WMS\n",
      "VERSION=1.1.1\n",
      "REQUEST=GetMap\n",
      "CQL_FILTER=(engn_code='00') and (acdnt_year between '2022' and '2022')  and (legaldong_code ilike '4146%') and (( acdnt_gae_code = '01') or ( acdnt_gae_code = '02') or ( acdnt_gae_code = '03') or ( acdnt_gae_code = '04')) and (( road_type = '6'))\n",
      "SRS=EPSG:5181\n",
      "BBOX=157899.03380589,388853.1019889,260171.03380589,448693.1019889\n",
      "WIDTH=1598\n",
      "HEIGHT=935\n",
      "bbox_text : 157899.03380589,388853.1019889,260171.03380589,448693.1019889\n"
     ]
    },
    {
     "name": "stderr",
     "output_type": "stream",
     "text": [
      "  0%|          | 13/33698 [00:13<9:39:03,  1.03s/it]"
     ]
    },
    {
     "name": "stdout",
     "output_type": "stream",
     "text": [
      "Debugging - src content: <selenium.webdriver.remote.webelement.WebElement (session=\"5b06b3d12ca3a76e5c613afa896de233\", element=\"9E340076E16B0B12E9EB60FAF1C429D4_element_10323\")>\n",
      "Debugging - src content: https://taas.koroad.or.kr/gis36/TAAS/wms?LAYERS=GNRL_GIS_ACDNT_INFO_NON&STYLES=&FORMAT=image/png&TRANSPARENT=TRUE&TILED=false&TILESORIGIN=-30000,-60000&PROJECTION=EPSG:5179&DISPLAYPROJECTION=EPSG:5181&TRANSFORM=EPSG:5181&SERVICE=WMS&VERSION=1.1.1&REQUEST=GetMap&CQL_FILTER=(engn_code='00') and (acdnt_year between '2022' and '2022')  and (legaldong_code ilike '4146%') and (( acdnt_gae_code = '01') or ( acdnt_gae_code = '02') or ( acdnt_gae_code = '03') or ( acdnt_gae_code = '04')) and (( road_type = '6'))&SRS=EPSG:5181&BBOX=154029.5649273,395272.20022866,256301.5649273,455112.20022866&WIDTH=1598&HEIGHT=935\n",
      "src_split : ['https://taas.koroad.or.kr/gis36/TAAS/wms?LAYERS=GNRL_GIS_ACDNT_INFO_NON', 'STYLES=', 'FORMAT=image/png', 'TRANSPARENT=TRUE', 'TILED=false', 'TILESORIGIN=-30000,-60000', 'PROJECTION=EPSG:5179', 'DISPLAYPROJECTION=EPSG:5181', 'TRANSFORM=EPSG:5181', 'SERVICE=WMS', 'VERSION=1.1.1', 'REQUEST=GetMap', \"CQL_FILTER=(engn_code='00') and (acdnt_year between '2022' and '2022')  and (legaldong_code ilike '4146%') and (( acdnt_gae_code = '01') or ( acdnt_gae_code = '02') or ( acdnt_gae_code = '03') or ( acdnt_gae_code = '04')) and (( road_type = '6'))\", 'SRS=EPSG:5181', 'BBOX=154029.5649273,395272.20022866,256301.5649273,455112.20022866', 'WIDTH=1598', 'HEIGHT=935']\n",
      "Debugging - src_split:\n",
      "https://taas.koroad.or.kr/gis36/TAAS/wms?LAYERS=GNRL_GIS_ACDNT_INFO_NON\n",
      "STYLES=\n",
      "FORMAT=image/png\n",
      "TRANSPARENT=TRUE\n",
      "TILED=false\n",
      "TILESORIGIN=-30000,-60000\n",
      "PROJECTION=EPSG:5179\n",
      "DISPLAYPROJECTION=EPSG:5181\n",
      "TRANSFORM=EPSG:5181\n",
      "SERVICE=WMS\n",
      "VERSION=1.1.1\n",
      "REQUEST=GetMap\n",
      "CQL_FILTER=(engn_code='00') and (acdnt_year between '2022' and '2022')  and (legaldong_code ilike '4146%') and (( acdnt_gae_code = '01') or ( acdnt_gae_code = '02') or ( acdnt_gae_code = '03') or ( acdnt_gae_code = '04')) and (( road_type = '6'))\n",
      "SRS=EPSG:5181\n",
      "BBOX=154029.5649273,395272.20022866,256301.5649273,455112.20022866\n",
      "WIDTH=1598\n",
      "HEIGHT=935\n",
      "bbox_text : 154029.5649273,395272.20022866,256301.5649273,455112.20022866\n"
     ]
    },
    {
     "name": "stderr",
     "output_type": "stream",
     "text": [
      "  0%|          | 14/33698 [00:14<9:37:45,  1.03s/it]"
     ]
    },
    {
     "name": "stdout",
     "output_type": "stream",
     "text": [
      "Debugging - src content: <selenium.webdriver.remote.webelement.WebElement (session=\"5b06b3d12ca3a76e5c613afa896de233\", element=\"9E340076E16B0B12E9EB60FAF1C429D4_element_10763\")>\n",
      "Debugging - src content: https://taas.koroad.or.kr/gis36/TAAS/wms?LAYERS=GNRL_GIS_ACDNT_INFO_NON&STYLES=&FORMAT=image/png&TRANSPARENT=TRUE&TILED=false&TILESORIGIN=-30000,-60000&PROJECTION=EPSG:5179&DISPLAYPROJECTION=EPSG:5181&TRANSFORM=EPSG:5181&SERVICE=WMS&VERSION=1.1.1&REQUEST=GetMap&CQL_FILTER=(engn_code='00') and (acdnt_year between '2022' and '2022')  and (legaldong_code ilike '4146%') and (( acdnt_gae_code = '01') or ( acdnt_gae_code = '02') or ( acdnt_gae_code = '03') or ( acdnt_gae_code = '04')) and (( road_type = '6'))&SRS=EPSG:5181&BBOX=158047.49846377,393128.59556201,260319.49846377,452968.59556201&WIDTH=1598&HEIGHT=935\n",
      "src_split : ['https://taas.koroad.or.kr/gis36/TAAS/wms?LAYERS=GNRL_GIS_ACDNT_INFO_NON', 'STYLES=', 'FORMAT=image/png', 'TRANSPARENT=TRUE', 'TILED=false', 'TILESORIGIN=-30000,-60000', 'PROJECTION=EPSG:5179', 'DISPLAYPROJECTION=EPSG:5181', 'TRANSFORM=EPSG:5181', 'SERVICE=WMS', 'VERSION=1.1.1', 'REQUEST=GetMap', \"CQL_FILTER=(engn_code='00') and (acdnt_year between '2022' and '2022')  and (legaldong_code ilike '4146%') and (( acdnt_gae_code = '01') or ( acdnt_gae_code = '02') or ( acdnt_gae_code = '03') or ( acdnt_gae_code = '04')) and (( road_type = '6'))\", 'SRS=EPSG:5181', 'BBOX=158047.49846377,393128.59556201,260319.49846377,452968.59556201', 'WIDTH=1598', 'HEIGHT=935']\n",
      "Debugging - src_split:\n",
      "https://taas.koroad.or.kr/gis36/TAAS/wms?LAYERS=GNRL_GIS_ACDNT_INFO_NON\n",
      "STYLES=\n",
      "FORMAT=image/png\n",
      "TRANSPARENT=TRUE\n",
      "TILED=false\n",
      "TILESORIGIN=-30000,-60000\n",
      "PROJECTION=EPSG:5179\n",
      "DISPLAYPROJECTION=EPSG:5181\n",
      "TRANSFORM=EPSG:5181\n",
      "SERVICE=WMS\n",
      "VERSION=1.1.1\n",
      "REQUEST=GetMap\n",
      "CQL_FILTER=(engn_code='00') and (acdnt_year between '2022' and '2022')  and (legaldong_code ilike '4146%') and (( acdnt_gae_code = '01') or ( acdnt_gae_code = '02') or ( acdnt_gae_code = '03') or ( acdnt_gae_code = '04')) and (( road_type = '6'))\n",
      "SRS=EPSG:5181\n",
      "BBOX=158047.49846377,393128.59556201,260319.49846377,452968.59556201\n",
      "WIDTH=1598\n",
      "HEIGHT=935\n",
      "bbox_text : 158047.49846377,393128.59556201,260319.49846377,452968.59556201\n"
     ]
    },
    {
     "name": "stderr",
     "output_type": "stream",
     "text": [
      "  0%|          | 15/33698 [00:15<9:38:03,  1.03s/it]"
     ]
    },
    {
     "name": "stdout",
     "output_type": "stream",
     "text": [
      "Debugging - src content: <selenium.webdriver.remote.webelement.WebElement (session=\"5b06b3d12ca3a76e5c613afa896de233\", element=\"9E340076E16B0B12E9EB60FAF1C429D4_element_11203\")>\n",
      "Debugging - src content: https://taas.koroad.or.kr/gis36/TAAS/wms?LAYERS=GNRL_GIS_ACDNT_INFO_NON&STYLES=&FORMAT=image/png&TRANSPARENT=TRUE&TILED=false&TILESORIGIN=-30000,-60000&PROJECTION=EPSG:5179&DISPLAYPROJECTION=EPSG:5181&TRANSFORM=EPSG:5181&SERVICE=WMS&VERSION=1.1.1&REQUEST=GetMap&CQL_FILTER=(engn_code='00') and (acdnt_year between '2022' and '2022')  and (legaldong_code ilike '4146%') and (( acdnt_gae_code = '01') or ( acdnt_gae_code = '02') or ( acdnt_gae_code = '03') or ( acdnt_gae_code = '04')) and (( road_type = '6'))&SRS=EPSG:5181&BBOX=158057.60893736,389324.12795092,260329.60893736,449164.12795092&WIDTH=1598&HEIGHT=935\n",
      "src_split : ['https://taas.koroad.or.kr/gis36/TAAS/wms?LAYERS=GNRL_GIS_ACDNT_INFO_NON', 'STYLES=', 'FORMAT=image/png', 'TRANSPARENT=TRUE', 'TILED=false', 'TILESORIGIN=-30000,-60000', 'PROJECTION=EPSG:5179', 'DISPLAYPROJECTION=EPSG:5181', 'TRANSFORM=EPSG:5181', 'SERVICE=WMS', 'VERSION=1.1.1', 'REQUEST=GetMap', \"CQL_FILTER=(engn_code='00') and (acdnt_year between '2022' and '2022')  and (legaldong_code ilike '4146%') and (( acdnt_gae_code = '01') or ( acdnt_gae_code = '02') or ( acdnt_gae_code = '03') or ( acdnt_gae_code = '04')) and (( road_type = '6'))\", 'SRS=EPSG:5181', 'BBOX=158057.60893736,389324.12795092,260329.60893736,449164.12795092', 'WIDTH=1598', 'HEIGHT=935']\n",
      "Debugging - src_split:\n",
      "https://taas.koroad.or.kr/gis36/TAAS/wms?LAYERS=GNRL_GIS_ACDNT_INFO_NON\n",
      "STYLES=\n",
      "FORMAT=image/png\n",
      "TRANSPARENT=TRUE\n",
      "TILED=false\n",
      "TILESORIGIN=-30000,-60000\n",
      "PROJECTION=EPSG:5179\n",
      "DISPLAYPROJECTION=EPSG:5181\n",
      "TRANSFORM=EPSG:5181\n",
      "SERVICE=WMS\n",
      "VERSION=1.1.1\n",
      "REQUEST=GetMap\n",
      "CQL_FILTER=(engn_code='00') and (acdnt_year between '2022' and '2022')  and (legaldong_code ilike '4146%') and (( acdnt_gae_code = '01') or ( acdnt_gae_code = '02') or ( acdnt_gae_code = '03') or ( acdnt_gae_code = '04')) and (( road_type = '6'))\n",
      "SRS=EPSG:5181\n",
      "BBOX=158057.60893736,389324.12795092,260329.60893736,449164.12795092\n",
      "WIDTH=1598\n",
      "HEIGHT=935\n",
      "bbox_text : 158057.60893736,389324.12795092,260329.60893736,449164.12795092\n"
     ]
    },
    {
     "name": "stderr",
     "output_type": "stream",
     "text": [
      "  0%|          | 16/33698 [00:16<9:39:17,  1.03s/it]"
     ]
    },
    {
     "name": "stdout",
     "output_type": "stream",
     "text": [
      "Debugging - src content: <selenium.webdriver.remote.webelement.WebElement (session=\"5b06b3d12ca3a76e5c613afa896de233\", element=\"9E340076E16B0B12E9EB60FAF1C429D4_element_11653\")>\n",
      "Debugging - src content: https://taas.koroad.or.kr/gis36/TAAS/wms?LAYERS=GNRL_GIS_ACDNT_INFO_NON&STYLES=&FORMAT=image/png&TRANSPARENT=TRUE&TILED=false&TILESORIGIN=-30000,-60000&PROJECTION=EPSG:5179&DISPLAYPROJECTION=EPSG:5181&TRANSFORM=EPSG:5181&SERVICE=WMS&VERSION=1.1.1&REQUEST=GetMap&CQL_FILTER=(engn_code='00') and (acdnt_year between '2022' and '2022')  and (legaldong_code ilike '4146%') and (( acdnt_gae_code = '01') or ( acdnt_gae_code = '02') or ( acdnt_gae_code = '03') or ( acdnt_gae_code = '04')) and (( road_type = '6'))&SRS=EPSG:5181&BBOX=157943.03127552,383932.36790157,260215.03127552,443772.36790157&WIDTH=1598&HEIGHT=935\n",
      "src_split : ['https://taas.koroad.or.kr/gis36/TAAS/wms?LAYERS=GNRL_GIS_ACDNT_INFO_NON', 'STYLES=', 'FORMAT=image/png', 'TRANSPARENT=TRUE', 'TILED=false', 'TILESORIGIN=-30000,-60000', 'PROJECTION=EPSG:5179', 'DISPLAYPROJECTION=EPSG:5181', 'TRANSFORM=EPSG:5181', 'SERVICE=WMS', 'VERSION=1.1.1', 'REQUEST=GetMap', \"CQL_FILTER=(engn_code='00') and (acdnt_year between '2022' and '2022')  and (legaldong_code ilike '4146%') and (( acdnt_gae_code = '01') or ( acdnt_gae_code = '02') or ( acdnt_gae_code = '03') or ( acdnt_gae_code = '04')) and (( road_type = '6'))\", 'SRS=EPSG:5181', 'BBOX=157943.03127552,383932.36790157,260215.03127552,443772.36790157', 'WIDTH=1598', 'HEIGHT=935']\n",
      "Debugging - src_split:\n",
      "https://taas.koroad.or.kr/gis36/TAAS/wms?LAYERS=GNRL_GIS_ACDNT_INFO_NON\n",
      "STYLES=\n",
      "FORMAT=image/png\n",
      "TRANSPARENT=TRUE\n",
      "TILED=false\n",
      "TILESORIGIN=-30000,-60000\n",
      "PROJECTION=EPSG:5179\n",
      "DISPLAYPROJECTION=EPSG:5181\n",
      "TRANSFORM=EPSG:5181\n",
      "SERVICE=WMS\n",
      "VERSION=1.1.1\n",
      "REQUEST=GetMap\n",
      "CQL_FILTER=(engn_code='00') and (acdnt_year between '2022' and '2022')  and (legaldong_code ilike '4146%') and (( acdnt_gae_code = '01') or ( acdnt_gae_code = '02') or ( acdnt_gae_code = '03') or ( acdnt_gae_code = '04')) and (( road_type = '6'))\n",
      "SRS=EPSG:5181\n",
      "BBOX=157943.03127552,383932.36790157,260215.03127552,443772.36790157\n",
      "WIDTH=1598\n",
      "HEIGHT=935\n",
      "bbox_text : 157943.03127552,383932.36790157,260215.03127552,443772.36790157\n"
     ]
    },
    {
     "name": "stderr",
     "output_type": "stream",
     "text": [
      "  0%|          | 17/33698 [00:17<9:39:07,  1.03s/it]"
     ]
    },
    {
     "name": "stdout",
     "output_type": "stream",
     "text": [
      "Debugging - src content: <selenium.webdriver.remote.webelement.WebElement (session=\"5b06b3d12ca3a76e5c613afa896de233\", element=\"9E340076E16B0B12E9EB60FAF1C429D4_element_12103\")>\n",
      "Debugging - src content: https://taas.koroad.or.kr/gis36/TAAS/wms?LAYERS=GNRL_GIS_ACDNT_INFO_NON&STYLES=&FORMAT=image/png&TRANSPARENT=TRUE&TILED=false&TILESORIGIN=-30000,-60000&PROJECTION=EPSG:5179&DISPLAYPROJECTION=EPSG:5181&TRANSFORM=EPSG:5181&SERVICE=WMS&VERSION=1.1.1&REQUEST=GetMap&CQL_FILTER=(engn_code='00') and (acdnt_year between '2022' and '2022')  and (legaldong_code ilike '4146%') and (( acdnt_gae_code = '01') or ( acdnt_gae_code = '02') or ( acdnt_gae_code = '03') or ( acdnt_gae_code = '04')) and (( road_type = '6'))&SRS=EPSG:5181&BBOX=158034.01590082,390948.65275342,260306.01590082,450788.65275342&WIDTH=1598&HEIGHT=935\n",
      "src_split : ['https://taas.koroad.or.kr/gis36/TAAS/wms?LAYERS=GNRL_GIS_ACDNT_INFO_NON', 'STYLES=', 'FORMAT=image/png', 'TRANSPARENT=TRUE', 'TILED=false', 'TILESORIGIN=-30000,-60000', 'PROJECTION=EPSG:5179', 'DISPLAYPROJECTION=EPSG:5181', 'TRANSFORM=EPSG:5181', 'SERVICE=WMS', 'VERSION=1.1.1', 'REQUEST=GetMap', \"CQL_FILTER=(engn_code='00') and (acdnt_year between '2022' and '2022')  and (legaldong_code ilike '4146%') and (( acdnt_gae_code = '01') or ( acdnt_gae_code = '02') or ( acdnt_gae_code = '03') or ( acdnt_gae_code = '04')) and (( road_type = '6'))\", 'SRS=EPSG:5181', 'BBOX=158034.01590082,390948.65275342,260306.01590082,450788.65275342', 'WIDTH=1598', 'HEIGHT=935']\n",
      "Debugging - src_split:\n",
      "https://taas.koroad.or.kr/gis36/TAAS/wms?LAYERS=GNRL_GIS_ACDNT_INFO_NON\n",
      "STYLES=\n",
      "FORMAT=image/png\n",
      "TRANSPARENT=TRUE\n",
      "TILED=false\n",
      "TILESORIGIN=-30000,-60000\n",
      "PROJECTION=EPSG:5179\n",
      "DISPLAYPROJECTION=EPSG:5181\n",
      "TRANSFORM=EPSG:5181\n",
      "SERVICE=WMS\n",
      "VERSION=1.1.1\n",
      "REQUEST=GetMap\n",
      "CQL_FILTER=(engn_code='00') and (acdnt_year between '2022' and '2022')  and (legaldong_code ilike '4146%') and (( acdnt_gae_code = '01') or ( acdnt_gae_code = '02') or ( acdnt_gae_code = '03') or ( acdnt_gae_code = '04')) and (( road_type = '6'))\n",
      "SRS=EPSG:5181\n",
      "BBOX=158034.01590082,390948.65275342,260306.01590082,450788.65275342\n",
      "WIDTH=1598\n",
      "HEIGHT=935\n",
      "bbox_text : 158034.01590082,390948.65275342,260306.01590082,450788.65275342\n"
     ]
    },
    {
     "name": "stderr",
     "output_type": "stream",
     "text": [
      "  0%|          | 18/33698 [00:18<9:38:59,  1.03s/it]"
     ]
    },
    {
     "name": "stdout",
     "output_type": "stream",
     "text": [
      "Debugging - src content: <selenium.webdriver.remote.webelement.WebElement (session=\"5b06b3d12ca3a76e5c613afa896de233\", element=\"9E340076E16B0B12E9EB60FAF1C429D4_element_12543\")>\n",
      "Debugging - src content: https://taas.koroad.or.kr/gis36/TAAS/wms?LAYERS=GNRL_GIS_ACDNT_INFO_NON&STYLES=&FORMAT=image/png&TRANSPARENT=TRUE&TILED=false&TILESORIGIN=-30000,-60000&PROJECTION=EPSG:5179&DISPLAYPROJECTION=EPSG:5181&TRANSFORM=EPSG:5181&SERVICE=WMS&VERSION=1.1.1&REQUEST=GetMap&CQL_FILTER=(engn_code='00') and (acdnt_year between '2022' and '2022')  and (legaldong_code ilike '4146%') and (( acdnt_gae_code = '01') or ( acdnt_gae_code = '02') or ( acdnt_gae_code = '03') or ( acdnt_gae_code = '04')) and (( road_type = '6'))&SRS=EPSG:5181&BBOX=158031.8643837,394192.93843643,260303.8643837,454032.93843643&WIDTH=1598&HEIGHT=935\n",
      "src_split : ['https://taas.koroad.or.kr/gis36/TAAS/wms?LAYERS=GNRL_GIS_ACDNT_INFO_NON', 'STYLES=', 'FORMAT=image/png', 'TRANSPARENT=TRUE', 'TILED=false', 'TILESORIGIN=-30000,-60000', 'PROJECTION=EPSG:5179', 'DISPLAYPROJECTION=EPSG:5181', 'TRANSFORM=EPSG:5181', 'SERVICE=WMS', 'VERSION=1.1.1', 'REQUEST=GetMap', \"CQL_FILTER=(engn_code='00') and (acdnt_year between '2022' and '2022')  and (legaldong_code ilike '4146%') and (( acdnt_gae_code = '01') or ( acdnt_gae_code = '02') or ( acdnt_gae_code = '03') or ( acdnt_gae_code = '04')) and (( road_type = '6'))\", 'SRS=EPSG:5181', 'BBOX=158031.8643837,394192.93843643,260303.8643837,454032.93843643', 'WIDTH=1598', 'HEIGHT=935']\n",
      "Debugging - src_split:\n",
      "https://taas.koroad.or.kr/gis36/TAAS/wms?LAYERS=GNRL_GIS_ACDNT_INFO_NON\n",
      "STYLES=\n",
      "FORMAT=image/png\n",
      "TRANSPARENT=TRUE\n",
      "TILED=false\n",
      "TILESORIGIN=-30000,-60000\n",
      "PROJECTION=EPSG:5179\n",
      "DISPLAYPROJECTION=EPSG:5181\n",
      "TRANSFORM=EPSG:5181\n",
      "SERVICE=WMS\n",
      "VERSION=1.1.1\n",
      "REQUEST=GetMap\n",
      "CQL_FILTER=(engn_code='00') and (acdnt_year between '2022' and '2022')  and (legaldong_code ilike '4146%') and (( acdnt_gae_code = '01') or ( acdnt_gae_code = '02') or ( acdnt_gae_code = '03') or ( acdnt_gae_code = '04')) and (( road_type = '6'))\n",
      "SRS=EPSG:5181\n",
      "BBOX=158031.8643837,394192.93843643,260303.8643837,454032.93843643\n",
      "WIDTH=1598\n",
      "HEIGHT=935\n",
      "bbox_text : 158031.8643837,394192.93843643,260303.8643837,454032.93843643\n"
     ]
    },
    {
     "name": "stderr",
     "output_type": "stream",
     "text": [
      "  0%|          | 19/33698 [00:19<9:40:22,  1.03s/it]"
     ]
    },
    {
     "name": "stdout",
     "output_type": "stream",
     "text": [
      "Debugging - src content: <selenium.webdriver.remote.webelement.WebElement (session=\"5b06b3d12ca3a76e5c613afa896de233\", element=\"9E340076E16B0B12E9EB60FAF1C429D4_element_12989\")>\n",
      "Debugging - src content: https://taas.koroad.or.kr/gis36/TAAS/wms?LAYERS=GNRL_GIS_ACDNT_INFO_NON&STYLES=&FORMAT=image/png&TRANSPARENT=TRUE&TILED=false&TILESORIGIN=-30000,-60000&PROJECTION=EPSG:5179&DISPLAYPROJECTION=EPSG:5181&TRANSFORM=EPSG:5181&SERVICE=WMS&VERSION=1.1.1&REQUEST=GetMap&CQL_FILTER=(engn_code='00') and (acdnt_year between '2022' and '2022')  and (legaldong_code ilike '4146%') and (( acdnt_gae_code = '01') or ( acdnt_gae_code = '02') or ( acdnt_gae_code = '03') or ( acdnt_gae_code = '04')) and (( road_type = '6'))&SRS=EPSG:5181&BBOX=158147.6895888,385907.23751964,260419.6895888,445747.23751964&WIDTH=1598&HEIGHT=935\n",
      "src_split : ['https://taas.koroad.or.kr/gis36/TAAS/wms?LAYERS=GNRL_GIS_ACDNT_INFO_NON', 'STYLES=', 'FORMAT=image/png', 'TRANSPARENT=TRUE', 'TILED=false', 'TILESORIGIN=-30000,-60000', 'PROJECTION=EPSG:5179', 'DISPLAYPROJECTION=EPSG:5181', 'TRANSFORM=EPSG:5181', 'SERVICE=WMS', 'VERSION=1.1.1', 'REQUEST=GetMap', \"CQL_FILTER=(engn_code='00') and (acdnt_year between '2022' and '2022')  and (legaldong_code ilike '4146%') and (( acdnt_gae_code = '01') or ( acdnt_gae_code = '02') or ( acdnt_gae_code = '03') or ( acdnt_gae_code = '04')) and (( road_type = '6'))\", 'SRS=EPSG:5181', 'BBOX=158147.6895888,385907.23751964,260419.6895888,445747.23751964', 'WIDTH=1598', 'HEIGHT=935']\n",
      "Debugging - src_split:\n",
      "https://taas.koroad.or.kr/gis36/TAAS/wms?LAYERS=GNRL_GIS_ACDNT_INFO_NON\n",
      "STYLES=\n",
      "FORMAT=image/png\n",
      "TRANSPARENT=TRUE\n",
      "TILED=false\n",
      "TILESORIGIN=-30000,-60000\n",
      "PROJECTION=EPSG:5179\n",
      "DISPLAYPROJECTION=EPSG:5181\n",
      "TRANSFORM=EPSG:5181\n",
      "SERVICE=WMS\n",
      "VERSION=1.1.1\n",
      "REQUEST=GetMap\n",
      "CQL_FILTER=(engn_code='00') and (acdnt_year between '2022' and '2022')  and (legaldong_code ilike '4146%') and (( acdnt_gae_code = '01') or ( acdnt_gae_code = '02') or ( acdnt_gae_code = '03') or ( acdnt_gae_code = '04')) and (( road_type = '6'))\n",
      "SRS=EPSG:5181\n",
      "BBOX=158147.6895888,385907.23751964,260419.6895888,445747.23751964\n",
      "WIDTH=1598\n",
      "HEIGHT=935\n",
      "bbox_text : 158147.6895888,385907.23751964,260419.6895888,445747.23751964\n"
     ]
    },
    {
     "name": "stderr",
     "output_type": "stream",
     "text": [
      "  0%|          | 20/33698 [00:20<9:40:02,  1.03s/it]"
     ]
    },
    {
     "name": "stdout",
     "output_type": "stream",
     "text": [
      "Debugging - src content: <selenium.webdriver.remote.webelement.WebElement (session=\"5b06b3d12ca3a76e5c613afa896de233\", element=\"9E340076E16B0B12E9EB60FAF1C429D4_element_13425\")>\n",
      "Debugging - src content: https://taas.koroad.or.kr/gis36/TAAS/wms?LAYERS=GNRL_GIS_ACDNT_INFO_NON&STYLES=&FORMAT=image/png&TRANSPARENT=TRUE&TILED=false&TILESORIGIN=-30000,-60000&PROJECTION=EPSG:5179&DISPLAYPROJECTION=EPSG:5181&TRANSFORM=EPSG:5181&SERVICE=WMS&VERSION=1.1.1&REQUEST=GetMap&CQL_FILTER=(engn_code='00') and (acdnt_year between '2022' and '2022')  and (legaldong_code ilike '4146%') and (( acdnt_gae_code = '01') or ( acdnt_gae_code = '02') or ( acdnt_gae_code = '03') or ( acdnt_gae_code = '04')) and (( road_type = '6'))&SRS=EPSG:5181&BBOX=158301.32518879,385040.70195528,260573.32518879,444880.70195528&WIDTH=1598&HEIGHT=935\n",
      "src_split : ['https://taas.koroad.or.kr/gis36/TAAS/wms?LAYERS=GNRL_GIS_ACDNT_INFO_NON', 'STYLES=', 'FORMAT=image/png', 'TRANSPARENT=TRUE', 'TILED=false', 'TILESORIGIN=-30000,-60000', 'PROJECTION=EPSG:5179', 'DISPLAYPROJECTION=EPSG:5181', 'TRANSFORM=EPSG:5181', 'SERVICE=WMS', 'VERSION=1.1.1', 'REQUEST=GetMap', \"CQL_FILTER=(engn_code='00') and (acdnt_year between '2022' and '2022')  and (legaldong_code ilike '4146%') and (( acdnt_gae_code = '01') or ( acdnt_gae_code = '02') or ( acdnt_gae_code = '03') or ( acdnt_gae_code = '04')) and (( road_type = '6'))\", 'SRS=EPSG:5181', 'BBOX=158301.32518879,385040.70195528,260573.32518879,444880.70195528', 'WIDTH=1598', 'HEIGHT=935']\n",
      "Debugging - src_split:\n",
      "https://taas.koroad.or.kr/gis36/TAAS/wms?LAYERS=GNRL_GIS_ACDNT_INFO_NON\n",
      "STYLES=\n",
      "FORMAT=image/png\n",
      "TRANSPARENT=TRUE\n",
      "TILED=false\n",
      "TILESORIGIN=-30000,-60000\n",
      "PROJECTION=EPSG:5179\n",
      "DISPLAYPROJECTION=EPSG:5181\n",
      "TRANSFORM=EPSG:5181\n",
      "SERVICE=WMS\n",
      "VERSION=1.1.1\n",
      "REQUEST=GetMap\n",
      "CQL_FILTER=(engn_code='00') and (acdnt_year between '2022' and '2022')  and (legaldong_code ilike '4146%') and (( acdnt_gae_code = '01') or ( acdnt_gae_code = '02') or ( acdnt_gae_code = '03') or ( acdnt_gae_code = '04')) and (( road_type = '6'))\n",
      "SRS=EPSG:5181\n",
      "BBOX=158301.32518879,385040.70195528,260573.32518879,444880.70195528\n",
      "WIDTH=1598\n",
      "HEIGHT=935\n",
      "bbox_text : 158301.32518879,385040.70195528,260573.32518879,444880.70195528\n"
     ]
    },
    {
     "name": "stderr",
     "output_type": "stream",
     "text": [
      "  0%|          | 21/33698 [00:21<9:40:40,  1.03s/it]"
     ]
    },
    {
     "name": "stdout",
     "output_type": "stream",
     "text": [
      "Debugging - src content: <selenium.webdriver.remote.webelement.WebElement (session=\"5b06b3d12ca3a76e5c613afa896de233\", element=\"9E340076E16B0B12E9EB60FAF1C429D4_element_13875\")>\n",
      "Debugging - src content: https://taas.koroad.or.kr/gis36/TAAS/wms?LAYERS=GNRL_GIS_ACDNT_INFO_NON&STYLES=&FORMAT=image/png&TRANSPARENT=TRUE&TILED=false&TILESORIGIN=-30000,-60000&PROJECTION=EPSG:5179&DISPLAYPROJECTION=EPSG:5181&TRANSFORM=EPSG:5181&SERVICE=WMS&VERSION=1.1.1&REQUEST=GetMap&CQL_FILTER=(engn_code='00') and (acdnt_year between '2022' and '2022')  and (legaldong_code ilike '4146%') and (( acdnt_gae_code = '01') or ( acdnt_gae_code = '02') or ( acdnt_gae_code = '03') or ( acdnt_gae_code = '04')) and (( road_type = '6'))&SRS=EPSG:5181&BBOX=157828.41040531,388965.77394688,260100.41040531,448805.77394688&WIDTH=1598&HEIGHT=935\n",
      "src_split : ['https://taas.koroad.or.kr/gis36/TAAS/wms?LAYERS=GNRL_GIS_ACDNT_INFO_NON', 'STYLES=', 'FORMAT=image/png', 'TRANSPARENT=TRUE', 'TILED=false', 'TILESORIGIN=-30000,-60000', 'PROJECTION=EPSG:5179', 'DISPLAYPROJECTION=EPSG:5181', 'TRANSFORM=EPSG:5181', 'SERVICE=WMS', 'VERSION=1.1.1', 'REQUEST=GetMap', \"CQL_FILTER=(engn_code='00') and (acdnt_year between '2022' and '2022')  and (legaldong_code ilike '4146%') and (( acdnt_gae_code = '01') or ( acdnt_gae_code = '02') or ( acdnt_gae_code = '03') or ( acdnt_gae_code = '04')) and (( road_type = '6'))\", 'SRS=EPSG:5181', 'BBOX=157828.41040531,388965.77394688,260100.41040531,448805.77394688', 'WIDTH=1598', 'HEIGHT=935']\n",
      "Debugging - src_split:\n",
      "https://taas.koroad.or.kr/gis36/TAAS/wms?LAYERS=GNRL_GIS_ACDNT_INFO_NON\n",
      "STYLES=\n",
      "FORMAT=image/png\n",
      "TRANSPARENT=TRUE\n",
      "TILED=false\n",
      "TILESORIGIN=-30000,-60000\n",
      "PROJECTION=EPSG:5179\n",
      "DISPLAYPROJECTION=EPSG:5181\n",
      "TRANSFORM=EPSG:5181\n",
      "SERVICE=WMS\n",
      "VERSION=1.1.1\n",
      "REQUEST=GetMap\n",
      "CQL_FILTER=(engn_code='00') and (acdnt_year between '2022' and '2022')  and (legaldong_code ilike '4146%') and (( acdnt_gae_code = '01') or ( acdnt_gae_code = '02') or ( acdnt_gae_code = '03') or ( acdnt_gae_code = '04')) and (( road_type = '6'))\n",
      "SRS=EPSG:5181\n",
      "BBOX=157828.41040531,388965.77394688,260100.41040531,448805.77394688\n",
      "WIDTH=1598\n",
      "HEIGHT=935\n",
      "bbox_text : 157828.41040531,388965.77394688,260100.41040531,448805.77394688\n"
     ]
    },
    {
     "name": "stderr",
     "output_type": "stream",
     "text": [
      "  0%|          | 22/33698 [00:22<9:40:24,  1.03s/it]"
     ]
    },
    {
     "name": "stdout",
     "output_type": "stream",
     "text": [
      "Debugging - src content: <selenium.webdriver.remote.webelement.WebElement (session=\"5b06b3d12ca3a76e5c613afa896de233\", element=\"9E340076E16B0B12E9EB60FAF1C429D4_element_14315\")>\n",
      "Debugging - src content: https://taas.koroad.or.kr/gis36/TAAS/wms?LAYERS=GNRL_GIS_ACDNT_INFO_NON&STYLES=&FORMAT=image/png&TRANSPARENT=TRUE&TILED=false&TILESORIGIN=-30000,-60000&PROJECTION=EPSG:5179&DISPLAYPROJECTION=EPSG:5181&TRANSFORM=EPSG:5181&SERVICE=WMS&VERSION=1.1.1&REQUEST=GetMap&CQL_FILTER=(engn_code='00') and (acdnt_year between '2022' and '2022')  and (legaldong_code ilike '4146%') and (( acdnt_gae_code = '01') or ( acdnt_gae_code = '02') or ( acdnt_gae_code = '03') or ( acdnt_gae_code = '04')) and (( road_type = '6'))&SRS=EPSG:5181&BBOX=157989.07659399,388662.5014427,260261.07659399,448502.5014427&WIDTH=1598&HEIGHT=935\n",
      "src_split : ['https://taas.koroad.or.kr/gis36/TAAS/wms?LAYERS=GNRL_GIS_ACDNT_INFO_NON', 'STYLES=', 'FORMAT=image/png', 'TRANSPARENT=TRUE', 'TILED=false', 'TILESORIGIN=-30000,-60000', 'PROJECTION=EPSG:5179', 'DISPLAYPROJECTION=EPSG:5181', 'TRANSFORM=EPSG:5181', 'SERVICE=WMS', 'VERSION=1.1.1', 'REQUEST=GetMap', \"CQL_FILTER=(engn_code='00') and (acdnt_year between '2022' and '2022')  and (legaldong_code ilike '4146%') and (( acdnt_gae_code = '01') or ( acdnt_gae_code = '02') or ( acdnt_gae_code = '03') or ( acdnt_gae_code = '04')) and (( road_type = '6'))\", 'SRS=EPSG:5181', 'BBOX=157989.07659399,388662.5014427,260261.07659399,448502.5014427', 'WIDTH=1598', 'HEIGHT=935']\n",
      "Debugging - src_split:\n",
      "https://taas.koroad.or.kr/gis36/TAAS/wms?LAYERS=GNRL_GIS_ACDNT_INFO_NON\n",
      "STYLES=\n",
      "FORMAT=image/png\n",
      "TRANSPARENT=TRUE\n",
      "TILED=false\n",
      "TILESORIGIN=-30000,-60000\n",
      "PROJECTION=EPSG:5179\n",
      "DISPLAYPROJECTION=EPSG:5181\n",
      "TRANSFORM=EPSG:5181\n",
      "SERVICE=WMS\n",
      "VERSION=1.1.1\n",
      "REQUEST=GetMap\n",
      "CQL_FILTER=(engn_code='00') and (acdnt_year between '2022' and '2022')  and (legaldong_code ilike '4146%') and (( acdnt_gae_code = '01') or ( acdnt_gae_code = '02') or ( acdnt_gae_code = '03') or ( acdnt_gae_code = '04')) and (( road_type = '6'))\n",
      "SRS=EPSG:5181\n",
      "BBOX=157989.07659399,388662.5014427,260261.07659399,448502.5014427\n",
      "WIDTH=1598\n",
      "HEIGHT=935\n",
      "bbox_text : 157989.07659399,388662.5014427,260261.07659399,448502.5014427\n"
     ]
    },
    {
     "name": "stderr",
     "output_type": "stream",
     "text": [
      "  0%|          | 23/33698 [00:23<9:39:58,  1.03s/it]"
     ]
    },
    {
     "name": "stdout",
     "output_type": "stream",
     "text": [
      "Debugging - src content: <selenium.webdriver.remote.webelement.WebElement (session=\"5b06b3d12ca3a76e5c613afa896de233\", element=\"9E340076E16B0B12E9EB60FAF1C429D4_element_14765\")>\n",
      "Debugging - src content: https://taas.koroad.or.kr/gis36/TAAS/wms?LAYERS=GNRL_GIS_ACDNT_INFO_NON&STYLES=&FORMAT=image/png&TRANSPARENT=TRUE&TILED=false&TILESORIGIN=-30000,-60000&PROJECTION=EPSG:5179&DISPLAYPROJECTION=EPSG:5181&TRANSFORM=EPSG:5181&SERVICE=WMS&VERSION=1.1.1&REQUEST=GetMap&CQL_FILTER=(engn_code='00') and (acdnt_year between '2022' and '2022')  and (legaldong_code ilike '4146%') and (( acdnt_gae_code = '01') or ( acdnt_gae_code = '02') or ( acdnt_gae_code = '03') or ( acdnt_gae_code = '04')) and (( road_type = '6'))&SRS=EPSG:5181&BBOX=166032.36000278,388466.90708926,268304.36000278,448306.90708926&WIDTH=1598&HEIGHT=935\n",
      "src_split : ['https://taas.koroad.or.kr/gis36/TAAS/wms?LAYERS=GNRL_GIS_ACDNT_INFO_NON', 'STYLES=', 'FORMAT=image/png', 'TRANSPARENT=TRUE', 'TILED=false', 'TILESORIGIN=-30000,-60000', 'PROJECTION=EPSG:5179', 'DISPLAYPROJECTION=EPSG:5181', 'TRANSFORM=EPSG:5181', 'SERVICE=WMS', 'VERSION=1.1.1', 'REQUEST=GetMap', \"CQL_FILTER=(engn_code='00') and (acdnt_year between '2022' and '2022')  and (legaldong_code ilike '4146%') and (( acdnt_gae_code = '01') or ( acdnt_gae_code = '02') or ( acdnt_gae_code = '03') or ( acdnt_gae_code = '04')) and (( road_type = '6'))\", 'SRS=EPSG:5181', 'BBOX=166032.36000278,388466.90708926,268304.36000278,448306.90708926', 'WIDTH=1598', 'HEIGHT=935']\n",
      "Debugging - src_split:\n",
      "https://taas.koroad.or.kr/gis36/TAAS/wms?LAYERS=GNRL_GIS_ACDNT_INFO_NON\n",
      "STYLES=\n",
      "FORMAT=image/png\n",
      "TRANSPARENT=TRUE\n",
      "TILED=false\n",
      "TILESORIGIN=-30000,-60000\n",
      "PROJECTION=EPSG:5179\n",
      "DISPLAYPROJECTION=EPSG:5181\n",
      "TRANSFORM=EPSG:5181\n",
      "SERVICE=WMS\n",
      "VERSION=1.1.1\n",
      "REQUEST=GetMap\n",
      "CQL_FILTER=(engn_code='00') and (acdnt_year between '2022' and '2022')  and (legaldong_code ilike '4146%') and (( acdnt_gae_code = '01') or ( acdnt_gae_code = '02') or ( acdnt_gae_code = '03') or ( acdnt_gae_code = '04')) and (( road_type = '6'))\n",
      "SRS=EPSG:5181\n",
      "BBOX=166032.36000278,388466.90708926,268304.36000278,448306.90708926\n",
      "WIDTH=1598\n",
      "HEIGHT=935\n",
      "bbox_text : 166032.36000278,388466.90708926,268304.36000278,448306.90708926\n"
     ]
    },
    {
     "name": "stderr",
     "output_type": "stream",
     "text": [
      "  0%|          | 24/33698 [00:24<9:41:17,  1.04s/it]"
     ]
    },
    {
     "name": "stdout",
     "output_type": "stream",
     "text": [
      "Debugging - src content: <selenium.webdriver.remote.webelement.WebElement (session=\"5b06b3d12ca3a76e5c613afa896de233\", element=\"9E340076E16B0B12E9EB60FAF1C429D4_element_15215\")>\n",
      "Debugging - src content: https://taas.koroad.or.kr/gis36/TAAS/wms?LAYERS=GNRL_GIS_ACDNT_INFO_NON&STYLES=&FORMAT=image/png&TRANSPARENT=TRUE&TILED=false&TILESORIGIN=-30000,-60000&PROJECTION=EPSG:5179&DISPLAYPROJECTION=EPSG:5181&TRANSFORM=EPSG:5181&SERVICE=WMS&VERSION=1.1.1&REQUEST=GetMap&CQL_FILTER=(engn_code='00') and (acdnt_year between '2022' and '2022')  and (legaldong_code ilike '4146%') and (( acdnt_gae_code = '01') or ( acdnt_gae_code = '02') or ( acdnt_gae_code = '03') or ( acdnt_gae_code = '04')) and (( road_type = '6'))&SRS=EPSG:5181&BBOX=158552.08860879,391352.55228576,260824.08860879,451192.55228576&WIDTH=1598&HEIGHT=935\n",
      "src_split : ['https://taas.koroad.or.kr/gis36/TAAS/wms?LAYERS=GNRL_GIS_ACDNT_INFO_NON', 'STYLES=', 'FORMAT=image/png', 'TRANSPARENT=TRUE', 'TILED=false', 'TILESORIGIN=-30000,-60000', 'PROJECTION=EPSG:5179', 'DISPLAYPROJECTION=EPSG:5181', 'TRANSFORM=EPSG:5181', 'SERVICE=WMS', 'VERSION=1.1.1', 'REQUEST=GetMap', \"CQL_FILTER=(engn_code='00') and (acdnt_year between '2022' and '2022')  and (legaldong_code ilike '4146%') and (( acdnt_gae_code = '01') or ( acdnt_gae_code = '02') or ( acdnt_gae_code = '03') or ( acdnt_gae_code = '04')) and (( road_type = '6'))\", 'SRS=EPSG:5181', 'BBOX=158552.08860879,391352.55228576,260824.08860879,451192.55228576', 'WIDTH=1598', 'HEIGHT=935']\n",
      "Debugging - src_split:\n",
      "https://taas.koroad.or.kr/gis36/TAAS/wms?LAYERS=GNRL_GIS_ACDNT_INFO_NON\n",
      "STYLES=\n",
      "FORMAT=image/png\n",
      "TRANSPARENT=TRUE\n",
      "TILED=false\n",
      "TILESORIGIN=-30000,-60000\n",
      "PROJECTION=EPSG:5179\n",
      "DISPLAYPROJECTION=EPSG:5181\n",
      "TRANSFORM=EPSG:5181\n",
      "SERVICE=WMS\n",
      "VERSION=1.1.1\n",
      "REQUEST=GetMap\n",
      "CQL_FILTER=(engn_code='00') and (acdnt_year between '2022' and '2022')  and (legaldong_code ilike '4146%') and (( acdnt_gae_code = '01') or ( acdnt_gae_code = '02') or ( acdnt_gae_code = '03') or ( acdnt_gae_code = '04')) and (( road_type = '6'))\n",
      "SRS=EPSG:5181\n",
      "BBOX=158552.08860879,391352.55228576,260824.08860879,451192.55228576\n",
      "WIDTH=1598\n",
      "HEIGHT=935\n",
      "bbox_text : 158552.08860879,391352.55228576,260824.08860879,451192.55228576\n"
     ]
    },
    {
     "name": "stderr",
     "output_type": "stream",
     "text": [
      "  0%|          | 25/33698 [00:25<9:41:56,  1.04s/it]"
     ]
    },
    {
     "name": "stdout",
     "output_type": "stream",
     "text": [
      "Debugging - src content: <selenium.webdriver.remote.webelement.WebElement (session=\"5b06b3d12ca3a76e5c613afa896de233\", element=\"9E340076E16B0B12E9EB60FAF1C429D4_element_15672\")>\n",
      "Debugging - src content: https://taas.koroad.or.kr/gis36/TAAS/wms?LAYERS=GNRL_GIS_ACDNT_INFO_NON&STYLES=&FORMAT=image/png&TRANSPARENT=TRUE&TILED=false&TILESORIGIN=-30000,-60000&PROJECTION=EPSG:5179&DISPLAYPROJECTION=EPSG:5181&TRANSFORM=EPSG:5181&SERVICE=WMS&VERSION=1.1.1&REQUEST=GetMap&CQL_FILTER=(engn_code='00') and (acdnt_year between '2022' and '2022')  and (legaldong_code ilike '4146%') and (( acdnt_gae_code = '01') or ( acdnt_gae_code = '02') or ( acdnt_gae_code = '03') or ( acdnt_gae_code = '04')) and (( road_type = '6'))&SRS=EPSG:5181&BBOX=171181.57082337,386366.23450135,273453.57082337,446206.23450135&WIDTH=1598&HEIGHT=935\n",
      "src_split : ['https://taas.koroad.or.kr/gis36/TAAS/wms?LAYERS=GNRL_GIS_ACDNT_INFO_NON', 'STYLES=', 'FORMAT=image/png', 'TRANSPARENT=TRUE', 'TILED=false', 'TILESORIGIN=-30000,-60000', 'PROJECTION=EPSG:5179', 'DISPLAYPROJECTION=EPSG:5181', 'TRANSFORM=EPSG:5181', 'SERVICE=WMS', 'VERSION=1.1.1', 'REQUEST=GetMap', \"CQL_FILTER=(engn_code='00') and (acdnt_year between '2022' and '2022')  and (legaldong_code ilike '4146%') and (( acdnt_gae_code = '01') or ( acdnt_gae_code = '02') or ( acdnt_gae_code = '03') or ( acdnt_gae_code = '04')) and (( road_type = '6'))\", 'SRS=EPSG:5181', 'BBOX=171181.57082337,386366.23450135,273453.57082337,446206.23450135', 'WIDTH=1598', 'HEIGHT=935']\n",
      "Debugging - src_split:\n",
      "https://taas.koroad.or.kr/gis36/TAAS/wms?LAYERS=GNRL_GIS_ACDNT_INFO_NON\n",
      "STYLES=\n",
      "FORMAT=image/png\n",
      "TRANSPARENT=TRUE\n",
      "TILED=false\n",
      "TILESORIGIN=-30000,-60000\n",
      "PROJECTION=EPSG:5179\n",
      "DISPLAYPROJECTION=EPSG:5181\n",
      "TRANSFORM=EPSG:5181\n",
      "SERVICE=WMS\n",
      "VERSION=1.1.1\n",
      "REQUEST=GetMap\n",
      "CQL_FILTER=(engn_code='00') and (acdnt_year between '2022' and '2022')  and (legaldong_code ilike '4146%') and (( acdnt_gae_code = '01') or ( acdnt_gae_code = '02') or ( acdnt_gae_code = '03') or ( acdnt_gae_code = '04')) and (( road_type = '6'))\n",
      "SRS=EPSG:5181\n",
      "BBOX=171181.57082337,386366.23450135,273453.57082337,446206.23450135\n",
      "WIDTH=1598\n",
      "HEIGHT=935\n",
      "bbox_text : 171181.57082337,386366.23450135,273453.57082337,446206.23450135\n"
     ]
    },
    {
     "name": "stderr",
     "output_type": "stream",
     "text": [
      "  0%|          | 26/33698 [00:26<9:41:38,  1.04s/it]"
     ]
    },
    {
     "name": "stdout",
     "output_type": "stream",
     "text": [
      "Debugging - src content: <selenium.webdriver.remote.webelement.WebElement (session=\"5b06b3d12ca3a76e5c613afa896de233\", element=\"9E340076E16B0B12E9EB60FAF1C429D4_element_16129\")>\n",
      "Debugging - src content: https://taas.koroad.or.kr/gis36/TAAS/wms?LAYERS=GNRL_GIS_ACDNT_INFO_NON&STYLES=&FORMAT=image/png&TRANSPARENT=TRUE&TILED=false&TILESORIGIN=-30000,-60000&PROJECTION=EPSG:5179&DISPLAYPROJECTION=EPSG:5181&TRANSFORM=EPSG:5181&SERVICE=WMS&VERSION=1.1.1&REQUEST=GetMap&CQL_FILTER=(engn_code='00') and (acdnt_year between '2022' and '2022')  and (legaldong_code ilike '4146%') and (( acdnt_gae_code = '01') or ( acdnt_gae_code = '02') or ( acdnt_gae_code = '03') or ( acdnt_gae_code = '04')) and (( road_type = '6'))&SRS=EPSG:5181&BBOX=157963.45937201,388777.41205622,260235.45937201,448617.41205622&WIDTH=1598&HEIGHT=935\n",
      "src_split : ['https://taas.koroad.or.kr/gis36/TAAS/wms?LAYERS=GNRL_GIS_ACDNT_INFO_NON', 'STYLES=', 'FORMAT=image/png', 'TRANSPARENT=TRUE', 'TILED=false', 'TILESORIGIN=-30000,-60000', 'PROJECTION=EPSG:5179', 'DISPLAYPROJECTION=EPSG:5181', 'TRANSFORM=EPSG:5181', 'SERVICE=WMS', 'VERSION=1.1.1', 'REQUEST=GetMap', \"CQL_FILTER=(engn_code='00') and (acdnt_year between '2022' and '2022')  and (legaldong_code ilike '4146%') and (( acdnt_gae_code = '01') or ( acdnt_gae_code = '02') or ( acdnt_gae_code = '03') or ( acdnt_gae_code = '04')) and (( road_type = '6'))\", 'SRS=EPSG:5181', 'BBOX=157963.45937201,388777.41205622,260235.45937201,448617.41205622', 'WIDTH=1598', 'HEIGHT=935']\n",
      "Debugging - src_split:\n",
      "https://taas.koroad.or.kr/gis36/TAAS/wms?LAYERS=GNRL_GIS_ACDNT_INFO_NON\n",
      "STYLES=\n",
      "FORMAT=image/png\n",
      "TRANSPARENT=TRUE\n",
      "TILED=false\n",
      "TILESORIGIN=-30000,-60000\n",
      "PROJECTION=EPSG:5179\n",
      "DISPLAYPROJECTION=EPSG:5181\n",
      "TRANSFORM=EPSG:5181\n",
      "SERVICE=WMS\n",
      "VERSION=1.1.1\n",
      "REQUEST=GetMap\n",
      "CQL_FILTER=(engn_code='00') and (acdnt_year between '2022' and '2022')  and (legaldong_code ilike '4146%') and (( acdnt_gae_code = '01') or ( acdnt_gae_code = '02') or ( acdnt_gae_code = '03') or ( acdnt_gae_code = '04')) and (( road_type = '6'))\n",
      "SRS=EPSG:5181\n",
      "BBOX=157963.45937201,388777.41205622,260235.45937201,448617.41205622\n",
      "WIDTH=1598\n",
      "HEIGHT=935\n",
      "bbox_text : 157963.45937201,388777.41205622,260235.45937201,448617.41205622\n"
     ]
    },
    {
     "name": "stderr",
     "output_type": "stream",
     "text": [
      "  0%|          | 27/33698 [00:27<9:41:52,  1.04s/it]"
     ]
    },
    {
     "name": "stdout",
     "output_type": "stream",
     "text": [
      "Debugging - src content: <selenium.webdriver.remote.webelement.WebElement (session=\"5b06b3d12ca3a76e5c613afa896de233\", element=\"9E340076E16B0B12E9EB60FAF1C429D4_element_16579\")>\n",
      "Debugging - src content: https://taas.koroad.or.kr/gis36/TAAS/wms?LAYERS=GNRL_GIS_ACDNT_INFO_NON&STYLES=&FORMAT=image/png&TRANSPARENT=TRUE&TILED=false&TILESORIGIN=-30000,-60000&PROJECTION=EPSG:5179&DISPLAYPROJECTION=EPSG:5181&TRANSFORM=EPSG:5181&SERVICE=WMS&VERSION=1.1.1&REQUEST=GetMap&CQL_FILTER=(engn_code='00') and (acdnt_year between '2022' and '2022')  and (legaldong_code ilike '4146%') and (( acdnt_gae_code = '01') or ( acdnt_gae_code = '02') or ( acdnt_gae_code = '03') or ( acdnt_gae_code = '04')) and (( road_type = '6'))&SRS=EPSG:5181&BBOX=158203.70499653,384392.92765014,260475.70499653,444232.92765014&WIDTH=1598&HEIGHT=935\n",
      "src_split : ['https://taas.koroad.or.kr/gis36/TAAS/wms?LAYERS=GNRL_GIS_ACDNT_INFO_NON', 'STYLES=', 'FORMAT=image/png', 'TRANSPARENT=TRUE', 'TILED=false', 'TILESORIGIN=-30000,-60000', 'PROJECTION=EPSG:5179', 'DISPLAYPROJECTION=EPSG:5181', 'TRANSFORM=EPSG:5181', 'SERVICE=WMS', 'VERSION=1.1.1', 'REQUEST=GetMap', \"CQL_FILTER=(engn_code='00') and (acdnt_year between '2022' and '2022')  and (legaldong_code ilike '4146%') and (( acdnt_gae_code = '01') or ( acdnt_gae_code = '02') or ( acdnt_gae_code = '03') or ( acdnt_gae_code = '04')) and (( road_type = '6'))\", 'SRS=EPSG:5181', 'BBOX=158203.70499653,384392.92765014,260475.70499653,444232.92765014', 'WIDTH=1598', 'HEIGHT=935']\n",
      "Debugging - src_split:\n",
      "https://taas.koroad.or.kr/gis36/TAAS/wms?LAYERS=GNRL_GIS_ACDNT_INFO_NON\n",
      "STYLES=\n",
      "FORMAT=image/png\n",
      "TRANSPARENT=TRUE\n",
      "TILED=false\n",
      "TILESORIGIN=-30000,-60000\n",
      "PROJECTION=EPSG:5179\n",
      "DISPLAYPROJECTION=EPSG:5181\n",
      "TRANSFORM=EPSG:5181\n",
      "SERVICE=WMS\n",
      "VERSION=1.1.1\n",
      "REQUEST=GetMap\n",
      "CQL_FILTER=(engn_code='00') and (acdnt_year between '2022' and '2022')  and (legaldong_code ilike '4146%') and (( acdnt_gae_code = '01') or ( acdnt_gae_code = '02') or ( acdnt_gae_code = '03') or ( acdnt_gae_code = '04')) and (( road_type = '6'))\n",
      "SRS=EPSG:5181\n",
      "BBOX=158203.70499653,384392.92765014,260475.70499653,444232.92765014\n",
      "WIDTH=1598\n",
      "HEIGHT=935\n",
      "bbox_text : 158203.70499653,384392.92765014,260475.70499653,444232.92765014\n"
     ]
    },
    {
     "name": "stderr",
     "output_type": "stream",
     "text": [
      "  0%|          | 28/33698 [00:28<9:40:48,  1.04s/it]"
     ]
    },
    {
     "name": "stdout",
     "output_type": "stream",
     "text": [
      "Debugging - src content: <selenium.webdriver.remote.webelement.WebElement (session=\"5b06b3d12ca3a76e5c613afa896de233\", element=\"9E340076E16B0B12E9EB60FAF1C429D4_element_17029\")>\n",
      "Debugging - src content: https://taas.koroad.or.kr/gis36/TAAS/wms?LAYERS=GNRL_GIS_ACDNT_INFO_NON&STYLES=&FORMAT=image/png&TRANSPARENT=TRUE&TILED=false&TILESORIGIN=-30000,-60000&PROJECTION=EPSG:5179&DISPLAYPROJECTION=EPSG:5181&TRANSFORM=EPSG:5181&SERVICE=WMS&VERSION=1.1.1&REQUEST=GetMap&CQL_FILTER=(engn_code='00') and (acdnt_year between '2022' and '2022')  and (legaldong_code ilike '4146%') and (( acdnt_gae_code = '01') or ( acdnt_gae_code = '02') or ( acdnt_gae_code = '03') or ( acdnt_gae_code = '04')) and (( road_type = '6'))&SRS=EPSG:5181&BBOX=158065.18609418,390918.80554359,260337.18609418,450758.80554359&WIDTH=1598&HEIGHT=935\n",
      "src_split : ['https://taas.koroad.or.kr/gis36/TAAS/wms?LAYERS=GNRL_GIS_ACDNT_INFO_NON', 'STYLES=', 'FORMAT=image/png', 'TRANSPARENT=TRUE', 'TILED=false', 'TILESORIGIN=-30000,-60000', 'PROJECTION=EPSG:5179', 'DISPLAYPROJECTION=EPSG:5181', 'TRANSFORM=EPSG:5181', 'SERVICE=WMS', 'VERSION=1.1.1', 'REQUEST=GetMap', \"CQL_FILTER=(engn_code='00') and (acdnt_year between '2022' and '2022')  and (legaldong_code ilike '4146%') and (( acdnt_gae_code = '01') or ( acdnt_gae_code = '02') or ( acdnt_gae_code = '03') or ( acdnt_gae_code = '04')) and (( road_type = '6'))\", 'SRS=EPSG:5181', 'BBOX=158065.18609418,390918.80554359,260337.18609418,450758.80554359', 'WIDTH=1598', 'HEIGHT=935']\n",
      "Debugging - src_split:\n",
      "https://taas.koroad.or.kr/gis36/TAAS/wms?LAYERS=GNRL_GIS_ACDNT_INFO_NON\n",
      "STYLES=\n",
      "FORMAT=image/png\n",
      "TRANSPARENT=TRUE\n",
      "TILED=false\n",
      "TILESORIGIN=-30000,-60000\n",
      "PROJECTION=EPSG:5179\n",
      "DISPLAYPROJECTION=EPSG:5181\n",
      "TRANSFORM=EPSG:5181\n",
      "SERVICE=WMS\n",
      "VERSION=1.1.1\n",
      "REQUEST=GetMap\n",
      "CQL_FILTER=(engn_code='00') and (acdnt_year between '2022' and '2022')  and (legaldong_code ilike '4146%') and (( acdnt_gae_code = '01') or ( acdnt_gae_code = '02') or ( acdnt_gae_code = '03') or ( acdnt_gae_code = '04')) and (( road_type = '6'))\n",
      "SRS=EPSG:5181\n",
      "BBOX=158065.18609418,390918.80554359,260337.18609418,450758.80554359\n",
      "WIDTH=1598\n",
      "HEIGHT=935\n",
      "bbox_text : 158065.18609418,390918.80554359,260337.18609418,450758.80554359\n"
     ]
    },
    {
     "name": "stderr",
     "output_type": "stream",
     "text": [
      "  0%|          | 29/33698 [00:30<9:40:39,  1.03s/it]"
     ]
    },
    {
     "name": "stdout",
     "output_type": "stream",
     "text": [
      "Debugging - src content: <selenium.webdriver.remote.webelement.WebElement (session=\"5b06b3d12ca3a76e5c613afa896de233\", element=\"9E340076E16B0B12E9EB60FAF1C429D4_element_17479\")>\n",
      "Debugging - src content: https://taas.koroad.or.kr/gis36/TAAS/wms?LAYERS=GNRL_GIS_ACDNT_INFO_NON&STYLES=&FORMAT=image/png&TRANSPARENT=TRUE&TILED=false&TILESORIGIN=-30000,-60000&PROJECTION=EPSG:5179&DISPLAYPROJECTION=EPSG:5181&TRANSFORM=EPSG:5181&SERVICE=WMS&VERSION=1.1.1&REQUEST=GetMap&CQL_FILTER=(engn_code='00') and (acdnt_year between '2022' and '2022')  and (legaldong_code ilike '4146%') and (( acdnt_gae_code = '01') or ( acdnt_gae_code = '02') or ( acdnt_gae_code = '03') or ( acdnt_gae_code = '04')) and (( road_type = '6'))&SRS=EPSG:5181&BBOX=158212.10776656,385643.47210678,260484.10776656,445483.47210678&WIDTH=1598&HEIGHT=935\n",
      "src_split : ['https://taas.koroad.or.kr/gis36/TAAS/wms?LAYERS=GNRL_GIS_ACDNT_INFO_NON', 'STYLES=', 'FORMAT=image/png', 'TRANSPARENT=TRUE', 'TILED=false', 'TILESORIGIN=-30000,-60000', 'PROJECTION=EPSG:5179', 'DISPLAYPROJECTION=EPSG:5181', 'TRANSFORM=EPSG:5181', 'SERVICE=WMS', 'VERSION=1.1.1', 'REQUEST=GetMap', \"CQL_FILTER=(engn_code='00') and (acdnt_year between '2022' and '2022')  and (legaldong_code ilike '4146%') and (( acdnt_gae_code = '01') or ( acdnt_gae_code = '02') or ( acdnt_gae_code = '03') or ( acdnt_gae_code = '04')) and (( road_type = '6'))\", 'SRS=EPSG:5181', 'BBOX=158212.10776656,385643.47210678,260484.10776656,445483.47210678', 'WIDTH=1598', 'HEIGHT=935']\n",
      "Debugging - src_split:\n",
      "https://taas.koroad.or.kr/gis36/TAAS/wms?LAYERS=GNRL_GIS_ACDNT_INFO_NON\n",
      "STYLES=\n",
      "FORMAT=image/png\n",
      "TRANSPARENT=TRUE\n",
      "TILED=false\n",
      "TILESORIGIN=-30000,-60000\n",
      "PROJECTION=EPSG:5179\n",
      "DISPLAYPROJECTION=EPSG:5181\n",
      "TRANSFORM=EPSG:5181\n",
      "SERVICE=WMS\n",
      "VERSION=1.1.1\n",
      "REQUEST=GetMap\n",
      "CQL_FILTER=(engn_code='00') and (acdnt_year between '2022' and '2022')  and (legaldong_code ilike '4146%') and (( acdnt_gae_code = '01') or ( acdnt_gae_code = '02') or ( acdnt_gae_code = '03') or ( acdnt_gae_code = '04')) and (( road_type = '6'))\n",
      "SRS=EPSG:5181\n",
      "BBOX=158212.10776656,385643.47210678,260484.10776656,445483.47210678\n",
      "WIDTH=1598\n",
      "HEIGHT=935\n",
      "bbox_text : 158212.10776656,385643.47210678,260484.10776656,445483.47210678\n"
     ]
    },
    {
     "name": "stderr",
     "output_type": "stream",
     "text": [
      "  0%|          | 30/33698 [00:31<9:39:40,  1.03s/it]"
     ]
    },
    {
     "name": "stdout",
     "output_type": "stream",
     "text": [
      "Debugging - src content: <selenium.webdriver.remote.webelement.WebElement (session=\"5b06b3d12ca3a76e5c613afa896de233\", element=\"9E340076E16B0B12E9EB60FAF1C429D4_element_17919\")>\n",
      "Debugging - src content: https://taas.koroad.or.kr/gis36/TAAS/wms?LAYERS=GNRL_GIS_ACDNT_INFO_NON&STYLES=&FORMAT=image/png&TRANSPARENT=TRUE&TILED=false&TILESORIGIN=-30000,-60000&PROJECTION=EPSG:5179&DISPLAYPROJECTION=EPSG:5181&TRANSFORM=EPSG:5181&SERVICE=WMS&VERSION=1.1.1&REQUEST=GetMap&CQL_FILTER=(engn_code='00') and (acdnt_year between '2022' and '2022')  and (legaldong_code ilike '4146%') and (( acdnt_gae_code = '01') or ( acdnt_gae_code = '02') or ( acdnt_gae_code = '03') or ( acdnt_gae_code = '04')) and (( road_type = '6'))&SRS=EPSG:5181&BBOX=158380.3525605,384852.0435955,260652.3525605,444692.0435955&WIDTH=1598&HEIGHT=935\n",
      "src_split : ['https://taas.koroad.or.kr/gis36/TAAS/wms?LAYERS=GNRL_GIS_ACDNT_INFO_NON', 'STYLES=', 'FORMAT=image/png', 'TRANSPARENT=TRUE', 'TILED=false', 'TILESORIGIN=-30000,-60000', 'PROJECTION=EPSG:5179', 'DISPLAYPROJECTION=EPSG:5181', 'TRANSFORM=EPSG:5181', 'SERVICE=WMS', 'VERSION=1.1.1', 'REQUEST=GetMap', \"CQL_FILTER=(engn_code='00') and (acdnt_year between '2022' and '2022')  and (legaldong_code ilike '4146%') and (( acdnt_gae_code = '01') or ( acdnt_gae_code = '02') or ( acdnt_gae_code = '03') or ( acdnt_gae_code = '04')) and (( road_type = '6'))\", 'SRS=EPSG:5181', 'BBOX=158380.3525605,384852.0435955,260652.3525605,444692.0435955', 'WIDTH=1598', 'HEIGHT=935']\n",
      "Debugging - src_split:\n",
      "https://taas.koroad.or.kr/gis36/TAAS/wms?LAYERS=GNRL_GIS_ACDNT_INFO_NON\n",
      "STYLES=\n",
      "FORMAT=image/png\n",
      "TRANSPARENT=TRUE\n",
      "TILED=false\n",
      "TILESORIGIN=-30000,-60000\n",
      "PROJECTION=EPSG:5179\n",
      "DISPLAYPROJECTION=EPSG:5181\n",
      "TRANSFORM=EPSG:5181\n",
      "SERVICE=WMS\n",
      "VERSION=1.1.1\n",
      "REQUEST=GetMap\n",
      "CQL_FILTER=(engn_code='00') and (acdnt_year between '2022' and '2022')  and (legaldong_code ilike '4146%') and (( acdnt_gae_code = '01') or ( acdnt_gae_code = '02') or ( acdnt_gae_code = '03') or ( acdnt_gae_code = '04')) and (( road_type = '6'))\n",
      "SRS=EPSG:5181\n",
      "BBOX=158380.3525605,384852.0435955,260652.3525605,444692.0435955\n",
      "WIDTH=1598\n",
      "HEIGHT=935\n",
      "bbox_text : 158380.3525605,384852.0435955,260652.3525605,444692.0435955\n"
     ]
    },
    {
     "name": "stderr",
     "output_type": "stream",
     "text": [
      "  0%|          | 31/33698 [00:32<9:39:18,  1.03s/it]"
     ]
    },
    {
     "name": "stdout",
     "output_type": "stream",
     "text": [
      "Debugging - src content: <selenium.webdriver.remote.webelement.WebElement (session=\"5b06b3d12ca3a76e5c613afa896de233\", element=\"9E340076E16B0B12E9EB60FAF1C429D4_element_18359\")>\n",
      "Debugging - src content: https://taas.koroad.or.kr/gis36/TAAS/wms?LAYERS=GNRL_GIS_ACDNT_INFO_NON&STYLES=&FORMAT=image/png&TRANSPARENT=TRUE&TILED=false&TILESORIGIN=-30000,-60000&PROJECTION=EPSG:5179&DISPLAYPROJECTION=EPSG:5181&TRANSFORM=EPSG:5181&SERVICE=WMS&VERSION=1.1.1&REQUEST=GetMap&CQL_FILTER=(engn_code='00') and (acdnt_year between '2022' and '2022')  and (legaldong_code ilike '4146%') and (( acdnt_gae_code = '01') or ( acdnt_gae_code = '02') or ( acdnt_gae_code = '03') or ( acdnt_gae_code = '04')) and (( road_type = '6'))&SRS=EPSG:5181&BBOX=158366.15511882,384698.90739475,260638.15511882,444538.90739475&WIDTH=1598&HEIGHT=935\n",
      "src_split : ['https://taas.koroad.or.kr/gis36/TAAS/wms?LAYERS=GNRL_GIS_ACDNT_INFO_NON', 'STYLES=', 'FORMAT=image/png', 'TRANSPARENT=TRUE', 'TILED=false', 'TILESORIGIN=-30000,-60000', 'PROJECTION=EPSG:5179', 'DISPLAYPROJECTION=EPSG:5181', 'TRANSFORM=EPSG:5181', 'SERVICE=WMS', 'VERSION=1.1.1', 'REQUEST=GetMap', \"CQL_FILTER=(engn_code='00') and (acdnt_year between '2022' and '2022')  and (legaldong_code ilike '4146%') and (( acdnt_gae_code = '01') or ( acdnt_gae_code = '02') or ( acdnt_gae_code = '03') or ( acdnt_gae_code = '04')) and (( road_type = '6'))\", 'SRS=EPSG:5181', 'BBOX=158366.15511882,384698.90739475,260638.15511882,444538.90739475', 'WIDTH=1598', 'HEIGHT=935']\n",
      "Debugging - src_split:\n",
      "https://taas.koroad.or.kr/gis36/TAAS/wms?LAYERS=GNRL_GIS_ACDNT_INFO_NON\n",
      "STYLES=\n",
      "FORMAT=image/png\n",
      "TRANSPARENT=TRUE\n",
      "TILED=false\n",
      "TILESORIGIN=-30000,-60000\n",
      "PROJECTION=EPSG:5179\n",
      "DISPLAYPROJECTION=EPSG:5181\n",
      "TRANSFORM=EPSG:5181\n",
      "SERVICE=WMS\n",
      "VERSION=1.1.1\n",
      "REQUEST=GetMap\n",
      "CQL_FILTER=(engn_code='00') and (acdnt_year between '2022' and '2022')  and (legaldong_code ilike '4146%') and (( acdnt_gae_code = '01') or ( acdnt_gae_code = '02') or ( acdnt_gae_code = '03') or ( acdnt_gae_code = '04')) and (( road_type = '6'))\n",
      "SRS=EPSG:5181\n",
      "BBOX=158366.15511882,384698.90739475,260638.15511882,444538.90739475\n",
      "WIDTH=1598\n",
      "HEIGHT=935\n",
      "bbox_text : 158366.15511882,384698.90739475,260638.15511882,444538.90739475\n"
     ]
    },
    {
     "name": "stderr",
     "output_type": "stream",
     "text": [
      "  0%|          | 32/33698 [00:33<9:40:55,  1.04s/it]"
     ]
    },
    {
     "name": "stdout",
     "output_type": "stream",
     "text": [
      "Debugging - src content: <selenium.webdriver.remote.webelement.WebElement (session=\"5b06b3d12ca3a76e5c613afa896de233\", element=\"9E340076E16B0B12E9EB60FAF1C429D4_element_18809\")>\n",
      "Debugging - src content: https://taas.koroad.or.kr/gis36/TAAS/wms?LAYERS=GNRL_GIS_ACDNT_INFO_NON&STYLES=&FORMAT=image/png&TRANSPARENT=TRUE&TILED=false&TILESORIGIN=-30000,-60000&PROJECTION=EPSG:5179&DISPLAYPROJECTION=EPSG:5181&TRANSFORM=EPSG:5181&SERVICE=WMS&VERSION=1.1.1&REQUEST=GetMap&CQL_FILTER=(engn_code='00') and (acdnt_year between '2022' and '2022')  and (legaldong_code ilike '4146%') and (( acdnt_gae_code = '01') or ( acdnt_gae_code = '02') or ( acdnt_gae_code = '03') or ( acdnt_gae_code = '04')) and (( road_type = '6'))&SRS=EPSG:5181&BBOX=158071.56021734,390091.50846006,260343.56021734,449931.50846006&WIDTH=1598&HEIGHT=935\n",
      "src_split : ['https://taas.koroad.or.kr/gis36/TAAS/wms?LAYERS=GNRL_GIS_ACDNT_INFO_NON', 'STYLES=', 'FORMAT=image/png', 'TRANSPARENT=TRUE', 'TILED=false', 'TILESORIGIN=-30000,-60000', 'PROJECTION=EPSG:5179', 'DISPLAYPROJECTION=EPSG:5181', 'TRANSFORM=EPSG:5181', 'SERVICE=WMS', 'VERSION=1.1.1', 'REQUEST=GetMap', \"CQL_FILTER=(engn_code='00') and (acdnt_year between '2022' and '2022')  and (legaldong_code ilike '4146%') and (( acdnt_gae_code = '01') or ( acdnt_gae_code = '02') or ( acdnt_gae_code = '03') or ( acdnt_gae_code = '04')) and (( road_type = '6'))\", 'SRS=EPSG:5181', 'BBOX=158071.56021734,390091.50846006,260343.56021734,449931.50846006', 'WIDTH=1598', 'HEIGHT=935']\n",
      "Debugging - src_split:\n",
      "https://taas.koroad.or.kr/gis36/TAAS/wms?LAYERS=GNRL_GIS_ACDNT_INFO_NON\n",
      "STYLES=\n",
      "FORMAT=image/png\n",
      "TRANSPARENT=TRUE\n",
      "TILED=false\n",
      "TILESORIGIN=-30000,-60000\n",
      "PROJECTION=EPSG:5179\n",
      "DISPLAYPROJECTION=EPSG:5181\n",
      "TRANSFORM=EPSG:5181\n",
      "SERVICE=WMS\n",
      "VERSION=1.1.1\n",
      "REQUEST=GetMap\n",
      "CQL_FILTER=(engn_code='00') and (acdnt_year between '2022' and '2022')  and (legaldong_code ilike '4146%') and (( acdnt_gae_code = '01') or ( acdnt_gae_code = '02') or ( acdnt_gae_code = '03') or ( acdnt_gae_code = '04')) and (( road_type = '6'))\n",
      "SRS=EPSG:5181\n",
      "BBOX=158071.56021734,390091.50846006,260343.56021734,449931.50846006\n",
      "WIDTH=1598\n",
      "HEIGHT=935\n",
      "bbox_text : 158071.56021734,390091.50846006,260343.56021734,449931.50846006\n"
     ]
    },
    {
     "name": "stderr",
     "output_type": "stream",
     "text": [
      "  0%|          | 33/33698 [00:34<9:40:41,  1.03s/it]"
     ]
    },
    {
     "name": "stdout",
     "output_type": "stream",
     "text": [
      "Debugging - src content: <selenium.webdriver.remote.webelement.WebElement (session=\"5b06b3d12ca3a76e5c613afa896de233\", element=\"9E340076E16B0B12E9EB60FAF1C429D4_element_19259\")>\n",
      "Debugging - src content: https://taas.koroad.or.kr/gis36/TAAS/wms?LAYERS=GNRL_GIS_ACDNT_INFO_NON&STYLES=&FORMAT=image/png&TRANSPARENT=TRUE&TILED=false&TILESORIGIN=-30000,-60000&PROJECTION=EPSG:5179&DISPLAYPROJECTION=EPSG:5181&TRANSFORM=EPSG:5181&SERVICE=WMS&VERSION=1.1.1&REQUEST=GetMap&CQL_FILTER=(engn_code='00') and (acdnt_year between '2022' and '2022')  and (legaldong_code ilike '4146%') and (( acdnt_gae_code = '01') or ( acdnt_gae_code = '02') or ( acdnt_gae_code = '03') or ( acdnt_gae_code = '04')) and (( road_type = '6'))&SRS=EPSG:5181&BBOX=158085.2889322,387493.54229203,260357.2889322,447333.54229203&WIDTH=1598&HEIGHT=935\n",
      "src_split : ['https://taas.koroad.or.kr/gis36/TAAS/wms?LAYERS=GNRL_GIS_ACDNT_INFO_NON', 'STYLES=', 'FORMAT=image/png', 'TRANSPARENT=TRUE', 'TILED=false', 'TILESORIGIN=-30000,-60000', 'PROJECTION=EPSG:5179', 'DISPLAYPROJECTION=EPSG:5181', 'TRANSFORM=EPSG:5181', 'SERVICE=WMS', 'VERSION=1.1.1', 'REQUEST=GetMap', \"CQL_FILTER=(engn_code='00') and (acdnt_year between '2022' and '2022')  and (legaldong_code ilike '4146%') and (( acdnt_gae_code = '01') or ( acdnt_gae_code = '02') or ( acdnt_gae_code = '03') or ( acdnt_gae_code = '04')) and (( road_type = '6'))\", 'SRS=EPSG:5181', 'BBOX=158085.2889322,387493.54229203,260357.2889322,447333.54229203', 'WIDTH=1598', 'HEIGHT=935']\n",
      "Debugging - src_split:\n",
      "https://taas.koroad.or.kr/gis36/TAAS/wms?LAYERS=GNRL_GIS_ACDNT_INFO_NON\n",
      "STYLES=\n",
      "FORMAT=image/png\n",
      "TRANSPARENT=TRUE\n",
      "TILED=false\n",
      "TILESORIGIN=-30000,-60000\n",
      "PROJECTION=EPSG:5179\n",
      "DISPLAYPROJECTION=EPSG:5181\n",
      "TRANSFORM=EPSG:5181\n",
      "SERVICE=WMS\n",
      "VERSION=1.1.1\n",
      "REQUEST=GetMap\n",
      "CQL_FILTER=(engn_code='00') and (acdnt_year between '2022' and '2022')  and (legaldong_code ilike '4146%') and (( acdnt_gae_code = '01') or ( acdnt_gae_code = '02') or ( acdnt_gae_code = '03') or ( acdnt_gae_code = '04')) and (( road_type = '6'))\n",
      "SRS=EPSG:5181\n",
      "BBOX=158085.2889322,387493.54229203,260357.2889322,447333.54229203\n",
      "WIDTH=1598\n",
      "HEIGHT=935\n",
      "bbox_text : 158085.2889322,387493.54229203,260357.2889322,447333.54229203\n"
     ]
    },
    {
     "name": "stderr",
     "output_type": "stream",
     "text": [
      "  0%|          | 34/33698 [00:35<9:40:42,  1.04s/it]"
     ]
    },
    {
     "name": "stdout",
     "output_type": "stream",
     "text": [
      "Debugging - src content: <selenium.webdriver.remote.webelement.WebElement (session=\"5b06b3d12ca3a76e5c613afa896de233\", element=\"9E340076E16B0B12E9EB60FAF1C429D4_element_19709\")>\n",
      "Debugging - src content: https://taas.koroad.or.kr/gis36/TAAS/wms?LAYERS=GNRL_GIS_ACDNT_INFO_NON&STYLES=&FORMAT=image/png&TRANSPARENT=TRUE&TILED=false&TILESORIGIN=-30000,-60000&PROJECTION=EPSG:5179&DISPLAYPROJECTION=EPSG:5181&TRANSFORM=EPSG:5181&SERVICE=WMS&VERSION=1.1.1&REQUEST=GetMap&CQL_FILTER=(engn_code='00') and (acdnt_year between '2022' and '2022')  and (legaldong_code ilike '4146%') and (( acdnt_gae_code = '01') or ( acdnt_gae_code = '02') or ( acdnt_gae_code = '03') or ( acdnt_gae_code = '04')) and (( road_type = '6'))&SRS=EPSG:5181&BBOX=158049.37208767,391260.85872546,260321.37208767,451100.85872546&WIDTH=1598&HEIGHT=935\n",
      "src_split : ['https://taas.koroad.or.kr/gis36/TAAS/wms?LAYERS=GNRL_GIS_ACDNT_INFO_NON', 'STYLES=', 'FORMAT=image/png', 'TRANSPARENT=TRUE', 'TILED=false', 'TILESORIGIN=-30000,-60000', 'PROJECTION=EPSG:5179', 'DISPLAYPROJECTION=EPSG:5181', 'TRANSFORM=EPSG:5181', 'SERVICE=WMS', 'VERSION=1.1.1', 'REQUEST=GetMap', \"CQL_FILTER=(engn_code='00') and (acdnt_year between '2022' and '2022')  and (legaldong_code ilike '4146%') and (( acdnt_gae_code = '01') or ( acdnt_gae_code = '02') or ( acdnt_gae_code = '03') or ( acdnt_gae_code = '04')) and (( road_type = '6'))\", 'SRS=EPSG:5181', 'BBOX=158049.37208767,391260.85872546,260321.37208767,451100.85872546', 'WIDTH=1598', 'HEIGHT=935']\n",
      "Debugging - src_split:\n",
      "https://taas.koroad.or.kr/gis36/TAAS/wms?LAYERS=GNRL_GIS_ACDNT_INFO_NON\n",
      "STYLES=\n",
      "FORMAT=image/png\n",
      "TRANSPARENT=TRUE\n",
      "TILED=false\n",
      "TILESORIGIN=-30000,-60000\n",
      "PROJECTION=EPSG:5179\n",
      "DISPLAYPROJECTION=EPSG:5181\n",
      "TRANSFORM=EPSG:5181\n",
      "SERVICE=WMS\n",
      "VERSION=1.1.1\n",
      "REQUEST=GetMap\n",
      "CQL_FILTER=(engn_code='00') and (acdnt_year between '2022' and '2022')  and (legaldong_code ilike '4146%') and (( acdnt_gae_code = '01') or ( acdnt_gae_code = '02') or ( acdnt_gae_code = '03') or ( acdnt_gae_code = '04')) and (( road_type = '6'))\n",
      "SRS=EPSG:5181\n",
      "BBOX=158049.37208767,391260.85872546,260321.37208767,451100.85872546\n",
      "WIDTH=1598\n",
      "HEIGHT=935\n",
      "bbox_text : 158049.37208767,391260.85872546,260321.37208767,451100.85872546\n"
     ]
    },
    {
     "name": "stderr",
     "output_type": "stream",
     "text": [
      "  0%|          | 35/33698 [00:36<9:39:17,  1.03s/it]"
     ]
    },
    {
     "name": "stdout",
     "output_type": "stream",
     "text": [
      "Debugging - src content: <selenium.webdriver.remote.webelement.WebElement (session=\"5b06b3d12ca3a76e5c613afa896de233\", element=\"9E340076E16B0B12E9EB60FAF1C429D4_element_20149\")>\n",
      "Debugging - src content: https://taas.koroad.or.kr/gis36/TAAS/wms?LAYERS=GNRL_GIS_ACDNT_INFO_NON&STYLES=&FORMAT=image/png&TRANSPARENT=TRUE&TILED=false&TILESORIGIN=-30000,-60000&PROJECTION=EPSG:5179&DISPLAYPROJECTION=EPSG:5181&TRANSFORM=EPSG:5181&SERVICE=WMS&VERSION=1.1.1&REQUEST=GetMap&CQL_FILTER=(engn_code='00') and (acdnt_year between '2022' and '2022')  and (legaldong_code ilike '4146%') and (( acdnt_gae_code = '01') or ( acdnt_gae_code = '02') or ( acdnt_gae_code = '03') or ( acdnt_gae_code = '04')) and (( road_type = '6'))&SRS=EPSG:5181&BBOX=162805.43775528,391042.90610331,265077.43775528,450882.90610331&WIDTH=1598&HEIGHT=935\n",
      "src_split : ['https://taas.koroad.or.kr/gis36/TAAS/wms?LAYERS=GNRL_GIS_ACDNT_INFO_NON', 'STYLES=', 'FORMAT=image/png', 'TRANSPARENT=TRUE', 'TILED=false', 'TILESORIGIN=-30000,-60000', 'PROJECTION=EPSG:5179', 'DISPLAYPROJECTION=EPSG:5181', 'TRANSFORM=EPSG:5181', 'SERVICE=WMS', 'VERSION=1.1.1', 'REQUEST=GetMap', \"CQL_FILTER=(engn_code='00') and (acdnt_year between '2022' and '2022')  and (legaldong_code ilike '4146%') and (( acdnt_gae_code = '01') or ( acdnt_gae_code = '02') or ( acdnt_gae_code = '03') or ( acdnt_gae_code = '04')) and (( road_type = '6'))\", 'SRS=EPSG:5181', 'BBOX=162805.43775528,391042.90610331,265077.43775528,450882.90610331', 'WIDTH=1598', 'HEIGHT=935']\n",
      "Debugging - src_split:\n",
      "https://taas.koroad.or.kr/gis36/TAAS/wms?LAYERS=GNRL_GIS_ACDNT_INFO_NON\n",
      "STYLES=\n",
      "FORMAT=image/png\n",
      "TRANSPARENT=TRUE\n",
      "TILED=false\n",
      "TILESORIGIN=-30000,-60000\n",
      "PROJECTION=EPSG:5179\n",
      "DISPLAYPROJECTION=EPSG:5181\n",
      "TRANSFORM=EPSG:5181\n",
      "SERVICE=WMS\n",
      "VERSION=1.1.1\n",
      "REQUEST=GetMap\n",
      "CQL_FILTER=(engn_code='00') and (acdnt_year between '2022' and '2022')  and (legaldong_code ilike '4146%') and (( acdnt_gae_code = '01') or ( acdnt_gae_code = '02') or ( acdnt_gae_code = '03') or ( acdnt_gae_code = '04')) and (( road_type = '6'))\n",
      "SRS=EPSG:5181\n",
      "BBOX=162805.43775528,391042.90610331,265077.43775528,450882.90610331\n",
      "WIDTH=1598\n",
      "HEIGHT=935\n",
      "bbox_text : 162805.43775528,391042.90610331,265077.43775528,450882.90610331\n"
     ]
    },
    {
     "name": "stderr",
     "output_type": "stream",
     "text": [
      "  0%|          | 36/33698 [00:37<9:39:34,  1.03s/it]"
     ]
    },
    {
     "name": "stdout",
     "output_type": "stream",
     "text": [
      "Debugging - src content: <selenium.webdriver.remote.webelement.WebElement (session=\"5b06b3d12ca3a76e5c613afa896de233\", element=\"9E340076E16B0B12E9EB60FAF1C429D4_element_20589\")>\n",
      "Debugging - src content: https://taas.koroad.or.kr/gis36/TAAS/wms?LAYERS=GNRL_GIS_ACDNT_INFO_NON&STYLES=&FORMAT=image/png&TRANSPARENT=TRUE&TILED=false&TILESORIGIN=-30000,-60000&PROJECTION=EPSG:5179&DISPLAYPROJECTION=EPSG:5181&TRANSFORM=EPSG:5181&SERVICE=WMS&VERSION=1.1.1&REQUEST=GetMap&CQL_FILTER=(engn_code='00') and (acdnt_year between '2022' and '2022')  and (legaldong_code ilike '4146%') and (( acdnt_gae_code = '01') or ( acdnt_gae_code = '02') or ( acdnt_gae_code = '03') or ( acdnt_gae_code = '04')) and (( road_type = '6'))&SRS=EPSG:5181&BBOX=165815.5483094,388603.81781362,268087.5483094,448443.81781362&WIDTH=1598&HEIGHT=935\n",
      "src_split : ['https://taas.koroad.or.kr/gis36/TAAS/wms?LAYERS=GNRL_GIS_ACDNT_INFO_NON', 'STYLES=', 'FORMAT=image/png', 'TRANSPARENT=TRUE', 'TILED=false', 'TILESORIGIN=-30000,-60000', 'PROJECTION=EPSG:5179', 'DISPLAYPROJECTION=EPSG:5181', 'TRANSFORM=EPSG:5181', 'SERVICE=WMS', 'VERSION=1.1.1', 'REQUEST=GetMap', \"CQL_FILTER=(engn_code='00') and (acdnt_year between '2022' and '2022')  and (legaldong_code ilike '4146%') and (( acdnt_gae_code = '01') or ( acdnt_gae_code = '02') or ( acdnt_gae_code = '03') or ( acdnt_gae_code = '04')) and (( road_type = '6'))\", 'SRS=EPSG:5181', 'BBOX=165815.5483094,388603.81781362,268087.5483094,448443.81781362', 'WIDTH=1598', 'HEIGHT=935']\n",
      "Debugging - src_split:\n",
      "https://taas.koroad.or.kr/gis36/TAAS/wms?LAYERS=GNRL_GIS_ACDNT_INFO_NON\n",
      "STYLES=\n",
      "FORMAT=image/png\n",
      "TRANSPARENT=TRUE\n",
      "TILED=false\n",
      "TILESORIGIN=-30000,-60000\n",
      "PROJECTION=EPSG:5179\n",
      "DISPLAYPROJECTION=EPSG:5181\n",
      "TRANSFORM=EPSG:5181\n",
      "SERVICE=WMS\n",
      "VERSION=1.1.1\n",
      "REQUEST=GetMap\n",
      "CQL_FILTER=(engn_code='00') and (acdnt_year between '2022' and '2022')  and (legaldong_code ilike '4146%') and (( acdnt_gae_code = '01') or ( acdnt_gae_code = '02') or ( acdnt_gae_code = '03') or ( acdnt_gae_code = '04')) and (( road_type = '6'))\n",
      "SRS=EPSG:5181\n",
      "BBOX=165815.5483094,388603.81781362,268087.5483094,448443.81781362\n",
      "WIDTH=1598\n",
      "HEIGHT=935\n",
      "bbox_text : 165815.5483094,388603.81781362,268087.5483094,448443.81781362\n"
     ]
    },
    {
     "name": "stderr",
     "output_type": "stream",
     "text": [
      "  0%|          | 37/33698 [00:38<9:39:20,  1.03s/it]"
     ]
    },
    {
     "name": "stdout",
     "output_type": "stream",
     "text": [
      "Debugging - src content: <selenium.webdriver.remote.webelement.WebElement (session=\"5b06b3d12ca3a76e5c613afa896de233\", element=\"9E340076E16B0B12E9EB60FAF1C429D4_element_21029\")>\n",
      "Debugging - src content: https://taas.koroad.or.kr/gis36/TAAS/wms?LAYERS=GNRL_GIS_ACDNT_INFO_NON&STYLES=&FORMAT=image/png&TRANSPARENT=TRUE&TILED=false&TILESORIGIN=-30000,-60000&PROJECTION=EPSG:5179&DISPLAYPROJECTION=EPSG:5181&TRANSFORM=EPSG:5181&SERVICE=WMS&VERSION=1.1.1&REQUEST=GetMap&CQL_FILTER=(engn_code='00') and (acdnt_year between '2022' and '2022')  and (legaldong_code ilike '4146%') and (( acdnt_gae_code = '01') or ( acdnt_gae_code = '02') or ( acdnt_gae_code = '03') or ( acdnt_gae_code = '04')) and (( road_type = '6'))&SRS=EPSG:5181&BBOX=158073.58307286,390276.59314825,260345.58307286,450116.59314825&WIDTH=1598&HEIGHT=935\n",
      "src_split : ['https://taas.koroad.or.kr/gis36/TAAS/wms?LAYERS=GNRL_GIS_ACDNT_INFO_NON', 'STYLES=', 'FORMAT=image/png', 'TRANSPARENT=TRUE', 'TILED=false', 'TILESORIGIN=-30000,-60000', 'PROJECTION=EPSG:5179', 'DISPLAYPROJECTION=EPSG:5181', 'TRANSFORM=EPSG:5181', 'SERVICE=WMS', 'VERSION=1.1.1', 'REQUEST=GetMap', \"CQL_FILTER=(engn_code='00') and (acdnt_year between '2022' and '2022')  and (legaldong_code ilike '4146%') and (( acdnt_gae_code = '01') or ( acdnt_gae_code = '02') or ( acdnt_gae_code = '03') or ( acdnt_gae_code = '04')) and (( road_type = '6'))\", 'SRS=EPSG:5181', 'BBOX=158073.58307286,390276.59314825,260345.58307286,450116.59314825', 'WIDTH=1598', 'HEIGHT=935']\n",
      "Debugging - src_split:\n",
      "https://taas.koroad.or.kr/gis36/TAAS/wms?LAYERS=GNRL_GIS_ACDNT_INFO_NON\n",
      "STYLES=\n",
      "FORMAT=image/png\n",
      "TRANSPARENT=TRUE\n",
      "TILED=false\n",
      "TILESORIGIN=-30000,-60000\n",
      "PROJECTION=EPSG:5179\n",
      "DISPLAYPROJECTION=EPSG:5181\n",
      "TRANSFORM=EPSG:5181\n",
      "SERVICE=WMS\n",
      "VERSION=1.1.1\n",
      "REQUEST=GetMap\n",
      "CQL_FILTER=(engn_code='00') and (acdnt_year between '2022' and '2022')  and (legaldong_code ilike '4146%') and (( acdnt_gae_code = '01') or ( acdnt_gae_code = '02') or ( acdnt_gae_code = '03') or ( acdnt_gae_code = '04')) and (( road_type = '6'))\n",
      "SRS=EPSG:5181\n",
      "BBOX=158073.58307286,390276.59314825,260345.58307286,450116.59314825\n",
      "WIDTH=1598\n",
      "HEIGHT=935\n",
      "bbox_text : 158073.58307286,390276.59314825,260345.58307286,450116.59314825\n"
     ]
    },
    {
     "name": "stderr",
     "output_type": "stream",
     "text": [
      "  0%|          | 38/33698 [00:39<9:39:42,  1.03s/it]"
     ]
    },
    {
     "name": "stdout",
     "output_type": "stream",
     "text": [
      "Debugging - src content: <selenium.webdriver.remote.webelement.WebElement (session=\"5b06b3d12ca3a76e5c613afa896de233\", element=\"9E340076E16B0B12E9EB60FAF1C429D4_element_21479\")>\n",
      "Debugging - src content: https://taas.koroad.or.kr/gis36/TAAS/wms?LAYERS=GNRL_GIS_ACDNT_INFO_NON&STYLES=&FORMAT=image/png&TRANSPARENT=TRUE&TILED=false&TILESORIGIN=-30000,-60000&PROJECTION=EPSG:5179&DISPLAYPROJECTION=EPSG:5181&TRANSFORM=EPSG:5181&SERVICE=WMS&VERSION=1.1.1&REQUEST=GetMap&CQL_FILTER=(engn_code='00') and (acdnt_year between '2022' and '2022')  and (legaldong_code ilike '4146%') and (( acdnt_gae_code = '01') or ( acdnt_gae_code = '02') or ( acdnt_gae_code = '03') or ( acdnt_gae_code = '04')) and (( road_type = '6'))&SRS=EPSG:5181&BBOX=158173.17437748,385817.33610767,260445.17437748,445657.33610767&WIDTH=1598&HEIGHT=935\n",
      "src_split : ['https://taas.koroad.or.kr/gis36/TAAS/wms?LAYERS=GNRL_GIS_ACDNT_INFO_NON', 'STYLES=', 'FORMAT=image/png', 'TRANSPARENT=TRUE', 'TILED=false', 'TILESORIGIN=-30000,-60000', 'PROJECTION=EPSG:5179', 'DISPLAYPROJECTION=EPSG:5181', 'TRANSFORM=EPSG:5181', 'SERVICE=WMS', 'VERSION=1.1.1', 'REQUEST=GetMap', \"CQL_FILTER=(engn_code='00') and (acdnt_year between '2022' and '2022')  and (legaldong_code ilike '4146%') and (( acdnt_gae_code = '01') or ( acdnt_gae_code = '02') or ( acdnt_gae_code = '03') or ( acdnt_gae_code = '04')) and (( road_type = '6'))\", 'SRS=EPSG:5181', 'BBOX=158173.17437748,385817.33610767,260445.17437748,445657.33610767', 'WIDTH=1598', 'HEIGHT=935']\n",
      "Debugging - src_split:\n",
      "https://taas.koroad.or.kr/gis36/TAAS/wms?LAYERS=GNRL_GIS_ACDNT_INFO_NON\n",
      "STYLES=\n",
      "FORMAT=image/png\n",
      "TRANSPARENT=TRUE\n",
      "TILED=false\n",
      "TILESORIGIN=-30000,-60000\n",
      "PROJECTION=EPSG:5179\n",
      "DISPLAYPROJECTION=EPSG:5181\n",
      "TRANSFORM=EPSG:5181\n",
      "SERVICE=WMS\n",
      "VERSION=1.1.1\n",
      "REQUEST=GetMap\n",
      "CQL_FILTER=(engn_code='00') and (acdnt_year between '2022' and '2022')  and (legaldong_code ilike '4146%') and (( acdnt_gae_code = '01') or ( acdnt_gae_code = '02') or ( acdnt_gae_code = '03') or ( acdnt_gae_code = '04')) and (( road_type = '6'))\n",
      "SRS=EPSG:5181\n",
      "BBOX=158173.17437748,385817.33610767,260445.17437748,445657.33610767\n",
      "WIDTH=1598\n",
      "HEIGHT=935\n",
      "bbox_text : 158173.17437748,385817.33610767,260445.17437748,445657.33610767\n"
     ]
    },
    {
     "name": "stderr",
     "output_type": "stream",
     "text": [
      "  0%|          | 39/33698 [00:40<9:40:30,  1.03s/it]"
     ]
    },
    {
     "name": "stdout",
     "output_type": "stream",
     "text": [
      "Debugging - src content: <selenium.webdriver.remote.webelement.WebElement (session=\"5b06b3d12ca3a76e5c613afa896de233\", element=\"9E340076E16B0B12E9EB60FAF1C429D4_element_21929\")>\n",
      "Debugging - src content: https://taas.koroad.or.kr/gis36/TAAS/wms?LAYERS=GNRL_GIS_ACDNT_INFO_NON&STYLES=&FORMAT=image/png&TRANSPARENT=TRUE&TILED=false&TILESORIGIN=-30000,-60000&PROJECTION=EPSG:5179&DISPLAYPROJECTION=EPSG:5181&TRANSFORM=EPSG:5181&SERVICE=WMS&VERSION=1.1.1&REQUEST=GetMap&CQL_FILTER=(engn_code='00') and (acdnt_year between '2022' and '2022')  and (legaldong_code ilike '4146%') and (( acdnt_gae_code = '01') or ( acdnt_gae_code = '02') or ( acdnt_gae_code = '03') or ( acdnt_gae_code = '04')) and (( road_type = '6'))&SRS=EPSG:5181&BBOX=159361.65424106,370448.44567842,261633.65424106,430288.44567842&WIDTH=1598&HEIGHT=935\n",
      "src_split : ['https://taas.koroad.or.kr/gis36/TAAS/wms?LAYERS=GNRL_GIS_ACDNT_INFO_NON', 'STYLES=', 'FORMAT=image/png', 'TRANSPARENT=TRUE', 'TILED=false', 'TILESORIGIN=-30000,-60000', 'PROJECTION=EPSG:5179', 'DISPLAYPROJECTION=EPSG:5181', 'TRANSFORM=EPSG:5181', 'SERVICE=WMS', 'VERSION=1.1.1', 'REQUEST=GetMap', \"CQL_FILTER=(engn_code='00') and (acdnt_year between '2022' and '2022')  and (legaldong_code ilike '4146%') and (( acdnt_gae_code = '01') or ( acdnt_gae_code = '02') or ( acdnt_gae_code = '03') or ( acdnt_gae_code = '04')) and (( road_type = '6'))\", 'SRS=EPSG:5181', 'BBOX=159361.65424106,370448.44567842,261633.65424106,430288.44567842', 'WIDTH=1598', 'HEIGHT=935']\n",
      "Debugging - src_split:\n",
      "https://taas.koroad.or.kr/gis36/TAAS/wms?LAYERS=GNRL_GIS_ACDNT_INFO_NON\n",
      "STYLES=\n",
      "FORMAT=image/png\n",
      "TRANSPARENT=TRUE\n",
      "TILED=false\n",
      "TILESORIGIN=-30000,-60000\n",
      "PROJECTION=EPSG:5179\n",
      "DISPLAYPROJECTION=EPSG:5181\n",
      "TRANSFORM=EPSG:5181\n",
      "SERVICE=WMS\n",
      "VERSION=1.1.1\n",
      "REQUEST=GetMap\n",
      "CQL_FILTER=(engn_code='00') and (acdnt_year between '2022' and '2022')  and (legaldong_code ilike '4146%') and (( acdnt_gae_code = '01') or ( acdnt_gae_code = '02') or ( acdnt_gae_code = '03') or ( acdnt_gae_code = '04')) and (( road_type = '6'))\n",
      "SRS=EPSG:5181\n",
      "BBOX=159361.65424106,370448.44567842,261633.65424106,430288.44567842\n",
      "WIDTH=1598\n",
      "HEIGHT=935\n",
      "bbox_text : 159361.65424106,370448.44567842,261633.65424106,430288.44567842\n"
     ]
    },
    {
     "name": "stderr",
     "output_type": "stream",
     "text": [
      "  0%|          | 40/33698 [00:41<9:41:01,  1.04s/it]"
     ]
    },
    {
     "name": "stdout",
     "output_type": "stream",
     "text": [
      "Debugging - src content: <selenium.webdriver.remote.webelement.WebElement (session=\"5b06b3d12ca3a76e5c613afa896de233\", element=\"9E340076E16B0B12E9EB60FAF1C429D4_element_22389\")>\n",
      "Debugging - src content: https://taas.koroad.or.kr/gis36/TAAS/wms?LAYERS=GNRL_GIS_ACDNT_INFO_NON&STYLES=&FORMAT=image/png&TRANSPARENT=TRUE&TILED=false&TILESORIGIN=-30000,-60000&PROJECTION=EPSG:5179&DISPLAYPROJECTION=EPSG:5181&TRANSFORM=EPSG:5181&SERVICE=WMS&VERSION=1.1.1&REQUEST=GetMap&CQL_FILTER=(engn_code='00') and (acdnt_year between '2022' and '2022')  and (legaldong_code ilike '4146%') and (( acdnt_gae_code = '01') or ( acdnt_gae_code = '02') or ( acdnt_gae_code = '03') or ( acdnt_gae_code = '04')) and (( road_type = '6'))&SRS=EPSG:5181&BBOX=154081.36143503,395692.64049296,256353.36143503,455532.64049296&WIDTH=1598&HEIGHT=935\n",
      "src_split : ['https://taas.koroad.or.kr/gis36/TAAS/wms?LAYERS=GNRL_GIS_ACDNT_INFO_NON', 'STYLES=', 'FORMAT=image/png', 'TRANSPARENT=TRUE', 'TILED=false', 'TILESORIGIN=-30000,-60000', 'PROJECTION=EPSG:5179', 'DISPLAYPROJECTION=EPSG:5181', 'TRANSFORM=EPSG:5181', 'SERVICE=WMS', 'VERSION=1.1.1', 'REQUEST=GetMap', \"CQL_FILTER=(engn_code='00') and (acdnt_year between '2022' and '2022')  and (legaldong_code ilike '4146%') and (( acdnt_gae_code = '01') or ( acdnt_gae_code = '02') or ( acdnt_gae_code = '03') or ( acdnt_gae_code = '04')) and (( road_type = '6'))\", 'SRS=EPSG:5181', 'BBOX=154081.36143503,395692.64049296,256353.36143503,455532.64049296', 'WIDTH=1598', 'HEIGHT=935']\n",
      "Debugging - src_split:\n",
      "https://taas.koroad.or.kr/gis36/TAAS/wms?LAYERS=GNRL_GIS_ACDNT_INFO_NON\n",
      "STYLES=\n",
      "FORMAT=image/png\n",
      "TRANSPARENT=TRUE\n",
      "TILED=false\n",
      "TILESORIGIN=-30000,-60000\n",
      "PROJECTION=EPSG:5179\n",
      "DISPLAYPROJECTION=EPSG:5181\n",
      "TRANSFORM=EPSG:5181\n",
      "SERVICE=WMS\n",
      "VERSION=1.1.1\n",
      "REQUEST=GetMap\n",
      "CQL_FILTER=(engn_code='00') and (acdnt_year between '2022' and '2022')  and (legaldong_code ilike '4146%') and (( acdnt_gae_code = '01') or ( acdnt_gae_code = '02') or ( acdnt_gae_code = '03') or ( acdnt_gae_code = '04')) and (( road_type = '6'))\n",
      "SRS=EPSG:5181\n",
      "BBOX=154081.36143503,395692.64049296,256353.36143503,455532.64049296\n",
      "WIDTH=1598\n",
      "HEIGHT=935\n",
      "bbox_text : 154081.36143503,395692.64049296,256353.36143503,455532.64049296\n"
     ]
    },
    {
     "name": "stderr",
     "output_type": "stream",
     "text": [
      "  0%|          | 41/33698 [00:42<9:40:02,  1.03s/it]"
     ]
    },
    {
     "name": "stdout",
     "output_type": "stream",
     "text": [
      "Debugging - src content: <selenium.webdriver.remote.webelement.WebElement (session=\"5b06b3d12ca3a76e5c613afa896de233\", element=\"9E340076E16B0B12E9EB60FAF1C429D4_element_22829\")>\n",
      "Debugging - src content: https://taas.koroad.or.kr/gis36/TAAS/wms?LAYERS=GNRL_GIS_ACDNT_INFO_NON&STYLES=&FORMAT=image/png&TRANSPARENT=TRUE&TILED=false&TILESORIGIN=-30000,-60000&PROJECTION=EPSG:5179&DISPLAYPROJECTION=EPSG:5181&TRANSFORM=EPSG:5181&SERVICE=WMS&VERSION=1.1.1&REQUEST=GetMap&CQL_FILTER=(engn_code='00') and (acdnt_year between '2022' and '2022')  and (legaldong_code ilike '4146%') and (( acdnt_gae_code = '01') or ( acdnt_gae_code = '02') or ( acdnt_gae_code = '03') or ( acdnt_gae_code = '04')) and (( road_type = '6'))&SRS=EPSG:5181&BBOX=158053.45456704,395217.46225696,260325.45456704,455057.46225696&WIDTH=1598&HEIGHT=935\n",
      "src_split : ['https://taas.koroad.or.kr/gis36/TAAS/wms?LAYERS=GNRL_GIS_ACDNT_INFO_NON', 'STYLES=', 'FORMAT=image/png', 'TRANSPARENT=TRUE', 'TILED=false', 'TILESORIGIN=-30000,-60000', 'PROJECTION=EPSG:5179', 'DISPLAYPROJECTION=EPSG:5181', 'TRANSFORM=EPSG:5181', 'SERVICE=WMS', 'VERSION=1.1.1', 'REQUEST=GetMap', \"CQL_FILTER=(engn_code='00') and (acdnt_year between '2022' and '2022')  and (legaldong_code ilike '4146%') and (( acdnt_gae_code = '01') or ( acdnt_gae_code = '02') or ( acdnt_gae_code = '03') or ( acdnt_gae_code = '04')) and (( road_type = '6'))\", 'SRS=EPSG:5181', 'BBOX=158053.45456704,395217.46225696,260325.45456704,455057.46225696', 'WIDTH=1598', 'HEIGHT=935']\n",
      "Debugging - src_split:\n",
      "https://taas.koroad.or.kr/gis36/TAAS/wms?LAYERS=GNRL_GIS_ACDNT_INFO_NON\n",
      "STYLES=\n",
      "FORMAT=image/png\n",
      "TRANSPARENT=TRUE\n",
      "TILED=false\n",
      "TILESORIGIN=-30000,-60000\n",
      "PROJECTION=EPSG:5179\n",
      "DISPLAYPROJECTION=EPSG:5181\n",
      "TRANSFORM=EPSG:5181\n",
      "SERVICE=WMS\n",
      "VERSION=1.1.1\n",
      "REQUEST=GetMap\n",
      "CQL_FILTER=(engn_code='00') and (acdnt_year between '2022' and '2022')  and (legaldong_code ilike '4146%') and (( acdnt_gae_code = '01') or ( acdnt_gae_code = '02') or ( acdnt_gae_code = '03') or ( acdnt_gae_code = '04')) and (( road_type = '6'))\n",
      "SRS=EPSG:5181\n",
      "BBOX=158053.45456704,395217.46225696,260325.45456704,455057.46225696\n",
      "WIDTH=1598\n",
      "HEIGHT=935\n",
      "bbox_text : 158053.45456704,395217.46225696,260325.45456704,455057.46225696\n"
     ]
    },
    {
     "name": "stderr",
     "output_type": "stream",
     "text": [
      "  0%|          | 42/33698 [00:43<9:40:04,  1.03s/it]"
     ]
    },
    {
     "name": "stdout",
     "output_type": "stream",
     "text": [
      "Debugging - src content: <selenium.webdriver.remote.webelement.WebElement (session=\"5b06b3d12ca3a76e5c613afa896de233\", element=\"9E340076E16B0B12E9EB60FAF1C429D4_element_23279\")>\n",
      "Debugging - src content: https://taas.koroad.or.kr/gis36/TAAS/wms?LAYERS=GNRL_GIS_ACDNT_INFO_NON&STYLES=&FORMAT=image/png&TRANSPARENT=TRUE&TILED=false&TILESORIGIN=-30000,-60000&PROJECTION=EPSG:5179&DISPLAYPROJECTION=EPSG:5181&TRANSFORM=EPSG:5181&SERVICE=WMS&VERSION=1.1.1&REQUEST=GetMap&CQL_FILTER=(engn_code='00') and (acdnt_year between '2022' and '2022')  and (legaldong_code ilike '4146%') and (( acdnt_gae_code = '01') or ( acdnt_gae_code = '02') or ( acdnt_gae_code = '03') or ( acdnt_gae_code = '04')) and (( road_type = '6'))&SRS=EPSG:5181&BBOX=158079.56151617,387441.49123648,260351.56151617,447281.49123648&WIDTH=1598&HEIGHT=935\n",
      "src_split : ['https://taas.koroad.or.kr/gis36/TAAS/wms?LAYERS=GNRL_GIS_ACDNT_INFO_NON', 'STYLES=', 'FORMAT=image/png', 'TRANSPARENT=TRUE', 'TILED=false', 'TILESORIGIN=-30000,-60000', 'PROJECTION=EPSG:5179', 'DISPLAYPROJECTION=EPSG:5181', 'TRANSFORM=EPSG:5181', 'SERVICE=WMS', 'VERSION=1.1.1', 'REQUEST=GetMap', \"CQL_FILTER=(engn_code='00') and (acdnt_year between '2022' and '2022')  and (legaldong_code ilike '4146%') and (( acdnt_gae_code = '01') or ( acdnt_gae_code = '02') or ( acdnt_gae_code = '03') or ( acdnt_gae_code = '04')) and (( road_type = '6'))\", 'SRS=EPSG:5181', 'BBOX=158079.56151617,387441.49123648,260351.56151617,447281.49123648', 'WIDTH=1598', 'HEIGHT=935']\n",
      "Debugging - src_split:\n",
      "https://taas.koroad.or.kr/gis36/TAAS/wms?LAYERS=GNRL_GIS_ACDNT_INFO_NON\n",
      "STYLES=\n",
      "FORMAT=image/png\n",
      "TRANSPARENT=TRUE\n",
      "TILED=false\n",
      "TILESORIGIN=-30000,-60000\n",
      "PROJECTION=EPSG:5179\n",
      "DISPLAYPROJECTION=EPSG:5181\n",
      "TRANSFORM=EPSG:5181\n",
      "SERVICE=WMS\n",
      "VERSION=1.1.1\n",
      "REQUEST=GetMap\n",
      "CQL_FILTER=(engn_code='00') and (acdnt_year between '2022' and '2022')  and (legaldong_code ilike '4146%') and (( acdnt_gae_code = '01') or ( acdnt_gae_code = '02') or ( acdnt_gae_code = '03') or ( acdnt_gae_code = '04')) and (( road_type = '6'))\n",
      "SRS=EPSG:5181\n",
      "BBOX=158079.56151617,387441.49123648,260351.56151617,447281.49123648\n",
      "WIDTH=1598\n",
      "HEIGHT=935\n",
      "bbox_text : 158079.56151617,387441.49123648,260351.56151617,447281.49123648\n"
     ]
    },
    {
     "name": "stderr",
     "output_type": "stream",
     "text": [
      "  0%|          | 43/33698 [00:44<9:39:53,  1.03s/it]"
     ]
    },
    {
     "name": "stdout",
     "output_type": "stream",
     "text": [
      "Debugging - src content: <selenium.webdriver.remote.webelement.WebElement (session=\"5b06b3d12ca3a76e5c613afa896de233\", element=\"9E340076E16B0B12E9EB60FAF1C429D4_element_23729\")>\n",
      "Debugging - src content: https://taas.koroad.or.kr/gis36/TAAS/wms?LAYERS=GNRL_GIS_ACDNT_INFO_NON&STYLES=&FORMAT=image/png&TRANSPARENT=TRUE&TILED=false&TILESORIGIN=-30000,-60000&PROJECTION=EPSG:5179&DISPLAYPROJECTION=EPSG:5181&TRANSFORM=EPSG:5181&SERVICE=WMS&VERSION=1.1.1&REQUEST=GetMap&CQL_FILTER=(engn_code='00') and (acdnt_year between '2022' and '2022')  and (legaldong_code ilike '4146%') and (( acdnt_gae_code = '01') or ( acdnt_gae_code = '02') or ( acdnt_gae_code = '03') or ( acdnt_gae_code = '04')) and (( road_type = '6'))&SRS=EPSG:5181&BBOX=158005.19328425,395074.14969271,260277.19328425,454914.14969271&WIDTH=1598&HEIGHT=935\n",
      "src_split : ['https://taas.koroad.or.kr/gis36/TAAS/wms?LAYERS=GNRL_GIS_ACDNT_INFO_NON', 'STYLES=', 'FORMAT=image/png', 'TRANSPARENT=TRUE', 'TILED=false', 'TILESORIGIN=-30000,-60000', 'PROJECTION=EPSG:5179', 'DISPLAYPROJECTION=EPSG:5181', 'TRANSFORM=EPSG:5181', 'SERVICE=WMS', 'VERSION=1.1.1', 'REQUEST=GetMap', \"CQL_FILTER=(engn_code='00') and (acdnt_year between '2022' and '2022')  and (legaldong_code ilike '4146%') and (( acdnt_gae_code = '01') or ( acdnt_gae_code = '02') or ( acdnt_gae_code = '03') or ( acdnt_gae_code = '04')) and (( road_type = '6'))\", 'SRS=EPSG:5181', 'BBOX=158005.19328425,395074.14969271,260277.19328425,454914.14969271', 'WIDTH=1598', 'HEIGHT=935']\n",
      "Debugging - src_split:\n",
      "https://taas.koroad.or.kr/gis36/TAAS/wms?LAYERS=GNRL_GIS_ACDNT_INFO_NON\n",
      "STYLES=\n",
      "FORMAT=image/png\n",
      "TRANSPARENT=TRUE\n",
      "TILED=false\n",
      "TILESORIGIN=-30000,-60000\n",
      "PROJECTION=EPSG:5179\n",
      "DISPLAYPROJECTION=EPSG:5181\n",
      "TRANSFORM=EPSG:5181\n",
      "SERVICE=WMS\n",
      "VERSION=1.1.1\n",
      "REQUEST=GetMap\n",
      "CQL_FILTER=(engn_code='00') and (acdnt_year between '2022' and '2022')  and (legaldong_code ilike '4146%') and (( acdnt_gae_code = '01') or ( acdnt_gae_code = '02') or ( acdnt_gae_code = '03') or ( acdnt_gae_code = '04')) and (( road_type = '6'))\n",
      "SRS=EPSG:5181\n",
      "BBOX=158005.19328425,395074.14969271,260277.19328425,454914.14969271\n",
      "WIDTH=1598\n",
      "HEIGHT=935\n",
      "bbox_text : 158005.19328425,395074.14969271,260277.19328425,454914.14969271\n"
     ]
    },
    {
     "name": "stderr",
     "output_type": "stream",
     "text": [
      "  0%|          | 44/33698 [00:45<9:40:20,  1.03s/it]"
     ]
    },
    {
     "name": "stdout",
     "output_type": "stream",
     "text": [
      "Debugging - src content: <selenium.webdriver.remote.webelement.WebElement (session=\"5b06b3d12ca3a76e5c613afa896de233\", element=\"9E340076E16B0B12E9EB60FAF1C429D4_element_24179\")>\n",
      "Debugging - src content: https://taas.koroad.or.kr/gis36/TAAS/wms?LAYERS=GNRL_GIS_ACDNT_INFO_NON&STYLES=&FORMAT=image/png&TRANSPARENT=TRUE&TILED=false&TILESORIGIN=-30000,-60000&PROJECTION=EPSG:5179&DISPLAYPROJECTION=EPSG:5181&TRANSFORM=EPSG:5181&SERVICE=WMS&VERSION=1.1.1&REQUEST=GetMap&CQL_FILTER=(engn_code='00') and (acdnt_year between '2022' and '2022')  and (legaldong_code ilike '4146%') and (( acdnt_gae_code = '01') or ( acdnt_gae_code = '02') or ( acdnt_gae_code = '03') or ( acdnt_gae_code = '04')) and (( road_type = '6'))&SRS=EPSG:5181&BBOX=158055.08927851,388475.7754826,260327.08927851,448315.7754826&WIDTH=1598&HEIGHT=935\n",
      "src_split : ['https://taas.koroad.or.kr/gis36/TAAS/wms?LAYERS=GNRL_GIS_ACDNT_INFO_NON', 'STYLES=', 'FORMAT=image/png', 'TRANSPARENT=TRUE', 'TILED=false', 'TILESORIGIN=-30000,-60000', 'PROJECTION=EPSG:5179', 'DISPLAYPROJECTION=EPSG:5181', 'TRANSFORM=EPSG:5181', 'SERVICE=WMS', 'VERSION=1.1.1', 'REQUEST=GetMap', \"CQL_FILTER=(engn_code='00') and (acdnt_year between '2022' and '2022')  and (legaldong_code ilike '4146%') and (( acdnt_gae_code = '01') or ( acdnt_gae_code = '02') or ( acdnt_gae_code = '03') or ( acdnt_gae_code = '04')) and (( road_type = '6'))\", 'SRS=EPSG:5181', 'BBOX=158055.08927851,388475.7754826,260327.08927851,448315.7754826', 'WIDTH=1598', 'HEIGHT=935']\n",
      "Debugging - src_split:\n",
      "https://taas.koroad.or.kr/gis36/TAAS/wms?LAYERS=GNRL_GIS_ACDNT_INFO_NON\n",
      "STYLES=\n",
      "FORMAT=image/png\n",
      "TRANSPARENT=TRUE\n",
      "TILED=false\n",
      "TILESORIGIN=-30000,-60000\n",
      "PROJECTION=EPSG:5179\n",
      "DISPLAYPROJECTION=EPSG:5181\n",
      "TRANSFORM=EPSG:5181\n",
      "SERVICE=WMS\n",
      "VERSION=1.1.1\n",
      "REQUEST=GetMap\n",
      "CQL_FILTER=(engn_code='00') and (acdnt_year between '2022' and '2022')  and (legaldong_code ilike '4146%') and (( acdnt_gae_code = '01') or ( acdnt_gae_code = '02') or ( acdnt_gae_code = '03') or ( acdnt_gae_code = '04')) and (( road_type = '6'))\n",
      "SRS=EPSG:5181\n",
      "BBOX=158055.08927851,388475.7754826,260327.08927851,448315.7754826\n",
      "WIDTH=1598\n",
      "HEIGHT=935\n",
      "bbox_text : 158055.08927851,388475.7754826,260327.08927851,448315.7754826\n"
     ]
    },
    {
     "name": "stderr",
     "output_type": "stream",
     "text": [
      "  0%|          | 45/33698 [00:46<9:40:33,  1.04s/it]"
     ]
    },
    {
     "name": "stdout",
     "output_type": "stream",
     "text": [
      "Debugging - src content: <selenium.webdriver.remote.webelement.WebElement (session=\"5b06b3d12ca3a76e5c613afa896de233\", element=\"9E340076E16B0B12E9EB60FAF1C429D4_element_24626\")>\n",
      "Debugging - src content: https://taas.koroad.or.kr/gis36/TAAS/wms?LAYERS=GNRL_GIS_ACDNT_INFO_NON&STYLES=&FORMAT=image/png&TRANSPARENT=TRUE&TILED=false&TILESORIGIN=-30000,-60000&PROJECTION=EPSG:5179&DISPLAYPROJECTION=EPSG:5181&TRANSFORM=EPSG:5181&SERVICE=WMS&VERSION=1.1.1&REQUEST=GetMap&CQL_FILTER=(engn_code='00') and (acdnt_year between '2022' and '2022')  and (legaldong_code ilike '4146%') and (( acdnt_gae_code = '01') or ( acdnt_gae_code = '02') or ( acdnt_gae_code = '03') or ( acdnt_gae_code = '04')) and (( road_type = '6'))&SRS=EPSG:5181&BBOX=170003.5901787,386649.13210209,272275.5901787,446489.13210209&WIDTH=1598&HEIGHT=935\n",
      "src_split : ['https://taas.koroad.or.kr/gis36/TAAS/wms?LAYERS=GNRL_GIS_ACDNT_INFO_NON', 'STYLES=', 'FORMAT=image/png', 'TRANSPARENT=TRUE', 'TILED=false', 'TILESORIGIN=-30000,-60000', 'PROJECTION=EPSG:5179', 'DISPLAYPROJECTION=EPSG:5181', 'TRANSFORM=EPSG:5181', 'SERVICE=WMS', 'VERSION=1.1.1', 'REQUEST=GetMap', \"CQL_FILTER=(engn_code='00') and (acdnt_year between '2022' and '2022')  and (legaldong_code ilike '4146%') and (( acdnt_gae_code = '01') or ( acdnt_gae_code = '02') or ( acdnt_gae_code = '03') or ( acdnt_gae_code = '04')) and (( road_type = '6'))\", 'SRS=EPSG:5181', 'BBOX=170003.5901787,386649.13210209,272275.5901787,446489.13210209', 'WIDTH=1598', 'HEIGHT=935']\n",
      "Debugging - src_split:\n",
      "https://taas.koroad.or.kr/gis36/TAAS/wms?LAYERS=GNRL_GIS_ACDNT_INFO_NON\n",
      "STYLES=\n",
      "FORMAT=image/png\n",
      "TRANSPARENT=TRUE\n",
      "TILED=false\n",
      "TILESORIGIN=-30000,-60000\n",
      "PROJECTION=EPSG:5179\n",
      "DISPLAYPROJECTION=EPSG:5181\n",
      "TRANSFORM=EPSG:5181\n",
      "SERVICE=WMS\n",
      "VERSION=1.1.1\n",
      "REQUEST=GetMap\n",
      "CQL_FILTER=(engn_code='00') and (acdnt_year between '2022' and '2022')  and (legaldong_code ilike '4146%') and (( acdnt_gae_code = '01') or ( acdnt_gae_code = '02') or ( acdnt_gae_code = '03') or ( acdnt_gae_code = '04')) and (( road_type = '6'))\n",
      "SRS=EPSG:5181\n",
      "BBOX=170003.5901787,386649.13210209,272275.5901787,446489.13210209\n",
      "WIDTH=1598\n",
      "HEIGHT=935\n",
      "bbox_text : 170003.5901787,386649.13210209,272275.5901787,446489.13210209\n"
     ]
    },
    {
     "name": "stderr",
     "output_type": "stream",
     "text": [
      "  0%|          | 46/33698 [00:47<9:40:38,  1.04s/it]"
     ]
    },
    {
     "name": "stdout",
     "output_type": "stream",
     "text": [
      "Debugging - src content: <selenium.webdriver.remote.webelement.WebElement (session=\"5b06b3d12ca3a76e5c613afa896de233\", element=\"9E340076E16B0B12E9EB60FAF1C429D4_element_25083\")>\n",
      "Debugging - src content: https://taas.koroad.or.kr/gis36/TAAS/wms?LAYERS=GNRL_GIS_ACDNT_INFO_NON&STYLES=&FORMAT=image/png&TRANSPARENT=TRUE&TILED=false&TILESORIGIN=-30000,-60000&PROJECTION=EPSG:5179&DISPLAYPROJECTION=EPSG:5181&TRANSFORM=EPSG:5181&SERVICE=WMS&VERSION=1.1.1&REQUEST=GetMap&CQL_FILTER=(engn_code='00') and (acdnt_year between '2022' and '2022')  and (legaldong_code ilike '4146%') and (( acdnt_gae_code = '01') or ( acdnt_gae_code = '02') or ( acdnt_gae_code = '03') or ( acdnt_gae_code = '04')) and (( road_type = '6'))&SRS=EPSG:5181&BBOX=158025.73975485,396106.67118972,260297.73975485,455946.67118972&WIDTH=1598&HEIGHT=935\n",
      "src_split : ['https://taas.koroad.or.kr/gis36/TAAS/wms?LAYERS=GNRL_GIS_ACDNT_INFO_NON', 'STYLES=', 'FORMAT=image/png', 'TRANSPARENT=TRUE', 'TILED=false', 'TILESORIGIN=-30000,-60000', 'PROJECTION=EPSG:5179', 'DISPLAYPROJECTION=EPSG:5181', 'TRANSFORM=EPSG:5181', 'SERVICE=WMS', 'VERSION=1.1.1', 'REQUEST=GetMap', \"CQL_FILTER=(engn_code='00') and (acdnt_year between '2022' and '2022')  and (legaldong_code ilike '4146%') and (( acdnt_gae_code = '01') or ( acdnt_gae_code = '02') or ( acdnt_gae_code = '03') or ( acdnt_gae_code = '04')) and (( road_type = '6'))\", 'SRS=EPSG:5181', 'BBOX=158025.73975485,396106.67118972,260297.73975485,455946.67118972', 'WIDTH=1598', 'HEIGHT=935']\n",
      "Debugging - src_split:\n",
      "https://taas.koroad.or.kr/gis36/TAAS/wms?LAYERS=GNRL_GIS_ACDNT_INFO_NON\n",
      "STYLES=\n",
      "FORMAT=image/png\n",
      "TRANSPARENT=TRUE\n",
      "TILED=false\n",
      "TILESORIGIN=-30000,-60000\n",
      "PROJECTION=EPSG:5179\n",
      "DISPLAYPROJECTION=EPSG:5181\n",
      "TRANSFORM=EPSG:5181\n",
      "SERVICE=WMS\n",
      "VERSION=1.1.1\n",
      "REQUEST=GetMap\n",
      "CQL_FILTER=(engn_code='00') and (acdnt_year between '2022' and '2022')  and (legaldong_code ilike '4146%') and (( acdnt_gae_code = '01') or ( acdnt_gae_code = '02') or ( acdnt_gae_code = '03') or ( acdnt_gae_code = '04')) and (( road_type = '6'))\n",
      "SRS=EPSG:5181\n",
      "BBOX=158025.73975485,396106.67118972,260297.73975485,455946.67118972\n",
      "WIDTH=1598\n",
      "HEIGHT=935\n",
      "bbox_text : 158025.73975485,396106.67118972,260297.73975485,455946.67118972\n"
     ]
    },
    {
     "name": "stderr",
     "output_type": "stream",
     "text": [
      "  0%|          | 47/33698 [00:48<9:40:58,  1.04s/it]"
     ]
    },
    {
     "name": "stdout",
     "output_type": "stream",
     "text": [
      "Debugging - src content: <selenium.webdriver.remote.webelement.WebElement (session=\"5b06b3d12ca3a76e5c613afa896de233\", element=\"9E340076E16B0B12E9EB60FAF1C429D4_element_25533\")>\n",
      "Debugging - src content: https://taas.koroad.or.kr/gis36/TAAS/wms?LAYERS=GNRL_GIS_ACDNT_INFO_NON&STYLES=&FORMAT=image/png&TRANSPARENT=TRUE&TILED=false&TILESORIGIN=-30000,-60000&PROJECTION=EPSG:5179&DISPLAYPROJECTION=EPSG:5181&TRANSFORM=EPSG:5181&SERVICE=WMS&VERSION=1.1.1&REQUEST=GetMap&CQL_FILTER=(engn_code='00') and (acdnt_year between '2022' and '2022')  and (legaldong_code ilike '4146%') and (( acdnt_gae_code = '01') or ( acdnt_gae_code = '02') or ( acdnt_gae_code = '03') or ( acdnt_gae_code = '04')) and (( road_type = '6'))&SRS=EPSG:5181&BBOX=157845.73945444,383790.79793599,260117.73945444,443630.79793599&WIDTH=1598&HEIGHT=935\n",
      "src_split : ['https://taas.koroad.or.kr/gis36/TAAS/wms?LAYERS=GNRL_GIS_ACDNT_INFO_NON', 'STYLES=', 'FORMAT=image/png', 'TRANSPARENT=TRUE', 'TILED=false', 'TILESORIGIN=-30000,-60000', 'PROJECTION=EPSG:5179', 'DISPLAYPROJECTION=EPSG:5181', 'TRANSFORM=EPSG:5181', 'SERVICE=WMS', 'VERSION=1.1.1', 'REQUEST=GetMap', \"CQL_FILTER=(engn_code='00') and (acdnt_year between '2022' and '2022')  and (legaldong_code ilike '4146%') and (( acdnt_gae_code = '01') or ( acdnt_gae_code = '02') or ( acdnt_gae_code = '03') or ( acdnt_gae_code = '04')) and (( road_type = '6'))\", 'SRS=EPSG:5181', 'BBOX=157845.73945444,383790.79793599,260117.73945444,443630.79793599', 'WIDTH=1598', 'HEIGHT=935']\n",
      "Debugging - src_split:\n",
      "https://taas.koroad.or.kr/gis36/TAAS/wms?LAYERS=GNRL_GIS_ACDNT_INFO_NON\n",
      "STYLES=\n",
      "FORMAT=image/png\n",
      "TRANSPARENT=TRUE\n",
      "TILED=false\n",
      "TILESORIGIN=-30000,-60000\n",
      "PROJECTION=EPSG:5179\n",
      "DISPLAYPROJECTION=EPSG:5181\n",
      "TRANSFORM=EPSG:5181\n",
      "SERVICE=WMS\n",
      "VERSION=1.1.1\n",
      "REQUEST=GetMap\n",
      "CQL_FILTER=(engn_code='00') and (acdnt_year between '2022' and '2022')  and (legaldong_code ilike '4146%') and (( acdnt_gae_code = '01') or ( acdnt_gae_code = '02') or ( acdnt_gae_code = '03') or ( acdnt_gae_code = '04')) and (( road_type = '6'))\n",
      "SRS=EPSG:5181\n",
      "BBOX=157845.73945444,383790.79793599,260117.73945444,443630.79793599\n",
      "WIDTH=1598\n",
      "HEIGHT=935\n",
      "bbox_text : 157845.73945444,383790.79793599,260117.73945444,443630.79793599\n"
     ]
    },
    {
     "name": "stderr",
     "output_type": "stream",
     "text": [
      "  0%|          | 48/33698 [00:49<9:41:13,  1.04s/it]"
     ]
    },
    {
     "name": "stdout",
     "output_type": "stream",
     "text": [
      "Debugging - src content: <selenium.webdriver.remote.webelement.WebElement (session=\"5b06b3d12ca3a76e5c613afa896de233\", element=\"9E340076E16B0B12E9EB60FAF1C429D4_element_25983\")>\n",
      "Debugging - src content: https://taas.koroad.or.kr/gis36/TAAS/wms?LAYERS=GNRL_GIS_ACDNT_INFO_NON&STYLES=&FORMAT=image/png&TRANSPARENT=TRUE&TILED=false&TILESORIGIN=-30000,-60000&PROJECTION=EPSG:5179&DISPLAYPROJECTION=EPSG:5181&TRANSFORM=EPSG:5181&SERVICE=WMS&VERSION=1.1.1&REQUEST=GetMap&CQL_FILTER=(engn_code='00') and (acdnt_year between '2022' and '2022')  and (legaldong_code ilike '4146%') and (( acdnt_gae_code = '01') or ( acdnt_gae_code = '02') or ( acdnt_gae_code = '03') or ( acdnt_gae_code = '04')) and (( road_type = '6'))&SRS=EPSG:5181&BBOX=163411.79794471,390832.02499199,265683.79794471,450672.02499199&WIDTH=1598&HEIGHT=935\n",
      "src_split : ['https://taas.koroad.or.kr/gis36/TAAS/wms?LAYERS=GNRL_GIS_ACDNT_INFO_NON', 'STYLES=', 'FORMAT=image/png', 'TRANSPARENT=TRUE', 'TILED=false', 'TILESORIGIN=-30000,-60000', 'PROJECTION=EPSG:5179', 'DISPLAYPROJECTION=EPSG:5181', 'TRANSFORM=EPSG:5181', 'SERVICE=WMS', 'VERSION=1.1.1', 'REQUEST=GetMap', \"CQL_FILTER=(engn_code='00') and (acdnt_year between '2022' and '2022')  and (legaldong_code ilike '4146%') and (( acdnt_gae_code = '01') or ( acdnt_gae_code = '02') or ( acdnt_gae_code = '03') or ( acdnt_gae_code = '04')) and (( road_type = '6'))\", 'SRS=EPSG:5181', 'BBOX=163411.79794471,390832.02499199,265683.79794471,450672.02499199', 'WIDTH=1598', 'HEIGHT=935']\n",
      "Debugging - src_split:\n",
      "https://taas.koroad.or.kr/gis36/TAAS/wms?LAYERS=GNRL_GIS_ACDNT_INFO_NON\n",
      "STYLES=\n",
      "FORMAT=image/png\n",
      "TRANSPARENT=TRUE\n",
      "TILED=false\n",
      "TILESORIGIN=-30000,-60000\n",
      "PROJECTION=EPSG:5179\n",
      "DISPLAYPROJECTION=EPSG:5181\n",
      "TRANSFORM=EPSG:5181\n",
      "SERVICE=WMS\n",
      "VERSION=1.1.1\n",
      "REQUEST=GetMap\n",
      "CQL_FILTER=(engn_code='00') and (acdnt_year between '2022' and '2022')  and (legaldong_code ilike '4146%') and (( acdnt_gae_code = '01') or ( acdnt_gae_code = '02') or ( acdnt_gae_code = '03') or ( acdnt_gae_code = '04')) and (( road_type = '6'))\n",
      "SRS=EPSG:5181\n",
      "BBOX=163411.79794471,390832.02499199,265683.79794471,450672.02499199\n",
      "WIDTH=1598\n",
      "HEIGHT=935\n",
      "bbox_text : 163411.79794471,390832.02499199,265683.79794471,450672.02499199\n"
     ]
    },
    {
     "name": "stderr",
     "output_type": "stream",
     "text": [
      "  0%|          | 49/33698 [00:50<9:39:39,  1.03s/it]"
     ]
    },
    {
     "name": "stdout",
     "output_type": "stream",
     "text": [
      "Debugging - src content: <selenium.webdriver.remote.webelement.WebElement (session=\"5b06b3d12ca3a76e5c613afa896de233\", element=\"9E340076E16B0B12E9EB60FAF1C429D4_element_26423\")>\n",
      "Debugging - src content: https://taas.koroad.or.kr/gis36/TAAS/wms?LAYERS=GNRL_GIS_ACDNT_INFO_NON&STYLES=&FORMAT=image/png&TRANSPARENT=TRUE&TILED=false&TILESORIGIN=-30000,-60000&PROJECTION=EPSG:5179&DISPLAYPROJECTION=EPSG:5181&TRANSFORM=EPSG:5181&SERVICE=WMS&VERSION=1.1.1&REQUEST=GetMap&CQL_FILTER=(engn_code='00') and (acdnt_year between '2022' and '2022')  and (legaldong_code ilike '4146%') and (( acdnt_gae_code = '01') or ( acdnt_gae_code = '02') or ( acdnt_gae_code = '03') or ( acdnt_gae_code = '04')) and (( road_type = '6'))&SRS=EPSG:5181&BBOX=161703.27210302,391179.13648548,263975.27210302,451019.13648548&WIDTH=1598&HEIGHT=935\n",
      "src_split : ['https://taas.koroad.or.kr/gis36/TAAS/wms?LAYERS=GNRL_GIS_ACDNT_INFO_NON', 'STYLES=', 'FORMAT=image/png', 'TRANSPARENT=TRUE', 'TILED=false', 'TILESORIGIN=-30000,-60000', 'PROJECTION=EPSG:5179', 'DISPLAYPROJECTION=EPSG:5181', 'TRANSFORM=EPSG:5181', 'SERVICE=WMS', 'VERSION=1.1.1', 'REQUEST=GetMap', \"CQL_FILTER=(engn_code='00') and (acdnt_year between '2022' and '2022')  and (legaldong_code ilike '4146%') and (( acdnt_gae_code = '01') or ( acdnt_gae_code = '02') or ( acdnt_gae_code = '03') or ( acdnt_gae_code = '04')) and (( road_type = '6'))\", 'SRS=EPSG:5181', 'BBOX=161703.27210302,391179.13648548,263975.27210302,451019.13648548', 'WIDTH=1598', 'HEIGHT=935']\n",
      "Debugging - src_split:\n",
      "https://taas.koroad.or.kr/gis36/TAAS/wms?LAYERS=GNRL_GIS_ACDNT_INFO_NON\n",
      "STYLES=\n",
      "FORMAT=image/png\n",
      "TRANSPARENT=TRUE\n",
      "TILED=false\n",
      "TILESORIGIN=-30000,-60000\n",
      "PROJECTION=EPSG:5179\n",
      "DISPLAYPROJECTION=EPSG:5181\n",
      "TRANSFORM=EPSG:5181\n",
      "SERVICE=WMS\n",
      "VERSION=1.1.1\n",
      "REQUEST=GetMap\n",
      "CQL_FILTER=(engn_code='00') and (acdnt_year between '2022' and '2022')  and (legaldong_code ilike '4146%') and (( acdnt_gae_code = '01') or ( acdnt_gae_code = '02') or ( acdnt_gae_code = '03') or ( acdnt_gae_code = '04')) and (( road_type = '6'))\n",
      "SRS=EPSG:5181\n",
      "BBOX=161703.27210302,391179.13648548,263975.27210302,451019.13648548\n",
      "WIDTH=1598\n",
      "HEIGHT=935\n",
      "bbox_text : 161703.27210302,391179.13648548,263975.27210302,451019.13648548\n"
     ]
    },
    {
     "name": "stderr",
     "output_type": "stream",
     "text": [
      "  0%|          | 50/33698 [00:51<9:40:12,  1.03s/it]"
     ]
    },
    {
     "name": "stdout",
     "output_type": "stream",
     "text": [
      "Debugging - src content: <selenium.webdriver.remote.webelement.WebElement (session=\"5b06b3d12ca3a76e5c613afa896de233\", element=\"9E340076E16B0B12E9EB60FAF1C429D4_element_26880\")>\n",
      "Debugging - src content: https://taas.koroad.or.kr/gis36/TAAS/wms?LAYERS=GNRL_GIS_ACDNT_INFO_NON&STYLES=&FORMAT=image/png&TRANSPARENT=TRUE&TILED=false&TILESORIGIN=-30000,-60000&PROJECTION=EPSG:5179&DISPLAYPROJECTION=EPSG:5181&TRANSFORM=EPSG:5181&SERVICE=WMS&VERSION=1.1.1&REQUEST=GetMap&CQL_FILTER=(engn_code='00') and (acdnt_year between '2022' and '2022')  and (legaldong_code ilike '4146%') and (( acdnt_gae_code = '01') or ( acdnt_gae_code = '02') or ( acdnt_gae_code = '03') or ( acdnt_gae_code = '04')) and (( road_type = '6'))&SRS=EPSG:5181&BBOX=169339.11808798,386686.63924885,271611.11808798,446526.63924885&WIDTH=1598&HEIGHT=935\n",
      "src_split : ['https://taas.koroad.or.kr/gis36/TAAS/wms?LAYERS=GNRL_GIS_ACDNT_INFO_NON', 'STYLES=', 'FORMAT=image/png', 'TRANSPARENT=TRUE', 'TILED=false', 'TILESORIGIN=-30000,-60000', 'PROJECTION=EPSG:5179', 'DISPLAYPROJECTION=EPSG:5181', 'TRANSFORM=EPSG:5181', 'SERVICE=WMS', 'VERSION=1.1.1', 'REQUEST=GetMap', \"CQL_FILTER=(engn_code='00') and (acdnt_year between '2022' and '2022')  and (legaldong_code ilike '4146%') and (( acdnt_gae_code = '01') or ( acdnt_gae_code = '02') or ( acdnt_gae_code = '03') or ( acdnt_gae_code = '04')) and (( road_type = '6'))\", 'SRS=EPSG:5181', 'BBOX=169339.11808798,386686.63924885,271611.11808798,446526.63924885', 'WIDTH=1598', 'HEIGHT=935']\n",
      "Debugging - src_split:\n",
      "https://taas.koroad.or.kr/gis36/TAAS/wms?LAYERS=GNRL_GIS_ACDNT_INFO_NON\n",
      "STYLES=\n",
      "FORMAT=image/png\n",
      "TRANSPARENT=TRUE\n",
      "TILED=false\n",
      "TILESORIGIN=-30000,-60000\n",
      "PROJECTION=EPSG:5179\n",
      "DISPLAYPROJECTION=EPSG:5181\n",
      "TRANSFORM=EPSG:5181\n",
      "SERVICE=WMS\n",
      "VERSION=1.1.1\n",
      "REQUEST=GetMap\n",
      "CQL_FILTER=(engn_code='00') and (acdnt_year between '2022' and '2022')  and (legaldong_code ilike '4146%') and (( acdnt_gae_code = '01') or ( acdnt_gae_code = '02') or ( acdnt_gae_code = '03') or ( acdnt_gae_code = '04')) and (( road_type = '6'))\n",
      "SRS=EPSG:5181\n",
      "BBOX=169339.11808798,386686.63924885,271611.11808798,446526.63924885\n",
      "WIDTH=1598\n",
      "HEIGHT=935\n",
      "bbox_text : 169339.11808798,386686.63924885,271611.11808798,446526.63924885\n"
     ]
    },
    {
     "name": "stderr",
     "output_type": "stream",
     "text": [
      "  0%|          | 51/33698 [00:52<9:41:06,  1.04s/it]"
     ]
    },
    {
     "name": "stdout",
     "output_type": "stream",
     "text": [
      "Debugging - src content: <selenium.webdriver.remote.webelement.WebElement (session=\"5b06b3d12ca3a76e5c613afa896de233\", element=\"9E340076E16B0B12E9EB60FAF1C429D4_element_27337\")>\n",
      "Debugging - src content: https://taas.koroad.or.kr/gis36/TAAS/wms?LAYERS=GNRL_GIS_ACDNT_INFO_NON&STYLES=&FORMAT=image/png&TRANSPARENT=TRUE&TILED=false&TILESORIGIN=-30000,-60000&PROJECTION=EPSG:5179&DISPLAYPROJECTION=EPSG:5181&TRANSFORM=EPSG:5181&SERVICE=WMS&VERSION=1.1.1&REQUEST=GetMap&CQL_FILTER=(engn_code='00') and (acdnt_year between '2022' and '2022')  and (legaldong_code ilike '4146%') and (( acdnt_gae_code = '01') or ( acdnt_gae_code = '02') or ( acdnt_gae_code = '03') or ( acdnt_gae_code = '04')) and (( road_type = '6'))&SRS=EPSG:5181&BBOX=158916.10155994,371659.58618543,261188.10155994,431499.58618543&WIDTH=1598&HEIGHT=935\n",
      "src_split : ['https://taas.koroad.or.kr/gis36/TAAS/wms?LAYERS=GNRL_GIS_ACDNT_INFO_NON', 'STYLES=', 'FORMAT=image/png', 'TRANSPARENT=TRUE', 'TILED=false', 'TILESORIGIN=-30000,-60000', 'PROJECTION=EPSG:5179', 'DISPLAYPROJECTION=EPSG:5181', 'TRANSFORM=EPSG:5181', 'SERVICE=WMS', 'VERSION=1.1.1', 'REQUEST=GetMap', \"CQL_FILTER=(engn_code='00') and (acdnt_year between '2022' and '2022')  and (legaldong_code ilike '4146%') and (( acdnt_gae_code = '01') or ( acdnt_gae_code = '02') or ( acdnt_gae_code = '03') or ( acdnt_gae_code = '04')) and (( road_type = '6'))\", 'SRS=EPSG:5181', 'BBOX=158916.10155994,371659.58618543,261188.10155994,431499.58618543', 'WIDTH=1598', 'HEIGHT=935']\n",
      "Debugging - src_split:\n",
      "https://taas.koroad.or.kr/gis36/TAAS/wms?LAYERS=GNRL_GIS_ACDNT_INFO_NON\n",
      "STYLES=\n",
      "FORMAT=image/png\n",
      "TRANSPARENT=TRUE\n",
      "TILED=false\n",
      "TILESORIGIN=-30000,-60000\n",
      "PROJECTION=EPSG:5179\n",
      "DISPLAYPROJECTION=EPSG:5181\n",
      "TRANSFORM=EPSG:5181\n",
      "SERVICE=WMS\n",
      "VERSION=1.1.1\n",
      "REQUEST=GetMap\n",
      "CQL_FILTER=(engn_code='00') and (acdnt_year between '2022' and '2022')  and (legaldong_code ilike '4146%') and (( acdnt_gae_code = '01') or ( acdnt_gae_code = '02') or ( acdnt_gae_code = '03') or ( acdnt_gae_code = '04')) and (( road_type = '6'))\n",
      "SRS=EPSG:5181\n",
      "BBOX=158916.10155994,371659.58618543,261188.10155994,431499.58618543\n",
      "WIDTH=1598\n",
      "HEIGHT=935\n",
      "bbox_text : 158916.10155994,371659.58618543,261188.10155994,431499.58618543\n"
     ]
    },
    {
     "name": "stderr",
     "output_type": "stream",
     "text": [
      "  0%|          | 52/33698 [00:53<9:40:47,  1.04s/it]"
     ]
    },
    {
     "name": "stdout",
     "output_type": "stream",
     "text": [
      "Debugging - src content: <selenium.webdriver.remote.webelement.WebElement (session=\"5b06b3d12ca3a76e5c613afa896de233\", element=\"9E340076E16B0B12E9EB60FAF1C429D4_element_27797\")>\n",
      "Debugging - src content: https://taas.koroad.or.kr/gis36/TAAS/wms?LAYERS=GNRL_GIS_ACDNT_INFO_NON&STYLES=&FORMAT=image/png&TRANSPARENT=TRUE&TILED=false&TILESORIGIN=-30000,-60000&PROJECTION=EPSG:5179&DISPLAYPROJECTION=EPSG:5181&TRANSFORM=EPSG:5181&SERVICE=WMS&VERSION=1.1.1&REQUEST=GetMap&CQL_FILTER=(engn_code='00') and (acdnt_year between '2022' and '2022')  and (legaldong_code ilike '4146%') and (( acdnt_gae_code = '01') or ( acdnt_gae_code = '02') or ( acdnt_gae_code = '03') or ( acdnt_gae_code = '04')) and (( road_type = '6'))&SRS=EPSG:5181&BBOX=163756.97067881,390825.84653731,266028.97067881,450665.84653731&WIDTH=1598&HEIGHT=935\n",
      "src_split : ['https://taas.koroad.or.kr/gis36/TAAS/wms?LAYERS=GNRL_GIS_ACDNT_INFO_NON', 'STYLES=', 'FORMAT=image/png', 'TRANSPARENT=TRUE', 'TILED=false', 'TILESORIGIN=-30000,-60000', 'PROJECTION=EPSG:5179', 'DISPLAYPROJECTION=EPSG:5181', 'TRANSFORM=EPSG:5181', 'SERVICE=WMS', 'VERSION=1.1.1', 'REQUEST=GetMap', \"CQL_FILTER=(engn_code='00') and (acdnt_year between '2022' and '2022')  and (legaldong_code ilike '4146%') and (( acdnt_gae_code = '01') or ( acdnt_gae_code = '02') or ( acdnt_gae_code = '03') or ( acdnt_gae_code = '04')) and (( road_type = '6'))\", 'SRS=EPSG:5181', 'BBOX=163756.97067881,390825.84653731,266028.97067881,450665.84653731', 'WIDTH=1598', 'HEIGHT=935']\n",
      "Debugging - src_split:\n",
      "https://taas.koroad.or.kr/gis36/TAAS/wms?LAYERS=GNRL_GIS_ACDNT_INFO_NON\n",
      "STYLES=\n",
      "FORMAT=image/png\n",
      "TRANSPARENT=TRUE\n",
      "TILED=false\n",
      "TILESORIGIN=-30000,-60000\n",
      "PROJECTION=EPSG:5179\n",
      "DISPLAYPROJECTION=EPSG:5181\n",
      "TRANSFORM=EPSG:5181\n",
      "SERVICE=WMS\n",
      "VERSION=1.1.1\n",
      "REQUEST=GetMap\n",
      "CQL_FILTER=(engn_code='00') and (acdnt_year between '2022' and '2022')  and (legaldong_code ilike '4146%') and (( acdnt_gae_code = '01') or ( acdnt_gae_code = '02') or ( acdnt_gae_code = '03') or ( acdnt_gae_code = '04')) and (( road_type = '6'))\n",
      "SRS=EPSG:5181\n",
      "BBOX=163756.97067881,390825.84653731,266028.97067881,450665.84653731\n",
      "WIDTH=1598\n",
      "HEIGHT=935\n",
      "bbox_text : 163756.97067881,390825.84653731,266028.97067881,450665.84653731\n"
     ]
    },
    {
     "name": "stderr",
     "output_type": "stream",
     "text": [
      "  0%|          | 53/33698 [00:54<9:39:22,  1.03s/it]"
     ]
    },
    {
     "name": "stdout",
     "output_type": "stream",
     "text": [
      "Debugging - src content: <selenium.webdriver.remote.webelement.WebElement (session=\"5b06b3d12ca3a76e5c613afa896de233\", element=\"9E340076E16B0B12E9EB60FAF1C429D4_element_28237\")>\n",
      "Debugging - src content: https://taas.koroad.or.kr/gis36/TAAS/wms?LAYERS=GNRL_GIS_ACDNT_INFO_NON&STYLES=&FORMAT=image/png&TRANSPARENT=TRUE&TILED=false&TILESORIGIN=-30000,-60000&PROJECTION=EPSG:5179&DISPLAYPROJECTION=EPSG:5181&TRANSFORM=EPSG:5181&SERVICE=WMS&VERSION=1.1.1&REQUEST=GetMap&CQL_FILTER=(engn_code='00') and (acdnt_year between '2022' and '2022')  and (legaldong_code ilike '4146%') and (( acdnt_gae_code = '01') or ( acdnt_gae_code = '02') or ( acdnt_gae_code = '03') or ( acdnt_gae_code = '04')) and (( road_type = '6'))&SRS=EPSG:5181&BBOX=157784.33172633,391248.45303308,260056.33172633,451088.45303308&WIDTH=1598&HEIGHT=935\n",
      "src_split : ['https://taas.koroad.or.kr/gis36/TAAS/wms?LAYERS=GNRL_GIS_ACDNT_INFO_NON', 'STYLES=', 'FORMAT=image/png', 'TRANSPARENT=TRUE', 'TILED=false', 'TILESORIGIN=-30000,-60000', 'PROJECTION=EPSG:5179', 'DISPLAYPROJECTION=EPSG:5181', 'TRANSFORM=EPSG:5181', 'SERVICE=WMS', 'VERSION=1.1.1', 'REQUEST=GetMap', \"CQL_FILTER=(engn_code='00') and (acdnt_year between '2022' and '2022')  and (legaldong_code ilike '4146%') and (( acdnt_gae_code = '01') or ( acdnt_gae_code = '02') or ( acdnt_gae_code = '03') or ( acdnt_gae_code = '04')) and (( road_type = '6'))\", 'SRS=EPSG:5181', 'BBOX=157784.33172633,391248.45303308,260056.33172633,451088.45303308', 'WIDTH=1598', 'HEIGHT=935']\n",
      "Debugging - src_split:\n",
      "https://taas.koroad.or.kr/gis36/TAAS/wms?LAYERS=GNRL_GIS_ACDNT_INFO_NON\n",
      "STYLES=\n",
      "FORMAT=image/png\n",
      "TRANSPARENT=TRUE\n",
      "TILED=false\n",
      "TILESORIGIN=-30000,-60000\n",
      "PROJECTION=EPSG:5179\n",
      "DISPLAYPROJECTION=EPSG:5181\n",
      "TRANSFORM=EPSG:5181\n",
      "SERVICE=WMS\n",
      "VERSION=1.1.1\n",
      "REQUEST=GetMap\n",
      "CQL_FILTER=(engn_code='00') and (acdnt_year between '2022' and '2022')  and (legaldong_code ilike '4146%') and (( acdnt_gae_code = '01') or ( acdnt_gae_code = '02') or ( acdnt_gae_code = '03') or ( acdnt_gae_code = '04')) and (( road_type = '6'))\n",
      "SRS=EPSG:5181\n",
      "BBOX=157784.33172633,391248.45303308,260056.33172633,451088.45303308\n",
      "WIDTH=1598\n",
      "HEIGHT=935\n",
      "bbox_text : 157784.33172633,391248.45303308,260056.33172633,451088.45303308\n"
     ]
    },
    {
     "name": "stderr",
     "output_type": "stream",
     "text": [
      "  0%|          | 54/33698 [00:55<9:40:08,  1.03s/it]"
     ]
    },
    {
     "name": "stdout",
     "output_type": "stream",
     "text": [
      "Debugging - src content: <selenium.webdriver.remote.webelement.WebElement (session=\"5b06b3d12ca3a76e5c613afa896de233\", element=\"9E340076E16B0B12E9EB60FAF1C429D4_element_28677\")>\n",
      "Debugging - src content: https://taas.koroad.or.kr/gis36/TAAS/wms?LAYERS=GNRL_GIS_ACDNT_INFO_NON&STYLES=&FORMAT=image/png&TRANSPARENT=TRUE&TILED=false&TILESORIGIN=-30000,-60000&PROJECTION=EPSG:5179&DISPLAYPROJECTION=EPSG:5181&TRANSFORM=EPSG:5181&SERVICE=WMS&VERSION=1.1.1&REQUEST=GetMap&CQL_FILTER=(engn_code='00') and (acdnt_year between '2022' and '2022')  and (legaldong_code ilike '4146%') and (( acdnt_gae_code = '01') or ( acdnt_gae_code = '02') or ( acdnt_gae_code = '03') or ( acdnt_gae_code = '04')) and (( road_type = '6'))&SRS=EPSG:5181&BBOX=157747.17940623,389003.35985872,260019.17940623,448843.35985872&WIDTH=1598&HEIGHT=935\n",
      "src_split : ['https://taas.koroad.or.kr/gis36/TAAS/wms?LAYERS=GNRL_GIS_ACDNT_INFO_NON', 'STYLES=', 'FORMAT=image/png', 'TRANSPARENT=TRUE', 'TILED=false', 'TILESORIGIN=-30000,-60000', 'PROJECTION=EPSG:5179', 'DISPLAYPROJECTION=EPSG:5181', 'TRANSFORM=EPSG:5181', 'SERVICE=WMS', 'VERSION=1.1.1', 'REQUEST=GetMap', \"CQL_FILTER=(engn_code='00') and (acdnt_year between '2022' and '2022')  and (legaldong_code ilike '4146%') and (( acdnt_gae_code = '01') or ( acdnt_gae_code = '02') or ( acdnt_gae_code = '03') or ( acdnt_gae_code = '04')) and (( road_type = '6'))\", 'SRS=EPSG:5181', 'BBOX=157747.17940623,389003.35985872,260019.17940623,448843.35985872', 'WIDTH=1598', 'HEIGHT=935']\n",
      "Debugging - src_split:\n",
      "https://taas.koroad.or.kr/gis36/TAAS/wms?LAYERS=GNRL_GIS_ACDNT_INFO_NON\n",
      "STYLES=\n",
      "FORMAT=image/png\n",
      "TRANSPARENT=TRUE\n",
      "TILED=false\n",
      "TILESORIGIN=-30000,-60000\n",
      "PROJECTION=EPSG:5179\n",
      "DISPLAYPROJECTION=EPSG:5181\n",
      "TRANSFORM=EPSG:5181\n",
      "SERVICE=WMS\n",
      "VERSION=1.1.1\n",
      "REQUEST=GetMap\n",
      "CQL_FILTER=(engn_code='00') and (acdnt_year between '2022' and '2022')  and (legaldong_code ilike '4146%') and (( acdnt_gae_code = '01') or ( acdnt_gae_code = '02') or ( acdnt_gae_code = '03') or ( acdnt_gae_code = '04')) and (( road_type = '6'))\n",
      "SRS=EPSG:5181\n",
      "BBOX=157747.17940623,389003.35985872,260019.17940623,448843.35985872\n",
      "WIDTH=1598\n",
      "HEIGHT=935\n",
      "bbox_text : 157747.17940623,389003.35985872,260019.17940623,448843.35985872\n"
     ]
    },
    {
     "name": "stderr",
     "output_type": "stream",
     "text": [
      "  0%|          | 55/33698 [00:56<9:41:27,  1.04s/it]"
     ]
    },
    {
     "name": "stdout",
     "output_type": "stream",
     "text": [
      "Debugging - src content: <selenium.webdriver.remote.webelement.WebElement (session=\"5b06b3d12ca3a76e5c613afa896de233\", element=\"9E340076E16B0B12E9EB60FAF1C429D4_element_29134\")>\n",
      "Debugging - src content: https://taas.koroad.or.kr/gis36/TAAS/wms?LAYERS=GNRL_GIS_ACDNT_INFO_NON&STYLES=&FORMAT=image/png&TRANSPARENT=TRUE&TILED=false&TILESORIGIN=-30000,-60000&PROJECTION=EPSG:5179&DISPLAYPROJECTION=EPSG:5181&TRANSFORM=EPSG:5181&SERVICE=WMS&VERSION=1.1.1&REQUEST=GetMap&CQL_FILTER=(engn_code='00') and (acdnt_year between '2022' and '2022')  and (legaldong_code ilike '4146%') and (( acdnt_gae_code = '01') or ( acdnt_gae_code = '02') or ( acdnt_gae_code = '03') or ( acdnt_gae_code = '04')) and (( road_type = '6'))&SRS=EPSG:5181&BBOX=176052.36278584,386221.88931662,278324.36278584,446061.88931662&WIDTH=1598&HEIGHT=935\n",
      "src_split : ['https://taas.koroad.or.kr/gis36/TAAS/wms?LAYERS=GNRL_GIS_ACDNT_INFO_NON', 'STYLES=', 'FORMAT=image/png', 'TRANSPARENT=TRUE', 'TILED=false', 'TILESORIGIN=-30000,-60000', 'PROJECTION=EPSG:5179', 'DISPLAYPROJECTION=EPSG:5181', 'TRANSFORM=EPSG:5181', 'SERVICE=WMS', 'VERSION=1.1.1', 'REQUEST=GetMap', \"CQL_FILTER=(engn_code='00') and (acdnt_year between '2022' and '2022')  and (legaldong_code ilike '4146%') and (( acdnt_gae_code = '01') or ( acdnt_gae_code = '02') or ( acdnt_gae_code = '03') or ( acdnt_gae_code = '04')) and (( road_type = '6'))\", 'SRS=EPSG:5181', 'BBOX=176052.36278584,386221.88931662,278324.36278584,446061.88931662', 'WIDTH=1598', 'HEIGHT=935']\n",
      "Debugging - src_split:\n",
      "https://taas.koroad.or.kr/gis36/TAAS/wms?LAYERS=GNRL_GIS_ACDNT_INFO_NON\n",
      "STYLES=\n",
      "FORMAT=image/png\n",
      "TRANSPARENT=TRUE\n",
      "TILED=false\n",
      "TILESORIGIN=-30000,-60000\n",
      "PROJECTION=EPSG:5179\n",
      "DISPLAYPROJECTION=EPSG:5181\n",
      "TRANSFORM=EPSG:5181\n",
      "SERVICE=WMS\n",
      "VERSION=1.1.1\n",
      "REQUEST=GetMap\n",
      "CQL_FILTER=(engn_code='00') and (acdnt_year between '2022' and '2022')  and (legaldong_code ilike '4146%') and (( acdnt_gae_code = '01') or ( acdnt_gae_code = '02') or ( acdnt_gae_code = '03') or ( acdnt_gae_code = '04')) and (( road_type = '6'))\n",
      "SRS=EPSG:5181\n",
      "BBOX=176052.36278584,386221.88931662,278324.36278584,446061.88931662\n",
      "WIDTH=1598\n",
      "HEIGHT=935\n",
      "bbox_text : 176052.36278584,386221.88931662,278324.36278584,446061.88931662\n"
     ]
    },
    {
     "name": "stderr",
     "output_type": "stream",
     "text": [
      "  0%|          | 56/33698 [00:57<9:40:56,  1.04s/it]"
     ]
    },
    {
     "name": "stdout",
     "output_type": "stream",
     "text": [
      "Debugging - src content: <selenium.webdriver.remote.webelement.WebElement (session=\"5b06b3d12ca3a76e5c613afa896de233\", element=\"9E340076E16B0B12E9EB60FAF1C429D4_element_29574\")>\n",
      "Debugging - src content: https://taas.koroad.or.kr/gis36/TAAS/wms?LAYERS=GNRL_GIS_ACDNT_INFO_NON&STYLES=&FORMAT=image/png&TRANSPARENT=TRUE&TILED=false&TILESORIGIN=-30000,-60000&PROJECTION=EPSG:5179&DISPLAYPROJECTION=EPSG:5181&TRANSFORM=EPSG:5181&SERVICE=WMS&VERSION=1.1.1&REQUEST=GetMap&CQL_FILTER=(engn_code='00') and (acdnt_year between '2022' and '2022')  and (legaldong_code ilike '4146%') and (( acdnt_gae_code = '01') or ( acdnt_gae_code = '02') or ( acdnt_gae_code = '03') or ( acdnt_gae_code = '04')) and (( road_type = '6'))&SRS=EPSG:5181&BBOX=172174.45833534,386465.51768889,274446.45833534,446305.51768889&WIDTH=1598&HEIGHT=935\n",
      "src_split : ['https://taas.koroad.or.kr/gis36/TAAS/wms?LAYERS=GNRL_GIS_ACDNT_INFO_NON', 'STYLES=', 'FORMAT=image/png', 'TRANSPARENT=TRUE', 'TILED=false', 'TILESORIGIN=-30000,-60000', 'PROJECTION=EPSG:5179', 'DISPLAYPROJECTION=EPSG:5181', 'TRANSFORM=EPSG:5181', 'SERVICE=WMS', 'VERSION=1.1.1', 'REQUEST=GetMap', \"CQL_FILTER=(engn_code='00') and (acdnt_year between '2022' and '2022')  and (legaldong_code ilike '4146%') and (( acdnt_gae_code = '01') or ( acdnt_gae_code = '02') or ( acdnt_gae_code = '03') or ( acdnt_gae_code = '04')) and (( road_type = '6'))\", 'SRS=EPSG:5181', 'BBOX=172174.45833534,386465.51768889,274446.45833534,446305.51768889', 'WIDTH=1598', 'HEIGHT=935']\n",
      "Debugging - src_split:\n",
      "https://taas.koroad.or.kr/gis36/TAAS/wms?LAYERS=GNRL_GIS_ACDNT_INFO_NON\n",
      "STYLES=\n",
      "FORMAT=image/png\n",
      "TRANSPARENT=TRUE\n",
      "TILED=false\n",
      "TILESORIGIN=-30000,-60000\n",
      "PROJECTION=EPSG:5179\n",
      "DISPLAYPROJECTION=EPSG:5181\n",
      "TRANSFORM=EPSG:5181\n",
      "SERVICE=WMS\n",
      "VERSION=1.1.1\n",
      "REQUEST=GetMap\n",
      "CQL_FILTER=(engn_code='00') and (acdnt_year between '2022' and '2022')  and (legaldong_code ilike '4146%') and (( acdnt_gae_code = '01') or ( acdnt_gae_code = '02') or ( acdnt_gae_code = '03') or ( acdnt_gae_code = '04')) and (( road_type = '6'))\n",
      "SRS=EPSG:5181\n",
      "BBOX=172174.45833534,386465.51768889,274446.45833534,446305.51768889\n",
      "WIDTH=1598\n",
      "HEIGHT=935\n",
      "bbox_text : 172174.45833534,386465.51768889,274446.45833534,446305.51768889\n"
     ]
    },
    {
     "name": "stderr",
     "output_type": "stream",
     "text": [
      "  0%|          | 57/33698 [00:58<9:39:30,  1.03s/it]"
     ]
    },
    {
     "name": "stdout",
     "output_type": "stream",
     "text": [
      "Debugging - src content: <selenium.webdriver.remote.webelement.WebElement (session=\"5b06b3d12ca3a76e5c613afa896de233\", element=\"9E340076E16B0B12E9EB60FAF1C429D4_element_30014\")>\n",
      "Debugging - src content: https://taas.koroad.or.kr/gis36/TAAS/wms?LAYERS=GNRL_GIS_ACDNT_INFO_NON&STYLES=&FORMAT=image/png&TRANSPARENT=TRUE&TILED=false&TILESORIGIN=-30000,-60000&PROJECTION=EPSG:5179&DISPLAYPROJECTION=EPSG:5181&TRANSFORM=EPSG:5181&SERVICE=WMS&VERSION=1.1.1&REQUEST=GetMap&CQL_FILTER=(engn_code='00') and (acdnt_year between '2022' and '2022')  and (legaldong_code ilike '4146%') and (( acdnt_gae_code = '01') or ( acdnt_gae_code = '02') or ( acdnt_gae_code = '03') or ( acdnt_gae_code = '04')) and (( road_type = '6'))&SRS=EPSG:5181&BBOX=169997.76752558,386615.08730568,272269.76752558,446455.08730568&WIDTH=1598&HEIGHT=935\n",
      "src_split : ['https://taas.koroad.or.kr/gis36/TAAS/wms?LAYERS=GNRL_GIS_ACDNT_INFO_NON', 'STYLES=', 'FORMAT=image/png', 'TRANSPARENT=TRUE', 'TILED=false', 'TILESORIGIN=-30000,-60000', 'PROJECTION=EPSG:5179', 'DISPLAYPROJECTION=EPSG:5181', 'TRANSFORM=EPSG:5181', 'SERVICE=WMS', 'VERSION=1.1.1', 'REQUEST=GetMap', \"CQL_FILTER=(engn_code='00') and (acdnt_year between '2022' and '2022')  and (legaldong_code ilike '4146%') and (( acdnt_gae_code = '01') or ( acdnt_gae_code = '02') or ( acdnt_gae_code = '03') or ( acdnt_gae_code = '04')) and (( road_type = '6'))\", 'SRS=EPSG:5181', 'BBOX=169997.76752558,386615.08730568,272269.76752558,446455.08730568', 'WIDTH=1598', 'HEIGHT=935']\n",
      "Debugging - src_split:\n",
      "https://taas.koroad.or.kr/gis36/TAAS/wms?LAYERS=GNRL_GIS_ACDNT_INFO_NON\n",
      "STYLES=\n",
      "FORMAT=image/png\n",
      "TRANSPARENT=TRUE\n",
      "TILED=false\n",
      "TILESORIGIN=-30000,-60000\n",
      "PROJECTION=EPSG:5179\n",
      "DISPLAYPROJECTION=EPSG:5181\n",
      "TRANSFORM=EPSG:5181\n",
      "SERVICE=WMS\n",
      "VERSION=1.1.1\n",
      "REQUEST=GetMap\n",
      "CQL_FILTER=(engn_code='00') and (acdnt_year between '2022' and '2022')  and (legaldong_code ilike '4146%') and (( acdnt_gae_code = '01') or ( acdnt_gae_code = '02') or ( acdnt_gae_code = '03') or ( acdnt_gae_code = '04')) and (( road_type = '6'))\n",
      "SRS=EPSG:5181\n",
      "BBOX=169997.76752558,386615.08730568,272269.76752558,446455.08730568\n",
      "WIDTH=1598\n",
      "HEIGHT=935\n",
      "bbox_text : 169997.76752558,386615.08730568,272269.76752558,446455.08730568\n"
     ]
    },
    {
     "name": "stderr",
     "output_type": "stream",
     "text": [
      "  0%|          | 58/33698 [01:00<9:39:54,  1.03s/it]"
     ]
    },
    {
     "name": "stdout",
     "output_type": "stream",
     "text": [
      "Debugging - src content: <selenium.webdriver.remote.webelement.WebElement (session=\"5b06b3d12ca3a76e5c613afa896de233\", element=\"9E340076E16B0B12E9EB60FAF1C429D4_element_30461\")>\n",
      "Debugging - src content: https://taas.koroad.or.kr/gis36/TAAS/wms?LAYERS=GNRL_GIS_ACDNT_INFO_NON&STYLES=&FORMAT=image/png&TRANSPARENT=TRUE&TILED=false&TILESORIGIN=-30000,-60000&PROJECTION=EPSG:5179&DISPLAYPROJECTION=EPSG:5181&TRANSFORM=EPSG:5181&SERVICE=WMS&VERSION=1.1.1&REQUEST=GetMap&CQL_FILTER=(engn_code='00') and (acdnt_year between '2022' and '2022')  and (legaldong_code ilike '4146%') and (( acdnt_gae_code = '01') or ( acdnt_gae_code = '02') or ( acdnt_gae_code = '03') or ( acdnt_gae_code = '04')) and (( road_type = '6'))&SRS=EPSG:5181&BBOX=163403.66715091,377022.38118888,265675.66715091,436862.38118888&WIDTH=1598&HEIGHT=935\n",
      "src_split : ['https://taas.koroad.or.kr/gis36/TAAS/wms?LAYERS=GNRL_GIS_ACDNT_INFO_NON', 'STYLES=', 'FORMAT=image/png', 'TRANSPARENT=TRUE', 'TILED=false', 'TILESORIGIN=-30000,-60000', 'PROJECTION=EPSG:5179', 'DISPLAYPROJECTION=EPSG:5181', 'TRANSFORM=EPSG:5181', 'SERVICE=WMS', 'VERSION=1.1.1', 'REQUEST=GetMap', \"CQL_FILTER=(engn_code='00') and (acdnt_year between '2022' and '2022')  and (legaldong_code ilike '4146%') and (( acdnt_gae_code = '01') or ( acdnt_gae_code = '02') or ( acdnt_gae_code = '03') or ( acdnt_gae_code = '04')) and (( road_type = '6'))\", 'SRS=EPSG:5181', 'BBOX=163403.66715091,377022.38118888,265675.66715091,436862.38118888', 'WIDTH=1598', 'HEIGHT=935']\n",
      "Debugging - src_split:\n",
      "https://taas.koroad.or.kr/gis36/TAAS/wms?LAYERS=GNRL_GIS_ACDNT_INFO_NON\n",
      "STYLES=\n",
      "FORMAT=image/png\n",
      "TRANSPARENT=TRUE\n",
      "TILED=false\n",
      "TILESORIGIN=-30000,-60000\n",
      "PROJECTION=EPSG:5179\n",
      "DISPLAYPROJECTION=EPSG:5181\n",
      "TRANSFORM=EPSG:5181\n",
      "SERVICE=WMS\n",
      "VERSION=1.1.1\n",
      "REQUEST=GetMap\n",
      "CQL_FILTER=(engn_code='00') and (acdnt_year between '2022' and '2022')  and (legaldong_code ilike '4146%') and (( acdnt_gae_code = '01') or ( acdnt_gae_code = '02') or ( acdnt_gae_code = '03') or ( acdnt_gae_code = '04')) and (( road_type = '6'))\n",
      "SRS=EPSG:5181\n",
      "BBOX=163403.66715091,377022.38118888,265675.66715091,436862.38118888\n",
      "WIDTH=1598\n",
      "HEIGHT=935\n",
      "bbox_text : 163403.66715091,377022.38118888,265675.66715091,436862.38118888\n"
     ]
    },
    {
     "name": "stderr",
     "output_type": "stream",
     "text": [
      "  0%|          | 59/33698 [01:01<9:38:19,  1.03s/it]"
     ]
    },
    {
     "name": "stdout",
     "output_type": "stream",
     "text": [
      "Debugging - src content: <selenium.webdriver.remote.webelement.WebElement (session=\"5b06b3d12ca3a76e5c613afa896de233\", element=\"9E340076E16B0B12E9EB60FAF1C429D4_element_30901\")>\n",
      "Debugging - src content: https://taas.koroad.or.kr/gis36/TAAS/wms?LAYERS=GNRL_GIS_ACDNT_INFO_NON&STYLES=&FORMAT=image/png&TRANSPARENT=TRUE&TILED=false&TILESORIGIN=-30000,-60000&PROJECTION=EPSG:5179&DISPLAYPROJECTION=EPSG:5181&TRANSFORM=EPSG:5181&SERVICE=WMS&VERSION=1.1.1&REQUEST=GetMap&CQL_FILTER=(engn_code='00') and (acdnt_year between '2022' and '2022')  and (legaldong_code ilike '4146%') and (( acdnt_gae_code = '01') or ( acdnt_gae_code = '02') or ( acdnt_gae_code = '03') or ( acdnt_gae_code = '04')) and (( road_type = '6'))&SRS=EPSG:5181&BBOX=158257.92750918,385491.65325955,260529.92750918,445331.65325955&WIDTH=1598&HEIGHT=935\n",
      "src_split : ['https://taas.koroad.or.kr/gis36/TAAS/wms?LAYERS=GNRL_GIS_ACDNT_INFO_NON', 'STYLES=', 'FORMAT=image/png', 'TRANSPARENT=TRUE', 'TILED=false', 'TILESORIGIN=-30000,-60000', 'PROJECTION=EPSG:5179', 'DISPLAYPROJECTION=EPSG:5181', 'TRANSFORM=EPSG:5181', 'SERVICE=WMS', 'VERSION=1.1.1', 'REQUEST=GetMap', \"CQL_FILTER=(engn_code='00') and (acdnt_year between '2022' and '2022')  and (legaldong_code ilike '4146%') and (( acdnt_gae_code = '01') or ( acdnt_gae_code = '02') or ( acdnt_gae_code = '03') or ( acdnt_gae_code = '04')) and (( road_type = '6'))\", 'SRS=EPSG:5181', 'BBOX=158257.92750918,385491.65325955,260529.92750918,445331.65325955', 'WIDTH=1598', 'HEIGHT=935']\n",
      "Debugging - src_split:\n",
      "https://taas.koroad.or.kr/gis36/TAAS/wms?LAYERS=GNRL_GIS_ACDNT_INFO_NON\n",
      "STYLES=\n",
      "FORMAT=image/png\n",
      "TRANSPARENT=TRUE\n",
      "TILED=false\n",
      "TILESORIGIN=-30000,-60000\n",
      "PROJECTION=EPSG:5179\n",
      "DISPLAYPROJECTION=EPSG:5181\n",
      "TRANSFORM=EPSG:5181\n",
      "SERVICE=WMS\n",
      "VERSION=1.1.1\n",
      "REQUEST=GetMap\n",
      "CQL_FILTER=(engn_code='00') and (acdnt_year between '2022' and '2022')  and (legaldong_code ilike '4146%') and (( acdnt_gae_code = '01') or ( acdnt_gae_code = '02') or ( acdnt_gae_code = '03') or ( acdnt_gae_code = '04')) and (( road_type = '6'))\n",
      "SRS=EPSG:5181\n",
      "BBOX=158257.92750918,385491.65325955,260529.92750918,445331.65325955\n",
      "WIDTH=1598\n",
      "HEIGHT=935\n",
      "bbox_text : 158257.92750918,385491.65325955,260529.92750918,445331.65325955\n"
     ]
    },
    {
     "name": "stderr",
     "output_type": "stream",
     "text": [
      "  0%|          | 60/33698 [01:02<9:38:43,  1.03s/it]"
     ]
    },
    {
     "name": "stdout",
     "output_type": "stream",
     "text": [
      "Debugging - src content: <selenium.webdriver.remote.webelement.WebElement (session=\"5b06b3d12ca3a76e5c613afa896de233\", element=\"9E340076E16B0B12E9EB60FAF1C429D4_element_31341\")>\n",
      "Debugging - src content: https://taas.koroad.or.kr/gis36/TAAS/wms?LAYERS=GNRL_GIS_ACDNT_INFO_NON&STYLES=&FORMAT=image/png&TRANSPARENT=TRUE&TILED=false&TILESORIGIN=-30000,-60000&PROJECTION=EPSG:5179&DISPLAYPROJECTION=EPSG:5181&TRANSFORM=EPSG:5181&SERVICE=WMS&VERSION=1.1.1&REQUEST=GetMap&CQL_FILTER=(engn_code='00') and (acdnt_year between '2022' and '2022')  and (legaldong_code ilike '4146%') and (( acdnt_gae_code = '01') or ( acdnt_gae_code = '02') or ( acdnt_gae_code = '03') or ( acdnt_gae_code = '04')) and (( road_type = '6'))&SRS=EPSG:5181&BBOX=158103.42031519,388606.08286585,260375.42031519,448446.08286585&WIDTH=1598&HEIGHT=935\n",
      "src_split : ['https://taas.koroad.or.kr/gis36/TAAS/wms?LAYERS=GNRL_GIS_ACDNT_INFO_NON', 'STYLES=', 'FORMAT=image/png', 'TRANSPARENT=TRUE', 'TILED=false', 'TILESORIGIN=-30000,-60000', 'PROJECTION=EPSG:5179', 'DISPLAYPROJECTION=EPSG:5181', 'TRANSFORM=EPSG:5181', 'SERVICE=WMS', 'VERSION=1.1.1', 'REQUEST=GetMap', \"CQL_FILTER=(engn_code='00') and (acdnt_year between '2022' and '2022')  and (legaldong_code ilike '4146%') and (( acdnt_gae_code = '01') or ( acdnt_gae_code = '02') or ( acdnt_gae_code = '03') or ( acdnt_gae_code = '04')) and (( road_type = '6'))\", 'SRS=EPSG:5181', 'BBOX=158103.42031519,388606.08286585,260375.42031519,448446.08286585', 'WIDTH=1598', 'HEIGHT=935']\n",
      "Debugging - src_split:\n",
      "https://taas.koroad.or.kr/gis36/TAAS/wms?LAYERS=GNRL_GIS_ACDNT_INFO_NON\n",
      "STYLES=\n",
      "FORMAT=image/png\n",
      "TRANSPARENT=TRUE\n",
      "TILED=false\n",
      "TILESORIGIN=-30000,-60000\n",
      "PROJECTION=EPSG:5179\n",
      "DISPLAYPROJECTION=EPSG:5181\n",
      "TRANSFORM=EPSG:5181\n",
      "SERVICE=WMS\n",
      "VERSION=1.1.1\n",
      "REQUEST=GetMap\n",
      "CQL_FILTER=(engn_code='00') and (acdnt_year between '2022' and '2022')  and (legaldong_code ilike '4146%') and (( acdnt_gae_code = '01') or ( acdnt_gae_code = '02') or ( acdnt_gae_code = '03') or ( acdnt_gae_code = '04')) and (( road_type = '6'))\n",
      "SRS=EPSG:5181\n",
      "BBOX=158103.42031519,388606.08286585,260375.42031519,448446.08286585\n",
      "WIDTH=1598\n",
      "HEIGHT=935\n",
      "bbox_text : 158103.42031519,388606.08286585,260375.42031519,448446.08286585\n"
     ]
    },
    {
     "name": "stderr",
     "output_type": "stream",
     "text": [
      "  0%|          | 61/33698 [01:03<9:38:51,  1.03s/it]"
     ]
    },
    {
     "name": "stdout",
     "output_type": "stream",
     "text": [
      "Debugging - src content: <selenium.webdriver.remote.webelement.WebElement (session=\"5b06b3d12ca3a76e5c613afa896de233\", element=\"9E340076E16B0B12E9EB60FAF1C429D4_element_31781\")>\n",
      "Debugging - src content: https://taas.koroad.or.kr/gis36/TAAS/wms?LAYERS=GNRL_GIS_ACDNT_INFO_NON&STYLES=&FORMAT=image/png&TRANSPARENT=TRUE&TILED=false&TILESORIGIN=-30000,-60000&PROJECTION=EPSG:5179&DISPLAYPROJECTION=EPSG:5181&TRANSFORM=EPSG:5181&SERVICE=WMS&VERSION=1.1.1&REQUEST=GetMap&CQL_FILTER=(engn_code='00') and (acdnt_year between '2022' and '2022')  and (legaldong_code ilike '4146%') and (( acdnt_gae_code = '01') or ( acdnt_gae_code = '02') or ( acdnt_gae_code = '03') or ( acdnt_gae_code = '04')) and (( road_type = '6'))&SRS=EPSG:5181&BBOX=158335.03265628,384719.75147448,260607.03265628,444559.75147448&WIDTH=1598&HEIGHT=935\n",
      "src_split : ['https://taas.koroad.or.kr/gis36/TAAS/wms?LAYERS=GNRL_GIS_ACDNT_INFO_NON', 'STYLES=', 'FORMAT=image/png', 'TRANSPARENT=TRUE', 'TILED=false', 'TILESORIGIN=-30000,-60000', 'PROJECTION=EPSG:5179', 'DISPLAYPROJECTION=EPSG:5181', 'TRANSFORM=EPSG:5181', 'SERVICE=WMS', 'VERSION=1.1.1', 'REQUEST=GetMap', \"CQL_FILTER=(engn_code='00') and (acdnt_year between '2022' and '2022')  and (legaldong_code ilike '4146%') and (( acdnt_gae_code = '01') or ( acdnt_gae_code = '02') or ( acdnt_gae_code = '03') or ( acdnt_gae_code = '04')) and (( road_type = '6'))\", 'SRS=EPSG:5181', 'BBOX=158335.03265628,384719.75147448,260607.03265628,444559.75147448', 'WIDTH=1598', 'HEIGHT=935']\n",
      "Debugging - src_split:\n",
      "https://taas.koroad.or.kr/gis36/TAAS/wms?LAYERS=GNRL_GIS_ACDNT_INFO_NON\n",
      "STYLES=\n",
      "FORMAT=image/png\n",
      "TRANSPARENT=TRUE\n",
      "TILED=false\n",
      "TILESORIGIN=-30000,-60000\n",
      "PROJECTION=EPSG:5179\n",
      "DISPLAYPROJECTION=EPSG:5181\n",
      "TRANSFORM=EPSG:5181\n",
      "SERVICE=WMS\n",
      "VERSION=1.1.1\n",
      "REQUEST=GetMap\n",
      "CQL_FILTER=(engn_code='00') and (acdnt_year between '2022' and '2022')  and (legaldong_code ilike '4146%') and (( acdnt_gae_code = '01') or ( acdnt_gae_code = '02') or ( acdnt_gae_code = '03') or ( acdnt_gae_code = '04')) and (( road_type = '6'))\n",
      "SRS=EPSG:5181\n",
      "BBOX=158335.03265628,384719.75147448,260607.03265628,444559.75147448\n",
      "WIDTH=1598\n",
      "HEIGHT=935\n",
      "bbox_text : 158335.03265628,384719.75147448,260607.03265628,444559.75147448\n"
     ]
    },
    {
     "name": "stderr",
     "output_type": "stream",
     "text": [
      "  0%|          | 62/33698 [01:04<9:39:15,  1.03s/it]"
     ]
    },
    {
     "name": "stdout",
     "output_type": "stream",
     "text": [
      "Debugging - src content: <selenium.webdriver.remote.webelement.WebElement (session=\"5b06b3d12ca3a76e5c613afa896de233\", element=\"9E340076E16B0B12E9EB60FAF1C429D4_element_32231\")>\n",
      "Debugging - src content: https://taas.koroad.or.kr/gis36/TAAS/wms?LAYERS=GNRL_GIS_ACDNT_INFO_NON&STYLES=&FORMAT=image/png&TRANSPARENT=TRUE&TILED=false&TILESORIGIN=-30000,-60000&PROJECTION=EPSG:5179&DISPLAYPROJECTION=EPSG:5181&TRANSFORM=EPSG:5181&SERVICE=WMS&VERSION=1.1.1&REQUEST=GetMap&CQL_FILTER=(engn_code='00') and (acdnt_year between '2022' and '2022')  and (legaldong_code ilike '4146%') and (( acdnt_gae_code = '01') or ( acdnt_gae_code = '02') or ( acdnt_gae_code = '03') or ( acdnt_gae_code = '04')) and (( road_type = '6'))&SRS=EPSG:5181&BBOX=154018.25903014,395518.23772202,256290.25903014,455358.23772202&WIDTH=1598&HEIGHT=935\n",
      "src_split : ['https://taas.koroad.or.kr/gis36/TAAS/wms?LAYERS=GNRL_GIS_ACDNT_INFO_NON', 'STYLES=', 'FORMAT=image/png', 'TRANSPARENT=TRUE', 'TILED=false', 'TILESORIGIN=-30000,-60000', 'PROJECTION=EPSG:5179', 'DISPLAYPROJECTION=EPSG:5181', 'TRANSFORM=EPSG:5181', 'SERVICE=WMS', 'VERSION=1.1.1', 'REQUEST=GetMap', \"CQL_FILTER=(engn_code='00') and (acdnt_year between '2022' and '2022')  and (legaldong_code ilike '4146%') and (( acdnt_gae_code = '01') or ( acdnt_gae_code = '02') or ( acdnt_gae_code = '03') or ( acdnt_gae_code = '04')) and (( road_type = '6'))\", 'SRS=EPSG:5181', 'BBOX=154018.25903014,395518.23772202,256290.25903014,455358.23772202', 'WIDTH=1598', 'HEIGHT=935']\n",
      "Debugging - src_split:\n",
      "https://taas.koroad.or.kr/gis36/TAAS/wms?LAYERS=GNRL_GIS_ACDNT_INFO_NON\n",
      "STYLES=\n",
      "FORMAT=image/png\n",
      "TRANSPARENT=TRUE\n",
      "TILED=false\n",
      "TILESORIGIN=-30000,-60000\n",
      "PROJECTION=EPSG:5179\n",
      "DISPLAYPROJECTION=EPSG:5181\n",
      "TRANSFORM=EPSG:5181\n",
      "SERVICE=WMS\n",
      "VERSION=1.1.1\n",
      "REQUEST=GetMap\n",
      "CQL_FILTER=(engn_code='00') and (acdnt_year between '2022' and '2022')  and (legaldong_code ilike '4146%') and (( acdnt_gae_code = '01') or ( acdnt_gae_code = '02') or ( acdnt_gae_code = '03') or ( acdnt_gae_code = '04')) and (( road_type = '6'))\n",
      "SRS=EPSG:5181\n",
      "BBOX=154018.25903014,395518.23772202,256290.25903014,455358.23772202\n",
      "WIDTH=1598\n",
      "HEIGHT=935\n",
      "bbox_text : 154018.25903014,395518.23772202,256290.25903014,455358.23772202\n"
     ]
    },
    {
     "name": "stderr",
     "output_type": "stream",
     "text": [
      "  0%|          | 63/33698 [01:05<9:39:31,  1.03s/it]"
     ]
    },
    {
     "name": "stdout",
     "output_type": "stream",
     "text": [
      "Debugging - src content: <selenium.webdriver.remote.webelement.WebElement (session=\"5b06b3d12ca3a76e5c613afa896de233\", element=\"9E340076E16B0B12E9EB60FAF1C429D4_element_32688\")>\n",
      "Debugging - src content: https://taas.koroad.or.kr/gis36/TAAS/wms?LAYERS=GNRL_GIS_ACDNT_INFO_NON&STYLES=&FORMAT=image/png&TRANSPARENT=TRUE&TILED=false&TILESORIGIN=-30000,-60000&PROJECTION=EPSG:5179&DISPLAYPROJECTION=EPSG:5181&TRANSFORM=EPSG:5181&SERVICE=WMS&VERSION=1.1.1&REQUEST=GetMap&CQL_FILTER=(engn_code='00') and (acdnt_year between '2022' and '2022')  and (legaldong_code ilike '4146%') and (( acdnt_gae_code = '01') or ( acdnt_gae_code = '02') or ( acdnt_gae_code = '03') or ( acdnt_gae_code = '04')) and (( road_type = '6'))&SRS=EPSG:5181&BBOX=174277.37883641,385699.30042374,276549.37883641,445539.30042374&WIDTH=1598&HEIGHT=935\n",
      "src_split : ['https://taas.koroad.or.kr/gis36/TAAS/wms?LAYERS=GNRL_GIS_ACDNT_INFO_NON', 'STYLES=', 'FORMAT=image/png', 'TRANSPARENT=TRUE', 'TILED=false', 'TILESORIGIN=-30000,-60000', 'PROJECTION=EPSG:5179', 'DISPLAYPROJECTION=EPSG:5181', 'TRANSFORM=EPSG:5181', 'SERVICE=WMS', 'VERSION=1.1.1', 'REQUEST=GetMap', \"CQL_FILTER=(engn_code='00') and (acdnt_year between '2022' and '2022')  and (legaldong_code ilike '4146%') and (( acdnt_gae_code = '01') or ( acdnt_gae_code = '02') or ( acdnt_gae_code = '03') or ( acdnt_gae_code = '04')) and (( road_type = '6'))\", 'SRS=EPSG:5181', 'BBOX=174277.37883641,385699.30042374,276549.37883641,445539.30042374', 'WIDTH=1598', 'HEIGHT=935']\n",
      "Debugging - src_split:\n",
      "https://taas.koroad.or.kr/gis36/TAAS/wms?LAYERS=GNRL_GIS_ACDNT_INFO_NON\n",
      "STYLES=\n",
      "FORMAT=image/png\n",
      "TRANSPARENT=TRUE\n",
      "TILED=false\n",
      "TILESORIGIN=-30000,-60000\n",
      "PROJECTION=EPSG:5179\n",
      "DISPLAYPROJECTION=EPSG:5181\n",
      "TRANSFORM=EPSG:5181\n",
      "SERVICE=WMS\n",
      "VERSION=1.1.1\n",
      "REQUEST=GetMap\n",
      "CQL_FILTER=(engn_code='00') and (acdnt_year between '2022' and '2022')  and (legaldong_code ilike '4146%') and (( acdnt_gae_code = '01') or ( acdnt_gae_code = '02') or ( acdnt_gae_code = '03') or ( acdnt_gae_code = '04')) and (( road_type = '6'))\n",
      "SRS=EPSG:5181\n",
      "BBOX=174277.37883641,385699.30042374,276549.37883641,445539.30042374\n",
      "WIDTH=1598\n",
      "HEIGHT=935\n",
      "bbox_text : 174277.37883641,385699.30042374,276549.37883641,445539.30042374\n"
     ]
    },
    {
     "name": "stderr",
     "output_type": "stream",
     "text": [
      "  0%|          | 64/33698 [01:06<9:41:14,  1.04s/it]"
     ]
    },
    {
     "name": "stdout",
     "output_type": "stream",
     "text": [
      "Debugging - src content: <selenium.webdriver.remote.webelement.WebElement (session=\"5b06b3d12ca3a76e5c613afa896de233\", element=\"9E340076E16B0B12E9EB60FAF1C429D4_element_33128\")>\n",
      "Debugging - src content: https://taas.koroad.or.kr/gis36/TAAS/wms?LAYERS=GNRL_GIS_ACDNT_INFO_NON&STYLES=&FORMAT=image/png&TRANSPARENT=TRUE&TILED=false&TILESORIGIN=-30000,-60000&PROJECTION=EPSG:5179&DISPLAYPROJECTION=EPSG:5181&TRANSFORM=EPSG:5181&SERVICE=WMS&VERSION=1.1.1&REQUEST=GetMap&CQL_FILTER=(engn_code='00') and (acdnt_year between '2022' and '2022')  and (legaldong_code ilike '4146%') and (( acdnt_gae_code = '01') or ( acdnt_gae_code = '02') or ( acdnt_gae_code = '03') or ( acdnt_gae_code = '04')) and (( road_type = '6'))&SRS=EPSG:5181&BBOX=175098.80292292,385494.55086852,277370.80292292,445334.55086852&WIDTH=1598&HEIGHT=935\n",
      "src_split : ['https://taas.koroad.or.kr/gis36/TAAS/wms?LAYERS=GNRL_GIS_ACDNT_INFO_NON', 'STYLES=', 'FORMAT=image/png', 'TRANSPARENT=TRUE', 'TILED=false', 'TILESORIGIN=-30000,-60000', 'PROJECTION=EPSG:5179', 'DISPLAYPROJECTION=EPSG:5181', 'TRANSFORM=EPSG:5181', 'SERVICE=WMS', 'VERSION=1.1.1', 'REQUEST=GetMap', \"CQL_FILTER=(engn_code='00') and (acdnt_year between '2022' and '2022')  and (legaldong_code ilike '4146%') and (( acdnt_gae_code = '01') or ( acdnt_gae_code = '02') or ( acdnt_gae_code = '03') or ( acdnt_gae_code = '04')) and (( road_type = '6'))\", 'SRS=EPSG:5181', 'BBOX=175098.80292292,385494.55086852,277370.80292292,445334.55086852', 'WIDTH=1598', 'HEIGHT=935']\n",
      "Debugging - src_split:\n",
      "https://taas.koroad.or.kr/gis36/TAAS/wms?LAYERS=GNRL_GIS_ACDNT_INFO_NON\n",
      "STYLES=\n",
      "FORMAT=image/png\n",
      "TRANSPARENT=TRUE\n",
      "TILED=false\n",
      "TILESORIGIN=-30000,-60000\n",
      "PROJECTION=EPSG:5179\n",
      "DISPLAYPROJECTION=EPSG:5181\n",
      "TRANSFORM=EPSG:5181\n",
      "SERVICE=WMS\n",
      "VERSION=1.1.1\n",
      "REQUEST=GetMap\n",
      "CQL_FILTER=(engn_code='00') and (acdnt_year between '2022' and '2022')  and (legaldong_code ilike '4146%') and (( acdnt_gae_code = '01') or ( acdnt_gae_code = '02') or ( acdnt_gae_code = '03') or ( acdnt_gae_code = '04')) and (( road_type = '6'))\n",
      "SRS=EPSG:5181\n",
      "BBOX=175098.80292292,385494.55086852,277370.80292292,445334.55086852\n",
      "WIDTH=1598\n",
      "HEIGHT=935\n",
      "bbox_text : 175098.80292292,385494.55086852,277370.80292292,445334.55086852\n"
     ]
    },
    {
     "name": "stderr",
     "output_type": "stream",
     "text": [
      "  0%|          | 65/33698 [01:07<9:41:04,  1.04s/it]"
     ]
    },
    {
     "name": "stdout",
     "output_type": "stream",
     "text": [
      "Debugging - src content: <selenium.webdriver.remote.webelement.WebElement (session=\"5b06b3d12ca3a76e5c613afa896de233\", element=\"9E340076E16B0B12E9EB60FAF1C429D4_element_33585\")>\n",
      "Debugging - src content: https://taas.koroad.or.kr/gis36/TAAS/wms?LAYERS=GNRL_GIS_ACDNT_INFO_NON&STYLES=&FORMAT=image/png&TRANSPARENT=TRUE&TILED=false&TILESORIGIN=-30000,-60000&PROJECTION=EPSG:5179&DISPLAYPROJECTION=EPSG:5181&TRANSFORM=EPSG:5181&SERVICE=WMS&VERSION=1.1.1&REQUEST=GetMap&CQL_FILTER=(engn_code='00') and (acdnt_year between '2022' and '2022')  and (legaldong_code ilike '4146%') and (( acdnt_gae_code = '01') or ( acdnt_gae_code = '02') or ( acdnt_gae_code = '03') or ( acdnt_gae_code = '04')) and (( road_type = '6'))&SRS=EPSG:5181&BBOX=158074.62224636,388754.99028535,260346.62224636,448594.99028535&WIDTH=1598&HEIGHT=935\n",
      "src_split : ['https://taas.koroad.or.kr/gis36/TAAS/wms?LAYERS=GNRL_GIS_ACDNT_INFO_NON', 'STYLES=', 'FORMAT=image/png', 'TRANSPARENT=TRUE', 'TILED=false', 'TILESORIGIN=-30000,-60000', 'PROJECTION=EPSG:5179', 'DISPLAYPROJECTION=EPSG:5181', 'TRANSFORM=EPSG:5181', 'SERVICE=WMS', 'VERSION=1.1.1', 'REQUEST=GetMap', \"CQL_FILTER=(engn_code='00') and (acdnt_year between '2022' and '2022')  and (legaldong_code ilike '4146%') and (( acdnt_gae_code = '01') or ( acdnt_gae_code = '02') or ( acdnt_gae_code = '03') or ( acdnt_gae_code = '04')) and (( road_type = '6'))\", 'SRS=EPSG:5181', 'BBOX=158074.62224636,388754.99028535,260346.62224636,448594.99028535', 'WIDTH=1598', 'HEIGHT=935']\n",
      "Debugging - src_split:\n",
      "https://taas.koroad.or.kr/gis36/TAAS/wms?LAYERS=GNRL_GIS_ACDNT_INFO_NON\n",
      "STYLES=\n",
      "FORMAT=image/png\n",
      "TRANSPARENT=TRUE\n",
      "TILED=false\n",
      "TILESORIGIN=-30000,-60000\n",
      "PROJECTION=EPSG:5179\n",
      "DISPLAYPROJECTION=EPSG:5181\n",
      "TRANSFORM=EPSG:5181\n",
      "SERVICE=WMS\n",
      "VERSION=1.1.1\n",
      "REQUEST=GetMap\n",
      "CQL_FILTER=(engn_code='00') and (acdnt_year between '2022' and '2022')  and (legaldong_code ilike '4146%') and (( acdnt_gae_code = '01') or ( acdnt_gae_code = '02') or ( acdnt_gae_code = '03') or ( acdnt_gae_code = '04')) and (( road_type = '6'))\n",
      "SRS=EPSG:5181\n",
      "BBOX=158074.62224636,388754.99028535,260346.62224636,448594.99028535\n",
      "WIDTH=1598\n",
      "HEIGHT=935\n",
      "bbox_text : 158074.62224636,388754.99028535,260346.62224636,448594.99028535\n"
     ]
    },
    {
     "name": "stderr",
     "output_type": "stream",
     "text": [
      "  0%|          | 66/33698 [01:08<9:40:44,  1.04s/it]"
     ]
    },
    {
     "name": "stdout",
     "output_type": "stream",
     "text": [
      "Debugging - src content: <selenium.webdriver.remote.webelement.WebElement (session=\"5b06b3d12ca3a76e5c613afa896de233\", element=\"9E340076E16B0B12E9EB60FAF1C429D4_element_34042\")>\n",
      "Debugging - src content: https://taas.koroad.or.kr/gis36/TAAS/wms?LAYERS=GNRL_GIS_ACDNT_INFO_NON&STYLES=&FORMAT=image/png&TRANSPARENT=TRUE&TILED=false&TILESORIGIN=-30000,-60000&PROJECTION=EPSG:5179&DISPLAYPROJECTION=EPSG:5181&TRANSFORM=EPSG:5181&SERVICE=WMS&VERSION=1.1.1&REQUEST=GetMap&CQL_FILTER=(engn_code='00') and (acdnt_year between '2022' and '2022')  and (legaldong_code ilike '4146%') and (( acdnt_gae_code = '01') or ( acdnt_gae_code = '02') or ( acdnt_gae_code = '03') or ( acdnt_gae_code = '04')) and (( road_type = '6'))&SRS=EPSG:5181&BBOX=169123.50706511,386785.54157916,271395.50706511,446625.54157916&WIDTH=1598&HEIGHT=935\n",
      "src_split : ['https://taas.koroad.or.kr/gis36/TAAS/wms?LAYERS=GNRL_GIS_ACDNT_INFO_NON', 'STYLES=', 'FORMAT=image/png', 'TRANSPARENT=TRUE', 'TILED=false', 'TILESORIGIN=-30000,-60000', 'PROJECTION=EPSG:5179', 'DISPLAYPROJECTION=EPSG:5181', 'TRANSFORM=EPSG:5181', 'SERVICE=WMS', 'VERSION=1.1.1', 'REQUEST=GetMap', \"CQL_FILTER=(engn_code='00') and (acdnt_year between '2022' and '2022')  and (legaldong_code ilike '4146%') and (( acdnt_gae_code = '01') or ( acdnt_gae_code = '02') or ( acdnt_gae_code = '03') or ( acdnt_gae_code = '04')) and (( road_type = '6'))\", 'SRS=EPSG:5181', 'BBOX=169123.50706511,386785.54157916,271395.50706511,446625.54157916', 'WIDTH=1598', 'HEIGHT=935']\n",
      "Debugging - src_split:\n",
      "https://taas.koroad.or.kr/gis36/TAAS/wms?LAYERS=GNRL_GIS_ACDNT_INFO_NON\n",
      "STYLES=\n",
      "FORMAT=image/png\n",
      "TRANSPARENT=TRUE\n",
      "TILED=false\n",
      "TILESORIGIN=-30000,-60000\n",
      "PROJECTION=EPSG:5179\n",
      "DISPLAYPROJECTION=EPSG:5181\n",
      "TRANSFORM=EPSG:5181\n",
      "SERVICE=WMS\n",
      "VERSION=1.1.1\n",
      "REQUEST=GetMap\n",
      "CQL_FILTER=(engn_code='00') and (acdnt_year between '2022' and '2022')  and (legaldong_code ilike '4146%') and (( acdnt_gae_code = '01') or ( acdnt_gae_code = '02') or ( acdnt_gae_code = '03') or ( acdnt_gae_code = '04')) and (( road_type = '6'))\n",
      "SRS=EPSG:5181\n",
      "BBOX=169123.50706511,386785.54157916,271395.50706511,446625.54157916\n",
      "WIDTH=1598\n",
      "HEIGHT=935\n",
      "bbox_text : 169123.50706511,386785.54157916,271395.50706511,446625.54157916\n"
     ]
    },
    {
     "name": "stderr",
     "output_type": "stream",
     "text": [
      "  0%|          | 67/33698 [01:09<9:40:35,  1.04s/it]"
     ]
    },
    {
     "name": "stdout",
     "output_type": "stream",
     "text": [
      "Debugging - src content: <selenium.webdriver.remote.webelement.WebElement (session=\"5b06b3d12ca3a76e5c613afa896de233\", element=\"9E340076E16B0B12E9EB60FAF1C429D4_element_34499\")>\n",
      "Debugging - src content: https://taas.koroad.or.kr/gis36/TAAS/wms?LAYERS=GNRL_GIS_ACDNT_INFO_NON&STYLES=&FORMAT=image/png&TRANSPARENT=TRUE&TILED=false&TILESORIGIN=-30000,-60000&PROJECTION=EPSG:5179&DISPLAYPROJECTION=EPSG:5181&TRANSFORM=EPSG:5181&SERVICE=WMS&VERSION=1.1.1&REQUEST=GetMap&CQL_FILTER=(engn_code='00') and (acdnt_year between '2022' and '2022')  and (legaldong_code ilike '4146%') and (( acdnt_gae_code = '01') or ( acdnt_gae_code = '02') or ( acdnt_gae_code = '03') or ( acdnt_gae_code = '04')) and (( road_type = '6'))&SRS=EPSG:5181&BBOX=158002.57674499,391218.59451737,260274.57674499,451058.59451737&WIDTH=1598&HEIGHT=935\n",
      "src_split : ['https://taas.koroad.or.kr/gis36/TAAS/wms?LAYERS=GNRL_GIS_ACDNT_INFO_NON', 'STYLES=', 'FORMAT=image/png', 'TRANSPARENT=TRUE', 'TILED=false', 'TILESORIGIN=-30000,-60000', 'PROJECTION=EPSG:5179', 'DISPLAYPROJECTION=EPSG:5181', 'TRANSFORM=EPSG:5181', 'SERVICE=WMS', 'VERSION=1.1.1', 'REQUEST=GetMap', \"CQL_FILTER=(engn_code='00') and (acdnt_year between '2022' and '2022')  and (legaldong_code ilike '4146%') and (( acdnt_gae_code = '01') or ( acdnt_gae_code = '02') or ( acdnt_gae_code = '03') or ( acdnt_gae_code = '04')) and (( road_type = '6'))\", 'SRS=EPSG:5181', 'BBOX=158002.57674499,391218.59451737,260274.57674499,451058.59451737', 'WIDTH=1598', 'HEIGHT=935']\n",
      "Debugging - src_split:\n",
      "https://taas.koroad.or.kr/gis36/TAAS/wms?LAYERS=GNRL_GIS_ACDNT_INFO_NON\n",
      "STYLES=\n",
      "FORMAT=image/png\n",
      "TRANSPARENT=TRUE\n",
      "TILED=false\n",
      "TILESORIGIN=-30000,-60000\n",
      "PROJECTION=EPSG:5179\n",
      "DISPLAYPROJECTION=EPSG:5181\n",
      "TRANSFORM=EPSG:5181\n",
      "SERVICE=WMS\n",
      "VERSION=1.1.1\n",
      "REQUEST=GetMap\n",
      "CQL_FILTER=(engn_code='00') and (acdnt_year between '2022' and '2022')  and (legaldong_code ilike '4146%') and (( acdnt_gae_code = '01') or ( acdnt_gae_code = '02') or ( acdnt_gae_code = '03') or ( acdnt_gae_code = '04')) and (( road_type = '6'))\n",
      "SRS=EPSG:5181\n",
      "BBOX=158002.57674499,391218.59451737,260274.57674499,451058.59451737\n",
      "WIDTH=1598\n",
      "HEIGHT=935\n",
      "bbox_text : 158002.57674499,391218.59451737,260274.57674499,451058.59451737\n"
     ]
    },
    {
     "name": "stderr",
     "output_type": "stream",
     "text": [
      "  0%|          | 68/33698 [01:10<9:39:43,  1.03s/it]"
     ]
    },
    {
     "name": "stdout",
     "output_type": "stream",
     "text": [
      "Debugging - src content: <selenium.webdriver.remote.webelement.WebElement (session=\"5b06b3d12ca3a76e5c613afa896de233\", element=\"9E340076E16B0B12E9EB60FAF1C429D4_element_34949\")>\n",
      "Debugging - src content: https://taas.koroad.or.kr/gis36/TAAS/wms?LAYERS=GNRL_GIS_ACDNT_INFO_NON&STYLES=&FORMAT=image/png&TRANSPARENT=TRUE&TILED=false&TILESORIGIN=-30000,-60000&PROJECTION=EPSG:5179&DISPLAYPROJECTION=EPSG:5181&TRANSFORM=EPSG:5181&SERVICE=WMS&VERSION=1.1.1&REQUEST=GetMap&CQL_FILTER=(engn_code='00') and (acdnt_year between '2022' and '2022')  and (legaldong_code ilike '4146%') and (( acdnt_gae_code = '01') or ( acdnt_gae_code = '02') or ( acdnt_gae_code = '03') or ( acdnt_gae_code = '04')) and (( road_type = '6'))&SRS=EPSG:5181&BBOX=158080.70302872,387225.41087672,260352.70302872,447065.41087672&WIDTH=1598&HEIGHT=935\n",
      "src_split : ['https://taas.koroad.or.kr/gis36/TAAS/wms?LAYERS=GNRL_GIS_ACDNT_INFO_NON', 'STYLES=', 'FORMAT=image/png', 'TRANSPARENT=TRUE', 'TILED=false', 'TILESORIGIN=-30000,-60000', 'PROJECTION=EPSG:5179', 'DISPLAYPROJECTION=EPSG:5181', 'TRANSFORM=EPSG:5181', 'SERVICE=WMS', 'VERSION=1.1.1', 'REQUEST=GetMap', \"CQL_FILTER=(engn_code='00') and (acdnt_year between '2022' and '2022')  and (legaldong_code ilike '4146%') and (( acdnt_gae_code = '01') or ( acdnt_gae_code = '02') or ( acdnt_gae_code = '03') or ( acdnt_gae_code = '04')) and (( road_type = '6'))\", 'SRS=EPSG:5181', 'BBOX=158080.70302872,387225.41087672,260352.70302872,447065.41087672', 'WIDTH=1598', 'HEIGHT=935']\n",
      "Debugging - src_split:\n",
      "https://taas.koroad.or.kr/gis36/TAAS/wms?LAYERS=GNRL_GIS_ACDNT_INFO_NON\n",
      "STYLES=\n",
      "FORMAT=image/png\n",
      "TRANSPARENT=TRUE\n",
      "TILED=false\n",
      "TILESORIGIN=-30000,-60000\n",
      "PROJECTION=EPSG:5179\n",
      "DISPLAYPROJECTION=EPSG:5181\n",
      "TRANSFORM=EPSG:5181\n",
      "SERVICE=WMS\n",
      "VERSION=1.1.1\n",
      "REQUEST=GetMap\n",
      "CQL_FILTER=(engn_code='00') and (acdnt_year between '2022' and '2022')  and (legaldong_code ilike '4146%') and (( acdnt_gae_code = '01') or ( acdnt_gae_code = '02') or ( acdnt_gae_code = '03') or ( acdnt_gae_code = '04')) and (( road_type = '6'))\n",
      "SRS=EPSG:5181\n",
      "BBOX=158080.70302872,387225.41087672,260352.70302872,447065.41087672\n",
      "WIDTH=1598\n",
      "HEIGHT=935\n",
      "bbox_text : 158080.70302872,387225.41087672,260352.70302872,447065.41087672\n"
     ]
    },
    {
     "name": "stderr",
     "output_type": "stream",
     "text": [
      "  0%|          | 69/33698 [01:11<9:40:52,  1.04s/it]"
     ]
    },
    {
     "name": "stdout",
     "output_type": "stream",
     "text": [
      "Debugging - src content: <selenium.webdriver.remote.webelement.WebElement (session=\"5b06b3d12ca3a76e5c613afa896de233\", element=\"9E340076E16B0B12E9EB60FAF1C429D4_element_35399\")>\n",
      "Debugging - src content: https://taas.koroad.or.kr/gis36/TAAS/wms?LAYERS=GNRL_GIS_ACDNT_INFO_NON&STYLES=&FORMAT=image/png&TRANSPARENT=TRUE&TILED=false&TILESORIGIN=-30000,-60000&PROJECTION=EPSG:5179&DISPLAYPROJECTION=EPSG:5181&TRANSFORM=EPSG:5181&SERVICE=WMS&VERSION=1.1.1&REQUEST=GetMap&CQL_FILTER=(engn_code='00') and (acdnt_year between '2022' and '2022')  and (legaldong_code ilike '4146%') and (( acdnt_gae_code = '01') or ( acdnt_gae_code = '02') or ( acdnt_gae_code = '03') or ( acdnt_gae_code = '04')) and (( road_type = '6'))&SRS=EPSG:5181&BBOX=158055.72986367,393652.84869417,260327.72986367,453492.84869417&WIDTH=1598&HEIGHT=935\n",
      "src_split : ['https://taas.koroad.or.kr/gis36/TAAS/wms?LAYERS=GNRL_GIS_ACDNT_INFO_NON', 'STYLES=', 'FORMAT=image/png', 'TRANSPARENT=TRUE', 'TILED=false', 'TILESORIGIN=-30000,-60000', 'PROJECTION=EPSG:5179', 'DISPLAYPROJECTION=EPSG:5181', 'TRANSFORM=EPSG:5181', 'SERVICE=WMS', 'VERSION=1.1.1', 'REQUEST=GetMap', \"CQL_FILTER=(engn_code='00') and (acdnt_year between '2022' and '2022')  and (legaldong_code ilike '4146%') and (( acdnt_gae_code = '01') or ( acdnt_gae_code = '02') or ( acdnt_gae_code = '03') or ( acdnt_gae_code = '04')) and (( road_type = '6'))\", 'SRS=EPSG:5181', 'BBOX=158055.72986367,393652.84869417,260327.72986367,453492.84869417', 'WIDTH=1598', 'HEIGHT=935']\n",
      "Debugging - src_split:\n",
      "https://taas.koroad.or.kr/gis36/TAAS/wms?LAYERS=GNRL_GIS_ACDNT_INFO_NON\n",
      "STYLES=\n",
      "FORMAT=image/png\n",
      "TRANSPARENT=TRUE\n",
      "TILED=false\n",
      "TILESORIGIN=-30000,-60000\n",
      "PROJECTION=EPSG:5179\n",
      "DISPLAYPROJECTION=EPSG:5181\n",
      "TRANSFORM=EPSG:5181\n",
      "SERVICE=WMS\n",
      "VERSION=1.1.1\n",
      "REQUEST=GetMap\n",
      "CQL_FILTER=(engn_code='00') and (acdnt_year between '2022' and '2022')  and (legaldong_code ilike '4146%') and (( acdnt_gae_code = '01') or ( acdnt_gae_code = '02') or ( acdnt_gae_code = '03') or ( acdnt_gae_code = '04')) and (( road_type = '6'))\n",
      "SRS=EPSG:5181\n",
      "BBOX=158055.72986367,393652.84869417,260327.72986367,453492.84869417\n",
      "WIDTH=1598\n",
      "HEIGHT=935\n",
      "bbox_text : 158055.72986367,393652.84869417,260327.72986367,453492.84869417\n"
     ]
    },
    {
     "name": "stderr",
     "output_type": "stream",
     "text": [
      "  0%|          | 70/33698 [01:12<9:41:01,  1.04s/it]"
     ]
    },
    {
     "name": "stdout",
     "output_type": "stream",
     "text": [
      "Debugging - src content: <selenium.webdriver.remote.webelement.WebElement (session=\"5b06b3d12ca3a76e5c613afa896de233\", element=\"9E340076E16B0B12E9EB60FAF1C429D4_element_35856\")>\n",
      "Debugging - src content: https://taas.koroad.or.kr/gis36/TAAS/wms?LAYERS=GNRL_GIS_ACDNT_INFO_NON&STYLES=&FORMAT=image/png&TRANSPARENT=TRUE&TILED=false&TILESORIGIN=-30000,-60000&PROJECTION=EPSG:5179&DISPLAYPROJECTION=EPSG:5181&TRANSFORM=EPSG:5181&SERVICE=WMS&VERSION=1.1.1&REQUEST=GetMap&CQL_FILTER=(engn_code='00') and (acdnt_year between '2022' and '2022')  and (legaldong_code ilike '4146%') and (( acdnt_gae_code = '01') or ( acdnt_gae_code = '02') or ( acdnt_gae_code = '03') or ( acdnt_gae_code = '04')) and (( road_type = '6'))&SRS=EPSG:5181&BBOX=173718.69319677,385974.46595542,275990.69319677,445814.46595542&WIDTH=1598&HEIGHT=935\n",
      "src_split : ['https://taas.koroad.or.kr/gis36/TAAS/wms?LAYERS=GNRL_GIS_ACDNT_INFO_NON', 'STYLES=', 'FORMAT=image/png', 'TRANSPARENT=TRUE', 'TILED=false', 'TILESORIGIN=-30000,-60000', 'PROJECTION=EPSG:5179', 'DISPLAYPROJECTION=EPSG:5181', 'TRANSFORM=EPSG:5181', 'SERVICE=WMS', 'VERSION=1.1.1', 'REQUEST=GetMap', \"CQL_FILTER=(engn_code='00') and (acdnt_year between '2022' and '2022')  and (legaldong_code ilike '4146%') and (( acdnt_gae_code = '01') or ( acdnt_gae_code = '02') or ( acdnt_gae_code = '03') or ( acdnt_gae_code = '04')) and (( road_type = '6'))\", 'SRS=EPSG:5181', 'BBOX=173718.69319677,385974.46595542,275990.69319677,445814.46595542', 'WIDTH=1598', 'HEIGHT=935']\n",
      "Debugging - src_split:\n",
      "https://taas.koroad.or.kr/gis36/TAAS/wms?LAYERS=GNRL_GIS_ACDNT_INFO_NON\n",
      "STYLES=\n",
      "FORMAT=image/png\n",
      "TRANSPARENT=TRUE\n",
      "TILED=false\n",
      "TILESORIGIN=-30000,-60000\n",
      "PROJECTION=EPSG:5179\n",
      "DISPLAYPROJECTION=EPSG:5181\n",
      "TRANSFORM=EPSG:5181\n",
      "SERVICE=WMS\n",
      "VERSION=1.1.1\n",
      "REQUEST=GetMap\n",
      "CQL_FILTER=(engn_code='00') and (acdnt_year between '2022' and '2022')  and (legaldong_code ilike '4146%') and (( acdnt_gae_code = '01') or ( acdnt_gae_code = '02') or ( acdnt_gae_code = '03') or ( acdnt_gae_code = '04')) and (( road_type = '6'))\n",
      "SRS=EPSG:5181\n",
      "BBOX=173718.69319677,385974.46595542,275990.69319677,445814.46595542\n",
      "WIDTH=1598\n",
      "HEIGHT=935\n",
      "bbox_text : 173718.69319677,385974.46595542,275990.69319677,445814.46595542\n"
     ]
    },
    {
     "name": "stderr",
     "output_type": "stream",
     "text": [
      "  0%|          | 71/33698 [01:13<9:40:49,  1.04s/it]"
     ]
    },
    {
     "name": "stdout",
     "output_type": "stream",
     "text": [
      "Debugging - src content: <selenium.webdriver.remote.webelement.WebElement (session=\"5b06b3d12ca3a76e5c613afa896de233\", element=\"9E340076E16B0B12E9EB60FAF1C429D4_element_36313\")>\n",
      "Debugging - src content: https://taas.koroad.or.kr/gis36/TAAS/wms?LAYERS=GNRL_GIS_ACDNT_INFO_NON&STYLES=&FORMAT=image/png&TRANSPARENT=TRUE&TILED=false&TILESORIGIN=-30000,-60000&PROJECTION=EPSG:5179&DISPLAYPROJECTION=EPSG:5181&TRANSFORM=EPSG:5181&SERVICE=WMS&VERSION=1.1.1&REQUEST=GetMap&CQL_FILTER=(engn_code='00') and (acdnt_year between '2022' and '2022')  and (legaldong_code ilike '4146%') and (( acdnt_gae_code = '01') or ( acdnt_gae_code = '02') or ( acdnt_gae_code = '03') or ( acdnt_gae_code = '04')) and (( road_type = '6'))&SRS=EPSG:5181&BBOX=158052.61492758,390836.7062864,260324.61492758,450676.7062864&WIDTH=1598&HEIGHT=935\n",
      "src_split : ['https://taas.koroad.or.kr/gis36/TAAS/wms?LAYERS=GNRL_GIS_ACDNT_INFO_NON', 'STYLES=', 'FORMAT=image/png', 'TRANSPARENT=TRUE', 'TILED=false', 'TILESORIGIN=-30000,-60000', 'PROJECTION=EPSG:5179', 'DISPLAYPROJECTION=EPSG:5181', 'TRANSFORM=EPSG:5181', 'SERVICE=WMS', 'VERSION=1.1.1', 'REQUEST=GetMap', \"CQL_FILTER=(engn_code='00') and (acdnt_year between '2022' and '2022')  and (legaldong_code ilike '4146%') and (( acdnt_gae_code = '01') or ( acdnt_gae_code = '02') or ( acdnt_gae_code = '03') or ( acdnt_gae_code = '04')) and (( road_type = '6'))\", 'SRS=EPSG:5181', 'BBOX=158052.61492758,390836.7062864,260324.61492758,450676.7062864', 'WIDTH=1598', 'HEIGHT=935']\n",
      "Debugging - src_split:\n",
      "https://taas.koroad.or.kr/gis36/TAAS/wms?LAYERS=GNRL_GIS_ACDNT_INFO_NON\n",
      "STYLES=\n",
      "FORMAT=image/png\n",
      "TRANSPARENT=TRUE\n",
      "TILED=false\n",
      "TILESORIGIN=-30000,-60000\n",
      "PROJECTION=EPSG:5179\n",
      "DISPLAYPROJECTION=EPSG:5181\n",
      "TRANSFORM=EPSG:5181\n",
      "SERVICE=WMS\n",
      "VERSION=1.1.1\n",
      "REQUEST=GetMap\n",
      "CQL_FILTER=(engn_code='00') and (acdnt_year between '2022' and '2022')  and (legaldong_code ilike '4146%') and (( acdnt_gae_code = '01') or ( acdnt_gae_code = '02') or ( acdnt_gae_code = '03') or ( acdnt_gae_code = '04')) and (( road_type = '6'))\n",
      "SRS=EPSG:5181\n",
      "BBOX=158052.61492758,390836.7062864,260324.61492758,450676.7062864\n",
      "WIDTH=1598\n",
      "HEIGHT=935\n",
      "bbox_text : 158052.61492758,390836.7062864,260324.61492758,450676.7062864\n"
     ]
    },
    {
     "name": "stderr",
     "output_type": "stream",
     "text": [
      "  0%|          | 72/33698 [01:14<9:40:55,  1.04s/it]"
     ]
    },
    {
     "name": "stdout",
     "output_type": "stream",
     "text": [
      "Debugging - src content: <selenium.webdriver.remote.webelement.WebElement (session=\"5b06b3d12ca3a76e5c613afa896de233\", element=\"9E340076E16B0B12E9EB60FAF1C429D4_element_36753\")>\n",
      "Debugging - src content: https://taas.koroad.or.kr/gis36/TAAS/wms?LAYERS=GNRL_GIS_ACDNT_INFO_NON&STYLES=&FORMAT=image/png&TRANSPARENT=TRUE&TILED=false&TILESORIGIN=-30000,-60000&PROJECTION=EPSG:5179&DISPLAYPROJECTION=EPSG:5181&TRANSFORM=EPSG:5181&SERVICE=WMS&VERSION=1.1.1&REQUEST=GetMap&CQL_FILTER=(engn_code='00') and (acdnt_year between '2022' and '2022')  and (legaldong_code ilike '4146%') and (( acdnt_gae_code = '01') or ( acdnt_gae_code = '02') or ( acdnt_gae_code = '03') or ( acdnt_gae_code = '04')) and (( road_type = '6'))&SRS=EPSG:5181&BBOX=165901.71847562,388578.26253017,268173.71847562,448418.26253017&WIDTH=1598&HEIGHT=935\n",
      "src_split : ['https://taas.koroad.or.kr/gis36/TAAS/wms?LAYERS=GNRL_GIS_ACDNT_INFO_NON', 'STYLES=', 'FORMAT=image/png', 'TRANSPARENT=TRUE', 'TILED=false', 'TILESORIGIN=-30000,-60000', 'PROJECTION=EPSG:5179', 'DISPLAYPROJECTION=EPSG:5181', 'TRANSFORM=EPSG:5181', 'SERVICE=WMS', 'VERSION=1.1.1', 'REQUEST=GetMap', \"CQL_FILTER=(engn_code='00') and (acdnt_year between '2022' and '2022')  and (legaldong_code ilike '4146%') and (( acdnt_gae_code = '01') or ( acdnt_gae_code = '02') or ( acdnt_gae_code = '03') or ( acdnt_gae_code = '04')) and (( road_type = '6'))\", 'SRS=EPSG:5181', 'BBOX=165901.71847562,388578.26253017,268173.71847562,448418.26253017', 'WIDTH=1598', 'HEIGHT=935']\n",
      "Debugging - src_split:\n",
      "https://taas.koroad.or.kr/gis36/TAAS/wms?LAYERS=GNRL_GIS_ACDNT_INFO_NON\n",
      "STYLES=\n",
      "FORMAT=image/png\n",
      "TRANSPARENT=TRUE\n",
      "TILED=false\n",
      "TILESORIGIN=-30000,-60000\n",
      "PROJECTION=EPSG:5179\n",
      "DISPLAYPROJECTION=EPSG:5181\n",
      "TRANSFORM=EPSG:5181\n",
      "SERVICE=WMS\n",
      "VERSION=1.1.1\n",
      "REQUEST=GetMap\n",
      "CQL_FILTER=(engn_code='00') and (acdnt_year between '2022' and '2022')  and (legaldong_code ilike '4146%') and (( acdnt_gae_code = '01') or ( acdnt_gae_code = '02') or ( acdnt_gae_code = '03') or ( acdnt_gae_code = '04')) and (( road_type = '6'))\n",
      "SRS=EPSG:5181\n",
      "BBOX=165901.71847562,388578.26253017,268173.71847562,448418.26253017\n",
      "WIDTH=1598\n",
      "HEIGHT=935\n",
      "bbox_text : 165901.71847562,388578.26253017,268173.71847562,448418.26253017\n"
     ]
    },
    {
     "name": "stderr",
     "output_type": "stream",
     "text": [
      "  0%|          | 73/33698 [01:15<9:39:57,  1.03s/it]"
     ]
    },
    {
     "name": "stdout",
     "output_type": "stream",
     "text": [
      "Debugging - src content: <selenium.webdriver.remote.webelement.WebElement (session=\"5b06b3d12ca3a76e5c613afa896de233\", element=\"9E340076E16B0B12E9EB60FAF1C429D4_element_37193\")>\n",
      "Debugging - src content: https://taas.koroad.or.kr/gis36/TAAS/wms?LAYERS=GNRL_GIS_ACDNT_INFO_NON&STYLES=&FORMAT=image/png&TRANSPARENT=TRUE&TILED=false&TILESORIGIN=-30000,-60000&PROJECTION=EPSG:5179&DISPLAYPROJECTION=EPSG:5181&TRANSFORM=EPSG:5181&SERVICE=WMS&VERSION=1.1.1&REQUEST=GetMap&CQL_FILTER=(engn_code='00') and (acdnt_year between '2022' and '2022')  and (legaldong_code ilike '4146%') and (( acdnt_gae_code = '01') or ( acdnt_gae_code = '02') or ( acdnt_gae_code = '03') or ( acdnt_gae_code = '04')) and (( road_type = '6'))&SRS=EPSG:5181&BBOX=157896.1437054,388832.07832108,260168.1437054,448672.07832108&WIDTH=1598&HEIGHT=935\n",
      "src_split : ['https://taas.koroad.or.kr/gis36/TAAS/wms?LAYERS=GNRL_GIS_ACDNT_INFO_NON', 'STYLES=', 'FORMAT=image/png', 'TRANSPARENT=TRUE', 'TILED=false', 'TILESORIGIN=-30000,-60000', 'PROJECTION=EPSG:5179', 'DISPLAYPROJECTION=EPSG:5181', 'TRANSFORM=EPSG:5181', 'SERVICE=WMS', 'VERSION=1.1.1', 'REQUEST=GetMap', \"CQL_FILTER=(engn_code='00') and (acdnt_year between '2022' and '2022')  and (legaldong_code ilike '4146%') and (( acdnt_gae_code = '01') or ( acdnt_gae_code = '02') or ( acdnt_gae_code = '03') or ( acdnt_gae_code = '04')) and (( road_type = '6'))\", 'SRS=EPSG:5181', 'BBOX=157896.1437054,388832.07832108,260168.1437054,448672.07832108', 'WIDTH=1598', 'HEIGHT=935']\n",
      "Debugging - src_split:\n",
      "https://taas.koroad.or.kr/gis36/TAAS/wms?LAYERS=GNRL_GIS_ACDNT_INFO_NON\n",
      "STYLES=\n",
      "FORMAT=image/png\n",
      "TRANSPARENT=TRUE\n",
      "TILED=false\n",
      "TILESORIGIN=-30000,-60000\n",
      "PROJECTION=EPSG:5179\n",
      "DISPLAYPROJECTION=EPSG:5181\n",
      "TRANSFORM=EPSG:5181\n",
      "SERVICE=WMS\n",
      "VERSION=1.1.1\n",
      "REQUEST=GetMap\n",
      "CQL_FILTER=(engn_code='00') and (acdnt_year between '2022' and '2022')  and (legaldong_code ilike '4146%') and (( acdnt_gae_code = '01') or ( acdnt_gae_code = '02') or ( acdnt_gae_code = '03') or ( acdnt_gae_code = '04')) and (( road_type = '6'))\n",
      "SRS=EPSG:5181\n",
      "BBOX=157896.1437054,388832.07832108,260168.1437054,448672.07832108\n",
      "WIDTH=1598\n",
      "HEIGHT=935\n",
      "bbox_text : 157896.1437054,388832.07832108,260168.1437054,448672.07832108\n"
     ]
    },
    {
     "name": "stderr",
     "output_type": "stream",
     "text": [
      "  0%|          | 74/33698 [01:16<9:40:36,  1.04s/it]"
     ]
    },
    {
     "name": "stdout",
     "output_type": "stream",
     "text": [
      "Debugging - src content: <selenium.webdriver.remote.webelement.WebElement (session=\"5b06b3d12ca3a76e5c613afa896de233\", element=\"9E340076E16B0B12E9EB60FAF1C429D4_element_37653\")>\n",
      "Debugging - src content: https://taas.koroad.or.kr/gis36/TAAS/wms?LAYERS=GNRL_GIS_ACDNT_INFO_NON&STYLES=&FORMAT=image/png&TRANSPARENT=TRUE&TILED=false&TILESORIGIN=-30000,-60000&PROJECTION=EPSG:5179&DISPLAYPROJECTION=EPSG:5181&TRANSFORM=EPSG:5181&SERVICE=WMS&VERSION=1.1.1&REQUEST=GetMap&CQL_FILTER=(engn_code='00') and (acdnt_year between '2022' and '2022')  and (legaldong_code ilike '4146%') and (( acdnt_gae_code = '01') or ( acdnt_gae_code = '02') or ( acdnt_gae_code = '03') or ( acdnt_gae_code = '04')) and (( road_type = '6'))&SRS=EPSG:5181&BBOX=159312.92008781,370584.24367866,261584.92008781,430424.24367866&WIDTH=1598&HEIGHT=935\n",
      "src_split : ['https://taas.koroad.or.kr/gis36/TAAS/wms?LAYERS=GNRL_GIS_ACDNT_INFO_NON', 'STYLES=', 'FORMAT=image/png', 'TRANSPARENT=TRUE', 'TILED=false', 'TILESORIGIN=-30000,-60000', 'PROJECTION=EPSG:5179', 'DISPLAYPROJECTION=EPSG:5181', 'TRANSFORM=EPSG:5181', 'SERVICE=WMS', 'VERSION=1.1.1', 'REQUEST=GetMap', \"CQL_FILTER=(engn_code='00') and (acdnt_year between '2022' and '2022')  and (legaldong_code ilike '4146%') and (( acdnt_gae_code = '01') or ( acdnt_gae_code = '02') or ( acdnt_gae_code = '03') or ( acdnt_gae_code = '04')) and (( road_type = '6'))\", 'SRS=EPSG:5181', 'BBOX=159312.92008781,370584.24367866,261584.92008781,430424.24367866', 'WIDTH=1598', 'HEIGHT=935']\n",
      "Debugging - src_split:\n",
      "https://taas.koroad.or.kr/gis36/TAAS/wms?LAYERS=GNRL_GIS_ACDNT_INFO_NON\n",
      "STYLES=\n",
      "FORMAT=image/png\n",
      "TRANSPARENT=TRUE\n",
      "TILED=false\n",
      "TILESORIGIN=-30000,-60000\n",
      "PROJECTION=EPSG:5179\n",
      "DISPLAYPROJECTION=EPSG:5181\n",
      "TRANSFORM=EPSG:5181\n",
      "SERVICE=WMS\n",
      "VERSION=1.1.1\n",
      "REQUEST=GetMap\n",
      "CQL_FILTER=(engn_code='00') and (acdnt_year between '2022' and '2022')  and (legaldong_code ilike '4146%') and (( acdnt_gae_code = '01') or ( acdnt_gae_code = '02') or ( acdnt_gae_code = '03') or ( acdnt_gae_code = '04')) and (( road_type = '6'))\n",
      "SRS=EPSG:5181\n",
      "BBOX=159312.92008781,370584.24367866,261584.92008781,430424.24367866\n",
      "WIDTH=1598\n",
      "HEIGHT=935\n",
      "bbox_text : 159312.92008781,370584.24367866,261584.92008781,430424.24367866\n"
     ]
    },
    {
     "name": "stderr",
     "output_type": "stream",
     "text": [
      "  0%|          | 75/33698 [01:17<9:39:57,  1.03s/it]"
     ]
    },
    {
     "name": "stdout",
     "output_type": "stream",
     "text": [
      "Debugging - src content: <selenium.webdriver.remote.webelement.WebElement (session=\"5b06b3d12ca3a76e5c613afa896de233\", element=\"9E340076E16B0B12E9EB60FAF1C429D4_element_38113\")>\n",
      "Debugging - src content: https://taas.koroad.or.kr/gis36/TAAS/wms?LAYERS=GNRL_GIS_ACDNT_INFO_NON&STYLES=&FORMAT=image/png&TRANSPARENT=TRUE&TILED=false&TILESORIGIN=-30000,-60000&PROJECTION=EPSG:5179&DISPLAYPROJECTION=EPSG:5181&TRANSFORM=EPSG:5181&SERVICE=WMS&VERSION=1.1.1&REQUEST=GetMap&CQL_FILTER=(engn_code='00') and (acdnt_year between '2022' and '2022')  and (legaldong_code ilike '4146%') and (( acdnt_gae_code = '01') or ( acdnt_gae_code = '02') or ( acdnt_gae_code = '03') or ( acdnt_gae_code = '04')) and (( road_type = '6'))&SRS=EPSG:5181&BBOX=153731.48729296,394697.39645108,256003.48729296,454537.39645108&WIDTH=1598&HEIGHT=935\n",
      "src_split : ['https://taas.koroad.or.kr/gis36/TAAS/wms?LAYERS=GNRL_GIS_ACDNT_INFO_NON', 'STYLES=', 'FORMAT=image/png', 'TRANSPARENT=TRUE', 'TILED=false', 'TILESORIGIN=-30000,-60000', 'PROJECTION=EPSG:5179', 'DISPLAYPROJECTION=EPSG:5181', 'TRANSFORM=EPSG:5181', 'SERVICE=WMS', 'VERSION=1.1.1', 'REQUEST=GetMap', \"CQL_FILTER=(engn_code='00') and (acdnt_year between '2022' and '2022')  and (legaldong_code ilike '4146%') and (( acdnt_gae_code = '01') or ( acdnt_gae_code = '02') or ( acdnt_gae_code = '03') or ( acdnt_gae_code = '04')) and (( road_type = '6'))\", 'SRS=EPSG:5181', 'BBOX=153731.48729296,394697.39645108,256003.48729296,454537.39645108', 'WIDTH=1598', 'HEIGHT=935']\n",
      "Debugging - src_split:\n",
      "https://taas.koroad.or.kr/gis36/TAAS/wms?LAYERS=GNRL_GIS_ACDNT_INFO_NON\n",
      "STYLES=\n",
      "FORMAT=image/png\n",
      "TRANSPARENT=TRUE\n",
      "TILED=false\n",
      "TILESORIGIN=-30000,-60000\n",
      "PROJECTION=EPSG:5179\n",
      "DISPLAYPROJECTION=EPSG:5181\n",
      "TRANSFORM=EPSG:5181\n",
      "SERVICE=WMS\n",
      "VERSION=1.1.1\n",
      "REQUEST=GetMap\n",
      "CQL_FILTER=(engn_code='00') and (acdnt_year between '2022' and '2022')  and (legaldong_code ilike '4146%') and (( acdnt_gae_code = '01') or ( acdnt_gae_code = '02') or ( acdnt_gae_code = '03') or ( acdnt_gae_code = '04')) and (( road_type = '6'))\n",
      "SRS=EPSG:5181\n",
      "BBOX=153731.48729296,394697.39645108,256003.48729296,454537.39645108\n",
      "WIDTH=1598\n",
      "HEIGHT=935\n",
      "bbox_text : 153731.48729296,394697.39645108,256003.48729296,454537.39645108\n"
     ]
    },
    {
     "name": "stderr",
     "output_type": "stream",
     "text": [
      "  0%|          | 76/33698 [01:18<9:39:22,  1.03s/it]"
     ]
    },
    {
     "name": "stdout",
     "output_type": "stream",
     "text": [
      "Debugging - src content: <selenium.webdriver.remote.webelement.WebElement (session=\"5b06b3d12ca3a76e5c613afa896de233\", element=\"9E340076E16B0B12E9EB60FAF1C429D4_element_38570\")>\n",
      "Debugging - src content: https://taas.koroad.or.kr/gis36/TAAS/wms?LAYERS=GNRL_GIS_ACDNT_INFO_NON&STYLES=&FORMAT=image/png&TRANSPARENT=TRUE&TILED=false&TILESORIGIN=-30000,-60000&PROJECTION=EPSG:5179&DISPLAYPROJECTION=EPSG:5181&TRANSFORM=EPSG:5181&SERVICE=WMS&VERSION=1.1.1&REQUEST=GetMap&CQL_FILTER=(engn_code='00') and (acdnt_year between '2022' and '2022')  and (legaldong_code ilike '4146%') and (( acdnt_gae_code = '01') or ( acdnt_gae_code = '02') or ( acdnt_gae_code = '03') or ( acdnt_gae_code = '04')) and (( road_type = '6'))&SRS=EPSG:5181&BBOX=167642.55938346,388175.29229511,269914.55938346,448015.29229511&WIDTH=1598&HEIGHT=935\n",
      "src_split : ['https://taas.koroad.or.kr/gis36/TAAS/wms?LAYERS=GNRL_GIS_ACDNT_INFO_NON', 'STYLES=', 'FORMAT=image/png', 'TRANSPARENT=TRUE', 'TILED=false', 'TILESORIGIN=-30000,-60000', 'PROJECTION=EPSG:5179', 'DISPLAYPROJECTION=EPSG:5181', 'TRANSFORM=EPSG:5181', 'SERVICE=WMS', 'VERSION=1.1.1', 'REQUEST=GetMap', \"CQL_FILTER=(engn_code='00') and (acdnt_year between '2022' and '2022')  and (legaldong_code ilike '4146%') and (( acdnt_gae_code = '01') or ( acdnt_gae_code = '02') or ( acdnt_gae_code = '03') or ( acdnt_gae_code = '04')) and (( road_type = '6'))\", 'SRS=EPSG:5181', 'BBOX=167642.55938346,388175.29229511,269914.55938346,448015.29229511', 'WIDTH=1598', 'HEIGHT=935']\n",
      "Debugging - src_split:\n",
      "https://taas.koroad.or.kr/gis36/TAAS/wms?LAYERS=GNRL_GIS_ACDNT_INFO_NON\n",
      "STYLES=\n",
      "FORMAT=image/png\n",
      "TRANSPARENT=TRUE\n",
      "TILED=false\n",
      "TILESORIGIN=-30000,-60000\n",
      "PROJECTION=EPSG:5179\n",
      "DISPLAYPROJECTION=EPSG:5181\n",
      "TRANSFORM=EPSG:5181\n",
      "SERVICE=WMS\n",
      "VERSION=1.1.1\n",
      "REQUEST=GetMap\n",
      "CQL_FILTER=(engn_code='00') and (acdnt_year between '2022' and '2022')  and (legaldong_code ilike '4146%') and (( acdnt_gae_code = '01') or ( acdnt_gae_code = '02') or ( acdnt_gae_code = '03') or ( acdnt_gae_code = '04')) and (( road_type = '6'))\n",
      "SRS=EPSG:5181\n",
      "BBOX=167642.55938346,388175.29229511,269914.55938346,448015.29229511\n",
      "WIDTH=1598\n",
      "HEIGHT=935\n",
      "bbox_text : 167642.55938346,388175.29229511,269914.55938346,448015.29229511\n"
     ]
    },
    {
     "name": "stderr",
     "output_type": "stream",
     "text": [
      "  0%|          | 77/33698 [01:19<9:39:46,  1.03s/it]"
     ]
    },
    {
     "name": "stdout",
     "output_type": "stream",
     "text": [
      "Debugging - src content: <selenium.webdriver.remote.webelement.WebElement (session=\"5b06b3d12ca3a76e5c613afa896de233\", element=\"9E340076E16B0B12E9EB60FAF1C429D4_element_39020\")>\n",
      "Debugging - src content: https://taas.koroad.or.kr/gis36/TAAS/wms?LAYERS=GNRL_GIS_ACDNT_INFO_NON&STYLES=&FORMAT=image/png&TRANSPARENT=TRUE&TILED=false&TILESORIGIN=-30000,-60000&PROJECTION=EPSG:5179&DISPLAYPROJECTION=EPSG:5181&TRANSFORM=EPSG:5181&SERVICE=WMS&VERSION=1.1.1&REQUEST=GetMap&CQL_FILTER=(engn_code='00') and (acdnt_year between '2022' and '2022')  and (legaldong_code ilike '4146%') and (( acdnt_gae_code = '01') or ( acdnt_gae_code = '02') or ( acdnt_gae_code = '03') or ( acdnt_gae_code = '04')) and (( road_type = '6'))&SRS=EPSG:5181&BBOX=167107.03161257,389748.10821711,269379.03161257,449588.10821711&WIDTH=1598&HEIGHT=935\n",
      "src_split : ['https://taas.koroad.or.kr/gis36/TAAS/wms?LAYERS=GNRL_GIS_ACDNT_INFO_NON', 'STYLES=', 'FORMAT=image/png', 'TRANSPARENT=TRUE', 'TILED=false', 'TILESORIGIN=-30000,-60000', 'PROJECTION=EPSG:5179', 'DISPLAYPROJECTION=EPSG:5181', 'TRANSFORM=EPSG:5181', 'SERVICE=WMS', 'VERSION=1.1.1', 'REQUEST=GetMap', \"CQL_FILTER=(engn_code='00') and (acdnt_year between '2022' and '2022')  and (legaldong_code ilike '4146%') and (( acdnt_gae_code = '01') or ( acdnt_gae_code = '02') or ( acdnt_gae_code = '03') or ( acdnt_gae_code = '04')) and (( road_type = '6'))\", 'SRS=EPSG:5181', 'BBOX=167107.03161257,389748.10821711,269379.03161257,449588.10821711', 'WIDTH=1598', 'HEIGHT=935']\n",
      "Debugging - src_split:\n",
      "https://taas.koroad.or.kr/gis36/TAAS/wms?LAYERS=GNRL_GIS_ACDNT_INFO_NON\n",
      "STYLES=\n",
      "FORMAT=image/png\n",
      "TRANSPARENT=TRUE\n",
      "TILED=false\n",
      "TILESORIGIN=-30000,-60000\n",
      "PROJECTION=EPSG:5179\n",
      "DISPLAYPROJECTION=EPSG:5181\n",
      "TRANSFORM=EPSG:5181\n",
      "SERVICE=WMS\n",
      "VERSION=1.1.1\n",
      "REQUEST=GetMap\n",
      "CQL_FILTER=(engn_code='00') and (acdnt_year between '2022' and '2022')  and (legaldong_code ilike '4146%') and (( acdnt_gae_code = '01') or ( acdnt_gae_code = '02') or ( acdnt_gae_code = '03') or ( acdnt_gae_code = '04')) and (( road_type = '6'))\n",
      "SRS=EPSG:5181\n",
      "BBOX=167107.03161257,389748.10821711,269379.03161257,449588.10821711\n",
      "WIDTH=1598\n",
      "HEIGHT=935\n",
      "bbox_text : 167107.03161257,389748.10821711,269379.03161257,449588.10821711\n"
     ]
    },
    {
     "name": "stderr",
     "output_type": "stream",
     "text": [
      "  0%|          | 78/33698 [01:20<9:40:18,  1.04s/it]"
     ]
    },
    {
     "name": "stdout",
     "output_type": "stream",
     "text": [
      "Debugging - src content: <selenium.webdriver.remote.webelement.WebElement (session=\"5b06b3d12ca3a76e5c613afa896de233\", element=\"9E340076E16B0B12E9EB60FAF1C429D4_element_39477\")>\n",
      "Debugging - src content: https://taas.koroad.or.kr/gis36/TAAS/wms?LAYERS=GNRL_GIS_ACDNT_INFO_NON&STYLES=&FORMAT=image/png&TRANSPARENT=TRUE&TILED=false&TILESORIGIN=-30000,-60000&PROJECTION=EPSG:5179&DISPLAYPROJECTION=EPSG:5181&TRANSFORM=EPSG:5181&SERVICE=WMS&VERSION=1.1.1&REQUEST=GetMap&CQL_FILTER=(engn_code='00') and (acdnt_year between '2022' and '2022')  and (legaldong_code ilike '4146%') and (( acdnt_gae_code = '01') or ( acdnt_gae_code = '02') or ( acdnt_gae_code = '03') or ( acdnt_gae_code = '04')) and (( road_type = '6'))&SRS=EPSG:5181&BBOX=158083.8700814,388140.79357267,260355.8700814,447980.79357267&WIDTH=1598&HEIGHT=935\n",
      "src_split : ['https://taas.koroad.or.kr/gis36/TAAS/wms?LAYERS=GNRL_GIS_ACDNT_INFO_NON', 'STYLES=', 'FORMAT=image/png', 'TRANSPARENT=TRUE', 'TILED=false', 'TILESORIGIN=-30000,-60000', 'PROJECTION=EPSG:5179', 'DISPLAYPROJECTION=EPSG:5181', 'TRANSFORM=EPSG:5181', 'SERVICE=WMS', 'VERSION=1.1.1', 'REQUEST=GetMap', \"CQL_FILTER=(engn_code='00') and (acdnt_year between '2022' and '2022')  and (legaldong_code ilike '4146%') and (( acdnt_gae_code = '01') or ( acdnt_gae_code = '02') or ( acdnt_gae_code = '03') or ( acdnt_gae_code = '04')) and (( road_type = '6'))\", 'SRS=EPSG:5181', 'BBOX=158083.8700814,388140.79357267,260355.8700814,447980.79357267', 'WIDTH=1598', 'HEIGHT=935']\n",
      "Debugging - src_split:\n",
      "https://taas.koroad.or.kr/gis36/TAAS/wms?LAYERS=GNRL_GIS_ACDNT_INFO_NON\n",
      "STYLES=\n",
      "FORMAT=image/png\n",
      "TRANSPARENT=TRUE\n",
      "TILED=false\n",
      "TILESORIGIN=-30000,-60000\n",
      "PROJECTION=EPSG:5179\n",
      "DISPLAYPROJECTION=EPSG:5181\n",
      "TRANSFORM=EPSG:5181\n",
      "SERVICE=WMS\n",
      "VERSION=1.1.1\n",
      "REQUEST=GetMap\n",
      "CQL_FILTER=(engn_code='00') and (acdnt_year between '2022' and '2022')  and (legaldong_code ilike '4146%') and (( acdnt_gae_code = '01') or ( acdnt_gae_code = '02') or ( acdnt_gae_code = '03') or ( acdnt_gae_code = '04')) and (( road_type = '6'))\n",
      "SRS=EPSG:5181\n",
      "BBOX=158083.8700814,388140.79357267,260355.8700814,447980.79357267\n",
      "WIDTH=1598\n",
      "HEIGHT=935\n",
      "bbox_text : 158083.8700814,388140.79357267,260355.8700814,447980.79357267\n"
     ]
    },
    {
     "name": "stderr",
     "output_type": "stream",
     "text": [
      "  0%|          | 79/33698 [01:21<9:40:41,  1.04s/it]"
     ]
    },
    {
     "name": "stdout",
     "output_type": "stream",
     "text": [
      "Debugging - src content: <selenium.webdriver.remote.webelement.WebElement (session=\"5b06b3d12ca3a76e5c613afa896de233\", element=\"9E340076E16B0B12E9EB60FAF1C429D4_element_39927\")>\n",
      "Debugging - src content: https://taas.koroad.or.kr/gis36/TAAS/wms?LAYERS=GNRL_GIS_ACDNT_INFO_NON&STYLES=&FORMAT=image/png&TRANSPARENT=TRUE&TILED=false&TILESORIGIN=-30000,-60000&PROJECTION=EPSG:5179&DISPLAYPROJECTION=EPSG:5181&TRANSFORM=EPSG:5181&SERVICE=WMS&VERSION=1.1.1&REQUEST=GetMap&CQL_FILTER=(engn_code='00') and (acdnt_year between '2022' and '2022')  and (legaldong_code ilike '4146%') and (( acdnt_gae_code = '01') or ( acdnt_gae_code = '02') or ( acdnt_gae_code = '03') or ( acdnt_gae_code = '04')) and (( road_type = '6'))&SRS=EPSG:5181&BBOX=158083.35599022,388806.05683629,260355.35599022,448646.05683629&WIDTH=1598&HEIGHT=935\n",
      "src_split : ['https://taas.koroad.or.kr/gis36/TAAS/wms?LAYERS=GNRL_GIS_ACDNT_INFO_NON', 'STYLES=', 'FORMAT=image/png', 'TRANSPARENT=TRUE', 'TILED=false', 'TILESORIGIN=-30000,-60000', 'PROJECTION=EPSG:5179', 'DISPLAYPROJECTION=EPSG:5181', 'TRANSFORM=EPSG:5181', 'SERVICE=WMS', 'VERSION=1.1.1', 'REQUEST=GetMap', \"CQL_FILTER=(engn_code='00') and (acdnt_year between '2022' and '2022')  and (legaldong_code ilike '4146%') and (( acdnt_gae_code = '01') or ( acdnt_gae_code = '02') or ( acdnt_gae_code = '03') or ( acdnt_gae_code = '04')) and (( road_type = '6'))\", 'SRS=EPSG:5181', 'BBOX=158083.35599022,388806.05683629,260355.35599022,448646.05683629', 'WIDTH=1598', 'HEIGHT=935']\n",
      "Debugging - src_split:\n",
      "https://taas.koroad.or.kr/gis36/TAAS/wms?LAYERS=GNRL_GIS_ACDNT_INFO_NON\n",
      "STYLES=\n",
      "FORMAT=image/png\n",
      "TRANSPARENT=TRUE\n",
      "TILED=false\n",
      "TILESORIGIN=-30000,-60000\n",
      "PROJECTION=EPSG:5179\n",
      "DISPLAYPROJECTION=EPSG:5181\n",
      "TRANSFORM=EPSG:5181\n",
      "SERVICE=WMS\n",
      "VERSION=1.1.1\n",
      "REQUEST=GetMap\n",
      "CQL_FILTER=(engn_code='00') and (acdnt_year between '2022' and '2022')  and (legaldong_code ilike '4146%') and (( acdnt_gae_code = '01') or ( acdnt_gae_code = '02') or ( acdnt_gae_code = '03') or ( acdnt_gae_code = '04')) and (( road_type = '6'))\n",
      "SRS=EPSG:5181\n",
      "BBOX=158083.35599022,388806.05683629,260355.35599022,448646.05683629\n",
      "WIDTH=1598\n",
      "HEIGHT=935\n",
      "bbox_text : 158083.35599022,388806.05683629,260355.35599022,448646.05683629\n"
     ]
    },
    {
     "name": "stderr",
     "output_type": "stream",
     "text": [
      "  0%|          | 80/33698 [01:22<9:42:26,  1.04s/it]"
     ]
    },
    {
     "name": "stdout",
     "output_type": "stream",
     "text": [
      "Debugging - src content: <selenium.webdriver.remote.webelement.WebElement (session=\"5b06b3d12ca3a76e5c613afa896de233\", element=\"9E340076E16B0B12E9EB60FAF1C429D4_element_40377\")>\n",
      "Debugging - src content: https://taas.koroad.or.kr/gis36/TAAS/wms?LAYERS=GNRL_GIS_ACDNT_INFO_NON&STYLES=&FORMAT=image/png&TRANSPARENT=TRUE&TILED=false&TILESORIGIN=-30000,-60000&PROJECTION=EPSG:5179&DISPLAYPROJECTION=EPSG:5181&TRANSFORM=EPSG:5181&SERVICE=WMS&VERSION=1.1.1&REQUEST=GetMap&CQL_FILTER=(engn_code='00') and (acdnt_year between '2022' and '2022')  and (legaldong_code ilike '4146%') and (( acdnt_gae_code = '01') or ( acdnt_gae_code = '02') or ( acdnt_gae_code = '03') or ( acdnt_gae_code = '04')) and (( road_type = '6'))&SRS=EPSG:5181&BBOX=158083.8291567,388337.87215011,260355.8291567,448177.87215011&WIDTH=1598&HEIGHT=935\n",
      "src_split : ['https://taas.koroad.or.kr/gis36/TAAS/wms?LAYERS=GNRL_GIS_ACDNT_INFO_NON', 'STYLES=', 'FORMAT=image/png', 'TRANSPARENT=TRUE', 'TILED=false', 'TILESORIGIN=-30000,-60000', 'PROJECTION=EPSG:5179', 'DISPLAYPROJECTION=EPSG:5181', 'TRANSFORM=EPSG:5181', 'SERVICE=WMS', 'VERSION=1.1.1', 'REQUEST=GetMap', \"CQL_FILTER=(engn_code='00') and (acdnt_year between '2022' and '2022')  and (legaldong_code ilike '4146%') and (( acdnt_gae_code = '01') or ( acdnt_gae_code = '02') or ( acdnt_gae_code = '03') or ( acdnt_gae_code = '04')) and (( road_type = '6'))\", 'SRS=EPSG:5181', 'BBOX=158083.8291567,388337.87215011,260355.8291567,448177.87215011', 'WIDTH=1598', 'HEIGHT=935']\n",
      "Debugging - src_split:\n",
      "https://taas.koroad.or.kr/gis36/TAAS/wms?LAYERS=GNRL_GIS_ACDNT_INFO_NON\n",
      "STYLES=\n",
      "FORMAT=image/png\n",
      "TRANSPARENT=TRUE\n",
      "TILED=false\n",
      "TILESORIGIN=-30000,-60000\n",
      "PROJECTION=EPSG:5179\n",
      "DISPLAYPROJECTION=EPSG:5181\n",
      "TRANSFORM=EPSG:5181\n",
      "SERVICE=WMS\n",
      "VERSION=1.1.1\n",
      "REQUEST=GetMap\n",
      "CQL_FILTER=(engn_code='00') and (acdnt_year between '2022' and '2022')  and (legaldong_code ilike '4146%') and (( acdnt_gae_code = '01') or ( acdnt_gae_code = '02') or ( acdnt_gae_code = '03') or ( acdnt_gae_code = '04')) and (( road_type = '6'))\n",
      "SRS=EPSG:5181\n",
      "BBOX=158083.8291567,388337.87215011,260355.8291567,448177.87215011\n",
      "WIDTH=1598\n",
      "HEIGHT=935\n",
      "bbox_text : 158083.8291567,388337.87215011,260355.8291567,448177.87215011\n"
     ]
    },
    {
     "name": "stderr",
     "output_type": "stream",
     "text": [
      "  0%|          | 81/33698 [01:23<9:42:15,  1.04s/it]"
     ]
    },
    {
     "name": "stdout",
     "output_type": "stream",
     "text": [
      "Debugging - src content: <selenium.webdriver.remote.webelement.WebElement (session=\"5b06b3d12ca3a76e5c613afa896de233\", element=\"9E340076E16B0B12E9EB60FAF1C429D4_element_40827\")>\n",
      "Debugging - src content: https://taas.koroad.or.kr/gis36/TAAS/wms?LAYERS=GNRL_GIS_ACDNT_INFO_NON&STYLES=&FORMAT=image/png&TRANSPARENT=TRUE&TILED=false&TILESORIGIN=-30000,-60000&PROJECTION=EPSG:5179&DISPLAYPROJECTION=EPSG:5181&TRANSFORM=EPSG:5181&SERVICE=WMS&VERSION=1.1.1&REQUEST=GetMap&CQL_FILTER=(engn_code='00') and (acdnt_year between '2022' and '2022')  and (legaldong_code ilike '4146%') and (( acdnt_gae_code = '01') or ( acdnt_gae_code = '02') or ( acdnt_gae_code = '03') or ( acdnt_gae_code = '04')) and (( road_type = '6'))&SRS=EPSG:5181&BBOX=160890.08314252,391152.82828933,263162.08314252,450992.82828933&WIDTH=1598&HEIGHT=935\n",
      "src_split : ['https://taas.koroad.or.kr/gis36/TAAS/wms?LAYERS=GNRL_GIS_ACDNT_INFO_NON', 'STYLES=', 'FORMAT=image/png', 'TRANSPARENT=TRUE', 'TILED=false', 'TILESORIGIN=-30000,-60000', 'PROJECTION=EPSG:5179', 'DISPLAYPROJECTION=EPSG:5181', 'TRANSFORM=EPSG:5181', 'SERVICE=WMS', 'VERSION=1.1.1', 'REQUEST=GetMap', \"CQL_FILTER=(engn_code='00') and (acdnt_year between '2022' and '2022')  and (legaldong_code ilike '4146%') and (( acdnt_gae_code = '01') or ( acdnt_gae_code = '02') or ( acdnt_gae_code = '03') or ( acdnt_gae_code = '04')) and (( road_type = '6'))\", 'SRS=EPSG:5181', 'BBOX=160890.08314252,391152.82828933,263162.08314252,450992.82828933', 'WIDTH=1598', 'HEIGHT=935']\n",
      "Debugging - src_split:\n",
      "https://taas.koroad.or.kr/gis36/TAAS/wms?LAYERS=GNRL_GIS_ACDNT_INFO_NON\n",
      "STYLES=\n",
      "FORMAT=image/png\n",
      "TRANSPARENT=TRUE\n",
      "TILED=false\n",
      "TILESORIGIN=-30000,-60000\n",
      "PROJECTION=EPSG:5179\n",
      "DISPLAYPROJECTION=EPSG:5181\n",
      "TRANSFORM=EPSG:5181\n",
      "SERVICE=WMS\n",
      "VERSION=1.1.1\n",
      "REQUEST=GetMap\n",
      "CQL_FILTER=(engn_code='00') and (acdnt_year between '2022' and '2022')  and (legaldong_code ilike '4146%') and (( acdnt_gae_code = '01') or ( acdnt_gae_code = '02') or ( acdnt_gae_code = '03') or ( acdnt_gae_code = '04')) and (( road_type = '6'))\n",
      "SRS=EPSG:5181\n",
      "BBOX=160890.08314252,391152.82828933,263162.08314252,450992.82828933\n",
      "WIDTH=1598\n",
      "HEIGHT=935\n",
      "bbox_text : 160890.08314252,391152.82828933,263162.08314252,450992.82828933\n"
     ]
    },
    {
     "name": "stderr",
     "output_type": "stream",
     "text": [
      "  0%|          | 82/33698 [01:24<9:42:59,  1.04s/it]"
     ]
    },
    {
     "name": "stdout",
     "output_type": "stream",
     "text": [
      "Debugging - src content: <selenium.webdriver.remote.webelement.WebElement (session=\"5b06b3d12ca3a76e5c613afa896de233\", element=\"9E340076E16B0B12E9EB60FAF1C429D4_element_41277\")>\n",
      "Debugging - src content: https://taas.koroad.or.kr/gis36/TAAS/wms?LAYERS=GNRL_GIS_ACDNT_INFO_NON&STYLES=&FORMAT=image/png&TRANSPARENT=TRUE&TILED=false&TILESORIGIN=-30000,-60000&PROJECTION=EPSG:5179&DISPLAYPROJECTION=EPSG:5181&TRANSFORM=EPSG:5181&SERVICE=WMS&VERSION=1.1.1&REQUEST=GetMap&CQL_FILTER=(engn_code='00') and (acdnt_year between '2022' and '2022')  and (legaldong_code ilike '4146%') and (( acdnt_gae_code = '01') or ( acdnt_gae_code = '02') or ( acdnt_gae_code = '03') or ( acdnt_gae_code = '04')) and (( road_type = '6'))&SRS=EPSG:5181&BBOX=166041.22070606,388493.96494334,268313.22070606,448333.96494334&WIDTH=1598&HEIGHT=935\n",
      "src_split : ['https://taas.koroad.or.kr/gis36/TAAS/wms?LAYERS=GNRL_GIS_ACDNT_INFO_NON', 'STYLES=', 'FORMAT=image/png', 'TRANSPARENT=TRUE', 'TILED=false', 'TILESORIGIN=-30000,-60000', 'PROJECTION=EPSG:5179', 'DISPLAYPROJECTION=EPSG:5181', 'TRANSFORM=EPSG:5181', 'SERVICE=WMS', 'VERSION=1.1.1', 'REQUEST=GetMap', \"CQL_FILTER=(engn_code='00') and (acdnt_year between '2022' and '2022')  and (legaldong_code ilike '4146%') and (( acdnt_gae_code = '01') or ( acdnt_gae_code = '02') or ( acdnt_gae_code = '03') or ( acdnt_gae_code = '04')) and (( road_type = '6'))\", 'SRS=EPSG:5181', 'BBOX=166041.22070606,388493.96494334,268313.22070606,448333.96494334', 'WIDTH=1598', 'HEIGHT=935']\n",
      "Debugging - src_split:\n",
      "https://taas.koroad.or.kr/gis36/TAAS/wms?LAYERS=GNRL_GIS_ACDNT_INFO_NON\n",
      "STYLES=\n",
      "FORMAT=image/png\n",
      "TRANSPARENT=TRUE\n",
      "TILED=false\n",
      "TILESORIGIN=-30000,-60000\n",
      "PROJECTION=EPSG:5179\n",
      "DISPLAYPROJECTION=EPSG:5181\n",
      "TRANSFORM=EPSG:5181\n",
      "SERVICE=WMS\n",
      "VERSION=1.1.1\n",
      "REQUEST=GetMap\n",
      "CQL_FILTER=(engn_code='00') and (acdnt_year between '2022' and '2022')  and (legaldong_code ilike '4146%') and (( acdnt_gae_code = '01') or ( acdnt_gae_code = '02') or ( acdnt_gae_code = '03') or ( acdnt_gae_code = '04')) and (( road_type = '6'))\n",
      "SRS=EPSG:5181\n",
      "BBOX=166041.22070606,388493.96494334,268313.22070606,448333.96494334\n",
      "WIDTH=1598\n",
      "HEIGHT=935\n",
      "bbox_text : 166041.22070606,388493.96494334,268313.22070606,448333.96494334\n"
     ]
    },
    {
     "name": "stderr",
     "output_type": "stream",
     "text": [
      "  0%|          | 83/33698 [01:25<9:40:58,  1.04s/it]"
     ]
    },
    {
     "name": "stdout",
     "output_type": "stream",
     "text": [
      "Debugging - src content: <selenium.webdriver.remote.webelement.WebElement (session=\"5b06b3d12ca3a76e5c613afa896de233\", element=\"9E340076E16B0B12E9EB60FAF1C429D4_element_41727\")>\n",
      "Debugging - src content: https://taas.koroad.or.kr/gis36/TAAS/wms?LAYERS=GNRL_GIS_ACDNT_INFO_NON&STYLES=&FORMAT=image/png&TRANSPARENT=TRUE&TILED=false&TILESORIGIN=-30000,-60000&PROJECTION=EPSG:5179&DISPLAYPROJECTION=EPSG:5181&TRANSFORM=EPSG:5181&SERVICE=WMS&VERSION=1.1.1&REQUEST=GetMap&CQL_FILTER=(engn_code='00') and (acdnt_year between '2022' and '2022')  and (legaldong_code ilike '4146%') and (( acdnt_gae_code = '01') or ( acdnt_gae_code = '02') or ( acdnt_gae_code = '03') or ( acdnt_gae_code = '04')) and (( road_type = '6'))&SRS=EPSG:5181&BBOX=158055.59931901,388757.89096103,260327.59931901,448597.89096103&WIDTH=1598&HEIGHT=935\n",
      "src_split : ['https://taas.koroad.or.kr/gis36/TAAS/wms?LAYERS=GNRL_GIS_ACDNT_INFO_NON', 'STYLES=', 'FORMAT=image/png', 'TRANSPARENT=TRUE', 'TILED=false', 'TILESORIGIN=-30000,-60000', 'PROJECTION=EPSG:5179', 'DISPLAYPROJECTION=EPSG:5181', 'TRANSFORM=EPSG:5181', 'SERVICE=WMS', 'VERSION=1.1.1', 'REQUEST=GetMap', \"CQL_FILTER=(engn_code='00') and (acdnt_year between '2022' and '2022')  and (legaldong_code ilike '4146%') and (( acdnt_gae_code = '01') or ( acdnt_gae_code = '02') or ( acdnt_gae_code = '03') or ( acdnt_gae_code = '04')) and (( road_type = '6'))\", 'SRS=EPSG:5181', 'BBOX=158055.59931901,388757.89096103,260327.59931901,448597.89096103', 'WIDTH=1598', 'HEIGHT=935']\n",
      "Debugging - src_split:\n",
      "https://taas.koroad.or.kr/gis36/TAAS/wms?LAYERS=GNRL_GIS_ACDNT_INFO_NON\n",
      "STYLES=\n",
      "FORMAT=image/png\n",
      "TRANSPARENT=TRUE\n",
      "TILED=false\n",
      "TILESORIGIN=-30000,-60000\n",
      "PROJECTION=EPSG:5179\n",
      "DISPLAYPROJECTION=EPSG:5181\n",
      "TRANSFORM=EPSG:5181\n",
      "SERVICE=WMS\n",
      "VERSION=1.1.1\n",
      "REQUEST=GetMap\n",
      "CQL_FILTER=(engn_code='00') and (acdnt_year between '2022' and '2022')  and (legaldong_code ilike '4146%') and (( acdnt_gae_code = '01') or ( acdnt_gae_code = '02') or ( acdnt_gae_code = '03') or ( acdnt_gae_code = '04')) and (( road_type = '6'))\n",
      "SRS=EPSG:5181\n",
      "BBOX=158055.59931901,388757.89096103,260327.59931901,448597.89096103\n",
      "WIDTH=1598\n",
      "HEIGHT=935\n",
      "bbox_text : 158055.59931901,388757.89096103,260327.59931901,448597.89096103\n"
     ]
    },
    {
     "name": "stderr",
     "output_type": "stream",
     "text": [
      "  0%|          | 84/33698 [01:26<9:40:40,  1.04s/it]"
     ]
    },
    {
     "name": "stdout",
     "output_type": "stream",
     "text": [
      "Debugging - src content: <selenium.webdriver.remote.webelement.WebElement (session=\"5b06b3d12ca3a76e5c613afa896de233\", element=\"9E340076E16B0B12E9EB60FAF1C429D4_element_42187\")>\n",
      "Debugging - src content: https://taas.koroad.or.kr/gis36/TAAS/wms?LAYERS=GNRL_GIS_ACDNT_INFO_NON&STYLES=&FORMAT=image/png&TRANSPARENT=TRUE&TILED=false&TILESORIGIN=-30000,-60000&PROJECTION=EPSG:5179&DISPLAYPROJECTION=EPSG:5181&TRANSFORM=EPSG:5181&SERVICE=WMS&VERSION=1.1.1&REQUEST=GetMap&CQL_FILTER=(engn_code='00') and (acdnt_year between '2022' and '2022')  and (legaldong_code ilike '4146%') and (( acdnt_gae_code = '01') or ( acdnt_gae_code = '02') or ( acdnt_gae_code = '03') or ( acdnt_gae_code = '04')) and (( road_type = '6'))&SRS=EPSG:5181&BBOX=159548.68247098,369887.20468159,261820.68247098,429727.20468159&WIDTH=1598&HEIGHT=935\n",
      "src_split : ['https://taas.koroad.or.kr/gis36/TAAS/wms?LAYERS=GNRL_GIS_ACDNT_INFO_NON', 'STYLES=', 'FORMAT=image/png', 'TRANSPARENT=TRUE', 'TILED=false', 'TILESORIGIN=-30000,-60000', 'PROJECTION=EPSG:5179', 'DISPLAYPROJECTION=EPSG:5181', 'TRANSFORM=EPSG:5181', 'SERVICE=WMS', 'VERSION=1.1.1', 'REQUEST=GetMap', \"CQL_FILTER=(engn_code='00') and (acdnt_year between '2022' and '2022')  and (legaldong_code ilike '4146%') and (( acdnt_gae_code = '01') or ( acdnt_gae_code = '02') or ( acdnt_gae_code = '03') or ( acdnt_gae_code = '04')) and (( road_type = '6'))\", 'SRS=EPSG:5181', 'BBOX=159548.68247098,369887.20468159,261820.68247098,429727.20468159', 'WIDTH=1598', 'HEIGHT=935']\n",
      "Debugging - src_split:\n",
      "https://taas.koroad.or.kr/gis36/TAAS/wms?LAYERS=GNRL_GIS_ACDNT_INFO_NON\n",
      "STYLES=\n",
      "FORMAT=image/png\n",
      "TRANSPARENT=TRUE\n",
      "TILED=false\n",
      "TILESORIGIN=-30000,-60000\n",
      "PROJECTION=EPSG:5179\n",
      "DISPLAYPROJECTION=EPSG:5181\n",
      "TRANSFORM=EPSG:5181\n",
      "SERVICE=WMS\n",
      "VERSION=1.1.1\n",
      "REQUEST=GetMap\n",
      "CQL_FILTER=(engn_code='00') and (acdnt_year between '2022' and '2022')  and (legaldong_code ilike '4146%') and (( acdnt_gae_code = '01') or ( acdnt_gae_code = '02') or ( acdnt_gae_code = '03') or ( acdnt_gae_code = '04')) and (( road_type = '6'))\n",
      "SRS=EPSG:5181\n",
      "BBOX=159548.68247098,369887.20468159,261820.68247098,429727.20468159\n",
      "WIDTH=1598\n",
      "HEIGHT=935\n",
      "bbox_text : 159548.68247098,369887.20468159,261820.68247098,429727.20468159\n"
     ]
    },
    {
     "name": "stderr",
     "output_type": "stream",
     "text": [
      "  0%|          | 85/33698 [01:27<9:40:14,  1.04s/it]"
     ]
    },
    {
     "name": "stdout",
     "output_type": "stream",
     "text": [
      "Debugging - src content: <selenium.webdriver.remote.webelement.WebElement (session=\"5b06b3d12ca3a76e5c613afa896de233\", element=\"9E340076E16B0B12E9EB60FAF1C429D4_element_42647\")>\n",
      "Debugging - src content: https://taas.koroad.or.kr/gis36/TAAS/wms?LAYERS=GNRL_GIS_ACDNT_INFO_NON&STYLES=&FORMAT=image/png&TRANSPARENT=TRUE&TILED=false&TILESORIGIN=-30000,-60000&PROJECTION=EPSG:5179&DISPLAYPROJECTION=EPSG:5181&TRANSFORM=EPSG:5181&SERVICE=WMS&VERSION=1.1.1&REQUEST=GetMap&CQL_FILTER=(engn_code='00') and (acdnt_year between '2022' and '2022')  and (legaldong_code ilike '4146%') and (( acdnt_gae_code = '01') or ( acdnt_gae_code = '02') or ( acdnt_gae_code = '03') or ( acdnt_gae_code = '04')) and (( road_type = '6'))&SRS=EPSG:5181&BBOX=158060.28169059,391467.99920041,260332.28169059,451307.99920041&WIDTH=1598&HEIGHT=935\n",
      "src_split : ['https://taas.koroad.or.kr/gis36/TAAS/wms?LAYERS=GNRL_GIS_ACDNT_INFO_NON', 'STYLES=', 'FORMAT=image/png', 'TRANSPARENT=TRUE', 'TILED=false', 'TILESORIGIN=-30000,-60000', 'PROJECTION=EPSG:5179', 'DISPLAYPROJECTION=EPSG:5181', 'TRANSFORM=EPSG:5181', 'SERVICE=WMS', 'VERSION=1.1.1', 'REQUEST=GetMap', \"CQL_FILTER=(engn_code='00') and (acdnt_year between '2022' and '2022')  and (legaldong_code ilike '4146%') and (( acdnt_gae_code = '01') or ( acdnt_gae_code = '02') or ( acdnt_gae_code = '03') or ( acdnt_gae_code = '04')) and (( road_type = '6'))\", 'SRS=EPSG:5181', 'BBOX=158060.28169059,391467.99920041,260332.28169059,451307.99920041', 'WIDTH=1598', 'HEIGHT=935']\n",
      "Debugging - src_split:\n",
      "https://taas.koroad.or.kr/gis36/TAAS/wms?LAYERS=GNRL_GIS_ACDNT_INFO_NON\n",
      "STYLES=\n",
      "FORMAT=image/png\n",
      "TRANSPARENT=TRUE\n",
      "TILED=false\n",
      "TILESORIGIN=-30000,-60000\n",
      "PROJECTION=EPSG:5179\n",
      "DISPLAYPROJECTION=EPSG:5181\n",
      "TRANSFORM=EPSG:5181\n",
      "SERVICE=WMS\n",
      "VERSION=1.1.1\n",
      "REQUEST=GetMap\n",
      "CQL_FILTER=(engn_code='00') and (acdnt_year between '2022' and '2022')  and (legaldong_code ilike '4146%') and (( acdnt_gae_code = '01') or ( acdnt_gae_code = '02') or ( acdnt_gae_code = '03') or ( acdnt_gae_code = '04')) and (( road_type = '6'))\n",
      "SRS=EPSG:5181\n",
      "BBOX=158060.28169059,391467.99920041,260332.28169059,451307.99920041\n",
      "WIDTH=1598\n",
      "HEIGHT=935\n",
      "bbox_text : 158060.28169059,391467.99920041,260332.28169059,451307.99920041\n"
     ]
    },
    {
     "name": "stderr",
     "output_type": "stream",
     "text": [
      "  0%|          | 86/33698 [01:29<9:40:05,  1.04s/it]"
     ]
    },
    {
     "name": "stdout",
     "output_type": "stream",
     "text": [
      "Debugging - src content: <selenium.webdriver.remote.webelement.WebElement (session=\"5b06b3d12ca3a76e5c613afa896de233\", element=\"9E340076E16B0B12E9EB60FAF1C429D4_element_43104\")>\n",
      "Debugging - src content: https://taas.koroad.or.kr/gis36/TAAS/wms?LAYERS=GNRL_GIS_ACDNT_INFO_NON&STYLES=&FORMAT=image/png&TRANSPARENT=TRUE&TILED=false&TILESORIGIN=-30000,-60000&PROJECTION=EPSG:5179&DISPLAYPROJECTION=EPSG:5181&TRANSFORM=EPSG:5181&SERVICE=WMS&VERSION=1.1.1&REQUEST=GetMap&CQL_FILTER=(engn_code='00') and (acdnt_year between '2022' and '2022')  and (legaldong_code ilike '4146%') and (( acdnt_gae_code = '01') or ( acdnt_gae_code = '02') or ( acdnt_gae_code = '03') or ( acdnt_gae_code = '04')) and (( road_type = '6'))&SRS=EPSG:5181&BBOX=166701.21440522,387978.23991358,268973.21440522,447818.23991358&WIDTH=1598&HEIGHT=935\n",
      "src_split : ['https://taas.koroad.or.kr/gis36/TAAS/wms?LAYERS=GNRL_GIS_ACDNT_INFO_NON', 'STYLES=', 'FORMAT=image/png', 'TRANSPARENT=TRUE', 'TILED=false', 'TILESORIGIN=-30000,-60000', 'PROJECTION=EPSG:5179', 'DISPLAYPROJECTION=EPSG:5181', 'TRANSFORM=EPSG:5181', 'SERVICE=WMS', 'VERSION=1.1.1', 'REQUEST=GetMap', \"CQL_FILTER=(engn_code='00') and (acdnt_year between '2022' and '2022')  and (legaldong_code ilike '4146%') and (( acdnt_gae_code = '01') or ( acdnt_gae_code = '02') or ( acdnt_gae_code = '03') or ( acdnt_gae_code = '04')) and (( road_type = '6'))\", 'SRS=EPSG:5181', 'BBOX=166701.21440522,387978.23991358,268973.21440522,447818.23991358', 'WIDTH=1598', 'HEIGHT=935']\n",
      "Debugging - src_split:\n",
      "https://taas.koroad.or.kr/gis36/TAAS/wms?LAYERS=GNRL_GIS_ACDNT_INFO_NON\n",
      "STYLES=\n",
      "FORMAT=image/png\n",
      "TRANSPARENT=TRUE\n",
      "TILED=false\n",
      "TILESORIGIN=-30000,-60000\n",
      "PROJECTION=EPSG:5179\n",
      "DISPLAYPROJECTION=EPSG:5181\n",
      "TRANSFORM=EPSG:5181\n",
      "SERVICE=WMS\n",
      "VERSION=1.1.1\n",
      "REQUEST=GetMap\n",
      "CQL_FILTER=(engn_code='00') and (acdnt_year between '2022' and '2022')  and (legaldong_code ilike '4146%') and (( acdnt_gae_code = '01') or ( acdnt_gae_code = '02') or ( acdnt_gae_code = '03') or ( acdnt_gae_code = '04')) and (( road_type = '6'))\n",
      "SRS=EPSG:5181\n",
      "BBOX=166701.21440522,387978.23991358,268973.21440522,447818.23991358\n",
      "WIDTH=1598\n",
      "HEIGHT=935\n",
      "bbox_text : 166701.21440522,387978.23991358,268973.21440522,447818.23991358\n"
     ]
    },
    {
     "name": "stderr",
     "output_type": "stream",
     "text": [
      "  0%|          | 87/33698 [01:30<9:41:50,  1.04s/it]"
     ]
    },
    {
     "name": "stdout",
     "output_type": "stream",
     "text": [
      "Debugging - src content: <selenium.webdriver.remote.webelement.WebElement (session=\"5b06b3d12ca3a76e5c613afa896de233\", element=\"9E340076E16B0B12E9EB60FAF1C429D4_element_43561\")>\n",
      "Debugging - src content: https://taas.koroad.or.kr/gis36/TAAS/wms?LAYERS=GNRL_GIS_ACDNT_INFO_NON&STYLES=&FORMAT=image/png&TRANSPARENT=TRUE&TILED=false&TILESORIGIN=-30000,-60000&PROJECTION=EPSG:5179&DISPLAYPROJECTION=EPSG:5181&TRANSFORM=EPSG:5181&SERVICE=WMS&VERSION=1.1.1&REQUEST=GetMap&CQL_FILTER=(engn_code='00') and (acdnt_year between '2022' and '2022')  and (legaldong_code ilike '4146%') and (( acdnt_gae_code = '01') or ( acdnt_gae_code = '02') or ( acdnt_gae_code = '03') or ( acdnt_gae_code = '04')) and (( road_type = '6'))&SRS=EPSG:5181&BBOX=159298.98332413,370571.16509415,261570.98332413,430411.16509415&WIDTH=1598&HEIGHT=935\n",
      "src_split : ['https://taas.koroad.or.kr/gis36/TAAS/wms?LAYERS=GNRL_GIS_ACDNT_INFO_NON', 'STYLES=', 'FORMAT=image/png', 'TRANSPARENT=TRUE', 'TILED=false', 'TILESORIGIN=-30000,-60000', 'PROJECTION=EPSG:5179', 'DISPLAYPROJECTION=EPSG:5181', 'TRANSFORM=EPSG:5181', 'SERVICE=WMS', 'VERSION=1.1.1', 'REQUEST=GetMap', \"CQL_FILTER=(engn_code='00') and (acdnt_year between '2022' and '2022')  and (legaldong_code ilike '4146%') and (( acdnt_gae_code = '01') or ( acdnt_gae_code = '02') or ( acdnt_gae_code = '03') or ( acdnt_gae_code = '04')) and (( road_type = '6'))\", 'SRS=EPSG:5181', 'BBOX=159298.98332413,370571.16509415,261570.98332413,430411.16509415', 'WIDTH=1598', 'HEIGHT=935']\n",
      "Debugging - src_split:\n",
      "https://taas.koroad.or.kr/gis36/TAAS/wms?LAYERS=GNRL_GIS_ACDNT_INFO_NON\n",
      "STYLES=\n",
      "FORMAT=image/png\n",
      "TRANSPARENT=TRUE\n",
      "TILED=false\n",
      "TILESORIGIN=-30000,-60000\n",
      "PROJECTION=EPSG:5179\n",
      "DISPLAYPROJECTION=EPSG:5181\n",
      "TRANSFORM=EPSG:5181\n",
      "SERVICE=WMS\n",
      "VERSION=1.1.1\n",
      "REQUEST=GetMap\n",
      "CQL_FILTER=(engn_code='00') and (acdnt_year between '2022' and '2022')  and (legaldong_code ilike '4146%') and (( acdnt_gae_code = '01') or ( acdnt_gae_code = '02') or ( acdnt_gae_code = '03') or ( acdnt_gae_code = '04')) and (( road_type = '6'))\n",
      "SRS=EPSG:5181\n",
      "BBOX=159298.98332413,370571.16509415,261570.98332413,430411.16509415\n",
      "WIDTH=1598\n",
      "HEIGHT=935\n",
      "bbox_text : 159298.98332413,370571.16509415,261570.98332413,430411.16509415\n"
     ]
    },
    {
     "name": "stderr",
     "output_type": "stream",
     "text": [
      "  0%|          | 88/33698 [01:31<9:41:02,  1.04s/it]"
     ]
    },
    {
     "name": "stdout",
     "output_type": "stream",
     "text": [
      "Debugging - src content: <selenium.webdriver.remote.webelement.WebElement (session=\"5b06b3d12ca3a76e5c613afa896de233\", element=\"9E340076E16B0B12E9EB60FAF1C429D4_element_44018\")>\n",
      "Debugging - src content: https://taas.koroad.or.kr/gis36/TAAS/wms?LAYERS=GNRL_GIS_ACDNT_INFO_NON&STYLES=&FORMAT=image/png&TRANSPARENT=TRUE&TILED=false&TILESORIGIN=-30000,-60000&PROJECTION=EPSG:5179&DISPLAYPROJECTION=EPSG:5181&TRANSFORM=EPSG:5181&SERVICE=WMS&VERSION=1.1.1&REQUEST=GetMap&CQL_FILTER=(engn_code='00') and (acdnt_year between '2022' and '2022')  and (legaldong_code ilike '4146%') and (( acdnt_gae_code = '01') or ( acdnt_gae_code = '02') or ( acdnt_gae_code = '03') or ( acdnt_gae_code = '04')) and (( road_type = '6'))&SRS=EPSG:5181&BBOX=174541.60855868,385676.68578345,276813.60855868,445516.68578345&WIDTH=1598&HEIGHT=935\n",
      "src_split : ['https://taas.koroad.or.kr/gis36/TAAS/wms?LAYERS=GNRL_GIS_ACDNT_INFO_NON', 'STYLES=', 'FORMAT=image/png', 'TRANSPARENT=TRUE', 'TILED=false', 'TILESORIGIN=-30000,-60000', 'PROJECTION=EPSG:5179', 'DISPLAYPROJECTION=EPSG:5181', 'TRANSFORM=EPSG:5181', 'SERVICE=WMS', 'VERSION=1.1.1', 'REQUEST=GetMap', \"CQL_FILTER=(engn_code='00') and (acdnt_year between '2022' and '2022')  and (legaldong_code ilike '4146%') and (( acdnt_gae_code = '01') or ( acdnt_gae_code = '02') or ( acdnt_gae_code = '03') or ( acdnt_gae_code = '04')) and (( road_type = '6'))\", 'SRS=EPSG:5181', 'BBOX=174541.60855868,385676.68578345,276813.60855868,445516.68578345', 'WIDTH=1598', 'HEIGHT=935']\n",
      "Debugging - src_split:\n",
      "https://taas.koroad.or.kr/gis36/TAAS/wms?LAYERS=GNRL_GIS_ACDNT_INFO_NON\n",
      "STYLES=\n",
      "FORMAT=image/png\n",
      "TRANSPARENT=TRUE\n",
      "TILED=false\n",
      "TILESORIGIN=-30000,-60000\n",
      "PROJECTION=EPSG:5179\n",
      "DISPLAYPROJECTION=EPSG:5181\n",
      "TRANSFORM=EPSG:5181\n",
      "SERVICE=WMS\n",
      "VERSION=1.1.1\n",
      "REQUEST=GetMap\n",
      "CQL_FILTER=(engn_code='00') and (acdnt_year between '2022' and '2022')  and (legaldong_code ilike '4146%') and (( acdnt_gae_code = '01') or ( acdnt_gae_code = '02') or ( acdnt_gae_code = '03') or ( acdnt_gae_code = '04')) and (( road_type = '6'))\n",
      "SRS=EPSG:5181\n",
      "BBOX=174541.60855868,385676.68578345,276813.60855868,445516.68578345\n",
      "WIDTH=1598\n",
      "HEIGHT=935\n",
      "bbox_text : 174541.60855868,385676.68578345,276813.60855868,445516.68578345\n"
     ]
    },
    {
     "name": "stderr",
     "output_type": "stream",
     "text": [
      "  0%|          | 89/33698 [01:32<9:39:43,  1.03s/it]"
     ]
    },
    {
     "name": "stdout",
     "output_type": "stream",
     "text": [
      "Debugging - src content: <selenium.webdriver.remote.webelement.WebElement (session=\"5b06b3d12ca3a76e5c613afa896de233\", element=\"9E340076E16B0B12E9EB60FAF1C429D4_element_44458\")>\n",
      "Debugging - src content: https://taas.koroad.or.kr/gis36/TAAS/wms?LAYERS=GNRL_GIS_ACDNT_INFO_NON&STYLES=&FORMAT=image/png&TRANSPARENT=TRUE&TILED=false&TILESORIGIN=-30000,-60000&PROJECTION=EPSG:5179&DISPLAYPROJECTION=EPSG:5181&TRANSFORM=EPSG:5181&SERVICE=WMS&VERSION=1.1.1&REQUEST=GetMap&CQL_FILTER=(engn_code='00') and (acdnt_year between '2022' and '2022')  and (legaldong_code ilike '4146%') and (( acdnt_gae_code = '01') or ( acdnt_gae_code = '02') or ( acdnt_gae_code = '03') or ( acdnt_gae_code = '04')) and (( road_type = '6'))&SRS=EPSG:5181&BBOX=166234.04443694,388352.92577342,268506.04443694,448192.92577342&WIDTH=1598&HEIGHT=935\n",
      "src_split : ['https://taas.koroad.or.kr/gis36/TAAS/wms?LAYERS=GNRL_GIS_ACDNT_INFO_NON', 'STYLES=', 'FORMAT=image/png', 'TRANSPARENT=TRUE', 'TILED=false', 'TILESORIGIN=-30000,-60000', 'PROJECTION=EPSG:5179', 'DISPLAYPROJECTION=EPSG:5181', 'TRANSFORM=EPSG:5181', 'SERVICE=WMS', 'VERSION=1.1.1', 'REQUEST=GetMap', \"CQL_FILTER=(engn_code='00') and (acdnt_year between '2022' and '2022')  and (legaldong_code ilike '4146%') and (( acdnt_gae_code = '01') or ( acdnt_gae_code = '02') or ( acdnt_gae_code = '03') or ( acdnt_gae_code = '04')) and (( road_type = '6'))\", 'SRS=EPSG:5181', 'BBOX=166234.04443694,388352.92577342,268506.04443694,448192.92577342', 'WIDTH=1598', 'HEIGHT=935']\n",
      "Debugging - src_split:\n",
      "https://taas.koroad.or.kr/gis36/TAAS/wms?LAYERS=GNRL_GIS_ACDNT_INFO_NON\n",
      "STYLES=\n",
      "FORMAT=image/png\n",
      "TRANSPARENT=TRUE\n",
      "TILED=false\n",
      "TILESORIGIN=-30000,-60000\n",
      "PROJECTION=EPSG:5179\n",
      "DISPLAYPROJECTION=EPSG:5181\n",
      "TRANSFORM=EPSG:5181\n",
      "SERVICE=WMS\n",
      "VERSION=1.1.1\n",
      "REQUEST=GetMap\n",
      "CQL_FILTER=(engn_code='00') and (acdnt_year between '2022' and '2022')  and (legaldong_code ilike '4146%') and (( acdnt_gae_code = '01') or ( acdnt_gae_code = '02') or ( acdnt_gae_code = '03') or ( acdnt_gae_code = '04')) and (( road_type = '6'))\n",
      "SRS=EPSG:5181\n",
      "BBOX=166234.04443694,388352.92577342,268506.04443694,448192.92577342\n",
      "WIDTH=1598\n",
      "HEIGHT=935\n",
      "bbox_text : 166234.04443694,388352.92577342,268506.04443694,448192.92577342\n"
     ]
    },
    {
     "name": "stderr",
     "output_type": "stream",
     "text": [
      "  0%|          | 90/33698 [01:33<9:40:09,  1.04s/it]"
     ]
    },
    {
     "name": "stdout",
     "output_type": "stream",
     "text": [
      "Debugging - src content: <selenium.webdriver.remote.webelement.WebElement (session=\"5b06b3d12ca3a76e5c613afa896de233\", element=\"9E340076E16B0B12E9EB60FAF1C429D4_element_44915\")>\n",
      "Debugging - src content: https://taas.koroad.or.kr/gis36/TAAS/wms?LAYERS=GNRL_GIS_ACDNT_INFO_NON&STYLES=&FORMAT=image/png&TRANSPARENT=TRUE&TILED=false&TILESORIGIN=-30000,-60000&PROJECTION=EPSG:5179&DISPLAYPROJECTION=EPSG:5181&TRANSFORM=EPSG:5181&SERVICE=WMS&VERSION=1.1.1&REQUEST=GetMap&CQL_FILTER=(engn_code='00') and (acdnt_year between '2022' and '2022')  and (legaldong_code ilike '4146%') and (( acdnt_gae_code = '01') or ( acdnt_gae_code = '02') or ( acdnt_gae_code = '03') or ( acdnt_gae_code = '04')) and (( road_type = '6'))&SRS=EPSG:5181&BBOX=158084.13307766,388659.00214667,260356.13307766,448499.00214667&WIDTH=1598&HEIGHT=935\n",
      "src_split : ['https://taas.koroad.or.kr/gis36/TAAS/wms?LAYERS=GNRL_GIS_ACDNT_INFO_NON', 'STYLES=', 'FORMAT=image/png', 'TRANSPARENT=TRUE', 'TILED=false', 'TILESORIGIN=-30000,-60000', 'PROJECTION=EPSG:5179', 'DISPLAYPROJECTION=EPSG:5181', 'TRANSFORM=EPSG:5181', 'SERVICE=WMS', 'VERSION=1.1.1', 'REQUEST=GetMap', \"CQL_FILTER=(engn_code='00') and (acdnt_year between '2022' and '2022')  and (legaldong_code ilike '4146%') and (( acdnt_gae_code = '01') or ( acdnt_gae_code = '02') or ( acdnt_gae_code = '03') or ( acdnt_gae_code = '04')) and (( road_type = '6'))\", 'SRS=EPSG:5181', 'BBOX=158084.13307766,388659.00214667,260356.13307766,448499.00214667', 'WIDTH=1598', 'HEIGHT=935']\n",
      "Debugging - src_split:\n",
      "https://taas.koroad.or.kr/gis36/TAAS/wms?LAYERS=GNRL_GIS_ACDNT_INFO_NON\n",
      "STYLES=\n",
      "FORMAT=image/png\n",
      "TRANSPARENT=TRUE\n",
      "TILED=false\n",
      "TILESORIGIN=-30000,-60000\n",
      "PROJECTION=EPSG:5179\n",
      "DISPLAYPROJECTION=EPSG:5181\n",
      "TRANSFORM=EPSG:5181\n",
      "SERVICE=WMS\n",
      "VERSION=1.1.1\n",
      "REQUEST=GetMap\n",
      "CQL_FILTER=(engn_code='00') and (acdnt_year between '2022' and '2022')  and (legaldong_code ilike '4146%') and (( acdnt_gae_code = '01') or ( acdnt_gae_code = '02') or ( acdnt_gae_code = '03') or ( acdnt_gae_code = '04')) and (( road_type = '6'))\n",
      "SRS=EPSG:5181\n",
      "BBOX=158084.13307766,388659.00214667,260356.13307766,448499.00214667\n",
      "WIDTH=1598\n",
      "HEIGHT=935\n",
      "bbox_text : 158084.13307766,388659.00214667,260356.13307766,448499.00214667\n"
     ]
    },
    {
     "name": "stderr",
     "output_type": "stream",
     "text": [
      "  0%|          | 91/33698 [01:34<9:39:24,  1.03s/it]"
     ]
    },
    {
     "name": "stdout",
     "output_type": "stream",
     "text": [
      "Debugging - src content: <selenium.webdriver.remote.webelement.WebElement (session=\"5b06b3d12ca3a76e5c613afa896de233\", element=\"9E340076E16B0B12E9EB60FAF1C429D4_element_45355\")>\n",
      "Debugging - src content: https://taas.koroad.or.kr/gis36/TAAS/wms?LAYERS=GNRL_GIS_ACDNT_INFO_NON&STYLES=&FORMAT=image/png&TRANSPARENT=TRUE&TILED=false&TILESORIGIN=-30000,-60000&PROJECTION=EPSG:5179&DISPLAYPROJECTION=EPSG:5181&TRANSFORM=EPSG:5181&SERVICE=WMS&VERSION=1.1.1&REQUEST=GetMap&CQL_FILTER=(engn_code='00') and (acdnt_year between '2022' and '2022')  and (legaldong_code ilike '4146%') and (( acdnt_gae_code = '01') or ( acdnt_gae_code = '02') or ( acdnt_gae_code = '03') or ( acdnt_gae_code = '04')) and (( road_type = '6'))&SRS=EPSG:5181&BBOX=158065.30928176,391273.94818679,260337.30928176,451113.94818679&WIDTH=1598&HEIGHT=935\n",
      "src_split : ['https://taas.koroad.or.kr/gis36/TAAS/wms?LAYERS=GNRL_GIS_ACDNT_INFO_NON', 'STYLES=', 'FORMAT=image/png', 'TRANSPARENT=TRUE', 'TILED=false', 'TILESORIGIN=-30000,-60000', 'PROJECTION=EPSG:5179', 'DISPLAYPROJECTION=EPSG:5181', 'TRANSFORM=EPSG:5181', 'SERVICE=WMS', 'VERSION=1.1.1', 'REQUEST=GetMap', \"CQL_FILTER=(engn_code='00') and (acdnt_year between '2022' and '2022')  and (legaldong_code ilike '4146%') and (( acdnt_gae_code = '01') or ( acdnt_gae_code = '02') or ( acdnt_gae_code = '03') or ( acdnt_gae_code = '04')) and (( road_type = '6'))\", 'SRS=EPSG:5181', 'BBOX=158065.30928176,391273.94818679,260337.30928176,451113.94818679', 'WIDTH=1598', 'HEIGHT=935']\n",
      "Debugging - src_split:\n",
      "https://taas.koroad.or.kr/gis36/TAAS/wms?LAYERS=GNRL_GIS_ACDNT_INFO_NON\n",
      "STYLES=\n",
      "FORMAT=image/png\n",
      "TRANSPARENT=TRUE\n",
      "TILED=false\n",
      "TILESORIGIN=-30000,-60000\n",
      "PROJECTION=EPSG:5179\n",
      "DISPLAYPROJECTION=EPSG:5181\n",
      "TRANSFORM=EPSG:5181\n",
      "SERVICE=WMS\n",
      "VERSION=1.1.1\n",
      "REQUEST=GetMap\n",
      "CQL_FILTER=(engn_code='00') and (acdnt_year between '2022' and '2022')  and (legaldong_code ilike '4146%') and (( acdnt_gae_code = '01') or ( acdnt_gae_code = '02') or ( acdnt_gae_code = '03') or ( acdnt_gae_code = '04')) and (( road_type = '6'))\n",
      "SRS=EPSG:5181\n",
      "BBOX=158065.30928176,391273.94818679,260337.30928176,451113.94818679\n",
      "WIDTH=1598\n",
      "HEIGHT=935\n",
      "bbox_text : 158065.30928176,391273.94818679,260337.30928176,451113.94818679\n"
     ]
    },
    {
     "name": "stderr",
     "output_type": "stream",
     "text": [
      "  0%|          | 92/33698 [01:35<9:39:43,  1.04s/it]"
     ]
    },
    {
     "name": "stdout",
     "output_type": "stream",
     "text": [
      "Debugging - src content: <selenium.webdriver.remote.webelement.WebElement (session=\"5b06b3d12ca3a76e5c613afa896de233\", element=\"9E340076E16B0B12E9EB60FAF1C429D4_element_45795\")>\n",
      "Debugging - src content: https://taas.koroad.or.kr/gis36/TAAS/wms?LAYERS=GNRL_GIS_ACDNT_INFO_NON&STYLES=&FORMAT=image/png&TRANSPARENT=TRUE&TILED=false&TILESORIGIN=-30000,-60000&PROJECTION=EPSG:5179&DISPLAYPROJECTION=EPSG:5181&TRANSFORM=EPSG:5181&SERVICE=WMS&VERSION=1.1.1&REQUEST=GetMap&CQL_FILTER=(engn_code='00') and (acdnt_year between '2022' and '2022')  and (legaldong_code ilike '4146%') and (( acdnt_gae_code = '01') or ( acdnt_gae_code = '02') or ( acdnt_gae_code = '03') or ( acdnt_gae_code = '04')) and (( road_type = '6'))&SRS=EPSG:5181&BBOX=158939.93704367,391410.62537129,261211.93704367,451250.62537129&WIDTH=1598&HEIGHT=935\n",
      "src_split : ['https://taas.koroad.or.kr/gis36/TAAS/wms?LAYERS=GNRL_GIS_ACDNT_INFO_NON', 'STYLES=', 'FORMAT=image/png', 'TRANSPARENT=TRUE', 'TILED=false', 'TILESORIGIN=-30000,-60000', 'PROJECTION=EPSG:5179', 'DISPLAYPROJECTION=EPSG:5181', 'TRANSFORM=EPSG:5181', 'SERVICE=WMS', 'VERSION=1.1.1', 'REQUEST=GetMap', \"CQL_FILTER=(engn_code='00') and (acdnt_year between '2022' and '2022')  and (legaldong_code ilike '4146%') and (( acdnt_gae_code = '01') or ( acdnt_gae_code = '02') or ( acdnt_gae_code = '03') or ( acdnt_gae_code = '04')) and (( road_type = '6'))\", 'SRS=EPSG:5181', 'BBOX=158939.93704367,391410.62537129,261211.93704367,451250.62537129', 'WIDTH=1598', 'HEIGHT=935']\n",
      "Debugging - src_split:\n",
      "https://taas.koroad.or.kr/gis36/TAAS/wms?LAYERS=GNRL_GIS_ACDNT_INFO_NON\n",
      "STYLES=\n",
      "FORMAT=image/png\n",
      "TRANSPARENT=TRUE\n",
      "TILED=false\n",
      "TILESORIGIN=-30000,-60000\n",
      "PROJECTION=EPSG:5179\n",
      "DISPLAYPROJECTION=EPSG:5181\n",
      "TRANSFORM=EPSG:5181\n",
      "SERVICE=WMS\n",
      "VERSION=1.1.1\n",
      "REQUEST=GetMap\n",
      "CQL_FILTER=(engn_code='00') and (acdnt_year between '2022' and '2022')  and (legaldong_code ilike '4146%') and (( acdnt_gae_code = '01') or ( acdnt_gae_code = '02') or ( acdnt_gae_code = '03') or ( acdnt_gae_code = '04')) and (( road_type = '6'))\n",
      "SRS=EPSG:5181\n",
      "BBOX=158939.93704367,391410.62537129,261211.93704367,451250.62537129\n",
      "WIDTH=1598\n",
      "HEIGHT=935\n",
      "bbox_text : 158939.93704367,391410.62537129,261211.93704367,451250.62537129\n"
     ]
    },
    {
     "name": "stderr",
     "output_type": "stream",
     "text": [
      "  0%|          | 93/33698 [01:36<9:39:52,  1.04s/it]"
     ]
    },
    {
     "name": "stdout",
     "output_type": "stream",
     "text": [
      "Debugging - src content: <selenium.webdriver.remote.webelement.WebElement (session=\"5b06b3d12ca3a76e5c613afa896de233\", element=\"9E340076E16B0B12E9EB60FAF1C429D4_element_46252\")>\n",
      "Debugging - src content: https://taas.koroad.or.kr/gis36/TAAS/wms?LAYERS=GNRL_GIS_ACDNT_INFO_NON&STYLES=&FORMAT=image/png&TRANSPARENT=TRUE&TILED=false&TILESORIGIN=-30000,-60000&PROJECTION=EPSG:5179&DISPLAYPROJECTION=EPSG:5181&TRANSFORM=EPSG:5181&SERVICE=WMS&VERSION=1.1.1&REQUEST=GetMap&CQL_FILTER=(engn_code='00') and (acdnt_year between '2022' and '2022')  and (legaldong_code ilike '4146%') and (( acdnt_gae_code = '01') or ( acdnt_gae_code = '02') or ( acdnt_gae_code = '03') or ( acdnt_gae_code = '04')) and (( road_type = '6'))&SRS=EPSG:5181&BBOX=174323.47072799,385685.53798608,276595.47072799,445525.53798608&WIDTH=1598&HEIGHT=935\n",
      "src_split : ['https://taas.koroad.or.kr/gis36/TAAS/wms?LAYERS=GNRL_GIS_ACDNT_INFO_NON', 'STYLES=', 'FORMAT=image/png', 'TRANSPARENT=TRUE', 'TILED=false', 'TILESORIGIN=-30000,-60000', 'PROJECTION=EPSG:5179', 'DISPLAYPROJECTION=EPSG:5181', 'TRANSFORM=EPSG:5181', 'SERVICE=WMS', 'VERSION=1.1.1', 'REQUEST=GetMap', \"CQL_FILTER=(engn_code='00') and (acdnt_year between '2022' and '2022')  and (legaldong_code ilike '4146%') and (( acdnt_gae_code = '01') or ( acdnt_gae_code = '02') or ( acdnt_gae_code = '03') or ( acdnt_gae_code = '04')) and (( road_type = '6'))\", 'SRS=EPSG:5181', 'BBOX=174323.47072799,385685.53798608,276595.47072799,445525.53798608', 'WIDTH=1598', 'HEIGHT=935']\n",
      "Debugging - src_split:\n",
      "https://taas.koroad.or.kr/gis36/TAAS/wms?LAYERS=GNRL_GIS_ACDNT_INFO_NON\n",
      "STYLES=\n",
      "FORMAT=image/png\n",
      "TRANSPARENT=TRUE\n",
      "TILED=false\n",
      "TILESORIGIN=-30000,-60000\n",
      "PROJECTION=EPSG:5179\n",
      "DISPLAYPROJECTION=EPSG:5181\n",
      "TRANSFORM=EPSG:5181\n",
      "SERVICE=WMS\n",
      "VERSION=1.1.1\n",
      "REQUEST=GetMap\n",
      "CQL_FILTER=(engn_code='00') and (acdnt_year between '2022' and '2022')  and (legaldong_code ilike '4146%') and (( acdnt_gae_code = '01') or ( acdnt_gae_code = '02') or ( acdnt_gae_code = '03') or ( acdnt_gae_code = '04')) and (( road_type = '6'))\n",
      "SRS=EPSG:5181\n",
      "BBOX=174323.47072799,385685.53798608,276595.47072799,445525.53798608\n",
      "WIDTH=1598\n",
      "HEIGHT=935\n",
      "bbox_text : 174323.47072799,385685.53798608,276595.47072799,445525.53798608\n"
     ]
    },
    {
     "name": "stderr",
     "output_type": "stream",
     "text": [
      "  0%|          | 94/33698 [01:37<9:38:37,  1.03s/it]"
     ]
    },
    {
     "name": "stdout",
     "output_type": "stream",
     "text": [
      "Debugging - src content: <selenium.webdriver.remote.webelement.WebElement (session=\"5b06b3d12ca3a76e5c613afa896de233\", element=\"9E340076E16B0B12E9EB60FAF1C429D4_element_46699\")>\n",
      "Debugging - src content: https://taas.koroad.or.kr/gis36/TAAS/wms?LAYERS=GNRL_GIS_ACDNT_INFO_NON&STYLES=&FORMAT=image/png&TRANSPARENT=TRUE&TILED=false&TILESORIGIN=-30000,-60000&PROJECTION=EPSG:5179&DISPLAYPROJECTION=EPSG:5181&TRANSFORM=EPSG:5181&SERVICE=WMS&VERSION=1.1.1&REQUEST=GetMap&CQL_FILTER=(engn_code='00') and (acdnt_year between '2022' and '2022')  and (legaldong_code ilike '4146%') and (( acdnt_gae_code = '01') or ( acdnt_gae_code = '02') or ( acdnt_gae_code = '03') or ( acdnt_gae_code = '04')) and (( road_type = '6'))&SRS=EPSG:5181&BBOX=158078.63831837,388562.93471417,260350.63831837,448402.93471417&WIDTH=1598&HEIGHT=935\n",
      "src_split : ['https://taas.koroad.or.kr/gis36/TAAS/wms?LAYERS=GNRL_GIS_ACDNT_INFO_NON', 'STYLES=', 'FORMAT=image/png', 'TRANSPARENT=TRUE', 'TILED=false', 'TILESORIGIN=-30000,-60000', 'PROJECTION=EPSG:5179', 'DISPLAYPROJECTION=EPSG:5181', 'TRANSFORM=EPSG:5181', 'SERVICE=WMS', 'VERSION=1.1.1', 'REQUEST=GetMap', \"CQL_FILTER=(engn_code='00') and (acdnt_year between '2022' and '2022')  and (legaldong_code ilike '4146%') and (( acdnt_gae_code = '01') or ( acdnt_gae_code = '02') or ( acdnt_gae_code = '03') or ( acdnt_gae_code = '04')) and (( road_type = '6'))\", 'SRS=EPSG:5181', 'BBOX=158078.63831837,388562.93471417,260350.63831837,448402.93471417', 'WIDTH=1598', 'HEIGHT=935']\n",
      "Debugging - src_split:\n",
      "https://taas.koroad.or.kr/gis36/TAAS/wms?LAYERS=GNRL_GIS_ACDNT_INFO_NON\n",
      "STYLES=\n",
      "FORMAT=image/png\n",
      "TRANSPARENT=TRUE\n",
      "TILED=false\n",
      "TILESORIGIN=-30000,-60000\n",
      "PROJECTION=EPSG:5179\n",
      "DISPLAYPROJECTION=EPSG:5181\n",
      "TRANSFORM=EPSG:5181\n",
      "SERVICE=WMS\n",
      "VERSION=1.1.1\n",
      "REQUEST=GetMap\n",
      "CQL_FILTER=(engn_code='00') and (acdnt_year between '2022' and '2022')  and (legaldong_code ilike '4146%') and (( acdnt_gae_code = '01') or ( acdnt_gae_code = '02') or ( acdnt_gae_code = '03') or ( acdnt_gae_code = '04')) and (( road_type = '6'))\n",
      "SRS=EPSG:5181\n",
      "BBOX=158078.63831837,388562.93471417,260350.63831837,448402.93471417\n",
      "WIDTH=1598\n",
      "HEIGHT=935\n",
      "bbox_text : 158078.63831837,388562.93471417,260350.63831837,448402.93471417\n"
     ]
    },
    {
     "name": "stderr",
     "output_type": "stream",
     "text": [
      "  0%|          | 95/33698 [01:38<9:39:05,  1.03s/it]"
     ]
    },
    {
     "name": "stdout",
     "output_type": "stream",
     "text": [
      "Debugging - src content: <selenium.webdriver.remote.webelement.WebElement (session=\"5b06b3d12ca3a76e5c613afa896de233\", element=\"9E340076E16B0B12E9EB60FAF1C429D4_element_47149\")>\n",
      "Debugging - src content: https://taas.koroad.or.kr/gis36/TAAS/wms?LAYERS=GNRL_GIS_ACDNT_INFO_NON&STYLES=&FORMAT=image/png&TRANSPARENT=TRUE&TILED=false&TILESORIGIN=-30000,-60000&PROJECTION=EPSG:5179&DISPLAYPROJECTION=EPSG:5181&TRANSFORM=EPSG:5181&SERVICE=WMS&VERSION=1.1.1&REQUEST=GetMap&CQL_FILTER=(engn_code='00') and (acdnt_year between '2022' and '2022')  and (legaldong_code ilike '4146%') and (( acdnt_gae_code = '01') or ( acdnt_gae_code = '02') or ( acdnt_gae_code = '03') or ( acdnt_gae_code = '04')) and (( road_type = '6'))&SRS=EPSG:5181&BBOX=165637.56116859,388776.94833043,267909.56116859,448616.94833043&WIDTH=1598&HEIGHT=935\n",
      "src_split : ['https://taas.koroad.or.kr/gis36/TAAS/wms?LAYERS=GNRL_GIS_ACDNT_INFO_NON', 'STYLES=', 'FORMAT=image/png', 'TRANSPARENT=TRUE', 'TILED=false', 'TILESORIGIN=-30000,-60000', 'PROJECTION=EPSG:5179', 'DISPLAYPROJECTION=EPSG:5181', 'TRANSFORM=EPSG:5181', 'SERVICE=WMS', 'VERSION=1.1.1', 'REQUEST=GetMap', \"CQL_FILTER=(engn_code='00') and (acdnt_year between '2022' and '2022')  and (legaldong_code ilike '4146%') and (( acdnt_gae_code = '01') or ( acdnt_gae_code = '02') or ( acdnt_gae_code = '03') or ( acdnt_gae_code = '04')) and (( road_type = '6'))\", 'SRS=EPSG:5181', 'BBOX=165637.56116859,388776.94833043,267909.56116859,448616.94833043', 'WIDTH=1598', 'HEIGHT=935']\n",
      "Debugging - src_split:\n",
      "https://taas.koroad.or.kr/gis36/TAAS/wms?LAYERS=GNRL_GIS_ACDNT_INFO_NON\n",
      "STYLES=\n",
      "FORMAT=image/png\n",
      "TRANSPARENT=TRUE\n",
      "TILED=false\n",
      "TILESORIGIN=-30000,-60000\n",
      "PROJECTION=EPSG:5179\n",
      "DISPLAYPROJECTION=EPSG:5181\n",
      "TRANSFORM=EPSG:5181\n",
      "SERVICE=WMS\n",
      "VERSION=1.1.1\n",
      "REQUEST=GetMap\n",
      "CQL_FILTER=(engn_code='00') and (acdnt_year between '2022' and '2022')  and (legaldong_code ilike '4146%') and (( acdnt_gae_code = '01') or ( acdnt_gae_code = '02') or ( acdnt_gae_code = '03') or ( acdnt_gae_code = '04')) and (( road_type = '6'))\n",
      "SRS=EPSG:5181\n",
      "BBOX=165637.56116859,388776.94833043,267909.56116859,448616.94833043\n",
      "WIDTH=1598\n",
      "HEIGHT=935\n",
      "bbox_text : 165637.56116859,388776.94833043,267909.56116859,448616.94833043\n"
     ]
    },
    {
     "name": "stderr",
     "output_type": "stream",
     "text": [
      "  0%|          | 96/33698 [01:39<9:40:21,  1.04s/it]"
     ]
    },
    {
     "name": "stdout",
     "output_type": "stream",
     "text": [
      "Debugging - src content: <selenium.webdriver.remote.webelement.WebElement (session=\"5b06b3d12ca3a76e5c613afa896de233\", element=\"9E340076E16B0B12E9EB60FAF1C429D4_element_47606\")>\n",
      "Debugging - src content: https://taas.koroad.or.kr/gis36/TAAS/wms?LAYERS=GNRL_GIS_ACDNT_INFO_NON&STYLES=&FORMAT=image/png&TRANSPARENT=TRUE&TILED=false&TILESORIGIN=-30000,-60000&PROJECTION=EPSG:5179&DISPLAYPROJECTION=EPSG:5181&TRANSFORM=EPSG:5181&SERVICE=WMS&VERSION=1.1.1&REQUEST=GetMap&CQL_FILTER=(engn_code='00') and (acdnt_year between '2022' and '2022')  and (legaldong_code ilike '4146%') and (( acdnt_gae_code = '01') or ( acdnt_gae_code = '02') or ( acdnt_gae_code = '03') or ( acdnt_gae_code = '04')) and (( road_type = '6'))&SRS=EPSG:5181&BBOX=174296.22775027,385729.41249418,276568.22775027,445569.41249418&WIDTH=1598&HEIGHT=935\n",
      "src_split : ['https://taas.koroad.or.kr/gis36/TAAS/wms?LAYERS=GNRL_GIS_ACDNT_INFO_NON', 'STYLES=', 'FORMAT=image/png', 'TRANSPARENT=TRUE', 'TILED=false', 'TILESORIGIN=-30000,-60000', 'PROJECTION=EPSG:5179', 'DISPLAYPROJECTION=EPSG:5181', 'TRANSFORM=EPSG:5181', 'SERVICE=WMS', 'VERSION=1.1.1', 'REQUEST=GetMap', \"CQL_FILTER=(engn_code='00') and (acdnt_year between '2022' and '2022')  and (legaldong_code ilike '4146%') and (( acdnt_gae_code = '01') or ( acdnt_gae_code = '02') or ( acdnt_gae_code = '03') or ( acdnt_gae_code = '04')) and (( road_type = '6'))\", 'SRS=EPSG:5181', 'BBOX=174296.22775027,385729.41249418,276568.22775027,445569.41249418', 'WIDTH=1598', 'HEIGHT=935']\n",
      "Debugging - src_split:\n",
      "https://taas.koroad.or.kr/gis36/TAAS/wms?LAYERS=GNRL_GIS_ACDNT_INFO_NON\n",
      "STYLES=\n",
      "FORMAT=image/png\n",
      "TRANSPARENT=TRUE\n",
      "TILED=false\n",
      "TILESORIGIN=-30000,-60000\n",
      "PROJECTION=EPSG:5179\n",
      "DISPLAYPROJECTION=EPSG:5181\n",
      "TRANSFORM=EPSG:5181\n",
      "SERVICE=WMS\n",
      "VERSION=1.1.1\n",
      "REQUEST=GetMap\n",
      "CQL_FILTER=(engn_code='00') and (acdnt_year between '2022' and '2022')  and (legaldong_code ilike '4146%') and (( acdnt_gae_code = '01') or ( acdnt_gae_code = '02') or ( acdnt_gae_code = '03') or ( acdnt_gae_code = '04')) and (( road_type = '6'))\n",
      "SRS=EPSG:5181\n",
      "BBOX=174296.22775027,385729.41249418,276568.22775027,445569.41249418\n",
      "WIDTH=1598\n",
      "HEIGHT=935\n",
      "bbox_text : 174296.22775027,385729.41249418,276568.22775027,445569.41249418\n"
     ]
    },
    {
     "name": "stderr",
     "output_type": "stream",
     "text": [
      "  0%|          | 97/33698 [01:40<9:39:40,  1.04s/it]"
     ]
    },
    {
     "name": "stdout",
     "output_type": "stream",
     "text": [
      "Debugging - src content: <selenium.webdriver.remote.webelement.WebElement (session=\"5b06b3d12ca3a76e5c613afa896de233\", element=\"9E340076E16B0B12E9EB60FAF1C429D4_element_48063\")>\n",
      "Debugging - src content: https://taas.koroad.or.kr/gis36/TAAS/wms?LAYERS=GNRL_GIS_ACDNT_INFO_NON&STYLES=&FORMAT=image/png&TRANSPARENT=TRUE&TILED=false&TILESORIGIN=-30000,-60000&PROJECTION=EPSG:5179&DISPLAYPROJECTION=EPSG:5181&TRANSFORM=EPSG:5181&SERVICE=WMS&VERSION=1.1.1&REQUEST=GetMap&CQL_FILTER=(engn_code='00') and (acdnt_year between '2022' and '2022')  and (legaldong_code ilike '4146%') and (( acdnt_gae_code = '01') or ( acdnt_gae_code = '02') or ( acdnt_gae_code = '03') or ( acdnt_gae_code = '04')) and (( road_type = '6'))&SRS=EPSG:5181&BBOX=154275.31251235,397606.42383177,256547.31251235,457446.42383177&WIDTH=1598&HEIGHT=935\n",
      "src_split : ['https://taas.koroad.or.kr/gis36/TAAS/wms?LAYERS=GNRL_GIS_ACDNT_INFO_NON', 'STYLES=', 'FORMAT=image/png', 'TRANSPARENT=TRUE', 'TILED=false', 'TILESORIGIN=-30000,-60000', 'PROJECTION=EPSG:5179', 'DISPLAYPROJECTION=EPSG:5181', 'TRANSFORM=EPSG:5181', 'SERVICE=WMS', 'VERSION=1.1.1', 'REQUEST=GetMap', \"CQL_FILTER=(engn_code='00') and (acdnt_year between '2022' and '2022')  and (legaldong_code ilike '4146%') and (( acdnt_gae_code = '01') or ( acdnt_gae_code = '02') or ( acdnt_gae_code = '03') or ( acdnt_gae_code = '04')) and (( road_type = '6'))\", 'SRS=EPSG:5181', 'BBOX=154275.31251235,397606.42383177,256547.31251235,457446.42383177', 'WIDTH=1598', 'HEIGHT=935']\n",
      "Debugging - src_split:\n",
      "https://taas.koroad.or.kr/gis36/TAAS/wms?LAYERS=GNRL_GIS_ACDNT_INFO_NON\n",
      "STYLES=\n",
      "FORMAT=image/png\n",
      "TRANSPARENT=TRUE\n",
      "TILED=false\n",
      "TILESORIGIN=-30000,-60000\n",
      "PROJECTION=EPSG:5179\n",
      "DISPLAYPROJECTION=EPSG:5181\n",
      "TRANSFORM=EPSG:5181\n",
      "SERVICE=WMS\n",
      "VERSION=1.1.1\n",
      "REQUEST=GetMap\n",
      "CQL_FILTER=(engn_code='00') and (acdnt_year between '2022' and '2022')  and (legaldong_code ilike '4146%') and (( acdnt_gae_code = '01') or ( acdnt_gae_code = '02') or ( acdnt_gae_code = '03') or ( acdnt_gae_code = '04')) and (( road_type = '6'))\n",
      "SRS=EPSG:5181\n",
      "BBOX=154275.31251235,397606.42383177,256547.31251235,457446.42383177\n",
      "WIDTH=1598\n",
      "HEIGHT=935\n",
      "bbox_text : 154275.31251235,397606.42383177,256547.31251235,457446.42383177\n"
     ]
    },
    {
     "name": "stderr",
     "output_type": "stream",
     "text": [
      "  0%|          | 98/33698 [01:41<9:38:39,  1.03s/it]"
     ]
    },
    {
     "name": "stdout",
     "output_type": "stream",
     "text": [
      "Debugging - src content: <selenium.webdriver.remote.webelement.WebElement (session=\"5b06b3d12ca3a76e5c613afa896de233\", element=\"9E340076E16B0B12E9EB60FAF1C429D4_element_48503\")>\n",
      "Debugging - src content: https://taas.koroad.or.kr/gis36/TAAS/wms?LAYERS=GNRL_GIS_ACDNT_INFO_NON&STYLES=&FORMAT=image/png&TRANSPARENT=TRUE&TILED=false&TILESORIGIN=-30000,-60000&PROJECTION=EPSG:5179&DISPLAYPROJECTION=EPSG:5181&TRANSFORM=EPSG:5181&SERVICE=WMS&VERSION=1.1.1&REQUEST=GetMap&CQL_FILTER=(engn_code='00') and (acdnt_year between '2022' and '2022')  and (legaldong_code ilike '4146%') and (( acdnt_gae_code = '01') or ( acdnt_gae_code = '02') or ( acdnt_gae_code = '03') or ( acdnt_gae_code = '04')) and (( road_type = '6'))&SRS=EPSG:5181&BBOX=158067.13568872,389225.13870362,260339.13568872,449065.13870362&WIDTH=1598&HEIGHT=935\n",
      "src_split : ['https://taas.koroad.or.kr/gis36/TAAS/wms?LAYERS=GNRL_GIS_ACDNT_INFO_NON', 'STYLES=', 'FORMAT=image/png', 'TRANSPARENT=TRUE', 'TILED=false', 'TILESORIGIN=-30000,-60000', 'PROJECTION=EPSG:5179', 'DISPLAYPROJECTION=EPSG:5181', 'TRANSFORM=EPSG:5181', 'SERVICE=WMS', 'VERSION=1.1.1', 'REQUEST=GetMap', \"CQL_FILTER=(engn_code='00') and (acdnt_year between '2022' and '2022')  and (legaldong_code ilike '4146%') and (( acdnt_gae_code = '01') or ( acdnt_gae_code = '02') or ( acdnt_gae_code = '03') or ( acdnt_gae_code = '04')) and (( road_type = '6'))\", 'SRS=EPSG:5181', 'BBOX=158067.13568872,389225.13870362,260339.13568872,449065.13870362', 'WIDTH=1598', 'HEIGHT=935']\n",
      "Debugging - src_split:\n",
      "https://taas.koroad.or.kr/gis36/TAAS/wms?LAYERS=GNRL_GIS_ACDNT_INFO_NON\n",
      "STYLES=\n",
      "FORMAT=image/png\n",
      "TRANSPARENT=TRUE\n",
      "TILED=false\n",
      "TILESORIGIN=-30000,-60000\n",
      "PROJECTION=EPSG:5179\n",
      "DISPLAYPROJECTION=EPSG:5181\n",
      "TRANSFORM=EPSG:5181\n",
      "SERVICE=WMS\n",
      "VERSION=1.1.1\n",
      "REQUEST=GetMap\n",
      "CQL_FILTER=(engn_code='00') and (acdnt_year between '2022' and '2022')  and (legaldong_code ilike '4146%') and (( acdnt_gae_code = '01') or ( acdnt_gae_code = '02') or ( acdnt_gae_code = '03') or ( acdnt_gae_code = '04')) and (( road_type = '6'))\n",
      "SRS=EPSG:5181\n",
      "BBOX=158067.13568872,389225.13870362,260339.13568872,449065.13870362\n",
      "WIDTH=1598\n",
      "HEIGHT=935\n",
      "bbox_text : 158067.13568872,389225.13870362,260339.13568872,449065.13870362\n"
     ]
    },
    {
     "name": "stderr",
     "output_type": "stream",
     "text": [
      "  0%|          | 99/33698 [01:42<9:38:26,  1.03s/it]"
     ]
    },
    {
     "name": "stdout",
     "output_type": "stream",
     "text": [
      "Debugging - src content: <selenium.webdriver.remote.webelement.WebElement (session=\"5b06b3d12ca3a76e5c613afa896de233\", element=\"9E340076E16B0B12E9EB60FAF1C429D4_element_48960\")>\n",
      "Debugging - src content: https://taas.koroad.or.kr/gis36/TAAS/wms?LAYERS=GNRL_GIS_ACDNT_INFO_NON&STYLES=&FORMAT=image/png&TRANSPARENT=TRUE&TILED=false&TILESORIGIN=-30000,-60000&PROJECTION=EPSG:5179&DISPLAYPROJECTION=EPSG:5181&TRANSFORM=EPSG:5181&SERVICE=WMS&VERSION=1.1.1&REQUEST=GetMap&CQL_FILTER=(engn_code='00') and (acdnt_year between '2022' and '2022')  and (legaldong_code ilike '4146%') and (( acdnt_gae_code = '01') or ( acdnt_gae_code = '02') or ( acdnt_gae_code = '03') or ( acdnt_gae_code = '04')) and (( road_type = '6'))&SRS=EPSG:5181&BBOX=173982.20767227,385897.82509686,276254.20767227,445737.82509686&WIDTH=1598&HEIGHT=935\n",
      "src_split : ['https://taas.koroad.or.kr/gis36/TAAS/wms?LAYERS=GNRL_GIS_ACDNT_INFO_NON', 'STYLES=', 'FORMAT=image/png', 'TRANSPARENT=TRUE', 'TILED=false', 'TILESORIGIN=-30000,-60000', 'PROJECTION=EPSG:5179', 'DISPLAYPROJECTION=EPSG:5181', 'TRANSFORM=EPSG:5181', 'SERVICE=WMS', 'VERSION=1.1.1', 'REQUEST=GetMap', \"CQL_FILTER=(engn_code='00') and (acdnt_year between '2022' and '2022')  and (legaldong_code ilike '4146%') and (( acdnt_gae_code = '01') or ( acdnt_gae_code = '02') or ( acdnt_gae_code = '03') or ( acdnt_gae_code = '04')) and (( road_type = '6'))\", 'SRS=EPSG:5181', 'BBOX=173982.20767227,385897.82509686,276254.20767227,445737.82509686', 'WIDTH=1598', 'HEIGHT=935']\n",
      "Debugging - src_split:\n",
      "https://taas.koroad.or.kr/gis36/TAAS/wms?LAYERS=GNRL_GIS_ACDNT_INFO_NON\n",
      "STYLES=\n",
      "FORMAT=image/png\n",
      "TRANSPARENT=TRUE\n",
      "TILED=false\n",
      "TILESORIGIN=-30000,-60000\n",
      "PROJECTION=EPSG:5179\n",
      "DISPLAYPROJECTION=EPSG:5181\n",
      "TRANSFORM=EPSG:5181\n",
      "SERVICE=WMS\n",
      "VERSION=1.1.1\n",
      "REQUEST=GetMap\n",
      "CQL_FILTER=(engn_code='00') and (acdnt_year between '2022' and '2022')  and (legaldong_code ilike '4146%') and (( acdnt_gae_code = '01') or ( acdnt_gae_code = '02') or ( acdnt_gae_code = '03') or ( acdnt_gae_code = '04')) and (( road_type = '6'))\n",
      "SRS=EPSG:5181\n",
      "BBOX=173982.20767227,385897.82509686,276254.20767227,445737.82509686\n",
      "WIDTH=1598\n",
      "HEIGHT=935\n",
      "bbox_text : 173982.20767227,385897.82509686,276254.20767227,445737.82509686\n"
     ]
    },
    {
     "name": "stderr",
     "output_type": "stream",
     "text": [
      "  0%|          | 100/33698 [01:43<9:39:17,  1.03s/it]"
     ]
    },
    {
     "name": "stdout",
     "output_type": "stream",
     "text": [
      "Debugging - src content: <selenium.webdriver.remote.webelement.WebElement (session=\"5b06b3d12ca3a76e5c613afa896de233\", element=\"9E340076E16B0B12E9EB60FAF1C429D4_element_49417\")>\n",
      "Debugging - src content: https://taas.koroad.or.kr/gis36/TAAS/wms?LAYERS=GNRL_GIS_ACDNT_INFO_NON&STYLES=&FORMAT=image/png&TRANSPARENT=TRUE&TILED=false&TILESORIGIN=-30000,-60000&PROJECTION=EPSG:5179&DISPLAYPROJECTION=EPSG:5181&TRANSFORM=EPSG:5181&SERVICE=WMS&VERSION=1.1.1&REQUEST=GetMap&CQL_FILTER=(engn_code='00') and (acdnt_year between '2022' and '2022')  and (legaldong_code ilike '4146%') and (( acdnt_gae_code = '01') or ( acdnt_gae_code = '02') or ( acdnt_gae_code = '03') or ( acdnt_gae_code = '04')) and (( road_type = '6'))&SRS=EPSG:5181&BBOX=154457.64626573,398501.74323997,256729.64626573,458341.74323997&WIDTH=1598&HEIGHT=935\n",
      "src_split : ['https://taas.koroad.or.kr/gis36/TAAS/wms?LAYERS=GNRL_GIS_ACDNT_INFO_NON', 'STYLES=', 'FORMAT=image/png', 'TRANSPARENT=TRUE', 'TILED=false', 'TILESORIGIN=-30000,-60000', 'PROJECTION=EPSG:5179', 'DISPLAYPROJECTION=EPSG:5181', 'TRANSFORM=EPSG:5181', 'SERVICE=WMS', 'VERSION=1.1.1', 'REQUEST=GetMap', \"CQL_FILTER=(engn_code='00') and (acdnt_year between '2022' and '2022')  and (legaldong_code ilike '4146%') and (( acdnt_gae_code = '01') or ( acdnt_gae_code = '02') or ( acdnt_gae_code = '03') or ( acdnt_gae_code = '04')) and (( road_type = '6'))\", 'SRS=EPSG:5181', 'BBOX=154457.64626573,398501.74323997,256729.64626573,458341.74323997', 'WIDTH=1598', 'HEIGHT=935']\n",
      "Debugging - src_split:\n",
      "https://taas.koroad.or.kr/gis36/TAAS/wms?LAYERS=GNRL_GIS_ACDNT_INFO_NON\n",
      "STYLES=\n",
      "FORMAT=image/png\n",
      "TRANSPARENT=TRUE\n",
      "TILED=false\n",
      "TILESORIGIN=-30000,-60000\n",
      "PROJECTION=EPSG:5179\n",
      "DISPLAYPROJECTION=EPSG:5181\n",
      "TRANSFORM=EPSG:5181\n",
      "SERVICE=WMS\n",
      "VERSION=1.1.1\n",
      "REQUEST=GetMap\n",
      "CQL_FILTER=(engn_code='00') and (acdnt_year between '2022' and '2022')  and (legaldong_code ilike '4146%') and (( acdnt_gae_code = '01') or ( acdnt_gae_code = '02') or ( acdnt_gae_code = '03') or ( acdnt_gae_code = '04')) and (( road_type = '6'))\n",
      "SRS=EPSG:5181\n",
      "BBOX=154457.64626573,398501.74323997,256729.64626573,458341.74323997\n",
      "WIDTH=1598\n",
      "HEIGHT=935\n",
      "bbox_text : 154457.64626573,398501.74323997,256729.64626573,458341.74323997\n"
     ]
    },
    {
     "name": "stderr",
     "output_type": "stream",
     "text": [
      "  0%|          | 101/33698 [01:44<9:39:33,  1.04s/it]"
     ]
    },
    {
     "name": "stdout",
     "output_type": "stream",
     "text": [
      "Debugging - src content: <selenium.webdriver.remote.webelement.WebElement (session=\"5b06b3d12ca3a76e5c613afa896de233\", element=\"9E340076E16B0B12E9EB60FAF1C429D4_element_49874\")>\n",
      "Debugging - src content: https://taas.koroad.or.kr/gis36/TAAS/wms?LAYERS=GNRL_GIS_ACDNT_INFO_NON&STYLES=&FORMAT=image/png&TRANSPARENT=TRUE&TILED=false&TILESORIGIN=-30000,-60000&PROJECTION=EPSG:5179&DISPLAYPROJECTION=EPSG:5181&TRANSFORM=EPSG:5181&SERVICE=WMS&VERSION=1.1.1&REQUEST=GetMap&CQL_FILTER=(engn_code='00') and (acdnt_year between '2022' and '2022')  and (legaldong_code ilike '4146%') and (( acdnt_gae_code = '01') or ( acdnt_gae_code = '02') or ( acdnt_gae_code = '03') or ( acdnt_gae_code = '04')) and (( road_type = '6'))&SRS=EPSG:5181&BBOX=173644.42665325,386019.09249623,275916.42665325,445859.09249623&WIDTH=1598&HEIGHT=935\n",
      "src_split : ['https://taas.koroad.or.kr/gis36/TAAS/wms?LAYERS=GNRL_GIS_ACDNT_INFO_NON', 'STYLES=', 'FORMAT=image/png', 'TRANSPARENT=TRUE', 'TILED=false', 'TILESORIGIN=-30000,-60000', 'PROJECTION=EPSG:5179', 'DISPLAYPROJECTION=EPSG:5181', 'TRANSFORM=EPSG:5181', 'SERVICE=WMS', 'VERSION=1.1.1', 'REQUEST=GetMap', \"CQL_FILTER=(engn_code='00') and (acdnt_year between '2022' and '2022')  and (legaldong_code ilike '4146%') and (( acdnt_gae_code = '01') or ( acdnt_gae_code = '02') or ( acdnt_gae_code = '03') or ( acdnt_gae_code = '04')) and (( road_type = '6'))\", 'SRS=EPSG:5181', 'BBOX=173644.42665325,386019.09249623,275916.42665325,445859.09249623', 'WIDTH=1598', 'HEIGHT=935']\n",
      "Debugging - src_split:\n",
      "https://taas.koroad.or.kr/gis36/TAAS/wms?LAYERS=GNRL_GIS_ACDNT_INFO_NON\n",
      "STYLES=\n",
      "FORMAT=image/png\n",
      "TRANSPARENT=TRUE\n",
      "TILED=false\n",
      "TILESORIGIN=-30000,-60000\n",
      "PROJECTION=EPSG:5179\n",
      "DISPLAYPROJECTION=EPSG:5181\n",
      "TRANSFORM=EPSG:5181\n",
      "SERVICE=WMS\n",
      "VERSION=1.1.1\n",
      "REQUEST=GetMap\n",
      "CQL_FILTER=(engn_code='00') and (acdnt_year between '2022' and '2022')  and (legaldong_code ilike '4146%') and (( acdnt_gae_code = '01') or ( acdnt_gae_code = '02') or ( acdnt_gae_code = '03') or ( acdnt_gae_code = '04')) and (( road_type = '6'))\n",
      "SRS=EPSG:5181\n",
      "BBOX=173644.42665325,386019.09249623,275916.42665325,445859.09249623\n",
      "WIDTH=1598\n",
      "HEIGHT=935\n",
      "bbox_text : 173644.42665325,386019.09249623,275916.42665325,445859.09249623\n"
     ]
    },
    {
     "name": "stderr",
     "output_type": "stream",
     "text": [
      "  0%|          | 102/33698 [01:45<9:39:26,  1.03s/it]"
     ]
    },
    {
     "name": "stdout",
     "output_type": "stream",
     "text": [
      "Debugging - src content: <selenium.webdriver.remote.webelement.WebElement (session=\"5b06b3d12ca3a76e5c613afa896de233\", element=\"9E340076E16B0B12E9EB60FAF1C429D4_element_50314\")>\n",
      "Debugging - src content: https://taas.koroad.or.kr/gis36/TAAS/wms?LAYERS=GNRL_GIS_ACDNT_INFO_NON&STYLES=&FORMAT=image/png&TRANSPARENT=TRUE&TILED=false&TILESORIGIN=-30000,-60000&PROJECTION=EPSG:5179&DISPLAYPROJECTION=EPSG:5181&TRANSFORM=EPSG:5181&SERVICE=WMS&VERSION=1.1.1&REQUEST=GetMap&CQL_FILTER=(engn_code='00') and (acdnt_year between '2022' and '2022')  and (legaldong_code ilike '4146%') and (( acdnt_gae_code = '01') or ( acdnt_gae_code = '02') or ( acdnt_gae_code = '03') or ( acdnt_gae_code = '04')) and (( road_type = '6'))&SRS=EPSG:5181&BBOX=167023.24071363,387808.87127051,269295.24071363,447648.87127051&WIDTH=1598&HEIGHT=935\n",
      "src_split : ['https://taas.koroad.or.kr/gis36/TAAS/wms?LAYERS=GNRL_GIS_ACDNT_INFO_NON', 'STYLES=', 'FORMAT=image/png', 'TRANSPARENT=TRUE', 'TILED=false', 'TILESORIGIN=-30000,-60000', 'PROJECTION=EPSG:5179', 'DISPLAYPROJECTION=EPSG:5181', 'TRANSFORM=EPSG:5181', 'SERVICE=WMS', 'VERSION=1.1.1', 'REQUEST=GetMap', \"CQL_FILTER=(engn_code='00') and (acdnt_year between '2022' and '2022')  and (legaldong_code ilike '4146%') and (( acdnt_gae_code = '01') or ( acdnt_gae_code = '02') or ( acdnt_gae_code = '03') or ( acdnt_gae_code = '04')) and (( road_type = '6'))\", 'SRS=EPSG:5181', 'BBOX=167023.24071363,387808.87127051,269295.24071363,447648.87127051', 'WIDTH=1598', 'HEIGHT=935']\n",
      "Debugging - src_split:\n",
      "https://taas.koroad.or.kr/gis36/TAAS/wms?LAYERS=GNRL_GIS_ACDNT_INFO_NON\n",
      "STYLES=\n",
      "FORMAT=image/png\n",
      "TRANSPARENT=TRUE\n",
      "TILED=false\n",
      "TILESORIGIN=-30000,-60000\n",
      "PROJECTION=EPSG:5179\n",
      "DISPLAYPROJECTION=EPSG:5181\n",
      "TRANSFORM=EPSG:5181\n",
      "SERVICE=WMS\n",
      "VERSION=1.1.1\n",
      "REQUEST=GetMap\n",
      "CQL_FILTER=(engn_code='00') and (acdnt_year between '2022' and '2022')  and (legaldong_code ilike '4146%') and (( acdnt_gae_code = '01') or ( acdnt_gae_code = '02') or ( acdnt_gae_code = '03') or ( acdnt_gae_code = '04')) and (( road_type = '6'))\n",
      "SRS=EPSG:5181\n",
      "BBOX=167023.24071363,387808.87127051,269295.24071363,447648.87127051\n",
      "WIDTH=1598\n",
      "HEIGHT=935\n",
      "bbox_text : 167023.24071363,387808.87127051,269295.24071363,447648.87127051\n"
     ]
    },
    {
     "name": "stderr",
     "output_type": "stream",
     "text": [
      "  0%|          | 103/33698 [01:46<9:40:07,  1.04s/it]"
     ]
    },
    {
     "name": "stdout",
     "output_type": "stream",
     "text": [
      "Debugging - src content: <selenium.webdriver.remote.webelement.WebElement (session=\"5b06b3d12ca3a76e5c613afa896de233\", element=\"9E340076E16B0B12E9EB60FAF1C429D4_element_50754\")>\n",
      "Debugging - src content: https://taas.koroad.or.kr/gis36/TAAS/wms?LAYERS=GNRL_GIS_ACDNT_INFO_NON&STYLES=&FORMAT=image/png&TRANSPARENT=TRUE&TILED=false&TILESORIGIN=-30000,-60000&PROJECTION=EPSG:5179&DISPLAYPROJECTION=EPSG:5181&TRANSFORM=EPSG:5181&SERVICE=WMS&VERSION=1.1.1&REQUEST=GetMap&CQL_FILTER=(engn_code='00') and (acdnt_year between '2022' and '2022')  and (legaldong_code ilike '4146%') and (( acdnt_gae_code = '01') or ( acdnt_gae_code = '02') or ( acdnt_gae_code = '03') or ( acdnt_gae_code = '04')) and (( road_type = '6'))&SRS=EPSG:5181&BBOX=173747.36634664,386038.64407829,276019.36634664,445878.64407829&WIDTH=1598&HEIGHT=935\n",
      "src_split : ['https://taas.koroad.or.kr/gis36/TAAS/wms?LAYERS=GNRL_GIS_ACDNT_INFO_NON', 'STYLES=', 'FORMAT=image/png', 'TRANSPARENT=TRUE', 'TILED=false', 'TILESORIGIN=-30000,-60000', 'PROJECTION=EPSG:5179', 'DISPLAYPROJECTION=EPSG:5181', 'TRANSFORM=EPSG:5181', 'SERVICE=WMS', 'VERSION=1.1.1', 'REQUEST=GetMap', \"CQL_FILTER=(engn_code='00') and (acdnt_year between '2022' and '2022')  and (legaldong_code ilike '4146%') and (( acdnt_gae_code = '01') or ( acdnt_gae_code = '02') or ( acdnt_gae_code = '03') or ( acdnt_gae_code = '04')) and (( road_type = '6'))\", 'SRS=EPSG:5181', 'BBOX=173747.36634664,386038.64407829,276019.36634664,445878.64407829', 'WIDTH=1598', 'HEIGHT=935']\n",
      "Debugging - src_split:\n",
      "https://taas.koroad.or.kr/gis36/TAAS/wms?LAYERS=GNRL_GIS_ACDNT_INFO_NON\n",
      "STYLES=\n",
      "FORMAT=image/png\n",
      "TRANSPARENT=TRUE\n",
      "TILED=false\n",
      "TILESORIGIN=-30000,-60000\n",
      "PROJECTION=EPSG:5179\n",
      "DISPLAYPROJECTION=EPSG:5181\n",
      "TRANSFORM=EPSG:5181\n",
      "SERVICE=WMS\n",
      "VERSION=1.1.1\n",
      "REQUEST=GetMap\n",
      "CQL_FILTER=(engn_code='00') and (acdnt_year between '2022' and '2022')  and (legaldong_code ilike '4146%') and (( acdnt_gae_code = '01') or ( acdnt_gae_code = '02') or ( acdnt_gae_code = '03') or ( acdnt_gae_code = '04')) and (( road_type = '6'))\n",
      "SRS=EPSG:5181\n",
      "BBOX=173747.36634664,386038.64407829,276019.36634664,445878.64407829\n",
      "WIDTH=1598\n",
      "HEIGHT=935\n",
      "bbox_text : 173747.36634664,386038.64407829,276019.36634664,445878.64407829\n"
     ]
    },
    {
     "name": "stderr",
     "output_type": "stream",
     "text": [
      "  0%|          | 104/33698 [01:47<9:39:58,  1.04s/it]"
     ]
    },
    {
     "name": "stdout",
     "output_type": "stream",
     "text": [
      "Debugging - src content: <selenium.webdriver.remote.webelement.WebElement (session=\"5b06b3d12ca3a76e5c613afa896de233\", element=\"9E340076E16B0B12E9EB60FAF1C429D4_element_51201\")>\n",
      "Debugging - src content: https://taas.koroad.or.kr/gis36/TAAS/wms?LAYERS=GNRL_GIS_ACDNT_INFO_NON&STYLES=&FORMAT=image/png&TRANSPARENT=TRUE&TILED=false&TILESORIGIN=-30000,-60000&PROJECTION=EPSG:5179&DISPLAYPROJECTION=EPSG:5181&TRANSFORM=EPSG:5181&SERVICE=WMS&VERSION=1.1.1&REQUEST=GetMap&CQL_FILTER=(engn_code='00') and (acdnt_year between '2022' and '2022')  and (legaldong_code ilike '4146%') and (( acdnt_gae_code = '01') or ( acdnt_gae_code = '02') or ( acdnt_gae_code = '03') or ( acdnt_gae_code = '04')) and (( road_type = '6'))&SRS=EPSG:5181&BBOX=157989.67907845,384002.64214741,260261.67907845,443842.64214741&WIDTH=1598&HEIGHT=935\n",
      "src_split : ['https://taas.koroad.or.kr/gis36/TAAS/wms?LAYERS=GNRL_GIS_ACDNT_INFO_NON', 'STYLES=', 'FORMAT=image/png', 'TRANSPARENT=TRUE', 'TILED=false', 'TILESORIGIN=-30000,-60000', 'PROJECTION=EPSG:5179', 'DISPLAYPROJECTION=EPSG:5181', 'TRANSFORM=EPSG:5181', 'SERVICE=WMS', 'VERSION=1.1.1', 'REQUEST=GetMap', \"CQL_FILTER=(engn_code='00') and (acdnt_year between '2022' and '2022')  and (legaldong_code ilike '4146%') and (( acdnt_gae_code = '01') or ( acdnt_gae_code = '02') or ( acdnt_gae_code = '03') or ( acdnt_gae_code = '04')) and (( road_type = '6'))\", 'SRS=EPSG:5181', 'BBOX=157989.67907845,384002.64214741,260261.67907845,443842.64214741', 'WIDTH=1598', 'HEIGHT=935']\n",
      "Debugging - src_split:\n",
      "https://taas.koroad.or.kr/gis36/TAAS/wms?LAYERS=GNRL_GIS_ACDNT_INFO_NON\n",
      "STYLES=\n",
      "FORMAT=image/png\n",
      "TRANSPARENT=TRUE\n",
      "TILED=false\n",
      "TILESORIGIN=-30000,-60000\n",
      "PROJECTION=EPSG:5179\n",
      "DISPLAYPROJECTION=EPSG:5181\n",
      "TRANSFORM=EPSG:5181\n",
      "SERVICE=WMS\n",
      "VERSION=1.1.1\n",
      "REQUEST=GetMap\n",
      "CQL_FILTER=(engn_code='00') and (acdnt_year between '2022' and '2022')  and (legaldong_code ilike '4146%') and (( acdnt_gae_code = '01') or ( acdnt_gae_code = '02') or ( acdnt_gae_code = '03') or ( acdnt_gae_code = '04')) and (( road_type = '6'))\n",
      "SRS=EPSG:5181\n",
      "BBOX=157989.67907845,384002.64214741,260261.67907845,443842.64214741\n",
      "WIDTH=1598\n",
      "HEIGHT=935\n",
      "bbox_text : 157989.67907845,384002.64214741,260261.67907845,443842.64214741\n"
     ]
    },
    {
     "name": "stderr",
     "output_type": "stream",
     "text": [
      "  0%|          | 105/33698 [01:48<9:40:27,  1.04s/it]"
     ]
    },
    {
     "name": "stdout",
     "output_type": "stream",
     "text": [
      "Debugging - src content: <selenium.webdriver.remote.webelement.WebElement (session=\"5b06b3d12ca3a76e5c613afa896de233\", element=\"9E340076E16B0B12E9EB60FAF1C429D4_element_51651\")>\n",
      "Debugging - src content: https://taas.koroad.or.kr/gis36/TAAS/wms?LAYERS=GNRL_GIS_ACDNT_INFO_NON&STYLES=&FORMAT=image/png&TRANSPARENT=TRUE&TILED=false&TILESORIGIN=-30000,-60000&PROJECTION=EPSG:5179&DISPLAYPROJECTION=EPSG:5181&TRANSFORM=EPSG:5181&SERVICE=WMS&VERSION=1.1.1&REQUEST=GetMap&CQL_FILTER=(engn_code='00') and (acdnt_year between '2022' and '2022')  and (legaldong_code ilike '4146%') and (( acdnt_gae_code = '01') or ( acdnt_gae_code = '02') or ( acdnt_gae_code = '03') or ( acdnt_gae_code = '04')) and (( road_type = '6'))&SRS=EPSG:5181&BBOX=157835.76720497,388898.78604445,260107.76720497,448738.78604445&WIDTH=1598&HEIGHT=935\n",
      "src_split : ['https://taas.koroad.or.kr/gis36/TAAS/wms?LAYERS=GNRL_GIS_ACDNT_INFO_NON', 'STYLES=', 'FORMAT=image/png', 'TRANSPARENT=TRUE', 'TILED=false', 'TILESORIGIN=-30000,-60000', 'PROJECTION=EPSG:5179', 'DISPLAYPROJECTION=EPSG:5181', 'TRANSFORM=EPSG:5181', 'SERVICE=WMS', 'VERSION=1.1.1', 'REQUEST=GetMap', \"CQL_FILTER=(engn_code='00') and (acdnt_year between '2022' and '2022')  and (legaldong_code ilike '4146%') and (( acdnt_gae_code = '01') or ( acdnt_gae_code = '02') or ( acdnt_gae_code = '03') or ( acdnt_gae_code = '04')) and (( road_type = '6'))\", 'SRS=EPSG:5181', 'BBOX=157835.76720497,388898.78604445,260107.76720497,448738.78604445', 'WIDTH=1598', 'HEIGHT=935']\n",
      "Debugging - src_split:\n",
      "https://taas.koroad.or.kr/gis36/TAAS/wms?LAYERS=GNRL_GIS_ACDNT_INFO_NON\n",
      "STYLES=\n",
      "FORMAT=image/png\n",
      "TRANSPARENT=TRUE\n",
      "TILED=false\n",
      "TILESORIGIN=-30000,-60000\n",
      "PROJECTION=EPSG:5179\n",
      "DISPLAYPROJECTION=EPSG:5181\n",
      "TRANSFORM=EPSG:5181\n",
      "SERVICE=WMS\n",
      "VERSION=1.1.1\n",
      "REQUEST=GetMap\n",
      "CQL_FILTER=(engn_code='00') and (acdnt_year between '2022' and '2022')  and (legaldong_code ilike '4146%') and (( acdnt_gae_code = '01') or ( acdnt_gae_code = '02') or ( acdnt_gae_code = '03') or ( acdnt_gae_code = '04')) and (( road_type = '6'))\n",
      "SRS=EPSG:5181\n",
      "BBOX=157835.76720497,388898.78604445,260107.76720497,448738.78604445\n",
      "WIDTH=1598\n",
      "HEIGHT=935\n",
      "bbox_text : 157835.76720497,388898.78604445,260107.76720497,448738.78604445\n"
     ]
    },
    {
     "name": "stderr",
     "output_type": "stream",
     "text": [
      "  0%|          | 106/33698 [01:49<9:40:02,  1.04s/it]"
     ]
    },
    {
     "name": "stdout",
     "output_type": "stream",
     "text": [
      "Debugging - src content: <selenium.webdriver.remote.webelement.WebElement (session=\"5b06b3d12ca3a76e5c613afa896de233\", element=\"9E340076E16B0B12E9EB60FAF1C429D4_element_52108\")>\n",
      "Debugging - src content: https://taas.koroad.or.kr/gis36/TAAS/wms?LAYERS=GNRL_GIS_ACDNT_INFO_NON&STYLES=&FORMAT=image/png&TRANSPARENT=TRUE&TILED=false&TILESORIGIN=-30000,-60000&PROJECTION=EPSG:5179&DISPLAYPROJECTION=EPSG:5181&TRANSFORM=EPSG:5181&SERVICE=WMS&VERSION=1.1.1&REQUEST=GetMap&CQL_FILTER=(engn_code='00') and (acdnt_year between '2022' and '2022')  and (legaldong_code ilike '4146%') and (( acdnt_gae_code = '01') or ( acdnt_gae_code = '02') or ( acdnt_gae_code = '03') or ( acdnt_gae_code = '04')) and (( road_type = '6'))&SRS=EPSG:5181&BBOX=175135.48789472,385367.69143336,277407.48789472,445207.69143336&WIDTH=1598&HEIGHT=935\n",
      "src_split : ['https://taas.koroad.or.kr/gis36/TAAS/wms?LAYERS=GNRL_GIS_ACDNT_INFO_NON', 'STYLES=', 'FORMAT=image/png', 'TRANSPARENT=TRUE', 'TILED=false', 'TILESORIGIN=-30000,-60000', 'PROJECTION=EPSG:5179', 'DISPLAYPROJECTION=EPSG:5181', 'TRANSFORM=EPSG:5181', 'SERVICE=WMS', 'VERSION=1.1.1', 'REQUEST=GetMap', \"CQL_FILTER=(engn_code='00') and (acdnt_year between '2022' and '2022')  and (legaldong_code ilike '4146%') and (( acdnt_gae_code = '01') or ( acdnt_gae_code = '02') or ( acdnt_gae_code = '03') or ( acdnt_gae_code = '04')) and (( road_type = '6'))\", 'SRS=EPSG:5181', 'BBOX=175135.48789472,385367.69143336,277407.48789472,445207.69143336', 'WIDTH=1598', 'HEIGHT=935']\n",
      "Debugging - src_split:\n",
      "https://taas.koroad.or.kr/gis36/TAAS/wms?LAYERS=GNRL_GIS_ACDNT_INFO_NON\n",
      "STYLES=\n",
      "FORMAT=image/png\n",
      "TRANSPARENT=TRUE\n",
      "TILED=false\n",
      "TILESORIGIN=-30000,-60000\n",
      "PROJECTION=EPSG:5179\n",
      "DISPLAYPROJECTION=EPSG:5181\n",
      "TRANSFORM=EPSG:5181\n",
      "SERVICE=WMS\n",
      "VERSION=1.1.1\n",
      "REQUEST=GetMap\n",
      "CQL_FILTER=(engn_code='00') and (acdnt_year between '2022' and '2022')  and (legaldong_code ilike '4146%') and (( acdnt_gae_code = '01') or ( acdnt_gae_code = '02') or ( acdnt_gae_code = '03') or ( acdnt_gae_code = '04')) and (( road_type = '6'))\n",
      "SRS=EPSG:5181\n",
      "BBOX=175135.48789472,385367.69143336,277407.48789472,445207.69143336\n",
      "WIDTH=1598\n",
      "HEIGHT=935\n",
      "bbox_text : 175135.48789472,385367.69143336,277407.48789472,445207.69143336\n"
     ]
    },
    {
     "name": "stderr",
     "output_type": "stream",
     "text": [
      "  0%|          | 107/33698 [01:50<9:40:27,  1.04s/it]"
     ]
    },
    {
     "name": "stdout",
     "output_type": "stream",
     "text": [
      "Debugging - src content: <selenium.webdriver.remote.webelement.WebElement (session=\"5b06b3d12ca3a76e5c613afa896de233\", element=\"9E340076E16B0B12E9EB60FAF1C429D4_element_52565\")>\n",
      "Debugging - src content: https://taas.koroad.or.kr/gis36/TAAS/wms?LAYERS=GNRL_GIS_ACDNT_INFO_NON&STYLES=&FORMAT=image/png&TRANSPARENT=TRUE&TILED=false&TILESORIGIN=-30000,-60000&PROJECTION=EPSG:5179&DISPLAYPROJECTION=EPSG:5181&TRANSFORM=EPSG:5181&SERVICE=WMS&VERSION=1.1.1&REQUEST=GetMap&CQL_FILTER=(engn_code='00') and (acdnt_year between '2022' and '2022')  and (legaldong_code ilike '4146%') and (( acdnt_gae_code = '01') or ( acdnt_gae_code = '02') or ( acdnt_gae_code = '03') or ( acdnt_gae_code = '04')) and (( road_type = '6'))&SRS=EPSG:5181&BBOX=159048.18328197,371274.12695663,261320.18328197,431114.12695663&WIDTH=1598&HEIGHT=935\n",
      "src_split : ['https://taas.koroad.or.kr/gis36/TAAS/wms?LAYERS=GNRL_GIS_ACDNT_INFO_NON', 'STYLES=', 'FORMAT=image/png', 'TRANSPARENT=TRUE', 'TILED=false', 'TILESORIGIN=-30000,-60000', 'PROJECTION=EPSG:5179', 'DISPLAYPROJECTION=EPSG:5181', 'TRANSFORM=EPSG:5181', 'SERVICE=WMS', 'VERSION=1.1.1', 'REQUEST=GetMap', \"CQL_FILTER=(engn_code='00') and (acdnt_year between '2022' and '2022')  and (legaldong_code ilike '4146%') and (( acdnt_gae_code = '01') or ( acdnt_gae_code = '02') or ( acdnt_gae_code = '03') or ( acdnt_gae_code = '04')) and (( road_type = '6'))\", 'SRS=EPSG:5181', 'BBOX=159048.18328197,371274.12695663,261320.18328197,431114.12695663', 'WIDTH=1598', 'HEIGHT=935']\n",
      "Debugging - src_split:\n",
      "https://taas.koroad.or.kr/gis36/TAAS/wms?LAYERS=GNRL_GIS_ACDNT_INFO_NON\n",
      "STYLES=\n",
      "FORMAT=image/png\n",
      "TRANSPARENT=TRUE\n",
      "TILED=false\n",
      "TILESORIGIN=-30000,-60000\n",
      "PROJECTION=EPSG:5179\n",
      "DISPLAYPROJECTION=EPSG:5181\n",
      "TRANSFORM=EPSG:5181\n",
      "SERVICE=WMS\n",
      "VERSION=1.1.1\n",
      "REQUEST=GetMap\n",
      "CQL_FILTER=(engn_code='00') and (acdnt_year between '2022' and '2022')  and (legaldong_code ilike '4146%') and (( acdnt_gae_code = '01') or ( acdnt_gae_code = '02') or ( acdnt_gae_code = '03') or ( acdnt_gae_code = '04')) and (( road_type = '6'))\n",
      "SRS=EPSG:5181\n",
      "BBOX=159048.18328197,371274.12695663,261320.18328197,431114.12695663\n",
      "WIDTH=1598\n",
      "HEIGHT=935\n",
      "bbox_text : 159048.18328197,371274.12695663,261320.18328197,431114.12695663\n"
     ]
    },
    {
     "name": "stderr",
     "output_type": "stream",
     "text": [
      "  0%|          | 108/33698 [01:51<9:40:13,  1.04s/it]"
     ]
    },
    {
     "name": "stdout",
     "output_type": "stream",
     "text": [
      "Debugging - src content: <selenium.webdriver.remote.webelement.WebElement (session=\"5b06b3d12ca3a76e5c613afa896de233\", element=\"9E340076E16B0B12E9EB60FAF1C429D4_element_53015\")>\n",
      "Debugging - src content: https://taas.koroad.or.kr/gis36/TAAS/wms?LAYERS=GNRL_GIS_ACDNT_INFO_NON&STYLES=&FORMAT=image/png&TRANSPARENT=TRUE&TILED=false&TILESORIGIN=-30000,-60000&PROJECTION=EPSG:5179&DISPLAYPROJECTION=EPSG:5181&TRANSFORM=EPSG:5181&SERVICE=WMS&VERSION=1.1.1&REQUEST=GetMap&CQL_FILTER=(engn_code='00') and (acdnt_year between '2022' and '2022')  and (legaldong_code ilike '4146%') and (( acdnt_gae_code = '01') or ( acdnt_gae_code = '02') or ( acdnt_gae_code = '03') or ( acdnt_gae_code = '04')) and (( road_type = '6'))&SRS=EPSG:5181&BBOX=157674.43363352,383456.76059762,259946.43363352,443296.76059762&WIDTH=1598&HEIGHT=935\n",
      "src_split : ['https://taas.koroad.or.kr/gis36/TAAS/wms?LAYERS=GNRL_GIS_ACDNT_INFO_NON', 'STYLES=', 'FORMAT=image/png', 'TRANSPARENT=TRUE', 'TILED=false', 'TILESORIGIN=-30000,-60000', 'PROJECTION=EPSG:5179', 'DISPLAYPROJECTION=EPSG:5181', 'TRANSFORM=EPSG:5181', 'SERVICE=WMS', 'VERSION=1.1.1', 'REQUEST=GetMap', \"CQL_FILTER=(engn_code='00') and (acdnt_year between '2022' and '2022')  and (legaldong_code ilike '4146%') and (( acdnt_gae_code = '01') or ( acdnt_gae_code = '02') or ( acdnt_gae_code = '03') or ( acdnt_gae_code = '04')) and (( road_type = '6'))\", 'SRS=EPSG:5181', 'BBOX=157674.43363352,383456.76059762,259946.43363352,443296.76059762', 'WIDTH=1598', 'HEIGHT=935']\n",
      "Debugging - src_split:\n",
      "https://taas.koroad.or.kr/gis36/TAAS/wms?LAYERS=GNRL_GIS_ACDNT_INFO_NON\n",
      "STYLES=\n",
      "FORMAT=image/png\n",
      "TRANSPARENT=TRUE\n",
      "TILED=false\n",
      "TILESORIGIN=-30000,-60000\n",
      "PROJECTION=EPSG:5179\n",
      "DISPLAYPROJECTION=EPSG:5181\n",
      "TRANSFORM=EPSG:5181\n",
      "SERVICE=WMS\n",
      "VERSION=1.1.1\n",
      "REQUEST=GetMap\n",
      "CQL_FILTER=(engn_code='00') and (acdnt_year between '2022' and '2022')  and (legaldong_code ilike '4146%') and (( acdnt_gae_code = '01') or ( acdnt_gae_code = '02') or ( acdnt_gae_code = '03') or ( acdnt_gae_code = '04')) and (( road_type = '6'))\n",
      "SRS=EPSG:5181\n",
      "BBOX=157674.43363352,383456.76059762,259946.43363352,443296.76059762\n",
      "WIDTH=1598\n",
      "HEIGHT=935\n",
      "bbox_text : 157674.43363352,383456.76059762,259946.43363352,443296.76059762\n"
     ]
    },
    {
     "name": "stderr",
     "output_type": "stream",
     "text": [
      "  0%|          | 109/33698 [01:52<9:40:13,  1.04s/it]"
     ]
    },
    {
     "name": "stdout",
     "output_type": "stream",
     "text": [
      "Debugging - src content: <selenium.webdriver.remote.webelement.WebElement (session=\"5b06b3d12ca3a76e5c613afa896de233\", element=\"9E340076E16B0B12E9EB60FAF1C429D4_element_53465\")>\n",
      "Debugging - src content: https://taas.koroad.or.kr/gis36/TAAS/wms?LAYERS=GNRL_GIS_ACDNT_INFO_NON&STYLES=&FORMAT=image/png&TRANSPARENT=TRUE&TILED=false&TILESORIGIN=-30000,-60000&PROJECTION=EPSG:5179&DISPLAYPROJECTION=EPSG:5181&TRANSFORM=EPSG:5181&SERVICE=WMS&VERSION=1.1.1&REQUEST=GetMap&CQL_FILTER=(engn_code='00') and (acdnt_year between '2022' and '2022')  and (legaldong_code ilike '4146%') and (( acdnt_gae_code = '01') or ( acdnt_gae_code = '02') or ( acdnt_gae_code = '03') or ( acdnt_gae_code = '04')) and (( road_type = '6'))&SRS=EPSG:5181&BBOX=156221.08671711,391555.31337364,258493.08671711,451395.31337364&WIDTH=1598&HEIGHT=935\n",
      "src_split : ['https://taas.koroad.or.kr/gis36/TAAS/wms?LAYERS=GNRL_GIS_ACDNT_INFO_NON', 'STYLES=', 'FORMAT=image/png', 'TRANSPARENT=TRUE', 'TILED=false', 'TILESORIGIN=-30000,-60000', 'PROJECTION=EPSG:5179', 'DISPLAYPROJECTION=EPSG:5181', 'TRANSFORM=EPSG:5181', 'SERVICE=WMS', 'VERSION=1.1.1', 'REQUEST=GetMap', \"CQL_FILTER=(engn_code='00') and (acdnt_year between '2022' and '2022')  and (legaldong_code ilike '4146%') and (( acdnt_gae_code = '01') or ( acdnt_gae_code = '02') or ( acdnt_gae_code = '03') or ( acdnt_gae_code = '04')) and (( road_type = '6'))\", 'SRS=EPSG:5181', 'BBOX=156221.08671711,391555.31337364,258493.08671711,451395.31337364', 'WIDTH=1598', 'HEIGHT=935']\n",
      "Debugging - src_split:\n",
      "https://taas.koroad.or.kr/gis36/TAAS/wms?LAYERS=GNRL_GIS_ACDNT_INFO_NON\n",
      "STYLES=\n",
      "FORMAT=image/png\n",
      "TRANSPARENT=TRUE\n",
      "TILED=false\n",
      "TILESORIGIN=-30000,-60000\n",
      "PROJECTION=EPSG:5179\n",
      "DISPLAYPROJECTION=EPSG:5181\n",
      "TRANSFORM=EPSG:5181\n",
      "SERVICE=WMS\n",
      "VERSION=1.1.1\n",
      "REQUEST=GetMap\n",
      "CQL_FILTER=(engn_code='00') and (acdnt_year between '2022' and '2022')  and (legaldong_code ilike '4146%') and (( acdnt_gae_code = '01') or ( acdnt_gae_code = '02') or ( acdnt_gae_code = '03') or ( acdnt_gae_code = '04')) and (( road_type = '6'))\n",
      "SRS=EPSG:5181\n",
      "BBOX=156221.08671711,391555.31337364,258493.08671711,451395.31337364\n",
      "WIDTH=1598\n",
      "HEIGHT=935\n",
      "bbox_text : 156221.08671711,391555.31337364,258493.08671711,451395.31337364\n"
     ]
    },
    {
     "name": "stderr",
     "output_type": "stream",
     "text": [
      "  0%|          | 110/33698 [01:53<9:39:35,  1.04s/it]"
     ]
    },
    {
     "name": "stdout",
     "output_type": "stream",
     "text": [
      "Debugging - src content: <selenium.webdriver.remote.webelement.WebElement (session=\"5b06b3d12ca3a76e5c613afa896de233\", element=\"9E340076E16B0B12E9EB60FAF1C429D4_element_53905\")>\n",
      "Debugging - src content: https://taas.koroad.or.kr/gis36/TAAS/wms?LAYERS=GNRL_GIS_ACDNT_INFO_NON&STYLES=&FORMAT=image/png&TRANSPARENT=TRUE&TILED=false&TILESORIGIN=-30000,-60000&PROJECTION=EPSG:5179&DISPLAYPROJECTION=EPSG:5181&TRANSFORM=EPSG:5181&SERVICE=WMS&VERSION=1.1.1&REQUEST=GetMap&CQL_FILTER=(engn_code='00') and (acdnt_year between '2022' and '2022')  and (legaldong_code ilike '4146%') and (( acdnt_gae_code = '01') or ( acdnt_gae_code = '02') or ( acdnt_gae_code = '03') or ( acdnt_gae_code = '04')) and (( road_type = '6'))&SRS=EPSG:5181&BBOX=158046.61879002,391024.74977855,260318.61879002,450864.74977855&WIDTH=1598&HEIGHT=935\n",
      "src_split : ['https://taas.koroad.or.kr/gis36/TAAS/wms?LAYERS=GNRL_GIS_ACDNT_INFO_NON', 'STYLES=', 'FORMAT=image/png', 'TRANSPARENT=TRUE', 'TILED=false', 'TILESORIGIN=-30000,-60000', 'PROJECTION=EPSG:5179', 'DISPLAYPROJECTION=EPSG:5181', 'TRANSFORM=EPSG:5181', 'SERVICE=WMS', 'VERSION=1.1.1', 'REQUEST=GetMap', \"CQL_FILTER=(engn_code='00') and (acdnt_year between '2022' and '2022')  and (legaldong_code ilike '4146%') and (( acdnt_gae_code = '01') or ( acdnt_gae_code = '02') or ( acdnt_gae_code = '03') or ( acdnt_gae_code = '04')) and (( road_type = '6'))\", 'SRS=EPSG:5181', 'BBOX=158046.61879002,391024.74977855,260318.61879002,450864.74977855', 'WIDTH=1598', 'HEIGHT=935']\n",
      "Debugging - src_split:\n",
      "https://taas.koroad.or.kr/gis36/TAAS/wms?LAYERS=GNRL_GIS_ACDNT_INFO_NON\n",
      "STYLES=\n",
      "FORMAT=image/png\n",
      "TRANSPARENT=TRUE\n",
      "TILED=false\n",
      "TILESORIGIN=-30000,-60000\n",
      "PROJECTION=EPSG:5179\n",
      "DISPLAYPROJECTION=EPSG:5181\n",
      "TRANSFORM=EPSG:5181\n",
      "SERVICE=WMS\n",
      "VERSION=1.1.1\n",
      "REQUEST=GetMap\n",
      "CQL_FILTER=(engn_code='00') and (acdnt_year between '2022' and '2022')  and (legaldong_code ilike '4146%') and (( acdnt_gae_code = '01') or ( acdnt_gae_code = '02') or ( acdnt_gae_code = '03') or ( acdnt_gae_code = '04')) and (( road_type = '6'))\n",
      "SRS=EPSG:5181\n",
      "BBOX=158046.61879002,391024.74977855,260318.61879002,450864.74977855\n",
      "WIDTH=1598\n",
      "HEIGHT=935\n",
      "bbox_text : 158046.61879002,391024.74977855,260318.61879002,450864.74977855\n"
     ]
    },
    {
     "name": "stderr",
     "output_type": "stream",
     "text": [
      "  0%|          | 111/33698 [01:54<9:39:51,  1.04s/it]"
     ]
    },
    {
     "name": "stdout",
     "output_type": "stream",
     "text": [
      "Debugging - src content: <selenium.webdriver.remote.webelement.WebElement (session=\"5b06b3d12ca3a76e5c613afa896de233\", element=\"9E340076E16B0B12E9EB60FAF1C429D4_element_54355\")>\n",
      "Debugging - src content: https://taas.koroad.or.kr/gis36/TAAS/wms?LAYERS=GNRL_GIS_ACDNT_INFO_NON&STYLES=&FORMAT=image/png&TRANSPARENT=TRUE&TILED=false&TILESORIGIN=-30000,-60000&PROJECTION=EPSG:5179&DISPLAYPROJECTION=EPSG:5181&TRANSFORM=EPSG:5181&SERVICE=WMS&VERSION=1.1.1&REQUEST=GetMap&CQL_FILTER=(engn_code='00') and (acdnt_year between '2022' and '2022')  and (legaldong_code ilike '4146%') and (( acdnt_gae_code = '01') or ( acdnt_gae_code = '02') or ( acdnt_gae_code = '03') or ( acdnt_gae_code = '04')) and (( road_type = '6'))&SRS=EPSG:5181&BBOX=156576.04343887,374152.26119544,258848.04343887,433992.26119544&WIDTH=1598&HEIGHT=935\n",
      "src_split : ['https://taas.koroad.or.kr/gis36/TAAS/wms?LAYERS=GNRL_GIS_ACDNT_INFO_NON', 'STYLES=', 'FORMAT=image/png', 'TRANSPARENT=TRUE', 'TILED=false', 'TILESORIGIN=-30000,-60000', 'PROJECTION=EPSG:5179', 'DISPLAYPROJECTION=EPSG:5181', 'TRANSFORM=EPSG:5181', 'SERVICE=WMS', 'VERSION=1.1.1', 'REQUEST=GetMap', \"CQL_FILTER=(engn_code='00') and (acdnt_year between '2022' and '2022')  and (legaldong_code ilike '4146%') and (( acdnt_gae_code = '01') or ( acdnt_gae_code = '02') or ( acdnt_gae_code = '03') or ( acdnt_gae_code = '04')) and (( road_type = '6'))\", 'SRS=EPSG:5181', 'BBOX=156576.04343887,374152.26119544,258848.04343887,433992.26119544', 'WIDTH=1598', 'HEIGHT=935']\n",
      "Debugging - src_split:\n",
      "https://taas.koroad.or.kr/gis36/TAAS/wms?LAYERS=GNRL_GIS_ACDNT_INFO_NON\n",
      "STYLES=\n",
      "FORMAT=image/png\n",
      "TRANSPARENT=TRUE\n",
      "TILED=false\n",
      "TILESORIGIN=-30000,-60000\n",
      "PROJECTION=EPSG:5179\n",
      "DISPLAYPROJECTION=EPSG:5181\n",
      "TRANSFORM=EPSG:5181\n",
      "SERVICE=WMS\n",
      "VERSION=1.1.1\n",
      "REQUEST=GetMap\n",
      "CQL_FILTER=(engn_code='00') and (acdnt_year between '2022' and '2022')  and (legaldong_code ilike '4146%') and (( acdnt_gae_code = '01') or ( acdnt_gae_code = '02') or ( acdnt_gae_code = '03') or ( acdnt_gae_code = '04')) and (( road_type = '6'))\n",
      "SRS=EPSG:5181\n",
      "BBOX=156576.04343887,374152.26119544,258848.04343887,433992.26119544\n",
      "WIDTH=1598\n",
      "HEIGHT=935\n",
      "bbox_text : 156576.04343887,374152.26119544,258848.04343887,433992.26119544\n"
     ]
    },
    {
     "name": "stderr",
     "output_type": "stream",
     "text": [
      "  0%|          | 112/33698 [01:55<9:39:38,  1.04s/it]"
     ]
    },
    {
     "name": "stdout",
     "output_type": "stream",
     "text": [
      "Debugging - src content: <selenium.webdriver.remote.webelement.WebElement (session=\"5b06b3d12ca3a76e5c613afa896de233\", element=\"9E340076E16B0B12E9EB60FAF1C429D4_element_54805\")>\n",
      "Debugging - src content: https://taas.koroad.or.kr/gis36/TAAS/wms?LAYERS=GNRL_GIS_ACDNT_INFO_NON&STYLES=&FORMAT=image/png&TRANSPARENT=TRUE&TILED=false&TILESORIGIN=-30000,-60000&PROJECTION=EPSG:5179&DISPLAYPROJECTION=EPSG:5181&TRANSFORM=EPSG:5181&SERVICE=WMS&VERSION=1.1.1&REQUEST=GetMap&CQL_FILTER=(engn_code='00') and (acdnt_year between '2022' and '2022')  and (legaldong_code ilike '4146%') and (( acdnt_gae_code = '01') or ( acdnt_gae_code = '02') or ( acdnt_gae_code = '03') or ( acdnt_gae_code = '04')) and (( road_type = '6'))&SRS=EPSG:5181&BBOX=157771.28877192,388984.479675,260043.28877192,448824.479675&WIDTH=1598&HEIGHT=935\n",
      "src_split : ['https://taas.koroad.or.kr/gis36/TAAS/wms?LAYERS=GNRL_GIS_ACDNT_INFO_NON', 'STYLES=', 'FORMAT=image/png', 'TRANSPARENT=TRUE', 'TILED=false', 'TILESORIGIN=-30000,-60000', 'PROJECTION=EPSG:5179', 'DISPLAYPROJECTION=EPSG:5181', 'TRANSFORM=EPSG:5181', 'SERVICE=WMS', 'VERSION=1.1.1', 'REQUEST=GetMap', \"CQL_FILTER=(engn_code='00') and (acdnt_year between '2022' and '2022')  and (legaldong_code ilike '4146%') and (( acdnt_gae_code = '01') or ( acdnt_gae_code = '02') or ( acdnt_gae_code = '03') or ( acdnt_gae_code = '04')) and (( road_type = '6'))\", 'SRS=EPSG:5181', 'BBOX=157771.28877192,388984.479675,260043.28877192,448824.479675', 'WIDTH=1598', 'HEIGHT=935']\n",
      "Debugging - src_split:\n",
      "https://taas.koroad.or.kr/gis36/TAAS/wms?LAYERS=GNRL_GIS_ACDNT_INFO_NON\n",
      "STYLES=\n",
      "FORMAT=image/png\n",
      "TRANSPARENT=TRUE\n",
      "TILED=false\n",
      "TILESORIGIN=-30000,-60000\n",
      "PROJECTION=EPSG:5179\n",
      "DISPLAYPROJECTION=EPSG:5181\n",
      "TRANSFORM=EPSG:5181\n",
      "SERVICE=WMS\n",
      "VERSION=1.1.1\n",
      "REQUEST=GetMap\n",
      "CQL_FILTER=(engn_code='00') and (acdnt_year between '2022' and '2022')  and (legaldong_code ilike '4146%') and (( acdnt_gae_code = '01') or ( acdnt_gae_code = '02') or ( acdnt_gae_code = '03') or ( acdnt_gae_code = '04')) and (( road_type = '6'))\n",
      "SRS=EPSG:5181\n",
      "BBOX=157771.28877192,388984.479675,260043.28877192,448824.479675\n",
      "WIDTH=1598\n",
      "HEIGHT=935\n",
      "bbox_text : 157771.28877192,388984.479675,260043.28877192,448824.479675\n"
     ]
    },
    {
     "name": "stderr",
     "output_type": "stream",
     "text": [
      "  0%|          | 113/33698 [01:56<9:39:05,  1.03s/it]"
     ]
    },
    {
     "name": "stdout",
     "output_type": "stream",
     "text": [
      "Debugging - src content: <selenium.webdriver.remote.webelement.WebElement (session=\"5b06b3d12ca3a76e5c613afa896de233\", element=\"9E340076E16B0B12E9EB60FAF1C429D4_element_55255\")>\n",
      "Debugging - src content: https://taas.koroad.or.kr/gis36/TAAS/wms?LAYERS=GNRL_GIS_ACDNT_INFO_NON&STYLES=&FORMAT=image/png&TRANSPARENT=TRUE&TILED=false&TILESORIGIN=-30000,-60000&PROJECTION=EPSG:5179&DISPLAYPROJECTION=EPSG:5181&TRANSFORM=EPSG:5181&SERVICE=WMS&VERSION=1.1.1&REQUEST=GetMap&CQL_FILTER=(engn_code='00') and (acdnt_year between '2022' and '2022')  and (legaldong_code ilike '4146%') and (( acdnt_gae_code = '01') or ( acdnt_gae_code = '02') or ( acdnt_gae_code = '03') or ( acdnt_gae_code = '04')) and (( road_type = '6'))&SRS=EPSG:5181&BBOX=162286.90154852,385045.74056878,264558.90154852,444885.74056878&WIDTH=1598&HEIGHT=935\n",
      "src_split : ['https://taas.koroad.or.kr/gis36/TAAS/wms?LAYERS=GNRL_GIS_ACDNT_INFO_NON', 'STYLES=', 'FORMAT=image/png', 'TRANSPARENT=TRUE', 'TILED=false', 'TILESORIGIN=-30000,-60000', 'PROJECTION=EPSG:5179', 'DISPLAYPROJECTION=EPSG:5181', 'TRANSFORM=EPSG:5181', 'SERVICE=WMS', 'VERSION=1.1.1', 'REQUEST=GetMap', \"CQL_FILTER=(engn_code='00') and (acdnt_year between '2022' and '2022')  and (legaldong_code ilike '4146%') and (( acdnt_gae_code = '01') or ( acdnt_gae_code = '02') or ( acdnt_gae_code = '03') or ( acdnt_gae_code = '04')) and (( road_type = '6'))\", 'SRS=EPSG:5181', 'BBOX=162286.90154852,385045.74056878,264558.90154852,444885.74056878', 'WIDTH=1598', 'HEIGHT=935']\n",
      "Debugging - src_split:\n",
      "https://taas.koroad.or.kr/gis36/TAAS/wms?LAYERS=GNRL_GIS_ACDNT_INFO_NON\n",
      "STYLES=\n",
      "FORMAT=image/png\n",
      "TRANSPARENT=TRUE\n",
      "TILED=false\n",
      "TILESORIGIN=-30000,-60000\n",
      "PROJECTION=EPSG:5179\n",
      "DISPLAYPROJECTION=EPSG:5181\n",
      "TRANSFORM=EPSG:5181\n",
      "SERVICE=WMS\n",
      "VERSION=1.1.1\n",
      "REQUEST=GetMap\n",
      "CQL_FILTER=(engn_code='00') and (acdnt_year between '2022' and '2022')  and (legaldong_code ilike '4146%') and (( acdnt_gae_code = '01') or ( acdnt_gae_code = '02') or ( acdnt_gae_code = '03') or ( acdnt_gae_code = '04')) and (( road_type = '6'))\n",
      "SRS=EPSG:5181\n",
      "BBOX=162286.90154852,385045.74056878,264558.90154852,444885.74056878\n",
      "WIDTH=1598\n",
      "HEIGHT=935\n",
      "bbox_text : 162286.90154852,385045.74056878,264558.90154852,444885.74056878\n"
     ]
    },
    {
     "name": "stderr",
     "output_type": "stream",
     "text": [
      "  0%|          | 114/33698 [01:57<9:38:55,  1.03s/it]"
     ]
    },
    {
     "name": "stdout",
     "output_type": "stream",
     "text": [
      "Debugging - src content: <selenium.webdriver.remote.webelement.WebElement (session=\"5b06b3d12ca3a76e5c613afa896de233\", element=\"9E340076E16B0B12E9EB60FAF1C429D4_element_55705\")>\n",
      "Debugging - src content: https://taas.koroad.or.kr/gis36/TAAS/wms?LAYERS=GNRL_GIS_ACDNT_INFO_NON&STYLES=&FORMAT=image/png&TRANSPARENT=TRUE&TILED=false&TILESORIGIN=-30000,-60000&PROJECTION=EPSG:5179&DISPLAYPROJECTION=EPSG:5181&TRANSFORM=EPSG:5181&SERVICE=WMS&VERSION=1.1.1&REQUEST=GetMap&CQL_FILTER=(engn_code='00') and (acdnt_year between '2022' and '2022')  and (legaldong_code ilike '4146%') and (( acdnt_gae_code = '01') or ( acdnt_gae_code = '02') or ( acdnt_gae_code = '03') or ( acdnt_gae_code = '04')) and (( road_type = '6'))&SRS=EPSG:5181&BBOX=158052.47898487,391240.86715265,260324.47898487,451080.86715265&WIDTH=1598&HEIGHT=935\n",
      "src_split : ['https://taas.koroad.or.kr/gis36/TAAS/wms?LAYERS=GNRL_GIS_ACDNT_INFO_NON', 'STYLES=', 'FORMAT=image/png', 'TRANSPARENT=TRUE', 'TILED=false', 'TILESORIGIN=-30000,-60000', 'PROJECTION=EPSG:5179', 'DISPLAYPROJECTION=EPSG:5181', 'TRANSFORM=EPSG:5181', 'SERVICE=WMS', 'VERSION=1.1.1', 'REQUEST=GetMap', \"CQL_FILTER=(engn_code='00') and (acdnt_year between '2022' and '2022')  and (legaldong_code ilike '4146%') and (( acdnt_gae_code = '01') or ( acdnt_gae_code = '02') or ( acdnt_gae_code = '03') or ( acdnt_gae_code = '04')) and (( road_type = '6'))\", 'SRS=EPSG:5181', 'BBOX=158052.47898487,391240.86715265,260324.47898487,451080.86715265', 'WIDTH=1598', 'HEIGHT=935']\n",
      "Debugging - src_split:\n",
      "https://taas.koroad.or.kr/gis36/TAAS/wms?LAYERS=GNRL_GIS_ACDNT_INFO_NON\n",
      "STYLES=\n",
      "FORMAT=image/png\n",
      "TRANSPARENT=TRUE\n",
      "TILED=false\n",
      "TILESORIGIN=-30000,-60000\n",
      "PROJECTION=EPSG:5179\n",
      "DISPLAYPROJECTION=EPSG:5181\n",
      "TRANSFORM=EPSG:5181\n",
      "SERVICE=WMS\n",
      "VERSION=1.1.1\n",
      "REQUEST=GetMap\n",
      "CQL_FILTER=(engn_code='00') and (acdnt_year between '2022' and '2022')  and (legaldong_code ilike '4146%') and (( acdnt_gae_code = '01') or ( acdnt_gae_code = '02') or ( acdnt_gae_code = '03') or ( acdnt_gae_code = '04')) and (( road_type = '6'))\n",
      "SRS=EPSG:5181\n",
      "BBOX=158052.47898487,391240.86715265,260324.47898487,451080.86715265\n",
      "WIDTH=1598\n",
      "HEIGHT=935\n",
      "bbox_text : 158052.47898487,391240.86715265,260324.47898487,451080.86715265\n"
     ]
    },
    {
     "name": "stderr",
     "output_type": "stream",
     "text": [
      "  0%|          | 115/33698 [01:59<9:38:31,  1.03s/it]"
     ]
    },
    {
     "name": "stdout",
     "output_type": "stream",
     "text": [
      "Debugging - src content: <selenium.webdriver.remote.webelement.WebElement (session=\"5b06b3d12ca3a76e5c613afa896de233\", element=\"9E340076E16B0B12E9EB60FAF1C429D4_element_56145\")>\n",
      "Debugging - src content: https://taas.koroad.or.kr/gis36/TAAS/wms?LAYERS=GNRL_GIS_ACDNT_INFO_NON&STYLES=&FORMAT=image/png&TRANSPARENT=TRUE&TILED=false&TILESORIGIN=-30000,-60000&PROJECTION=EPSG:5179&DISPLAYPROJECTION=EPSG:5181&TRANSFORM=EPSG:5181&SERVICE=WMS&VERSION=1.1.1&REQUEST=GetMap&CQL_FILTER=(engn_code='00') and (acdnt_year between '2022' and '2022')  and (legaldong_code ilike '4146%') and (( acdnt_gae_code = '01') or ( acdnt_gae_code = '02') or ( acdnt_gae_code = '03') or ( acdnt_gae_code = '04')) and (( road_type = '6'))&SRS=EPSG:5181&BBOX=157970.8901668,388696.41893563,260242.8901668,448536.41893563&WIDTH=1598&HEIGHT=935\n",
      "src_split : ['https://taas.koroad.or.kr/gis36/TAAS/wms?LAYERS=GNRL_GIS_ACDNT_INFO_NON', 'STYLES=', 'FORMAT=image/png', 'TRANSPARENT=TRUE', 'TILED=false', 'TILESORIGIN=-30000,-60000', 'PROJECTION=EPSG:5179', 'DISPLAYPROJECTION=EPSG:5181', 'TRANSFORM=EPSG:5181', 'SERVICE=WMS', 'VERSION=1.1.1', 'REQUEST=GetMap', \"CQL_FILTER=(engn_code='00') and (acdnt_year between '2022' and '2022')  and (legaldong_code ilike '4146%') and (( acdnt_gae_code = '01') or ( acdnt_gae_code = '02') or ( acdnt_gae_code = '03') or ( acdnt_gae_code = '04')) and (( road_type = '6'))\", 'SRS=EPSG:5181', 'BBOX=157970.8901668,388696.41893563,260242.8901668,448536.41893563', 'WIDTH=1598', 'HEIGHT=935']\n",
      "Debugging - src_split:\n",
      "https://taas.koroad.or.kr/gis36/TAAS/wms?LAYERS=GNRL_GIS_ACDNT_INFO_NON\n",
      "STYLES=\n",
      "FORMAT=image/png\n",
      "TRANSPARENT=TRUE\n",
      "TILED=false\n",
      "TILESORIGIN=-30000,-60000\n",
      "PROJECTION=EPSG:5179\n",
      "DISPLAYPROJECTION=EPSG:5181\n",
      "TRANSFORM=EPSG:5181\n",
      "SERVICE=WMS\n",
      "VERSION=1.1.1\n",
      "REQUEST=GetMap\n",
      "CQL_FILTER=(engn_code='00') and (acdnt_year between '2022' and '2022')  and (legaldong_code ilike '4146%') and (( acdnt_gae_code = '01') or ( acdnt_gae_code = '02') or ( acdnt_gae_code = '03') or ( acdnt_gae_code = '04')) and (( road_type = '6'))\n",
      "SRS=EPSG:5181\n",
      "BBOX=157970.8901668,388696.41893563,260242.8901668,448536.41893563\n",
      "WIDTH=1598\n",
      "HEIGHT=935\n",
      "bbox_text : 157970.8901668,388696.41893563,260242.8901668,448536.41893563\n"
     ]
    },
    {
     "name": "stderr",
     "output_type": "stream",
     "text": [
      "  0%|          | 116/33698 [02:00<9:37:57,  1.03s/it]"
     ]
    },
    {
     "name": "stdout",
     "output_type": "stream",
     "text": [
      "Debugging - src content: <selenium.webdriver.remote.webelement.WebElement (session=\"5b06b3d12ca3a76e5c613afa896de233\", element=\"9E340076E16B0B12E9EB60FAF1C429D4_element_56585\")>\n",
      "Debugging - src content: https://taas.koroad.or.kr/gis36/TAAS/wms?LAYERS=GNRL_GIS_ACDNT_INFO_NON&STYLES=&FORMAT=image/png&TRANSPARENT=TRUE&TILED=false&TILESORIGIN=-30000,-60000&PROJECTION=EPSG:5179&DISPLAYPROJECTION=EPSG:5181&TRANSFORM=EPSG:5181&SERVICE=WMS&VERSION=1.1.1&REQUEST=GetMap&CQL_FILTER=(engn_code='00') and (acdnt_year between '2022' and '2022')  and (legaldong_code ilike '4146%') and (( acdnt_gae_code = '01') or ( acdnt_gae_code = '02') or ( acdnt_gae_code = '03') or ( acdnt_gae_code = '04')) and (( road_type = '6'))&SRS=EPSG:5181&BBOX=158040.21559011,396395.86340253,260312.21559011,456235.86340253&WIDTH=1598&HEIGHT=935\n",
      "src_split : ['https://taas.koroad.or.kr/gis36/TAAS/wms?LAYERS=GNRL_GIS_ACDNT_INFO_NON', 'STYLES=', 'FORMAT=image/png', 'TRANSPARENT=TRUE', 'TILED=false', 'TILESORIGIN=-30000,-60000', 'PROJECTION=EPSG:5179', 'DISPLAYPROJECTION=EPSG:5181', 'TRANSFORM=EPSG:5181', 'SERVICE=WMS', 'VERSION=1.1.1', 'REQUEST=GetMap', \"CQL_FILTER=(engn_code='00') and (acdnt_year between '2022' and '2022')  and (legaldong_code ilike '4146%') and (( acdnt_gae_code = '01') or ( acdnt_gae_code = '02') or ( acdnt_gae_code = '03') or ( acdnt_gae_code = '04')) and (( road_type = '6'))\", 'SRS=EPSG:5181', 'BBOX=158040.21559011,396395.86340253,260312.21559011,456235.86340253', 'WIDTH=1598', 'HEIGHT=935']\n",
      "Debugging - src_split:\n",
      "https://taas.koroad.or.kr/gis36/TAAS/wms?LAYERS=GNRL_GIS_ACDNT_INFO_NON\n",
      "STYLES=\n",
      "FORMAT=image/png\n",
      "TRANSPARENT=TRUE\n",
      "TILED=false\n",
      "TILESORIGIN=-30000,-60000\n",
      "PROJECTION=EPSG:5179\n",
      "DISPLAYPROJECTION=EPSG:5181\n",
      "TRANSFORM=EPSG:5181\n",
      "SERVICE=WMS\n",
      "VERSION=1.1.1\n",
      "REQUEST=GetMap\n",
      "CQL_FILTER=(engn_code='00') and (acdnt_year between '2022' and '2022')  and (legaldong_code ilike '4146%') and (( acdnt_gae_code = '01') or ( acdnt_gae_code = '02') or ( acdnt_gae_code = '03') or ( acdnt_gae_code = '04')) and (( road_type = '6'))\n",
      "SRS=EPSG:5181\n",
      "BBOX=158040.21559011,396395.86340253,260312.21559011,456235.86340253\n",
      "WIDTH=1598\n",
      "HEIGHT=935\n",
      "bbox_text : 158040.21559011,396395.86340253,260312.21559011,456235.86340253\n"
     ]
    },
    {
     "name": "stderr",
     "output_type": "stream",
     "text": [
      "  0%|          | 117/33698 [02:01<9:39:27,  1.04s/it]"
     ]
    },
    {
     "name": "stdout",
     "output_type": "stream",
     "text": [
      "Debugging - src content: <selenium.webdriver.remote.webelement.WebElement (session=\"5b06b3d12ca3a76e5c613afa896de233\", element=\"9E340076E16B0B12E9EB60FAF1C429D4_element_57045\")>\n",
      "Debugging - src content: https://taas.koroad.or.kr/gis36/TAAS/wms?LAYERS=GNRL_GIS_ACDNT_INFO_NON&STYLES=&FORMAT=image/png&TRANSPARENT=TRUE&TILED=false&TILESORIGIN=-30000,-60000&PROJECTION=EPSG:5179&DISPLAYPROJECTION=EPSG:5181&TRANSFORM=EPSG:5181&SERVICE=WMS&VERSION=1.1.1&REQUEST=GetMap&CQL_FILTER=(engn_code='00') and (acdnt_year between '2022' and '2022')  and (legaldong_code ilike '4146%') and (( acdnt_gae_code = '01') or ( acdnt_gae_code = '02') or ( acdnt_gae_code = '03') or ( acdnt_gae_code = '04')) and (( road_type = '6'))&SRS=EPSG:5181&BBOX=159227.20370328,370713.84456009,261499.20370328,430553.84456009&WIDTH=1598&HEIGHT=935\n",
      "src_split : ['https://taas.koroad.or.kr/gis36/TAAS/wms?LAYERS=GNRL_GIS_ACDNT_INFO_NON', 'STYLES=', 'FORMAT=image/png', 'TRANSPARENT=TRUE', 'TILED=false', 'TILESORIGIN=-30000,-60000', 'PROJECTION=EPSG:5179', 'DISPLAYPROJECTION=EPSG:5181', 'TRANSFORM=EPSG:5181', 'SERVICE=WMS', 'VERSION=1.1.1', 'REQUEST=GetMap', \"CQL_FILTER=(engn_code='00') and (acdnt_year between '2022' and '2022')  and (legaldong_code ilike '4146%') and (( acdnt_gae_code = '01') or ( acdnt_gae_code = '02') or ( acdnt_gae_code = '03') or ( acdnt_gae_code = '04')) and (( road_type = '6'))\", 'SRS=EPSG:5181', 'BBOX=159227.20370328,370713.84456009,261499.20370328,430553.84456009', 'WIDTH=1598', 'HEIGHT=935']\n",
      "Debugging - src_split:\n",
      "https://taas.koroad.or.kr/gis36/TAAS/wms?LAYERS=GNRL_GIS_ACDNT_INFO_NON\n",
      "STYLES=\n",
      "FORMAT=image/png\n",
      "TRANSPARENT=TRUE\n",
      "TILED=false\n",
      "TILESORIGIN=-30000,-60000\n",
      "PROJECTION=EPSG:5179\n",
      "DISPLAYPROJECTION=EPSG:5181\n",
      "TRANSFORM=EPSG:5181\n",
      "SERVICE=WMS\n",
      "VERSION=1.1.1\n",
      "REQUEST=GetMap\n",
      "CQL_FILTER=(engn_code='00') and (acdnt_year between '2022' and '2022')  and (legaldong_code ilike '4146%') and (( acdnt_gae_code = '01') or ( acdnt_gae_code = '02') or ( acdnt_gae_code = '03') or ( acdnt_gae_code = '04')) and (( road_type = '6'))\n",
      "SRS=EPSG:5181\n",
      "BBOX=159227.20370328,370713.84456009,261499.20370328,430553.84456009\n",
      "WIDTH=1598\n",
      "HEIGHT=935\n",
      "bbox_text : 159227.20370328,370713.84456009,261499.20370328,430553.84456009\n"
     ]
    },
    {
     "name": "stderr",
     "output_type": "stream",
     "text": [
      "  0%|          | 118/33698 [02:02<9:39:13,  1.03s/it]"
     ]
    },
    {
     "name": "stdout",
     "output_type": "stream",
     "text": [
      "Debugging - src content: <selenium.webdriver.remote.webelement.WebElement (session=\"5b06b3d12ca3a76e5c613afa896de233\", element=\"9E340076E16B0B12E9EB60FAF1C429D4_element_57495\")>\n",
      "Debugging - src content: https://taas.koroad.or.kr/gis36/TAAS/wms?LAYERS=GNRL_GIS_ACDNT_INFO_NON&STYLES=&FORMAT=image/png&TRANSPARENT=TRUE&TILED=false&TILESORIGIN=-30000,-60000&PROJECTION=EPSG:5179&DISPLAYPROJECTION=EPSG:5181&TRANSFORM=EPSG:5181&SERVICE=WMS&VERSION=1.1.1&REQUEST=GetMap&CQL_FILTER=(engn_code='00') and (acdnt_year between '2022' and '2022')  and (legaldong_code ilike '4146%') and (( acdnt_gae_code = '01') or ( acdnt_gae_code = '02') or ( acdnt_gae_code = '03') or ( acdnt_gae_code = '04')) and (( road_type = '6'))&SRS=EPSG:5181&BBOX=158293.81217981,385326.77673166,260565.81217981,445166.77673166&WIDTH=1598&HEIGHT=935\n",
      "src_split : ['https://taas.koroad.or.kr/gis36/TAAS/wms?LAYERS=GNRL_GIS_ACDNT_INFO_NON', 'STYLES=', 'FORMAT=image/png', 'TRANSPARENT=TRUE', 'TILED=false', 'TILESORIGIN=-30000,-60000', 'PROJECTION=EPSG:5179', 'DISPLAYPROJECTION=EPSG:5181', 'TRANSFORM=EPSG:5181', 'SERVICE=WMS', 'VERSION=1.1.1', 'REQUEST=GetMap', \"CQL_FILTER=(engn_code='00') and (acdnt_year between '2022' and '2022')  and (legaldong_code ilike '4146%') and (( acdnt_gae_code = '01') or ( acdnt_gae_code = '02') or ( acdnt_gae_code = '03') or ( acdnt_gae_code = '04')) and (( road_type = '6'))\", 'SRS=EPSG:5181', 'BBOX=158293.81217981,385326.77673166,260565.81217981,445166.77673166', 'WIDTH=1598', 'HEIGHT=935']\n",
      "Debugging - src_split:\n",
      "https://taas.koroad.or.kr/gis36/TAAS/wms?LAYERS=GNRL_GIS_ACDNT_INFO_NON\n",
      "STYLES=\n",
      "FORMAT=image/png\n",
      "TRANSPARENT=TRUE\n",
      "TILED=false\n",
      "TILESORIGIN=-30000,-60000\n",
      "PROJECTION=EPSG:5179\n",
      "DISPLAYPROJECTION=EPSG:5181\n",
      "TRANSFORM=EPSG:5181\n",
      "SERVICE=WMS\n",
      "VERSION=1.1.1\n",
      "REQUEST=GetMap\n",
      "CQL_FILTER=(engn_code='00') and (acdnt_year between '2022' and '2022')  and (legaldong_code ilike '4146%') and (( acdnt_gae_code = '01') or ( acdnt_gae_code = '02') or ( acdnt_gae_code = '03') or ( acdnt_gae_code = '04')) and (( road_type = '6'))\n",
      "SRS=EPSG:5181\n",
      "BBOX=158293.81217981,385326.77673166,260565.81217981,445166.77673166\n",
      "WIDTH=1598\n",
      "HEIGHT=935\n",
      "bbox_text : 158293.81217981,385326.77673166,260565.81217981,445166.77673166\n"
     ]
    },
    {
     "name": "stderr",
     "output_type": "stream",
     "text": [
      "  0%|          | 119/33698 [02:03<9:39:56,  1.04s/it]"
     ]
    },
    {
     "name": "stdout",
     "output_type": "stream",
     "text": [
      "Debugging - src content: <selenium.webdriver.remote.webelement.WebElement (session=\"5b06b3d12ca3a76e5c613afa896de233\", element=\"9E340076E16B0B12E9EB60FAF1C429D4_element_57935\")>\n",
      "Debugging - src content: https://taas.koroad.or.kr/gis36/TAAS/wms?LAYERS=GNRL_GIS_ACDNT_INFO_NON&STYLES=&FORMAT=image/png&TRANSPARENT=TRUE&TILED=false&TILESORIGIN=-30000,-60000&PROJECTION=EPSG:5179&DISPLAYPROJECTION=EPSG:5181&TRANSFORM=EPSG:5181&SERVICE=WMS&VERSION=1.1.1&REQUEST=GetMap&CQL_FILTER=(engn_code='00') and (acdnt_year between '2022' and '2022')  and (legaldong_code ilike '4146%') and (( acdnt_gae_code = '01') or ( acdnt_gae_code = '02') or ( acdnt_gae_code = '03') or ( acdnt_gae_code = '04')) and (( road_type = '6'))&SRS=EPSG:5181&BBOX=157982.24184922,388441.376957,260254.24184922,448281.376957&WIDTH=1598&HEIGHT=935\n",
      "src_split : ['https://taas.koroad.or.kr/gis36/TAAS/wms?LAYERS=GNRL_GIS_ACDNT_INFO_NON', 'STYLES=', 'FORMAT=image/png', 'TRANSPARENT=TRUE', 'TILED=false', 'TILESORIGIN=-30000,-60000', 'PROJECTION=EPSG:5179', 'DISPLAYPROJECTION=EPSG:5181', 'TRANSFORM=EPSG:5181', 'SERVICE=WMS', 'VERSION=1.1.1', 'REQUEST=GetMap', \"CQL_FILTER=(engn_code='00') and (acdnt_year between '2022' and '2022')  and (legaldong_code ilike '4146%') and (( acdnt_gae_code = '01') or ( acdnt_gae_code = '02') or ( acdnt_gae_code = '03') or ( acdnt_gae_code = '04')) and (( road_type = '6'))\", 'SRS=EPSG:5181', 'BBOX=157982.24184922,388441.376957,260254.24184922,448281.376957', 'WIDTH=1598', 'HEIGHT=935']\n",
      "Debugging - src_split:\n",
      "https://taas.koroad.or.kr/gis36/TAAS/wms?LAYERS=GNRL_GIS_ACDNT_INFO_NON\n",
      "STYLES=\n",
      "FORMAT=image/png\n",
      "TRANSPARENT=TRUE\n",
      "TILED=false\n",
      "TILESORIGIN=-30000,-60000\n",
      "PROJECTION=EPSG:5179\n",
      "DISPLAYPROJECTION=EPSG:5181\n",
      "TRANSFORM=EPSG:5181\n",
      "SERVICE=WMS\n",
      "VERSION=1.1.1\n",
      "REQUEST=GetMap\n",
      "CQL_FILTER=(engn_code='00') and (acdnt_year between '2022' and '2022')  and (legaldong_code ilike '4146%') and (( acdnt_gae_code = '01') or ( acdnt_gae_code = '02') or ( acdnt_gae_code = '03') or ( acdnt_gae_code = '04')) and (( road_type = '6'))\n",
      "SRS=EPSG:5181\n",
      "BBOX=157982.24184922,388441.376957,260254.24184922,448281.376957\n",
      "WIDTH=1598\n",
      "HEIGHT=935\n",
      "bbox_text : 157982.24184922,388441.376957,260254.24184922,448281.376957\n"
     ]
    },
    {
     "name": "stderr",
     "output_type": "stream",
     "text": [
      "  0%|          | 120/33698 [02:04<9:41:22,  1.04s/it]"
     ]
    },
    {
     "name": "stdout",
     "output_type": "stream",
     "text": [
      "Debugging - src content: <selenium.webdriver.remote.webelement.WebElement (session=\"5b06b3d12ca3a76e5c613afa896de233\", element=\"9E340076E16B0B12E9EB60FAF1C429D4_element_58385\")>\n",
      "Debugging - src content: https://taas.koroad.or.kr/gis36/TAAS/wms?LAYERS=GNRL_GIS_ACDNT_INFO_NON&STYLES=&FORMAT=image/png&TRANSPARENT=TRUE&TILED=false&TILESORIGIN=-30000,-60000&PROJECTION=EPSG:5179&DISPLAYPROJECTION=EPSG:5181&TRANSFORM=EPSG:5181&SERVICE=WMS&VERSION=1.1.1&REQUEST=GetMap&CQL_FILTER=(engn_code='00') and (acdnt_year between '2022' and '2022')  and (legaldong_code ilike '4146%') and (( acdnt_gae_code = '01') or ( acdnt_gae_code = '02') or ( acdnt_gae_code = '03') or ( acdnt_gae_code = '04')) and (( road_type = '6'))&SRS=EPSG:5181&BBOX=157962.45371375,388778.40714177,260234.45371375,448618.40714177&WIDTH=1598&HEIGHT=935\n",
      "src_split : ['https://taas.koroad.or.kr/gis36/TAAS/wms?LAYERS=GNRL_GIS_ACDNT_INFO_NON', 'STYLES=', 'FORMAT=image/png', 'TRANSPARENT=TRUE', 'TILED=false', 'TILESORIGIN=-30000,-60000', 'PROJECTION=EPSG:5179', 'DISPLAYPROJECTION=EPSG:5181', 'TRANSFORM=EPSG:5181', 'SERVICE=WMS', 'VERSION=1.1.1', 'REQUEST=GetMap', \"CQL_FILTER=(engn_code='00') and (acdnt_year between '2022' and '2022')  and (legaldong_code ilike '4146%') and (( acdnt_gae_code = '01') or ( acdnt_gae_code = '02') or ( acdnt_gae_code = '03') or ( acdnt_gae_code = '04')) and (( road_type = '6'))\", 'SRS=EPSG:5181', 'BBOX=157962.45371375,388778.40714177,260234.45371375,448618.40714177', 'WIDTH=1598', 'HEIGHT=935']\n",
      "Debugging - src_split:\n",
      "https://taas.koroad.or.kr/gis36/TAAS/wms?LAYERS=GNRL_GIS_ACDNT_INFO_NON\n",
      "STYLES=\n",
      "FORMAT=image/png\n",
      "TRANSPARENT=TRUE\n",
      "TILED=false\n",
      "TILESORIGIN=-30000,-60000\n",
      "PROJECTION=EPSG:5179\n",
      "DISPLAYPROJECTION=EPSG:5181\n",
      "TRANSFORM=EPSG:5181\n",
      "SERVICE=WMS\n",
      "VERSION=1.1.1\n",
      "REQUEST=GetMap\n",
      "CQL_FILTER=(engn_code='00') and (acdnt_year between '2022' and '2022')  and (legaldong_code ilike '4146%') and (( acdnt_gae_code = '01') or ( acdnt_gae_code = '02') or ( acdnt_gae_code = '03') or ( acdnt_gae_code = '04')) and (( road_type = '6'))\n",
      "SRS=EPSG:5181\n",
      "BBOX=157962.45371375,388778.40714177,260234.45371375,448618.40714177\n",
      "WIDTH=1598\n",
      "HEIGHT=935\n",
      "bbox_text : 157962.45371375,388778.40714177,260234.45371375,448618.40714177\n"
     ]
    },
    {
     "name": "stderr",
     "output_type": "stream",
     "text": [
      "  0%|          | 121/33698 [02:05<9:40:28,  1.04s/it]"
     ]
    },
    {
     "name": "stdout",
     "output_type": "stream",
     "text": [
      "Debugging - src content: <selenium.webdriver.remote.webelement.WebElement (session=\"5b06b3d12ca3a76e5c613afa896de233\", element=\"9E340076E16B0B12E9EB60FAF1C429D4_element_58835\")>\n",
      "Debugging - src content: https://taas.koroad.or.kr/gis36/TAAS/wms?LAYERS=GNRL_GIS_ACDNT_INFO_NON&STYLES=&FORMAT=image/png&TRANSPARENT=TRUE&TILED=false&TILESORIGIN=-30000,-60000&PROJECTION=EPSG:5179&DISPLAYPROJECTION=EPSG:5181&TRANSFORM=EPSG:5181&SERVICE=WMS&VERSION=1.1.1&REQUEST=GetMap&CQL_FILTER=(engn_code='00') and (acdnt_year between '2022' and '2022')  and (legaldong_code ilike '4146%') and (( acdnt_gae_code = '01') or ( acdnt_gae_code = '02') or ( acdnt_gae_code = '03') or ( acdnt_gae_code = '04')) and (( road_type = '6'))&SRS=EPSG:5181&BBOX=157998.45395302,388402.44702699,260270.45395302,448242.44702699&WIDTH=1598&HEIGHT=935\n",
      "src_split : ['https://taas.koroad.or.kr/gis36/TAAS/wms?LAYERS=GNRL_GIS_ACDNT_INFO_NON', 'STYLES=', 'FORMAT=image/png', 'TRANSPARENT=TRUE', 'TILED=false', 'TILESORIGIN=-30000,-60000', 'PROJECTION=EPSG:5179', 'DISPLAYPROJECTION=EPSG:5181', 'TRANSFORM=EPSG:5181', 'SERVICE=WMS', 'VERSION=1.1.1', 'REQUEST=GetMap', \"CQL_FILTER=(engn_code='00') and (acdnt_year between '2022' and '2022')  and (legaldong_code ilike '4146%') and (( acdnt_gae_code = '01') or ( acdnt_gae_code = '02') or ( acdnt_gae_code = '03') or ( acdnt_gae_code = '04')) and (( road_type = '6'))\", 'SRS=EPSG:5181', 'BBOX=157998.45395302,388402.44702699,260270.45395302,448242.44702699', 'WIDTH=1598', 'HEIGHT=935']\n",
      "Debugging - src_split:\n",
      "https://taas.koroad.or.kr/gis36/TAAS/wms?LAYERS=GNRL_GIS_ACDNT_INFO_NON\n",
      "STYLES=\n",
      "FORMAT=image/png\n",
      "TRANSPARENT=TRUE\n",
      "TILED=false\n",
      "TILESORIGIN=-30000,-60000\n",
      "PROJECTION=EPSG:5179\n",
      "DISPLAYPROJECTION=EPSG:5181\n",
      "TRANSFORM=EPSG:5181\n",
      "SERVICE=WMS\n",
      "VERSION=1.1.1\n",
      "REQUEST=GetMap\n",
      "CQL_FILTER=(engn_code='00') and (acdnt_year between '2022' and '2022')  and (legaldong_code ilike '4146%') and (( acdnt_gae_code = '01') or ( acdnt_gae_code = '02') or ( acdnt_gae_code = '03') or ( acdnt_gae_code = '04')) and (( road_type = '6'))\n",
      "SRS=EPSG:5181\n",
      "BBOX=157998.45395302,388402.44702699,260270.45395302,448242.44702699\n",
      "WIDTH=1598\n",
      "HEIGHT=935\n",
      "bbox_text : 157998.45395302,388402.44702699,260270.45395302,448242.44702699\n"
     ]
    },
    {
     "name": "stderr",
     "output_type": "stream",
     "text": [
      "  0%|          | 122/33698 [02:06<9:39:38,  1.04s/it]"
     ]
    },
    {
     "name": "stdout",
     "output_type": "stream",
     "text": [
      "Debugging - src content: <selenium.webdriver.remote.webelement.WebElement (session=\"5b06b3d12ca3a76e5c613afa896de233\", element=\"9E340076E16B0B12E9EB60FAF1C429D4_element_59285\")>\n",
      "Debugging - src content: https://taas.koroad.or.kr/gis36/TAAS/wms?LAYERS=GNRL_GIS_ACDNT_INFO_NON&STYLES=&FORMAT=image/png&TRANSPARENT=TRUE&TILED=false&TILESORIGIN=-30000,-60000&PROJECTION=EPSG:5179&DISPLAYPROJECTION=EPSG:5181&TRANSFORM=EPSG:5181&SERVICE=WMS&VERSION=1.1.1&REQUEST=GetMap&CQL_FILTER=(engn_code='00') and (acdnt_year between '2022' and '2022')  and (legaldong_code ilike '4146%') and (( acdnt_gae_code = '01') or ( acdnt_gae_code = '02') or ( acdnt_gae_code = '03') or ( acdnt_gae_code = '04')) and (( road_type = '6'))&SRS=EPSG:5181&BBOX=158007.30976667,395997.53005473,260279.30976667,455837.53005473&WIDTH=1598&HEIGHT=935\n",
      "src_split : ['https://taas.koroad.or.kr/gis36/TAAS/wms?LAYERS=GNRL_GIS_ACDNT_INFO_NON', 'STYLES=', 'FORMAT=image/png', 'TRANSPARENT=TRUE', 'TILED=false', 'TILESORIGIN=-30000,-60000', 'PROJECTION=EPSG:5179', 'DISPLAYPROJECTION=EPSG:5181', 'TRANSFORM=EPSG:5181', 'SERVICE=WMS', 'VERSION=1.1.1', 'REQUEST=GetMap', \"CQL_FILTER=(engn_code='00') and (acdnt_year between '2022' and '2022')  and (legaldong_code ilike '4146%') and (( acdnt_gae_code = '01') or ( acdnt_gae_code = '02') or ( acdnt_gae_code = '03') or ( acdnt_gae_code = '04')) and (( road_type = '6'))\", 'SRS=EPSG:5181', 'BBOX=158007.30976667,395997.53005473,260279.30976667,455837.53005473', 'WIDTH=1598', 'HEIGHT=935']\n",
      "Debugging - src_split:\n",
      "https://taas.koroad.or.kr/gis36/TAAS/wms?LAYERS=GNRL_GIS_ACDNT_INFO_NON\n",
      "STYLES=\n",
      "FORMAT=image/png\n",
      "TRANSPARENT=TRUE\n",
      "TILED=false\n",
      "TILESORIGIN=-30000,-60000\n",
      "PROJECTION=EPSG:5179\n",
      "DISPLAYPROJECTION=EPSG:5181\n",
      "TRANSFORM=EPSG:5181\n",
      "SERVICE=WMS\n",
      "VERSION=1.1.1\n",
      "REQUEST=GetMap\n",
      "CQL_FILTER=(engn_code='00') and (acdnt_year between '2022' and '2022')  and (legaldong_code ilike '4146%') and (( acdnt_gae_code = '01') or ( acdnt_gae_code = '02') or ( acdnt_gae_code = '03') or ( acdnt_gae_code = '04')) and (( road_type = '6'))\n",
      "SRS=EPSG:5181\n",
      "BBOX=158007.30976667,395997.53005473,260279.30976667,455837.53005473\n",
      "WIDTH=1598\n",
      "HEIGHT=935\n",
      "bbox_text : 158007.30976667,395997.53005473,260279.30976667,455837.53005473\n"
     ]
    },
    {
     "name": "stderr",
     "output_type": "stream",
     "text": [
      "  0%|          | 123/33698 [02:07<9:39:15,  1.04s/it]"
     ]
    },
    {
     "name": "stdout",
     "output_type": "stream",
     "text": [
      "Debugging - src content: <selenium.webdriver.remote.webelement.WebElement (session=\"5b06b3d12ca3a76e5c613afa896de233\", element=\"9E340076E16B0B12E9EB60FAF1C429D4_element_59735\")>\n",
      "Debugging - src content: https://taas.koroad.or.kr/gis36/TAAS/wms?LAYERS=GNRL_GIS_ACDNT_INFO_NON&STYLES=&FORMAT=image/png&TRANSPARENT=TRUE&TILED=false&TILESORIGIN=-30000,-60000&PROJECTION=EPSG:5179&DISPLAYPROJECTION=EPSG:5181&TRANSFORM=EPSG:5181&SERVICE=WMS&VERSION=1.1.1&REQUEST=GetMap&CQL_FILTER=(engn_code='00') and (acdnt_year between '2022' and '2022')  and (legaldong_code ilike '4146%') and (( acdnt_gae_code = '01') or ( acdnt_gae_code = '02') or ( acdnt_gae_code = '03') or ( acdnt_gae_code = '04')) and (( road_type = '6'))&SRS=EPSG:5181&BBOX=157960.81616411,383974.4785809,260232.81616411,443814.4785809&WIDTH=1598&HEIGHT=935\n",
      "src_split : ['https://taas.koroad.or.kr/gis36/TAAS/wms?LAYERS=GNRL_GIS_ACDNT_INFO_NON', 'STYLES=', 'FORMAT=image/png', 'TRANSPARENT=TRUE', 'TILED=false', 'TILESORIGIN=-30000,-60000', 'PROJECTION=EPSG:5179', 'DISPLAYPROJECTION=EPSG:5181', 'TRANSFORM=EPSG:5181', 'SERVICE=WMS', 'VERSION=1.1.1', 'REQUEST=GetMap', \"CQL_FILTER=(engn_code='00') and (acdnt_year between '2022' and '2022')  and (legaldong_code ilike '4146%') and (( acdnt_gae_code = '01') or ( acdnt_gae_code = '02') or ( acdnt_gae_code = '03') or ( acdnt_gae_code = '04')) and (( road_type = '6'))\", 'SRS=EPSG:5181', 'BBOX=157960.81616411,383974.4785809,260232.81616411,443814.4785809', 'WIDTH=1598', 'HEIGHT=935']\n",
      "Debugging - src_split:\n",
      "https://taas.koroad.or.kr/gis36/TAAS/wms?LAYERS=GNRL_GIS_ACDNT_INFO_NON\n",
      "STYLES=\n",
      "FORMAT=image/png\n",
      "TRANSPARENT=TRUE\n",
      "TILED=false\n",
      "TILESORIGIN=-30000,-60000\n",
      "PROJECTION=EPSG:5179\n",
      "DISPLAYPROJECTION=EPSG:5181\n",
      "TRANSFORM=EPSG:5181\n",
      "SERVICE=WMS\n",
      "VERSION=1.1.1\n",
      "REQUEST=GetMap\n",
      "CQL_FILTER=(engn_code='00') and (acdnt_year between '2022' and '2022')  and (legaldong_code ilike '4146%') and (( acdnt_gae_code = '01') or ( acdnt_gae_code = '02') or ( acdnt_gae_code = '03') or ( acdnt_gae_code = '04')) and (( road_type = '6'))\n",
      "SRS=EPSG:5181\n",
      "BBOX=157960.81616411,383974.4785809,260232.81616411,443814.4785809\n",
      "WIDTH=1598\n",
      "HEIGHT=935\n",
      "bbox_text : 157960.81616411,383974.4785809,260232.81616411,443814.4785809\n"
     ]
    },
    {
     "name": "stderr",
     "output_type": "stream",
     "text": [
      "  0%|          | 124/33698 [02:08<9:38:34,  1.03s/it]"
     ]
    },
    {
     "name": "stdout",
     "output_type": "stream",
     "text": [
      "Debugging - src content: <selenium.webdriver.remote.webelement.WebElement (session=\"5b06b3d12ca3a76e5c613afa896de233\", element=\"9E340076E16B0B12E9EB60FAF1C429D4_element_60175\")>\n",
      "Debugging - src content: https://taas.koroad.or.kr/gis36/TAAS/wms?LAYERS=GNRL_GIS_ACDNT_INFO_NON&STYLES=&FORMAT=image/png&TRANSPARENT=TRUE&TILED=false&TILESORIGIN=-30000,-60000&PROJECTION=EPSG:5179&DISPLAYPROJECTION=EPSG:5181&TRANSFORM=EPSG:5181&SERVICE=WMS&VERSION=1.1.1&REQUEST=GetMap&CQL_FILTER=(engn_code='00') and (acdnt_year between '2022' and '2022')  and (legaldong_code ilike '4146%') and (( acdnt_gae_code = '01') or ( acdnt_gae_code = '02') or ( acdnt_gae_code = '03') or ( acdnt_gae_code = '04')) and (( road_type = '6'))&SRS=EPSG:5181&BBOX=158214.35291458,385218.31392873,260486.35291458,445058.31392873&WIDTH=1598&HEIGHT=935\n",
      "src_split : ['https://taas.koroad.or.kr/gis36/TAAS/wms?LAYERS=GNRL_GIS_ACDNT_INFO_NON', 'STYLES=', 'FORMAT=image/png', 'TRANSPARENT=TRUE', 'TILED=false', 'TILESORIGIN=-30000,-60000', 'PROJECTION=EPSG:5179', 'DISPLAYPROJECTION=EPSG:5181', 'TRANSFORM=EPSG:5181', 'SERVICE=WMS', 'VERSION=1.1.1', 'REQUEST=GetMap', \"CQL_FILTER=(engn_code='00') and (acdnt_year between '2022' and '2022')  and (legaldong_code ilike '4146%') and (( acdnt_gae_code = '01') or ( acdnt_gae_code = '02') or ( acdnt_gae_code = '03') or ( acdnt_gae_code = '04')) and (( road_type = '6'))\", 'SRS=EPSG:5181', 'BBOX=158214.35291458,385218.31392873,260486.35291458,445058.31392873', 'WIDTH=1598', 'HEIGHT=935']\n",
      "Debugging - src_split:\n",
      "https://taas.koroad.or.kr/gis36/TAAS/wms?LAYERS=GNRL_GIS_ACDNT_INFO_NON\n",
      "STYLES=\n",
      "FORMAT=image/png\n",
      "TRANSPARENT=TRUE\n",
      "TILED=false\n",
      "TILESORIGIN=-30000,-60000\n",
      "PROJECTION=EPSG:5179\n",
      "DISPLAYPROJECTION=EPSG:5181\n",
      "TRANSFORM=EPSG:5181\n",
      "SERVICE=WMS\n",
      "VERSION=1.1.1\n",
      "REQUEST=GetMap\n",
      "CQL_FILTER=(engn_code='00') and (acdnt_year between '2022' and '2022')  and (legaldong_code ilike '4146%') and (( acdnt_gae_code = '01') or ( acdnt_gae_code = '02') or ( acdnt_gae_code = '03') or ( acdnt_gae_code = '04')) and (( road_type = '6'))\n",
      "SRS=EPSG:5181\n",
      "BBOX=158214.35291458,385218.31392873,260486.35291458,445058.31392873\n",
      "WIDTH=1598\n",
      "HEIGHT=935\n",
      "bbox_text : 158214.35291458,385218.31392873,260486.35291458,445058.31392873\n"
     ]
    },
    {
     "name": "stderr",
     "output_type": "stream",
     "text": [
      "  0%|          | 125/33698 [02:09<9:38:25,  1.03s/it]"
     ]
    },
    {
     "name": "stdout",
     "output_type": "stream",
     "text": [
      "Debugging - src content: <selenium.webdriver.remote.webelement.WebElement (session=\"5b06b3d12ca3a76e5c613afa896de233\", element=\"9E340076E16B0B12E9EB60FAF1C429D4_element_60615\")>\n",
      "Debugging - src content: https://taas.koroad.or.kr/gis36/TAAS/wms?LAYERS=GNRL_GIS_ACDNT_INFO_NON&STYLES=&FORMAT=image/png&TRANSPARENT=TRUE&TILED=false&TILESORIGIN=-30000,-60000&PROJECTION=EPSG:5179&DISPLAYPROJECTION=EPSG:5181&TRANSFORM=EPSG:5181&SERVICE=WMS&VERSION=1.1.1&REQUEST=GetMap&CQL_FILTER=(engn_code='00') and (acdnt_year between '2022' and '2022')  and (legaldong_code ilike '4146%') and (( acdnt_gae_code = '01') or ( acdnt_gae_code = '02') or ( acdnt_gae_code = '03') or ( acdnt_gae_code = '04')) and (( road_type = '6'))&SRS=EPSG:5181&BBOX=158203.44390487,385200.24912246,260475.44390487,445040.24912246&WIDTH=1598&HEIGHT=935\n",
      "src_split : ['https://taas.koroad.or.kr/gis36/TAAS/wms?LAYERS=GNRL_GIS_ACDNT_INFO_NON', 'STYLES=', 'FORMAT=image/png', 'TRANSPARENT=TRUE', 'TILED=false', 'TILESORIGIN=-30000,-60000', 'PROJECTION=EPSG:5179', 'DISPLAYPROJECTION=EPSG:5181', 'TRANSFORM=EPSG:5181', 'SERVICE=WMS', 'VERSION=1.1.1', 'REQUEST=GetMap', \"CQL_FILTER=(engn_code='00') and (acdnt_year between '2022' and '2022')  and (legaldong_code ilike '4146%') and (( acdnt_gae_code = '01') or ( acdnt_gae_code = '02') or ( acdnt_gae_code = '03') or ( acdnt_gae_code = '04')) and (( road_type = '6'))\", 'SRS=EPSG:5181', 'BBOX=158203.44390487,385200.24912246,260475.44390487,445040.24912246', 'WIDTH=1598', 'HEIGHT=935']\n",
      "Debugging - src_split:\n",
      "https://taas.koroad.or.kr/gis36/TAAS/wms?LAYERS=GNRL_GIS_ACDNT_INFO_NON\n",
      "STYLES=\n",
      "FORMAT=image/png\n",
      "TRANSPARENT=TRUE\n",
      "TILED=false\n",
      "TILESORIGIN=-30000,-60000\n",
      "PROJECTION=EPSG:5179\n",
      "DISPLAYPROJECTION=EPSG:5181\n",
      "TRANSFORM=EPSG:5181\n",
      "SERVICE=WMS\n",
      "VERSION=1.1.1\n",
      "REQUEST=GetMap\n",
      "CQL_FILTER=(engn_code='00') and (acdnt_year between '2022' and '2022')  and (legaldong_code ilike '4146%') and (( acdnt_gae_code = '01') or ( acdnt_gae_code = '02') or ( acdnt_gae_code = '03') or ( acdnt_gae_code = '04')) and (( road_type = '6'))\n",
      "SRS=EPSG:5181\n",
      "BBOX=158203.44390487,385200.24912246,260475.44390487,445040.24912246\n",
      "WIDTH=1598\n",
      "HEIGHT=935\n",
      "bbox_text : 158203.44390487,385200.24912246,260475.44390487,445040.24912246\n"
     ]
    },
    {
     "name": "stderr",
     "output_type": "stream",
     "text": [
      "  0%|          | 126/33698 [02:10<9:39:02,  1.03s/it]"
     ]
    },
    {
     "name": "stdout",
     "output_type": "stream",
     "text": [
      "Debugging - src content: <selenium.webdriver.remote.webelement.WebElement (session=\"5b06b3d12ca3a76e5c613afa896de233\", element=\"9E340076E16B0B12E9EB60FAF1C429D4_element_61065\")>\n",
      "Debugging - src content: https://taas.koroad.or.kr/gis36/TAAS/wms?LAYERS=GNRL_GIS_ACDNT_INFO_NON&STYLES=&FORMAT=image/png&TRANSPARENT=TRUE&TILED=false&TILESORIGIN=-30000,-60000&PROJECTION=EPSG:5179&DISPLAYPROJECTION=EPSG:5181&TRANSFORM=EPSG:5181&SERVICE=WMS&VERSION=1.1.1&REQUEST=GetMap&CQL_FILTER=(engn_code='00') and (acdnt_year between '2022' and '2022')  and (legaldong_code ilike '4146%') and (( acdnt_gae_code = '01') or ( acdnt_gae_code = '02') or ( acdnt_gae_code = '03') or ( acdnt_gae_code = '04')) and (( road_type = '6'))&SRS=EPSG:5181&BBOX=157968.49294969,388771.43625653,260240.49294969,448611.43625653&WIDTH=1598&HEIGHT=935\n",
      "src_split : ['https://taas.koroad.or.kr/gis36/TAAS/wms?LAYERS=GNRL_GIS_ACDNT_INFO_NON', 'STYLES=', 'FORMAT=image/png', 'TRANSPARENT=TRUE', 'TILED=false', 'TILESORIGIN=-30000,-60000', 'PROJECTION=EPSG:5179', 'DISPLAYPROJECTION=EPSG:5181', 'TRANSFORM=EPSG:5181', 'SERVICE=WMS', 'VERSION=1.1.1', 'REQUEST=GetMap', \"CQL_FILTER=(engn_code='00') and (acdnt_year between '2022' and '2022')  and (legaldong_code ilike '4146%') and (( acdnt_gae_code = '01') or ( acdnt_gae_code = '02') or ( acdnt_gae_code = '03') or ( acdnt_gae_code = '04')) and (( road_type = '6'))\", 'SRS=EPSG:5181', 'BBOX=157968.49294969,388771.43625653,260240.49294969,448611.43625653', 'WIDTH=1598', 'HEIGHT=935']\n",
      "Debugging - src_split:\n",
      "https://taas.koroad.or.kr/gis36/TAAS/wms?LAYERS=GNRL_GIS_ACDNT_INFO_NON\n",
      "STYLES=\n",
      "FORMAT=image/png\n",
      "TRANSPARENT=TRUE\n",
      "TILED=false\n",
      "TILESORIGIN=-30000,-60000\n",
      "PROJECTION=EPSG:5179\n",
      "DISPLAYPROJECTION=EPSG:5181\n",
      "TRANSFORM=EPSG:5181\n",
      "SERVICE=WMS\n",
      "VERSION=1.1.1\n",
      "REQUEST=GetMap\n",
      "CQL_FILTER=(engn_code='00') and (acdnt_year between '2022' and '2022')  and (legaldong_code ilike '4146%') and (( acdnt_gae_code = '01') or ( acdnt_gae_code = '02') or ( acdnt_gae_code = '03') or ( acdnt_gae_code = '04')) and (( road_type = '6'))\n",
      "SRS=EPSG:5181\n",
      "BBOX=157968.49294969,388771.43625653,260240.49294969,448611.43625653\n",
      "WIDTH=1598\n",
      "HEIGHT=935\n",
      "bbox_text : 157968.49294969,388771.43625653,260240.49294969,448611.43625653\n"
     ]
    },
    {
     "name": "stderr",
     "output_type": "stream",
     "text": [
      "  0%|          | 127/33698 [02:11<9:39:18,  1.04s/it]"
     ]
    },
    {
     "name": "stdout",
     "output_type": "stream",
     "text": [
      "Debugging - src content: <selenium.webdriver.remote.webelement.WebElement (session=\"5b06b3d12ca3a76e5c613afa896de233\", element=\"9E340076E16B0B12E9EB60FAF1C429D4_element_61505\")>\n",
      "Debugging - src content: https://taas.koroad.or.kr/gis36/TAAS/wms?LAYERS=GNRL_GIS_ACDNT_INFO_NON&STYLES=&FORMAT=image/png&TRANSPARENT=TRUE&TILED=false&TILESORIGIN=-30000,-60000&PROJECTION=EPSG:5179&DISPLAYPROJECTION=EPSG:5181&TRANSFORM=EPSG:5181&SERVICE=WMS&VERSION=1.1.1&REQUEST=GetMap&CQL_FILTER=(engn_code='00') and (acdnt_year between '2022' and '2022')  and (legaldong_code ilike '4146%') and (( acdnt_gae_code = '01') or ( acdnt_gae_code = '02') or ( acdnt_gae_code = '03') or ( acdnt_gae_code = '04')) and (( road_type = '6'))&SRS=EPSG:5181&BBOX=158050.28362955,395816.68508226,260322.28362955,455656.68508226&WIDTH=1598&HEIGHT=935\n",
      "src_split : ['https://taas.koroad.or.kr/gis36/TAAS/wms?LAYERS=GNRL_GIS_ACDNT_INFO_NON', 'STYLES=', 'FORMAT=image/png', 'TRANSPARENT=TRUE', 'TILED=false', 'TILESORIGIN=-30000,-60000', 'PROJECTION=EPSG:5179', 'DISPLAYPROJECTION=EPSG:5181', 'TRANSFORM=EPSG:5181', 'SERVICE=WMS', 'VERSION=1.1.1', 'REQUEST=GetMap', \"CQL_FILTER=(engn_code='00') and (acdnt_year between '2022' and '2022')  and (legaldong_code ilike '4146%') and (( acdnt_gae_code = '01') or ( acdnt_gae_code = '02') or ( acdnt_gae_code = '03') or ( acdnt_gae_code = '04')) and (( road_type = '6'))\", 'SRS=EPSG:5181', 'BBOX=158050.28362955,395816.68508226,260322.28362955,455656.68508226', 'WIDTH=1598', 'HEIGHT=935']\n",
      "Debugging - src_split:\n",
      "https://taas.koroad.or.kr/gis36/TAAS/wms?LAYERS=GNRL_GIS_ACDNT_INFO_NON\n",
      "STYLES=\n",
      "FORMAT=image/png\n",
      "TRANSPARENT=TRUE\n",
      "TILED=false\n",
      "TILESORIGIN=-30000,-60000\n",
      "PROJECTION=EPSG:5179\n",
      "DISPLAYPROJECTION=EPSG:5181\n",
      "TRANSFORM=EPSG:5181\n",
      "SERVICE=WMS\n",
      "VERSION=1.1.1\n",
      "REQUEST=GetMap\n",
      "CQL_FILTER=(engn_code='00') and (acdnt_year between '2022' and '2022')  and (legaldong_code ilike '4146%') and (( acdnt_gae_code = '01') or ( acdnt_gae_code = '02') or ( acdnt_gae_code = '03') or ( acdnt_gae_code = '04')) and (( road_type = '6'))\n",
      "SRS=EPSG:5181\n",
      "BBOX=158050.28362955,395816.68508226,260322.28362955,455656.68508226\n",
      "WIDTH=1598\n",
      "HEIGHT=935\n",
      "bbox_text : 158050.28362955,395816.68508226,260322.28362955,455656.68508226\n"
     ]
    },
    {
     "name": "stderr",
     "output_type": "stream",
     "text": [
      "  0%|          | 128/33698 [02:12<9:38:13,  1.03s/it]"
     ]
    },
    {
     "name": "stdout",
     "output_type": "stream",
     "text": [
      "Debugging - src content: <selenium.webdriver.remote.webelement.WebElement (session=\"5b06b3d12ca3a76e5c613afa896de233\", element=\"9E340076E16B0B12E9EB60FAF1C429D4_element_61945\")>\n",
      "Debugging - src content: https://taas.koroad.or.kr/gis36/TAAS/wms?LAYERS=GNRL_GIS_ACDNT_INFO_NON&STYLES=&FORMAT=image/png&TRANSPARENT=TRUE&TILED=false&TILESORIGIN=-30000,-60000&PROJECTION=EPSG:5179&DISPLAYPROJECTION=EPSG:5181&TRANSFORM=EPSG:5181&SERVICE=WMS&VERSION=1.1.1&REQUEST=GetMap&CQL_FILTER=(engn_code='00') and (acdnt_year between '2022' and '2022')  and (legaldong_code ilike '4146%') and (( acdnt_gae_code = '01') or ( acdnt_gae_code = '02') or ( acdnt_gae_code = '03') or ( acdnt_gae_code = '04')) and (( road_type = '6'))&SRS=EPSG:5181&BBOX=158088.66005198,390830.89444404,260360.66005198,450670.89444404&WIDTH=1598&HEIGHT=935\n",
      "src_split : ['https://taas.koroad.or.kr/gis36/TAAS/wms?LAYERS=GNRL_GIS_ACDNT_INFO_NON', 'STYLES=', 'FORMAT=image/png', 'TRANSPARENT=TRUE', 'TILED=false', 'TILESORIGIN=-30000,-60000', 'PROJECTION=EPSG:5179', 'DISPLAYPROJECTION=EPSG:5181', 'TRANSFORM=EPSG:5181', 'SERVICE=WMS', 'VERSION=1.1.1', 'REQUEST=GetMap', \"CQL_FILTER=(engn_code='00') and (acdnt_year between '2022' and '2022')  and (legaldong_code ilike '4146%') and (( acdnt_gae_code = '01') or ( acdnt_gae_code = '02') or ( acdnt_gae_code = '03') or ( acdnt_gae_code = '04')) and (( road_type = '6'))\", 'SRS=EPSG:5181', 'BBOX=158088.66005198,390830.89444404,260360.66005198,450670.89444404', 'WIDTH=1598', 'HEIGHT=935']\n",
      "Debugging - src_split:\n",
      "https://taas.koroad.or.kr/gis36/TAAS/wms?LAYERS=GNRL_GIS_ACDNT_INFO_NON\n",
      "STYLES=\n",
      "FORMAT=image/png\n",
      "TRANSPARENT=TRUE\n",
      "TILED=false\n",
      "TILESORIGIN=-30000,-60000\n",
      "PROJECTION=EPSG:5179\n",
      "DISPLAYPROJECTION=EPSG:5181\n",
      "TRANSFORM=EPSG:5181\n",
      "SERVICE=WMS\n",
      "VERSION=1.1.1\n",
      "REQUEST=GetMap\n",
      "CQL_FILTER=(engn_code='00') and (acdnt_year between '2022' and '2022')  and (legaldong_code ilike '4146%') and (( acdnt_gae_code = '01') or ( acdnt_gae_code = '02') or ( acdnt_gae_code = '03') or ( acdnt_gae_code = '04')) and (( road_type = '6'))\n",
      "SRS=EPSG:5181\n",
      "BBOX=158088.66005198,390830.89444404,260360.66005198,450670.89444404\n",
      "WIDTH=1598\n",
      "HEIGHT=935\n",
      "bbox_text : 158088.66005198,390830.89444404,260360.66005198,450670.89444404\n"
     ]
    },
    {
     "name": "stderr",
     "output_type": "stream",
     "text": [
      "  0%|          | 129/33698 [02:13<9:38:17,  1.03s/it]"
     ]
    },
    {
     "name": "stdout",
     "output_type": "stream",
     "text": [
      "Debugging - src content: <selenium.webdriver.remote.webelement.WebElement (session=\"5b06b3d12ca3a76e5c613afa896de233\", element=\"9E340076E16B0B12E9EB60FAF1C429D4_element_62385\")>\n",
      "Debugging - src content: https://taas.koroad.or.kr/gis36/TAAS/wms?LAYERS=GNRL_GIS_ACDNT_INFO_NON&STYLES=&FORMAT=image/png&TRANSPARENT=TRUE&TILED=false&TILESORIGIN=-30000,-60000&PROJECTION=EPSG:5179&DISPLAYPROJECTION=EPSG:5181&TRANSFORM=EPSG:5181&SERVICE=WMS&VERSION=1.1.1&REQUEST=GetMap&CQL_FILTER=(engn_code='00') and (acdnt_year between '2022' and '2022')  and (legaldong_code ilike '4146%') and (( acdnt_gae_code = '01') or ( acdnt_gae_code = '02') or ( acdnt_gae_code = '03') or ( acdnt_gae_code = '04')) and (( road_type = '6'))&SRS=EPSG:5181&BBOX=158026.92613787,395315.36108173,260298.92613787,455155.36108173&WIDTH=1598&HEIGHT=935\n",
      "src_split : ['https://taas.koroad.or.kr/gis36/TAAS/wms?LAYERS=GNRL_GIS_ACDNT_INFO_NON', 'STYLES=', 'FORMAT=image/png', 'TRANSPARENT=TRUE', 'TILED=false', 'TILESORIGIN=-30000,-60000', 'PROJECTION=EPSG:5179', 'DISPLAYPROJECTION=EPSG:5181', 'TRANSFORM=EPSG:5181', 'SERVICE=WMS', 'VERSION=1.1.1', 'REQUEST=GetMap', \"CQL_FILTER=(engn_code='00') and (acdnt_year between '2022' and '2022')  and (legaldong_code ilike '4146%') and (( acdnt_gae_code = '01') or ( acdnt_gae_code = '02') or ( acdnt_gae_code = '03') or ( acdnt_gae_code = '04')) and (( road_type = '6'))\", 'SRS=EPSG:5181', 'BBOX=158026.92613787,395315.36108173,260298.92613787,455155.36108173', 'WIDTH=1598', 'HEIGHT=935']\n",
      "Debugging - src_split:\n",
      "https://taas.koroad.or.kr/gis36/TAAS/wms?LAYERS=GNRL_GIS_ACDNT_INFO_NON\n",
      "STYLES=\n",
      "FORMAT=image/png\n",
      "TRANSPARENT=TRUE\n",
      "TILED=false\n",
      "TILESORIGIN=-30000,-60000\n",
      "PROJECTION=EPSG:5179\n",
      "DISPLAYPROJECTION=EPSG:5181\n",
      "TRANSFORM=EPSG:5181\n",
      "SERVICE=WMS\n",
      "VERSION=1.1.1\n",
      "REQUEST=GetMap\n",
      "CQL_FILTER=(engn_code='00') and (acdnt_year between '2022' and '2022')  and (legaldong_code ilike '4146%') and (( acdnt_gae_code = '01') or ( acdnt_gae_code = '02') or ( acdnt_gae_code = '03') or ( acdnt_gae_code = '04')) and (( road_type = '6'))\n",
      "SRS=EPSG:5181\n",
      "BBOX=158026.92613787,395315.36108173,260298.92613787,455155.36108173\n",
      "WIDTH=1598\n",
      "HEIGHT=935\n",
      "bbox_text : 158026.92613787,395315.36108173,260298.92613787,455155.36108173\n"
     ]
    },
    {
     "name": "stderr",
     "output_type": "stream",
     "text": [
      "  0%|          | 130/33698 [02:14<9:36:49,  1.03s/it]"
     ]
    },
    {
     "name": "stdout",
     "output_type": "stream",
     "text": [
      "Debugging - src content: <selenium.webdriver.remote.webelement.WebElement (session=\"5b06b3d12ca3a76e5c613afa896de233\", element=\"9E340076E16B0B12E9EB60FAF1C429D4_element_62825\")>\n",
      "Debugging - src content: https://taas.koroad.or.kr/gis36/TAAS/wms?LAYERS=GNRL_GIS_ACDNT_INFO_NON&STYLES=&FORMAT=image/png&TRANSPARENT=TRUE&TILED=false&TILESORIGIN=-30000,-60000&PROJECTION=EPSG:5179&DISPLAYPROJECTION=EPSG:5181&TRANSFORM=EPSG:5181&SERVICE=WMS&VERSION=1.1.1&REQUEST=GetMap&CQL_FILTER=(engn_code='00') and (acdnt_year between '2022' and '2022')  and (legaldong_code ilike '4146%') and (( acdnt_gae_code = '01') or ( acdnt_gae_code = '02') or ( acdnt_gae_code = '03') or ( acdnt_gae_code = '04')) and (( road_type = '6'))&SRS=EPSG:5181&BBOX=157954.46131125,388776.3641071,260226.46131125,448616.3641071&WIDTH=1598&HEIGHT=935\n",
      "src_split : ['https://taas.koroad.or.kr/gis36/TAAS/wms?LAYERS=GNRL_GIS_ACDNT_INFO_NON', 'STYLES=', 'FORMAT=image/png', 'TRANSPARENT=TRUE', 'TILED=false', 'TILESORIGIN=-30000,-60000', 'PROJECTION=EPSG:5179', 'DISPLAYPROJECTION=EPSG:5181', 'TRANSFORM=EPSG:5181', 'SERVICE=WMS', 'VERSION=1.1.1', 'REQUEST=GetMap', \"CQL_FILTER=(engn_code='00') and (acdnt_year between '2022' and '2022')  and (legaldong_code ilike '4146%') and (( acdnt_gae_code = '01') or ( acdnt_gae_code = '02') or ( acdnt_gae_code = '03') or ( acdnt_gae_code = '04')) and (( road_type = '6'))\", 'SRS=EPSG:5181', 'BBOX=157954.46131125,388776.3641071,260226.46131125,448616.3641071', 'WIDTH=1598', 'HEIGHT=935']\n",
      "Debugging - src_split:\n",
      "https://taas.koroad.or.kr/gis36/TAAS/wms?LAYERS=GNRL_GIS_ACDNT_INFO_NON\n",
      "STYLES=\n",
      "FORMAT=image/png\n",
      "TRANSPARENT=TRUE\n",
      "TILED=false\n",
      "TILESORIGIN=-30000,-60000\n",
      "PROJECTION=EPSG:5179\n",
      "DISPLAYPROJECTION=EPSG:5181\n",
      "TRANSFORM=EPSG:5181\n",
      "SERVICE=WMS\n",
      "VERSION=1.1.1\n",
      "REQUEST=GetMap\n",
      "CQL_FILTER=(engn_code='00') and (acdnt_year between '2022' and '2022')  and (legaldong_code ilike '4146%') and (( acdnt_gae_code = '01') or ( acdnt_gae_code = '02') or ( acdnt_gae_code = '03') or ( acdnt_gae_code = '04')) and (( road_type = '6'))\n",
      "SRS=EPSG:5181\n",
      "BBOX=157954.46131125,388776.3641071,260226.46131125,448616.3641071\n",
      "WIDTH=1598\n",
      "HEIGHT=935\n",
      "bbox_text : 157954.46131125,388776.3641071,260226.46131125,448616.3641071\n"
     ]
    },
    {
     "name": "stderr",
     "output_type": "stream",
     "text": [
      "  0%|          | 131/33698 [02:15<9:36:48,  1.03s/it]"
     ]
    },
    {
     "name": "stdout",
     "output_type": "stream",
     "text": [
      "Debugging - src content: <selenium.webdriver.remote.webelement.WebElement (session=\"5b06b3d12ca3a76e5c613afa896de233\", element=\"9E340076E16B0B12E9EB60FAF1C429D4_element_63265\")>\n",
      "Debugging - src content: https://taas.koroad.or.kr/gis36/TAAS/wms?LAYERS=GNRL_GIS_ACDNT_INFO_NON&STYLES=&FORMAT=image/png&TRANSPARENT=TRUE&TILED=false&TILESORIGIN=-30000,-60000&PROJECTION=EPSG:5179&DISPLAYPROJECTION=EPSG:5181&TRANSFORM=EPSG:5181&SERVICE=WMS&VERSION=1.1.1&REQUEST=GetMap&CQL_FILTER=(engn_code='00') and (acdnt_year between '2022' and '2022')  and (legaldong_code ilike '4146%') and (( acdnt_gae_code = '01') or ( acdnt_gae_code = '02') or ( acdnt_gae_code = '03') or ( acdnt_gae_code = '04')) and (( road_type = '6'))&SRS=EPSG:5181&BBOX=156873.45443535,391345.67780667,259145.45443535,451185.67780667&WIDTH=1598&HEIGHT=935\n",
      "src_split : ['https://taas.koroad.or.kr/gis36/TAAS/wms?LAYERS=GNRL_GIS_ACDNT_INFO_NON', 'STYLES=', 'FORMAT=image/png', 'TRANSPARENT=TRUE', 'TILED=false', 'TILESORIGIN=-30000,-60000', 'PROJECTION=EPSG:5179', 'DISPLAYPROJECTION=EPSG:5181', 'TRANSFORM=EPSG:5181', 'SERVICE=WMS', 'VERSION=1.1.1', 'REQUEST=GetMap', \"CQL_FILTER=(engn_code='00') and (acdnt_year between '2022' and '2022')  and (legaldong_code ilike '4146%') and (( acdnt_gae_code = '01') or ( acdnt_gae_code = '02') or ( acdnt_gae_code = '03') or ( acdnt_gae_code = '04')) and (( road_type = '6'))\", 'SRS=EPSG:5181', 'BBOX=156873.45443535,391345.67780667,259145.45443535,451185.67780667', 'WIDTH=1598', 'HEIGHT=935']\n",
      "Debugging - src_split:\n",
      "https://taas.koroad.or.kr/gis36/TAAS/wms?LAYERS=GNRL_GIS_ACDNT_INFO_NON\n",
      "STYLES=\n",
      "FORMAT=image/png\n",
      "TRANSPARENT=TRUE\n",
      "TILED=false\n",
      "TILESORIGIN=-30000,-60000\n",
      "PROJECTION=EPSG:5179\n",
      "DISPLAYPROJECTION=EPSG:5181\n",
      "TRANSFORM=EPSG:5181\n",
      "SERVICE=WMS\n",
      "VERSION=1.1.1\n",
      "REQUEST=GetMap\n",
      "CQL_FILTER=(engn_code='00') and (acdnt_year between '2022' and '2022')  and (legaldong_code ilike '4146%') and (( acdnt_gae_code = '01') or ( acdnt_gae_code = '02') or ( acdnt_gae_code = '03') or ( acdnt_gae_code = '04')) and (( road_type = '6'))\n",
      "SRS=EPSG:5181\n",
      "BBOX=156873.45443535,391345.67780667,259145.45443535,451185.67780667\n",
      "WIDTH=1598\n",
      "HEIGHT=935\n",
      "bbox_text : 156873.45443535,391345.67780667,259145.45443535,451185.67780667\n"
     ]
    },
    {
     "name": "stderr",
     "output_type": "stream",
     "text": [
      "  0%|          | 132/33698 [02:16<9:37:13,  1.03s/it]"
     ]
    },
    {
     "name": "stdout",
     "output_type": "stream",
     "text": [
      "Debugging - src content: <selenium.webdriver.remote.webelement.WebElement (session=\"5b06b3d12ca3a76e5c613afa896de233\", element=\"9E340076E16B0B12E9EB60FAF1C429D4_element_63705\")>\n",
      "Debugging - src content: https://taas.koroad.or.kr/gis36/TAAS/wms?LAYERS=GNRL_GIS_ACDNT_INFO_NON&STYLES=&FORMAT=image/png&TRANSPARENT=TRUE&TILED=false&TILESORIGIN=-30000,-60000&PROJECTION=EPSG:5179&DISPLAYPROJECTION=EPSG:5181&TRANSFORM=EPSG:5181&SERVICE=WMS&VERSION=1.1.1&REQUEST=GetMap&CQL_FILTER=(engn_code='00') and (acdnt_year between '2022' and '2022')  and (legaldong_code ilike '4146%') and (( acdnt_gae_code = '01') or ( acdnt_gae_code = '02') or ( acdnt_gae_code = '03') or ( acdnt_gae_code = '04')) and (( road_type = '6'))&SRS=EPSG:5181&BBOX=158049.8764916,390408.52062831,260321.8764916,450248.52062831&WIDTH=1598&HEIGHT=935\n",
      "src_split : ['https://taas.koroad.or.kr/gis36/TAAS/wms?LAYERS=GNRL_GIS_ACDNT_INFO_NON', 'STYLES=', 'FORMAT=image/png', 'TRANSPARENT=TRUE', 'TILED=false', 'TILESORIGIN=-30000,-60000', 'PROJECTION=EPSG:5179', 'DISPLAYPROJECTION=EPSG:5181', 'TRANSFORM=EPSG:5181', 'SERVICE=WMS', 'VERSION=1.1.1', 'REQUEST=GetMap', \"CQL_FILTER=(engn_code='00') and (acdnt_year between '2022' and '2022')  and (legaldong_code ilike '4146%') and (( acdnt_gae_code = '01') or ( acdnt_gae_code = '02') or ( acdnt_gae_code = '03') or ( acdnt_gae_code = '04')) and (( road_type = '6'))\", 'SRS=EPSG:5181', 'BBOX=158049.8764916,390408.52062831,260321.8764916,450248.52062831', 'WIDTH=1598', 'HEIGHT=935']\n",
      "Debugging - src_split:\n",
      "https://taas.koroad.or.kr/gis36/TAAS/wms?LAYERS=GNRL_GIS_ACDNT_INFO_NON\n",
      "STYLES=\n",
      "FORMAT=image/png\n",
      "TRANSPARENT=TRUE\n",
      "TILED=false\n",
      "TILESORIGIN=-30000,-60000\n",
      "PROJECTION=EPSG:5179\n",
      "DISPLAYPROJECTION=EPSG:5181\n",
      "TRANSFORM=EPSG:5181\n",
      "SERVICE=WMS\n",
      "VERSION=1.1.1\n",
      "REQUEST=GetMap\n",
      "CQL_FILTER=(engn_code='00') and (acdnt_year between '2022' and '2022')  and (legaldong_code ilike '4146%') and (( acdnt_gae_code = '01') or ( acdnt_gae_code = '02') or ( acdnt_gae_code = '03') or ( acdnt_gae_code = '04')) and (( road_type = '6'))\n",
      "SRS=EPSG:5181\n",
      "BBOX=158049.8764916,390408.52062831,260321.8764916,450248.52062831\n",
      "WIDTH=1598\n",
      "HEIGHT=935\n",
      "bbox_text : 158049.8764916,390408.52062831,260321.8764916,450248.52062831\n"
     ]
    },
    {
     "name": "stderr",
     "output_type": "stream",
     "text": [
      "  0%|          | 133/33698 [02:17<9:38:42,  1.03s/it]"
     ]
    },
    {
     "name": "stdout",
     "output_type": "stream",
     "text": [
      "Debugging - src content: <selenium.webdriver.remote.webelement.WebElement (session=\"5b06b3d12ca3a76e5c613afa896de233\", element=\"9E340076E16B0B12E9EB60FAF1C429D4_element_64162\")>\n",
      "Debugging - src content: https://taas.koroad.or.kr/gis36/TAAS/wms?LAYERS=GNRL_GIS_ACDNT_INFO_NON&STYLES=&FORMAT=image/png&TRANSPARENT=TRUE&TILED=false&TILESORIGIN=-30000,-60000&PROJECTION=EPSG:5179&DISPLAYPROJECTION=EPSG:5181&TRANSFORM=EPSG:5181&SERVICE=WMS&VERSION=1.1.1&REQUEST=GetMap&CQL_FILTER=(engn_code='00') and (acdnt_year between '2022' and '2022')  and (legaldong_code ilike '4146%') and (( acdnt_gae_code = '01') or ( acdnt_gae_code = '02') or ( acdnt_gae_code = '03') or ( acdnt_gae_code = '04')) and (( road_type = '6'))&SRS=EPSG:5181&BBOX=166543.541405,388093.45431904,268815.541405,447933.45431904&WIDTH=1598&HEIGHT=935\n",
      "src_split : ['https://taas.koroad.or.kr/gis36/TAAS/wms?LAYERS=GNRL_GIS_ACDNT_INFO_NON', 'STYLES=', 'FORMAT=image/png', 'TRANSPARENT=TRUE', 'TILED=false', 'TILESORIGIN=-30000,-60000', 'PROJECTION=EPSG:5179', 'DISPLAYPROJECTION=EPSG:5181', 'TRANSFORM=EPSG:5181', 'SERVICE=WMS', 'VERSION=1.1.1', 'REQUEST=GetMap', \"CQL_FILTER=(engn_code='00') and (acdnt_year between '2022' and '2022')  and (legaldong_code ilike '4146%') and (( acdnt_gae_code = '01') or ( acdnt_gae_code = '02') or ( acdnt_gae_code = '03') or ( acdnt_gae_code = '04')) and (( road_type = '6'))\", 'SRS=EPSG:5181', 'BBOX=166543.541405,388093.45431904,268815.541405,447933.45431904', 'WIDTH=1598', 'HEIGHT=935']\n",
      "Debugging - src_split:\n",
      "https://taas.koroad.or.kr/gis36/TAAS/wms?LAYERS=GNRL_GIS_ACDNT_INFO_NON\n",
      "STYLES=\n",
      "FORMAT=image/png\n",
      "TRANSPARENT=TRUE\n",
      "TILED=false\n",
      "TILESORIGIN=-30000,-60000\n",
      "PROJECTION=EPSG:5179\n",
      "DISPLAYPROJECTION=EPSG:5181\n",
      "TRANSFORM=EPSG:5181\n",
      "SERVICE=WMS\n",
      "VERSION=1.1.1\n",
      "REQUEST=GetMap\n",
      "CQL_FILTER=(engn_code='00') and (acdnt_year between '2022' and '2022')  and (legaldong_code ilike '4146%') and (( acdnt_gae_code = '01') or ( acdnt_gae_code = '02') or ( acdnt_gae_code = '03') or ( acdnt_gae_code = '04')) and (( road_type = '6'))\n",
      "SRS=EPSG:5181\n",
      "BBOX=166543.541405,388093.45431904,268815.541405,447933.45431904\n",
      "WIDTH=1598\n",
      "HEIGHT=935\n",
      "bbox_text : 166543.541405,388093.45431904,268815.541405,447933.45431904\n"
     ]
    },
    {
     "name": "stderr",
     "output_type": "stream",
     "text": [
      "  0%|          | 134/33698 [02:18<9:39:20,  1.04s/it]"
     ]
    },
    {
     "name": "stdout",
     "output_type": "stream",
     "text": [
      "Debugging - src content: <selenium.webdriver.remote.webelement.WebElement (session=\"5b06b3d12ca3a76e5c613afa896de233\", element=\"9E340076E16B0B12E9EB60FAF1C429D4_element_64619\")>\n",
      "Debugging - src content: https://taas.koroad.or.kr/gis36/TAAS/wms?LAYERS=GNRL_GIS_ACDNT_INFO_NON&STYLES=&FORMAT=image/png&TRANSPARENT=TRUE&TILED=false&TILESORIGIN=-30000,-60000&PROJECTION=EPSG:5179&DISPLAYPROJECTION=EPSG:5181&TRANSFORM=EPSG:5181&SERVICE=WMS&VERSION=1.1.1&REQUEST=GetMap&CQL_FILTER=(engn_code='00') and (acdnt_year between '2022' and '2022')  and (legaldong_code ilike '4146%') and (( acdnt_gae_code = '01') or ( acdnt_gae_code = '02') or ( acdnt_gae_code = '03') or ( acdnt_gae_code = '04')) and (( road_type = '6'))&SRS=EPSG:5181&BBOX=165643.91234842,388710.95494897,267915.91234842,448550.95494897&WIDTH=1598&HEIGHT=935\n",
      "src_split : ['https://taas.koroad.or.kr/gis36/TAAS/wms?LAYERS=GNRL_GIS_ACDNT_INFO_NON', 'STYLES=', 'FORMAT=image/png', 'TRANSPARENT=TRUE', 'TILED=false', 'TILESORIGIN=-30000,-60000', 'PROJECTION=EPSG:5179', 'DISPLAYPROJECTION=EPSG:5181', 'TRANSFORM=EPSG:5181', 'SERVICE=WMS', 'VERSION=1.1.1', 'REQUEST=GetMap', \"CQL_FILTER=(engn_code='00') and (acdnt_year between '2022' and '2022')  and (legaldong_code ilike '4146%') and (( acdnt_gae_code = '01') or ( acdnt_gae_code = '02') or ( acdnt_gae_code = '03') or ( acdnt_gae_code = '04')) and (( road_type = '6'))\", 'SRS=EPSG:5181', 'BBOX=165643.91234842,388710.95494897,267915.91234842,448550.95494897', 'WIDTH=1598', 'HEIGHT=935']\n",
      "Debugging - src_split:\n",
      "https://taas.koroad.or.kr/gis36/TAAS/wms?LAYERS=GNRL_GIS_ACDNT_INFO_NON\n",
      "STYLES=\n",
      "FORMAT=image/png\n",
      "TRANSPARENT=TRUE\n",
      "TILED=false\n",
      "TILESORIGIN=-30000,-60000\n",
      "PROJECTION=EPSG:5179\n",
      "DISPLAYPROJECTION=EPSG:5181\n",
      "TRANSFORM=EPSG:5181\n",
      "SERVICE=WMS\n",
      "VERSION=1.1.1\n",
      "REQUEST=GetMap\n",
      "CQL_FILTER=(engn_code='00') and (acdnt_year between '2022' and '2022')  and (legaldong_code ilike '4146%') and (( acdnt_gae_code = '01') or ( acdnt_gae_code = '02') or ( acdnt_gae_code = '03') or ( acdnt_gae_code = '04')) and (( road_type = '6'))\n",
      "SRS=EPSG:5181\n",
      "BBOX=165643.91234842,388710.95494897,267915.91234842,448550.95494897\n",
      "WIDTH=1598\n",
      "HEIGHT=935\n",
      "bbox_text : 165643.91234842,388710.95494897,267915.91234842,448550.95494897\n"
     ]
    },
    {
     "name": "stderr",
     "output_type": "stream",
     "text": [
      "  0%|          | 135/33698 [02:19<9:39:35,  1.04s/it]"
     ]
    },
    {
     "name": "stdout",
     "output_type": "stream",
     "text": [
      "Debugging - src content: <selenium.webdriver.remote.webelement.WebElement (session=\"5b06b3d12ca3a76e5c613afa896de233\", element=\"9E340076E16B0B12E9EB60FAF1C429D4_element_65059\")>\n",
      "Debugging - src content: https://taas.koroad.or.kr/gis36/TAAS/wms?LAYERS=GNRL_GIS_ACDNT_INFO_NON&STYLES=&FORMAT=image/png&TRANSPARENT=TRUE&TILED=false&TILESORIGIN=-30000,-60000&PROJECTION=EPSG:5179&DISPLAYPROJECTION=EPSG:5181&TRANSFORM=EPSG:5181&SERVICE=WMS&VERSION=1.1.1&REQUEST=GetMap&CQL_FILTER=(engn_code='00') and (acdnt_year between '2022' and '2022')  and (legaldong_code ilike '4146%') and (( acdnt_gae_code = '01') or ( acdnt_gae_code = '02') or ( acdnt_gae_code = '03') or ( acdnt_gae_code = '04')) and (( road_type = '6'))&SRS=EPSG:5181&BBOX=158023.05706169,395101.25501399,260295.05706169,454941.25501399&WIDTH=1598&HEIGHT=935\n",
      "src_split : ['https://taas.koroad.or.kr/gis36/TAAS/wms?LAYERS=GNRL_GIS_ACDNT_INFO_NON', 'STYLES=', 'FORMAT=image/png', 'TRANSPARENT=TRUE', 'TILED=false', 'TILESORIGIN=-30000,-60000', 'PROJECTION=EPSG:5179', 'DISPLAYPROJECTION=EPSG:5181', 'TRANSFORM=EPSG:5181', 'SERVICE=WMS', 'VERSION=1.1.1', 'REQUEST=GetMap', \"CQL_FILTER=(engn_code='00') and (acdnt_year between '2022' and '2022')  and (legaldong_code ilike '4146%') and (( acdnt_gae_code = '01') or ( acdnt_gae_code = '02') or ( acdnt_gae_code = '03') or ( acdnt_gae_code = '04')) and (( road_type = '6'))\", 'SRS=EPSG:5181', 'BBOX=158023.05706169,395101.25501399,260295.05706169,454941.25501399', 'WIDTH=1598', 'HEIGHT=935']\n",
      "Debugging - src_split:\n",
      "https://taas.koroad.or.kr/gis36/TAAS/wms?LAYERS=GNRL_GIS_ACDNT_INFO_NON\n",
      "STYLES=\n",
      "FORMAT=image/png\n",
      "TRANSPARENT=TRUE\n",
      "TILED=false\n",
      "TILESORIGIN=-30000,-60000\n",
      "PROJECTION=EPSG:5179\n",
      "DISPLAYPROJECTION=EPSG:5181\n",
      "TRANSFORM=EPSG:5181\n",
      "SERVICE=WMS\n",
      "VERSION=1.1.1\n",
      "REQUEST=GetMap\n",
      "CQL_FILTER=(engn_code='00') and (acdnt_year between '2022' and '2022')  and (legaldong_code ilike '4146%') and (( acdnt_gae_code = '01') or ( acdnt_gae_code = '02') or ( acdnt_gae_code = '03') or ( acdnt_gae_code = '04')) and (( road_type = '6'))\n",
      "SRS=EPSG:5181\n",
      "BBOX=158023.05706169,395101.25501399,260295.05706169,454941.25501399\n",
      "WIDTH=1598\n",
      "HEIGHT=935\n",
      "bbox_text : 158023.05706169,395101.25501399,260295.05706169,454941.25501399\n"
     ]
    },
    {
     "name": "stderr",
     "output_type": "stream",
     "text": [
      "  0%|          | 136/33698 [02:20<9:40:04,  1.04s/it]"
     ]
    },
    {
     "name": "stdout",
     "output_type": "stream",
     "text": [
      "Debugging - src content: <selenium.webdriver.remote.webelement.WebElement (session=\"5b06b3d12ca3a76e5c613afa896de233\", element=\"9E340076E16B0B12E9EB60FAF1C429D4_element_65509\")>\n",
      "Debugging - src content: https://taas.koroad.or.kr/gis36/TAAS/wms?LAYERS=GNRL_GIS_ACDNT_INFO_NON&STYLES=&FORMAT=image/png&TRANSPARENT=TRUE&TILED=false&TILESORIGIN=-30000,-60000&PROJECTION=EPSG:5179&DISPLAYPROJECTION=EPSG:5181&TRANSFORM=EPSG:5181&SERVICE=WMS&VERSION=1.1.1&REQUEST=GetMap&CQL_FILTER=(engn_code='00') and (acdnt_year between '2022' and '2022')  and (legaldong_code ilike '4146%') and (( acdnt_gae_code = '01') or ( acdnt_gae_code = '02') or ( acdnt_gae_code = '03') or ( acdnt_gae_code = '04')) and (( road_type = '6'))&SRS=EPSG:5181&BBOX=165964.06981316,388516.56667152,268236.06981316,448356.56667152&WIDTH=1598&HEIGHT=935\n",
      "src_split : ['https://taas.koroad.or.kr/gis36/TAAS/wms?LAYERS=GNRL_GIS_ACDNT_INFO_NON', 'STYLES=', 'FORMAT=image/png', 'TRANSPARENT=TRUE', 'TILED=false', 'TILESORIGIN=-30000,-60000', 'PROJECTION=EPSG:5179', 'DISPLAYPROJECTION=EPSG:5181', 'TRANSFORM=EPSG:5181', 'SERVICE=WMS', 'VERSION=1.1.1', 'REQUEST=GetMap', \"CQL_FILTER=(engn_code='00') and (acdnt_year between '2022' and '2022')  and (legaldong_code ilike '4146%') and (( acdnt_gae_code = '01') or ( acdnt_gae_code = '02') or ( acdnt_gae_code = '03') or ( acdnt_gae_code = '04')) and (( road_type = '6'))\", 'SRS=EPSG:5181', 'BBOX=165964.06981316,388516.56667152,268236.06981316,448356.56667152', 'WIDTH=1598', 'HEIGHT=935']\n",
      "Debugging - src_split:\n",
      "https://taas.koroad.or.kr/gis36/TAAS/wms?LAYERS=GNRL_GIS_ACDNT_INFO_NON\n",
      "STYLES=\n",
      "FORMAT=image/png\n",
      "TRANSPARENT=TRUE\n",
      "TILED=false\n",
      "TILESORIGIN=-30000,-60000\n",
      "PROJECTION=EPSG:5179\n",
      "DISPLAYPROJECTION=EPSG:5181\n",
      "TRANSFORM=EPSG:5181\n",
      "SERVICE=WMS\n",
      "VERSION=1.1.1\n",
      "REQUEST=GetMap\n",
      "CQL_FILTER=(engn_code='00') and (acdnt_year between '2022' and '2022')  and (legaldong_code ilike '4146%') and (( acdnt_gae_code = '01') or ( acdnt_gae_code = '02') or ( acdnt_gae_code = '03') or ( acdnt_gae_code = '04')) and (( road_type = '6'))\n",
      "SRS=EPSG:5181\n",
      "BBOX=165964.06981316,388516.56667152,268236.06981316,448356.56667152\n",
      "WIDTH=1598\n",
      "HEIGHT=935\n",
      "bbox_text : 165964.06981316,388516.56667152,268236.06981316,448356.56667152\n"
     ]
    },
    {
     "name": "stderr",
     "output_type": "stream",
     "text": [
      "  0%|          | 137/33698 [02:21<9:38:28,  1.03s/it]"
     ]
    },
    {
     "name": "stdout",
     "output_type": "stream",
     "text": [
      "Debugging - src content: <selenium.webdriver.remote.webelement.WebElement (session=\"5b06b3d12ca3a76e5c613afa896de233\", element=\"9E340076E16B0B12E9EB60FAF1C429D4_element_65959\")>\n",
      "Debugging - src content: https://taas.koroad.or.kr/gis36/TAAS/wms?LAYERS=GNRL_GIS_ACDNT_INFO_NON&STYLES=&FORMAT=image/png&TRANSPARENT=TRUE&TILED=false&TILESORIGIN=-30000,-60000&PROJECTION=EPSG:5179&DISPLAYPROJECTION=EPSG:5181&TRANSFORM=EPSG:5181&SERVICE=WMS&VERSION=1.1.1&REQUEST=GetMap&CQL_FILTER=(engn_code='00') and (acdnt_year between '2022' and '2022')  and (legaldong_code ilike '4146%') and (( acdnt_gae_code = '01') or ( acdnt_gae_code = '02') or ( acdnt_gae_code = '03') or ( acdnt_gae_code = '04')) and (( road_type = '6'))&SRS=EPSG:5181&BBOX=165636.44977428,388797.95103015,267908.44977428,448637.95103015&WIDTH=1598&HEIGHT=935\n",
      "src_split : ['https://taas.koroad.or.kr/gis36/TAAS/wms?LAYERS=GNRL_GIS_ACDNT_INFO_NON', 'STYLES=', 'FORMAT=image/png', 'TRANSPARENT=TRUE', 'TILED=false', 'TILESORIGIN=-30000,-60000', 'PROJECTION=EPSG:5179', 'DISPLAYPROJECTION=EPSG:5181', 'TRANSFORM=EPSG:5181', 'SERVICE=WMS', 'VERSION=1.1.1', 'REQUEST=GetMap', \"CQL_FILTER=(engn_code='00') and (acdnt_year between '2022' and '2022')  and (legaldong_code ilike '4146%') and (( acdnt_gae_code = '01') or ( acdnt_gae_code = '02') or ( acdnt_gae_code = '03') or ( acdnt_gae_code = '04')) and (( road_type = '6'))\", 'SRS=EPSG:5181', 'BBOX=165636.44977428,388797.95103015,267908.44977428,448637.95103015', 'WIDTH=1598', 'HEIGHT=935']\n",
      "Debugging - src_split:\n",
      "https://taas.koroad.or.kr/gis36/TAAS/wms?LAYERS=GNRL_GIS_ACDNT_INFO_NON\n",
      "STYLES=\n",
      "FORMAT=image/png\n",
      "TRANSPARENT=TRUE\n",
      "TILED=false\n",
      "TILESORIGIN=-30000,-60000\n",
      "PROJECTION=EPSG:5179\n",
      "DISPLAYPROJECTION=EPSG:5181\n",
      "TRANSFORM=EPSG:5181\n",
      "SERVICE=WMS\n",
      "VERSION=1.1.1\n",
      "REQUEST=GetMap\n",
      "CQL_FILTER=(engn_code='00') and (acdnt_year between '2022' and '2022')  and (legaldong_code ilike '4146%') and (( acdnt_gae_code = '01') or ( acdnt_gae_code = '02') or ( acdnt_gae_code = '03') or ( acdnt_gae_code = '04')) and (( road_type = '6'))\n",
      "SRS=EPSG:5181\n",
      "BBOX=165636.44977428,388797.95103015,267908.44977428,448637.95103015\n",
      "WIDTH=1598\n",
      "HEIGHT=935\n",
      "bbox_text : 165636.44977428,388797.95103015,267908.44977428,448637.95103015\n"
     ]
    },
    {
     "name": "stderr",
     "output_type": "stream",
     "text": [
      "  0%|          | 138/33698 [02:22<9:37:56,  1.03s/it]"
     ]
    },
    {
     "name": "stdout",
     "output_type": "stream",
     "text": [
      "Debugging - src content: <selenium.webdriver.remote.webelement.WebElement (session=\"5b06b3d12ca3a76e5c613afa896de233\", element=\"9E340076E16B0B12E9EB60FAF1C429D4_element_66399\")>\n",
      "Debugging - src content: https://taas.koroad.or.kr/gis36/TAAS/wms?LAYERS=GNRL_GIS_ACDNT_INFO_NON&STYLES=&FORMAT=image/png&TRANSPARENT=TRUE&TILED=false&TILESORIGIN=-30000,-60000&PROJECTION=EPSG:5179&DISPLAYPROJECTION=EPSG:5181&TRANSFORM=EPSG:5181&SERVICE=WMS&VERSION=1.1.1&REQUEST=GetMap&CQL_FILTER=(engn_code='00') and (acdnt_year between '2022' and '2022')  and (legaldong_code ilike '4146%') and (( acdnt_gae_code = '01') or ( acdnt_gae_code = '02') or ( acdnt_gae_code = '03') or ( acdnt_gae_code = '04')) and (( road_type = '6'))&SRS=EPSG:5181&BBOX=157961.51149173,388767.39776446,260233.51149173,448607.39776446&WIDTH=1598&HEIGHT=935\n",
      "src_split : ['https://taas.koroad.or.kr/gis36/TAAS/wms?LAYERS=GNRL_GIS_ACDNT_INFO_NON', 'STYLES=', 'FORMAT=image/png', 'TRANSPARENT=TRUE', 'TILED=false', 'TILESORIGIN=-30000,-60000', 'PROJECTION=EPSG:5179', 'DISPLAYPROJECTION=EPSG:5181', 'TRANSFORM=EPSG:5181', 'SERVICE=WMS', 'VERSION=1.1.1', 'REQUEST=GetMap', \"CQL_FILTER=(engn_code='00') and (acdnt_year between '2022' and '2022')  and (legaldong_code ilike '4146%') and (( acdnt_gae_code = '01') or ( acdnt_gae_code = '02') or ( acdnt_gae_code = '03') or ( acdnt_gae_code = '04')) and (( road_type = '6'))\", 'SRS=EPSG:5181', 'BBOX=157961.51149173,388767.39776446,260233.51149173,448607.39776446', 'WIDTH=1598', 'HEIGHT=935']\n",
      "Debugging - src_split:\n",
      "https://taas.koroad.or.kr/gis36/TAAS/wms?LAYERS=GNRL_GIS_ACDNT_INFO_NON\n",
      "STYLES=\n",
      "FORMAT=image/png\n",
      "TRANSPARENT=TRUE\n",
      "TILED=false\n",
      "TILESORIGIN=-30000,-60000\n",
      "PROJECTION=EPSG:5179\n",
      "DISPLAYPROJECTION=EPSG:5181\n",
      "TRANSFORM=EPSG:5181\n",
      "SERVICE=WMS\n",
      "VERSION=1.1.1\n",
      "REQUEST=GetMap\n",
      "CQL_FILTER=(engn_code='00') and (acdnt_year between '2022' and '2022')  and (legaldong_code ilike '4146%') and (( acdnt_gae_code = '01') or ( acdnt_gae_code = '02') or ( acdnt_gae_code = '03') or ( acdnt_gae_code = '04')) and (( road_type = '6'))\n",
      "SRS=EPSG:5181\n",
      "BBOX=157961.51149173,388767.39776446,260233.51149173,448607.39776446\n",
      "WIDTH=1598\n",
      "HEIGHT=935\n",
      "bbox_text : 157961.51149173,388767.39776446,260233.51149173,448607.39776446\n"
     ]
    },
    {
     "name": "stderr",
     "output_type": "stream",
     "text": [
      "  0%|          | 139/33698 [02:23<9:38:22,  1.03s/it]"
     ]
    },
    {
     "name": "stdout",
     "output_type": "stream",
     "text": [
      "Debugging - src content: <selenium.webdriver.remote.webelement.WebElement (session=\"5b06b3d12ca3a76e5c613afa896de233\", element=\"9E340076E16B0B12E9EB60FAF1C429D4_element_66849\")>\n",
      "Debugging - src content: https://taas.koroad.or.kr/gis36/TAAS/wms?LAYERS=GNRL_GIS_ACDNT_INFO_NON&STYLES=&FORMAT=image/png&TRANSPARENT=TRUE&TILED=false&TILESORIGIN=-30000,-60000&PROJECTION=EPSG:5179&DISPLAYPROJECTION=EPSG:5181&TRANSFORM=EPSG:5181&SERVICE=WMS&VERSION=1.1.1&REQUEST=GetMap&CQL_FILTER=(engn_code='00') and (acdnt_year between '2022' and '2022')  and (legaldong_code ilike '4146%') and (( acdnt_gae_code = '01') or ( acdnt_gae_code = '02') or ( acdnt_gae_code = '03') or ( acdnt_gae_code = '04')) and (( road_type = '6'))&SRS=EPSG:5181&BBOX=156996.9493458,373632.2706166,259268.9493458,433472.2706166&WIDTH=1598&HEIGHT=935\n",
      "src_split : ['https://taas.koroad.or.kr/gis36/TAAS/wms?LAYERS=GNRL_GIS_ACDNT_INFO_NON', 'STYLES=', 'FORMAT=image/png', 'TRANSPARENT=TRUE', 'TILED=false', 'TILESORIGIN=-30000,-60000', 'PROJECTION=EPSG:5179', 'DISPLAYPROJECTION=EPSG:5181', 'TRANSFORM=EPSG:5181', 'SERVICE=WMS', 'VERSION=1.1.1', 'REQUEST=GetMap', \"CQL_FILTER=(engn_code='00') and (acdnt_year between '2022' and '2022')  and (legaldong_code ilike '4146%') and (( acdnt_gae_code = '01') or ( acdnt_gae_code = '02') or ( acdnt_gae_code = '03') or ( acdnt_gae_code = '04')) and (( road_type = '6'))\", 'SRS=EPSG:5181', 'BBOX=156996.9493458,373632.2706166,259268.9493458,433472.2706166', 'WIDTH=1598', 'HEIGHT=935']\n",
      "Debugging - src_split:\n",
      "https://taas.koroad.or.kr/gis36/TAAS/wms?LAYERS=GNRL_GIS_ACDNT_INFO_NON\n",
      "STYLES=\n",
      "FORMAT=image/png\n",
      "TRANSPARENT=TRUE\n",
      "TILED=false\n",
      "TILESORIGIN=-30000,-60000\n",
      "PROJECTION=EPSG:5179\n",
      "DISPLAYPROJECTION=EPSG:5181\n",
      "TRANSFORM=EPSG:5181\n",
      "SERVICE=WMS\n",
      "VERSION=1.1.1\n",
      "REQUEST=GetMap\n",
      "CQL_FILTER=(engn_code='00') and (acdnt_year between '2022' and '2022')  and (legaldong_code ilike '4146%') and (( acdnt_gae_code = '01') or ( acdnt_gae_code = '02') or ( acdnt_gae_code = '03') or ( acdnt_gae_code = '04')) and (( road_type = '6'))\n",
      "SRS=EPSG:5181\n",
      "BBOX=156996.9493458,373632.2706166,259268.9493458,433472.2706166\n",
      "WIDTH=1598\n",
      "HEIGHT=935\n",
      "bbox_text : 156996.9493458,373632.2706166,259268.9493458,433472.2706166\n"
     ]
    },
    {
     "name": "stderr",
     "output_type": "stream",
     "text": [
      "  0%|          | 140/33698 [02:24<9:38:21,  1.03s/it]"
     ]
    },
    {
     "name": "stdout",
     "output_type": "stream",
     "text": [
      "Debugging - src content: <selenium.webdriver.remote.webelement.WebElement (session=\"5b06b3d12ca3a76e5c613afa896de233\", element=\"9E340076E16B0B12E9EB60FAF1C429D4_element_67299\")>\n",
      "Debugging - src content: https://taas.koroad.or.kr/gis36/TAAS/wms?LAYERS=GNRL_GIS_ACDNT_INFO_NON&STYLES=&FORMAT=image/png&TRANSPARENT=TRUE&TILED=false&TILESORIGIN=-30000,-60000&PROJECTION=EPSG:5179&DISPLAYPROJECTION=EPSG:5181&TRANSFORM=EPSG:5181&SERVICE=WMS&VERSION=1.1.1&REQUEST=GetMap&CQL_FILTER=(engn_code='00') and (acdnt_year between '2022' and '2022')  and (legaldong_code ilike '4146%') and (( acdnt_gae_code = '01') or ( acdnt_gae_code = '02') or ( acdnt_gae_code = '03') or ( acdnt_gae_code = '04')) and (( road_type = '6'))&SRS=EPSG:5181&BBOX=157991.23869015,391092.48418539,260263.23869015,450932.48418539&WIDTH=1598&HEIGHT=935\n",
      "src_split : ['https://taas.koroad.or.kr/gis36/TAAS/wms?LAYERS=GNRL_GIS_ACDNT_INFO_NON', 'STYLES=', 'FORMAT=image/png', 'TRANSPARENT=TRUE', 'TILED=false', 'TILESORIGIN=-30000,-60000', 'PROJECTION=EPSG:5179', 'DISPLAYPROJECTION=EPSG:5181', 'TRANSFORM=EPSG:5181', 'SERVICE=WMS', 'VERSION=1.1.1', 'REQUEST=GetMap', \"CQL_FILTER=(engn_code='00') and (acdnt_year between '2022' and '2022')  and (legaldong_code ilike '4146%') and (( acdnt_gae_code = '01') or ( acdnt_gae_code = '02') or ( acdnt_gae_code = '03') or ( acdnt_gae_code = '04')) and (( road_type = '6'))\", 'SRS=EPSG:5181', 'BBOX=157991.23869015,391092.48418539,260263.23869015,450932.48418539', 'WIDTH=1598', 'HEIGHT=935']\n",
      "Debugging - src_split:\n",
      "https://taas.koroad.or.kr/gis36/TAAS/wms?LAYERS=GNRL_GIS_ACDNT_INFO_NON\n",
      "STYLES=\n",
      "FORMAT=image/png\n",
      "TRANSPARENT=TRUE\n",
      "TILED=false\n",
      "TILESORIGIN=-30000,-60000\n",
      "PROJECTION=EPSG:5179\n",
      "DISPLAYPROJECTION=EPSG:5181\n",
      "TRANSFORM=EPSG:5181\n",
      "SERVICE=WMS\n",
      "VERSION=1.1.1\n",
      "REQUEST=GetMap\n",
      "CQL_FILTER=(engn_code='00') and (acdnt_year between '2022' and '2022')  and (legaldong_code ilike '4146%') and (( acdnt_gae_code = '01') or ( acdnt_gae_code = '02') or ( acdnt_gae_code = '03') or ( acdnt_gae_code = '04')) and (( road_type = '6'))\n",
      "SRS=EPSG:5181\n",
      "BBOX=157991.23869015,391092.48418539,260263.23869015,450932.48418539\n",
      "WIDTH=1598\n",
      "HEIGHT=935\n",
      "bbox_text : 157991.23869015,391092.48418539,260263.23869015,450932.48418539\n"
     ]
    },
    {
     "name": "stderr",
     "output_type": "stream",
     "text": [
      "  0%|          | 141/33698 [02:25<9:38:06,  1.03s/it]"
     ]
    },
    {
     "name": "stdout",
     "output_type": "stream",
     "text": [
      "Debugging - src content: <selenium.webdriver.remote.webelement.WebElement (session=\"5b06b3d12ca3a76e5c613afa896de233\", element=\"9E340076E16B0B12E9EB60FAF1C429D4_element_67739\")>\n",
      "Debugging - src content: https://taas.koroad.or.kr/gis36/TAAS/wms?LAYERS=GNRL_GIS_ACDNT_INFO_NON&STYLES=&FORMAT=image/png&TRANSPARENT=TRUE&TILED=false&TILESORIGIN=-30000,-60000&PROJECTION=EPSG:5179&DISPLAYPROJECTION=EPSG:5181&TRANSFORM=EPSG:5181&SERVICE=WMS&VERSION=1.1.1&REQUEST=GetMap&CQL_FILTER=(engn_code='00') and (acdnt_year between '2022' and '2022')  and (legaldong_code ilike '4146%') and (( acdnt_gae_code = '01') or ( acdnt_gae_code = '02') or ( acdnt_gae_code = '03') or ( acdnt_gae_code = '04')) and (( road_type = '6'))&SRS=EPSG:5181&BBOX=158046.23266138,389962.32299002,260318.23266138,449802.32299002&WIDTH=1598&HEIGHT=935\n",
      "src_split : ['https://taas.koroad.or.kr/gis36/TAAS/wms?LAYERS=GNRL_GIS_ACDNT_INFO_NON', 'STYLES=', 'FORMAT=image/png', 'TRANSPARENT=TRUE', 'TILED=false', 'TILESORIGIN=-30000,-60000', 'PROJECTION=EPSG:5179', 'DISPLAYPROJECTION=EPSG:5181', 'TRANSFORM=EPSG:5181', 'SERVICE=WMS', 'VERSION=1.1.1', 'REQUEST=GetMap', \"CQL_FILTER=(engn_code='00') and (acdnt_year between '2022' and '2022')  and (legaldong_code ilike '4146%') and (( acdnt_gae_code = '01') or ( acdnt_gae_code = '02') or ( acdnt_gae_code = '03') or ( acdnt_gae_code = '04')) and (( road_type = '6'))\", 'SRS=EPSG:5181', 'BBOX=158046.23266138,389962.32299002,260318.23266138,449802.32299002', 'WIDTH=1598', 'HEIGHT=935']\n",
      "Debugging - src_split:\n",
      "https://taas.koroad.or.kr/gis36/TAAS/wms?LAYERS=GNRL_GIS_ACDNT_INFO_NON\n",
      "STYLES=\n",
      "FORMAT=image/png\n",
      "TRANSPARENT=TRUE\n",
      "TILED=false\n",
      "TILESORIGIN=-30000,-60000\n",
      "PROJECTION=EPSG:5179\n",
      "DISPLAYPROJECTION=EPSG:5181\n",
      "TRANSFORM=EPSG:5181\n",
      "SERVICE=WMS\n",
      "VERSION=1.1.1\n",
      "REQUEST=GetMap\n",
      "CQL_FILTER=(engn_code='00') and (acdnt_year between '2022' and '2022')  and (legaldong_code ilike '4146%') and (( acdnt_gae_code = '01') or ( acdnt_gae_code = '02') or ( acdnt_gae_code = '03') or ( acdnt_gae_code = '04')) and (( road_type = '6'))\n",
      "SRS=EPSG:5181\n",
      "BBOX=158046.23266138,389962.32299002,260318.23266138,449802.32299002\n",
      "WIDTH=1598\n",
      "HEIGHT=935\n",
      "bbox_text : 158046.23266138,389962.32299002,260318.23266138,449802.32299002\n"
     ]
    },
    {
     "name": "stderr",
     "output_type": "stream",
     "text": [
      "  0%|          | 142/33698 [02:26<9:38:22,  1.03s/it]"
     ]
    },
    {
     "name": "stdout",
     "output_type": "stream",
     "text": [
      "Debugging - src content: <selenium.webdriver.remote.webelement.WebElement (session=\"5b06b3d12ca3a76e5c613afa896de233\", element=\"9E340076E16B0B12E9EB60FAF1C429D4_element_68189\")>\n",
      "Debugging - src content: https://taas.koroad.or.kr/gis36/TAAS/wms?LAYERS=GNRL_GIS_ACDNT_INFO_NON&STYLES=&FORMAT=image/png&TRANSPARENT=TRUE&TILED=false&TILESORIGIN=-30000,-60000&PROJECTION=EPSG:5179&DISPLAYPROJECTION=EPSG:5181&TRANSFORM=EPSG:5181&SERVICE=WMS&VERSION=1.1.1&REQUEST=GetMap&CQL_FILTER=(engn_code='00') and (acdnt_year between '2022' and '2022')  and (legaldong_code ilike '4146%') and (( acdnt_gae_code = '01') or ( acdnt_gae_code = '02') or ( acdnt_gae_code = '03') or ( acdnt_gae_code = '04')) and (( road_type = '6'))&SRS=EPSG:5181&BBOX=158381.79662278,384768.01759863,260653.79662278,444608.01759863&WIDTH=1598&HEIGHT=935\n",
      "src_split : ['https://taas.koroad.or.kr/gis36/TAAS/wms?LAYERS=GNRL_GIS_ACDNT_INFO_NON', 'STYLES=', 'FORMAT=image/png', 'TRANSPARENT=TRUE', 'TILED=false', 'TILESORIGIN=-30000,-60000', 'PROJECTION=EPSG:5179', 'DISPLAYPROJECTION=EPSG:5181', 'TRANSFORM=EPSG:5181', 'SERVICE=WMS', 'VERSION=1.1.1', 'REQUEST=GetMap', \"CQL_FILTER=(engn_code='00') and (acdnt_year between '2022' and '2022')  and (legaldong_code ilike '4146%') and (( acdnt_gae_code = '01') or ( acdnt_gae_code = '02') or ( acdnt_gae_code = '03') or ( acdnt_gae_code = '04')) and (( road_type = '6'))\", 'SRS=EPSG:5181', 'BBOX=158381.79662278,384768.01759863,260653.79662278,444608.01759863', 'WIDTH=1598', 'HEIGHT=935']\n",
      "Debugging - src_split:\n",
      "https://taas.koroad.or.kr/gis36/TAAS/wms?LAYERS=GNRL_GIS_ACDNT_INFO_NON\n",
      "STYLES=\n",
      "FORMAT=image/png\n",
      "TRANSPARENT=TRUE\n",
      "TILED=false\n",
      "TILESORIGIN=-30000,-60000\n",
      "PROJECTION=EPSG:5179\n",
      "DISPLAYPROJECTION=EPSG:5181\n",
      "TRANSFORM=EPSG:5181\n",
      "SERVICE=WMS\n",
      "VERSION=1.1.1\n",
      "REQUEST=GetMap\n",
      "CQL_FILTER=(engn_code='00') and (acdnt_year between '2022' and '2022')  and (legaldong_code ilike '4146%') and (( acdnt_gae_code = '01') or ( acdnt_gae_code = '02') or ( acdnt_gae_code = '03') or ( acdnt_gae_code = '04')) and (( road_type = '6'))\n",
      "SRS=EPSG:5181\n",
      "BBOX=158381.79662278,384768.01759863,260653.79662278,444608.01759863\n",
      "WIDTH=1598\n",
      "HEIGHT=935\n",
      "bbox_text : 158381.79662278,384768.01759863,260653.79662278,444608.01759863\n"
     ]
    },
    {
     "name": "stderr",
     "output_type": "stream",
     "text": [
      "  0%|          | 143/33698 [02:28<9:40:49,  1.04s/it]"
     ]
    },
    {
     "name": "stdout",
     "output_type": "stream",
     "text": [
      "Debugging - src content: <selenium.webdriver.remote.webelement.WebElement (session=\"5b06b3d12ca3a76e5c613afa896de233\", element=\"9E340076E16B0B12E9EB60FAF1C429D4_element_68639\")>\n",
      "Debugging - src content: https://taas.koroad.or.kr/gis36/TAAS/wms?LAYERS=GNRL_GIS_ACDNT_INFO_NON&STYLES=&FORMAT=image/png&TRANSPARENT=TRUE&TILED=false&TILESORIGIN=-30000,-60000&PROJECTION=EPSG:5179&DISPLAYPROJECTION=EPSG:5181&TRANSFORM=EPSG:5181&SERVICE=WMS&VERSION=1.1.1&REQUEST=GetMap&CQL_FILTER=(engn_code='00') and (acdnt_year between '2022' and '2022')  and (legaldong_code ilike '4146%') and (( acdnt_gae_code = '01') or ( acdnt_gae_code = '02') or ( acdnt_gae_code = '03') or ( acdnt_gae_code = '04')) and (( road_type = '6'))&SRS=EPSG:5181&BBOX=159475.58661094,370089.90138912,261747.58661094,429929.90138912&WIDTH=1598&HEIGHT=935\n",
      "src_split : ['https://taas.koroad.or.kr/gis36/TAAS/wms?LAYERS=GNRL_GIS_ACDNT_INFO_NON', 'STYLES=', 'FORMAT=image/png', 'TRANSPARENT=TRUE', 'TILED=false', 'TILESORIGIN=-30000,-60000', 'PROJECTION=EPSG:5179', 'DISPLAYPROJECTION=EPSG:5181', 'TRANSFORM=EPSG:5181', 'SERVICE=WMS', 'VERSION=1.1.1', 'REQUEST=GetMap', \"CQL_FILTER=(engn_code='00') and (acdnt_year between '2022' and '2022')  and (legaldong_code ilike '4146%') and (( acdnt_gae_code = '01') or ( acdnt_gae_code = '02') or ( acdnt_gae_code = '03') or ( acdnt_gae_code = '04')) and (( road_type = '6'))\", 'SRS=EPSG:5181', 'BBOX=159475.58661094,370089.90138912,261747.58661094,429929.90138912', 'WIDTH=1598', 'HEIGHT=935']\n",
      "Debugging - src_split:\n",
      "https://taas.koroad.or.kr/gis36/TAAS/wms?LAYERS=GNRL_GIS_ACDNT_INFO_NON\n",
      "STYLES=\n",
      "FORMAT=image/png\n",
      "TRANSPARENT=TRUE\n",
      "TILED=false\n",
      "TILESORIGIN=-30000,-60000\n",
      "PROJECTION=EPSG:5179\n",
      "DISPLAYPROJECTION=EPSG:5181\n",
      "TRANSFORM=EPSG:5181\n",
      "SERVICE=WMS\n",
      "VERSION=1.1.1\n",
      "REQUEST=GetMap\n",
      "CQL_FILTER=(engn_code='00') and (acdnt_year between '2022' and '2022')  and (legaldong_code ilike '4146%') and (( acdnt_gae_code = '01') or ( acdnt_gae_code = '02') or ( acdnt_gae_code = '03') or ( acdnt_gae_code = '04')) and (( road_type = '6'))\n",
      "SRS=EPSG:5181\n",
      "BBOX=159475.58661094,370089.90138912,261747.58661094,429929.90138912\n",
      "WIDTH=1598\n",
      "HEIGHT=935\n",
      "bbox_text : 159475.58661094,370089.90138912,261747.58661094,429929.90138912\n"
     ]
    },
    {
     "name": "stderr",
     "output_type": "stream",
     "text": [
      "  0%|          | 144/33698 [02:29<9:41:23,  1.04s/it]"
     ]
    },
    {
     "name": "stdout",
     "output_type": "stream",
     "text": [
      "Debugging - src content: <selenium.webdriver.remote.webelement.WebElement (session=\"5b06b3d12ca3a76e5c613afa896de233\", element=\"9E340076E16B0B12E9EB60FAF1C429D4_element_69099\")>\n",
      "Debugging - src content: https://taas.koroad.or.kr/gis36/TAAS/wms?LAYERS=GNRL_GIS_ACDNT_INFO_NON&STYLES=&FORMAT=image/png&TRANSPARENT=TRUE&TILED=false&TILESORIGIN=-30000,-60000&PROJECTION=EPSG:5179&DISPLAYPROJECTION=EPSG:5181&TRANSFORM=EPSG:5181&SERVICE=WMS&VERSION=1.1.1&REQUEST=GetMap&CQL_FILTER=(engn_code='00') and (acdnt_year between '2022' and '2022')  and (legaldong_code ilike '4146%') and (( acdnt_gae_code = '01') or ( acdnt_gae_code = '02') or ( acdnt_gae_code = '03') or ( acdnt_gae_code = '04')) and (( road_type = '6'))&SRS=EPSG:5181&BBOX=157700.43803551,389140.16758678,259972.43803551,448980.16758678&WIDTH=1598&HEIGHT=935\n",
      "src_split : ['https://taas.koroad.or.kr/gis36/TAAS/wms?LAYERS=GNRL_GIS_ACDNT_INFO_NON', 'STYLES=', 'FORMAT=image/png', 'TRANSPARENT=TRUE', 'TILED=false', 'TILESORIGIN=-30000,-60000', 'PROJECTION=EPSG:5179', 'DISPLAYPROJECTION=EPSG:5181', 'TRANSFORM=EPSG:5181', 'SERVICE=WMS', 'VERSION=1.1.1', 'REQUEST=GetMap', \"CQL_FILTER=(engn_code='00') and (acdnt_year between '2022' and '2022')  and (legaldong_code ilike '4146%') and (( acdnt_gae_code = '01') or ( acdnt_gae_code = '02') or ( acdnt_gae_code = '03') or ( acdnt_gae_code = '04')) and (( road_type = '6'))\", 'SRS=EPSG:5181', 'BBOX=157700.43803551,389140.16758678,259972.43803551,448980.16758678', 'WIDTH=1598', 'HEIGHT=935']\n",
      "Debugging - src_split:\n",
      "https://taas.koroad.or.kr/gis36/TAAS/wms?LAYERS=GNRL_GIS_ACDNT_INFO_NON\n",
      "STYLES=\n",
      "FORMAT=image/png\n",
      "TRANSPARENT=TRUE\n",
      "TILED=false\n",
      "TILESORIGIN=-30000,-60000\n",
      "PROJECTION=EPSG:5179\n",
      "DISPLAYPROJECTION=EPSG:5181\n",
      "TRANSFORM=EPSG:5181\n",
      "SERVICE=WMS\n",
      "VERSION=1.1.1\n",
      "REQUEST=GetMap\n",
      "CQL_FILTER=(engn_code='00') and (acdnt_year between '2022' and '2022')  and (legaldong_code ilike '4146%') and (( acdnt_gae_code = '01') or ( acdnt_gae_code = '02') or ( acdnt_gae_code = '03') or ( acdnt_gae_code = '04')) and (( road_type = '6'))\n",
      "SRS=EPSG:5181\n",
      "BBOX=157700.43803551,389140.16758678,259972.43803551,448980.16758678\n",
      "WIDTH=1598\n",
      "HEIGHT=935\n",
      "bbox_text : 157700.43803551,389140.16758678,259972.43803551,448980.16758678\n"
     ]
    },
    {
     "name": "stderr",
     "output_type": "stream",
     "text": [
      "  0%|          | 145/33698 [02:30<9:39:36,  1.04s/it]"
     ]
    },
    {
     "name": "stdout",
     "output_type": "stream",
     "text": [
      "Debugging - src content: <selenium.webdriver.remote.webelement.WebElement (session=\"5b06b3d12ca3a76e5c613afa896de233\", element=\"9E340076E16B0B12E9EB60FAF1C429D4_element_69539\")>\n",
      "Debugging - src content: https://taas.koroad.or.kr/gis36/TAAS/wms?LAYERS=GNRL_GIS_ACDNT_INFO_NON&STYLES=&FORMAT=image/png&TRANSPARENT=TRUE&TILED=false&TILESORIGIN=-30000,-60000&PROJECTION=EPSG:5179&DISPLAYPROJECTION=EPSG:5181&TRANSFORM=EPSG:5181&SERVICE=WMS&VERSION=1.1.1&REQUEST=GetMap&CQL_FILTER=(engn_code='00') and (acdnt_year between '2022' and '2022')  and (legaldong_code ilike '4146%') and (( acdnt_gae_code = '01') or ( acdnt_gae_code = '02') or ( acdnt_gae_code = '03') or ( acdnt_gae_code = '04')) and (( road_type = '6'))&SRS=EPSG:5181&BBOX=154164.77558531,392405.78148574,256436.77558531,452245.78148574&WIDTH=1598&HEIGHT=935\n",
      "src_split : ['https://taas.koroad.or.kr/gis36/TAAS/wms?LAYERS=GNRL_GIS_ACDNT_INFO_NON', 'STYLES=', 'FORMAT=image/png', 'TRANSPARENT=TRUE', 'TILED=false', 'TILESORIGIN=-30000,-60000', 'PROJECTION=EPSG:5179', 'DISPLAYPROJECTION=EPSG:5181', 'TRANSFORM=EPSG:5181', 'SERVICE=WMS', 'VERSION=1.1.1', 'REQUEST=GetMap', \"CQL_FILTER=(engn_code='00') and (acdnt_year between '2022' and '2022')  and (legaldong_code ilike '4146%') and (( acdnt_gae_code = '01') or ( acdnt_gae_code = '02') or ( acdnt_gae_code = '03') or ( acdnt_gae_code = '04')) and (( road_type = '6'))\", 'SRS=EPSG:5181', 'BBOX=154164.77558531,392405.78148574,256436.77558531,452245.78148574', 'WIDTH=1598', 'HEIGHT=935']\n",
      "Debugging - src_split:\n",
      "https://taas.koroad.or.kr/gis36/TAAS/wms?LAYERS=GNRL_GIS_ACDNT_INFO_NON\n",
      "STYLES=\n",
      "FORMAT=image/png\n",
      "TRANSPARENT=TRUE\n",
      "TILED=false\n",
      "TILESORIGIN=-30000,-60000\n",
      "PROJECTION=EPSG:5179\n",
      "DISPLAYPROJECTION=EPSG:5181\n",
      "TRANSFORM=EPSG:5181\n",
      "SERVICE=WMS\n",
      "VERSION=1.1.1\n",
      "REQUEST=GetMap\n",
      "CQL_FILTER=(engn_code='00') and (acdnt_year between '2022' and '2022')  and (legaldong_code ilike '4146%') and (( acdnt_gae_code = '01') or ( acdnt_gae_code = '02') or ( acdnt_gae_code = '03') or ( acdnt_gae_code = '04')) and (( road_type = '6'))\n",
      "SRS=EPSG:5181\n",
      "BBOX=154164.77558531,392405.78148574,256436.77558531,452245.78148574\n",
      "WIDTH=1598\n",
      "HEIGHT=935\n",
      "bbox_text : 154164.77558531,392405.78148574,256436.77558531,452245.78148574\n"
     ]
    },
    {
     "name": "stderr",
     "output_type": "stream",
     "text": [
      "  0%|          | 146/33698 [02:31<9:38:29,  1.03s/it]"
     ]
    },
    {
     "name": "stdout",
     "output_type": "stream",
     "text": [
      "Debugging - src content: <selenium.webdriver.remote.webelement.WebElement (session=\"5b06b3d12ca3a76e5c613afa896de233\", element=\"9E340076E16B0B12E9EB60FAF1C429D4_element_69979\")>\n",
      "Debugging - src content: https://taas.koroad.or.kr/gis36/TAAS/wms?LAYERS=GNRL_GIS_ACDNT_INFO_NON&STYLES=&FORMAT=image/png&TRANSPARENT=TRUE&TILED=false&TILESORIGIN=-30000,-60000&PROJECTION=EPSG:5179&DISPLAYPROJECTION=EPSG:5181&TRANSFORM=EPSG:5181&SERVICE=WMS&VERSION=1.1.1&REQUEST=GetMap&CQL_FILTER=(engn_code='00') and (acdnt_year between '2022' and '2022')  and (legaldong_code ilike '4146%') and (( acdnt_gae_code = '01') or ( acdnt_gae_code = '02') or ( acdnt_gae_code = '03') or ( acdnt_gae_code = '04')) and (( road_type = '6'))&SRS=EPSG:5181&BBOX=158026.23269166,391663.89756024,260298.23269166,451503.89756024&WIDTH=1598&HEIGHT=935\n",
      "src_split : ['https://taas.koroad.or.kr/gis36/TAAS/wms?LAYERS=GNRL_GIS_ACDNT_INFO_NON', 'STYLES=', 'FORMAT=image/png', 'TRANSPARENT=TRUE', 'TILED=false', 'TILESORIGIN=-30000,-60000', 'PROJECTION=EPSG:5179', 'DISPLAYPROJECTION=EPSG:5181', 'TRANSFORM=EPSG:5181', 'SERVICE=WMS', 'VERSION=1.1.1', 'REQUEST=GetMap', \"CQL_FILTER=(engn_code='00') and (acdnt_year between '2022' and '2022')  and (legaldong_code ilike '4146%') and (( acdnt_gae_code = '01') or ( acdnt_gae_code = '02') or ( acdnt_gae_code = '03') or ( acdnt_gae_code = '04')) and (( road_type = '6'))\", 'SRS=EPSG:5181', 'BBOX=158026.23269166,391663.89756024,260298.23269166,451503.89756024', 'WIDTH=1598', 'HEIGHT=935']\n",
      "Debugging - src_split:\n",
      "https://taas.koroad.or.kr/gis36/TAAS/wms?LAYERS=GNRL_GIS_ACDNT_INFO_NON\n",
      "STYLES=\n",
      "FORMAT=image/png\n",
      "TRANSPARENT=TRUE\n",
      "TILED=false\n",
      "TILESORIGIN=-30000,-60000\n",
      "PROJECTION=EPSG:5179\n",
      "DISPLAYPROJECTION=EPSG:5181\n",
      "TRANSFORM=EPSG:5181\n",
      "SERVICE=WMS\n",
      "VERSION=1.1.1\n",
      "REQUEST=GetMap\n",
      "CQL_FILTER=(engn_code='00') and (acdnt_year between '2022' and '2022')  and (legaldong_code ilike '4146%') and (( acdnt_gae_code = '01') or ( acdnt_gae_code = '02') or ( acdnt_gae_code = '03') or ( acdnt_gae_code = '04')) and (( road_type = '6'))\n",
      "SRS=EPSG:5181\n",
      "BBOX=158026.23269166,391663.89756024,260298.23269166,451503.89756024\n",
      "WIDTH=1598\n",
      "HEIGHT=935\n",
      "bbox_text : 158026.23269166,391663.89756024,260298.23269166,451503.89756024\n"
     ]
    },
    {
     "name": "stderr",
     "output_type": "stream",
     "text": [
      "  0%|          | 147/33698 [02:32<9:39:13,  1.04s/it]"
     ]
    },
    {
     "name": "stdout",
     "output_type": "stream",
     "text": [
      "Debugging - src content: <selenium.webdriver.remote.webelement.WebElement (session=\"5b06b3d12ca3a76e5c613afa896de233\", element=\"9E340076E16B0B12E9EB60FAF1C429D4_element_70439\")>\n",
      "Debugging - src content: https://taas.koroad.or.kr/gis36/TAAS/wms?LAYERS=GNRL_GIS_ACDNT_INFO_NON&STYLES=&FORMAT=image/png&TRANSPARENT=TRUE&TILED=false&TILESORIGIN=-30000,-60000&PROJECTION=EPSG:5179&DISPLAYPROJECTION=EPSG:5181&TRANSFORM=EPSG:5181&SERVICE=WMS&VERSION=1.1.1&REQUEST=GetMap&CQL_FILTER=(engn_code='00') and (acdnt_year between '2022' and '2022')  and (legaldong_code ilike '4146%') and (( acdnt_gae_code = '01') or ( acdnt_gae_code = '02') or ( acdnt_gae_code = '03') or ( acdnt_gae_code = '04')) and (( road_type = '6'))&SRS=EPSG:5181&BBOX=159336.18146527,370536.34688258,261608.18146527,430376.34688258&WIDTH=1598&HEIGHT=935\n",
      "src_split : ['https://taas.koroad.or.kr/gis36/TAAS/wms?LAYERS=GNRL_GIS_ACDNT_INFO_NON', 'STYLES=', 'FORMAT=image/png', 'TRANSPARENT=TRUE', 'TILED=false', 'TILESORIGIN=-30000,-60000', 'PROJECTION=EPSG:5179', 'DISPLAYPROJECTION=EPSG:5181', 'TRANSFORM=EPSG:5181', 'SERVICE=WMS', 'VERSION=1.1.1', 'REQUEST=GetMap', \"CQL_FILTER=(engn_code='00') and (acdnt_year between '2022' and '2022')  and (legaldong_code ilike '4146%') and (( acdnt_gae_code = '01') or ( acdnt_gae_code = '02') or ( acdnt_gae_code = '03') or ( acdnt_gae_code = '04')) and (( road_type = '6'))\", 'SRS=EPSG:5181', 'BBOX=159336.18146527,370536.34688258,261608.18146527,430376.34688258', 'WIDTH=1598', 'HEIGHT=935']\n",
      "Debugging - src_split:\n",
      "https://taas.koroad.or.kr/gis36/TAAS/wms?LAYERS=GNRL_GIS_ACDNT_INFO_NON\n",
      "STYLES=\n",
      "FORMAT=image/png\n",
      "TRANSPARENT=TRUE\n",
      "TILED=false\n",
      "TILESORIGIN=-30000,-60000\n",
      "PROJECTION=EPSG:5179\n",
      "DISPLAYPROJECTION=EPSG:5181\n",
      "TRANSFORM=EPSG:5181\n",
      "SERVICE=WMS\n",
      "VERSION=1.1.1\n",
      "REQUEST=GetMap\n",
      "CQL_FILTER=(engn_code='00') and (acdnt_year between '2022' and '2022')  and (legaldong_code ilike '4146%') and (( acdnt_gae_code = '01') or ( acdnt_gae_code = '02') or ( acdnt_gae_code = '03') or ( acdnt_gae_code = '04')) and (( road_type = '6'))\n",
      "SRS=EPSG:5181\n",
      "BBOX=159336.18146527,370536.34688258,261608.18146527,430376.34688258\n",
      "WIDTH=1598\n",
      "HEIGHT=935\n",
      "bbox_text : 159336.18146527,370536.34688258,261608.18146527,430376.34688258\n"
     ]
    },
    {
     "name": "stderr",
     "output_type": "stream",
     "text": [
      "  0%|          | 148/33698 [02:33<9:39:26,  1.04s/it]"
     ]
    },
    {
     "name": "stdout",
     "output_type": "stream",
     "text": [
      "Debugging - src content: <selenium.webdriver.remote.webelement.WebElement (session=\"5b06b3d12ca3a76e5c613afa896de233\", element=\"9E340076E16B0B12E9EB60FAF1C429D4_element_70899\")>\n",
      "Debugging - src content: https://taas.koroad.or.kr/gis36/TAAS/wms?LAYERS=GNRL_GIS_ACDNT_INFO_NON&STYLES=&FORMAT=image/png&TRANSPARENT=TRUE&TILED=false&TILESORIGIN=-30000,-60000&PROJECTION=EPSG:5179&DISPLAYPROJECTION=EPSG:5181&TRANSFORM=EPSG:5181&SERVICE=WMS&VERSION=1.1.1&REQUEST=GetMap&CQL_FILTER=(engn_code='00') and (acdnt_year between '2022' and '2022')  and (legaldong_code ilike '4146%') and (( acdnt_gae_code = '01') or ( acdnt_gae_code = '02') or ( acdnt_gae_code = '03') or ( acdnt_gae_code = '04')) and (( road_type = '6'))&SRS=EPSG:5181&BBOX=157922.04235841,388853.22357703,260194.04235841,448693.22357703&WIDTH=1598&HEIGHT=935\n",
      "src_split : ['https://taas.koroad.or.kr/gis36/TAAS/wms?LAYERS=GNRL_GIS_ACDNT_INFO_NON', 'STYLES=', 'FORMAT=image/png', 'TRANSPARENT=TRUE', 'TILED=false', 'TILESORIGIN=-30000,-60000', 'PROJECTION=EPSG:5179', 'DISPLAYPROJECTION=EPSG:5181', 'TRANSFORM=EPSG:5181', 'SERVICE=WMS', 'VERSION=1.1.1', 'REQUEST=GetMap', \"CQL_FILTER=(engn_code='00') and (acdnt_year between '2022' and '2022')  and (legaldong_code ilike '4146%') and (( acdnt_gae_code = '01') or ( acdnt_gae_code = '02') or ( acdnt_gae_code = '03') or ( acdnt_gae_code = '04')) and (( road_type = '6'))\", 'SRS=EPSG:5181', 'BBOX=157922.04235841,388853.22357703,260194.04235841,448693.22357703', 'WIDTH=1598', 'HEIGHT=935']\n",
      "Debugging - src_split:\n",
      "https://taas.koroad.or.kr/gis36/TAAS/wms?LAYERS=GNRL_GIS_ACDNT_INFO_NON\n",
      "STYLES=\n",
      "FORMAT=image/png\n",
      "TRANSPARENT=TRUE\n",
      "TILED=false\n",
      "TILESORIGIN=-30000,-60000\n",
      "PROJECTION=EPSG:5179\n",
      "DISPLAYPROJECTION=EPSG:5181\n",
      "TRANSFORM=EPSG:5181\n",
      "SERVICE=WMS\n",
      "VERSION=1.1.1\n",
      "REQUEST=GetMap\n",
      "CQL_FILTER=(engn_code='00') and (acdnt_year between '2022' and '2022')  and (legaldong_code ilike '4146%') and (( acdnt_gae_code = '01') or ( acdnt_gae_code = '02') or ( acdnt_gae_code = '03') or ( acdnt_gae_code = '04')) and (( road_type = '6'))\n",
      "SRS=EPSG:5181\n",
      "BBOX=157922.04235841,388853.22357703,260194.04235841,448693.22357703\n",
      "WIDTH=1598\n",
      "HEIGHT=935\n",
      "bbox_text : 157922.04235841,388853.22357703,260194.04235841,448693.22357703\n"
     ]
    },
    {
     "name": "stderr",
     "output_type": "stream",
     "text": [
      "  0%|          | 149/33698 [02:34<9:39:12,  1.04s/it]"
     ]
    },
    {
     "name": "stdout",
     "output_type": "stream",
     "text": [
      "Debugging - src content: <selenium.webdriver.remote.webelement.WebElement (session=\"5b06b3d12ca3a76e5c613afa896de233\", element=\"9E340076E16B0B12E9EB60FAF1C429D4_element_71349\")>\n",
      "Debugging - src content: https://taas.koroad.or.kr/gis36/TAAS/wms?LAYERS=GNRL_GIS_ACDNT_INFO_NON&STYLES=&FORMAT=image/png&TRANSPARENT=TRUE&TILED=false&TILESORIGIN=-30000,-60000&PROJECTION=EPSG:5179&DISPLAYPROJECTION=EPSG:5181&TRANSFORM=EPSG:5181&SERVICE=WMS&VERSION=1.1.1&REQUEST=GetMap&CQL_FILTER=(engn_code='00') and (acdnt_year between '2022' and '2022')  and (legaldong_code ilike '4146%') and (( acdnt_gae_code = '01') or ( acdnt_gae_code = '02') or ( acdnt_gae_code = '03') or ( acdnt_gae_code = '04')) and (( road_type = '6'))&SRS=EPSG:5181&BBOX=158312.41052384,385214.83012155,260584.41052384,445054.83012155&WIDTH=1598&HEIGHT=935\n",
      "src_split : ['https://taas.koroad.or.kr/gis36/TAAS/wms?LAYERS=GNRL_GIS_ACDNT_INFO_NON', 'STYLES=', 'FORMAT=image/png', 'TRANSPARENT=TRUE', 'TILED=false', 'TILESORIGIN=-30000,-60000', 'PROJECTION=EPSG:5179', 'DISPLAYPROJECTION=EPSG:5181', 'TRANSFORM=EPSG:5181', 'SERVICE=WMS', 'VERSION=1.1.1', 'REQUEST=GetMap', \"CQL_FILTER=(engn_code='00') and (acdnt_year between '2022' and '2022')  and (legaldong_code ilike '4146%') and (( acdnt_gae_code = '01') or ( acdnt_gae_code = '02') or ( acdnt_gae_code = '03') or ( acdnt_gae_code = '04')) and (( road_type = '6'))\", 'SRS=EPSG:5181', 'BBOX=158312.41052384,385214.83012155,260584.41052384,445054.83012155', 'WIDTH=1598', 'HEIGHT=935']\n",
      "Debugging - src_split:\n",
      "https://taas.koroad.or.kr/gis36/TAAS/wms?LAYERS=GNRL_GIS_ACDNT_INFO_NON\n",
      "STYLES=\n",
      "FORMAT=image/png\n",
      "TRANSPARENT=TRUE\n",
      "TILED=false\n",
      "TILESORIGIN=-30000,-60000\n",
      "PROJECTION=EPSG:5179\n",
      "DISPLAYPROJECTION=EPSG:5181\n",
      "TRANSFORM=EPSG:5181\n",
      "SERVICE=WMS\n",
      "VERSION=1.1.1\n",
      "REQUEST=GetMap\n",
      "CQL_FILTER=(engn_code='00') and (acdnt_year between '2022' and '2022')  and (legaldong_code ilike '4146%') and (( acdnt_gae_code = '01') or ( acdnt_gae_code = '02') or ( acdnt_gae_code = '03') or ( acdnt_gae_code = '04')) and (( road_type = '6'))\n",
      "SRS=EPSG:5181\n",
      "BBOX=158312.41052384,385214.83012155,260584.41052384,445054.83012155\n",
      "WIDTH=1598\n",
      "HEIGHT=935\n",
      "bbox_text : 158312.41052384,385214.83012155,260584.41052384,445054.83012155\n"
     ]
    },
    {
     "name": "stderr",
     "output_type": "stream",
     "text": [
      "  0%|          | 150/33698 [02:35<9:39:27,  1.04s/it]"
     ]
    },
    {
     "name": "stdout",
     "output_type": "stream",
     "text": [
      "Debugging - src content: <selenium.webdriver.remote.webelement.WebElement (session=\"5b06b3d12ca3a76e5c613afa896de233\", element=\"9E340076E16B0B12E9EB60FAF1C429D4_element_71799\")>\n",
      "Debugging - src content: https://taas.koroad.or.kr/gis36/TAAS/wms?LAYERS=GNRL_GIS_ACDNT_INFO_NON&STYLES=&FORMAT=image/png&TRANSPARENT=TRUE&TILED=false&TILESORIGIN=-30000,-60000&PROJECTION=EPSG:5179&DISPLAYPROJECTION=EPSG:5181&TRANSFORM=EPSG:5181&SERVICE=WMS&VERSION=1.1.1&REQUEST=GetMap&CQL_FILTER=(engn_code='00') and (acdnt_year between '2022' and '2022')  and (legaldong_code ilike '4146%') and (( acdnt_gae_code = '01') or ( acdnt_gae_code = '02') or ( acdnt_gae_code = '03') or ( acdnt_gae_code = '04')) and (( road_type = '6'))&SRS=EPSG:5181&BBOX=159688.36636097,369577.8154647,261960.36636097,429417.8154647&WIDTH=1598&HEIGHT=935\n",
      "src_split : ['https://taas.koroad.or.kr/gis36/TAAS/wms?LAYERS=GNRL_GIS_ACDNT_INFO_NON', 'STYLES=', 'FORMAT=image/png', 'TRANSPARENT=TRUE', 'TILED=false', 'TILESORIGIN=-30000,-60000', 'PROJECTION=EPSG:5179', 'DISPLAYPROJECTION=EPSG:5181', 'TRANSFORM=EPSG:5181', 'SERVICE=WMS', 'VERSION=1.1.1', 'REQUEST=GetMap', \"CQL_FILTER=(engn_code='00') and (acdnt_year between '2022' and '2022')  and (legaldong_code ilike '4146%') and (( acdnt_gae_code = '01') or ( acdnt_gae_code = '02') or ( acdnt_gae_code = '03') or ( acdnt_gae_code = '04')) and (( road_type = '6'))\", 'SRS=EPSG:5181', 'BBOX=159688.36636097,369577.8154647,261960.36636097,429417.8154647', 'WIDTH=1598', 'HEIGHT=935']\n",
      "Debugging - src_split:\n",
      "https://taas.koroad.or.kr/gis36/TAAS/wms?LAYERS=GNRL_GIS_ACDNT_INFO_NON\n",
      "STYLES=\n",
      "FORMAT=image/png\n",
      "TRANSPARENT=TRUE\n",
      "TILED=false\n",
      "TILESORIGIN=-30000,-60000\n",
      "PROJECTION=EPSG:5179\n",
      "DISPLAYPROJECTION=EPSG:5181\n",
      "TRANSFORM=EPSG:5181\n",
      "SERVICE=WMS\n",
      "VERSION=1.1.1\n",
      "REQUEST=GetMap\n",
      "CQL_FILTER=(engn_code='00') and (acdnt_year between '2022' and '2022')  and (legaldong_code ilike '4146%') and (( acdnt_gae_code = '01') or ( acdnt_gae_code = '02') or ( acdnt_gae_code = '03') or ( acdnt_gae_code = '04')) and (( road_type = '6'))\n",
      "SRS=EPSG:5181\n",
      "BBOX=159688.36636097,369577.8154647,261960.36636097,429417.8154647\n",
      "WIDTH=1598\n",
      "HEIGHT=935\n",
      "bbox_text : 159688.36636097,369577.8154647,261960.36636097,429417.8154647\n"
     ]
    },
    {
     "name": "stderr",
     "output_type": "stream",
     "text": [
      "  0%|          | 151/33698 [02:36<9:40:39,  1.04s/it]"
     ]
    },
    {
     "name": "stdout",
     "output_type": "stream",
     "text": [
      "Debugging - src content: <selenium.webdriver.remote.webelement.WebElement (session=\"5b06b3d12ca3a76e5c613afa896de233\", element=\"9E340076E16B0B12E9EB60FAF1C429D4_element_72256\")>\n",
      "Debugging - src content: https://taas.koroad.or.kr/gis36/TAAS/wms?LAYERS=GNRL_GIS_ACDNT_INFO_NON&STYLES=&FORMAT=image/png&TRANSPARENT=TRUE&TILED=false&TILESORIGIN=-30000,-60000&PROJECTION=EPSG:5179&DISPLAYPROJECTION=EPSG:5181&TRANSFORM=EPSG:5181&SERVICE=WMS&VERSION=1.1.1&REQUEST=GetMap&CQL_FILTER=(engn_code='00') and (acdnt_year between '2022' and '2022')  and (legaldong_code ilike '4146%') and (( acdnt_gae_code = '01') or ( acdnt_gae_code = '02') or ( acdnt_gae_code = '03') or ( acdnt_gae_code = '04')) and (( road_type = '6'))&SRS=EPSG:5181&BBOX=170315.55013902,386491.714164,272587.55013902,446331.714164&WIDTH=1598&HEIGHT=935\n",
      "src_split : ['https://taas.koroad.or.kr/gis36/TAAS/wms?LAYERS=GNRL_GIS_ACDNT_INFO_NON', 'STYLES=', 'FORMAT=image/png', 'TRANSPARENT=TRUE', 'TILED=false', 'TILESORIGIN=-30000,-60000', 'PROJECTION=EPSG:5179', 'DISPLAYPROJECTION=EPSG:5181', 'TRANSFORM=EPSG:5181', 'SERVICE=WMS', 'VERSION=1.1.1', 'REQUEST=GetMap', \"CQL_FILTER=(engn_code='00') and (acdnt_year between '2022' and '2022')  and (legaldong_code ilike '4146%') and (( acdnt_gae_code = '01') or ( acdnt_gae_code = '02') or ( acdnt_gae_code = '03') or ( acdnt_gae_code = '04')) and (( road_type = '6'))\", 'SRS=EPSG:5181', 'BBOX=170315.55013902,386491.714164,272587.55013902,446331.714164', 'WIDTH=1598', 'HEIGHT=935']\n",
      "Debugging - src_split:\n",
      "https://taas.koroad.or.kr/gis36/TAAS/wms?LAYERS=GNRL_GIS_ACDNT_INFO_NON\n",
      "STYLES=\n",
      "FORMAT=image/png\n",
      "TRANSPARENT=TRUE\n",
      "TILED=false\n",
      "TILESORIGIN=-30000,-60000\n",
      "PROJECTION=EPSG:5179\n",
      "DISPLAYPROJECTION=EPSG:5181\n",
      "TRANSFORM=EPSG:5181\n",
      "SERVICE=WMS\n",
      "VERSION=1.1.1\n",
      "REQUEST=GetMap\n",
      "CQL_FILTER=(engn_code='00') and (acdnt_year between '2022' and '2022')  and (legaldong_code ilike '4146%') and (( acdnt_gae_code = '01') or ( acdnt_gae_code = '02') or ( acdnt_gae_code = '03') or ( acdnt_gae_code = '04')) and (( road_type = '6'))\n",
      "SRS=EPSG:5181\n",
      "BBOX=170315.55013902,386491.714164,272587.55013902,446331.714164\n",
      "WIDTH=1598\n",
      "HEIGHT=935\n",
      "bbox_text : 170315.55013902,386491.714164,272587.55013902,446331.714164\n"
     ]
    },
    {
     "name": "stderr",
     "output_type": "stream",
     "text": [
      "  0%|          | 152/33698 [02:37<9:40:46,  1.04s/it]"
     ]
    },
    {
     "name": "stdout",
     "output_type": "stream",
     "text": [
      "Debugging - src content: <selenium.webdriver.remote.webelement.WebElement (session=\"5b06b3d12ca3a76e5c613afa896de233\", element=\"9E340076E16B0B12E9EB60FAF1C429D4_element_72713\")>\n",
      "Debugging - src content: https://taas.koroad.or.kr/gis36/TAAS/wms?LAYERS=GNRL_GIS_ACDNT_INFO_NON&STYLES=&FORMAT=image/png&TRANSPARENT=TRUE&TILED=false&TILESORIGIN=-30000,-60000&PROJECTION=EPSG:5179&DISPLAYPROJECTION=EPSG:5181&TRANSFORM=EPSG:5181&SERVICE=WMS&VERSION=1.1.1&REQUEST=GetMap&CQL_FILTER=(engn_code='00') and (acdnt_year between '2022' and '2022')  and (legaldong_code ilike '4146%') and (( acdnt_gae_code = '01') or ( acdnt_gae_code = '02') or ( acdnt_gae_code = '03') or ( acdnt_gae_code = '04')) and (( road_type = '6'))&SRS=EPSG:5181&BBOX=158051.26830317,395630.61589136,260323.26830317,455470.61589136&WIDTH=1598&HEIGHT=935\n",
      "src_split : ['https://taas.koroad.or.kr/gis36/TAAS/wms?LAYERS=GNRL_GIS_ACDNT_INFO_NON', 'STYLES=', 'FORMAT=image/png', 'TRANSPARENT=TRUE', 'TILED=false', 'TILESORIGIN=-30000,-60000', 'PROJECTION=EPSG:5179', 'DISPLAYPROJECTION=EPSG:5181', 'TRANSFORM=EPSG:5181', 'SERVICE=WMS', 'VERSION=1.1.1', 'REQUEST=GetMap', \"CQL_FILTER=(engn_code='00') and (acdnt_year between '2022' and '2022')  and (legaldong_code ilike '4146%') and (( acdnt_gae_code = '01') or ( acdnt_gae_code = '02') or ( acdnt_gae_code = '03') or ( acdnt_gae_code = '04')) and (( road_type = '6'))\", 'SRS=EPSG:5181', 'BBOX=158051.26830317,395630.61589136,260323.26830317,455470.61589136', 'WIDTH=1598', 'HEIGHT=935']\n",
      "Debugging - src_split:\n",
      "https://taas.koroad.or.kr/gis36/TAAS/wms?LAYERS=GNRL_GIS_ACDNT_INFO_NON\n",
      "STYLES=\n",
      "FORMAT=image/png\n",
      "TRANSPARENT=TRUE\n",
      "TILED=false\n",
      "TILESORIGIN=-30000,-60000\n",
      "PROJECTION=EPSG:5179\n",
      "DISPLAYPROJECTION=EPSG:5181\n",
      "TRANSFORM=EPSG:5181\n",
      "SERVICE=WMS\n",
      "VERSION=1.1.1\n",
      "REQUEST=GetMap\n",
      "CQL_FILTER=(engn_code='00') and (acdnt_year between '2022' and '2022')  and (legaldong_code ilike '4146%') and (( acdnt_gae_code = '01') or ( acdnt_gae_code = '02') or ( acdnt_gae_code = '03') or ( acdnt_gae_code = '04')) and (( road_type = '6'))\n",
      "SRS=EPSG:5181\n",
      "BBOX=158051.26830317,395630.61589136,260323.26830317,455470.61589136\n",
      "WIDTH=1598\n",
      "HEIGHT=935\n",
      "bbox_text : 158051.26830317,395630.61589136,260323.26830317,455470.61589136\n"
     ]
    },
    {
     "name": "stderr",
     "output_type": "stream",
     "text": [
      "  0%|          | 153/33698 [02:38<9:40:17,  1.04s/it]"
     ]
    },
    {
     "name": "stdout",
     "output_type": "stream",
     "text": [
      "Debugging - src content: <selenium.webdriver.remote.webelement.WebElement (session=\"5b06b3d12ca3a76e5c613afa896de233\", element=\"9E340076E16B0B12E9EB60FAF1C429D4_element_73170\")>\n",
      "Debugging - src content: https://taas.koroad.or.kr/gis36/TAAS/wms?LAYERS=GNRL_GIS_ACDNT_INFO_NON&STYLES=&FORMAT=image/png&TRANSPARENT=TRUE&TILED=false&TILESORIGIN=-30000,-60000&PROJECTION=EPSG:5179&DISPLAYPROJECTION=EPSG:5181&TRANSFORM=EPSG:5181&SERVICE=WMS&VERSION=1.1.1&REQUEST=GetMap&CQL_FILTER=(engn_code='00') and (acdnt_year between '2022' and '2022')  and (legaldong_code ilike '4146%') and (( acdnt_gae_code = '01') or ( acdnt_gae_code = '02') or ( acdnt_gae_code = '03') or ( acdnt_gae_code = '04')) and (( road_type = '6'))&SRS=EPSG:5181&BBOX=168436.32597403,387145.06106016,270708.32597403,446985.06106016&WIDTH=1598&HEIGHT=935\n",
      "src_split : ['https://taas.koroad.or.kr/gis36/TAAS/wms?LAYERS=GNRL_GIS_ACDNT_INFO_NON', 'STYLES=', 'FORMAT=image/png', 'TRANSPARENT=TRUE', 'TILED=false', 'TILESORIGIN=-30000,-60000', 'PROJECTION=EPSG:5179', 'DISPLAYPROJECTION=EPSG:5181', 'TRANSFORM=EPSG:5181', 'SERVICE=WMS', 'VERSION=1.1.1', 'REQUEST=GetMap', \"CQL_FILTER=(engn_code='00') and (acdnt_year between '2022' and '2022')  and (legaldong_code ilike '4146%') and (( acdnt_gae_code = '01') or ( acdnt_gae_code = '02') or ( acdnt_gae_code = '03') or ( acdnt_gae_code = '04')) and (( road_type = '6'))\", 'SRS=EPSG:5181', 'BBOX=168436.32597403,387145.06106016,270708.32597403,446985.06106016', 'WIDTH=1598', 'HEIGHT=935']\n",
      "Debugging - src_split:\n",
      "https://taas.koroad.or.kr/gis36/TAAS/wms?LAYERS=GNRL_GIS_ACDNT_INFO_NON\n",
      "STYLES=\n",
      "FORMAT=image/png\n",
      "TRANSPARENT=TRUE\n",
      "TILED=false\n",
      "TILESORIGIN=-30000,-60000\n",
      "PROJECTION=EPSG:5179\n",
      "DISPLAYPROJECTION=EPSG:5181\n",
      "TRANSFORM=EPSG:5181\n",
      "SERVICE=WMS\n",
      "VERSION=1.1.1\n",
      "REQUEST=GetMap\n",
      "CQL_FILTER=(engn_code='00') and (acdnt_year between '2022' and '2022')  and (legaldong_code ilike '4146%') and (( acdnt_gae_code = '01') or ( acdnt_gae_code = '02') or ( acdnt_gae_code = '03') or ( acdnt_gae_code = '04')) and (( road_type = '6'))\n",
      "SRS=EPSG:5181\n",
      "BBOX=168436.32597403,387145.06106016,270708.32597403,446985.06106016\n",
      "WIDTH=1598\n",
      "HEIGHT=935\n",
      "bbox_text : 168436.32597403,387145.06106016,270708.32597403,446985.06106016\n"
     ]
    },
    {
     "name": "stderr",
     "output_type": "stream",
     "text": [
      "  0%|          | 154/33698 [02:39<9:40:00,  1.04s/it]"
     ]
    },
    {
     "name": "stdout",
     "output_type": "stream",
     "text": [
      "Debugging - src content: <selenium.webdriver.remote.webelement.WebElement (session=\"5b06b3d12ca3a76e5c613afa896de233\", element=\"9E340076E16B0B12E9EB60FAF1C429D4_element_73627\")>\n",
      "Debugging - src content: https://taas.koroad.or.kr/gis36/TAAS/wms?LAYERS=GNRL_GIS_ACDNT_INFO_NON&STYLES=&FORMAT=image/png&TRANSPARENT=TRUE&TILED=false&TILESORIGIN=-30000,-60000&PROJECTION=EPSG:5179&DISPLAYPROJECTION=EPSG:5181&TRANSFORM=EPSG:5181&SERVICE=WMS&VERSION=1.1.1&REQUEST=GetMap&CQL_FILTER=(engn_code='00') and (acdnt_year between '2022' and '2022')  and (legaldong_code ilike '4146%') and (( acdnt_gae_code = '01') or ( acdnt_gae_code = '02') or ( acdnt_gae_code = '03') or ( acdnt_gae_code = '04')) and (( road_type = '6'))&SRS=EPSG:5181&BBOX=163566.34269511,390740.80465991,265838.34269511,450580.80465991&WIDTH=1598&HEIGHT=935\n",
      "src_split : ['https://taas.koroad.or.kr/gis36/TAAS/wms?LAYERS=GNRL_GIS_ACDNT_INFO_NON', 'STYLES=', 'FORMAT=image/png', 'TRANSPARENT=TRUE', 'TILED=false', 'TILESORIGIN=-30000,-60000', 'PROJECTION=EPSG:5179', 'DISPLAYPROJECTION=EPSG:5181', 'TRANSFORM=EPSG:5181', 'SERVICE=WMS', 'VERSION=1.1.1', 'REQUEST=GetMap', \"CQL_FILTER=(engn_code='00') and (acdnt_year between '2022' and '2022')  and (legaldong_code ilike '4146%') and (( acdnt_gae_code = '01') or ( acdnt_gae_code = '02') or ( acdnt_gae_code = '03') or ( acdnt_gae_code = '04')) and (( road_type = '6'))\", 'SRS=EPSG:5181', 'BBOX=163566.34269511,390740.80465991,265838.34269511,450580.80465991', 'WIDTH=1598', 'HEIGHT=935']\n",
      "Debugging - src_split:\n",
      "https://taas.koroad.or.kr/gis36/TAAS/wms?LAYERS=GNRL_GIS_ACDNT_INFO_NON\n",
      "STYLES=\n",
      "FORMAT=image/png\n",
      "TRANSPARENT=TRUE\n",
      "TILED=false\n",
      "TILESORIGIN=-30000,-60000\n",
      "PROJECTION=EPSG:5179\n",
      "DISPLAYPROJECTION=EPSG:5181\n",
      "TRANSFORM=EPSG:5181\n",
      "SERVICE=WMS\n",
      "VERSION=1.1.1\n",
      "REQUEST=GetMap\n",
      "CQL_FILTER=(engn_code='00') and (acdnt_year between '2022' and '2022')  and (legaldong_code ilike '4146%') and (( acdnt_gae_code = '01') or ( acdnt_gae_code = '02') or ( acdnt_gae_code = '03') or ( acdnt_gae_code = '04')) and (( road_type = '6'))\n",
      "SRS=EPSG:5181\n",
      "BBOX=163566.34269511,390740.80465991,265838.34269511,450580.80465991\n",
      "WIDTH=1598\n",
      "HEIGHT=935\n",
      "bbox_text : 163566.34269511,390740.80465991,265838.34269511,450580.80465991\n"
     ]
    },
    {
     "name": "stderr",
     "output_type": "stream",
     "text": [
      "  0%|          | 155/33698 [02:40<9:38:15,  1.03s/it]"
     ]
    },
    {
     "name": "stdout",
     "output_type": "stream",
     "text": [
      "Debugging - src content: <selenium.webdriver.remote.webelement.WebElement (session=\"5b06b3d12ca3a76e5c613afa896de233\", element=\"9E340076E16B0B12E9EB60FAF1C429D4_element_74067\")>\n",
      "Debugging - src content: https://taas.koroad.or.kr/gis36/TAAS/wms?LAYERS=GNRL_GIS_ACDNT_INFO_NON&STYLES=&FORMAT=image/png&TRANSPARENT=TRUE&TILED=false&TILESORIGIN=-30000,-60000&PROJECTION=EPSG:5179&DISPLAYPROJECTION=EPSG:5181&TRANSFORM=EPSG:5181&SERVICE=WMS&VERSION=1.1.1&REQUEST=GetMap&CQL_FILTER=(engn_code='00') and (acdnt_year between '2022' and '2022')  and (legaldong_code ilike '4146%') and (( acdnt_gae_code = '01') or ( acdnt_gae_code = '02') or ( acdnt_gae_code = '03') or ( acdnt_gae_code = '04')) and (( road_type = '6'))&SRS=EPSG:5181&BBOX=158066.36457977,391831.17655691,260338.36457977,451671.17655691&WIDTH=1598&HEIGHT=935\n",
      "src_split : ['https://taas.koroad.or.kr/gis36/TAAS/wms?LAYERS=GNRL_GIS_ACDNT_INFO_NON', 'STYLES=', 'FORMAT=image/png', 'TRANSPARENT=TRUE', 'TILED=false', 'TILESORIGIN=-30000,-60000', 'PROJECTION=EPSG:5179', 'DISPLAYPROJECTION=EPSG:5181', 'TRANSFORM=EPSG:5181', 'SERVICE=WMS', 'VERSION=1.1.1', 'REQUEST=GetMap', \"CQL_FILTER=(engn_code='00') and (acdnt_year between '2022' and '2022')  and (legaldong_code ilike '4146%') and (( acdnt_gae_code = '01') or ( acdnt_gae_code = '02') or ( acdnt_gae_code = '03') or ( acdnt_gae_code = '04')) and (( road_type = '6'))\", 'SRS=EPSG:5181', 'BBOX=158066.36457977,391831.17655691,260338.36457977,451671.17655691', 'WIDTH=1598', 'HEIGHT=935']\n",
      "Debugging - src_split:\n",
      "https://taas.koroad.or.kr/gis36/TAAS/wms?LAYERS=GNRL_GIS_ACDNT_INFO_NON\n",
      "STYLES=\n",
      "FORMAT=image/png\n",
      "TRANSPARENT=TRUE\n",
      "TILED=false\n",
      "TILESORIGIN=-30000,-60000\n",
      "PROJECTION=EPSG:5179\n",
      "DISPLAYPROJECTION=EPSG:5181\n",
      "TRANSFORM=EPSG:5181\n",
      "SERVICE=WMS\n",
      "VERSION=1.1.1\n",
      "REQUEST=GetMap\n",
      "CQL_FILTER=(engn_code='00') and (acdnt_year between '2022' and '2022')  and (legaldong_code ilike '4146%') and (( acdnt_gae_code = '01') or ( acdnt_gae_code = '02') or ( acdnt_gae_code = '03') or ( acdnt_gae_code = '04')) and (( road_type = '6'))\n",
      "SRS=EPSG:5181\n",
      "BBOX=158066.36457977,391831.17655691,260338.36457977,451671.17655691\n",
      "WIDTH=1598\n",
      "HEIGHT=935\n",
      "bbox_text : 158066.36457977,391831.17655691,260338.36457977,451671.17655691\n"
     ]
    },
    {
     "name": "stderr",
     "output_type": "stream",
     "text": [
      "  0%|          | 156/33698 [02:41<9:38:29,  1.03s/it]"
     ]
    },
    {
     "name": "stdout",
     "output_type": "stream",
     "text": [
      "Debugging - src content: <selenium.webdriver.remote.webelement.WebElement (session=\"5b06b3d12ca3a76e5c613afa896de233\", element=\"9E340076E16B0B12E9EB60FAF1C429D4_element_74517\")>\n",
      "Debugging - src content: https://taas.koroad.or.kr/gis36/TAAS/wms?LAYERS=GNRL_GIS_ACDNT_INFO_NON&STYLES=&FORMAT=image/png&TRANSPARENT=TRUE&TILED=false&TILESORIGIN=-30000,-60000&PROJECTION=EPSG:5179&DISPLAYPROJECTION=EPSG:5181&TRANSFORM=EPSG:5181&SERVICE=WMS&VERSION=1.1.1&REQUEST=GetMap&CQL_FILTER=(engn_code='00') and (acdnt_year between '2022' and '2022')  and (legaldong_code ilike '4146%') and (( acdnt_gae_code = '01') or ( acdnt_gae_code = '02') or ( acdnt_gae_code = '03') or ( acdnt_gae_code = '04')) and (( road_type = '6'))&SRS=EPSG:5181&BBOX=158316.57048648,385184.84008251,260588.57048648,445024.84008251&WIDTH=1598&HEIGHT=935\n",
      "src_split : ['https://taas.koroad.or.kr/gis36/TAAS/wms?LAYERS=GNRL_GIS_ACDNT_INFO_NON', 'STYLES=', 'FORMAT=image/png', 'TRANSPARENT=TRUE', 'TILED=false', 'TILESORIGIN=-30000,-60000', 'PROJECTION=EPSG:5179', 'DISPLAYPROJECTION=EPSG:5181', 'TRANSFORM=EPSG:5181', 'SERVICE=WMS', 'VERSION=1.1.1', 'REQUEST=GetMap', \"CQL_FILTER=(engn_code='00') and (acdnt_year between '2022' and '2022')  and (legaldong_code ilike '4146%') and (( acdnt_gae_code = '01') or ( acdnt_gae_code = '02') or ( acdnt_gae_code = '03') or ( acdnt_gae_code = '04')) and (( road_type = '6'))\", 'SRS=EPSG:5181', 'BBOX=158316.57048648,385184.84008251,260588.57048648,445024.84008251', 'WIDTH=1598', 'HEIGHT=935']\n",
      "Debugging - src_split:\n",
      "https://taas.koroad.or.kr/gis36/TAAS/wms?LAYERS=GNRL_GIS_ACDNT_INFO_NON\n",
      "STYLES=\n",
      "FORMAT=image/png\n",
      "TRANSPARENT=TRUE\n",
      "TILED=false\n",
      "TILESORIGIN=-30000,-60000\n",
      "PROJECTION=EPSG:5179\n",
      "DISPLAYPROJECTION=EPSG:5181\n",
      "TRANSFORM=EPSG:5181\n",
      "SERVICE=WMS\n",
      "VERSION=1.1.1\n",
      "REQUEST=GetMap\n",
      "CQL_FILTER=(engn_code='00') and (acdnt_year between '2022' and '2022')  and (legaldong_code ilike '4146%') and (( acdnt_gae_code = '01') or ( acdnt_gae_code = '02') or ( acdnt_gae_code = '03') or ( acdnt_gae_code = '04')) and (( road_type = '6'))\n",
      "SRS=EPSG:5181\n",
      "BBOX=158316.57048648,385184.84008251,260588.57048648,445024.84008251\n",
      "WIDTH=1598\n",
      "HEIGHT=935\n",
      "bbox_text : 158316.57048648,385184.84008251,260588.57048648,445024.84008251\n"
     ]
    },
    {
     "name": "stderr",
     "output_type": "stream",
     "text": [
      "  0%|          | 157/33698 [02:42<9:37:40,  1.03s/it]"
     ]
    },
    {
     "name": "stdout",
     "output_type": "stream",
     "text": [
      "Debugging - src content: <selenium.webdriver.remote.webelement.WebElement (session=\"5b06b3d12ca3a76e5c613afa896de233\", element=\"9E340076E16B0B12E9EB60FAF1C429D4_element_74967\")>\n",
      "Debugging - src content: https://taas.koroad.or.kr/gis36/TAAS/wms?LAYERS=GNRL_GIS_ACDNT_INFO_NON&STYLES=&FORMAT=image/png&TRANSPARENT=TRUE&TILED=false&TILESORIGIN=-30000,-60000&PROJECTION=EPSG:5179&DISPLAYPROJECTION=EPSG:5181&TRANSFORM=EPSG:5181&SERVICE=WMS&VERSION=1.1.1&REQUEST=GetMap&CQL_FILTER=(engn_code='00') and (acdnt_year between '2022' and '2022')  and (legaldong_code ilike '4146%') and (( acdnt_gae_code = '01') or ( acdnt_gae_code = '02') or ( acdnt_gae_code = '03') or ( acdnt_gae_code = '04')) and (( road_type = '6'))&SRS=EPSG:5181&BBOX=158054.20031788,393752.88060253,260326.20031788,453592.88060253&WIDTH=1598&HEIGHT=935\n",
      "src_split : ['https://taas.koroad.or.kr/gis36/TAAS/wms?LAYERS=GNRL_GIS_ACDNT_INFO_NON', 'STYLES=', 'FORMAT=image/png', 'TRANSPARENT=TRUE', 'TILED=false', 'TILESORIGIN=-30000,-60000', 'PROJECTION=EPSG:5179', 'DISPLAYPROJECTION=EPSG:5181', 'TRANSFORM=EPSG:5181', 'SERVICE=WMS', 'VERSION=1.1.1', 'REQUEST=GetMap', \"CQL_FILTER=(engn_code='00') and (acdnt_year between '2022' and '2022')  and (legaldong_code ilike '4146%') and (( acdnt_gae_code = '01') or ( acdnt_gae_code = '02') or ( acdnt_gae_code = '03') or ( acdnt_gae_code = '04')) and (( road_type = '6'))\", 'SRS=EPSG:5181', 'BBOX=158054.20031788,393752.88060253,260326.20031788,453592.88060253', 'WIDTH=1598', 'HEIGHT=935']\n",
      "Debugging - src_split:\n",
      "https://taas.koroad.or.kr/gis36/TAAS/wms?LAYERS=GNRL_GIS_ACDNT_INFO_NON\n",
      "STYLES=\n",
      "FORMAT=image/png\n",
      "TRANSPARENT=TRUE\n",
      "TILED=false\n",
      "TILESORIGIN=-30000,-60000\n",
      "PROJECTION=EPSG:5179\n",
      "DISPLAYPROJECTION=EPSG:5181\n",
      "TRANSFORM=EPSG:5181\n",
      "SERVICE=WMS\n",
      "VERSION=1.1.1\n",
      "REQUEST=GetMap\n",
      "CQL_FILTER=(engn_code='00') and (acdnt_year between '2022' and '2022')  and (legaldong_code ilike '4146%') and (( acdnt_gae_code = '01') or ( acdnt_gae_code = '02') or ( acdnt_gae_code = '03') or ( acdnt_gae_code = '04')) and (( road_type = '6'))\n",
      "SRS=EPSG:5181\n",
      "BBOX=158054.20031788,393752.88060253,260326.20031788,453592.88060253\n",
      "WIDTH=1598\n",
      "HEIGHT=935\n",
      "bbox_text : 158054.20031788,393752.88060253,260326.20031788,453592.88060253\n"
     ]
    },
    {
     "name": "stderr",
     "output_type": "stream",
     "text": [
      "  0%|          | 158/33698 [02:43<9:37:41,  1.03s/it]"
     ]
    },
    {
     "name": "stdout",
     "output_type": "stream",
     "text": [
      "Debugging - src content: <selenium.webdriver.remote.webelement.WebElement (session=\"5b06b3d12ca3a76e5c613afa896de233\", element=\"9E340076E16B0B12E9EB60FAF1C429D4_element_75407\")>\n",
      "Debugging - src content: https://taas.koroad.or.kr/gis36/TAAS/wms?LAYERS=GNRL_GIS_ACDNT_INFO_NON&STYLES=&FORMAT=image/png&TRANSPARENT=TRUE&TILED=false&TILESORIGIN=-30000,-60000&PROJECTION=EPSG:5179&DISPLAYPROJECTION=EPSG:5181&TRANSFORM=EPSG:5181&SERVICE=WMS&VERSION=1.1.1&REQUEST=GetMap&CQL_FILTER=(engn_code='00') and (acdnt_year between '2022' and '2022')  and (legaldong_code ilike '4146%') and (( acdnt_gae_code = '01') or ( acdnt_gae_code = '02') or ( acdnt_gae_code = '03') or ( acdnt_gae_code = '04')) and (( road_type = '6'))&SRS=EPSG:5181&BBOX=160264.17192317,391277.5706181,262536.17192317,451117.5706181&WIDTH=1598&HEIGHT=935\n",
      "src_split : ['https://taas.koroad.or.kr/gis36/TAAS/wms?LAYERS=GNRL_GIS_ACDNT_INFO_NON', 'STYLES=', 'FORMAT=image/png', 'TRANSPARENT=TRUE', 'TILED=false', 'TILESORIGIN=-30000,-60000', 'PROJECTION=EPSG:5179', 'DISPLAYPROJECTION=EPSG:5181', 'TRANSFORM=EPSG:5181', 'SERVICE=WMS', 'VERSION=1.1.1', 'REQUEST=GetMap', \"CQL_FILTER=(engn_code='00') and (acdnt_year between '2022' and '2022')  and (legaldong_code ilike '4146%') and (( acdnt_gae_code = '01') or ( acdnt_gae_code = '02') or ( acdnt_gae_code = '03') or ( acdnt_gae_code = '04')) and (( road_type = '6'))\", 'SRS=EPSG:5181', 'BBOX=160264.17192317,391277.5706181,262536.17192317,451117.5706181', 'WIDTH=1598', 'HEIGHT=935']\n",
      "Debugging - src_split:\n",
      "https://taas.koroad.or.kr/gis36/TAAS/wms?LAYERS=GNRL_GIS_ACDNT_INFO_NON\n",
      "STYLES=\n",
      "FORMAT=image/png\n",
      "TRANSPARENT=TRUE\n",
      "TILED=false\n",
      "TILESORIGIN=-30000,-60000\n",
      "PROJECTION=EPSG:5179\n",
      "DISPLAYPROJECTION=EPSG:5181\n",
      "TRANSFORM=EPSG:5181\n",
      "SERVICE=WMS\n",
      "VERSION=1.1.1\n",
      "REQUEST=GetMap\n",
      "CQL_FILTER=(engn_code='00') and (acdnt_year between '2022' and '2022')  and (legaldong_code ilike '4146%') and (( acdnt_gae_code = '01') or ( acdnt_gae_code = '02') or ( acdnt_gae_code = '03') or ( acdnt_gae_code = '04')) and (( road_type = '6'))\n",
      "SRS=EPSG:5181\n",
      "BBOX=160264.17192317,391277.5706181,262536.17192317,451117.5706181\n",
      "WIDTH=1598\n",
      "HEIGHT=935\n",
      "bbox_text : 160264.17192317,391277.5706181,262536.17192317,451117.5706181\n"
     ]
    },
    {
     "name": "stderr",
     "output_type": "stream",
     "text": [
      "  0%|          | 159/33698 [02:44<9:38:30,  1.03s/it]"
     ]
    },
    {
     "name": "stdout",
     "output_type": "stream",
     "text": [
      "Debugging - src content: <selenium.webdriver.remote.webelement.WebElement (session=\"5b06b3d12ca3a76e5c613afa896de233\", element=\"9E340076E16B0B12E9EB60FAF1C429D4_element_75867\")>\n",
      "Debugging - src content: https://taas.koroad.or.kr/gis36/TAAS/wms?LAYERS=GNRL_GIS_ACDNT_INFO_NON&STYLES=&FORMAT=image/png&TRANSPARENT=TRUE&TILED=false&TILESORIGIN=-30000,-60000&PROJECTION=EPSG:5179&DISPLAYPROJECTION=EPSG:5181&TRANSFORM=EPSG:5181&SERVICE=WMS&VERSION=1.1.1&REQUEST=GetMap&CQL_FILTER=(engn_code='00') and (acdnt_year between '2022' and '2022')  and (legaldong_code ilike '4146%') and (( acdnt_gae_code = '01') or ( acdnt_gae_code = '02') or ( acdnt_gae_code = '03') or ( acdnt_gae_code = '04')) and (( road_type = '6'))&SRS=EPSG:5181&BBOX=159369.94687425,370393.46726818,261641.94687425,430233.46726818&WIDTH=1598&HEIGHT=935\n",
      "src_split : ['https://taas.koroad.or.kr/gis36/TAAS/wms?LAYERS=GNRL_GIS_ACDNT_INFO_NON', 'STYLES=', 'FORMAT=image/png', 'TRANSPARENT=TRUE', 'TILED=false', 'TILESORIGIN=-30000,-60000', 'PROJECTION=EPSG:5179', 'DISPLAYPROJECTION=EPSG:5181', 'TRANSFORM=EPSG:5181', 'SERVICE=WMS', 'VERSION=1.1.1', 'REQUEST=GetMap', \"CQL_FILTER=(engn_code='00') and (acdnt_year between '2022' and '2022')  and (legaldong_code ilike '4146%') and (( acdnt_gae_code = '01') or ( acdnt_gae_code = '02') or ( acdnt_gae_code = '03') or ( acdnt_gae_code = '04')) and (( road_type = '6'))\", 'SRS=EPSG:5181', 'BBOX=159369.94687425,370393.46726818,261641.94687425,430233.46726818', 'WIDTH=1598', 'HEIGHT=935']\n",
      "Debugging - src_split:\n",
      "https://taas.koroad.or.kr/gis36/TAAS/wms?LAYERS=GNRL_GIS_ACDNT_INFO_NON\n",
      "STYLES=\n",
      "FORMAT=image/png\n",
      "TRANSPARENT=TRUE\n",
      "TILED=false\n",
      "TILESORIGIN=-30000,-60000\n",
      "PROJECTION=EPSG:5179\n",
      "DISPLAYPROJECTION=EPSG:5181\n",
      "TRANSFORM=EPSG:5181\n",
      "SERVICE=WMS\n",
      "VERSION=1.1.1\n",
      "REQUEST=GetMap\n",
      "CQL_FILTER=(engn_code='00') and (acdnt_year between '2022' and '2022')  and (legaldong_code ilike '4146%') and (( acdnt_gae_code = '01') or ( acdnt_gae_code = '02') or ( acdnt_gae_code = '03') or ( acdnt_gae_code = '04')) and (( road_type = '6'))\n",
      "SRS=EPSG:5181\n",
      "BBOX=159369.94687425,370393.46726818,261641.94687425,430233.46726818\n",
      "WIDTH=1598\n",
      "HEIGHT=935\n",
      "bbox_text : 159369.94687425,370393.46726818,261641.94687425,430233.46726818\n"
     ]
    },
    {
     "name": "stderr",
     "output_type": "stream",
     "text": [
      "  0%|          | 160/33698 [02:45<9:38:40,  1.04s/it]"
     ]
    },
    {
     "name": "stdout",
     "output_type": "stream",
     "text": [
      "Debugging - src content: <selenium.webdriver.remote.webelement.WebElement (session=\"5b06b3d12ca3a76e5c613afa896de233\", element=\"9E340076E16B0B12E9EB60FAF1C429D4_element_76317\")>\n",
      "Debugging - src content: https://taas.koroad.or.kr/gis36/TAAS/wms?LAYERS=GNRL_GIS_ACDNT_INFO_NON&STYLES=&FORMAT=image/png&TRANSPARENT=TRUE&TILED=false&TILESORIGIN=-30000,-60000&PROJECTION=EPSG:5179&DISPLAYPROJECTION=EPSG:5181&TRANSFORM=EPSG:5181&SERVICE=WMS&VERSION=1.1.1&REQUEST=GetMap&CQL_FILTER=(engn_code='00') and (acdnt_year between '2022' and '2022')  and (legaldong_code ilike '4146%') and (( acdnt_gae_code = '01') or ( acdnt_gae_code = '02') or ( acdnt_gae_code = '03') or ( acdnt_gae_code = '04')) and (( road_type = '6'))&SRS=EPSG:5181&BBOX=157737.53330619,383632.16359397,260009.53330619,443472.16359397&WIDTH=1598&HEIGHT=935\n",
      "src_split : ['https://taas.koroad.or.kr/gis36/TAAS/wms?LAYERS=GNRL_GIS_ACDNT_INFO_NON', 'STYLES=', 'FORMAT=image/png', 'TRANSPARENT=TRUE', 'TILED=false', 'TILESORIGIN=-30000,-60000', 'PROJECTION=EPSG:5179', 'DISPLAYPROJECTION=EPSG:5181', 'TRANSFORM=EPSG:5181', 'SERVICE=WMS', 'VERSION=1.1.1', 'REQUEST=GetMap', \"CQL_FILTER=(engn_code='00') and (acdnt_year between '2022' and '2022')  and (legaldong_code ilike '4146%') and (( acdnt_gae_code = '01') or ( acdnt_gae_code = '02') or ( acdnt_gae_code = '03') or ( acdnt_gae_code = '04')) and (( road_type = '6'))\", 'SRS=EPSG:5181', 'BBOX=157737.53330619,383632.16359397,260009.53330619,443472.16359397', 'WIDTH=1598', 'HEIGHT=935']\n",
      "Debugging - src_split:\n",
      "https://taas.koroad.or.kr/gis36/TAAS/wms?LAYERS=GNRL_GIS_ACDNT_INFO_NON\n",
      "STYLES=\n",
      "FORMAT=image/png\n",
      "TRANSPARENT=TRUE\n",
      "TILED=false\n",
      "TILESORIGIN=-30000,-60000\n",
      "PROJECTION=EPSG:5179\n",
      "DISPLAYPROJECTION=EPSG:5181\n",
      "TRANSFORM=EPSG:5181\n",
      "SERVICE=WMS\n",
      "VERSION=1.1.1\n",
      "REQUEST=GetMap\n",
      "CQL_FILTER=(engn_code='00') and (acdnt_year between '2022' and '2022')  and (legaldong_code ilike '4146%') and (( acdnt_gae_code = '01') or ( acdnt_gae_code = '02') or ( acdnt_gae_code = '03') or ( acdnt_gae_code = '04')) and (( road_type = '6'))\n",
      "SRS=EPSG:5181\n",
      "BBOX=157737.53330619,383632.16359397,260009.53330619,443472.16359397\n",
      "WIDTH=1598\n",
      "HEIGHT=935\n",
      "bbox_text : 157737.53330619,383632.16359397,260009.53330619,443472.16359397\n"
     ]
    },
    {
     "name": "stderr",
     "output_type": "stream",
     "text": [
      "  0%|          | 161/33698 [02:46<9:39:26,  1.04s/it]"
     ]
    },
    {
     "name": "stdout",
     "output_type": "stream",
     "text": [
      "Debugging - src content: <selenium.webdriver.remote.webelement.WebElement (session=\"5b06b3d12ca3a76e5c613afa896de233\", element=\"9E340076E16B0B12E9EB60FAF1C429D4_element_76767\")>\n",
      "Debugging - src content: https://taas.koroad.or.kr/gis36/TAAS/wms?LAYERS=GNRL_GIS_ACDNT_INFO_NON&STYLES=&FORMAT=image/png&TRANSPARENT=TRUE&TILED=false&TILESORIGIN=-30000,-60000&PROJECTION=EPSG:5179&DISPLAYPROJECTION=EPSG:5181&TRANSFORM=EPSG:5181&SERVICE=WMS&VERSION=1.1.1&REQUEST=GetMap&CQL_FILTER=(engn_code='00') and (acdnt_year between '2022' and '2022')  and (legaldong_code ilike '4146%') and (( acdnt_gae_code = '01') or ( acdnt_gae_code = '02') or ( acdnt_gae_code = '03') or ( acdnt_gae_code = '04')) and (( road_type = '6'))&SRS=EPSG:5181&BBOX=158100.17074777,388653.08449399,260372.17074777,448493.08449399&WIDTH=1598&HEIGHT=935\n",
      "src_split : ['https://taas.koroad.or.kr/gis36/TAAS/wms?LAYERS=GNRL_GIS_ACDNT_INFO_NON', 'STYLES=', 'FORMAT=image/png', 'TRANSPARENT=TRUE', 'TILED=false', 'TILESORIGIN=-30000,-60000', 'PROJECTION=EPSG:5179', 'DISPLAYPROJECTION=EPSG:5181', 'TRANSFORM=EPSG:5181', 'SERVICE=WMS', 'VERSION=1.1.1', 'REQUEST=GetMap', \"CQL_FILTER=(engn_code='00') and (acdnt_year between '2022' and '2022')  and (legaldong_code ilike '4146%') and (( acdnt_gae_code = '01') or ( acdnt_gae_code = '02') or ( acdnt_gae_code = '03') or ( acdnt_gae_code = '04')) and (( road_type = '6'))\", 'SRS=EPSG:5181', 'BBOX=158100.17074777,388653.08449399,260372.17074777,448493.08449399', 'WIDTH=1598', 'HEIGHT=935']\n",
      "Debugging - src_split:\n",
      "https://taas.koroad.or.kr/gis36/TAAS/wms?LAYERS=GNRL_GIS_ACDNT_INFO_NON\n",
      "STYLES=\n",
      "FORMAT=image/png\n",
      "TRANSPARENT=TRUE\n",
      "TILED=false\n",
      "TILESORIGIN=-30000,-60000\n",
      "PROJECTION=EPSG:5179\n",
      "DISPLAYPROJECTION=EPSG:5181\n",
      "TRANSFORM=EPSG:5181\n",
      "SERVICE=WMS\n",
      "VERSION=1.1.1\n",
      "REQUEST=GetMap\n",
      "CQL_FILTER=(engn_code='00') and (acdnt_year between '2022' and '2022')  and (legaldong_code ilike '4146%') and (( acdnt_gae_code = '01') or ( acdnt_gae_code = '02') or ( acdnt_gae_code = '03') or ( acdnt_gae_code = '04')) and (( road_type = '6'))\n",
      "SRS=EPSG:5181\n",
      "BBOX=158100.17074777,388653.08449399,260372.17074777,448493.08449399\n",
      "WIDTH=1598\n",
      "HEIGHT=935\n",
      "bbox_text : 158100.17074777,388653.08449399,260372.17074777,448493.08449399\n"
     ]
    },
    {
     "name": "stderr",
     "output_type": "stream",
     "text": [
      "  0%|          | 162/33698 [02:47<9:39:29,  1.04s/it]"
     ]
    },
    {
     "name": "stdout",
     "output_type": "stream",
     "text": [
      "Debugging - src content: <selenium.webdriver.remote.webelement.WebElement (session=\"5b06b3d12ca3a76e5c613afa896de233\", element=\"9E340076E16B0B12E9EB60FAF1C429D4_element_77207\")>\n",
      "Debugging - src content: https://taas.koroad.or.kr/gis36/TAAS/wms?LAYERS=GNRL_GIS_ACDNT_INFO_NON&STYLES=&FORMAT=image/png&TRANSPARENT=TRUE&TILED=false&TILESORIGIN=-30000,-60000&PROJECTION=EPSG:5179&DISPLAYPROJECTION=EPSG:5181&TRANSFORM=EPSG:5181&SERVICE=WMS&VERSION=1.1.1&REQUEST=GetMap&CQL_FILTER=(engn_code='00') and (acdnt_year between '2022' and '2022')  and (legaldong_code ilike '4146%') and (( acdnt_gae_code = '01') or ( acdnt_gae_code = '02') or ( acdnt_gae_code = '03') or ( acdnt_gae_code = '04')) and (( road_type = '6'))&SRS=EPSG:5181&BBOX=158059.80486362,393260.7134514,260331.80486362,453100.7134514&WIDTH=1598&HEIGHT=935\n",
      "src_split : ['https://taas.koroad.or.kr/gis36/TAAS/wms?LAYERS=GNRL_GIS_ACDNT_INFO_NON', 'STYLES=', 'FORMAT=image/png', 'TRANSPARENT=TRUE', 'TILED=false', 'TILESORIGIN=-30000,-60000', 'PROJECTION=EPSG:5179', 'DISPLAYPROJECTION=EPSG:5181', 'TRANSFORM=EPSG:5181', 'SERVICE=WMS', 'VERSION=1.1.1', 'REQUEST=GetMap', \"CQL_FILTER=(engn_code='00') and (acdnt_year between '2022' and '2022')  and (legaldong_code ilike '4146%') and (( acdnt_gae_code = '01') or ( acdnt_gae_code = '02') or ( acdnt_gae_code = '03') or ( acdnt_gae_code = '04')) and (( road_type = '6'))\", 'SRS=EPSG:5181', 'BBOX=158059.80486362,393260.7134514,260331.80486362,453100.7134514', 'WIDTH=1598', 'HEIGHT=935']\n",
      "Debugging - src_split:\n",
      "https://taas.koroad.or.kr/gis36/TAAS/wms?LAYERS=GNRL_GIS_ACDNT_INFO_NON\n",
      "STYLES=\n",
      "FORMAT=image/png\n",
      "TRANSPARENT=TRUE\n",
      "TILED=false\n",
      "TILESORIGIN=-30000,-60000\n",
      "PROJECTION=EPSG:5179\n",
      "DISPLAYPROJECTION=EPSG:5181\n",
      "TRANSFORM=EPSG:5181\n",
      "SERVICE=WMS\n",
      "VERSION=1.1.1\n",
      "REQUEST=GetMap\n",
      "CQL_FILTER=(engn_code='00') and (acdnt_year between '2022' and '2022')  and (legaldong_code ilike '4146%') and (( acdnt_gae_code = '01') or ( acdnt_gae_code = '02') or ( acdnt_gae_code = '03') or ( acdnt_gae_code = '04')) and (( road_type = '6'))\n",
      "SRS=EPSG:5181\n",
      "BBOX=158059.80486362,393260.7134514,260331.80486362,453100.7134514\n",
      "WIDTH=1598\n",
      "HEIGHT=935\n",
      "bbox_text : 158059.80486362,393260.7134514,260331.80486362,453100.7134514\n"
     ]
    },
    {
     "name": "stderr",
     "output_type": "stream",
     "text": [
      "  0%|          | 163/33698 [02:48<9:37:59,  1.03s/it]"
     ]
    },
    {
     "name": "stdout",
     "output_type": "stream",
     "text": [
      "Debugging - src content: <selenium.webdriver.remote.webelement.WebElement (session=\"5b06b3d12ca3a76e5c613afa896de233\", element=\"9E340076E16B0B12E9EB60FAF1C429D4_element_77657\")>\n",
      "Debugging - src content: https://taas.koroad.or.kr/gis36/TAAS/wms?LAYERS=GNRL_GIS_ACDNT_INFO_NON&STYLES=&FORMAT=image/png&TRANSPARENT=TRUE&TILED=false&TILESORIGIN=-30000,-60000&PROJECTION=EPSG:5179&DISPLAYPROJECTION=EPSG:5181&TRANSFORM=EPSG:5181&SERVICE=WMS&VERSION=1.1.1&REQUEST=GetMap&CQL_FILTER=(engn_code='00') and (acdnt_year between '2022' and '2022')  and (legaldong_code ilike '4146%') and (( acdnt_gae_code = '01') or ( acdnt_gae_code = '02') or ( acdnt_gae_code = '03') or ( acdnt_gae_code = '04')) and (( road_type = '6'))&SRS=EPSG:5181&BBOX=158077.59545832,387813.62963309,260349.59545832,447653.62963309&WIDTH=1598&HEIGHT=935\n",
      "src_split : ['https://taas.koroad.or.kr/gis36/TAAS/wms?LAYERS=GNRL_GIS_ACDNT_INFO_NON', 'STYLES=', 'FORMAT=image/png', 'TRANSPARENT=TRUE', 'TILED=false', 'TILESORIGIN=-30000,-60000', 'PROJECTION=EPSG:5179', 'DISPLAYPROJECTION=EPSG:5181', 'TRANSFORM=EPSG:5181', 'SERVICE=WMS', 'VERSION=1.1.1', 'REQUEST=GetMap', \"CQL_FILTER=(engn_code='00') and (acdnt_year between '2022' and '2022')  and (legaldong_code ilike '4146%') and (( acdnt_gae_code = '01') or ( acdnt_gae_code = '02') or ( acdnt_gae_code = '03') or ( acdnt_gae_code = '04')) and (( road_type = '6'))\", 'SRS=EPSG:5181', 'BBOX=158077.59545832,387813.62963309,260349.59545832,447653.62963309', 'WIDTH=1598', 'HEIGHT=935']\n",
      "Debugging - src_split:\n",
      "https://taas.koroad.or.kr/gis36/TAAS/wms?LAYERS=GNRL_GIS_ACDNT_INFO_NON\n",
      "STYLES=\n",
      "FORMAT=image/png\n",
      "TRANSPARENT=TRUE\n",
      "TILED=false\n",
      "TILESORIGIN=-30000,-60000\n",
      "PROJECTION=EPSG:5179\n",
      "DISPLAYPROJECTION=EPSG:5181\n",
      "TRANSFORM=EPSG:5181\n",
      "SERVICE=WMS\n",
      "VERSION=1.1.1\n",
      "REQUEST=GetMap\n",
      "CQL_FILTER=(engn_code='00') and (acdnt_year between '2022' and '2022')  and (legaldong_code ilike '4146%') and (( acdnt_gae_code = '01') or ( acdnt_gae_code = '02') or ( acdnt_gae_code = '03') or ( acdnt_gae_code = '04')) and (( road_type = '6'))\n",
      "SRS=EPSG:5181\n",
      "BBOX=158077.59545832,387813.62963309,260349.59545832,447653.62963309\n",
      "WIDTH=1598\n",
      "HEIGHT=935\n",
      "bbox_text : 158077.59545832,387813.62963309,260349.59545832,447653.62963309\n"
     ]
    },
    {
     "name": "stderr",
     "output_type": "stream",
     "text": [
      "  0%|          | 164/33698 [02:49<9:37:30,  1.03s/it]"
     ]
    },
    {
     "name": "stdout",
     "output_type": "stream",
     "text": [
      "Debugging - src content: <selenium.webdriver.remote.webelement.WebElement (session=\"5b06b3d12ca3a76e5c613afa896de233\", element=\"9E340076E16B0B12E9EB60FAF1C429D4_element_78107\")>\n",
      "Debugging - src content: https://taas.koroad.or.kr/gis36/TAAS/wms?LAYERS=GNRL_GIS_ACDNT_INFO_NON&STYLES=&FORMAT=image/png&TRANSPARENT=TRUE&TILED=false&TILESORIGIN=-30000,-60000&PROJECTION=EPSG:5179&DISPLAYPROJECTION=EPSG:5181&TRANSFORM=EPSG:5181&SERVICE=WMS&VERSION=1.1.1&REQUEST=GetMap&CQL_FILTER=(engn_code='00') and (acdnt_year between '2022' and '2022')  and (legaldong_code ilike '4146%') and (( acdnt_gae_code = '01') or ( acdnt_gae_code = '02') or ( acdnt_gae_code = '03') or ( acdnt_gae_code = '04')) and (( road_type = '6'))&SRS=EPSG:5181&BBOX=161972.12469986,391227.57690851,264244.12469986,451067.57690851&WIDTH=1598&HEIGHT=935\n",
      "src_split : ['https://taas.koroad.or.kr/gis36/TAAS/wms?LAYERS=GNRL_GIS_ACDNT_INFO_NON', 'STYLES=', 'FORMAT=image/png', 'TRANSPARENT=TRUE', 'TILED=false', 'TILESORIGIN=-30000,-60000', 'PROJECTION=EPSG:5179', 'DISPLAYPROJECTION=EPSG:5181', 'TRANSFORM=EPSG:5181', 'SERVICE=WMS', 'VERSION=1.1.1', 'REQUEST=GetMap', \"CQL_FILTER=(engn_code='00') and (acdnt_year between '2022' and '2022')  and (legaldong_code ilike '4146%') and (( acdnt_gae_code = '01') or ( acdnt_gae_code = '02') or ( acdnt_gae_code = '03') or ( acdnt_gae_code = '04')) and (( road_type = '6'))\", 'SRS=EPSG:5181', 'BBOX=161972.12469986,391227.57690851,264244.12469986,451067.57690851', 'WIDTH=1598', 'HEIGHT=935']\n",
      "Debugging - src_split:\n",
      "https://taas.koroad.or.kr/gis36/TAAS/wms?LAYERS=GNRL_GIS_ACDNT_INFO_NON\n",
      "STYLES=\n",
      "FORMAT=image/png\n",
      "TRANSPARENT=TRUE\n",
      "TILED=false\n",
      "TILESORIGIN=-30000,-60000\n",
      "PROJECTION=EPSG:5179\n",
      "DISPLAYPROJECTION=EPSG:5181\n",
      "TRANSFORM=EPSG:5181\n",
      "SERVICE=WMS\n",
      "VERSION=1.1.1\n",
      "REQUEST=GetMap\n",
      "CQL_FILTER=(engn_code='00') and (acdnt_year between '2022' and '2022')  and (legaldong_code ilike '4146%') and (( acdnt_gae_code = '01') or ( acdnt_gae_code = '02') or ( acdnt_gae_code = '03') or ( acdnt_gae_code = '04')) and (( road_type = '6'))\n",
      "SRS=EPSG:5181\n",
      "BBOX=161972.12469986,391227.57690851,264244.12469986,451067.57690851\n",
      "WIDTH=1598\n",
      "HEIGHT=935\n",
      "bbox_text : 161972.12469986,391227.57690851,264244.12469986,451067.57690851\n"
     ]
    },
    {
     "name": "stderr",
     "output_type": "stream",
     "text": [
      "  0%|          | 165/33698 [02:50<9:39:33,  1.04s/it]"
     ]
    },
    {
     "name": "stdout",
     "output_type": "stream",
     "text": [
      "Debugging - src content: <selenium.webdriver.remote.webelement.WebElement (session=\"5b06b3d12ca3a76e5c613afa896de233\", element=\"9E340076E16B0B12E9EB60FAF1C429D4_element_78564\")>\n",
      "Debugging - src content: https://taas.koroad.or.kr/gis36/TAAS/wms?LAYERS=GNRL_GIS_ACDNT_INFO_NON&STYLES=&FORMAT=image/png&TRANSPARENT=TRUE&TILED=false&TILESORIGIN=-30000,-60000&PROJECTION=EPSG:5179&DISPLAYPROJECTION=EPSG:5181&TRANSFORM=EPSG:5181&SERVICE=WMS&VERSION=1.1.1&REQUEST=GetMap&CQL_FILTER=(engn_code='00') and (acdnt_year between '2022' and '2022')  and (legaldong_code ilike '4146%') and (( acdnt_gae_code = '01') or ( acdnt_gae_code = '02') or ( acdnt_gae_code = '03') or ( acdnt_gae_code = '04')) and (( road_type = '6'))&SRS=EPSG:5181&BBOX=172857.69150893,386475.12889748,275129.69150893,446315.12889748&WIDTH=1598&HEIGHT=935\n",
      "src_split : ['https://taas.koroad.or.kr/gis36/TAAS/wms?LAYERS=GNRL_GIS_ACDNT_INFO_NON', 'STYLES=', 'FORMAT=image/png', 'TRANSPARENT=TRUE', 'TILED=false', 'TILESORIGIN=-30000,-60000', 'PROJECTION=EPSG:5179', 'DISPLAYPROJECTION=EPSG:5181', 'TRANSFORM=EPSG:5181', 'SERVICE=WMS', 'VERSION=1.1.1', 'REQUEST=GetMap', \"CQL_FILTER=(engn_code='00') and (acdnt_year between '2022' and '2022')  and (legaldong_code ilike '4146%') and (( acdnt_gae_code = '01') or ( acdnt_gae_code = '02') or ( acdnt_gae_code = '03') or ( acdnt_gae_code = '04')) and (( road_type = '6'))\", 'SRS=EPSG:5181', 'BBOX=172857.69150893,386475.12889748,275129.69150893,446315.12889748', 'WIDTH=1598', 'HEIGHT=935']\n",
      "Debugging - src_split:\n",
      "https://taas.koroad.or.kr/gis36/TAAS/wms?LAYERS=GNRL_GIS_ACDNT_INFO_NON\n",
      "STYLES=\n",
      "FORMAT=image/png\n",
      "TRANSPARENT=TRUE\n",
      "TILED=false\n",
      "TILESORIGIN=-30000,-60000\n",
      "PROJECTION=EPSG:5179\n",
      "DISPLAYPROJECTION=EPSG:5181\n",
      "TRANSFORM=EPSG:5181\n",
      "SERVICE=WMS\n",
      "VERSION=1.1.1\n",
      "REQUEST=GetMap\n",
      "CQL_FILTER=(engn_code='00') and (acdnt_year between '2022' and '2022')  and (legaldong_code ilike '4146%') and (( acdnt_gae_code = '01') or ( acdnt_gae_code = '02') or ( acdnt_gae_code = '03') or ( acdnt_gae_code = '04')) and (( road_type = '6'))\n",
      "SRS=EPSG:5181\n",
      "BBOX=172857.69150893,386475.12889748,275129.69150893,446315.12889748\n",
      "WIDTH=1598\n",
      "HEIGHT=935\n",
      "bbox_text : 172857.69150893,386475.12889748,275129.69150893,446315.12889748\n"
     ]
    },
    {
     "name": "stderr",
     "output_type": "stream",
     "text": [
      "  0%|          | 166/33698 [02:51<9:39:06,  1.04s/it]"
     ]
    },
    {
     "name": "stdout",
     "output_type": "stream",
     "text": [
      "Debugging - src content: <selenium.webdriver.remote.webelement.WebElement (session=\"5b06b3d12ca3a76e5c613afa896de233\", element=\"9E340076E16B0B12E9EB60FAF1C429D4_element_79011\")>\n",
      "Debugging - src content: https://taas.koroad.or.kr/gis36/TAAS/wms?LAYERS=GNRL_GIS_ACDNT_INFO_NON&STYLES=&FORMAT=image/png&TRANSPARENT=TRUE&TILED=false&TILESORIGIN=-30000,-60000&PROJECTION=EPSG:5179&DISPLAYPROJECTION=EPSG:5181&TRANSFORM=EPSG:5181&SERVICE=WMS&VERSION=1.1.1&REQUEST=GetMap&CQL_FILTER=(engn_code='00') and (acdnt_year between '2022' and '2022')  and (legaldong_code ilike '4146%') and (( acdnt_gae_code = '01') or ( acdnt_gae_code = '02') or ( acdnt_gae_code = '03') or ( acdnt_gae_code = '04')) and (( road_type = '6'))&SRS=EPSG:5181&BBOX=158077.62077442,388376.8549441,260349.62077442,448216.8549441&WIDTH=1598&HEIGHT=935\n",
      "src_split : ['https://taas.koroad.or.kr/gis36/TAAS/wms?LAYERS=GNRL_GIS_ACDNT_INFO_NON', 'STYLES=', 'FORMAT=image/png', 'TRANSPARENT=TRUE', 'TILED=false', 'TILESORIGIN=-30000,-60000', 'PROJECTION=EPSG:5179', 'DISPLAYPROJECTION=EPSG:5181', 'TRANSFORM=EPSG:5181', 'SERVICE=WMS', 'VERSION=1.1.1', 'REQUEST=GetMap', \"CQL_FILTER=(engn_code='00') and (acdnt_year between '2022' and '2022')  and (legaldong_code ilike '4146%') and (( acdnt_gae_code = '01') or ( acdnt_gae_code = '02') or ( acdnt_gae_code = '03') or ( acdnt_gae_code = '04')) and (( road_type = '6'))\", 'SRS=EPSG:5181', 'BBOX=158077.62077442,388376.8549441,260349.62077442,448216.8549441', 'WIDTH=1598', 'HEIGHT=935']\n",
      "Debugging - src_split:\n",
      "https://taas.koroad.or.kr/gis36/TAAS/wms?LAYERS=GNRL_GIS_ACDNT_INFO_NON\n",
      "STYLES=\n",
      "FORMAT=image/png\n",
      "TRANSPARENT=TRUE\n",
      "TILED=false\n",
      "TILESORIGIN=-30000,-60000\n",
      "PROJECTION=EPSG:5179\n",
      "DISPLAYPROJECTION=EPSG:5181\n",
      "TRANSFORM=EPSG:5181\n",
      "SERVICE=WMS\n",
      "VERSION=1.1.1\n",
      "REQUEST=GetMap\n",
      "CQL_FILTER=(engn_code='00') and (acdnt_year between '2022' and '2022')  and (legaldong_code ilike '4146%') and (( acdnt_gae_code = '01') or ( acdnt_gae_code = '02') or ( acdnt_gae_code = '03') or ( acdnt_gae_code = '04')) and (( road_type = '6'))\n",
      "SRS=EPSG:5181\n",
      "BBOX=158077.62077442,388376.8549441,260349.62077442,448216.8549441\n",
      "WIDTH=1598\n",
      "HEIGHT=935\n",
      "bbox_text : 158077.62077442,388376.8549441,260349.62077442,448216.8549441\n"
     ]
    },
    {
     "name": "stderr",
     "output_type": "stream",
     "text": [
      "  0%|          | 167/33698 [02:52<9:41:34,  1.04s/it]"
     ]
    },
    {
     "name": "stdout",
     "output_type": "stream",
     "text": [
      "Debugging - src content: <selenium.webdriver.remote.webelement.WebElement (session=\"5b06b3d12ca3a76e5c613afa896de233\", element=\"9E340076E16B0B12E9EB60FAF1C429D4_element_79451\")>\n",
      "Debugging - src content: https://taas.koroad.or.kr/gis36/TAAS/wms?LAYERS=GNRL_GIS_ACDNT_INFO_NON&STYLES=&FORMAT=image/png&TRANSPARENT=TRUE&TILED=false&TILESORIGIN=-30000,-60000&PROJECTION=EPSG:5179&DISPLAYPROJECTION=EPSG:5181&TRANSFORM=EPSG:5181&SERVICE=WMS&VERSION=1.1.1&REQUEST=GetMap&CQL_FILTER=(engn_code='00') and (acdnt_year between '2022' and '2022')  and (legaldong_code ilike '4146%') and (( acdnt_gae_code = '01') or ( acdnt_gae_code = '02') or ( acdnt_gae_code = '03') or ( acdnt_gae_code = '04')) and (( road_type = '6'))&SRS=EPSG:5181&BBOX=158350.65508417,384981.93881904,260622.65508417,444821.93881904&WIDTH=1598&HEIGHT=935\n",
      "src_split : ['https://taas.koroad.or.kr/gis36/TAAS/wms?LAYERS=GNRL_GIS_ACDNT_INFO_NON', 'STYLES=', 'FORMAT=image/png', 'TRANSPARENT=TRUE', 'TILED=false', 'TILESORIGIN=-30000,-60000', 'PROJECTION=EPSG:5179', 'DISPLAYPROJECTION=EPSG:5181', 'TRANSFORM=EPSG:5181', 'SERVICE=WMS', 'VERSION=1.1.1', 'REQUEST=GetMap', \"CQL_FILTER=(engn_code='00') and (acdnt_year between '2022' and '2022')  and (legaldong_code ilike '4146%') and (( acdnt_gae_code = '01') or ( acdnt_gae_code = '02') or ( acdnt_gae_code = '03') or ( acdnt_gae_code = '04')) and (( road_type = '6'))\", 'SRS=EPSG:5181', 'BBOX=158350.65508417,384981.93881904,260622.65508417,444821.93881904', 'WIDTH=1598', 'HEIGHT=935']\n",
      "Debugging - src_split:\n",
      "https://taas.koroad.or.kr/gis36/TAAS/wms?LAYERS=GNRL_GIS_ACDNT_INFO_NON\n",
      "STYLES=\n",
      "FORMAT=image/png\n",
      "TRANSPARENT=TRUE\n",
      "TILED=false\n",
      "TILESORIGIN=-30000,-60000\n",
      "PROJECTION=EPSG:5179\n",
      "DISPLAYPROJECTION=EPSG:5181\n",
      "TRANSFORM=EPSG:5181\n",
      "SERVICE=WMS\n",
      "VERSION=1.1.1\n",
      "REQUEST=GetMap\n",
      "CQL_FILTER=(engn_code='00') and (acdnt_year between '2022' and '2022')  and (legaldong_code ilike '4146%') and (( acdnt_gae_code = '01') or ( acdnt_gae_code = '02') or ( acdnt_gae_code = '03') or ( acdnt_gae_code = '04')) and (( road_type = '6'))\n",
      "SRS=EPSG:5181\n",
      "BBOX=158350.65508417,384981.93881904,260622.65508417,444821.93881904\n",
      "WIDTH=1598\n",
      "HEIGHT=935\n",
      "bbox_text : 158350.65508417,384981.93881904,260622.65508417,444821.93881904\n"
     ]
    },
    {
     "name": "stderr",
     "output_type": "stream",
     "text": [
      "  0%|          | 168/33698 [02:53<9:43:54,  1.04s/it]"
     ]
    },
    {
     "name": "stdout",
     "output_type": "stream",
     "text": [
      "Debugging - src content: <selenium.webdriver.remote.webelement.WebElement (session=\"5b06b3d12ca3a76e5c613afa896de233\", element=\"9E340076E16B0B12E9EB60FAF1C429D4_element_79898\")>\n",
      "Debugging - src content: https://taas.koroad.or.kr/gis36/TAAS/wms?LAYERS=GNRL_GIS_ACDNT_INFO_NON&STYLES=&FORMAT=image/png&TRANSPARENT=TRUE&TILED=false&TILESORIGIN=-30000,-60000&PROJECTION=EPSG:5179&DISPLAYPROJECTION=EPSG:5181&TRANSFORM=EPSG:5181&SERVICE=WMS&VERSION=1.1.1&REQUEST=GetMap&CQL_FILTER=(engn_code='00') and (acdnt_year between '2022' and '2022')  and (legaldong_code ilike '4146%') and (( acdnt_gae_code = '01') or ( acdnt_gae_code = '02') or ( acdnt_gae_code = '03') or ( acdnt_gae_code = '04')) and (( road_type = '6'))&SRS=EPSG:5181&BBOX=170248.3235307,386529.37478649,272520.3235307,446369.37478649&WIDTH=1598&HEIGHT=935\n",
      "src_split : ['https://taas.koroad.or.kr/gis36/TAAS/wms?LAYERS=GNRL_GIS_ACDNT_INFO_NON', 'STYLES=', 'FORMAT=image/png', 'TRANSPARENT=TRUE', 'TILED=false', 'TILESORIGIN=-30000,-60000', 'PROJECTION=EPSG:5179', 'DISPLAYPROJECTION=EPSG:5181', 'TRANSFORM=EPSG:5181', 'SERVICE=WMS', 'VERSION=1.1.1', 'REQUEST=GetMap', \"CQL_FILTER=(engn_code='00') and (acdnt_year between '2022' and '2022')  and (legaldong_code ilike '4146%') and (( acdnt_gae_code = '01') or ( acdnt_gae_code = '02') or ( acdnt_gae_code = '03') or ( acdnt_gae_code = '04')) and (( road_type = '6'))\", 'SRS=EPSG:5181', 'BBOX=170248.3235307,386529.37478649,272520.3235307,446369.37478649', 'WIDTH=1598', 'HEIGHT=935']\n",
      "Debugging - src_split:\n",
      "https://taas.koroad.or.kr/gis36/TAAS/wms?LAYERS=GNRL_GIS_ACDNT_INFO_NON\n",
      "STYLES=\n",
      "FORMAT=image/png\n",
      "TRANSPARENT=TRUE\n",
      "TILED=false\n",
      "TILESORIGIN=-30000,-60000\n",
      "PROJECTION=EPSG:5179\n",
      "DISPLAYPROJECTION=EPSG:5181\n",
      "TRANSFORM=EPSG:5181\n",
      "SERVICE=WMS\n",
      "VERSION=1.1.1\n",
      "REQUEST=GetMap\n",
      "CQL_FILTER=(engn_code='00') and (acdnt_year between '2022' and '2022')  and (legaldong_code ilike '4146%') and (( acdnt_gae_code = '01') or ( acdnt_gae_code = '02') or ( acdnt_gae_code = '03') or ( acdnt_gae_code = '04')) and (( road_type = '6'))\n",
      "SRS=EPSG:5181\n",
      "BBOX=170248.3235307,386529.37478649,272520.3235307,446369.37478649\n",
      "WIDTH=1598\n",
      "HEIGHT=935\n",
      "bbox_text : 170248.3235307,386529.37478649,272520.3235307,446369.37478649\n"
     ]
    },
    {
     "name": "stderr",
     "output_type": "stream",
     "text": [
      "  1%|          | 169/33698 [02:54<9:42:33,  1.04s/it]"
     ]
    },
    {
     "name": "stdout",
     "output_type": "stream",
     "text": [
      "Debugging - src content: <selenium.webdriver.remote.webelement.WebElement (session=\"5b06b3d12ca3a76e5c613afa896de233\", element=\"9E340076E16B0B12E9EB60FAF1C429D4_element_80345\")>\n",
      "Debugging - src content: https://taas.koroad.or.kr/gis36/TAAS/wms?LAYERS=GNRL_GIS_ACDNT_INFO_NON&STYLES=&FORMAT=image/png&TRANSPARENT=TRUE&TILED=false&TILESORIGIN=-30000,-60000&PROJECTION=EPSG:5179&DISPLAYPROJECTION=EPSG:5181&TRANSFORM=EPSG:5181&SERVICE=WMS&VERSION=1.1.1&REQUEST=GetMap&CQL_FILTER=(engn_code='00') and (acdnt_year between '2022' and '2022')  and (legaldong_code ilike '4146%') and (( acdnt_gae_code = '01') or ( acdnt_gae_code = '02') or ( acdnt_gae_code = '03') or ( acdnt_gae_code = '04')) and (( road_type = '6'))&SRS=EPSG:5181&BBOX=158067.80987296,387961.63712463,260339.80987296,447801.63712463&WIDTH=1598&HEIGHT=935\n",
      "src_split : ['https://taas.koroad.or.kr/gis36/TAAS/wms?LAYERS=GNRL_GIS_ACDNT_INFO_NON', 'STYLES=', 'FORMAT=image/png', 'TRANSPARENT=TRUE', 'TILED=false', 'TILESORIGIN=-30000,-60000', 'PROJECTION=EPSG:5179', 'DISPLAYPROJECTION=EPSG:5181', 'TRANSFORM=EPSG:5181', 'SERVICE=WMS', 'VERSION=1.1.1', 'REQUEST=GetMap', \"CQL_FILTER=(engn_code='00') and (acdnt_year between '2022' and '2022')  and (legaldong_code ilike '4146%') and (( acdnt_gae_code = '01') or ( acdnt_gae_code = '02') or ( acdnt_gae_code = '03') or ( acdnt_gae_code = '04')) and (( road_type = '6'))\", 'SRS=EPSG:5181', 'BBOX=158067.80987296,387961.63712463,260339.80987296,447801.63712463', 'WIDTH=1598', 'HEIGHT=935']\n",
      "Debugging - src_split:\n",
      "https://taas.koroad.or.kr/gis36/TAAS/wms?LAYERS=GNRL_GIS_ACDNT_INFO_NON\n",
      "STYLES=\n",
      "FORMAT=image/png\n",
      "TRANSPARENT=TRUE\n",
      "TILED=false\n",
      "TILESORIGIN=-30000,-60000\n",
      "PROJECTION=EPSG:5179\n",
      "DISPLAYPROJECTION=EPSG:5181\n",
      "TRANSFORM=EPSG:5181\n",
      "SERVICE=WMS\n",
      "VERSION=1.1.1\n",
      "REQUEST=GetMap\n",
      "CQL_FILTER=(engn_code='00') and (acdnt_year between '2022' and '2022')  and (legaldong_code ilike '4146%') and (( acdnt_gae_code = '01') or ( acdnt_gae_code = '02') or ( acdnt_gae_code = '03') or ( acdnt_gae_code = '04')) and (( road_type = '6'))\n",
      "SRS=EPSG:5181\n",
      "BBOX=158067.80987296,387961.63712463,260339.80987296,447801.63712463\n",
      "WIDTH=1598\n",
      "HEIGHT=935\n",
      "bbox_text : 158067.80987296,387961.63712463,260339.80987296,447801.63712463\n"
     ]
    },
    {
     "name": "stderr",
     "output_type": "stream",
     "text": [
      "  1%|          | 170/33698 [02:56<9:42:04,  1.04s/it]"
     ]
    },
    {
     "name": "stdout",
     "output_type": "stream",
     "text": [
      "Debugging - src content: <selenium.webdriver.remote.webelement.WebElement (session=\"5b06b3d12ca3a76e5c613afa896de233\", element=\"9E340076E16B0B12E9EB60FAF1C429D4_element_80795\")>\n",
      "Debugging - src content: https://taas.koroad.or.kr/gis36/TAAS/wms?LAYERS=GNRL_GIS_ACDNT_INFO_NON&STYLES=&FORMAT=image/png&TRANSPARENT=TRUE&TILED=false&TILESORIGIN=-30000,-60000&PROJECTION=EPSG:5179&DISPLAYPROJECTION=EPSG:5181&TRANSFORM=EPSG:5181&SERVICE=WMS&VERSION=1.1.1&REQUEST=GetMap&CQL_FILTER=(engn_code='00') and (acdnt_year between '2022' and '2022')  and (legaldong_code ilike '4146%') and (( acdnt_gae_code = '01') or ( acdnt_gae_code = '02') or ( acdnt_gae_code = '03') or ( acdnt_gae_code = '04')) and (( road_type = '6'))&SRS=EPSG:5181&BBOX=158034.98106955,393414.64374621,260306.98106955,453254.64374621&WIDTH=1598&HEIGHT=935\n",
      "src_split : ['https://taas.koroad.or.kr/gis36/TAAS/wms?LAYERS=GNRL_GIS_ACDNT_INFO_NON', 'STYLES=', 'FORMAT=image/png', 'TRANSPARENT=TRUE', 'TILED=false', 'TILESORIGIN=-30000,-60000', 'PROJECTION=EPSG:5179', 'DISPLAYPROJECTION=EPSG:5181', 'TRANSFORM=EPSG:5181', 'SERVICE=WMS', 'VERSION=1.1.1', 'REQUEST=GetMap', \"CQL_FILTER=(engn_code='00') and (acdnt_year between '2022' and '2022')  and (legaldong_code ilike '4146%') and (( acdnt_gae_code = '01') or ( acdnt_gae_code = '02') or ( acdnt_gae_code = '03') or ( acdnt_gae_code = '04')) and (( road_type = '6'))\", 'SRS=EPSG:5181', 'BBOX=158034.98106955,393414.64374621,260306.98106955,453254.64374621', 'WIDTH=1598', 'HEIGHT=935']\n",
      "Debugging - src_split:\n",
      "https://taas.koroad.or.kr/gis36/TAAS/wms?LAYERS=GNRL_GIS_ACDNT_INFO_NON\n",
      "STYLES=\n",
      "FORMAT=image/png\n",
      "TRANSPARENT=TRUE\n",
      "TILED=false\n",
      "TILESORIGIN=-30000,-60000\n",
      "PROJECTION=EPSG:5179\n",
      "DISPLAYPROJECTION=EPSG:5181\n",
      "TRANSFORM=EPSG:5181\n",
      "SERVICE=WMS\n",
      "VERSION=1.1.1\n",
      "REQUEST=GetMap\n",
      "CQL_FILTER=(engn_code='00') and (acdnt_year between '2022' and '2022')  and (legaldong_code ilike '4146%') and (( acdnt_gae_code = '01') or ( acdnt_gae_code = '02') or ( acdnt_gae_code = '03') or ( acdnt_gae_code = '04')) and (( road_type = '6'))\n",
      "SRS=EPSG:5181\n",
      "BBOX=158034.98106955,393414.64374621,260306.98106955,453254.64374621\n",
      "WIDTH=1598\n",
      "HEIGHT=935\n",
      "bbox_text : 158034.98106955,393414.64374621,260306.98106955,453254.64374621\n"
     ]
    },
    {
     "name": "stderr",
     "output_type": "stream",
     "text": [
      "  1%|          | 171/33698 [02:57<9:40:35,  1.04s/it]"
     ]
    },
    {
     "name": "stdout",
     "output_type": "stream",
     "text": [
      "Debugging - src content: <selenium.webdriver.remote.webelement.WebElement (session=\"5b06b3d12ca3a76e5c613afa896de233\", element=\"9E340076E16B0B12E9EB60FAF1C429D4_element_81245\")>\n",
      "Debugging - src content: https://taas.koroad.or.kr/gis36/TAAS/wms?LAYERS=GNRL_GIS_ACDNT_INFO_NON&STYLES=&FORMAT=image/png&TRANSPARENT=TRUE&TILED=false&TILESORIGIN=-30000,-60000&PROJECTION=EPSG:5179&DISPLAYPROJECTION=EPSG:5181&TRANSFORM=EPSG:5181&SERVICE=WMS&VERSION=1.1.1&REQUEST=GetMap&CQL_FILTER=(engn_code='00') and (acdnt_year between '2022' and '2022')  and (legaldong_code ilike '4146%') and (( acdnt_gae_code = '01') or ( acdnt_gae_code = '02') or ( acdnt_gae_code = '03') or ( acdnt_gae_code = '04')) and (( road_type = '6'))&SRS=EPSG:5181&BBOX=158321.85231536,385131.84676263,260593.85231536,444971.84676263&WIDTH=1598&HEIGHT=935\n",
      "src_split : ['https://taas.koroad.or.kr/gis36/TAAS/wms?LAYERS=GNRL_GIS_ACDNT_INFO_NON', 'STYLES=', 'FORMAT=image/png', 'TRANSPARENT=TRUE', 'TILED=false', 'TILESORIGIN=-30000,-60000', 'PROJECTION=EPSG:5179', 'DISPLAYPROJECTION=EPSG:5181', 'TRANSFORM=EPSG:5181', 'SERVICE=WMS', 'VERSION=1.1.1', 'REQUEST=GetMap', \"CQL_FILTER=(engn_code='00') and (acdnt_year between '2022' and '2022')  and (legaldong_code ilike '4146%') and (( acdnt_gae_code = '01') or ( acdnt_gae_code = '02') or ( acdnt_gae_code = '03') or ( acdnt_gae_code = '04')) and (( road_type = '6'))\", 'SRS=EPSG:5181', 'BBOX=158321.85231536,385131.84676263,260593.85231536,444971.84676263', 'WIDTH=1598', 'HEIGHT=935']\n",
      "Debugging - src_split:\n",
      "https://taas.koroad.or.kr/gis36/TAAS/wms?LAYERS=GNRL_GIS_ACDNT_INFO_NON\n",
      "STYLES=\n",
      "FORMAT=image/png\n",
      "TRANSPARENT=TRUE\n",
      "TILED=false\n",
      "TILESORIGIN=-30000,-60000\n",
      "PROJECTION=EPSG:5179\n",
      "DISPLAYPROJECTION=EPSG:5181\n",
      "TRANSFORM=EPSG:5181\n",
      "SERVICE=WMS\n",
      "VERSION=1.1.1\n",
      "REQUEST=GetMap\n",
      "CQL_FILTER=(engn_code='00') and (acdnt_year between '2022' and '2022')  and (legaldong_code ilike '4146%') and (( acdnt_gae_code = '01') or ( acdnt_gae_code = '02') or ( acdnt_gae_code = '03') or ( acdnt_gae_code = '04')) and (( road_type = '6'))\n",
      "SRS=EPSG:5181\n",
      "BBOX=158321.85231536,385131.84676263,260593.85231536,444971.84676263\n",
      "WIDTH=1598\n",
      "HEIGHT=935\n",
      "bbox_text : 158321.85231536,385131.84676263,260593.85231536,444971.84676263\n"
     ]
    },
    {
     "name": "stderr",
     "output_type": "stream",
     "text": [
      "  1%|          | 172/33698 [02:58<9:39:54,  1.04s/it]"
     ]
    },
    {
     "name": "stdout",
     "output_type": "stream",
     "text": [
      "Debugging - src content: <selenium.webdriver.remote.webelement.WebElement (session=\"5b06b3d12ca3a76e5c613afa896de233\", element=\"9E340076E16B0B12E9EB60FAF1C429D4_element_81695\")>\n",
      "Debugging - src content: https://taas.koroad.or.kr/gis36/TAAS/wms?LAYERS=GNRL_GIS_ACDNT_INFO_NON&STYLES=&FORMAT=image/png&TRANSPARENT=TRUE&TILED=false&TILESORIGIN=-30000,-60000&PROJECTION=EPSG:5179&DISPLAYPROJECTION=EPSG:5181&TRANSFORM=EPSG:5181&SERVICE=WMS&VERSION=1.1.1&REQUEST=GetMap&CQL_FILTER=(engn_code='00') and (acdnt_year between '2022' and '2022')  and (legaldong_code ilike '4146%') and (( acdnt_gae_code = '01') or ( acdnt_gae_code = '02') or ( acdnt_gae_code = '03') or ( acdnt_gae_code = '04')) and (( road_type = '6'))&SRS=EPSG:5181&BBOX=157990.2144076,388636.4970586,260262.2144076,448476.4970586&WIDTH=1598&HEIGHT=935\n",
      "src_split : ['https://taas.koroad.or.kr/gis36/TAAS/wms?LAYERS=GNRL_GIS_ACDNT_INFO_NON', 'STYLES=', 'FORMAT=image/png', 'TRANSPARENT=TRUE', 'TILED=false', 'TILESORIGIN=-30000,-60000', 'PROJECTION=EPSG:5179', 'DISPLAYPROJECTION=EPSG:5181', 'TRANSFORM=EPSG:5181', 'SERVICE=WMS', 'VERSION=1.1.1', 'REQUEST=GetMap', \"CQL_FILTER=(engn_code='00') and (acdnt_year between '2022' and '2022')  and (legaldong_code ilike '4146%') and (( acdnt_gae_code = '01') or ( acdnt_gae_code = '02') or ( acdnt_gae_code = '03') or ( acdnt_gae_code = '04')) and (( road_type = '6'))\", 'SRS=EPSG:5181', 'BBOX=157990.2144076,388636.4970586,260262.2144076,448476.4970586', 'WIDTH=1598', 'HEIGHT=935']\n",
      "Debugging - src_split:\n",
      "https://taas.koroad.or.kr/gis36/TAAS/wms?LAYERS=GNRL_GIS_ACDNT_INFO_NON\n",
      "STYLES=\n",
      "FORMAT=image/png\n",
      "TRANSPARENT=TRUE\n",
      "TILED=false\n",
      "TILESORIGIN=-30000,-60000\n",
      "PROJECTION=EPSG:5179\n",
      "DISPLAYPROJECTION=EPSG:5181\n",
      "TRANSFORM=EPSG:5181\n",
      "SERVICE=WMS\n",
      "VERSION=1.1.1\n",
      "REQUEST=GetMap\n",
      "CQL_FILTER=(engn_code='00') and (acdnt_year between '2022' and '2022')  and (legaldong_code ilike '4146%') and (( acdnt_gae_code = '01') or ( acdnt_gae_code = '02') or ( acdnt_gae_code = '03') or ( acdnt_gae_code = '04')) and (( road_type = '6'))\n",
      "SRS=EPSG:5181\n",
      "BBOX=157990.2144076,388636.4970586,260262.2144076,448476.4970586\n",
      "WIDTH=1598\n",
      "HEIGHT=935\n",
      "bbox_text : 157990.2144076,388636.4970586,260262.2144076,448476.4970586\n"
     ]
    },
    {
     "name": "stderr",
     "output_type": "stream",
     "text": [
      "  1%|          | 173/33698 [02:59<9:39:54,  1.04s/it]"
     ]
    },
    {
     "name": "stdout",
     "output_type": "stream",
     "text": [
      "Debugging - src content: <selenium.webdriver.remote.webelement.WebElement (session=\"5b06b3d12ca3a76e5c613afa896de233\", element=\"9E340076E16B0B12E9EB60FAF1C429D4_element_82152\")>\n",
      "Debugging - src content: https://taas.koroad.or.kr/gis36/TAAS/wms?LAYERS=GNRL_GIS_ACDNT_INFO_NON&STYLES=&FORMAT=image/png&TRANSPARENT=TRUE&TILED=false&TILESORIGIN=-30000,-60000&PROJECTION=EPSG:5179&DISPLAYPROJECTION=EPSG:5181&TRANSFORM=EPSG:5181&SERVICE=WMS&VERSION=1.1.1&REQUEST=GetMap&CQL_FILTER=(engn_code='00') and (acdnt_year between '2022' and '2022')  and (legaldong_code ilike '4146%') and (( acdnt_gae_code = '01') or ( acdnt_gae_code = '02') or ( acdnt_gae_code = '03') or ( acdnt_gae_code = '04')) and (( road_type = '6'))&SRS=EPSG:5181&BBOX=167566.74796955,387565.64184213,269838.74796955,447405.64184213&WIDTH=1598&HEIGHT=935\n",
      "src_split : ['https://taas.koroad.or.kr/gis36/TAAS/wms?LAYERS=GNRL_GIS_ACDNT_INFO_NON', 'STYLES=', 'FORMAT=image/png', 'TRANSPARENT=TRUE', 'TILED=false', 'TILESORIGIN=-30000,-60000', 'PROJECTION=EPSG:5179', 'DISPLAYPROJECTION=EPSG:5181', 'TRANSFORM=EPSG:5181', 'SERVICE=WMS', 'VERSION=1.1.1', 'REQUEST=GetMap', \"CQL_FILTER=(engn_code='00') and (acdnt_year between '2022' and '2022')  and (legaldong_code ilike '4146%') and (( acdnt_gae_code = '01') or ( acdnt_gae_code = '02') or ( acdnt_gae_code = '03') or ( acdnt_gae_code = '04')) and (( road_type = '6'))\", 'SRS=EPSG:5181', 'BBOX=167566.74796955,387565.64184213,269838.74796955,447405.64184213', 'WIDTH=1598', 'HEIGHT=935']\n",
      "Debugging - src_split:\n",
      "https://taas.koroad.or.kr/gis36/TAAS/wms?LAYERS=GNRL_GIS_ACDNT_INFO_NON\n",
      "STYLES=\n",
      "FORMAT=image/png\n",
      "TRANSPARENT=TRUE\n",
      "TILED=false\n",
      "TILESORIGIN=-30000,-60000\n",
      "PROJECTION=EPSG:5179\n",
      "DISPLAYPROJECTION=EPSG:5181\n",
      "TRANSFORM=EPSG:5181\n",
      "SERVICE=WMS\n",
      "VERSION=1.1.1\n",
      "REQUEST=GetMap\n",
      "CQL_FILTER=(engn_code='00') and (acdnt_year between '2022' and '2022')  and (legaldong_code ilike '4146%') and (( acdnt_gae_code = '01') or ( acdnt_gae_code = '02') or ( acdnt_gae_code = '03') or ( acdnt_gae_code = '04')) and (( road_type = '6'))\n",
      "SRS=EPSG:5181\n",
      "BBOX=167566.74796955,387565.64184213,269838.74796955,447405.64184213\n",
      "WIDTH=1598\n",
      "HEIGHT=935\n",
      "bbox_text : 167566.74796955,387565.64184213,269838.74796955,447405.64184213\n"
     ]
    },
    {
     "name": "stderr",
     "output_type": "stream",
     "text": [
      "  1%|          | 174/33698 [03:00<9:39:50,  1.04s/it]"
     ]
    },
    {
     "name": "stdout",
     "output_type": "stream",
     "text": [
      "Debugging - src content: <selenium.webdriver.remote.webelement.WebElement (session=\"5b06b3d12ca3a76e5c613afa896de233\", element=\"9E340076E16B0B12E9EB60FAF1C429D4_element_82599\")>\n",
      "Debugging - src content: https://taas.koroad.or.kr/gis36/TAAS/wms?LAYERS=GNRL_GIS_ACDNT_INFO_NON&STYLES=&FORMAT=image/png&TRANSPARENT=TRUE&TILED=false&TILESORIGIN=-30000,-60000&PROJECTION=EPSG:5179&DISPLAYPROJECTION=EPSG:5181&TRANSFORM=EPSG:5181&SERVICE=WMS&VERSION=1.1.1&REQUEST=GetMap&CQL_FILTER=(engn_code='00') and (acdnt_year between '2022' and '2022')  and (legaldong_code ilike '4146%') and (( acdnt_gae_code = '01') or ( acdnt_gae_code = '02') or ( acdnt_gae_code = '03') or ( acdnt_gae_code = '04')) and (( road_type = '6'))&SRS=EPSG:5181&BBOX=165954.06600673,388516.51381065,268226.06600673,448356.51381065&WIDTH=1598&HEIGHT=935\n",
      "src_split : ['https://taas.koroad.or.kr/gis36/TAAS/wms?LAYERS=GNRL_GIS_ACDNT_INFO_NON', 'STYLES=', 'FORMAT=image/png', 'TRANSPARENT=TRUE', 'TILED=false', 'TILESORIGIN=-30000,-60000', 'PROJECTION=EPSG:5179', 'DISPLAYPROJECTION=EPSG:5181', 'TRANSFORM=EPSG:5181', 'SERVICE=WMS', 'VERSION=1.1.1', 'REQUEST=GetMap', \"CQL_FILTER=(engn_code='00') and (acdnt_year between '2022' and '2022')  and (legaldong_code ilike '4146%') and (( acdnt_gae_code = '01') or ( acdnt_gae_code = '02') or ( acdnt_gae_code = '03') or ( acdnt_gae_code = '04')) and (( road_type = '6'))\", 'SRS=EPSG:5181', 'BBOX=165954.06600673,388516.51381065,268226.06600673,448356.51381065', 'WIDTH=1598', 'HEIGHT=935']\n",
      "Debugging - src_split:\n",
      "https://taas.koroad.or.kr/gis36/TAAS/wms?LAYERS=GNRL_GIS_ACDNT_INFO_NON\n",
      "STYLES=\n",
      "FORMAT=image/png\n",
      "TRANSPARENT=TRUE\n",
      "TILED=false\n",
      "TILESORIGIN=-30000,-60000\n",
      "PROJECTION=EPSG:5179\n",
      "DISPLAYPROJECTION=EPSG:5181\n",
      "TRANSFORM=EPSG:5181\n",
      "SERVICE=WMS\n",
      "VERSION=1.1.1\n",
      "REQUEST=GetMap\n",
      "CQL_FILTER=(engn_code='00') and (acdnt_year between '2022' and '2022')  and (legaldong_code ilike '4146%') and (( acdnt_gae_code = '01') or ( acdnt_gae_code = '02') or ( acdnt_gae_code = '03') or ( acdnt_gae_code = '04')) and (( road_type = '6'))\n",
      "SRS=EPSG:5181\n",
      "BBOX=165954.06600673,388516.51381065,268226.06600673,448356.51381065\n",
      "WIDTH=1598\n",
      "HEIGHT=935\n",
      "bbox_text : 165954.06600673,388516.51381065,268226.06600673,448356.51381065\n"
     ]
    },
    {
     "name": "stderr",
     "output_type": "stream",
     "text": [
      "  1%|          | 175/33698 [03:01<9:41:00,  1.04s/it]"
     ]
    },
    {
     "name": "stdout",
     "output_type": "stream",
     "text": [
      "Debugging - src content: <selenium.webdriver.remote.webelement.WebElement (session=\"5b06b3d12ca3a76e5c613afa896de233\", element=\"9E340076E16B0B12E9EB60FAF1C429D4_element_83046\")>\n",
      "Debugging - src content: https://taas.koroad.or.kr/gis36/TAAS/wms?LAYERS=GNRL_GIS_ACDNT_INFO_NON&STYLES=&FORMAT=image/png&TRANSPARENT=TRUE&TILED=false&TILESORIGIN=-30000,-60000&PROJECTION=EPSG:5179&DISPLAYPROJECTION=EPSG:5181&TRANSFORM=EPSG:5181&SERVICE=WMS&VERSION=1.1.1&REQUEST=GetMap&CQL_FILTER=(engn_code='00') and (acdnt_year between '2022' and '2022')  and (legaldong_code ilike '4146%') and (( acdnt_gae_code = '01') or ( acdnt_gae_code = '02') or ( acdnt_gae_code = '03') or ( acdnt_gae_code = '04')) and (( road_type = '6'))&SRS=EPSG:5181&BBOX=175231.18005721,385244.14482986,277503.18005721,445084.14482986&WIDTH=1598&HEIGHT=935\n",
      "src_split : ['https://taas.koroad.or.kr/gis36/TAAS/wms?LAYERS=GNRL_GIS_ACDNT_INFO_NON', 'STYLES=', 'FORMAT=image/png', 'TRANSPARENT=TRUE', 'TILED=false', 'TILESORIGIN=-30000,-60000', 'PROJECTION=EPSG:5179', 'DISPLAYPROJECTION=EPSG:5181', 'TRANSFORM=EPSG:5181', 'SERVICE=WMS', 'VERSION=1.1.1', 'REQUEST=GetMap', \"CQL_FILTER=(engn_code='00') and (acdnt_year between '2022' and '2022')  and (legaldong_code ilike '4146%') and (( acdnt_gae_code = '01') or ( acdnt_gae_code = '02') or ( acdnt_gae_code = '03') or ( acdnt_gae_code = '04')) and (( road_type = '6'))\", 'SRS=EPSG:5181', 'BBOX=175231.18005721,385244.14482986,277503.18005721,445084.14482986', 'WIDTH=1598', 'HEIGHT=935']\n",
      "Debugging - src_split:\n",
      "https://taas.koroad.or.kr/gis36/TAAS/wms?LAYERS=GNRL_GIS_ACDNT_INFO_NON\n",
      "STYLES=\n",
      "FORMAT=image/png\n",
      "TRANSPARENT=TRUE\n",
      "TILED=false\n",
      "TILESORIGIN=-30000,-60000\n",
      "PROJECTION=EPSG:5179\n",
      "DISPLAYPROJECTION=EPSG:5181\n",
      "TRANSFORM=EPSG:5181\n",
      "SERVICE=WMS\n",
      "VERSION=1.1.1\n",
      "REQUEST=GetMap\n",
      "CQL_FILTER=(engn_code='00') and (acdnt_year between '2022' and '2022')  and (legaldong_code ilike '4146%') and (( acdnt_gae_code = '01') or ( acdnt_gae_code = '02') or ( acdnt_gae_code = '03') or ( acdnt_gae_code = '04')) and (( road_type = '6'))\n",
      "SRS=EPSG:5181\n",
      "BBOX=175231.18005721,385244.14482986,277503.18005721,445084.14482986\n",
      "WIDTH=1598\n",
      "HEIGHT=935\n",
      "bbox_text : 175231.18005721,385244.14482986,277503.18005721,445084.14482986\n"
     ]
    },
    {
     "name": "stderr",
     "output_type": "stream",
     "text": [
      "  1%|          | 176/33698 [03:02<9:40:10,  1.04s/it]"
     ]
    },
    {
     "name": "stdout",
     "output_type": "stream",
     "text": [
      "Debugging - src content: <selenium.webdriver.remote.webelement.WebElement (session=\"5b06b3d12ca3a76e5c613afa896de233\", element=\"9E340076E16B0B12E9EB60FAF1C429D4_element_83486\")>\n",
      "Debugging - src content: https://taas.koroad.or.kr/gis36/TAAS/wms?LAYERS=GNRL_GIS_ACDNT_INFO_NON&STYLES=&FORMAT=image/png&TRANSPARENT=TRUE&TILED=false&TILESORIGIN=-30000,-60000&PROJECTION=EPSG:5179&DISPLAYPROJECTION=EPSG:5181&TRANSFORM=EPSG:5181&SERVICE=WMS&VERSION=1.1.1&REQUEST=GetMap&CQL_FILTER=(engn_code='00') and (acdnt_year between '2022' and '2022')  and (legaldong_code ilike '4146%') and (( acdnt_gae_code = '01') or ( acdnt_gae_code = '02') or ( acdnt_gae_code = '03') or ( acdnt_gae_code = '04')) and (( road_type = '6'))&SRS=EPSG:5181&BBOX=180880.90507686,386126.3400882,283152.90507686,445966.3400882&WIDTH=1598&HEIGHT=935\n",
      "src_split : ['https://taas.koroad.or.kr/gis36/TAAS/wms?LAYERS=GNRL_GIS_ACDNT_INFO_NON', 'STYLES=', 'FORMAT=image/png', 'TRANSPARENT=TRUE', 'TILED=false', 'TILESORIGIN=-30000,-60000', 'PROJECTION=EPSG:5179', 'DISPLAYPROJECTION=EPSG:5181', 'TRANSFORM=EPSG:5181', 'SERVICE=WMS', 'VERSION=1.1.1', 'REQUEST=GetMap', \"CQL_FILTER=(engn_code='00') and (acdnt_year between '2022' and '2022')  and (legaldong_code ilike '4146%') and (( acdnt_gae_code = '01') or ( acdnt_gae_code = '02') or ( acdnt_gae_code = '03') or ( acdnt_gae_code = '04')) and (( road_type = '6'))\", 'SRS=EPSG:5181', 'BBOX=180880.90507686,386126.3400882,283152.90507686,445966.3400882', 'WIDTH=1598', 'HEIGHT=935']\n",
      "Debugging - src_split:\n",
      "https://taas.koroad.or.kr/gis36/TAAS/wms?LAYERS=GNRL_GIS_ACDNT_INFO_NON\n",
      "STYLES=\n",
      "FORMAT=image/png\n",
      "TRANSPARENT=TRUE\n",
      "TILED=false\n",
      "TILESORIGIN=-30000,-60000\n",
      "PROJECTION=EPSG:5179\n",
      "DISPLAYPROJECTION=EPSG:5181\n",
      "TRANSFORM=EPSG:5181\n",
      "SERVICE=WMS\n",
      "VERSION=1.1.1\n",
      "REQUEST=GetMap\n",
      "CQL_FILTER=(engn_code='00') and (acdnt_year between '2022' and '2022')  and (legaldong_code ilike '4146%') and (( acdnt_gae_code = '01') or ( acdnt_gae_code = '02') or ( acdnt_gae_code = '03') or ( acdnt_gae_code = '04')) and (( road_type = '6'))\n",
      "SRS=EPSG:5181\n",
      "BBOX=180880.90507686,386126.3400882,283152.90507686,445966.3400882\n",
      "WIDTH=1598\n",
      "HEIGHT=935\n",
      "bbox_text : 180880.90507686,386126.3400882,283152.90507686,445966.3400882\n"
     ]
    },
    {
     "name": "stderr",
     "output_type": "stream",
     "text": [
      "  1%|          | 177/33698 [03:03<9:39:52,  1.04s/it]"
     ]
    },
    {
     "name": "stdout",
     "output_type": "stream",
     "text": [
      "Debugging - src content: <selenium.webdriver.remote.webelement.WebElement (session=\"5b06b3d12ca3a76e5c613afa896de233\", element=\"9E340076E16B0B12E9EB60FAF1C429D4_element_83933\")>\n",
      "Debugging - src content: https://taas.koroad.or.kr/gis36/TAAS/wms?LAYERS=GNRL_GIS_ACDNT_INFO_NON&STYLES=&FORMAT=image/png&TRANSPARENT=TRUE&TILED=false&TILESORIGIN=-30000,-60000&PROJECTION=EPSG:5179&DISPLAYPROJECTION=EPSG:5181&TRANSFORM=EPSG:5181&SERVICE=WMS&VERSION=1.1.1&REQUEST=GetMap&CQL_FILTER=(engn_code='00') and (acdnt_year between '2022' and '2022')  and (legaldong_code ilike '4146%') and (( acdnt_gae_code = '01') or ( acdnt_gae_code = '02') or ( acdnt_gae_code = '03') or ( acdnt_gae_code = '04')) and (( road_type = '6'))&SRS=EPSG:5181&BBOX=158046.17216138,384102.98037268,260318.17216138,443942.98037268&WIDTH=1598&HEIGHT=935\n",
      "src_split : ['https://taas.koroad.or.kr/gis36/TAAS/wms?LAYERS=GNRL_GIS_ACDNT_INFO_NON', 'STYLES=', 'FORMAT=image/png', 'TRANSPARENT=TRUE', 'TILED=false', 'TILESORIGIN=-30000,-60000', 'PROJECTION=EPSG:5179', 'DISPLAYPROJECTION=EPSG:5181', 'TRANSFORM=EPSG:5181', 'SERVICE=WMS', 'VERSION=1.1.1', 'REQUEST=GetMap', \"CQL_FILTER=(engn_code='00') and (acdnt_year between '2022' and '2022')  and (legaldong_code ilike '4146%') and (( acdnt_gae_code = '01') or ( acdnt_gae_code = '02') or ( acdnt_gae_code = '03') or ( acdnt_gae_code = '04')) and (( road_type = '6'))\", 'SRS=EPSG:5181', 'BBOX=158046.17216138,384102.98037268,260318.17216138,443942.98037268', 'WIDTH=1598', 'HEIGHT=935']\n",
      "Debugging - src_split:\n",
      "https://taas.koroad.or.kr/gis36/TAAS/wms?LAYERS=GNRL_GIS_ACDNT_INFO_NON\n",
      "STYLES=\n",
      "FORMAT=image/png\n",
      "TRANSPARENT=TRUE\n",
      "TILED=false\n",
      "TILESORIGIN=-30000,-60000\n",
      "PROJECTION=EPSG:5179\n",
      "DISPLAYPROJECTION=EPSG:5181\n",
      "TRANSFORM=EPSG:5181\n",
      "SERVICE=WMS\n",
      "VERSION=1.1.1\n",
      "REQUEST=GetMap\n",
      "CQL_FILTER=(engn_code='00') and (acdnt_year between '2022' and '2022')  and (legaldong_code ilike '4146%') and (( acdnt_gae_code = '01') or ( acdnt_gae_code = '02') or ( acdnt_gae_code = '03') or ( acdnt_gae_code = '04')) and (( road_type = '6'))\n",
      "SRS=EPSG:5181\n",
      "BBOX=158046.17216138,384102.98037268,260318.17216138,443942.98037268\n",
      "WIDTH=1598\n",
      "HEIGHT=935\n",
      "bbox_text : 158046.17216138,384102.98037268,260318.17216138,443942.98037268\n"
     ]
    },
    {
     "name": "stderr",
     "output_type": "stream",
     "text": [
      "  1%|          | 178/33698 [03:04<9:38:17,  1.04s/it]"
     ]
    },
    {
     "name": "stdout",
     "output_type": "stream",
     "text": [
      "Debugging - src content: <selenium.webdriver.remote.webelement.WebElement (session=\"5b06b3d12ca3a76e5c613afa896de233\", element=\"9E340076E16B0B12E9EB60FAF1C429D4_element_84380\")>\n",
      "Debugging - src content: https://taas.koroad.or.kr/gis36/TAAS/wms?LAYERS=GNRL_GIS_ACDNT_INFO_NON&STYLES=&FORMAT=image/png&TRANSPARENT=TRUE&TILED=false&TILESORIGIN=-30000,-60000&PROJECTION=EPSG:5179&DISPLAYPROJECTION=EPSG:5181&TRANSFORM=EPSG:5181&SERVICE=WMS&VERSION=1.1.1&REQUEST=GetMap&CQL_FILTER=(engn_code='00') and (acdnt_year between '2022' and '2022')  and (legaldong_code ilike '4146%') and (( acdnt_gae_code = '01') or ( acdnt_gae_code = '02') or ( acdnt_gae_code = '03') or ( acdnt_gae_code = '04')) and (( road_type = '6'))&SRS=EPSG:5181&BBOX=170771.16945597,386410.08591629,273043.16945597,446250.08591629&WIDTH=1598&HEIGHT=935\n",
      "src_split : ['https://taas.koroad.or.kr/gis36/TAAS/wms?LAYERS=GNRL_GIS_ACDNT_INFO_NON', 'STYLES=', 'FORMAT=image/png', 'TRANSPARENT=TRUE', 'TILED=false', 'TILESORIGIN=-30000,-60000', 'PROJECTION=EPSG:5179', 'DISPLAYPROJECTION=EPSG:5181', 'TRANSFORM=EPSG:5181', 'SERVICE=WMS', 'VERSION=1.1.1', 'REQUEST=GetMap', \"CQL_FILTER=(engn_code='00') and (acdnt_year between '2022' and '2022')  and (legaldong_code ilike '4146%') and (( acdnt_gae_code = '01') or ( acdnt_gae_code = '02') or ( acdnt_gae_code = '03') or ( acdnt_gae_code = '04')) and (( road_type = '6'))\", 'SRS=EPSG:5181', 'BBOX=170771.16945597,386410.08591629,273043.16945597,446250.08591629', 'WIDTH=1598', 'HEIGHT=935']\n",
      "Debugging - src_split:\n",
      "https://taas.koroad.or.kr/gis36/TAAS/wms?LAYERS=GNRL_GIS_ACDNT_INFO_NON\n",
      "STYLES=\n",
      "FORMAT=image/png\n",
      "TRANSPARENT=TRUE\n",
      "TILED=false\n",
      "TILESORIGIN=-30000,-60000\n",
      "PROJECTION=EPSG:5179\n",
      "DISPLAYPROJECTION=EPSG:5181\n",
      "TRANSFORM=EPSG:5181\n",
      "SERVICE=WMS\n",
      "VERSION=1.1.1\n",
      "REQUEST=GetMap\n",
      "CQL_FILTER=(engn_code='00') and (acdnt_year between '2022' and '2022')  and (legaldong_code ilike '4146%') and (( acdnt_gae_code = '01') or ( acdnt_gae_code = '02') or ( acdnt_gae_code = '03') or ( acdnt_gae_code = '04')) and (( road_type = '6'))\n",
      "SRS=EPSG:5181\n",
      "BBOX=170771.16945597,386410.08591629,273043.16945597,446250.08591629\n",
      "WIDTH=1598\n",
      "HEIGHT=935\n",
      "bbox_text : 170771.16945597,386410.08591629,273043.16945597,446250.08591629\n"
     ]
    },
    {
     "name": "stderr",
     "output_type": "stream",
     "text": [
      "  1%|          | 179/33698 [03:05<9:39:25,  1.04s/it]"
     ]
    },
    {
     "name": "stdout",
     "output_type": "stream",
     "text": [
      "Debugging - src content: <selenium.webdriver.remote.webelement.WebElement (session=\"5b06b3d12ca3a76e5c613afa896de233\", element=\"9E340076E16B0B12E9EB60FAF1C429D4_element_84837\")>\n",
      "Debugging - src content: https://taas.koroad.or.kr/gis36/TAAS/wms?LAYERS=GNRL_GIS_ACDNT_INFO_NON&STYLES=&FORMAT=image/png&TRANSPARENT=TRUE&TILED=false&TILESORIGIN=-30000,-60000&PROJECTION=EPSG:5179&DISPLAYPROJECTION=EPSG:5181&TRANSFORM=EPSG:5181&SERVICE=WMS&VERSION=1.1.1&REQUEST=GetMap&CQL_FILTER=(engn_code='00') and (acdnt_year between '2022' and '2022')  and (legaldong_code ilike '4146%') and (( acdnt_gae_code = '01') or ( acdnt_gae_code = '02') or ( acdnt_gae_code = '03') or ( acdnt_gae_code = '04')) and (( road_type = '6'))&SRS=EPSG:5181&BBOX=158043.980233,389442.10311584,260315.980233,449282.10311584&WIDTH=1598&HEIGHT=935\n",
      "src_split : ['https://taas.koroad.or.kr/gis36/TAAS/wms?LAYERS=GNRL_GIS_ACDNT_INFO_NON', 'STYLES=', 'FORMAT=image/png', 'TRANSPARENT=TRUE', 'TILED=false', 'TILESORIGIN=-30000,-60000', 'PROJECTION=EPSG:5179', 'DISPLAYPROJECTION=EPSG:5181', 'TRANSFORM=EPSG:5181', 'SERVICE=WMS', 'VERSION=1.1.1', 'REQUEST=GetMap', \"CQL_FILTER=(engn_code='00') and (acdnt_year between '2022' and '2022')  and (legaldong_code ilike '4146%') and (( acdnt_gae_code = '01') or ( acdnt_gae_code = '02') or ( acdnt_gae_code = '03') or ( acdnt_gae_code = '04')) and (( road_type = '6'))\", 'SRS=EPSG:5181', 'BBOX=158043.980233,389442.10311584,260315.980233,449282.10311584', 'WIDTH=1598', 'HEIGHT=935']\n",
      "Debugging - src_split:\n",
      "https://taas.koroad.or.kr/gis36/TAAS/wms?LAYERS=GNRL_GIS_ACDNT_INFO_NON\n",
      "STYLES=\n",
      "FORMAT=image/png\n",
      "TRANSPARENT=TRUE\n",
      "TILED=false\n",
      "TILESORIGIN=-30000,-60000\n",
      "PROJECTION=EPSG:5179\n",
      "DISPLAYPROJECTION=EPSG:5181\n",
      "TRANSFORM=EPSG:5181\n",
      "SERVICE=WMS\n",
      "VERSION=1.1.1\n",
      "REQUEST=GetMap\n",
      "CQL_FILTER=(engn_code='00') and (acdnt_year between '2022' and '2022')  and (legaldong_code ilike '4146%') and (( acdnt_gae_code = '01') or ( acdnt_gae_code = '02') or ( acdnt_gae_code = '03') or ( acdnt_gae_code = '04')) and (( road_type = '6'))\n",
      "SRS=EPSG:5181\n",
      "BBOX=158043.980233,389442.10311584,260315.980233,449282.10311584\n",
      "WIDTH=1598\n",
      "HEIGHT=935\n",
      "bbox_text : 158043.980233,389442.10311584,260315.980233,449282.10311584\n"
     ]
    },
    {
     "name": "stderr",
     "output_type": "stream",
     "text": [
      "  1%|          | 180/33698 [03:06<9:38:19,  1.04s/it]"
     ]
    },
    {
     "name": "stdout",
     "output_type": "stream",
     "text": [
      "Debugging - src content: <selenium.webdriver.remote.webelement.WebElement (session=\"5b06b3d12ca3a76e5c613afa896de233\", element=\"9E340076E16B0B12E9EB60FAF1C429D4_element_85277\")>\n",
      "Debugging - src content: https://taas.koroad.or.kr/gis36/TAAS/wms?LAYERS=GNRL_GIS_ACDNT_INFO_NON&STYLES=&FORMAT=image/png&TRANSPARENT=TRUE&TILED=false&TILESORIGIN=-30000,-60000&PROJECTION=EPSG:5179&DISPLAYPROJECTION=EPSG:5181&TRANSFORM=EPSG:5181&SERVICE=WMS&VERSION=1.1.1&REQUEST=GetMap&CQL_FILTER=(engn_code='00') and (acdnt_year between '2022' and '2022')  and (legaldong_code ilike '4146%') and (( acdnt_gae_code = '01') or ( acdnt_gae_code = '02') or ( acdnt_gae_code = '03') or ( acdnt_gae_code = '04')) and (( road_type = '6'))&SRS=EPSG:5181&BBOX=165441.68877843,388926.97488009,267713.68877843,448766.97488009&WIDTH=1598&HEIGHT=935\n",
      "src_split : ['https://taas.koroad.or.kr/gis36/TAAS/wms?LAYERS=GNRL_GIS_ACDNT_INFO_NON', 'STYLES=', 'FORMAT=image/png', 'TRANSPARENT=TRUE', 'TILED=false', 'TILESORIGIN=-30000,-60000', 'PROJECTION=EPSG:5179', 'DISPLAYPROJECTION=EPSG:5181', 'TRANSFORM=EPSG:5181', 'SERVICE=WMS', 'VERSION=1.1.1', 'REQUEST=GetMap', \"CQL_FILTER=(engn_code='00') and (acdnt_year between '2022' and '2022')  and (legaldong_code ilike '4146%') and (( acdnt_gae_code = '01') or ( acdnt_gae_code = '02') or ( acdnt_gae_code = '03') or ( acdnt_gae_code = '04')) and (( road_type = '6'))\", 'SRS=EPSG:5181', 'BBOX=165441.68877843,388926.97488009,267713.68877843,448766.97488009', 'WIDTH=1598', 'HEIGHT=935']\n",
      "Debugging - src_split:\n",
      "https://taas.koroad.or.kr/gis36/TAAS/wms?LAYERS=GNRL_GIS_ACDNT_INFO_NON\n",
      "STYLES=\n",
      "FORMAT=image/png\n",
      "TRANSPARENT=TRUE\n",
      "TILED=false\n",
      "TILESORIGIN=-30000,-60000\n",
      "PROJECTION=EPSG:5179\n",
      "DISPLAYPROJECTION=EPSG:5181\n",
      "TRANSFORM=EPSG:5181\n",
      "SERVICE=WMS\n",
      "VERSION=1.1.1\n",
      "REQUEST=GetMap\n",
      "CQL_FILTER=(engn_code='00') and (acdnt_year between '2022' and '2022')  and (legaldong_code ilike '4146%') and (( acdnt_gae_code = '01') or ( acdnt_gae_code = '02') or ( acdnt_gae_code = '03') or ( acdnt_gae_code = '04')) and (( road_type = '6'))\n",
      "SRS=EPSG:5181\n",
      "BBOX=165441.68877843,388926.97488009,267713.68877843,448766.97488009\n",
      "WIDTH=1598\n",
      "HEIGHT=935\n",
      "bbox_text : 165441.68877843,388926.97488009,267713.68877843,448766.97488009\n"
     ]
    },
    {
     "name": "stderr",
     "output_type": "stream",
     "text": [
      "  1%|          | 181/33698 [03:07<9:39:02,  1.04s/it]"
     ]
    },
    {
     "name": "stdout",
     "output_type": "stream",
     "text": [
      "Debugging - src content: <selenium.webdriver.remote.webelement.WebElement (session=\"5b06b3d12ca3a76e5c613afa896de233\", element=\"9E340076E16B0B12E9EB60FAF1C429D4_element_85717\")>\n",
      "Debugging - src content: https://taas.koroad.or.kr/gis36/TAAS/wms?LAYERS=GNRL_GIS_ACDNT_INFO_NON&STYLES=&FORMAT=image/png&TRANSPARENT=TRUE&TILED=false&TILESORIGIN=-30000,-60000&PROJECTION=EPSG:5179&DISPLAYPROJECTION=EPSG:5181&TRANSFORM=EPSG:5181&SERVICE=WMS&VERSION=1.1.1&REQUEST=GetMap&CQL_FILTER=(engn_code='00') and (acdnt_year between '2022' and '2022')  and (legaldong_code ilike '4146%') and (( acdnt_gae_code = '01') or ( acdnt_gae_code = '02') or ( acdnt_gae_code = '03') or ( acdnt_gae_code = '04')) and (( road_type = '6'))&SRS=EPSG:5181&BBOX=165073.90672108,389425.23513384,267345.90672108,449265.23513384&WIDTH=1598&HEIGHT=935\n",
      "src_split : ['https://taas.koroad.or.kr/gis36/TAAS/wms?LAYERS=GNRL_GIS_ACDNT_INFO_NON', 'STYLES=', 'FORMAT=image/png', 'TRANSPARENT=TRUE', 'TILED=false', 'TILESORIGIN=-30000,-60000', 'PROJECTION=EPSG:5179', 'DISPLAYPROJECTION=EPSG:5181', 'TRANSFORM=EPSG:5181', 'SERVICE=WMS', 'VERSION=1.1.1', 'REQUEST=GetMap', \"CQL_FILTER=(engn_code='00') and (acdnt_year between '2022' and '2022')  and (legaldong_code ilike '4146%') and (( acdnt_gae_code = '01') or ( acdnt_gae_code = '02') or ( acdnt_gae_code = '03') or ( acdnt_gae_code = '04')) and (( road_type = '6'))\", 'SRS=EPSG:5181', 'BBOX=165073.90672108,389425.23513384,267345.90672108,449265.23513384', 'WIDTH=1598', 'HEIGHT=935']\n",
      "Debugging - src_split:\n",
      "https://taas.koroad.or.kr/gis36/TAAS/wms?LAYERS=GNRL_GIS_ACDNT_INFO_NON\n",
      "STYLES=\n",
      "FORMAT=image/png\n",
      "TRANSPARENT=TRUE\n",
      "TILED=false\n",
      "TILESORIGIN=-30000,-60000\n",
      "PROJECTION=EPSG:5179\n",
      "DISPLAYPROJECTION=EPSG:5181\n",
      "TRANSFORM=EPSG:5181\n",
      "SERVICE=WMS\n",
      "VERSION=1.1.1\n",
      "REQUEST=GetMap\n",
      "CQL_FILTER=(engn_code='00') and (acdnt_year between '2022' and '2022')  and (legaldong_code ilike '4146%') and (( acdnt_gae_code = '01') or ( acdnt_gae_code = '02') or ( acdnt_gae_code = '03') or ( acdnt_gae_code = '04')) and (( road_type = '6'))\n",
      "SRS=EPSG:5181\n",
      "BBOX=165073.90672108,389425.23513384,267345.90672108,449265.23513384\n",
      "WIDTH=1598\n",
      "HEIGHT=935\n",
      "bbox_text : 165073.90672108,389425.23513384,267345.90672108,449265.23513384\n"
     ]
    },
    {
     "name": "stderr",
     "output_type": "stream",
     "text": [
      "  1%|          | 182/33698 [03:08<9:38:29,  1.04s/it]"
     ]
    },
    {
     "name": "stdout",
     "output_type": "stream",
     "text": [
      "Debugging - src content: <selenium.webdriver.remote.webelement.WebElement (session=\"5b06b3d12ca3a76e5c613afa896de233\", element=\"9E340076E16B0B12E9EB60FAF1C429D4_element_86174\")>\n",
      "Debugging - src content: https://taas.koroad.or.kr/gis36/TAAS/wms?LAYERS=GNRL_GIS_ACDNT_INFO_NON&STYLES=&FORMAT=image/png&TRANSPARENT=TRUE&TILED=false&TILESORIGIN=-30000,-60000&PROJECTION=EPSG:5179&DISPLAYPROJECTION=EPSG:5181&TRANSFORM=EPSG:5181&SERVICE=WMS&VERSION=1.1.1&REQUEST=GetMap&CQL_FILTER=(engn_code='00') and (acdnt_year between '2022' and '2022')  and (legaldong_code ilike '4146%') and (( acdnt_gae_code = '01') or ( acdnt_gae_code = '02') or ( acdnt_gae_code = '03') or ( acdnt_gae_code = '04')) and (( road_type = '6'))&SRS=EPSG:5181&BBOX=171701.69790342,386382.98746949,273973.69790342,446222.98746949&WIDTH=1598&HEIGHT=935\n",
      "src_split : ['https://taas.koroad.or.kr/gis36/TAAS/wms?LAYERS=GNRL_GIS_ACDNT_INFO_NON', 'STYLES=', 'FORMAT=image/png', 'TRANSPARENT=TRUE', 'TILED=false', 'TILESORIGIN=-30000,-60000', 'PROJECTION=EPSG:5179', 'DISPLAYPROJECTION=EPSG:5181', 'TRANSFORM=EPSG:5181', 'SERVICE=WMS', 'VERSION=1.1.1', 'REQUEST=GetMap', \"CQL_FILTER=(engn_code='00') and (acdnt_year between '2022' and '2022')  and (legaldong_code ilike '4146%') and (( acdnt_gae_code = '01') or ( acdnt_gae_code = '02') or ( acdnt_gae_code = '03') or ( acdnt_gae_code = '04')) and (( road_type = '6'))\", 'SRS=EPSG:5181', 'BBOX=171701.69790342,386382.98746949,273973.69790342,446222.98746949', 'WIDTH=1598', 'HEIGHT=935']\n",
      "Debugging - src_split:\n",
      "https://taas.koroad.or.kr/gis36/TAAS/wms?LAYERS=GNRL_GIS_ACDNT_INFO_NON\n",
      "STYLES=\n",
      "FORMAT=image/png\n",
      "TRANSPARENT=TRUE\n",
      "TILED=false\n",
      "TILESORIGIN=-30000,-60000\n",
      "PROJECTION=EPSG:5179\n",
      "DISPLAYPROJECTION=EPSG:5181\n",
      "TRANSFORM=EPSG:5181\n",
      "SERVICE=WMS\n",
      "VERSION=1.1.1\n",
      "REQUEST=GetMap\n",
      "CQL_FILTER=(engn_code='00') and (acdnt_year between '2022' and '2022')  and (legaldong_code ilike '4146%') and (( acdnt_gae_code = '01') or ( acdnt_gae_code = '02') or ( acdnt_gae_code = '03') or ( acdnt_gae_code = '04')) and (( road_type = '6'))\n",
      "SRS=EPSG:5181\n",
      "BBOX=171701.69790342,386382.98746949,273973.69790342,446222.98746949\n",
      "WIDTH=1598\n",
      "HEIGHT=935\n",
      "bbox_text : 171701.69790342,386382.98746949,273973.69790342,446222.98746949\n"
     ]
    },
    {
     "name": "stderr",
     "output_type": "stream",
     "text": [
      "  1%|          | 183/33698 [03:09<9:39:22,  1.04s/it]"
     ]
    },
    {
     "name": "stdout",
     "output_type": "stream",
     "text": [
      "Debugging - src content: <selenium.webdriver.remote.webelement.WebElement (session=\"5b06b3d12ca3a76e5c613afa896de233\", element=\"9E340076E16B0B12E9EB60FAF1C429D4_element_86631\")>\n",
      "Debugging - src content: https://taas.koroad.or.kr/gis36/TAAS/wms?LAYERS=GNRL_GIS_ACDNT_INFO_NON&STYLES=&FORMAT=image/png&TRANSPARENT=TRUE&TILED=false&TILESORIGIN=-30000,-60000&PROJECTION=EPSG:5179&DISPLAYPROJECTION=EPSG:5181&TRANSFORM=EPSG:5181&SERVICE=WMS&VERSION=1.1.1&REQUEST=GetMap&CQL_FILTER=(engn_code='00') and (acdnt_year between '2022' and '2022')  and (legaldong_code ilike '4146%') and (( acdnt_gae_code = '01') or ( acdnt_gae_code = '02') or ( acdnt_gae_code = '03') or ( acdnt_gae_code = '04')) and (( road_type = '6'))&SRS=EPSG:5181&BBOX=153774.06514504,392132.60813607,256046.06514504,451972.60813607&WIDTH=1598&HEIGHT=935\n",
      "src_split : ['https://taas.koroad.or.kr/gis36/TAAS/wms?LAYERS=GNRL_GIS_ACDNT_INFO_NON', 'STYLES=', 'FORMAT=image/png', 'TRANSPARENT=TRUE', 'TILED=false', 'TILESORIGIN=-30000,-60000', 'PROJECTION=EPSG:5179', 'DISPLAYPROJECTION=EPSG:5181', 'TRANSFORM=EPSG:5181', 'SERVICE=WMS', 'VERSION=1.1.1', 'REQUEST=GetMap', \"CQL_FILTER=(engn_code='00') and (acdnt_year between '2022' and '2022')  and (legaldong_code ilike '4146%') and (( acdnt_gae_code = '01') or ( acdnt_gae_code = '02') or ( acdnt_gae_code = '03') or ( acdnt_gae_code = '04')) and (( road_type = '6'))\", 'SRS=EPSG:5181', 'BBOX=153774.06514504,392132.60813607,256046.06514504,451972.60813607', 'WIDTH=1598', 'HEIGHT=935']\n",
      "Debugging - src_split:\n",
      "https://taas.koroad.or.kr/gis36/TAAS/wms?LAYERS=GNRL_GIS_ACDNT_INFO_NON\n",
      "STYLES=\n",
      "FORMAT=image/png\n",
      "TRANSPARENT=TRUE\n",
      "TILED=false\n",
      "TILESORIGIN=-30000,-60000\n",
      "PROJECTION=EPSG:5179\n",
      "DISPLAYPROJECTION=EPSG:5181\n",
      "TRANSFORM=EPSG:5181\n",
      "SERVICE=WMS\n",
      "VERSION=1.1.1\n",
      "REQUEST=GetMap\n",
      "CQL_FILTER=(engn_code='00') and (acdnt_year between '2022' and '2022')  and (legaldong_code ilike '4146%') and (( acdnt_gae_code = '01') or ( acdnt_gae_code = '02') or ( acdnt_gae_code = '03') or ( acdnt_gae_code = '04')) and (( road_type = '6'))\n",
      "SRS=EPSG:5181\n",
      "BBOX=153774.06514504,392132.60813607,256046.06514504,451972.60813607\n",
      "WIDTH=1598\n",
      "HEIGHT=935\n",
      "bbox_text : 153774.06514504,392132.60813607,256046.06514504,451972.60813607\n"
     ]
    },
    {
     "name": "stderr",
     "output_type": "stream",
     "text": [
      "  1%|          | 184/33698 [03:10<9:37:54,  1.03s/it]"
     ]
    },
    {
     "name": "stdout",
     "output_type": "stream",
     "text": [
      "Debugging - src content: <selenium.webdriver.remote.webelement.WebElement (session=\"5b06b3d12ca3a76e5c613afa896de233\", element=\"9E340076E16B0B12E9EB60FAF1C429D4_element_87071\")>\n",
      "Debugging - src content: https://taas.koroad.or.kr/gis36/TAAS/wms?LAYERS=GNRL_GIS_ACDNT_INFO_NON&STYLES=&FORMAT=image/png&TRANSPARENT=TRUE&TILED=false&TILESORIGIN=-30000,-60000&PROJECTION=EPSG:5179&DISPLAYPROJECTION=EPSG:5181&TRANSFORM=EPSG:5181&SERVICE=WMS&VERSION=1.1.1&REQUEST=GetMap&CQL_FILTER=(engn_code='00') and (acdnt_year between '2022' and '2022')  and (legaldong_code ilike '4146%') and (( acdnt_gae_code = '01') or ( acdnt_gae_code = '02') or ( acdnt_gae_code = '03') or ( acdnt_gae_code = '04')) and (( road_type = '6'))&SRS=EPSG:5181&BBOX=157608.98538745,389029.64033837,259880.98538745,448869.64033837&WIDTH=1598&HEIGHT=935\n",
      "src_split : ['https://taas.koroad.or.kr/gis36/TAAS/wms?LAYERS=GNRL_GIS_ACDNT_INFO_NON', 'STYLES=', 'FORMAT=image/png', 'TRANSPARENT=TRUE', 'TILED=false', 'TILESORIGIN=-30000,-60000', 'PROJECTION=EPSG:5179', 'DISPLAYPROJECTION=EPSG:5181', 'TRANSFORM=EPSG:5181', 'SERVICE=WMS', 'VERSION=1.1.1', 'REQUEST=GetMap', \"CQL_FILTER=(engn_code='00') and (acdnt_year between '2022' and '2022')  and (legaldong_code ilike '4146%') and (( acdnt_gae_code = '01') or ( acdnt_gae_code = '02') or ( acdnt_gae_code = '03') or ( acdnt_gae_code = '04')) and (( road_type = '6'))\", 'SRS=EPSG:5181', 'BBOX=157608.98538745,389029.64033837,259880.98538745,448869.64033837', 'WIDTH=1598', 'HEIGHT=935']\n",
      "Debugging - src_split:\n",
      "https://taas.koroad.or.kr/gis36/TAAS/wms?LAYERS=GNRL_GIS_ACDNT_INFO_NON\n",
      "STYLES=\n",
      "FORMAT=image/png\n",
      "TRANSPARENT=TRUE\n",
      "TILED=false\n",
      "TILESORIGIN=-30000,-60000\n",
      "PROJECTION=EPSG:5179\n",
      "DISPLAYPROJECTION=EPSG:5181\n",
      "TRANSFORM=EPSG:5181\n",
      "SERVICE=WMS\n",
      "VERSION=1.1.1\n",
      "REQUEST=GetMap\n",
      "CQL_FILTER=(engn_code='00') and (acdnt_year between '2022' and '2022')  and (legaldong_code ilike '4146%') and (( acdnt_gae_code = '01') or ( acdnt_gae_code = '02') or ( acdnt_gae_code = '03') or ( acdnt_gae_code = '04')) and (( road_type = '6'))\n",
      "SRS=EPSG:5181\n",
      "BBOX=157608.98538745,389029.64033837,259880.98538745,448869.64033837\n",
      "WIDTH=1598\n",
      "HEIGHT=935\n",
      "bbox_text : 157608.98538745,389029.64033837,259880.98538745,448869.64033837\n"
     ]
    },
    {
     "name": "stderr",
     "output_type": "stream",
     "text": [
      "  1%|          | 185/33698 [03:11<9:39:31,  1.04s/it]"
     ]
    },
    {
     "name": "stdout",
     "output_type": "stream",
     "text": [
      "Debugging - src content: <selenium.webdriver.remote.webelement.WebElement (session=\"5b06b3d12ca3a76e5c613afa896de233\", element=\"9E340076E16B0B12E9EB60FAF1C429D4_element_87531\")>\n",
      "Debugging - src content: https://taas.koroad.or.kr/gis36/TAAS/wms?LAYERS=GNRL_GIS_ACDNT_INFO_NON&STYLES=&FORMAT=image/png&TRANSPARENT=TRUE&TILED=false&TILESORIGIN=-30000,-60000&PROJECTION=EPSG:5179&DISPLAYPROJECTION=EPSG:5181&TRANSFORM=EPSG:5181&SERVICE=WMS&VERSION=1.1.1&REQUEST=GetMap&CQL_FILTER=(engn_code='00') and (acdnt_year between '2022' and '2022')  and (legaldong_code ilike '4146%') and (( acdnt_gae_code = '01') or ( acdnt_gae_code = '02') or ( acdnt_gae_code = '03') or ( acdnt_gae_code = '04')) and (( road_type = '6'))&SRS=EPSG:5181&BBOX=158892.94548766,371687.47547222,261164.94548766,431527.47547222&WIDTH=1598&HEIGHT=935\n",
      "src_split : ['https://taas.koroad.or.kr/gis36/TAAS/wms?LAYERS=GNRL_GIS_ACDNT_INFO_NON', 'STYLES=', 'FORMAT=image/png', 'TRANSPARENT=TRUE', 'TILED=false', 'TILESORIGIN=-30000,-60000', 'PROJECTION=EPSG:5179', 'DISPLAYPROJECTION=EPSG:5181', 'TRANSFORM=EPSG:5181', 'SERVICE=WMS', 'VERSION=1.1.1', 'REQUEST=GetMap', \"CQL_FILTER=(engn_code='00') and (acdnt_year between '2022' and '2022')  and (legaldong_code ilike '4146%') and (( acdnt_gae_code = '01') or ( acdnt_gae_code = '02') or ( acdnt_gae_code = '03') or ( acdnt_gae_code = '04')) and (( road_type = '6'))\", 'SRS=EPSG:5181', 'BBOX=158892.94548766,371687.47547222,261164.94548766,431527.47547222', 'WIDTH=1598', 'HEIGHT=935']\n",
      "Debugging - src_split:\n",
      "https://taas.koroad.or.kr/gis36/TAAS/wms?LAYERS=GNRL_GIS_ACDNT_INFO_NON\n",
      "STYLES=\n",
      "FORMAT=image/png\n",
      "TRANSPARENT=TRUE\n",
      "TILED=false\n",
      "TILESORIGIN=-30000,-60000\n",
      "PROJECTION=EPSG:5179\n",
      "DISPLAYPROJECTION=EPSG:5181\n",
      "TRANSFORM=EPSG:5181\n",
      "SERVICE=WMS\n",
      "VERSION=1.1.1\n",
      "REQUEST=GetMap\n",
      "CQL_FILTER=(engn_code='00') and (acdnt_year between '2022' and '2022')  and (legaldong_code ilike '4146%') and (( acdnt_gae_code = '01') or ( acdnt_gae_code = '02') or ( acdnt_gae_code = '03') or ( acdnt_gae_code = '04')) and (( road_type = '6'))\n",
      "SRS=EPSG:5181\n",
      "BBOX=158892.94548766,371687.47547222,261164.94548766,431527.47547222\n",
      "WIDTH=1598\n",
      "HEIGHT=935\n",
      "bbox_text : 158892.94548766,371687.47547222,261164.94548766,431527.47547222\n"
     ]
    },
    {
     "name": "stderr",
     "output_type": "stream",
     "text": [
      "  1%|          | 186/33698 [03:12<9:39:53,  1.04s/it]"
     ]
    },
    {
     "name": "stdout",
     "output_type": "stream",
     "text": [
      "Debugging - src content: <selenium.webdriver.remote.webelement.WebElement (session=\"5b06b3d12ca3a76e5c613afa896de233\", element=\"9E340076E16B0B12E9EB60FAF1C429D4_element_87991\")>\n",
      "Debugging - src content: https://taas.koroad.or.kr/gis36/TAAS/wms?LAYERS=GNRL_GIS_ACDNT_INFO_NON&STYLES=&FORMAT=image/png&TRANSPARENT=TRUE&TILED=false&TILESORIGIN=-30000,-60000&PROJECTION=EPSG:5179&DISPLAYPROJECTION=EPSG:5181&TRANSFORM=EPSG:5181&SERVICE=WMS&VERSION=1.1.1&REQUEST=GetMap&CQL_FILTER=(engn_code='00') and (acdnt_year between '2022' and '2022')  and (legaldong_code ilike '4146%') and (( acdnt_gae_code = '01') or ( acdnt_gae_code = '02') or ( acdnt_gae_code = '03') or ( acdnt_gae_code = '04')) and (( road_type = '6'))&SRS=EPSG:5181&BBOX=162753.39169852,391047.63296932,265025.39169852,450887.63296932&WIDTH=1598&HEIGHT=935\n",
      "src_split : ['https://taas.koroad.or.kr/gis36/TAAS/wms?LAYERS=GNRL_GIS_ACDNT_INFO_NON', 'STYLES=', 'FORMAT=image/png', 'TRANSPARENT=TRUE', 'TILED=false', 'TILESORIGIN=-30000,-60000', 'PROJECTION=EPSG:5179', 'DISPLAYPROJECTION=EPSG:5181', 'TRANSFORM=EPSG:5181', 'SERVICE=WMS', 'VERSION=1.1.1', 'REQUEST=GetMap', \"CQL_FILTER=(engn_code='00') and (acdnt_year between '2022' and '2022')  and (legaldong_code ilike '4146%') and (( acdnt_gae_code = '01') or ( acdnt_gae_code = '02') or ( acdnt_gae_code = '03') or ( acdnt_gae_code = '04')) and (( road_type = '6'))\", 'SRS=EPSG:5181', 'BBOX=162753.39169852,391047.63296932,265025.39169852,450887.63296932', 'WIDTH=1598', 'HEIGHT=935']\n",
      "Debugging - src_split:\n",
      "https://taas.koroad.or.kr/gis36/TAAS/wms?LAYERS=GNRL_GIS_ACDNT_INFO_NON\n",
      "STYLES=\n",
      "FORMAT=image/png\n",
      "TRANSPARENT=TRUE\n",
      "TILED=false\n",
      "TILESORIGIN=-30000,-60000\n",
      "PROJECTION=EPSG:5179\n",
      "DISPLAYPROJECTION=EPSG:5181\n",
      "TRANSFORM=EPSG:5181\n",
      "SERVICE=WMS\n",
      "VERSION=1.1.1\n",
      "REQUEST=GetMap\n",
      "CQL_FILTER=(engn_code='00') and (acdnt_year between '2022' and '2022')  and (legaldong_code ilike '4146%') and (( acdnt_gae_code = '01') or ( acdnt_gae_code = '02') or ( acdnt_gae_code = '03') or ( acdnt_gae_code = '04')) and (( road_type = '6'))\n",
      "SRS=EPSG:5181\n",
      "BBOX=162753.39169852,391047.63296932,265025.39169852,450887.63296932\n",
      "WIDTH=1598\n",
      "HEIGHT=935\n",
      "bbox_text : 162753.39169852,391047.63296932,265025.39169852,450887.63296932\n"
     ]
    },
    {
     "name": "stderr",
     "output_type": "stream",
     "text": [
      "  1%|          | 187/33698 [03:13<9:40:11,  1.04s/it]"
     ]
    },
    {
     "name": "stdout",
     "output_type": "stream",
     "text": [
      "Debugging - src content: <selenium.webdriver.remote.webelement.WebElement (session=\"5b06b3d12ca3a76e5c613afa896de233\", element=\"9E340076E16B0B12E9EB60FAF1C429D4_element_88441\")>\n",
      "Debugging - src content: https://taas.koroad.or.kr/gis36/TAAS/wms?LAYERS=GNRL_GIS_ACDNT_INFO_NON&STYLES=&FORMAT=image/png&TRANSPARENT=TRUE&TILED=false&TILESORIGIN=-30000,-60000&PROJECTION=EPSG:5179&DISPLAYPROJECTION=EPSG:5181&TRANSFORM=EPSG:5181&SERVICE=WMS&VERSION=1.1.1&REQUEST=GetMap&CQL_FILTER=(engn_code='00') and (acdnt_year between '2022' and '2022')  and (legaldong_code ilike '4146%') and (( acdnt_gae_code = '01') or ( acdnt_gae_code = '02') or ( acdnt_gae_code = '03') or ( acdnt_gae_code = '04')) and (( road_type = '6'))&SRS=EPSG:5181&BBOX=157605.39976397,383647.47248142,259877.39976397,443487.47248142&WIDTH=1598&HEIGHT=935\n",
      "src_split : ['https://taas.koroad.or.kr/gis36/TAAS/wms?LAYERS=GNRL_GIS_ACDNT_INFO_NON', 'STYLES=', 'FORMAT=image/png', 'TRANSPARENT=TRUE', 'TILED=false', 'TILESORIGIN=-30000,-60000', 'PROJECTION=EPSG:5179', 'DISPLAYPROJECTION=EPSG:5181', 'TRANSFORM=EPSG:5181', 'SERVICE=WMS', 'VERSION=1.1.1', 'REQUEST=GetMap', \"CQL_FILTER=(engn_code='00') and (acdnt_year between '2022' and '2022')  and (legaldong_code ilike '4146%') and (( acdnt_gae_code = '01') or ( acdnt_gae_code = '02') or ( acdnt_gae_code = '03') or ( acdnt_gae_code = '04')) and (( road_type = '6'))\", 'SRS=EPSG:5181', 'BBOX=157605.39976397,383647.47248142,259877.39976397,443487.47248142', 'WIDTH=1598', 'HEIGHT=935']\n",
      "Debugging - src_split:\n",
      "https://taas.koroad.or.kr/gis36/TAAS/wms?LAYERS=GNRL_GIS_ACDNT_INFO_NON\n",
      "STYLES=\n",
      "FORMAT=image/png\n",
      "TRANSPARENT=TRUE\n",
      "TILED=false\n",
      "TILESORIGIN=-30000,-60000\n",
      "PROJECTION=EPSG:5179\n",
      "DISPLAYPROJECTION=EPSG:5181\n",
      "TRANSFORM=EPSG:5181\n",
      "SERVICE=WMS\n",
      "VERSION=1.1.1\n",
      "REQUEST=GetMap\n",
      "CQL_FILTER=(engn_code='00') and (acdnt_year between '2022' and '2022')  and (legaldong_code ilike '4146%') and (( acdnt_gae_code = '01') or ( acdnt_gae_code = '02') or ( acdnt_gae_code = '03') or ( acdnt_gae_code = '04')) and (( road_type = '6'))\n",
      "SRS=EPSG:5181\n",
      "BBOX=157605.39976397,383647.47248142,259877.39976397,443487.47248142\n",
      "WIDTH=1598\n",
      "HEIGHT=935\n",
      "bbox_text : 157605.39976397,383647.47248142,259877.39976397,443487.47248142\n"
     ]
    },
    {
     "name": "stderr",
     "output_type": "stream",
     "text": [
      "  1%|          | 188/33698 [03:14<9:39:52,  1.04s/it]"
     ]
    },
    {
     "name": "stdout",
     "output_type": "stream",
     "text": [
      "Debugging - src content: <selenium.webdriver.remote.webelement.WebElement (session=\"5b06b3d12ca3a76e5c613afa896de233\", element=\"9E340076E16B0B12E9EB60FAF1C429D4_element_88891\")>\n",
      "Debugging - src content: https://taas.koroad.or.kr/gis36/TAAS/wms?LAYERS=GNRL_GIS_ACDNT_INFO_NON&STYLES=&FORMAT=image/png&TRANSPARENT=TRUE&TILED=false&TILESORIGIN=-30000,-60000&PROJECTION=EPSG:5179&DISPLAYPROJECTION=EPSG:5181&TRANSFORM=EPSG:5181&SERVICE=WMS&VERSION=1.1.1&REQUEST=GetMap&CQL_FILTER=(engn_code='00') and (acdnt_year between '2022' and '2022')  and (legaldong_code ilike '4146%') and (( acdnt_gae_code = '01') or ( acdnt_gae_code = '02') or ( acdnt_gae_code = '03') or ( acdnt_gae_code = '04')) and (( road_type = '6'))&SRS=EPSG:5181&BBOX=156134.62423777,389933.21127017,258406.62423777,449773.21127017&WIDTH=1598&HEIGHT=935\n",
      "src_split : ['https://taas.koroad.or.kr/gis36/TAAS/wms?LAYERS=GNRL_GIS_ACDNT_INFO_NON', 'STYLES=', 'FORMAT=image/png', 'TRANSPARENT=TRUE', 'TILED=false', 'TILESORIGIN=-30000,-60000', 'PROJECTION=EPSG:5179', 'DISPLAYPROJECTION=EPSG:5181', 'TRANSFORM=EPSG:5181', 'SERVICE=WMS', 'VERSION=1.1.1', 'REQUEST=GetMap', \"CQL_FILTER=(engn_code='00') and (acdnt_year between '2022' and '2022')  and (legaldong_code ilike '4146%') and (( acdnt_gae_code = '01') or ( acdnt_gae_code = '02') or ( acdnt_gae_code = '03') or ( acdnt_gae_code = '04')) and (( road_type = '6'))\", 'SRS=EPSG:5181', 'BBOX=156134.62423777,389933.21127017,258406.62423777,449773.21127017', 'WIDTH=1598', 'HEIGHT=935']\n",
      "Debugging - src_split:\n",
      "https://taas.koroad.or.kr/gis36/TAAS/wms?LAYERS=GNRL_GIS_ACDNT_INFO_NON\n",
      "STYLES=\n",
      "FORMAT=image/png\n",
      "TRANSPARENT=TRUE\n",
      "TILED=false\n",
      "TILESORIGIN=-30000,-60000\n",
      "PROJECTION=EPSG:5179\n",
      "DISPLAYPROJECTION=EPSG:5181\n",
      "TRANSFORM=EPSG:5181\n",
      "SERVICE=WMS\n",
      "VERSION=1.1.1\n",
      "REQUEST=GetMap\n",
      "CQL_FILTER=(engn_code='00') and (acdnt_year between '2022' and '2022')  and (legaldong_code ilike '4146%') and (( acdnt_gae_code = '01') or ( acdnt_gae_code = '02') or ( acdnt_gae_code = '03') or ( acdnt_gae_code = '04')) and (( road_type = '6'))\n",
      "SRS=EPSG:5181\n",
      "BBOX=156134.62423777,389933.21127017,258406.62423777,449773.21127017\n",
      "WIDTH=1598\n",
      "HEIGHT=935\n",
      "bbox_text : 156134.62423777,389933.21127017,258406.62423777,449773.21127017\n"
     ]
    },
    {
     "name": "stderr",
     "output_type": "stream",
     "text": [
      "  1%|          | 189/33698 [03:15<9:39:38,  1.04s/it]"
     ]
    },
    {
     "name": "stdout",
     "output_type": "stream",
     "text": [
      "Debugging - src content: <selenium.webdriver.remote.webelement.WebElement (session=\"5b06b3d12ca3a76e5c613afa896de233\", element=\"9E340076E16B0B12E9EB60FAF1C429D4_element_89348\")>\n",
      "Debugging - src content: https://taas.koroad.or.kr/gis36/TAAS/wms?LAYERS=GNRL_GIS_ACDNT_INFO_NON&STYLES=&FORMAT=image/png&TRANSPARENT=TRUE&TILED=false&TILESORIGIN=-30000,-60000&PROJECTION=EPSG:5179&DISPLAYPROJECTION=EPSG:5181&TRANSFORM=EPSG:5181&SERVICE=WMS&VERSION=1.1.1&REQUEST=GetMap&CQL_FILTER=(engn_code='00') and (acdnt_year between '2022' and '2022')  and (legaldong_code ilike '4146%') and (( acdnt_gae_code = '01') or ( acdnt_gae_code = '02') or ( acdnt_gae_code = '03') or ( acdnt_gae_code = '04')) and (( road_type = '6'))&SRS=EPSG:5181&BBOX=175124.44661858,385374.63605865,277396.44661858,445214.63605865&WIDTH=1598&HEIGHT=935\n",
      "src_split : ['https://taas.koroad.or.kr/gis36/TAAS/wms?LAYERS=GNRL_GIS_ACDNT_INFO_NON', 'STYLES=', 'FORMAT=image/png', 'TRANSPARENT=TRUE', 'TILED=false', 'TILESORIGIN=-30000,-60000', 'PROJECTION=EPSG:5179', 'DISPLAYPROJECTION=EPSG:5181', 'TRANSFORM=EPSG:5181', 'SERVICE=WMS', 'VERSION=1.1.1', 'REQUEST=GetMap', \"CQL_FILTER=(engn_code='00') and (acdnt_year between '2022' and '2022')  and (legaldong_code ilike '4146%') and (( acdnt_gae_code = '01') or ( acdnt_gae_code = '02') or ( acdnt_gae_code = '03') or ( acdnt_gae_code = '04')) and (( road_type = '6'))\", 'SRS=EPSG:5181', 'BBOX=175124.44661858,385374.63605865,277396.44661858,445214.63605865', 'WIDTH=1598', 'HEIGHT=935']\n",
      "Debugging - src_split:\n",
      "https://taas.koroad.or.kr/gis36/TAAS/wms?LAYERS=GNRL_GIS_ACDNT_INFO_NON\n",
      "STYLES=\n",
      "FORMAT=image/png\n",
      "TRANSPARENT=TRUE\n",
      "TILED=false\n",
      "TILESORIGIN=-30000,-60000\n",
      "PROJECTION=EPSG:5179\n",
      "DISPLAYPROJECTION=EPSG:5181\n",
      "TRANSFORM=EPSG:5181\n",
      "SERVICE=WMS\n",
      "VERSION=1.1.1\n",
      "REQUEST=GetMap\n",
      "CQL_FILTER=(engn_code='00') and (acdnt_year between '2022' and '2022')  and (legaldong_code ilike '4146%') and (( acdnt_gae_code = '01') or ( acdnt_gae_code = '02') or ( acdnt_gae_code = '03') or ( acdnt_gae_code = '04')) and (( road_type = '6'))\n",
      "SRS=EPSG:5181\n",
      "BBOX=175124.44661858,385374.63605865,277396.44661858,445214.63605865\n",
      "WIDTH=1598\n",
      "HEIGHT=935\n",
      "bbox_text : 175124.44661858,385374.63605865,277396.44661858,445214.63605865\n"
     ]
    },
    {
     "name": "stderr",
     "output_type": "stream",
     "text": [
      "  1%|          | 190/33698 [03:16<9:39:57,  1.04s/it]"
     ]
    },
    {
     "name": "stdout",
     "output_type": "stream",
     "text": [
      "Debugging - src content: <selenium.webdriver.remote.webelement.WebElement (session=\"5b06b3d12ca3a76e5c613afa896de233\", element=\"9E340076E16B0B12E9EB60FAF1C429D4_element_89788\")>\n",
      "Debugging - src content: https://taas.koroad.or.kr/gis36/TAAS/wms?LAYERS=GNRL_GIS_ACDNT_INFO_NON&STYLES=&FORMAT=image/png&TRANSPARENT=TRUE&TILED=false&TILESORIGIN=-30000,-60000&PROJECTION=EPSG:5179&DISPLAYPROJECTION=EPSG:5181&TRANSFORM=EPSG:5181&SERVICE=WMS&VERSION=1.1.1&REQUEST=GetMap&CQL_FILTER=(engn_code='00') and (acdnt_year between '2022' and '2022')  and (legaldong_code ilike '4146%') and (( acdnt_gae_code = '01') or ( acdnt_gae_code = '02') or ( acdnt_gae_code = '03') or ( acdnt_gae_code = '04')) and (( road_type = '6'))&SRS=EPSG:5181&BBOX=174435.54080659,385681.12773435,276707.54080659,445521.12773435&WIDTH=1598&HEIGHT=935\n",
      "src_split : ['https://taas.koroad.or.kr/gis36/TAAS/wms?LAYERS=GNRL_GIS_ACDNT_INFO_NON', 'STYLES=', 'FORMAT=image/png', 'TRANSPARENT=TRUE', 'TILED=false', 'TILESORIGIN=-30000,-60000', 'PROJECTION=EPSG:5179', 'DISPLAYPROJECTION=EPSG:5181', 'TRANSFORM=EPSG:5181', 'SERVICE=WMS', 'VERSION=1.1.1', 'REQUEST=GetMap', \"CQL_FILTER=(engn_code='00') and (acdnt_year between '2022' and '2022')  and (legaldong_code ilike '4146%') and (( acdnt_gae_code = '01') or ( acdnt_gae_code = '02') or ( acdnt_gae_code = '03') or ( acdnt_gae_code = '04')) and (( road_type = '6'))\", 'SRS=EPSG:5181', 'BBOX=174435.54080659,385681.12773435,276707.54080659,445521.12773435', 'WIDTH=1598', 'HEIGHT=935']\n",
      "Debugging - src_split:\n",
      "https://taas.koroad.or.kr/gis36/TAAS/wms?LAYERS=GNRL_GIS_ACDNT_INFO_NON\n",
      "STYLES=\n",
      "FORMAT=image/png\n",
      "TRANSPARENT=TRUE\n",
      "TILED=false\n",
      "TILESORIGIN=-30000,-60000\n",
      "PROJECTION=EPSG:5179\n",
      "DISPLAYPROJECTION=EPSG:5181\n",
      "TRANSFORM=EPSG:5181\n",
      "SERVICE=WMS\n",
      "VERSION=1.1.1\n",
      "REQUEST=GetMap\n",
      "CQL_FILTER=(engn_code='00') and (acdnt_year between '2022' and '2022')  and (legaldong_code ilike '4146%') and (( acdnt_gae_code = '01') or ( acdnt_gae_code = '02') or ( acdnt_gae_code = '03') or ( acdnt_gae_code = '04')) and (( road_type = '6'))\n",
      "SRS=EPSG:5181\n",
      "BBOX=174435.54080659,385681.12773435,276707.54080659,445521.12773435\n",
      "WIDTH=1598\n",
      "HEIGHT=935\n",
      "bbox_text : 174435.54080659,385681.12773435,276707.54080659,445521.12773435\n"
     ]
    },
    {
     "name": "stderr",
     "output_type": "stream",
     "text": [
      "  1%|          | 191/33698 [03:17<9:38:17,  1.04s/it]"
     ]
    },
    {
     "name": "stdout",
     "output_type": "stream",
     "text": [
      "Debugging - src content: <selenium.webdriver.remote.webelement.WebElement (session=\"5b06b3d12ca3a76e5c613afa896de233\", element=\"9E340076E16B0B12E9EB60FAF1C429D4_element_90228\")>\n",
      "Debugging - src content: https://taas.koroad.or.kr/gis36/TAAS/wms?LAYERS=GNRL_GIS_ACDNT_INFO_NON&STYLES=&FORMAT=image/png&TRANSPARENT=TRUE&TILED=false&TILESORIGIN=-30000,-60000&PROJECTION=EPSG:5179&DISPLAYPROJECTION=EPSG:5181&TRANSFORM=EPSG:5181&SERVICE=WMS&VERSION=1.1.1&REQUEST=GetMap&CQL_FILTER=(engn_code='00') and (acdnt_year between '2022' and '2022')  and (legaldong_code ilike '4146%') and (( acdnt_gae_code = '01') or ( acdnt_gae_code = '02') or ( acdnt_gae_code = '03') or ( acdnt_gae_code = '04')) and (( road_type = '6'))&SRS=EPSG:5181&BBOX=173088.48356674,386343.29252636,275360.48356674,446183.29252636&WIDTH=1598&HEIGHT=935\n",
      "src_split : ['https://taas.koroad.or.kr/gis36/TAAS/wms?LAYERS=GNRL_GIS_ACDNT_INFO_NON', 'STYLES=', 'FORMAT=image/png', 'TRANSPARENT=TRUE', 'TILED=false', 'TILESORIGIN=-30000,-60000', 'PROJECTION=EPSG:5179', 'DISPLAYPROJECTION=EPSG:5181', 'TRANSFORM=EPSG:5181', 'SERVICE=WMS', 'VERSION=1.1.1', 'REQUEST=GetMap', \"CQL_FILTER=(engn_code='00') and (acdnt_year between '2022' and '2022')  and (legaldong_code ilike '4146%') and (( acdnt_gae_code = '01') or ( acdnt_gae_code = '02') or ( acdnt_gae_code = '03') or ( acdnt_gae_code = '04')) and (( road_type = '6'))\", 'SRS=EPSG:5181', 'BBOX=173088.48356674,386343.29252636,275360.48356674,446183.29252636', 'WIDTH=1598', 'HEIGHT=935']\n",
      "Debugging - src_split:\n",
      "https://taas.koroad.or.kr/gis36/TAAS/wms?LAYERS=GNRL_GIS_ACDNT_INFO_NON\n",
      "STYLES=\n",
      "FORMAT=image/png\n",
      "TRANSPARENT=TRUE\n",
      "TILED=false\n",
      "TILESORIGIN=-30000,-60000\n",
      "PROJECTION=EPSG:5179\n",
      "DISPLAYPROJECTION=EPSG:5181\n",
      "TRANSFORM=EPSG:5181\n",
      "SERVICE=WMS\n",
      "VERSION=1.1.1\n",
      "REQUEST=GetMap\n",
      "CQL_FILTER=(engn_code='00') and (acdnt_year between '2022' and '2022')  and (legaldong_code ilike '4146%') and (( acdnt_gae_code = '01') or ( acdnt_gae_code = '02') or ( acdnt_gae_code = '03') or ( acdnt_gae_code = '04')) and (( road_type = '6'))\n",
      "SRS=EPSG:5181\n",
      "BBOX=173088.48356674,386343.29252636,275360.48356674,446183.29252636\n",
      "WIDTH=1598\n",
      "HEIGHT=935\n",
      "bbox_text : 173088.48356674,386343.29252636,275360.48356674,446183.29252636\n"
     ]
    },
    {
     "name": "stderr",
     "output_type": "stream",
     "text": [
      "  1%|          | 192/33698 [03:18<9:37:22,  1.03s/it]"
     ]
    },
    {
     "name": "stdout",
     "output_type": "stream",
     "text": [
      "Debugging - src content: <selenium.webdriver.remote.webelement.WebElement (session=\"5b06b3d12ca3a76e5c613afa896de233\", element=\"9E340076E16B0B12E9EB60FAF1C429D4_element_90668\")>\n",
      "Debugging - src content: https://taas.koroad.or.kr/gis36/TAAS/wms?LAYERS=GNRL_GIS_ACDNT_INFO_NON&STYLES=&FORMAT=image/png&TRANSPARENT=TRUE&TILED=false&TILESORIGIN=-30000,-60000&PROJECTION=EPSG:5179&DISPLAYPROJECTION=EPSG:5181&TRANSFORM=EPSG:5181&SERVICE=WMS&VERSION=1.1.1&REQUEST=GetMap&CQL_FILTER=(engn_code='00') and (acdnt_year between '2022' and '2022')  and (legaldong_code ilike '4146%') and (( acdnt_gae_code = '01') or ( acdnt_gae_code = '02') or ( acdnt_gae_code = '03') or ( acdnt_gae_code = '04')) and (( road_type = '6'))&SRS=EPSG:5181&BBOX=180790.51007318,386193.89155761,283062.51007318,446033.89155761&WIDTH=1598&HEIGHT=935\n",
      "src_split : ['https://taas.koroad.or.kr/gis36/TAAS/wms?LAYERS=GNRL_GIS_ACDNT_INFO_NON', 'STYLES=', 'FORMAT=image/png', 'TRANSPARENT=TRUE', 'TILED=false', 'TILESORIGIN=-30000,-60000', 'PROJECTION=EPSG:5179', 'DISPLAYPROJECTION=EPSG:5181', 'TRANSFORM=EPSG:5181', 'SERVICE=WMS', 'VERSION=1.1.1', 'REQUEST=GetMap', \"CQL_FILTER=(engn_code='00') and (acdnt_year between '2022' and '2022')  and (legaldong_code ilike '4146%') and (( acdnt_gae_code = '01') or ( acdnt_gae_code = '02') or ( acdnt_gae_code = '03') or ( acdnt_gae_code = '04')) and (( road_type = '6'))\", 'SRS=EPSG:5181', 'BBOX=180790.51007318,386193.89155761,283062.51007318,446033.89155761', 'WIDTH=1598', 'HEIGHT=935']\n",
      "Debugging - src_split:\n",
      "https://taas.koroad.or.kr/gis36/TAAS/wms?LAYERS=GNRL_GIS_ACDNT_INFO_NON\n",
      "STYLES=\n",
      "FORMAT=image/png\n",
      "TRANSPARENT=TRUE\n",
      "TILED=false\n",
      "TILESORIGIN=-30000,-60000\n",
      "PROJECTION=EPSG:5179\n",
      "DISPLAYPROJECTION=EPSG:5181\n",
      "TRANSFORM=EPSG:5181\n",
      "SERVICE=WMS\n",
      "VERSION=1.1.1\n",
      "REQUEST=GetMap\n",
      "CQL_FILTER=(engn_code='00') and (acdnt_year between '2022' and '2022')  and (legaldong_code ilike '4146%') and (( acdnt_gae_code = '01') or ( acdnt_gae_code = '02') or ( acdnt_gae_code = '03') or ( acdnt_gae_code = '04')) and (( road_type = '6'))\n",
      "SRS=EPSG:5181\n",
      "BBOX=180790.51007318,386193.89155761,283062.51007318,446033.89155761\n",
      "WIDTH=1598\n",
      "HEIGHT=935\n",
      "bbox_text : 180790.51007318,386193.89155761,283062.51007318,446033.89155761\n"
     ]
    },
    {
     "name": "stderr",
     "output_type": "stream",
     "text": [
      "  1%|          | 193/33698 [03:19<9:38:05,  1.04s/it]"
     ]
    },
    {
     "name": "stdout",
     "output_type": "stream",
     "text": [
      "Debugging - src content: <selenium.webdriver.remote.webelement.WebElement (session=\"5b06b3d12ca3a76e5c613afa896de233\", element=\"9E340076E16B0B12E9EB60FAF1C429D4_element_91125\")>\n",
      "Debugging - src content: https://taas.koroad.or.kr/gis36/TAAS/wms?LAYERS=GNRL_GIS_ACDNT_INFO_NON&STYLES=&FORMAT=image/png&TRANSPARENT=TRUE&TILED=false&TILESORIGIN=-30000,-60000&PROJECTION=EPSG:5179&DISPLAYPROJECTION=EPSG:5181&TRANSFORM=EPSG:5181&SERVICE=WMS&VERSION=1.1.1&REQUEST=GetMap&CQL_FILTER=(engn_code='00') and (acdnt_year between '2022' and '2022')  and (legaldong_code ilike '4146%') and (( acdnt_gae_code = '01') or ( acdnt_gae_code = '02') or ( acdnt_gae_code = '03') or ( acdnt_gae_code = '04')) and (( road_type = '6'))&SRS=EPSG:5181&BBOX=158021.67018886,395363.35246845,260293.67018886,455203.35246845&WIDTH=1598&HEIGHT=935\n",
      "src_split : ['https://taas.koroad.or.kr/gis36/TAAS/wms?LAYERS=GNRL_GIS_ACDNT_INFO_NON', 'STYLES=', 'FORMAT=image/png', 'TRANSPARENT=TRUE', 'TILED=false', 'TILESORIGIN=-30000,-60000', 'PROJECTION=EPSG:5179', 'DISPLAYPROJECTION=EPSG:5181', 'TRANSFORM=EPSG:5181', 'SERVICE=WMS', 'VERSION=1.1.1', 'REQUEST=GetMap', \"CQL_FILTER=(engn_code='00') and (acdnt_year between '2022' and '2022')  and (legaldong_code ilike '4146%') and (( acdnt_gae_code = '01') or ( acdnt_gae_code = '02') or ( acdnt_gae_code = '03') or ( acdnt_gae_code = '04')) and (( road_type = '6'))\", 'SRS=EPSG:5181', 'BBOX=158021.67018886,395363.35246845,260293.67018886,455203.35246845', 'WIDTH=1598', 'HEIGHT=935']\n",
      "Debugging - src_split:\n",
      "https://taas.koroad.or.kr/gis36/TAAS/wms?LAYERS=GNRL_GIS_ACDNT_INFO_NON\n",
      "STYLES=\n",
      "FORMAT=image/png\n",
      "TRANSPARENT=TRUE\n",
      "TILED=false\n",
      "TILESORIGIN=-30000,-60000\n",
      "PROJECTION=EPSG:5179\n",
      "DISPLAYPROJECTION=EPSG:5181\n",
      "TRANSFORM=EPSG:5181\n",
      "SERVICE=WMS\n",
      "VERSION=1.1.1\n",
      "REQUEST=GetMap\n",
      "CQL_FILTER=(engn_code='00') and (acdnt_year between '2022' and '2022')  and (legaldong_code ilike '4146%') and (( acdnt_gae_code = '01') or ( acdnt_gae_code = '02') or ( acdnt_gae_code = '03') or ( acdnt_gae_code = '04')) and (( road_type = '6'))\n",
      "SRS=EPSG:5181\n",
      "BBOX=158021.67018886,395363.35246845,260293.67018886,455203.35246845\n",
      "WIDTH=1598\n",
      "HEIGHT=935\n",
      "bbox_text : 158021.67018886,395363.35246845,260293.67018886,455203.35246845\n"
     ]
    },
    {
     "name": "stderr",
     "output_type": "stream",
     "text": [
      "  1%|          | 194/33698 [03:20<9:38:06,  1.04s/it]"
     ]
    },
    {
     "name": "stdout",
     "output_type": "stream",
     "text": [
      "Debugging - src content: <selenium.webdriver.remote.webelement.WebElement (session=\"5b06b3d12ca3a76e5c613afa896de233\", element=\"9E340076E16B0B12E9EB60FAF1C429D4_element_91582\")>\n",
      "Debugging - src content: https://taas.koroad.or.kr/gis36/TAAS/wms?LAYERS=GNRL_GIS_ACDNT_INFO_NON&STYLES=&FORMAT=image/png&TRANSPARENT=TRUE&TILED=false&TILESORIGIN=-30000,-60000&PROJECTION=EPSG:5179&DISPLAYPROJECTION=EPSG:5181&TRANSFORM=EPSG:5181&SERVICE=WMS&VERSION=1.1.1&REQUEST=GetMap&CQL_FILTER=(engn_code='00') and (acdnt_year between '2022' and '2022')  and (legaldong_code ilike '4146%') and (( acdnt_gae_code = '01') or ( acdnt_gae_code = '02') or ( acdnt_gae_code = '03') or ( acdnt_gae_code = '04')) and (( road_type = '6'))&SRS=EPSG:5181&BBOX=167211.80404254,387716.82938274,269483.80404254,447556.82938274&WIDTH=1598&HEIGHT=935\n",
      "src_split : ['https://taas.koroad.or.kr/gis36/TAAS/wms?LAYERS=GNRL_GIS_ACDNT_INFO_NON', 'STYLES=', 'FORMAT=image/png', 'TRANSPARENT=TRUE', 'TILED=false', 'TILESORIGIN=-30000,-60000', 'PROJECTION=EPSG:5179', 'DISPLAYPROJECTION=EPSG:5181', 'TRANSFORM=EPSG:5181', 'SERVICE=WMS', 'VERSION=1.1.1', 'REQUEST=GetMap', \"CQL_FILTER=(engn_code='00') and (acdnt_year between '2022' and '2022')  and (legaldong_code ilike '4146%') and (( acdnt_gae_code = '01') or ( acdnt_gae_code = '02') or ( acdnt_gae_code = '03') or ( acdnt_gae_code = '04')) and (( road_type = '6'))\", 'SRS=EPSG:5181', 'BBOX=167211.80404254,387716.82938274,269483.80404254,447556.82938274', 'WIDTH=1598', 'HEIGHT=935']\n",
      "Debugging - src_split:\n",
      "https://taas.koroad.or.kr/gis36/TAAS/wms?LAYERS=GNRL_GIS_ACDNT_INFO_NON\n",
      "STYLES=\n",
      "FORMAT=image/png\n",
      "TRANSPARENT=TRUE\n",
      "TILED=false\n",
      "TILESORIGIN=-30000,-60000\n",
      "PROJECTION=EPSG:5179\n",
      "DISPLAYPROJECTION=EPSG:5181\n",
      "TRANSFORM=EPSG:5181\n",
      "SERVICE=WMS\n",
      "VERSION=1.1.1\n",
      "REQUEST=GetMap\n",
      "CQL_FILTER=(engn_code='00') and (acdnt_year between '2022' and '2022')  and (legaldong_code ilike '4146%') and (( acdnt_gae_code = '01') or ( acdnt_gae_code = '02') or ( acdnt_gae_code = '03') or ( acdnt_gae_code = '04')) and (( road_type = '6'))\n",
      "SRS=EPSG:5181\n",
      "BBOX=167211.80404254,387716.82938274,269483.80404254,447556.82938274\n",
      "WIDTH=1598\n",
      "HEIGHT=935\n",
      "bbox_text : 167211.80404254,387716.82938274,269483.80404254,447556.82938274\n"
     ]
    },
    {
     "name": "stderr",
     "output_type": "stream",
     "text": [
      "  1%|          | 195/33698 [03:21<9:37:46,  1.03s/it]"
     ]
    },
    {
     "name": "stdout",
     "output_type": "stream",
     "text": [
      "Debugging - src content: <selenium.webdriver.remote.webelement.WebElement (session=\"5b06b3d12ca3a76e5c613afa896de233\", element=\"9E340076E16B0B12E9EB60FAF1C429D4_element_92039\")>\n",
      "Debugging - src content: https://taas.koroad.or.kr/gis36/TAAS/wms?LAYERS=GNRL_GIS_ACDNT_INFO_NON&STYLES=&FORMAT=image/png&TRANSPARENT=TRUE&TILED=false&TILESORIGIN=-30000,-60000&PROJECTION=EPSG:5179&DISPLAYPROJECTION=EPSG:5181&TRANSFORM=EPSG:5181&SERVICE=WMS&VERSION=1.1.1&REQUEST=GetMap&CQL_FILTER=(engn_code='00') and (acdnt_year between '2022' and '2022')  and (legaldong_code ilike '4146%') and (( acdnt_gae_code = '01') or ( acdnt_gae_code = '02') or ( acdnt_gae_code = '03') or ( acdnt_gae_code = '04')) and (( road_type = '6'))&SRS=EPSG:5181&BBOX=154334.94736605,397868.84328703,256606.94736605,457708.84328703&WIDTH=1598&HEIGHT=935\n",
      "src_split : ['https://taas.koroad.or.kr/gis36/TAAS/wms?LAYERS=GNRL_GIS_ACDNT_INFO_NON', 'STYLES=', 'FORMAT=image/png', 'TRANSPARENT=TRUE', 'TILED=false', 'TILESORIGIN=-30000,-60000', 'PROJECTION=EPSG:5179', 'DISPLAYPROJECTION=EPSG:5181', 'TRANSFORM=EPSG:5181', 'SERVICE=WMS', 'VERSION=1.1.1', 'REQUEST=GetMap', \"CQL_FILTER=(engn_code='00') and (acdnt_year between '2022' and '2022')  and (legaldong_code ilike '4146%') and (( acdnt_gae_code = '01') or ( acdnt_gae_code = '02') or ( acdnt_gae_code = '03') or ( acdnt_gae_code = '04')) and (( road_type = '6'))\", 'SRS=EPSG:5181', 'BBOX=154334.94736605,397868.84328703,256606.94736605,457708.84328703', 'WIDTH=1598', 'HEIGHT=935']\n",
      "Debugging - src_split:\n",
      "https://taas.koroad.or.kr/gis36/TAAS/wms?LAYERS=GNRL_GIS_ACDNT_INFO_NON\n",
      "STYLES=\n",
      "FORMAT=image/png\n",
      "TRANSPARENT=TRUE\n",
      "TILED=false\n",
      "TILESORIGIN=-30000,-60000\n",
      "PROJECTION=EPSG:5179\n",
      "DISPLAYPROJECTION=EPSG:5181\n",
      "TRANSFORM=EPSG:5181\n",
      "SERVICE=WMS\n",
      "VERSION=1.1.1\n",
      "REQUEST=GetMap\n",
      "CQL_FILTER=(engn_code='00') and (acdnt_year between '2022' and '2022')  and (legaldong_code ilike '4146%') and (( acdnt_gae_code = '01') or ( acdnt_gae_code = '02') or ( acdnt_gae_code = '03') or ( acdnt_gae_code = '04')) and (( road_type = '6'))\n",
      "SRS=EPSG:5181\n",
      "BBOX=154334.94736605,397868.84328703,256606.94736605,457708.84328703\n",
      "WIDTH=1598\n",
      "HEIGHT=935\n",
      "bbox_text : 154334.94736605,397868.84328703,256606.94736605,457708.84328703\n"
     ]
    },
    {
     "name": "stderr",
     "output_type": "stream",
     "text": [
      "  1%|          | 196/33698 [03:22<9:36:32,  1.03s/it]"
     ]
    },
    {
     "name": "stdout",
     "output_type": "stream",
     "text": [
      "Debugging - src content: <selenium.webdriver.remote.webelement.WebElement (session=\"5b06b3d12ca3a76e5c613afa896de233\", element=\"9E340076E16B0B12E9EB60FAF1C429D4_element_92479\")>\n",
      "Debugging - src content: https://taas.koroad.or.kr/gis36/TAAS/wms?LAYERS=GNRL_GIS_ACDNT_INFO_NON&STYLES=&FORMAT=image/png&TRANSPARENT=TRUE&TILED=false&TILESORIGIN=-30000,-60000&PROJECTION=EPSG:5179&DISPLAYPROJECTION=EPSG:5181&TRANSFORM=EPSG:5181&SERVICE=WMS&VERSION=1.1.1&REQUEST=GetMap&CQL_FILTER=(engn_code='00') and (acdnt_year between '2022' and '2022')  and (legaldong_code ilike '4146%') and (( acdnt_gae_code = '01') or ( acdnt_gae_code = '02') or ( acdnt_gae_code = '03') or ( acdnt_gae_code = '04')) and (( road_type = '6'))&SRS=EPSG:5181&BBOX=158064.04116238,391892.18867034,260336.04116238,451732.18867034&WIDTH=1598&HEIGHT=935\n",
      "src_split : ['https://taas.koroad.or.kr/gis36/TAAS/wms?LAYERS=GNRL_GIS_ACDNT_INFO_NON', 'STYLES=', 'FORMAT=image/png', 'TRANSPARENT=TRUE', 'TILED=false', 'TILESORIGIN=-30000,-60000', 'PROJECTION=EPSG:5179', 'DISPLAYPROJECTION=EPSG:5181', 'TRANSFORM=EPSG:5181', 'SERVICE=WMS', 'VERSION=1.1.1', 'REQUEST=GetMap', \"CQL_FILTER=(engn_code='00') and (acdnt_year between '2022' and '2022')  and (legaldong_code ilike '4146%') and (( acdnt_gae_code = '01') or ( acdnt_gae_code = '02') or ( acdnt_gae_code = '03') or ( acdnt_gae_code = '04')) and (( road_type = '6'))\", 'SRS=EPSG:5181', 'BBOX=158064.04116238,391892.18867034,260336.04116238,451732.18867034', 'WIDTH=1598', 'HEIGHT=935']\n",
      "Debugging - src_split:\n",
      "https://taas.koroad.or.kr/gis36/TAAS/wms?LAYERS=GNRL_GIS_ACDNT_INFO_NON\n",
      "STYLES=\n",
      "FORMAT=image/png\n",
      "TRANSPARENT=TRUE\n",
      "TILED=false\n",
      "TILESORIGIN=-30000,-60000\n",
      "PROJECTION=EPSG:5179\n",
      "DISPLAYPROJECTION=EPSG:5181\n",
      "TRANSFORM=EPSG:5181\n",
      "SERVICE=WMS\n",
      "VERSION=1.1.1\n",
      "REQUEST=GetMap\n",
      "CQL_FILTER=(engn_code='00') and (acdnt_year between '2022' and '2022')  and (legaldong_code ilike '4146%') and (( acdnt_gae_code = '01') or ( acdnt_gae_code = '02') or ( acdnt_gae_code = '03') or ( acdnt_gae_code = '04')) and (( road_type = '6'))\n",
      "SRS=EPSG:5181\n",
      "BBOX=158064.04116238,391892.18867034,260336.04116238,451732.18867034\n",
      "WIDTH=1598\n",
      "HEIGHT=935\n",
      "bbox_text : 158064.04116238,391892.18867034,260336.04116238,451732.18867034\n"
     ]
    },
    {
     "name": "stderr",
     "output_type": "stream",
     "text": [
      "  1%|          | 197/33698 [03:23<9:38:03,  1.04s/it]"
     ]
    },
    {
     "name": "stdout",
     "output_type": "stream",
     "text": [
      "Debugging - src content: <selenium.webdriver.remote.webelement.WebElement (session=\"5b06b3d12ca3a76e5c613afa896de233\", element=\"9E340076E16B0B12E9EB60FAF1C429D4_element_92939\")>\n",
      "Debugging - src content: https://taas.koroad.or.kr/gis36/TAAS/wms?LAYERS=GNRL_GIS_ACDNT_INFO_NON&STYLES=&FORMAT=image/png&TRANSPARENT=TRUE&TILED=false&TILESORIGIN=-30000,-60000&PROJECTION=EPSG:5179&DISPLAYPROJECTION=EPSG:5181&TRANSFORM=EPSG:5181&SERVICE=WMS&VERSION=1.1.1&REQUEST=GetMap&CQL_FILTER=(engn_code='00') and (acdnt_year between '2022' and '2022')  and (legaldong_code ilike '4146%') and (( acdnt_gae_code = '01') or ( acdnt_gae_code = '02') or ( acdnt_gae_code = '03') or ( acdnt_gae_code = '04')) and (( road_type = '6'))&SRS=EPSG:5181&BBOX=158797.63036032,371930.07091167,261069.63036032,431770.07091167&WIDTH=1598&HEIGHT=935\n",
      "src_split : ['https://taas.koroad.or.kr/gis36/TAAS/wms?LAYERS=GNRL_GIS_ACDNT_INFO_NON', 'STYLES=', 'FORMAT=image/png', 'TRANSPARENT=TRUE', 'TILED=false', 'TILESORIGIN=-30000,-60000', 'PROJECTION=EPSG:5179', 'DISPLAYPROJECTION=EPSG:5181', 'TRANSFORM=EPSG:5181', 'SERVICE=WMS', 'VERSION=1.1.1', 'REQUEST=GetMap', \"CQL_FILTER=(engn_code='00') and (acdnt_year between '2022' and '2022')  and (legaldong_code ilike '4146%') and (( acdnt_gae_code = '01') or ( acdnt_gae_code = '02') or ( acdnt_gae_code = '03') or ( acdnt_gae_code = '04')) and (( road_type = '6'))\", 'SRS=EPSG:5181', 'BBOX=158797.63036032,371930.07091167,261069.63036032,431770.07091167', 'WIDTH=1598', 'HEIGHT=935']\n",
      "Debugging - src_split:\n",
      "https://taas.koroad.or.kr/gis36/TAAS/wms?LAYERS=GNRL_GIS_ACDNT_INFO_NON\n",
      "STYLES=\n",
      "FORMAT=image/png\n",
      "TRANSPARENT=TRUE\n",
      "TILED=false\n",
      "TILESORIGIN=-30000,-60000\n",
      "PROJECTION=EPSG:5179\n",
      "DISPLAYPROJECTION=EPSG:5181\n",
      "TRANSFORM=EPSG:5181\n",
      "SERVICE=WMS\n",
      "VERSION=1.1.1\n",
      "REQUEST=GetMap\n",
      "CQL_FILTER=(engn_code='00') and (acdnt_year between '2022' and '2022')  and (legaldong_code ilike '4146%') and (( acdnt_gae_code = '01') or ( acdnt_gae_code = '02') or ( acdnt_gae_code = '03') or ( acdnt_gae_code = '04')) and (( road_type = '6'))\n",
      "SRS=EPSG:5181\n",
      "BBOX=158797.63036032,371930.07091167,261069.63036032,431770.07091167\n",
      "WIDTH=1598\n",
      "HEIGHT=935\n",
      "bbox_text : 158797.63036032,371930.07091167,261069.63036032,431770.07091167\n"
     ]
    },
    {
     "name": "stderr",
     "output_type": "stream",
     "text": [
      "  1%|          | 198/33698 [03:25<9:39:40,  1.04s/it]"
     ]
    },
    {
     "name": "stdout",
     "output_type": "stream",
     "text": [
      "Debugging - src content: <selenium.webdriver.remote.webelement.WebElement (session=\"5b06b3d12ca3a76e5c613afa896de233\", element=\"9E340076E16B0B12E9EB60FAF1C429D4_element_93399\")>\n",
      "Debugging - src content: https://taas.koroad.or.kr/gis36/TAAS/wms?LAYERS=GNRL_GIS_ACDNT_INFO_NON&STYLES=&FORMAT=image/png&TRANSPARENT=TRUE&TILED=false&TILESORIGIN=-30000,-60000&PROJECTION=EPSG:5179&DISPLAYPROJECTION=EPSG:5181&TRANSFORM=EPSG:5181&SERVICE=WMS&VERSION=1.1.1&REQUEST=GetMap&CQL_FILTER=(engn_code='00') and (acdnt_year between '2022' and '2022')  and (legaldong_code ilike '4146%') and (( acdnt_gae_code = '01') or ( acdnt_gae_code = '02') or ( acdnt_gae_code = '03') or ( acdnt_gae_code = '04')) and (( road_type = '6'))&SRS=EPSG:5181&BBOX=158065.84620948,388711.92671155,260337.84620948,448551.92671155&WIDTH=1598&HEIGHT=935\n",
      "src_split : ['https://taas.koroad.or.kr/gis36/TAAS/wms?LAYERS=GNRL_GIS_ACDNT_INFO_NON', 'STYLES=', 'FORMAT=image/png', 'TRANSPARENT=TRUE', 'TILED=false', 'TILESORIGIN=-30000,-60000', 'PROJECTION=EPSG:5179', 'DISPLAYPROJECTION=EPSG:5181', 'TRANSFORM=EPSG:5181', 'SERVICE=WMS', 'VERSION=1.1.1', 'REQUEST=GetMap', \"CQL_FILTER=(engn_code='00') and (acdnt_year between '2022' and '2022')  and (legaldong_code ilike '4146%') and (( acdnt_gae_code = '01') or ( acdnt_gae_code = '02') or ( acdnt_gae_code = '03') or ( acdnt_gae_code = '04')) and (( road_type = '6'))\", 'SRS=EPSG:5181', 'BBOX=158065.84620948,388711.92671155,260337.84620948,448551.92671155', 'WIDTH=1598', 'HEIGHT=935']\n",
      "Debugging - src_split:\n",
      "https://taas.koroad.or.kr/gis36/TAAS/wms?LAYERS=GNRL_GIS_ACDNT_INFO_NON\n",
      "STYLES=\n",
      "FORMAT=image/png\n",
      "TRANSPARENT=TRUE\n",
      "TILED=false\n",
      "TILESORIGIN=-30000,-60000\n",
      "PROJECTION=EPSG:5179\n",
      "DISPLAYPROJECTION=EPSG:5181\n",
      "TRANSFORM=EPSG:5181\n",
      "SERVICE=WMS\n",
      "VERSION=1.1.1\n",
      "REQUEST=GetMap\n",
      "CQL_FILTER=(engn_code='00') and (acdnt_year between '2022' and '2022')  and (legaldong_code ilike '4146%') and (( acdnt_gae_code = '01') or ( acdnt_gae_code = '02') or ( acdnt_gae_code = '03') or ( acdnt_gae_code = '04')) and (( road_type = '6'))\n",
      "SRS=EPSG:5181\n",
      "BBOX=158065.84620948,388711.92671155,260337.84620948,448551.92671155\n",
      "WIDTH=1598\n",
      "HEIGHT=935\n",
      "bbox_text : 158065.84620948,388711.92671155,260337.84620948,448551.92671155\n"
     ]
    },
    {
     "name": "stderr",
     "output_type": "stream",
     "text": [
      "  1%|          | 199/33698 [03:26<9:39:22,  1.04s/it]"
     ]
    },
    {
     "name": "stdout",
     "output_type": "stream",
     "text": [
      "Debugging - src content: <selenium.webdriver.remote.webelement.WebElement (session=\"5b06b3d12ca3a76e5c613afa896de233\", element=\"9E340076E16B0B12E9EB60FAF1C429D4_element_93856\")>\n",
      "Debugging - src content: https://taas.koroad.or.kr/gis36/TAAS/wms?LAYERS=GNRL_GIS_ACDNT_INFO_NON&STYLES=&FORMAT=image/png&TRANSPARENT=TRUE&TILED=false&TILESORIGIN=-30000,-60000&PROJECTION=EPSG:5179&DISPLAYPROJECTION=EPSG:5181&TRANSFORM=EPSG:5181&SERVICE=WMS&VERSION=1.1.1&REQUEST=GetMap&CQL_FILTER=(engn_code='00') and (acdnt_year between '2022' and '2022')  and (legaldong_code ilike '4146%') and (( acdnt_gae_code = '01') or ( acdnt_gae_code = '02') or ( acdnt_gae_code = '03') or ( acdnt_gae_code = '04')) and (( road_type = '6'))&SRS=EPSG:5181&BBOX=169067.25833523,386828.26217771,271339.25833523,446668.26217771&WIDTH=1598&HEIGHT=935\n",
      "src_split : ['https://taas.koroad.or.kr/gis36/TAAS/wms?LAYERS=GNRL_GIS_ACDNT_INFO_NON', 'STYLES=', 'FORMAT=image/png', 'TRANSPARENT=TRUE', 'TILED=false', 'TILESORIGIN=-30000,-60000', 'PROJECTION=EPSG:5179', 'DISPLAYPROJECTION=EPSG:5181', 'TRANSFORM=EPSG:5181', 'SERVICE=WMS', 'VERSION=1.1.1', 'REQUEST=GetMap', \"CQL_FILTER=(engn_code='00') and (acdnt_year between '2022' and '2022')  and (legaldong_code ilike '4146%') and (( acdnt_gae_code = '01') or ( acdnt_gae_code = '02') or ( acdnt_gae_code = '03') or ( acdnt_gae_code = '04')) and (( road_type = '6'))\", 'SRS=EPSG:5181', 'BBOX=169067.25833523,386828.26217771,271339.25833523,446668.26217771', 'WIDTH=1598', 'HEIGHT=935']\n",
      "Debugging - src_split:\n",
      "https://taas.koroad.or.kr/gis36/TAAS/wms?LAYERS=GNRL_GIS_ACDNT_INFO_NON\n",
      "STYLES=\n",
      "FORMAT=image/png\n",
      "TRANSPARENT=TRUE\n",
      "TILED=false\n",
      "TILESORIGIN=-30000,-60000\n",
      "PROJECTION=EPSG:5179\n",
      "DISPLAYPROJECTION=EPSG:5181\n",
      "TRANSFORM=EPSG:5181\n",
      "SERVICE=WMS\n",
      "VERSION=1.1.1\n",
      "REQUEST=GetMap\n",
      "CQL_FILTER=(engn_code='00') and (acdnt_year between '2022' and '2022')  and (legaldong_code ilike '4146%') and (( acdnt_gae_code = '01') or ( acdnt_gae_code = '02') or ( acdnt_gae_code = '03') or ( acdnt_gae_code = '04')) and (( road_type = '6'))\n",
      "SRS=EPSG:5181\n",
      "BBOX=169067.25833523,386828.26217771,271339.25833523,446668.26217771\n",
      "WIDTH=1598\n",
      "HEIGHT=935\n",
      "bbox_text : 169067.25833523,386828.26217771,271339.25833523,446668.26217771\n"
     ]
    },
    {
     "name": "stderr",
     "output_type": "stream",
     "text": [
      "  1%|          | 200/33698 [03:27<9:39:08,  1.04s/it]"
     ]
    },
    {
     "name": "stdout",
     "output_type": "stream",
     "text": [
      "Debugging - src content: <selenium.webdriver.remote.webelement.WebElement (session=\"5b06b3d12ca3a76e5c613afa896de233\", element=\"9E340076E16B0B12E9EB60FAF1C429D4_element_94320\")>\n",
      "Debugging - src content: https://taas.koroad.or.kr/gis36/TAAS/wms?LAYERS=GNRL_GIS_ACDNT_INFO_NON&STYLES=&FORMAT=image/png&TRANSPARENT=TRUE&TILED=false&TILESORIGIN=-30000,-60000&PROJECTION=EPSG:5179&DISPLAYPROJECTION=EPSG:5181&TRANSFORM=EPSG:5181&SERVICE=WMS&VERSION=1.1.1&REQUEST=GetMap&CQL_FILTER=(engn_code='00') and (acdnt_year between '2022' and '2022')  and (legaldong_code ilike '4146%') and (( acdnt_gae_code = '01') or ( acdnt_gae_code = '02') or ( acdnt_gae_code = '03') or ( acdnt_gae_code = '04')) and (( road_type = '6'))&SRS=EPSG:5181&BBOX=145423.61758888,395004.57610542,247695.61758888,454844.57610542&WIDTH=1598&HEIGHT=935\n",
      "src_split : ['https://taas.koroad.or.kr/gis36/TAAS/wms?LAYERS=GNRL_GIS_ACDNT_INFO_NON', 'STYLES=', 'FORMAT=image/png', 'TRANSPARENT=TRUE', 'TILED=false', 'TILESORIGIN=-30000,-60000', 'PROJECTION=EPSG:5179', 'DISPLAYPROJECTION=EPSG:5181', 'TRANSFORM=EPSG:5181', 'SERVICE=WMS', 'VERSION=1.1.1', 'REQUEST=GetMap', \"CQL_FILTER=(engn_code='00') and (acdnt_year between '2022' and '2022')  and (legaldong_code ilike '4146%') and (( acdnt_gae_code = '01') or ( acdnt_gae_code = '02') or ( acdnt_gae_code = '03') or ( acdnt_gae_code = '04')) and (( road_type = '6'))\", 'SRS=EPSG:5181', 'BBOX=145423.61758888,395004.57610542,247695.61758888,454844.57610542', 'WIDTH=1598', 'HEIGHT=935']\n",
      "Debugging - src_split:\n",
      "https://taas.koroad.or.kr/gis36/TAAS/wms?LAYERS=GNRL_GIS_ACDNT_INFO_NON\n",
      "STYLES=\n",
      "FORMAT=image/png\n",
      "TRANSPARENT=TRUE\n",
      "TILED=false\n",
      "TILESORIGIN=-30000,-60000\n",
      "PROJECTION=EPSG:5179\n",
      "DISPLAYPROJECTION=EPSG:5181\n",
      "TRANSFORM=EPSG:5181\n",
      "SERVICE=WMS\n",
      "VERSION=1.1.1\n",
      "REQUEST=GetMap\n",
      "CQL_FILTER=(engn_code='00') and (acdnt_year between '2022' and '2022')  and (legaldong_code ilike '4146%') and (( acdnt_gae_code = '01') or ( acdnt_gae_code = '02') or ( acdnt_gae_code = '03') or ( acdnt_gae_code = '04')) and (( road_type = '6'))\n",
      "SRS=EPSG:5181\n",
      "BBOX=145423.61758888,395004.57610542,247695.61758888,454844.57610542\n",
      "WIDTH=1598\n",
      "HEIGHT=935\n",
      "bbox_text : 145423.61758888,395004.57610542,247695.61758888,454844.57610542\n"
     ]
    },
    {
     "name": "stderr",
     "output_type": "stream",
     "text": [
      "  1%|          | 201/33698 [03:28<9:39:24,  1.04s/it]"
     ]
    },
    {
     "name": "stdout",
     "output_type": "stream",
     "text": [
      "Debugging - src content: <selenium.webdriver.remote.webelement.WebElement (session=\"5b06b3d12ca3a76e5c613afa896de233\", element=\"9E340076E16B0B12E9EB60FAF1C429D4_element_94777\")>\n",
      "Debugging - src content: https://taas.koroad.or.kr/gis36/TAAS/wms?LAYERS=GNRL_GIS_ACDNT_INFO_NON&STYLES=&FORMAT=image/png&TRANSPARENT=TRUE&TILED=false&TILESORIGIN=-30000,-60000&PROJECTION=EPSG:5179&DISPLAYPROJECTION=EPSG:5181&TRANSFORM=EPSG:5181&SERVICE=WMS&VERSION=1.1.1&REQUEST=GetMap&CQL_FILTER=(engn_code='00') and (acdnt_year between '2022' and '2022')  and (legaldong_code ilike '4146%') and (( acdnt_gae_code = '01') or ( acdnt_gae_code = '02') or ( acdnt_gae_code = '03') or ( acdnt_gae_code = '04')) and (( road_type = '6'))&SRS=EPSG:5181&BBOX=158051.1159276,384114.01087102,260323.1159276,443954.01087102&WIDTH=1598&HEIGHT=935\n",
      "src_split : ['https://taas.koroad.or.kr/gis36/TAAS/wms?LAYERS=GNRL_GIS_ACDNT_INFO_NON', 'STYLES=', 'FORMAT=image/png', 'TRANSPARENT=TRUE', 'TILED=false', 'TILESORIGIN=-30000,-60000', 'PROJECTION=EPSG:5179', 'DISPLAYPROJECTION=EPSG:5181', 'TRANSFORM=EPSG:5181', 'SERVICE=WMS', 'VERSION=1.1.1', 'REQUEST=GetMap', \"CQL_FILTER=(engn_code='00') and (acdnt_year between '2022' and '2022')  and (legaldong_code ilike '4146%') and (( acdnt_gae_code = '01') or ( acdnt_gae_code = '02') or ( acdnt_gae_code = '03') or ( acdnt_gae_code = '04')) and (( road_type = '6'))\", 'SRS=EPSG:5181', 'BBOX=158051.1159276,384114.01087102,260323.1159276,443954.01087102', 'WIDTH=1598', 'HEIGHT=935']\n",
      "Debugging - src_split:\n",
      "https://taas.koroad.or.kr/gis36/TAAS/wms?LAYERS=GNRL_GIS_ACDNT_INFO_NON\n",
      "STYLES=\n",
      "FORMAT=image/png\n",
      "TRANSPARENT=TRUE\n",
      "TILED=false\n",
      "TILESORIGIN=-30000,-60000\n",
      "PROJECTION=EPSG:5179\n",
      "DISPLAYPROJECTION=EPSG:5181\n",
      "TRANSFORM=EPSG:5181\n",
      "SERVICE=WMS\n",
      "VERSION=1.1.1\n",
      "REQUEST=GetMap\n",
      "CQL_FILTER=(engn_code='00') and (acdnt_year between '2022' and '2022')  and (legaldong_code ilike '4146%') and (( acdnt_gae_code = '01') or ( acdnt_gae_code = '02') or ( acdnt_gae_code = '03') or ( acdnt_gae_code = '04')) and (( road_type = '6'))\n",
      "SRS=EPSG:5181\n",
      "BBOX=158051.1159276,384114.01087102,260323.1159276,443954.01087102\n",
      "WIDTH=1598\n",
      "HEIGHT=935\n",
      "bbox_text : 158051.1159276,384114.01087102,260323.1159276,443954.01087102\n"
     ]
    },
    {
     "name": "stderr",
     "output_type": "stream",
     "text": [
      "  1%|          | 202/33698 [03:29<9:38:18,  1.04s/it]"
     ]
    },
    {
     "name": "stdout",
     "output_type": "stream",
     "text": [
      "Debugging - src content: <selenium.webdriver.remote.webelement.WebElement (session=\"5b06b3d12ca3a76e5c613afa896de233\", element=\"9E340076E16B0B12E9EB60FAF1C429D4_element_95224\")>\n",
      "Debugging - src content: https://taas.koroad.or.kr/gis36/TAAS/wms?LAYERS=GNRL_GIS_ACDNT_INFO_NON&STYLES=&FORMAT=image/png&TRANSPARENT=TRUE&TILED=false&TILESORIGIN=-30000,-60000&PROJECTION=EPSG:5179&DISPLAYPROJECTION=EPSG:5181&TRANSFORM=EPSG:5181&SERVICE=WMS&VERSION=1.1.1&REQUEST=GetMap&CQL_FILTER=(engn_code='00') and (acdnt_year between '2022' and '2022')  and (legaldong_code ilike '4146%') and (( acdnt_gae_code = '01') or ( acdnt_gae_code = '02') or ( acdnt_gae_code = '03') or ( acdnt_gae_code = '04')) and (( road_type = '6'))&SRS=EPSG:5181&BBOX=170528.91758417,386438.81880698,272800.91758417,446278.81880698&WIDTH=1598&HEIGHT=935\n",
      "src_split : ['https://taas.koroad.or.kr/gis36/TAAS/wms?LAYERS=GNRL_GIS_ACDNT_INFO_NON', 'STYLES=', 'FORMAT=image/png', 'TRANSPARENT=TRUE', 'TILED=false', 'TILESORIGIN=-30000,-60000', 'PROJECTION=EPSG:5179', 'DISPLAYPROJECTION=EPSG:5181', 'TRANSFORM=EPSG:5181', 'SERVICE=WMS', 'VERSION=1.1.1', 'REQUEST=GetMap', \"CQL_FILTER=(engn_code='00') and (acdnt_year between '2022' and '2022')  and (legaldong_code ilike '4146%') and (( acdnt_gae_code = '01') or ( acdnt_gae_code = '02') or ( acdnt_gae_code = '03') or ( acdnt_gae_code = '04')) and (( road_type = '6'))\", 'SRS=EPSG:5181', 'BBOX=170528.91758417,386438.81880698,272800.91758417,446278.81880698', 'WIDTH=1598', 'HEIGHT=935']\n",
      "Debugging - src_split:\n",
      "https://taas.koroad.or.kr/gis36/TAAS/wms?LAYERS=GNRL_GIS_ACDNT_INFO_NON\n",
      "STYLES=\n",
      "FORMAT=image/png\n",
      "TRANSPARENT=TRUE\n",
      "TILED=false\n",
      "TILESORIGIN=-30000,-60000\n",
      "PROJECTION=EPSG:5179\n",
      "DISPLAYPROJECTION=EPSG:5181\n",
      "TRANSFORM=EPSG:5181\n",
      "SERVICE=WMS\n",
      "VERSION=1.1.1\n",
      "REQUEST=GetMap\n",
      "CQL_FILTER=(engn_code='00') and (acdnt_year between '2022' and '2022')  and (legaldong_code ilike '4146%') and (( acdnt_gae_code = '01') or ( acdnt_gae_code = '02') or ( acdnt_gae_code = '03') or ( acdnt_gae_code = '04')) and (( road_type = '6'))\n",
      "SRS=EPSG:5181\n",
      "BBOX=170528.91758417,386438.81880698,272800.91758417,446278.81880698\n",
      "WIDTH=1598\n",
      "HEIGHT=935\n",
      "bbox_text : 170528.91758417,386438.81880698,272800.91758417,446278.81880698\n"
     ]
    },
    {
     "name": "stderr",
     "output_type": "stream",
     "text": [
      "  1%|          | 203/33698 [03:30<9:38:47,  1.04s/it]"
     ]
    },
    {
     "name": "stdout",
     "output_type": "stream",
     "text": [
      "Debugging - src content: <selenium.webdriver.remote.webelement.WebElement (session=\"5b06b3d12ca3a76e5c613afa896de233\", element=\"9E340076E16B0B12E9EB60FAF1C429D4_element_95671\")>\n",
      "Debugging - src content: https://taas.koroad.or.kr/gis36/TAAS/wms?LAYERS=GNRL_GIS_ACDNT_INFO_NON&STYLES=&FORMAT=image/png&TRANSPARENT=TRUE&TILED=false&TILESORIGIN=-30000,-60000&PROJECTION=EPSG:5179&DISPLAYPROJECTION=EPSG:5181&TRANSFORM=EPSG:5181&SERVICE=WMS&VERSION=1.1.1&REQUEST=GetMap&CQL_FILTER=(engn_code='00') and (acdnt_year between '2022' and '2022')  and (legaldong_code ilike '4146%') and (( acdnt_gae_code = '01') or ( acdnt_gae_code = '02') or ( acdnt_gae_code = '03') or ( acdnt_gae_code = '04')) and (( road_type = '6'))&SRS=EPSG:5181&BBOX=158084.45951461,388407.90347877,260356.45951461,448247.90347877&WIDTH=1598&HEIGHT=935\n",
      "src_split : ['https://taas.koroad.or.kr/gis36/TAAS/wms?LAYERS=GNRL_GIS_ACDNT_INFO_NON', 'STYLES=', 'FORMAT=image/png', 'TRANSPARENT=TRUE', 'TILED=false', 'TILESORIGIN=-30000,-60000', 'PROJECTION=EPSG:5179', 'DISPLAYPROJECTION=EPSG:5181', 'TRANSFORM=EPSG:5181', 'SERVICE=WMS', 'VERSION=1.1.1', 'REQUEST=GetMap', \"CQL_FILTER=(engn_code='00') and (acdnt_year between '2022' and '2022')  and (legaldong_code ilike '4146%') and (( acdnt_gae_code = '01') or ( acdnt_gae_code = '02') or ( acdnt_gae_code = '03') or ( acdnt_gae_code = '04')) and (( road_type = '6'))\", 'SRS=EPSG:5181', 'BBOX=158084.45951461,388407.90347877,260356.45951461,448247.90347877', 'WIDTH=1598', 'HEIGHT=935']\n",
      "Debugging - src_split:\n",
      "https://taas.koroad.or.kr/gis36/TAAS/wms?LAYERS=GNRL_GIS_ACDNT_INFO_NON\n",
      "STYLES=\n",
      "FORMAT=image/png\n",
      "TRANSPARENT=TRUE\n",
      "TILED=false\n",
      "TILESORIGIN=-30000,-60000\n",
      "PROJECTION=EPSG:5179\n",
      "DISPLAYPROJECTION=EPSG:5181\n",
      "TRANSFORM=EPSG:5181\n",
      "SERVICE=WMS\n",
      "VERSION=1.1.1\n",
      "REQUEST=GetMap\n",
      "CQL_FILTER=(engn_code='00') and (acdnt_year between '2022' and '2022')  and (legaldong_code ilike '4146%') and (( acdnt_gae_code = '01') or ( acdnt_gae_code = '02') or ( acdnt_gae_code = '03') or ( acdnt_gae_code = '04')) and (( road_type = '6'))\n",
      "SRS=EPSG:5181\n",
      "BBOX=158084.45951461,388407.90347877,260356.45951461,448247.90347877\n",
      "WIDTH=1598\n",
      "HEIGHT=935\n",
      "bbox_text : 158084.45951461,388407.90347877,260356.45951461,448247.90347877\n"
     ]
    },
    {
     "name": "stderr",
     "output_type": "stream",
     "text": [
      "  1%|          | 204/33698 [03:31<9:38:44,  1.04s/it]"
     ]
    },
    {
     "name": "stdout",
     "output_type": "stream",
     "text": [
      "Debugging - src content: <selenium.webdriver.remote.webelement.WebElement (session=\"5b06b3d12ca3a76e5c613afa896de233\", element=\"9E340076E16B0B12E9EB60FAF1C429D4_element_96121\")>\n",
      "Debugging - src content: https://taas.koroad.or.kr/gis36/TAAS/wms?LAYERS=GNRL_GIS_ACDNT_INFO_NON&STYLES=&FORMAT=image/png&TRANSPARENT=TRUE&TILED=false&TILESORIGIN=-30000,-60000&PROJECTION=EPSG:5179&DISPLAYPROJECTION=EPSG:5181&TRANSFORM=EPSG:5181&SERVICE=WMS&VERSION=1.1.1&REQUEST=GetMap&CQL_FILTER=(engn_code='00') and (acdnt_year between '2022' and '2022')  and (legaldong_code ilike '4146%') and (( acdnt_gae_code = '01') or ( acdnt_gae_code = '02') or ( acdnt_gae_code = '03') or ( acdnt_gae_code = '04')) and (( road_type = '6'))&SRS=EPSG:5181&BBOX=165556.20261156,388838.54370702,267828.20261156,448678.54370702&WIDTH=1598&HEIGHT=935\n",
      "src_split : ['https://taas.koroad.or.kr/gis36/TAAS/wms?LAYERS=GNRL_GIS_ACDNT_INFO_NON', 'STYLES=', 'FORMAT=image/png', 'TRANSPARENT=TRUE', 'TILED=false', 'TILESORIGIN=-30000,-60000', 'PROJECTION=EPSG:5179', 'DISPLAYPROJECTION=EPSG:5181', 'TRANSFORM=EPSG:5181', 'SERVICE=WMS', 'VERSION=1.1.1', 'REQUEST=GetMap', \"CQL_FILTER=(engn_code='00') and (acdnt_year between '2022' and '2022')  and (legaldong_code ilike '4146%') and (( acdnt_gae_code = '01') or ( acdnt_gae_code = '02') or ( acdnt_gae_code = '03') or ( acdnt_gae_code = '04')) and (( road_type = '6'))\", 'SRS=EPSG:5181', 'BBOX=165556.20261156,388838.54370702,267828.20261156,448678.54370702', 'WIDTH=1598', 'HEIGHT=935']\n",
      "Debugging - src_split:\n",
      "https://taas.koroad.or.kr/gis36/TAAS/wms?LAYERS=GNRL_GIS_ACDNT_INFO_NON\n",
      "STYLES=\n",
      "FORMAT=image/png\n",
      "TRANSPARENT=TRUE\n",
      "TILED=false\n",
      "TILESORIGIN=-30000,-60000\n",
      "PROJECTION=EPSG:5179\n",
      "DISPLAYPROJECTION=EPSG:5181\n",
      "TRANSFORM=EPSG:5181\n",
      "SERVICE=WMS\n",
      "VERSION=1.1.1\n",
      "REQUEST=GetMap\n",
      "CQL_FILTER=(engn_code='00') and (acdnt_year between '2022' and '2022')  and (legaldong_code ilike '4146%') and (( acdnt_gae_code = '01') or ( acdnt_gae_code = '02') or ( acdnt_gae_code = '03') or ( acdnt_gae_code = '04')) and (( road_type = '6'))\n",
      "SRS=EPSG:5181\n",
      "BBOX=165556.20261156,388838.54370702,267828.20261156,448678.54370702\n",
      "WIDTH=1598\n",
      "HEIGHT=935\n",
      "bbox_text : 165556.20261156,388838.54370702,267828.20261156,448678.54370702\n"
     ]
    },
    {
     "name": "stderr",
     "output_type": "stream",
     "text": [
      "  1%|          | 205/33698 [03:32<9:38:34,  1.04s/it]"
     ]
    },
    {
     "name": "stdout",
     "output_type": "stream",
     "text": [
      "Debugging - src content: <selenium.webdriver.remote.webelement.WebElement (session=\"5b06b3d12ca3a76e5c613afa896de233\", element=\"9E340076E16B0B12E9EB60FAF1C429D4_element_96578\")>\n",
      "Debugging - src content: https://taas.koroad.or.kr/gis36/TAAS/wms?LAYERS=GNRL_GIS_ACDNT_INFO_NON&STYLES=&FORMAT=image/png&TRANSPARENT=TRUE&TILED=false&TILESORIGIN=-30000,-60000&PROJECTION=EPSG:5179&DISPLAYPROJECTION=EPSG:5181&TRANSFORM=EPSG:5181&SERVICE=WMS&VERSION=1.1.1&REQUEST=GetMap&CQL_FILTER=(engn_code='00') and (acdnt_year between '2022' and '2022')  and (legaldong_code ilike '4146%') and (( acdnt_gae_code = '01') or ( acdnt_gae_code = '02') or ( acdnt_gae_code = '03') or ( acdnt_gae_code = '04')) and (( road_type = '6'))&SRS=EPSG:5181&BBOX=168880.69548227,386920.31500463,271152.69548227,446760.31500463&WIDTH=1598&HEIGHT=935\n",
      "src_split : ['https://taas.koroad.or.kr/gis36/TAAS/wms?LAYERS=GNRL_GIS_ACDNT_INFO_NON', 'STYLES=', 'FORMAT=image/png', 'TRANSPARENT=TRUE', 'TILED=false', 'TILESORIGIN=-30000,-60000', 'PROJECTION=EPSG:5179', 'DISPLAYPROJECTION=EPSG:5181', 'TRANSFORM=EPSG:5181', 'SERVICE=WMS', 'VERSION=1.1.1', 'REQUEST=GetMap', \"CQL_FILTER=(engn_code='00') and (acdnt_year between '2022' and '2022')  and (legaldong_code ilike '4146%') and (( acdnt_gae_code = '01') or ( acdnt_gae_code = '02') or ( acdnt_gae_code = '03') or ( acdnt_gae_code = '04')) and (( road_type = '6'))\", 'SRS=EPSG:5181', 'BBOX=168880.69548227,386920.31500463,271152.69548227,446760.31500463', 'WIDTH=1598', 'HEIGHT=935']\n",
      "Debugging - src_split:\n",
      "https://taas.koroad.or.kr/gis36/TAAS/wms?LAYERS=GNRL_GIS_ACDNT_INFO_NON\n",
      "STYLES=\n",
      "FORMAT=image/png\n",
      "TRANSPARENT=TRUE\n",
      "TILED=false\n",
      "TILESORIGIN=-30000,-60000\n",
      "PROJECTION=EPSG:5179\n",
      "DISPLAYPROJECTION=EPSG:5181\n",
      "TRANSFORM=EPSG:5181\n",
      "SERVICE=WMS\n",
      "VERSION=1.1.1\n",
      "REQUEST=GetMap\n",
      "CQL_FILTER=(engn_code='00') and (acdnt_year between '2022' and '2022')  and (legaldong_code ilike '4146%') and (( acdnt_gae_code = '01') or ( acdnt_gae_code = '02') or ( acdnt_gae_code = '03') or ( acdnt_gae_code = '04')) and (( road_type = '6'))\n",
      "SRS=EPSG:5181\n",
      "BBOX=168880.69548227,386920.31500463,271152.69548227,446760.31500463\n",
      "WIDTH=1598\n",
      "HEIGHT=935\n",
      "bbox_text : 168880.69548227,386920.31500463,271152.69548227,446760.31500463\n"
     ]
    },
    {
     "name": "stderr",
     "output_type": "stream",
     "text": [
      "  1%|          | 206/33698 [03:33<9:38:32,  1.04s/it]"
     ]
    },
    {
     "name": "stdout",
     "output_type": "stream",
     "text": [
      "Debugging - src content: <selenium.webdriver.remote.webelement.WebElement (session=\"5b06b3d12ca3a76e5c613afa896de233\", element=\"9E340076E16B0B12E9EB60FAF1C429D4_element_97025\")>\n",
      "Debugging - src content: https://taas.koroad.or.kr/gis36/TAAS/wms?LAYERS=GNRL_GIS_ACDNT_INFO_NON&STYLES=&FORMAT=image/png&TRANSPARENT=TRUE&TILED=false&TILESORIGIN=-30000,-60000&PROJECTION=EPSG:5179&DISPLAYPROJECTION=EPSG:5181&TRANSFORM=EPSG:5181&SERVICE=WMS&VERSION=1.1.1&REQUEST=GetMap&CQL_FILTER=(engn_code='00') and (acdnt_year between '2022' and '2022')  and (legaldong_code ilike '4146%') and (( acdnt_gae_code = '01') or ( acdnt_gae_code = '02') or ( acdnt_gae_code = '03') or ( acdnt_gae_code = '04')) and (( road_type = '6'))&SRS=EPSG:5181&BBOX=158219.83603002,385695.53372416,260491.83603002,445535.53372416&WIDTH=1598&HEIGHT=935\n",
      "src_split : ['https://taas.koroad.or.kr/gis36/TAAS/wms?LAYERS=GNRL_GIS_ACDNT_INFO_NON', 'STYLES=', 'FORMAT=image/png', 'TRANSPARENT=TRUE', 'TILED=false', 'TILESORIGIN=-30000,-60000', 'PROJECTION=EPSG:5179', 'DISPLAYPROJECTION=EPSG:5181', 'TRANSFORM=EPSG:5181', 'SERVICE=WMS', 'VERSION=1.1.1', 'REQUEST=GetMap', \"CQL_FILTER=(engn_code='00') and (acdnt_year between '2022' and '2022')  and (legaldong_code ilike '4146%') and (( acdnt_gae_code = '01') or ( acdnt_gae_code = '02') or ( acdnt_gae_code = '03') or ( acdnt_gae_code = '04')) and (( road_type = '6'))\", 'SRS=EPSG:5181', 'BBOX=158219.83603002,385695.53372416,260491.83603002,445535.53372416', 'WIDTH=1598', 'HEIGHT=935']\n",
      "Debugging - src_split:\n",
      "https://taas.koroad.or.kr/gis36/TAAS/wms?LAYERS=GNRL_GIS_ACDNT_INFO_NON\n",
      "STYLES=\n",
      "FORMAT=image/png\n",
      "TRANSPARENT=TRUE\n",
      "TILED=false\n",
      "TILESORIGIN=-30000,-60000\n",
      "PROJECTION=EPSG:5179\n",
      "DISPLAYPROJECTION=EPSG:5181\n",
      "TRANSFORM=EPSG:5181\n",
      "SERVICE=WMS\n",
      "VERSION=1.1.1\n",
      "REQUEST=GetMap\n",
      "CQL_FILTER=(engn_code='00') and (acdnt_year between '2022' and '2022')  and (legaldong_code ilike '4146%') and (( acdnt_gae_code = '01') or ( acdnt_gae_code = '02') or ( acdnt_gae_code = '03') or ( acdnt_gae_code = '04')) and (( road_type = '6'))\n",
      "SRS=EPSG:5181\n",
      "BBOX=158219.83603002,385695.53372416,260491.83603002,445535.53372416\n",
      "WIDTH=1598\n",
      "HEIGHT=935\n",
      "bbox_text : 158219.83603002,385695.53372416,260491.83603002,445535.53372416\n"
     ]
    },
    {
     "name": "stderr",
     "output_type": "stream",
     "text": [
      "  1%|          | 207/33698 [03:34<9:37:35,  1.03s/it]"
     ]
    },
    {
     "name": "stdout",
     "output_type": "stream",
     "text": [
      "Debugging - src content: <selenium.webdriver.remote.webelement.WebElement (session=\"5b06b3d12ca3a76e5c613afa896de233\", element=\"9E340076E16B0B12E9EB60FAF1C429D4_element_97465\")>\n",
      "Debugging - src content: https://taas.koroad.or.kr/gis36/TAAS/wms?LAYERS=GNRL_GIS_ACDNT_INFO_NON&STYLES=&FORMAT=image/png&TRANSPARENT=TRUE&TILED=false&TILESORIGIN=-30000,-60000&PROJECTION=EPSG:5179&DISPLAYPROJECTION=EPSG:5181&TRANSFORM=EPSG:5181&SERVICE=WMS&VERSION=1.1.1&REQUEST=GetMap&CQL_FILTER=(engn_code='00') and (acdnt_year between '2022' and '2022')  and (legaldong_code ilike '4146%') and (( acdnt_gae_code = '01') or ( acdnt_gae_code = '02') or ( acdnt_gae_code = '03') or ( acdnt_gae_code = '04')) and (( road_type = '6'))&SRS=EPSG:5181&BBOX=158081.90633693,388133.78039709,260353.90633693,447973.78039709&WIDTH=1598&HEIGHT=935\n",
      "src_split : ['https://taas.koroad.or.kr/gis36/TAAS/wms?LAYERS=GNRL_GIS_ACDNT_INFO_NON', 'STYLES=', 'FORMAT=image/png', 'TRANSPARENT=TRUE', 'TILED=false', 'TILESORIGIN=-30000,-60000', 'PROJECTION=EPSG:5179', 'DISPLAYPROJECTION=EPSG:5181', 'TRANSFORM=EPSG:5181', 'SERVICE=WMS', 'VERSION=1.1.1', 'REQUEST=GetMap', \"CQL_FILTER=(engn_code='00') and (acdnt_year between '2022' and '2022')  and (legaldong_code ilike '4146%') and (( acdnt_gae_code = '01') or ( acdnt_gae_code = '02') or ( acdnt_gae_code = '03') or ( acdnt_gae_code = '04')) and (( road_type = '6'))\", 'SRS=EPSG:5181', 'BBOX=158081.90633693,388133.78039709,260353.90633693,447973.78039709', 'WIDTH=1598', 'HEIGHT=935']\n",
      "Debugging - src_split:\n",
      "https://taas.koroad.or.kr/gis36/TAAS/wms?LAYERS=GNRL_GIS_ACDNT_INFO_NON\n",
      "STYLES=\n",
      "FORMAT=image/png\n",
      "TRANSPARENT=TRUE\n",
      "TILED=false\n",
      "TILESORIGIN=-30000,-60000\n",
      "PROJECTION=EPSG:5179\n",
      "DISPLAYPROJECTION=EPSG:5181\n",
      "TRANSFORM=EPSG:5181\n",
      "SERVICE=WMS\n",
      "VERSION=1.1.1\n",
      "REQUEST=GetMap\n",
      "CQL_FILTER=(engn_code='00') and (acdnt_year between '2022' and '2022')  and (legaldong_code ilike '4146%') and (( acdnt_gae_code = '01') or ( acdnt_gae_code = '02') or ( acdnt_gae_code = '03') or ( acdnt_gae_code = '04')) and (( road_type = '6'))\n",
      "SRS=EPSG:5181\n",
      "BBOX=158081.90633693,388133.78039709,260353.90633693,447973.78039709\n",
      "WIDTH=1598\n",
      "HEIGHT=935\n",
      "bbox_text : 158081.90633693,388133.78039709,260353.90633693,447973.78039709\n"
     ]
    },
    {
     "name": "stderr",
     "output_type": "stream",
     "text": [
      "  1%|          | 208/33698 [03:35<9:38:37,  1.04s/it]"
     ]
    },
    {
     "name": "stdout",
     "output_type": "stream",
     "text": [
      "Debugging - src content: <selenium.webdriver.remote.webelement.WebElement (session=\"5b06b3d12ca3a76e5c613afa896de233\", element=\"9E340076E16B0B12E9EB60FAF1C429D4_element_97922\")>\n",
      "Debugging - src content: https://taas.koroad.or.kr/gis36/TAAS/wms?LAYERS=GNRL_GIS_ACDNT_INFO_NON&STYLES=&FORMAT=image/png&TRANSPARENT=TRUE&TILED=false&TILESORIGIN=-30000,-60000&PROJECTION=EPSG:5179&DISPLAYPROJECTION=EPSG:5181&TRANSFORM=EPSG:5181&SERVICE=WMS&VERSION=1.1.1&REQUEST=GetMap&CQL_FILTER=(engn_code='00') and (acdnt_year between '2022' and '2022')  and (legaldong_code ilike '4146%') and (( acdnt_gae_code = '01') or ( acdnt_gae_code = '02') or ( acdnt_gae_code = '03') or ( acdnt_gae_code = '04')) and (( road_type = '6'))&SRS=EPSG:5181&BBOX=173478.53317369,388826.38626618,275750.53317369,448666.38626618&WIDTH=1598&HEIGHT=935\n",
      "src_split : ['https://taas.koroad.or.kr/gis36/TAAS/wms?LAYERS=GNRL_GIS_ACDNT_INFO_NON', 'STYLES=', 'FORMAT=image/png', 'TRANSPARENT=TRUE', 'TILED=false', 'TILESORIGIN=-30000,-60000', 'PROJECTION=EPSG:5179', 'DISPLAYPROJECTION=EPSG:5181', 'TRANSFORM=EPSG:5181', 'SERVICE=WMS', 'VERSION=1.1.1', 'REQUEST=GetMap', \"CQL_FILTER=(engn_code='00') and (acdnt_year between '2022' and '2022')  and (legaldong_code ilike '4146%') and (( acdnt_gae_code = '01') or ( acdnt_gae_code = '02') or ( acdnt_gae_code = '03') or ( acdnt_gae_code = '04')) and (( road_type = '6'))\", 'SRS=EPSG:5181', 'BBOX=173478.53317369,388826.38626618,275750.53317369,448666.38626618', 'WIDTH=1598', 'HEIGHT=935']\n",
      "Debugging - src_split:\n",
      "https://taas.koroad.or.kr/gis36/TAAS/wms?LAYERS=GNRL_GIS_ACDNT_INFO_NON\n",
      "STYLES=\n",
      "FORMAT=image/png\n",
      "TRANSPARENT=TRUE\n",
      "TILED=false\n",
      "TILESORIGIN=-30000,-60000\n",
      "PROJECTION=EPSG:5179\n",
      "DISPLAYPROJECTION=EPSG:5181\n",
      "TRANSFORM=EPSG:5181\n",
      "SERVICE=WMS\n",
      "VERSION=1.1.1\n",
      "REQUEST=GetMap\n",
      "CQL_FILTER=(engn_code='00') and (acdnt_year between '2022' and '2022')  and (legaldong_code ilike '4146%') and (( acdnt_gae_code = '01') or ( acdnt_gae_code = '02') or ( acdnt_gae_code = '03') or ( acdnt_gae_code = '04')) and (( road_type = '6'))\n",
      "SRS=EPSG:5181\n",
      "BBOX=173478.53317369,388826.38626618,275750.53317369,448666.38626618\n",
      "WIDTH=1598\n",
      "HEIGHT=935\n",
      "bbox_text : 173478.53317369,388826.38626618,275750.53317369,448666.38626618\n"
     ]
    },
    {
     "name": "stderr",
     "output_type": "stream",
     "text": [
      "  1%|          | 209/33698 [03:36<9:38:31,  1.04s/it]"
     ]
    },
    {
     "name": "stdout",
     "output_type": "stream",
     "text": [
      "Debugging - src content: <selenium.webdriver.remote.webelement.WebElement (session=\"5b06b3d12ca3a76e5c613afa896de233\", element=\"9E340076E16B0B12E9EB60FAF1C429D4_element_98379\")>\n",
      "Debugging - src content: https://taas.koroad.or.kr/gis36/TAAS/wms?LAYERS=GNRL_GIS_ACDNT_INFO_NON&STYLES=&FORMAT=image/png&TRANSPARENT=TRUE&TILED=false&TILESORIGIN=-30000,-60000&PROJECTION=EPSG:5179&DISPLAYPROJECTION=EPSG:5181&TRANSFORM=EPSG:5181&SERVICE=WMS&VERSION=1.1.1&REQUEST=GetMap&CQL_FILTER=(engn_code='00') and (acdnt_year between '2022' and '2022')  and (legaldong_code ilike '4146%') and (( acdnt_gae_code = '01') or ( acdnt_gae_code = '02') or ( acdnt_gae_code = '03') or ( acdnt_gae_code = '04')) and (( road_type = '6'))&SRS=EPSG:5181&BBOX=152262.91673616,410740.94445366,254534.91673616,470580.94445366&WIDTH=1598&HEIGHT=935\n",
      "src_split : ['https://taas.koroad.or.kr/gis36/TAAS/wms?LAYERS=GNRL_GIS_ACDNT_INFO_NON', 'STYLES=', 'FORMAT=image/png', 'TRANSPARENT=TRUE', 'TILED=false', 'TILESORIGIN=-30000,-60000', 'PROJECTION=EPSG:5179', 'DISPLAYPROJECTION=EPSG:5181', 'TRANSFORM=EPSG:5181', 'SERVICE=WMS', 'VERSION=1.1.1', 'REQUEST=GetMap', \"CQL_FILTER=(engn_code='00') and (acdnt_year between '2022' and '2022')  and (legaldong_code ilike '4146%') and (( acdnt_gae_code = '01') or ( acdnt_gae_code = '02') or ( acdnt_gae_code = '03') or ( acdnt_gae_code = '04')) and (( road_type = '6'))\", 'SRS=EPSG:5181', 'BBOX=152262.91673616,410740.94445366,254534.91673616,470580.94445366', 'WIDTH=1598', 'HEIGHT=935']\n",
      "Debugging - src_split:\n",
      "https://taas.koroad.or.kr/gis36/TAAS/wms?LAYERS=GNRL_GIS_ACDNT_INFO_NON\n",
      "STYLES=\n",
      "FORMAT=image/png\n",
      "TRANSPARENT=TRUE\n",
      "TILED=false\n",
      "TILESORIGIN=-30000,-60000\n",
      "PROJECTION=EPSG:5179\n",
      "DISPLAYPROJECTION=EPSG:5181\n",
      "TRANSFORM=EPSG:5181\n",
      "SERVICE=WMS\n",
      "VERSION=1.1.1\n",
      "REQUEST=GetMap\n",
      "CQL_FILTER=(engn_code='00') and (acdnt_year between '2022' and '2022')  and (legaldong_code ilike '4146%') and (( acdnt_gae_code = '01') or ( acdnt_gae_code = '02') or ( acdnt_gae_code = '03') or ( acdnt_gae_code = '04')) and (( road_type = '6'))\n",
      "SRS=EPSG:5181\n",
      "BBOX=152262.91673616,410740.94445366,254534.91673616,470580.94445366\n",
      "WIDTH=1598\n",
      "HEIGHT=935\n",
      "bbox_text : 152262.91673616,410740.94445366,254534.91673616,470580.94445366\n"
     ]
    },
    {
     "name": "stderr",
     "output_type": "stream",
     "text": [
      "  1%|          | 210/33698 [03:37<9:38:03,  1.04s/it]"
     ]
    },
    {
     "name": "stdout",
     "output_type": "stream",
     "text": [
      "Debugging - src content: <selenium.webdriver.remote.webelement.WebElement (session=\"5b06b3d12ca3a76e5c613afa896de233\", element=\"9E340076E16B0B12E9EB60FAF1C429D4_element_98839\")>\n",
      "Debugging - src content: https://taas.koroad.or.kr/gis36/TAAS/wms?LAYERS=GNRL_GIS_ACDNT_INFO_NON&STYLES=&FORMAT=image/png&TRANSPARENT=TRUE&TILED=false&TILESORIGIN=-30000,-60000&PROJECTION=EPSG:5179&DISPLAYPROJECTION=EPSG:5181&TRANSFORM=EPSG:5181&SERVICE=WMS&VERSION=1.1.1&REQUEST=GetMap&CQL_FILTER=(engn_code='00') and (acdnt_year between '2022' and '2022')  and (legaldong_code ilike '4146%') and (( acdnt_gae_code = '01') or ( acdnt_gae_code = '02') or ( acdnt_gae_code = '03') or ( acdnt_gae_code = '04')) and (( road_type = '6'))&SRS=EPSG:5181&BBOX=157768.27550946,383683.34625341,260040.27550946,443523.34625341&WIDTH=1598&HEIGHT=935\n",
      "src_split : ['https://taas.koroad.or.kr/gis36/TAAS/wms?LAYERS=GNRL_GIS_ACDNT_INFO_NON', 'STYLES=', 'FORMAT=image/png', 'TRANSPARENT=TRUE', 'TILED=false', 'TILESORIGIN=-30000,-60000', 'PROJECTION=EPSG:5179', 'DISPLAYPROJECTION=EPSG:5181', 'TRANSFORM=EPSG:5181', 'SERVICE=WMS', 'VERSION=1.1.1', 'REQUEST=GetMap', \"CQL_FILTER=(engn_code='00') and (acdnt_year between '2022' and '2022')  and (legaldong_code ilike '4146%') and (( acdnt_gae_code = '01') or ( acdnt_gae_code = '02') or ( acdnt_gae_code = '03') or ( acdnt_gae_code = '04')) and (( road_type = '6'))\", 'SRS=EPSG:5181', 'BBOX=157768.27550946,383683.34625341,260040.27550946,443523.34625341', 'WIDTH=1598', 'HEIGHT=935']\n",
      "Debugging - src_split:\n",
      "https://taas.koroad.or.kr/gis36/TAAS/wms?LAYERS=GNRL_GIS_ACDNT_INFO_NON\n",
      "STYLES=\n",
      "FORMAT=image/png\n",
      "TRANSPARENT=TRUE\n",
      "TILED=false\n",
      "TILESORIGIN=-30000,-60000\n",
      "PROJECTION=EPSG:5179\n",
      "DISPLAYPROJECTION=EPSG:5181\n",
      "TRANSFORM=EPSG:5181\n",
      "SERVICE=WMS\n",
      "VERSION=1.1.1\n",
      "REQUEST=GetMap\n",
      "CQL_FILTER=(engn_code='00') and (acdnt_year between '2022' and '2022')  and (legaldong_code ilike '4146%') and (( acdnt_gae_code = '01') or ( acdnt_gae_code = '02') or ( acdnt_gae_code = '03') or ( acdnt_gae_code = '04')) and (( road_type = '6'))\n",
      "SRS=EPSG:5181\n",
      "BBOX=157768.27550946,383683.34625341,260040.27550946,443523.34625341\n",
      "WIDTH=1598\n",
      "HEIGHT=935\n",
      "bbox_text : 157768.27550946,383683.34625341,260040.27550946,443523.34625341\n"
     ]
    },
    {
     "name": "stderr",
     "output_type": "stream",
     "text": [
      "  1%|          | 211/33698 [03:38<9:37:31,  1.03s/it]"
     ]
    },
    {
     "name": "stdout",
     "output_type": "stream",
     "text": [
      "Debugging - src content: <selenium.webdriver.remote.webelement.WebElement (session=\"5b06b3d12ca3a76e5c613afa896de233\", element=\"9E340076E16B0B12E9EB60FAF1C429D4_element_99289\")>\n",
      "Debugging - src content: https://taas.koroad.or.kr/gis36/TAAS/wms?LAYERS=GNRL_GIS_ACDNT_INFO_NON&STYLES=&FORMAT=image/png&TRANSPARENT=TRUE&TILED=false&TILESORIGIN=-30000,-60000&PROJECTION=EPSG:5179&DISPLAYPROJECTION=EPSG:5181&TRANSFORM=EPSG:5181&SERVICE=WMS&VERSION=1.1.1&REQUEST=GetMap&CQL_FILTER=(engn_code='00') and (acdnt_year between '2022' and '2022')  and (legaldong_code ilike '4146%') and (( acdnt_gae_code = '01') or ( acdnt_gae_code = '02') or ( acdnt_gae_code = '03') or ( acdnt_gae_code = '04')) and (( road_type = '6'))&SRS=EPSG:5181&BBOX=158227.30080433,391287.80985721,260499.30080433,451127.80985721&WIDTH=1598&HEIGHT=935\n",
      "src_split : ['https://taas.koroad.or.kr/gis36/TAAS/wms?LAYERS=GNRL_GIS_ACDNT_INFO_NON', 'STYLES=', 'FORMAT=image/png', 'TRANSPARENT=TRUE', 'TILED=false', 'TILESORIGIN=-30000,-60000', 'PROJECTION=EPSG:5179', 'DISPLAYPROJECTION=EPSG:5181', 'TRANSFORM=EPSG:5181', 'SERVICE=WMS', 'VERSION=1.1.1', 'REQUEST=GetMap', \"CQL_FILTER=(engn_code='00') and (acdnt_year between '2022' and '2022')  and (legaldong_code ilike '4146%') and (( acdnt_gae_code = '01') or ( acdnt_gae_code = '02') or ( acdnt_gae_code = '03') or ( acdnt_gae_code = '04')) and (( road_type = '6'))\", 'SRS=EPSG:5181', 'BBOX=158227.30080433,391287.80985721,260499.30080433,451127.80985721', 'WIDTH=1598', 'HEIGHT=935']\n",
      "Debugging - src_split:\n",
      "https://taas.koroad.or.kr/gis36/TAAS/wms?LAYERS=GNRL_GIS_ACDNT_INFO_NON\n",
      "STYLES=\n",
      "FORMAT=image/png\n",
      "TRANSPARENT=TRUE\n",
      "TILED=false\n",
      "TILESORIGIN=-30000,-60000\n",
      "PROJECTION=EPSG:5179\n",
      "DISPLAYPROJECTION=EPSG:5181\n",
      "TRANSFORM=EPSG:5181\n",
      "SERVICE=WMS\n",
      "VERSION=1.1.1\n",
      "REQUEST=GetMap\n",
      "CQL_FILTER=(engn_code='00') and (acdnt_year between '2022' and '2022')  and (legaldong_code ilike '4146%') and (( acdnt_gae_code = '01') or ( acdnt_gae_code = '02') or ( acdnt_gae_code = '03') or ( acdnt_gae_code = '04')) and (( road_type = '6'))\n",
      "SRS=EPSG:5181\n",
      "BBOX=158227.30080433,391287.80985721,260499.30080433,451127.80985721\n",
      "WIDTH=1598\n",
      "HEIGHT=935\n",
      "bbox_text : 158227.30080433,391287.80985721,260499.30080433,451127.80985721\n"
     ]
    },
    {
     "name": "stderr",
     "output_type": "stream",
     "text": [
      "  1%|          | 212/33698 [03:39<9:38:25,  1.04s/it]"
     ]
    },
    {
     "name": "stdout",
     "output_type": "stream",
     "text": [
      "Debugging - src content: <selenium.webdriver.remote.webelement.WebElement (session=\"5b06b3d12ca3a76e5c613afa896de233\", element=\"9E340076E16B0B12E9EB60FAF1C429D4_element_99746\")>\n",
      "Debugging - src content: https://taas.koroad.or.kr/gis36/TAAS/wms?LAYERS=GNRL_GIS_ACDNT_INFO_NON&STYLES=&FORMAT=image/png&TRANSPARENT=TRUE&TILED=false&TILESORIGIN=-30000,-60000&PROJECTION=EPSG:5179&DISPLAYPROJECTION=EPSG:5181&TRANSFORM=EPSG:5181&SERVICE=WMS&VERSION=1.1.1&REQUEST=GetMap&CQL_FILTER=(engn_code='00') and (acdnt_year between '2022' and '2022')  and (legaldong_code ilike '4146%') and (( acdnt_gae_code = '01') or ( acdnt_gae_code = '02') or ( acdnt_gae_code = '03') or ( acdnt_gae_code = '04')) and (( road_type = '6'))&SRS=EPSG:5181&BBOX=170179.37092002,386515.004802,272451.37092002,446355.004802&WIDTH=1598&HEIGHT=935\n",
      "src_split : ['https://taas.koroad.or.kr/gis36/TAAS/wms?LAYERS=GNRL_GIS_ACDNT_INFO_NON', 'STYLES=', 'FORMAT=image/png', 'TRANSPARENT=TRUE', 'TILED=false', 'TILESORIGIN=-30000,-60000', 'PROJECTION=EPSG:5179', 'DISPLAYPROJECTION=EPSG:5181', 'TRANSFORM=EPSG:5181', 'SERVICE=WMS', 'VERSION=1.1.1', 'REQUEST=GetMap', \"CQL_FILTER=(engn_code='00') and (acdnt_year between '2022' and '2022')  and (legaldong_code ilike '4146%') and (( acdnt_gae_code = '01') or ( acdnt_gae_code = '02') or ( acdnt_gae_code = '03') or ( acdnt_gae_code = '04')) and (( road_type = '6'))\", 'SRS=EPSG:5181', 'BBOX=170179.37092002,386515.004802,272451.37092002,446355.004802', 'WIDTH=1598', 'HEIGHT=935']\n",
      "Debugging - src_split:\n",
      "https://taas.koroad.or.kr/gis36/TAAS/wms?LAYERS=GNRL_GIS_ACDNT_INFO_NON\n",
      "STYLES=\n",
      "FORMAT=image/png\n",
      "TRANSPARENT=TRUE\n",
      "TILED=false\n",
      "TILESORIGIN=-30000,-60000\n",
      "PROJECTION=EPSG:5179\n",
      "DISPLAYPROJECTION=EPSG:5181\n",
      "TRANSFORM=EPSG:5181\n",
      "SERVICE=WMS\n",
      "VERSION=1.1.1\n",
      "REQUEST=GetMap\n",
      "CQL_FILTER=(engn_code='00') and (acdnt_year between '2022' and '2022')  and (legaldong_code ilike '4146%') and (( acdnt_gae_code = '01') or ( acdnt_gae_code = '02') or ( acdnt_gae_code = '03') or ( acdnt_gae_code = '04')) and (( road_type = '6'))\n",
      "SRS=EPSG:5181\n",
      "BBOX=170179.37092002,386515.004802,272451.37092002,446355.004802\n",
      "WIDTH=1598\n",
      "HEIGHT=935\n",
      "bbox_text : 170179.37092002,386515.004802,272451.37092002,446355.004802\n"
     ]
    },
    {
     "name": "stderr",
     "output_type": "stream",
     "text": [
      "  1%|          | 213/33698 [03:40<9:37:50,  1.04s/it]"
     ]
    },
    {
     "name": "stdout",
     "output_type": "stream",
     "text": [
      "Debugging - src content: <selenium.webdriver.remote.webelement.WebElement (session=\"5b06b3d12ca3a76e5c613afa896de233\", element=\"9E340076E16B0B12E9EB60FAF1C429D4_element_100193\")>\n",
      "Debugging - src content: https://taas.koroad.or.kr/gis36/TAAS/wms?LAYERS=GNRL_GIS_ACDNT_INFO_NON&STYLES=&FORMAT=image/png&TRANSPARENT=TRUE&TILED=false&TILESORIGIN=-30000,-60000&PROJECTION=EPSG:5179&DISPLAYPROJECTION=EPSG:5181&TRANSFORM=EPSG:5181&SERVICE=WMS&VERSION=1.1.1&REQUEST=GetMap&CQL_FILTER=(engn_code='00') and (acdnt_year between '2022' and '2022')  and (legaldong_code ilike '4146%') and (( acdnt_gae_code = '01') or ( acdnt_gae_code = '02') or ( acdnt_gae_code = '03') or ( acdnt_gae_code = '04')) and (( road_type = '6'))&SRS=EPSG:5181&BBOX=158088.30739977,387679.63263224,260360.30739977,447519.63263224&WIDTH=1598&HEIGHT=935\n",
      "src_split : ['https://taas.koroad.or.kr/gis36/TAAS/wms?LAYERS=GNRL_GIS_ACDNT_INFO_NON', 'STYLES=', 'FORMAT=image/png', 'TRANSPARENT=TRUE', 'TILED=false', 'TILESORIGIN=-30000,-60000', 'PROJECTION=EPSG:5179', 'DISPLAYPROJECTION=EPSG:5181', 'TRANSFORM=EPSG:5181', 'SERVICE=WMS', 'VERSION=1.1.1', 'REQUEST=GetMap', \"CQL_FILTER=(engn_code='00') and (acdnt_year between '2022' and '2022')  and (legaldong_code ilike '4146%') and (( acdnt_gae_code = '01') or ( acdnt_gae_code = '02') or ( acdnt_gae_code = '03') or ( acdnt_gae_code = '04')) and (( road_type = '6'))\", 'SRS=EPSG:5181', 'BBOX=158088.30739977,387679.63263224,260360.30739977,447519.63263224', 'WIDTH=1598', 'HEIGHT=935']\n",
      "Debugging - src_split:\n",
      "https://taas.koroad.or.kr/gis36/TAAS/wms?LAYERS=GNRL_GIS_ACDNT_INFO_NON\n",
      "STYLES=\n",
      "FORMAT=image/png\n",
      "TRANSPARENT=TRUE\n",
      "TILED=false\n",
      "TILESORIGIN=-30000,-60000\n",
      "PROJECTION=EPSG:5179\n",
      "DISPLAYPROJECTION=EPSG:5181\n",
      "TRANSFORM=EPSG:5181\n",
      "SERVICE=WMS\n",
      "VERSION=1.1.1\n",
      "REQUEST=GetMap\n",
      "CQL_FILTER=(engn_code='00') and (acdnt_year between '2022' and '2022')  and (legaldong_code ilike '4146%') and (( acdnt_gae_code = '01') or ( acdnt_gae_code = '02') or ( acdnt_gae_code = '03') or ( acdnt_gae_code = '04')) and (( road_type = '6'))\n",
      "SRS=EPSG:5181\n",
      "BBOX=158088.30739977,387679.63263224,260360.30739977,447519.63263224\n",
      "WIDTH=1598\n",
      "HEIGHT=935\n",
      "bbox_text : 158088.30739977,387679.63263224,260360.30739977,447519.63263224\n"
     ]
    },
    {
     "name": "stderr",
     "output_type": "stream",
     "text": [
      "  1%|          | 214/33698 [03:41<9:38:05,  1.04s/it]"
     ]
    },
    {
     "name": "stdout",
     "output_type": "stream",
     "text": [
      "Debugging - src content: <selenium.webdriver.remote.webelement.WebElement (session=\"5b06b3d12ca3a76e5c613afa896de233\", element=\"9E340076E16B0B12E9EB60FAF1C429D4_element_100643\")>\n",
      "Debugging - src content: https://taas.koroad.or.kr/gis36/TAAS/wms?LAYERS=GNRL_GIS_ACDNT_INFO_NON&STYLES=&FORMAT=image/png&TRANSPARENT=TRUE&TILED=false&TILESORIGIN=-30000,-60000&PROJECTION=EPSG:5179&DISPLAYPROJECTION=EPSG:5181&TRANSFORM=EPSG:5181&SERVICE=WMS&VERSION=1.1.1&REQUEST=GetMap&CQL_FILTER=(engn_code='00') and (acdnt_year between '2022' and '2022')  and (legaldong_code ilike '4146%') and (( acdnt_gae_code = '01') or ( acdnt_gae_code = '02') or ( acdnt_gae_code = '03') or ( acdnt_gae_code = '04')) and (( road_type = '6'))&SRS=EPSG:5181&BBOX=158055.56613747,391603.02826383,260327.56613747,451443.02826383&WIDTH=1598&HEIGHT=935\n",
      "src_split : ['https://taas.koroad.or.kr/gis36/TAAS/wms?LAYERS=GNRL_GIS_ACDNT_INFO_NON', 'STYLES=', 'FORMAT=image/png', 'TRANSPARENT=TRUE', 'TILED=false', 'TILESORIGIN=-30000,-60000', 'PROJECTION=EPSG:5179', 'DISPLAYPROJECTION=EPSG:5181', 'TRANSFORM=EPSG:5181', 'SERVICE=WMS', 'VERSION=1.1.1', 'REQUEST=GetMap', \"CQL_FILTER=(engn_code='00') and (acdnt_year between '2022' and '2022')  and (legaldong_code ilike '4146%') and (( acdnt_gae_code = '01') or ( acdnt_gae_code = '02') or ( acdnt_gae_code = '03') or ( acdnt_gae_code = '04')) and (( road_type = '6'))\", 'SRS=EPSG:5181', 'BBOX=158055.56613747,391603.02826383,260327.56613747,451443.02826383', 'WIDTH=1598', 'HEIGHT=935']\n",
      "Debugging - src_split:\n",
      "https://taas.koroad.or.kr/gis36/TAAS/wms?LAYERS=GNRL_GIS_ACDNT_INFO_NON\n",
      "STYLES=\n",
      "FORMAT=image/png\n",
      "TRANSPARENT=TRUE\n",
      "TILED=false\n",
      "TILESORIGIN=-30000,-60000\n",
      "PROJECTION=EPSG:5179\n",
      "DISPLAYPROJECTION=EPSG:5181\n",
      "TRANSFORM=EPSG:5181\n",
      "SERVICE=WMS\n",
      "VERSION=1.1.1\n",
      "REQUEST=GetMap\n",
      "CQL_FILTER=(engn_code='00') and (acdnt_year between '2022' and '2022')  and (legaldong_code ilike '4146%') and (( acdnt_gae_code = '01') or ( acdnt_gae_code = '02') or ( acdnt_gae_code = '03') or ( acdnt_gae_code = '04')) and (( road_type = '6'))\n",
      "SRS=EPSG:5181\n",
      "BBOX=158055.56613747,391603.02826383,260327.56613747,451443.02826383\n",
      "WIDTH=1598\n",
      "HEIGHT=935\n",
      "bbox_text : 158055.56613747,391603.02826383,260327.56613747,451443.02826383\n"
     ]
    },
    {
     "name": "stderr",
     "output_type": "stream",
     "text": [
      "  1%|          | 215/33698 [03:42<9:36:56,  1.03s/it]"
     ]
    },
    {
     "name": "stdout",
     "output_type": "stream",
     "text": [
      "Debugging - src content: <selenium.webdriver.remote.webelement.WebElement (session=\"5b06b3d12ca3a76e5c613afa896de233\", element=\"9E340076E16B0B12E9EB60FAF1C429D4_element_101083\")>\n",
      "Debugging - src content: https://taas.koroad.or.kr/gis36/TAAS/wms?LAYERS=GNRL_GIS_ACDNT_INFO_NON&STYLES=&FORMAT=image/png&TRANSPARENT=TRUE&TILED=false&TILESORIGIN=-30000,-60000&PROJECTION=EPSG:5179&DISPLAYPROJECTION=EPSG:5181&TRANSFORM=EPSG:5181&SERVICE=WMS&VERSION=1.1.1&REQUEST=GetMap&CQL_FILTER=(engn_code='00') and (acdnt_year between '2022' and '2022')  and (legaldong_code ilike '4146%') and (( acdnt_gae_code = '01') or ( acdnt_gae_code = '02') or ( acdnt_gae_code = '03') or ( acdnt_gae_code = '04')) and (( road_type = '6'))&SRS=EPSG:5181&BBOX=164160.25272364,390235.73780596,266432.25272364,450075.73780596&WIDTH=1598&HEIGHT=935\n",
      "src_split : ['https://taas.koroad.or.kr/gis36/TAAS/wms?LAYERS=GNRL_GIS_ACDNT_INFO_NON', 'STYLES=', 'FORMAT=image/png', 'TRANSPARENT=TRUE', 'TILED=false', 'TILESORIGIN=-30000,-60000', 'PROJECTION=EPSG:5179', 'DISPLAYPROJECTION=EPSG:5181', 'TRANSFORM=EPSG:5181', 'SERVICE=WMS', 'VERSION=1.1.1', 'REQUEST=GetMap', \"CQL_FILTER=(engn_code='00') and (acdnt_year between '2022' and '2022')  and (legaldong_code ilike '4146%') and (( acdnt_gae_code = '01') or ( acdnt_gae_code = '02') or ( acdnt_gae_code = '03') or ( acdnt_gae_code = '04')) and (( road_type = '6'))\", 'SRS=EPSG:5181', 'BBOX=164160.25272364,390235.73780596,266432.25272364,450075.73780596', 'WIDTH=1598', 'HEIGHT=935']\n",
      "Debugging - src_split:\n",
      "https://taas.koroad.or.kr/gis36/TAAS/wms?LAYERS=GNRL_GIS_ACDNT_INFO_NON\n",
      "STYLES=\n",
      "FORMAT=image/png\n",
      "TRANSPARENT=TRUE\n",
      "TILED=false\n",
      "TILESORIGIN=-30000,-60000\n",
      "PROJECTION=EPSG:5179\n",
      "DISPLAYPROJECTION=EPSG:5181\n",
      "TRANSFORM=EPSG:5181\n",
      "SERVICE=WMS\n",
      "VERSION=1.1.1\n",
      "REQUEST=GetMap\n",
      "CQL_FILTER=(engn_code='00') and (acdnt_year between '2022' and '2022')  and (legaldong_code ilike '4146%') and (( acdnt_gae_code = '01') or ( acdnt_gae_code = '02') or ( acdnt_gae_code = '03') or ( acdnt_gae_code = '04')) and (( road_type = '6'))\n",
      "SRS=EPSG:5181\n",
      "BBOX=164160.25272364,390235.73780596,266432.25272364,450075.73780596\n",
      "WIDTH=1598\n",
      "HEIGHT=935\n",
      "bbox_text : 164160.25272364,390235.73780596,266432.25272364,450075.73780596\n"
     ]
    },
    {
     "name": "stderr",
     "output_type": "stream",
     "text": [
      "  1%|          | 216/33698 [03:43<9:37:01,  1.03s/it]"
     ]
    },
    {
     "name": "stdout",
     "output_type": "stream",
     "text": [
      "Debugging - src content: <selenium.webdriver.remote.webelement.WebElement (session=\"5b06b3d12ca3a76e5c613afa896de233\", element=\"9E340076E16B0B12E9EB60FAF1C429D4_element_101540\")>\n",
      "Debugging - src content: https://taas.koroad.or.kr/gis36/TAAS/wms?LAYERS=GNRL_GIS_ACDNT_INFO_NON&STYLES=&FORMAT=image/png&TRANSPARENT=TRUE&TILED=false&TILESORIGIN=-30000,-60000&PROJECTION=EPSG:5179&DISPLAYPROJECTION=EPSG:5181&TRANSFORM=EPSG:5181&SERVICE=WMS&VERSION=1.1.1&REQUEST=GetMap&CQL_FILTER=(engn_code='00') and (acdnt_year between '2022' and '2022')  and (legaldong_code ilike '4146%') and (( acdnt_gae_code = '01') or ( acdnt_gae_code = '02') or ( acdnt_gae_code = '03') or ( acdnt_gae_code = '04')) and (( road_type = '6'))&SRS=EPSG:5181&BBOX=175754.49972572,386172.29601686,278026.49972572,446012.29601686&WIDTH=1598&HEIGHT=935\n",
      "src_split : ['https://taas.koroad.or.kr/gis36/TAAS/wms?LAYERS=GNRL_GIS_ACDNT_INFO_NON', 'STYLES=', 'FORMAT=image/png', 'TRANSPARENT=TRUE', 'TILED=false', 'TILESORIGIN=-30000,-60000', 'PROJECTION=EPSG:5179', 'DISPLAYPROJECTION=EPSG:5181', 'TRANSFORM=EPSG:5181', 'SERVICE=WMS', 'VERSION=1.1.1', 'REQUEST=GetMap', \"CQL_FILTER=(engn_code='00') and (acdnt_year between '2022' and '2022')  and (legaldong_code ilike '4146%') and (( acdnt_gae_code = '01') or ( acdnt_gae_code = '02') or ( acdnt_gae_code = '03') or ( acdnt_gae_code = '04')) and (( road_type = '6'))\", 'SRS=EPSG:5181', 'BBOX=175754.49972572,386172.29601686,278026.49972572,446012.29601686', 'WIDTH=1598', 'HEIGHT=935']\n",
      "Debugging - src_split:\n",
      "https://taas.koroad.or.kr/gis36/TAAS/wms?LAYERS=GNRL_GIS_ACDNT_INFO_NON\n",
      "STYLES=\n",
      "FORMAT=image/png\n",
      "TRANSPARENT=TRUE\n",
      "TILED=false\n",
      "TILESORIGIN=-30000,-60000\n",
      "PROJECTION=EPSG:5179\n",
      "DISPLAYPROJECTION=EPSG:5181\n",
      "TRANSFORM=EPSG:5181\n",
      "SERVICE=WMS\n",
      "VERSION=1.1.1\n",
      "REQUEST=GetMap\n",
      "CQL_FILTER=(engn_code='00') and (acdnt_year between '2022' and '2022')  and (legaldong_code ilike '4146%') and (( acdnt_gae_code = '01') or ( acdnt_gae_code = '02') or ( acdnt_gae_code = '03') or ( acdnt_gae_code = '04')) and (( road_type = '6'))\n",
      "SRS=EPSG:5181\n",
      "BBOX=175754.49972572,386172.29601686,278026.49972572,446012.29601686\n",
      "WIDTH=1598\n",
      "HEIGHT=935\n",
      "bbox_text : 175754.49972572,386172.29601686,278026.49972572,446012.29601686\n"
     ]
    },
    {
     "name": "stderr",
     "output_type": "stream",
     "text": [
      "  1%|          | 217/33698 [03:44<9:37:15,  1.03s/it]"
     ]
    },
    {
     "name": "stdout",
     "output_type": "stream",
     "text": [
      "Debugging - src content: <selenium.webdriver.remote.webelement.WebElement (session=\"5b06b3d12ca3a76e5c613afa896de233\", element=\"9E340076E16B0B12E9EB60FAF1C429D4_element_101997\")>\n",
      "Debugging - src content: https://taas.koroad.or.kr/gis36/TAAS/wms?LAYERS=GNRL_GIS_ACDNT_INFO_NON&STYLES=&FORMAT=image/png&TRANSPARENT=TRUE&TILED=false&TILESORIGIN=-30000,-60000&PROJECTION=EPSG:5179&DISPLAYPROJECTION=EPSG:5181&TRANSFORM=EPSG:5181&SERVICE=WMS&VERSION=1.1.1&REQUEST=GetMap&CQL_FILTER=(engn_code='00') and (acdnt_year between '2022' and '2022')  and (legaldong_code ilike '4146%') and (( acdnt_gae_code = '01') or ( acdnt_gae_code = '02') or ( acdnt_gae_code = '03') or ( acdnt_gae_code = '04')) and (( road_type = '6'))&SRS=EPSG:5181&BBOX=157988.80699471,388713.52041137,260260.80699471,448553.52041137&WIDTH=1598&HEIGHT=935\n",
      "src_split : ['https://taas.koroad.or.kr/gis36/TAAS/wms?LAYERS=GNRL_GIS_ACDNT_INFO_NON', 'STYLES=', 'FORMAT=image/png', 'TRANSPARENT=TRUE', 'TILED=false', 'TILESORIGIN=-30000,-60000', 'PROJECTION=EPSG:5179', 'DISPLAYPROJECTION=EPSG:5181', 'TRANSFORM=EPSG:5181', 'SERVICE=WMS', 'VERSION=1.1.1', 'REQUEST=GetMap', \"CQL_FILTER=(engn_code='00') and (acdnt_year between '2022' and '2022')  and (legaldong_code ilike '4146%') and (( acdnt_gae_code = '01') or ( acdnt_gae_code = '02') or ( acdnt_gae_code = '03') or ( acdnt_gae_code = '04')) and (( road_type = '6'))\", 'SRS=EPSG:5181', 'BBOX=157988.80699471,388713.52041137,260260.80699471,448553.52041137', 'WIDTH=1598', 'HEIGHT=935']\n",
      "Debugging - src_split:\n",
      "https://taas.koroad.or.kr/gis36/TAAS/wms?LAYERS=GNRL_GIS_ACDNT_INFO_NON\n",
      "STYLES=\n",
      "FORMAT=image/png\n",
      "TRANSPARENT=TRUE\n",
      "TILED=false\n",
      "TILESORIGIN=-30000,-60000\n",
      "PROJECTION=EPSG:5179\n",
      "DISPLAYPROJECTION=EPSG:5181\n",
      "TRANSFORM=EPSG:5181\n",
      "SERVICE=WMS\n",
      "VERSION=1.1.1\n",
      "REQUEST=GetMap\n",
      "CQL_FILTER=(engn_code='00') and (acdnt_year between '2022' and '2022')  and (legaldong_code ilike '4146%') and (( acdnt_gae_code = '01') or ( acdnt_gae_code = '02') or ( acdnt_gae_code = '03') or ( acdnt_gae_code = '04')) and (( road_type = '6'))\n",
      "SRS=EPSG:5181\n",
      "BBOX=157988.80699471,388713.52041137,260260.80699471,448553.52041137\n",
      "WIDTH=1598\n",
      "HEIGHT=935\n",
      "bbox_text : 157988.80699471,388713.52041137,260260.80699471,448553.52041137\n"
     ]
    },
    {
     "name": "stderr",
     "output_type": "stream",
     "text": [
      "  1%|          | 218/33698 [03:45<9:38:27,  1.04s/it]"
     ]
    },
    {
     "name": "stdout",
     "output_type": "stream",
     "text": [
      "Debugging - src content: <selenium.webdriver.remote.webelement.WebElement (session=\"5b06b3d12ca3a76e5c613afa896de233\", element=\"9E340076E16B0B12E9EB60FAF1C429D4_element_102437\")>\n",
      "Debugging - src content: https://taas.koroad.or.kr/gis36/TAAS/wms?LAYERS=GNRL_GIS_ACDNT_INFO_NON&STYLES=&FORMAT=image/png&TRANSPARENT=TRUE&TILED=false&TILESORIGIN=-30000,-60000&PROJECTION=EPSG:5179&DISPLAYPROJECTION=EPSG:5181&TRANSFORM=EPSG:5181&SERVICE=WMS&VERSION=1.1.1&REQUEST=GetMap&CQL_FILTER=(engn_code='00') and (acdnt_year between '2022' and '2022')  and (legaldong_code ilike '4146%') and (( acdnt_gae_code = '01') or ( acdnt_gae_code = '02') or ( acdnt_gae_code = '03') or ( acdnt_gae_code = '04')) and (( road_type = '6'))&SRS=EPSG:5181&BBOX=158064.92966493,390399.59660227,260336.92966493,450239.59660227&WIDTH=1598&HEIGHT=935\n",
      "src_split : ['https://taas.koroad.or.kr/gis36/TAAS/wms?LAYERS=GNRL_GIS_ACDNT_INFO_NON', 'STYLES=', 'FORMAT=image/png', 'TRANSPARENT=TRUE', 'TILED=false', 'TILESORIGIN=-30000,-60000', 'PROJECTION=EPSG:5179', 'DISPLAYPROJECTION=EPSG:5181', 'TRANSFORM=EPSG:5181', 'SERVICE=WMS', 'VERSION=1.1.1', 'REQUEST=GetMap', \"CQL_FILTER=(engn_code='00') and (acdnt_year between '2022' and '2022')  and (legaldong_code ilike '4146%') and (( acdnt_gae_code = '01') or ( acdnt_gae_code = '02') or ( acdnt_gae_code = '03') or ( acdnt_gae_code = '04')) and (( road_type = '6'))\", 'SRS=EPSG:5181', 'BBOX=158064.92966493,390399.59660227,260336.92966493,450239.59660227', 'WIDTH=1598', 'HEIGHT=935']\n",
      "Debugging - src_split:\n",
      "https://taas.koroad.or.kr/gis36/TAAS/wms?LAYERS=GNRL_GIS_ACDNT_INFO_NON\n",
      "STYLES=\n",
      "FORMAT=image/png\n",
      "TRANSPARENT=TRUE\n",
      "TILED=false\n",
      "TILESORIGIN=-30000,-60000\n",
      "PROJECTION=EPSG:5179\n",
      "DISPLAYPROJECTION=EPSG:5181\n",
      "TRANSFORM=EPSG:5181\n",
      "SERVICE=WMS\n",
      "VERSION=1.1.1\n",
      "REQUEST=GetMap\n",
      "CQL_FILTER=(engn_code='00') and (acdnt_year between '2022' and '2022')  and (legaldong_code ilike '4146%') and (( acdnt_gae_code = '01') or ( acdnt_gae_code = '02') or ( acdnt_gae_code = '03') or ( acdnt_gae_code = '04')) and (( road_type = '6'))\n",
      "SRS=EPSG:5181\n",
      "BBOX=158064.92966493,390399.59660227,260336.92966493,450239.59660227\n",
      "WIDTH=1598\n",
      "HEIGHT=935\n",
      "bbox_text : 158064.92966493,390399.59660227,260336.92966493,450239.59660227\n"
     ]
    },
    {
     "name": "stderr",
     "output_type": "stream",
     "text": [
      "  1%|          | 219/33698 [03:46<9:38:52,  1.04s/it]"
     ]
    },
    {
     "name": "stdout",
     "output_type": "stream",
     "text": [
      "Debugging - src content: <selenium.webdriver.remote.webelement.WebElement (session=\"5b06b3d12ca3a76e5c613afa896de233\", element=\"9E340076E16B0B12E9EB60FAF1C429D4_element_102894\")>\n",
      "Debugging - src content: https://taas.koroad.or.kr/gis36/TAAS/wms?LAYERS=GNRL_GIS_ACDNT_INFO_NON&STYLES=&FORMAT=image/png&TRANSPARENT=TRUE&TILED=false&TILESORIGIN=-30000,-60000&PROJECTION=EPSG:5179&DISPLAYPROJECTION=EPSG:5181&TRANSFORM=EPSG:5181&SERVICE=WMS&VERSION=1.1.1&REQUEST=GetMap&CQL_FILTER=(engn_code='00') and (acdnt_year between '2022' and '2022')  and (legaldong_code ilike '4146%') and (( acdnt_gae_code = '01') or ( acdnt_gae_code = '02') or ( acdnt_gae_code = '03') or ( acdnt_gae_code = '04')) and (( road_type = '6'))&SRS=EPSG:5181&BBOX=173672.09940858,386083.26533186,275944.09940858,445923.26533186&WIDTH=1598&HEIGHT=935\n",
      "src_split : ['https://taas.koroad.or.kr/gis36/TAAS/wms?LAYERS=GNRL_GIS_ACDNT_INFO_NON', 'STYLES=', 'FORMAT=image/png', 'TRANSPARENT=TRUE', 'TILED=false', 'TILESORIGIN=-30000,-60000', 'PROJECTION=EPSG:5179', 'DISPLAYPROJECTION=EPSG:5181', 'TRANSFORM=EPSG:5181', 'SERVICE=WMS', 'VERSION=1.1.1', 'REQUEST=GetMap', \"CQL_FILTER=(engn_code='00') and (acdnt_year between '2022' and '2022')  and (legaldong_code ilike '4146%') and (( acdnt_gae_code = '01') or ( acdnt_gae_code = '02') or ( acdnt_gae_code = '03') or ( acdnt_gae_code = '04')) and (( road_type = '6'))\", 'SRS=EPSG:5181', 'BBOX=173672.09940858,386083.26533186,275944.09940858,445923.26533186', 'WIDTH=1598', 'HEIGHT=935']\n",
      "Debugging - src_split:\n",
      "https://taas.koroad.or.kr/gis36/TAAS/wms?LAYERS=GNRL_GIS_ACDNT_INFO_NON\n",
      "STYLES=\n",
      "FORMAT=image/png\n",
      "TRANSPARENT=TRUE\n",
      "TILED=false\n",
      "TILESORIGIN=-30000,-60000\n",
      "PROJECTION=EPSG:5179\n",
      "DISPLAYPROJECTION=EPSG:5181\n",
      "TRANSFORM=EPSG:5181\n",
      "SERVICE=WMS\n",
      "VERSION=1.1.1\n",
      "REQUEST=GetMap\n",
      "CQL_FILTER=(engn_code='00') and (acdnt_year between '2022' and '2022')  and (legaldong_code ilike '4146%') and (( acdnt_gae_code = '01') or ( acdnt_gae_code = '02') or ( acdnt_gae_code = '03') or ( acdnt_gae_code = '04')) and (( road_type = '6'))\n",
      "SRS=EPSG:5181\n",
      "BBOX=173672.09940858,386083.26533186,275944.09940858,445923.26533186\n",
      "WIDTH=1598\n",
      "HEIGHT=935\n",
      "bbox_text : 173672.09940858,386083.26533186,275944.09940858,445923.26533186\n"
     ]
    },
    {
     "name": "stderr",
     "output_type": "stream",
     "text": [
      "  1%|          | 220/33698 [03:47<9:38:06,  1.04s/it]"
     ]
    },
    {
     "name": "stdout",
     "output_type": "stream",
     "text": [
      "Debugging - src content: <selenium.webdriver.remote.webelement.WebElement (session=\"5b06b3d12ca3a76e5c613afa896de233\", element=\"9E340076E16B0B12E9EB60FAF1C429D4_element_103341\")>\n",
      "Debugging - src content: https://taas.koroad.or.kr/gis36/TAAS/wms?LAYERS=GNRL_GIS_ACDNT_INFO_NON&STYLES=&FORMAT=image/png&TRANSPARENT=TRUE&TILED=false&TILESORIGIN=-30000,-60000&PROJECTION=EPSG:5179&DISPLAYPROJECTION=EPSG:5181&TRANSFORM=EPSG:5181&SERVICE=WMS&VERSION=1.1.1&REQUEST=GetMap&CQL_FILTER=(engn_code='00') and (acdnt_year between '2022' and '2022')  and (legaldong_code ilike '4146%') and (( acdnt_gae_code = '01') or ( acdnt_gae_code = '02') or ( acdnt_gae_code = '03') or ( acdnt_gae_code = '04')) and (( road_type = '6'))&SRS=EPSG:5181&BBOX=158057.29874295,388057.61998297,260329.29874295,447897.61998297&WIDTH=1598&HEIGHT=935\n",
      "src_split : ['https://taas.koroad.or.kr/gis36/TAAS/wms?LAYERS=GNRL_GIS_ACDNT_INFO_NON', 'STYLES=', 'FORMAT=image/png', 'TRANSPARENT=TRUE', 'TILED=false', 'TILESORIGIN=-30000,-60000', 'PROJECTION=EPSG:5179', 'DISPLAYPROJECTION=EPSG:5181', 'TRANSFORM=EPSG:5181', 'SERVICE=WMS', 'VERSION=1.1.1', 'REQUEST=GetMap', \"CQL_FILTER=(engn_code='00') and (acdnt_year between '2022' and '2022')  and (legaldong_code ilike '4146%') and (( acdnt_gae_code = '01') or ( acdnt_gae_code = '02') or ( acdnt_gae_code = '03') or ( acdnt_gae_code = '04')) and (( road_type = '6'))\", 'SRS=EPSG:5181', 'BBOX=158057.29874295,388057.61998297,260329.29874295,447897.61998297', 'WIDTH=1598', 'HEIGHT=935']\n",
      "Debugging - src_split:\n",
      "https://taas.koroad.or.kr/gis36/TAAS/wms?LAYERS=GNRL_GIS_ACDNT_INFO_NON\n",
      "STYLES=\n",
      "FORMAT=image/png\n",
      "TRANSPARENT=TRUE\n",
      "TILED=false\n",
      "TILESORIGIN=-30000,-60000\n",
      "PROJECTION=EPSG:5179\n",
      "DISPLAYPROJECTION=EPSG:5181\n",
      "TRANSFORM=EPSG:5181\n",
      "SERVICE=WMS\n",
      "VERSION=1.1.1\n",
      "REQUEST=GetMap\n",
      "CQL_FILTER=(engn_code='00') and (acdnt_year between '2022' and '2022')  and (legaldong_code ilike '4146%') and (( acdnt_gae_code = '01') or ( acdnt_gae_code = '02') or ( acdnt_gae_code = '03') or ( acdnt_gae_code = '04')) and (( road_type = '6'))\n",
      "SRS=EPSG:5181\n",
      "BBOX=158057.29874295,388057.61998297,260329.29874295,447897.61998297\n",
      "WIDTH=1598\n",
      "HEIGHT=935\n",
      "bbox_text : 158057.29874295,388057.61998297,260329.29874295,447897.61998297\n"
     ]
    },
    {
     "name": "stderr",
     "output_type": "stream",
     "text": [
      "  1%|          | 221/33698 [03:48<9:37:44,  1.04s/it]"
     ]
    },
    {
     "name": "stdout",
     "output_type": "stream",
     "text": [
      "Debugging - src content: <selenium.webdriver.remote.webelement.WebElement (session=\"5b06b3d12ca3a76e5c613afa896de233\", element=\"9E340076E16B0B12E9EB60FAF1C429D4_element_103791\")>\n",
      "Debugging - src content: https://taas.koroad.or.kr/gis36/TAAS/wms?LAYERS=GNRL_GIS_ACDNT_INFO_NON&STYLES=&FORMAT=image/png&TRANSPARENT=TRUE&TILED=false&TILESORIGIN=-30000,-60000&PROJECTION=EPSG:5179&DISPLAYPROJECTION=EPSG:5181&TRANSFORM=EPSG:5181&SERVICE=WMS&VERSION=1.1.1&REQUEST=GetMap&CQL_FILTER=(engn_code='00') and (acdnt_year between '2022' and '2022')  and (legaldong_code ilike '4146%') and (( acdnt_gae_code = '01') or ( acdnt_gae_code = '02') or ( acdnt_gae_code = '03') or ( acdnt_gae_code = '04')) and (( road_type = '6'))&SRS=EPSG:5181&BBOX=161047.11031302,391159.66090729,263319.11031302,450999.66090729&WIDTH=1598&HEIGHT=935\n",
      "src_split : ['https://taas.koroad.or.kr/gis36/TAAS/wms?LAYERS=GNRL_GIS_ACDNT_INFO_NON', 'STYLES=', 'FORMAT=image/png', 'TRANSPARENT=TRUE', 'TILED=false', 'TILESORIGIN=-30000,-60000', 'PROJECTION=EPSG:5179', 'DISPLAYPROJECTION=EPSG:5181', 'TRANSFORM=EPSG:5181', 'SERVICE=WMS', 'VERSION=1.1.1', 'REQUEST=GetMap', \"CQL_FILTER=(engn_code='00') and (acdnt_year between '2022' and '2022')  and (legaldong_code ilike '4146%') and (( acdnt_gae_code = '01') or ( acdnt_gae_code = '02') or ( acdnt_gae_code = '03') or ( acdnt_gae_code = '04')) and (( road_type = '6'))\", 'SRS=EPSG:5181', 'BBOX=161047.11031302,391159.66090729,263319.11031302,450999.66090729', 'WIDTH=1598', 'HEIGHT=935']\n",
      "Debugging - src_split:\n",
      "https://taas.koroad.or.kr/gis36/TAAS/wms?LAYERS=GNRL_GIS_ACDNT_INFO_NON\n",
      "STYLES=\n",
      "FORMAT=image/png\n",
      "TRANSPARENT=TRUE\n",
      "TILED=false\n",
      "TILESORIGIN=-30000,-60000\n",
      "PROJECTION=EPSG:5179\n",
      "DISPLAYPROJECTION=EPSG:5181\n",
      "TRANSFORM=EPSG:5181\n",
      "SERVICE=WMS\n",
      "VERSION=1.1.1\n",
      "REQUEST=GetMap\n",
      "CQL_FILTER=(engn_code='00') and (acdnt_year between '2022' and '2022')  and (legaldong_code ilike '4146%') and (( acdnt_gae_code = '01') or ( acdnt_gae_code = '02') or ( acdnt_gae_code = '03') or ( acdnt_gae_code = '04')) and (( road_type = '6'))\n",
      "SRS=EPSG:5181\n",
      "BBOX=161047.11031302,391159.66090729,263319.11031302,450999.66090729\n",
      "WIDTH=1598\n",
      "HEIGHT=935\n",
      "bbox_text : 161047.11031302,391159.66090729,263319.11031302,450999.66090729\n"
     ]
    },
    {
     "name": "stderr",
     "output_type": "stream",
     "text": [
      "  1%|          | 222/33698 [03:49<9:37:47,  1.04s/it]"
     ]
    },
    {
     "name": "stdout",
     "output_type": "stream",
     "text": [
      "Debugging - src content: <selenium.webdriver.remote.webelement.WebElement (session=\"5b06b3d12ca3a76e5c613afa896de233\", element=\"9E340076E16B0B12E9EB60FAF1C429D4_element_104231\")>\n",
      "Debugging - src content: https://taas.koroad.or.kr/gis36/TAAS/wms?LAYERS=GNRL_GIS_ACDNT_INFO_NON&STYLES=&FORMAT=image/png&TRANSPARENT=TRUE&TILED=false&TILESORIGIN=-30000,-60000&PROJECTION=EPSG:5179&DISPLAYPROJECTION=EPSG:5181&TRANSFORM=EPSG:5181&SERVICE=WMS&VERSION=1.1.1&REQUEST=GetMap&CQL_FILTER=(engn_code='00') and (acdnt_year between '2022' and '2022')  and (legaldong_code ilike '4146%') and (( acdnt_gae_code = '01') or ( acdnt_gae_code = '02') or ( acdnt_gae_code = '03') or ( acdnt_gae_code = '04')) and (( road_type = '6'))&SRS=EPSG:5181&BBOX=154419.18093476,399909.09685381,256691.18093476,459749.09685381&WIDTH=1598&HEIGHT=935\n",
      "src_split : ['https://taas.koroad.or.kr/gis36/TAAS/wms?LAYERS=GNRL_GIS_ACDNT_INFO_NON', 'STYLES=', 'FORMAT=image/png', 'TRANSPARENT=TRUE', 'TILED=false', 'TILESORIGIN=-30000,-60000', 'PROJECTION=EPSG:5179', 'DISPLAYPROJECTION=EPSG:5181', 'TRANSFORM=EPSG:5181', 'SERVICE=WMS', 'VERSION=1.1.1', 'REQUEST=GetMap', \"CQL_FILTER=(engn_code='00') and (acdnt_year between '2022' and '2022')  and (legaldong_code ilike '4146%') and (( acdnt_gae_code = '01') or ( acdnt_gae_code = '02') or ( acdnt_gae_code = '03') or ( acdnt_gae_code = '04')) and (( road_type = '6'))\", 'SRS=EPSG:5181', 'BBOX=154419.18093476,399909.09685381,256691.18093476,459749.09685381', 'WIDTH=1598', 'HEIGHT=935']\n",
      "Debugging - src_split:\n",
      "https://taas.koroad.or.kr/gis36/TAAS/wms?LAYERS=GNRL_GIS_ACDNT_INFO_NON\n",
      "STYLES=\n",
      "FORMAT=image/png\n",
      "TRANSPARENT=TRUE\n",
      "TILED=false\n",
      "TILESORIGIN=-30000,-60000\n",
      "PROJECTION=EPSG:5179\n",
      "DISPLAYPROJECTION=EPSG:5181\n",
      "TRANSFORM=EPSG:5181\n",
      "SERVICE=WMS\n",
      "VERSION=1.1.1\n",
      "REQUEST=GetMap\n",
      "CQL_FILTER=(engn_code='00') and (acdnt_year between '2022' and '2022')  and (legaldong_code ilike '4146%') and (( acdnt_gae_code = '01') or ( acdnt_gae_code = '02') or ( acdnt_gae_code = '03') or ( acdnt_gae_code = '04')) and (( road_type = '6'))\n",
      "SRS=EPSG:5181\n",
      "BBOX=154419.18093476,399909.09685381,256691.18093476,459749.09685381\n",
      "WIDTH=1598\n",
      "HEIGHT=935\n",
      "bbox_text : 154419.18093476,399909.09685381,256691.18093476,459749.09685381\n"
     ]
    },
    {
     "name": "stderr",
     "output_type": "stream",
     "text": [
      "  1%|          | 223/33698 [03:50<9:38:40,  1.04s/it]"
     ]
    },
    {
     "name": "stdout",
     "output_type": "stream",
     "text": [
      "Debugging - src content: <selenium.webdriver.remote.webelement.WebElement (session=\"5b06b3d12ca3a76e5c613afa896de233\", element=\"9E340076E16B0B12E9EB60FAF1C429D4_element_104681\")>\n",
      "Debugging - src content: https://taas.koroad.or.kr/gis36/TAAS/wms?LAYERS=GNRL_GIS_ACDNT_INFO_NON&STYLES=&FORMAT=image/png&TRANSPARENT=TRUE&TILED=false&TILESORIGIN=-30000,-60000&PROJECTION=EPSG:5179&DISPLAYPROJECTION=EPSG:5181&TRANSFORM=EPSG:5181&SERVICE=WMS&VERSION=1.1.1&REQUEST=GetMap&CQL_FILTER=(engn_code='00') and (acdnt_year between '2022' and '2022')  and (legaldong_code ilike '4146%') and (( acdnt_gae_code = '01') or ( acdnt_gae_code = '02') or ( acdnt_gae_code = '03') or ( acdnt_gae_code = '04')) and (( road_type = '6'))&SRS=EPSG:5181&BBOX=162102.27984268,387043.57357655,264374.27984268,446883.57357655&WIDTH=1598&HEIGHT=935\n",
      "src_split : ['https://taas.koroad.or.kr/gis36/TAAS/wms?LAYERS=GNRL_GIS_ACDNT_INFO_NON', 'STYLES=', 'FORMAT=image/png', 'TRANSPARENT=TRUE', 'TILED=false', 'TILESORIGIN=-30000,-60000', 'PROJECTION=EPSG:5179', 'DISPLAYPROJECTION=EPSG:5181', 'TRANSFORM=EPSG:5181', 'SERVICE=WMS', 'VERSION=1.1.1', 'REQUEST=GetMap', \"CQL_FILTER=(engn_code='00') and (acdnt_year between '2022' and '2022')  and (legaldong_code ilike '4146%') and (( acdnt_gae_code = '01') or ( acdnt_gae_code = '02') or ( acdnt_gae_code = '03') or ( acdnt_gae_code = '04')) and (( road_type = '6'))\", 'SRS=EPSG:5181', 'BBOX=162102.27984268,387043.57357655,264374.27984268,446883.57357655', 'WIDTH=1598', 'HEIGHT=935']\n",
      "Debugging - src_split:\n",
      "https://taas.koroad.or.kr/gis36/TAAS/wms?LAYERS=GNRL_GIS_ACDNT_INFO_NON\n",
      "STYLES=\n",
      "FORMAT=image/png\n",
      "TRANSPARENT=TRUE\n",
      "TILED=false\n",
      "TILESORIGIN=-30000,-60000\n",
      "PROJECTION=EPSG:5179\n",
      "DISPLAYPROJECTION=EPSG:5181\n",
      "TRANSFORM=EPSG:5181\n",
      "SERVICE=WMS\n",
      "VERSION=1.1.1\n",
      "REQUEST=GetMap\n",
      "CQL_FILTER=(engn_code='00') and (acdnt_year between '2022' and '2022')  and (legaldong_code ilike '4146%') and (( acdnt_gae_code = '01') or ( acdnt_gae_code = '02') or ( acdnt_gae_code = '03') or ( acdnt_gae_code = '04')) and (( road_type = '6'))\n",
      "SRS=EPSG:5181\n",
      "BBOX=162102.27984268,387043.57357655,264374.27984268,446883.57357655\n",
      "WIDTH=1598\n",
      "HEIGHT=935\n",
      "bbox_text : 162102.27984268,387043.57357655,264374.27984268,446883.57357655\n"
     ]
    },
    {
     "name": "stderr",
     "output_type": "stream",
     "text": [
      "  1%|          | 224/33698 [03:51<9:38:10,  1.04s/it]"
     ]
    },
    {
     "name": "stdout",
     "output_type": "stream",
     "text": [
      "Debugging - src content: <selenium.webdriver.remote.webelement.WebElement (session=\"5b06b3d12ca3a76e5c613afa896de233\", element=\"9E340076E16B0B12E9EB60FAF1C429D4_element_105131\")>\n",
      "Debugging - src content: https://taas.koroad.or.kr/gis36/TAAS/wms?LAYERS=GNRL_GIS_ACDNT_INFO_NON&STYLES=&FORMAT=image/png&TRANSPARENT=TRUE&TILED=false&TILESORIGIN=-30000,-60000&PROJECTION=EPSG:5179&DISPLAYPROJECTION=EPSG:5181&TRANSFORM=EPSG:5181&SERVICE=WMS&VERSION=1.1.1&REQUEST=GetMap&CQL_FILTER=(engn_code='00') and (acdnt_year between '2022' and '2022')  and (legaldong_code ilike '4146%') and (( acdnt_gae_code = '01') or ( acdnt_gae_code = '02') or ( acdnt_gae_code = '03') or ( acdnt_gae_code = '04')) and (( road_type = '6'))&SRS=EPSG:5181&BBOX=157688.1955551,391266.95234409,259960.1955551,451106.95234409&WIDTH=1598&HEIGHT=935\n",
      "src_split : ['https://taas.koroad.or.kr/gis36/TAAS/wms?LAYERS=GNRL_GIS_ACDNT_INFO_NON', 'STYLES=', 'FORMAT=image/png', 'TRANSPARENT=TRUE', 'TILED=false', 'TILESORIGIN=-30000,-60000', 'PROJECTION=EPSG:5179', 'DISPLAYPROJECTION=EPSG:5181', 'TRANSFORM=EPSG:5181', 'SERVICE=WMS', 'VERSION=1.1.1', 'REQUEST=GetMap', \"CQL_FILTER=(engn_code='00') and (acdnt_year between '2022' and '2022')  and (legaldong_code ilike '4146%') and (( acdnt_gae_code = '01') or ( acdnt_gae_code = '02') or ( acdnt_gae_code = '03') or ( acdnt_gae_code = '04')) and (( road_type = '6'))\", 'SRS=EPSG:5181', 'BBOX=157688.1955551,391266.95234409,259960.1955551,451106.95234409', 'WIDTH=1598', 'HEIGHT=935']\n",
      "Debugging - src_split:\n",
      "https://taas.koroad.or.kr/gis36/TAAS/wms?LAYERS=GNRL_GIS_ACDNT_INFO_NON\n",
      "STYLES=\n",
      "FORMAT=image/png\n",
      "TRANSPARENT=TRUE\n",
      "TILED=false\n",
      "TILESORIGIN=-30000,-60000\n",
      "PROJECTION=EPSG:5179\n",
      "DISPLAYPROJECTION=EPSG:5181\n",
      "TRANSFORM=EPSG:5181\n",
      "SERVICE=WMS\n",
      "VERSION=1.1.1\n",
      "REQUEST=GetMap\n",
      "CQL_FILTER=(engn_code='00') and (acdnt_year between '2022' and '2022')  and (legaldong_code ilike '4146%') and (( acdnt_gae_code = '01') or ( acdnt_gae_code = '02') or ( acdnt_gae_code = '03') or ( acdnt_gae_code = '04')) and (( road_type = '6'))\n",
      "SRS=EPSG:5181\n",
      "BBOX=157688.1955551,391266.95234409,259960.1955551,451106.95234409\n",
      "WIDTH=1598\n",
      "HEIGHT=935\n",
      "bbox_text : 157688.1955551,391266.95234409,259960.1955551,451106.95234409\n"
     ]
    },
    {
     "name": "stderr",
     "output_type": "stream",
     "text": [
      "  1%|          | 225/33698 [03:53<9:36:58,  1.03s/it]"
     ]
    },
    {
     "name": "stdout",
     "output_type": "stream",
     "text": [
      "Debugging - src content: <selenium.webdriver.remote.webelement.WebElement (session=\"5b06b3d12ca3a76e5c613afa896de233\", element=\"9E340076E16B0B12E9EB60FAF1C429D4_element_105571\")>\n",
      "Debugging - src content: https://taas.koroad.or.kr/gis36/TAAS/wms?LAYERS=GNRL_GIS_ACDNT_INFO_NON&STYLES=&FORMAT=image/png&TRANSPARENT=TRUE&TILED=false&TILESORIGIN=-30000,-60000&PROJECTION=EPSG:5179&DISPLAYPROJECTION=EPSG:5181&TRANSFORM=EPSG:5181&SERVICE=WMS&VERSION=1.1.1&REQUEST=GetMap&CQL_FILTER=(engn_code='00') and (acdnt_year between '2022' and '2022')  and (legaldong_code ilike '4146%') and (( acdnt_gae_code = '01') or ( acdnt_gae_code = '02') or ( acdnt_gae_code = '03') or ( acdnt_gae_code = '04')) and (( road_type = '6'))&SRS=EPSG:5181&BBOX=158062.67682227,390825.75508034,260334.67682227,450665.75508034&WIDTH=1598&HEIGHT=935\n",
      "src_split : ['https://taas.koroad.or.kr/gis36/TAAS/wms?LAYERS=GNRL_GIS_ACDNT_INFO_NON', 'STYLES=', 'FORMAT=image/png', 'TRANSPARENT=TRUE', 'TILED=false', 'TILESORIGIN=-30000,-60000', 'PROJECTION=EPSG:5179', 'DISPLAYPROJECTION=EPSG:5181', 'TRANSFORM=EPSG:5181', 'SERVICE=WMS', 'VERSION=1.1.1', 'REQUEST=GetMap', \"CQL_FILTER=(engn_code='00') and (acdnt_year between '2022' and '2022')  and (legaldong_code ilike '4146%') and (( acdnt_gae_code = '01') or ( acdnt_gae_code = '02') or ( acdnt_gae_code = '03') or ( acdnt_gae_code = '04')) and (( road_type = '6'))\", 'SRS=EPSG:5181', 'BBOX=158062.67682227,390825.75508034,260334.67682227,450665.75508034', 'WIDTH=1598', 'HEIGHT=935']\n",
      "Debugging - src_split:\n",
      "https://taas.koroad.or.kr/gis36/TAAS/wms?LAYERS=GNRL_GIS_ACDNT_INFO_NON\n",
      "STYLES=\n",
      "FORMAT=image/png\n",
      "TRANSPARENT=TRUE\n",
      "TILED=false\n",
      "TILESORIGIN=-30000,-60000\n",
      "PROJECTION=EPSG:5179\n",
      "DISPLAYPROJECTION=EPSG:5181\n",
      "TRANSFORM=EPSG:5181\n",
      "SERVICE=WMS\n",
      "VERSION=1.1.1\n",
      "REQUEST=GetMap\n",
      "CQL_FILTER=(engn_code='00') and (acdnt_year between '2022' and '2022')  and (legaldong_code ilike '4146%') and (( acdnt_gae_code = '01') or ( acdnt_gae_code = '02') or ( acdnt_gae_code = '03') or ( acdnt_gae_code = '04')) and (( road_type = '6'))\n",
      "SRS=EPSG:5181\n",
      "BBOX=158062.67682227,390825.75508034,260334.67682227,450665.75508034\n",
      "WIDTH=1598\n",
      "HEIGHT=935\n",
      "bbox_text : 158062.67682227,390825.75508034,260334.67682227,450665.75508034\n"
     ]
    },
    {
     "name": "stderr",
     "output_type": "stream",
     "text": [
      "  1%|          | 226/33698 [03:54<9:36:45,  1.03s/it]"
     ]
    },
    {
     "name": "stdout",
     "output_type": "stream",
     "text": [
      "Debugging - src content: <selenium.webdriver.remote.webelement.WebElement (session=\"5b06b3d12ca3a76e5c613afa896de233\", element=\"9E340076E16B0B12E9EB60FAF1C429D4_element_106011\")>\n",
      "Debugging - src content: https://taas.koroad.or.kr/gis36/TAAS/wms?LAYERS=GNRL_GIS_ACDNT_INFO_NON&STYLES=&FORMAT=image/png&TRANSPARENT=TRUE&TILED=false&TILESORIGIN=-30000,-60000&PROJECTION=EPSG:5179&DISPLAYPROJECTION=EPSG:5181&TRANSFORM=EPSG:5181&SERVICE=WMS&VERSION=1.1.1&REQUEST=GetMap&CQL_FILTER=(engn_code='00') and (acdnt_year between '2022' and '2022')  and (legaldong_code ilike '4146%') and (( acdnt_gae_code = '01') or ( acdnt_gae_code = '02') or ( acdnt_gae_code = '03') or ( acdnt_gae_code = '04')) and (( road_type = '6'))&SRS=EPSG:5181&BBOX=153918.45002156,395285.61780076,256190.45002156,455125.61780076&WIDTH=1598&HEIGHT=935\n",
      "src_split : ['https://taas.koroad.or.kr/gis36/TAAS/wms?LAYERS=GNRL_GIS_ACDNT_INFO_NON', 'STYLES=', 'FORMAT=image/png', 'TRANSPARENT=TRUE', 'TILED=false', 'TILESORIGIN=-30000,-60000', 'PROJECTION=EPSG:5179', 'DISPLAYPROJECTION=EPSG:5181', 'TRANSFORM=EPSG:5181', 'SERVICE=WMS', 'VERSION=1.1.1', 'REQUEST=GetMap', \"CQL_FILTER=(engn_code='00') and (acdnt_year between '2022' and '2022')  and (legaldong_code ilike '4146%') and (( acdnt_gae_code = '01') or ( acdnt_gae_code = '02') or ( acdnt_gae_code = '03') or ( acdnt_gae_code = '04')) and (( road_type = '6'))\", 'SRS=EPSG:5181', 'BBOX=153918.45002156,395285.61780076,256190.45002156,455125.61780076', 'WIDTH=1598', 'HEIGHT=935']\n",
      "Debugging - src_split:\n",
      "https://taas.koroad.or.kr/gis36/TAAS/wms?LAYERS=GNRL_GIS_ACDNT_INFO_NON\n",
      "STYLES=\n",
      "FORMAT=image/png\n",
      "TRANSPARENT=TRUE\n",
      "TILED=false\n",
      "TILESORIGIN=-30000,-60000\n",
      "PROJECTION=EPSG:5179\n",
      "DISPLAYPROJECTION=EPSG:5181\n",
      "TRANSFORM=EPSG:5181\n",
      "SERVICE=WMS\n",
      "VERSION=1.1.1\n",
      "REQUEST=GetMap\n",
      "CQL_FILTER=(engn_code='00') and (acdnt_year between '2022' and '2022')  and (legaldong_code ilike '4146%') and (( acdnt_gae_code = '01') or ( acdnt_gae_code = '02') or ( acdnt_gae_code = '03') or ( acdnt_gae_code = '04')) and (( road_type = '6'))\n",
      "SRS=EPSG:5181\n",
      "BBOX=153918.45002156,395285.61780076,256190.45002156,455125.61780076\n",
      "WIDTH=1598\n",
      "HEIGHT=935\n",
      "bbox_text : 153918.45002156,395285.61780076,256190.45002156,455125.61780076\n"
     ]
    },
    {
     "name": "stderr",
     "output_type": "stream",
     "text": [
      "  1%|          | 227/33698 [03:55<9:37:21,  1.03s/it]"
     ]
    },
    {
     "name": "stdout",
     "output_type": "stream",
     "text": [
      "Debugging - src content: <selenium.webdriver.remote.webelement.WebElement (session=\"5b06b3d12ca3a76e5c613afa896de233\", element=\"9E340076E16B0B12E9EB60FAF1C429D4_element_106468\")>\n",
      "Debugging - src content: https://taas.koroad.or.kr/gis36/TAAS/wms?LAYERS=GNRL_GIS_ACDNT_INFO_NON&STYLES=&FORMAT=image/png&TRANSPARENT=TRUE&TILED=false&TILESORIGIN=-30000,-60000&PROJECTION=EPSG:5179&DISPLAYPROJECTION=EPSG:5181&TRANSFORM=EPSG:5181&SERVICE=WMS&VERSION=1.1.1&REQUEST=GetMap&CQL_FILTER=(engn_code='00') and (acdnt_year between '2022' and '2022')  and (legaldong_code ilike '4146%') and (( acdnt_gae_code = '01') or ( acdnt_gae_code = '02') or ( acdnt_gae_code = '03') or ( acdnt_gae_code = '04')) and (( road_type = '6'))&SRS=EPSG:5181&BBOX=174553.70305008,385659.7425488,276825.70305008,445499.7425488&WIDTH=1598&HEIGHT=935\n",
      "src_split : ['https://taas.koroad.or.kr/gis36/TAAS/wms?LAYERS=GNRL_GIS_ACDNT_INFO_NON', 'STYLES=', 'FORMAT=image/png', 'TRANSPARENT=TRUE', 'TILED=false', 'TILESORIGIN=-30000,-60000', 'PROJECTION=EPSG:5179', 'DISPLAYPROJECTION=EPSG:5181', 'TRANSFORM=EPSG:5181', 'SERVICE=WMS', 'VERSION=1.1.1', 'REQUEST=GetMap', \"CQL_FILTER=(engn_code='00') and (acdnt_year between '2022' and '2022')  and (legaldong_code ilike '4146%') and (( acdnt_gae_code = '01') or ( acdnt_gae_code = '02') or ( acdnt_gae_code = '03') or ( acdnt_gae_code = '04')) and (( road_type = '6'))\", 'SRS=EPSG:5181', 'BBOX=174553.70305008,385659.7425488,276825.70305008,445499.7425488', 'WIDTH=1598', 'HEIGHT=935']\n",
      "Debugging - src_split:\n",
      "https://taas.koroad.or.kr/gis36/TAAS/wms?LAYERS=GNRL_GIS_ACDNT_INFO_NON\n",
      "STYLES=\n",
      "FORMAT=image/png\n",
      "TRANSPARENT=TRUE\n",
      "TILED=false\n",
      "TILESORIGIN=-30000,-60000\n",
      "PROJECTION=EPSG:5179\n",
      "DISPLAYPROJECTION=EPSG:5181\n",
      "TRANSFORM=EPSG:5181\n",
      "SERVICE=WMS\n",
      "VERSION=1.1.1\n",
      "REQUEST=GetMap\n",
      "CQL_FILTER=(engn_code='00') and (acdnt_year between '2022' and '2022')  and (legaldong_code ilike '4146%') and (( acdnt_gae_code = '01') or ( acdnt_gae_code = '02') or ( acdnt_gae_code = '03') or ( acdnt_gae_code = '04')) and (( road_type = '6'))\n",
      "SRS=EPSG:5181\n",
      "BBOX=174553.70305008,385659.7425488,276825.70305008,445499.7425488\n",
      "WIDTH=1598\n",
      "HEIGHT=935\n",
      "bbox_text : 174553.70305008,385659.7425488,276825.70305008,445499.7425488\n"
     ]
    },
    {
     "name": "stderr",
     "output_type": "stream",
     "text": [
      "  1%|          | 228/33698 [03:56<9:37:18,  1.03s/it]"
     ]
    },
    {
     "name": "stdout",
     "output_type": "stream",
     "text": [
      "Debugging - src content: <selenium.webdriver.remote.webelement.WebElement (session=\"5b06b3d12ca3a76e5c613afa896de233\", element=\"9E340076E16B0B12E9EB60FAF1C429D4_element_106908\")>\n",
      "Debugging - src content: https://taas.koroad.or.kr/gis36/TAAS/wms?LAYERS=GNRL_GIS_ACDNT_INFO_NON&STYLES=&FORMAT=image/png&TRANSPARENT=TRUE&TILED=false&TILESORIGIN=-30000,-60000&PROJECTION=EPSG:5179&DISPLAYPROJECTION=EPSG:5181&TRANSFORM=EPSG:5181&SERVICE=WMS&VERSION=1.1.1&REQUEST=GetMap&CQL_FILTER=(engn_code='00') and (acdnt_year between '2022' and '2022')  and (legaldong_code ilike '4146%') and (( acdnt_gae_code = '01') or ( acdnt_gae_code = '02') or ( acdnt_gae_code = '03') or ( acdnt_gae_code = '04')) and (( road_type = '6'))&SRS=EPSG:5181&BBOX=166189.87967061,388380.70385855,268461.87967061,448220.70385855&WIDTH=1598&HEIGHT=935\n",
      "src_split : ['https://taas.koroad.or.kr/gis36/TAAS/wms?LAYERS=GNRL_GIS_ACDNT_INFO_NON', 'STYLES=', 'FORMAT=image/png', 'TRANSPARENT=TRUE', 'TILED=false', 'TILESORIGIN=-30000,-60000', 'PROJECTION=EPSG:5179', 'DISPLAYPROJECTION=EPSG:5181', 'TRANSFORM=EPSG:5181', 'SERVICE=WMS', 'VERSION=1.1.1', 'REQUEST=GetMap', \"CQL_FILTER=(engn_code='00') and (acdnt_year between '2022' and '2022')  and (legaldong_code ilike '4146%') and (( acdnt_gae_code = '01') or ( acdnt_gae_code = '02') or ( acdnt_gae_code = '03') or ( acdnt_gae_code = '04')) and (( road_type = '6'))\", 'SRS=EPSG:5181', 'BBOX=166189.87967061,388380.70385855,268461.87967061,448220.70385855', 'WIDTH=1598', 'HEIGHT=935']\n",
      "Debugging - src_split:\n",
      "https://taas.koroad.or.kr/gis36/TAAS/wms?LAYERS=GNRL_GIS_ACDNT_INFO_NON\n",
      "STYLES=\n",
      "FORMAT=image/png\n",
      "TRANSPARENT=TRUE\n",
      "TILED=false\n",
      "TILESORIGIN=-30000,-60000\n",
      "PROJECTION=EPSG:5179\n",
      "DISPLAYPROJECTION=EPSG:5181\n",
      "TRANSFORM=EPSG:5181\n",
      "SERVICE=WMS\n",
      "VERSION=1.1.1\n",
      "REQUEST=GetMap\n",
      "CQL_FILTER=(engn_code='00') and (acdnt_year between '2022' and '2022')  and (legaldong_code ilike '4146%') and (( acdnt_gae_code = '01') or ( acdnt_gae_code = '02') or ( acdnt_gae_code = '03') or ( acdnt_gae_code = '04')) and (( road_type = '6'))\n",
      "SRS=EPSG:5181\n",
      "BBOX=166189.87967061,388380.70385855,268461.87967061,448220.70385855\n",
      "WIDTH=1598\n",
      "HEIGHT=935\n",
      "bbox_text : 166189.87967061,388380.70385855,268461.87967061,448220.70385855\n"
     ]
    },
    {
     "name": "stderr",
     "output_type": "stream",
     "text": [
      "  1%|          | 229/33698 [03:57<9:37:59,  1.04s/it]"
     ]
    },
    {
     "name": "stdout",
     "output_type": "stream",
     "text": [
      "Debugging - src content: <selenium.webdriver.remote.webelement.WebElement (session=\"5b06b3d12ca3a76e5c613afa896de233\", element=\"9E340076E16B0B12E9EB60FAF1C429D4_element_107365\")>\n",
      "Debugging - src content: https://taas.koroad.or.kr/gis36/TAAS/wms?LAYERS=GNRL_GIS_ACDNT_INFO_NON&STYLES=&FORMAT=image/png&TRANSPARENT=TRUE&TILED=false&TILESORIGIN=-30000,-60000&PROJECTION=EPSG:5179&DISPLAYPROJECTION=EPSG:5181&TRANSFORM=EPSG:5181&SERVICE=WMS&VERSION=1.1.1&REQUEST=GetMap&CQL_FILTER=(engn_code='00') and (acdnt_year between '2022' and '2022')  and (legaldong_code ilike '4146%') and (( acdnt_gae_code = '01') or ( acdnt_gae_code = '02') or ( acdnt_gae_code = '03') or ( acdnt_gae_code = '04')) and (( road_type = '6'))&SRS=EPSG:5181&BBOX=158044.04899339,395104.36728851,260316.04899339,454944.36728851&WIDTH=1598&HEIGHT=935\n",
      "src_split : ['https://taas.koroad.or.kr/gis36/TAAS/wms?LAYERS=GNRL_GIS_ACDNT_INFO_NON', 'STYLES=', 'FORMAT=image/png', 'TRANSPARENT=TRUE', 'TILED=false', 'TILESORIGIN=-30000,-60000', 'PROJECTION=EPSG:5179', 'DISPLAYPROJECTION=EPSG:5181', 'TRANSFORM=EPSG:5181', 'SERVICE=WMS', 'VERSION=1.1.1', 'REQUEST=GetMap', \"CQL_FILTER=(engn_code='00') and (acdnt_year between '2022' and '2022')  and (legaldong_code ilike '4146%') and (( acdnt_gae_code = '01') or ( acdnt_gae_code = '02') or ( acdnt_gae_code = '03') or ( acdnt_gae_code = '04')) and (( road_type = '6'))\", 'SRS=EPSG:5181', 'BBOX=158044.04899339,395104.36728851,260316.04899339,454944.36728851', 'WIDTH=1598', 'HEIGHT=935']\n",
      "Debugging - src_split:\n",
      "https://taas.koroad.or.kr/gis36/TAAS/wms?LAYERS=GNRL_GIS_ACDNT_INFO_NON\n",
      "STYLES=\n",
      "FORMAT=image/png\n",
      "TRANSPARENT=TRUE\n",
      "TILED=false\n",
      "TILESORIGIN=-30000,-60000\n",
      "PROJECTION=EPSG:5179\n",
      "DISPLAYPROJECTION=EPSG:5181\n",
      "TRANSFORM=EPSG:5181\n",
      "SERVICE=WMS\n",
      "VERSION=1.1.1\n",
      "REQUEST=GetMap\n",
      "CQL_FILTER=(engn_code='00') and (acdnt_year between '2022' and '2022')  and (legaldong_code ilike '4146%') and (( acdnt_gae_code = '01') or ( acdnt_gae_code = '02') or ( acdnt_gae_code = '03') or ( acdnt_gae_code = '04')) and (( road_type = '6'))\n",
      "SRS=EPSG:5181\n",
      "BBOX=158044.04899339,395104.36728851,260316.04899339,454944.36728851\n",
      "WIDTH=1598\n",
      "HEIGHT=935\n",
      "bbox_text : 158044.04899339,395104.36728851,260316.04899339,454944.36728851\n"
     ]
    },
    {
     "name": "stderr",
     "output_type": "stream",
     "text": [
      "  1%|          | 230/33698 [03:58<9:37:56,  1.04s/it]"
     ]
    },
    {
     "name": "stdout",
     "output_type": "stream",
     "text": [
      "Debugging - src content: <selenium.webdriver.remote.webelement.WebElement (session=\"5b06b3d12ca3a76e5c613afa896de233\", element=\"9E340076E16B0B12E9EB60FAF1C429D4_element_107805\")>\n",
      "Debugging - src content: https://taas.koroad.or.kr/gis36/TAAS/wms?LAYERS=GNRL_GIS_ACDNT_INFO_NON&STYLES=&FORMAT=image/png&TRANSPARENT=TRUE&TILED=false&TILESORIGIN=-30000,-60000&PROJECTION=EPSG:5179&DISPLAYPROJECTION=EPSG:5181&TRANSFORM=EPSG:5181&SERVICE=WMS&VERSION=1.1.1&REQUEST=GetMap&CQL_FILTER=(engn_code='00') and (acdnt_year between '2022' and '2022')  and (legaldong_code ilike '4146%') and (( acdnt_gae_code = '01') or ( acdnt_gae_code = '02') or ( acdnt_gae_code = '03') or ( acdnt_gae_code = '04')) and (( road_type = '6'))&SRS=EPSG:5181&BBOX=157756.8077713,389074.43911411,260028.8077713,448914.43911411&WIDTH=1598&HEIGHT=935\n",
      "src_split : ['https://taas.koroad.or.kr/gis36/TAAS/wms?LAYERS=GNRL_GIS_ACDNT_INFO_NON', 'STYLES=', 'FORMAT=image/png', 'TRANSPARENT=TRUE', 'TILED=false', 'TILESORIGIN=-30000,-60000', 'PROJECTION=EPSG:5179', 'DISPLAYPROJECTION=EPSG:5181', 'TRANSFORM=EPSG:5181', 'SERVICE=WMS', 'VERSION=1.1.1', 'REQUEST=GetMap', \"CQL_FILTER=(engn_code='00') and (acdnt_year between '2022' and '2022')  and (legaldong_code ilike '4146%') and (( acdnt_gae_code = '01') or ( acdnt_gae_code = '02') or ( acdnt_gae_code = '03') or ( acdnt_gae_code = '04')) and (( road_type = '6'))\", 'SRS=EPSG:5181', 'BBOX=157756.8077713,389074.43911411,260028.8077713,448914.43911411', 'WIDTH=1598', 'HEIGHT=935']\n",
      "Debugging - src_split:\n",
      "https://taas.koroad.or.kr/gis36/TAAS/wms?LAYERS=GNRL_GIS_ACDNT_INFO_NON\n",
      "STYLES=\n",
      "FORMAT=image/png\n",
      "TRANSPARENT=TRUE\n",
      "TILED=false\n",
      "TILESORIGIN=-30000,-60000\n",
      "PROJECTION=EPSG:5179\n",
      "DISPLAYPROJECTION=EPSG:5181\n",
      "TRANSFORM=EPSG:5181\n",
      "SERVICE=WMS\n",
      "VERSION=1.1.1\n",
      "REQUEST=GetMap\n",
      "CQL_FILTER=(engn_code='00') and (acdnt_year between '2022' and '2022')  and (legaldong_code ilike '4146%') and (( acdnt_gae_code = '01') or ( acdnt_gae_code = '02') or ( acdnt_gae_code = '03') or ( acdnt_gae_code = '04')) and (( road_type = '6'))\n",
      "SRS=EPSG:5181\n",
      "BBOX=157756.8077713,389074.43911411,260028.8077713,448914.43911411\n",
      "WIDTH=1598\n",
      "HEIGHT=935\n",
      "bbox_text : 157756.8077713,389074.43911411,260028.8077713,448914.43911411\n"
     ]
    },
    {
     "name": "stderr",
     "output_type": "stream",
     "text": [
      "  1%|          | 231/33698 [03:59<9:37:04,  1.03s/it]"
     ]
    },
    {
     "name": "stdout",
     "output_type": "stream",
     "text": [
      "Debugging - src content: <selenium.webdriver.remote.webelement.WebElement (session=\"5b06b3d12ca3a76e5c613afa896de233\", element=\"9E340076E16B0B12E9EB60FAF1C429D4_element_108245\")>\n",
      "Debugging - src content: https://taas.koroad.or.kr/gis36/TAAS/wms?LAYERS=GNRL_GIS_ACDNT_INFO_NON&STYLES=&FORMAT=image/png&TRANSPARENT=TRUE&TILED=false&TILESORIGIN=-30000,-60000&PROJECTION=EPSG:5179&DISPLAYPROJECTION=EPSG:5181&TRANSFORM=EPSG:5181&SERVICE=WMS&VERSION=1.1.1&REQUEST=GetMap&CQL_FILTER=(engn_code='00') and (acdnt_year between '2022' and '2022')  and (legaldong_code ilike '4146%') and (( acdnt_gae_code = '01') or ( acdnt_gae_code = '02') or ( acdnt_gae_code = '03') or ( acdnt_gae_code = '04')) and (( road_type = '6'))&SRS=EPSG:5181&BBOX=158060.39935839,390499.61265085,260332.39935839,450339.61265085&WIDTH=1598&HEIGHT=935\n",
      "src_split : ['https://taas.koroad.or.kr/gis36/TAAS/wms?LAYERS=GNRL_GIS_ACDNT_INFO_NON', 'STYLES=', 'FORMAT=image/png', 'TRANSPARENT=TRUE', 'TILED=false', 'TILESORIGIN=-30000,-60000', 'PROJECTION=EPSG:5179', 'DISPLAYPROJECTION=EPSG:5181', 'TRANSFORM=EPSG:5181', 'SERVICE=WMS', 'VERSION=1.1.1', 'REQUEST=GetMap', \"CQL_FILTER=(engn_code='00') and (acdnt_year between '2022' and '2022')  and (legaldong_code ilike '4146%') and (( acdnt_gae_code = '01') or ( acdnt_gae_code = '02') or ( acdnt_gae_code = '03') or ( acdnt_gae_code = '04')) and (( road_type = '6'))\", 'SRS=EPSG:5181', 'BBOX=158060.39935839,390499.61265085,260332.39935839,450339.61265085', 'WIDTH=1598', 'HEIGHT=935']\n",
      "Debugging - src_split:\n",
      "https://taas.koroad.or.kr/gis36/TAAS/wms?LAYERS=GNRL_GIS_ACDNT_INFO_NON\n",
      "STYLES=\n",
      "FORMAT=image/png\n",
      "TRANSPARENT=TRUE\n",
      "TILED=false\n",
      "TILESORIGIN=-30000,-60000\n",
      "PROJECTION=EPSG:5179\n",
      "DISPLAYPROJECTION=EPSG:5181\n",
      "TRANSFORM=EPSG:5181\n",
      "SERVICE=WMS\n",
      "VERSION=1.1.1\n",
      "REQUEST=GetMap\n",
      "CQL_FILTER=(engn_code='00') and (acdnt_year between '2022' and '2022')  and (legaldong_code ilike '4146%') and (( acdnt_gae_code = '01') or ( acdnt_gae_code = '02') or ( acdnt_gae_code = '03') or ( acdnt_gae_code = '04')) and (( road_type = '6'))\n",
      "SRS=EPSG:5181\n",
      "BBOX=158060.39935839,390499.61265085,260332.39935839,450339.61265085\n",
      "WIDTH=1598\n",
      "HEIGHT=935\n",
      "bbox_text : 158060.39935839,390499.61265085,260332.39935839,450339.61265085\n"
     ]
    },
    {
     "name": "stderr",
     "output_type": "stream",
     "text": [
      "  1%|          | 232/33698 [04:00<9:36:03,  1.03s/it]"
     ]
    },
    {
     "name": "stdout",
     "output_type": "stream",
     "text": [
      "Debugging - src content: <selenium.webdriver.remote.webelement.WebElement (session=\"5b06b3d12ca3a76e5c613afa896de233\", element=\"9E340076E16B0B12E9EB60FAF1C429D4_element_108685\")>\n",
      "Debugging - src content: https://taas.koroad.or.kr/gis36/TAAS/wms?LAYERS=GNRL_GIS_ACDNT_INFO_NON&STYLES=&FORMAT=image/png&TRANSPARENT=TRUE&TILED=false&TILESORIGIN=-30000,-60000&PROJECTION=EPSG:5179&DISPLAYPROJECTION=EPSG:5181&TRANSFORM=EPSG:5181&SERVICE=WMS&VERSION=1.1.1&REQUEST=GetMap&CQL_FILTER=(engn_code='00') and (acdnt_year between '2022' and '2022')  and (legaldong_code ilike '4146%') and (( acdnt_gae_code = '01') or ( acdnt_gae_code = '02') or ( acdnt_gae_code = '03') or ( acdnt_gae_code = '04')) and (( road_type = '6'))&SRS=EPSG:5181&BBOX=164074.65472226,390342.32883748,266346.65472226,450182.32883748&WIDTH=1598&HEIGHT=935\n",
      "src_split : ['https://taas.koroad.or.kr/gis36/TAAS/wms?LAYERS=GNRL_GIS_ACDNT_INFO_NON', 'STYLES=', 'FORMAT=image/png', 'TRANSPARENT=TRUE', 'TILED=false', 'TILESORIGIN=-30000,-60000', 'PROJECTION=EPSG:5179', 'DISPLAYPROJECTION=EPSG:5181', 'TRANSFORM=EPSG:5181', 'SERVICE=WMS', 'VERSION=1.1.1', 'REQUEST=GetMap', \"CQL_FILTER=(engn_code='00') and (acdnt_year between '2022' and '2022')  and (legaldong_code ilike '4146%') and (( acdnt_gae_code = '01') or ( acdnt_gae_code = '02') or ( acdnt_gae_code = '03') or ( acdnt_gae_code = '04')) and (( road_type = '6'))\", 'SRS=EPSG:5181', 'BBOX=164074.65472226,390342.32883748,266346.65472226,450182.32883748', 'WIDTH=1598', 'HEIGHT=935']\n",
      "Debugging - src_split:\n",
      "https://taas.koroad.or.kr/gis36/TAAS/wms?LAYERS=GNRL_GIS_ACDNT_INFO_NON\n",
      "STYLES=\n",
      "FORMAT=image/png\n",
      "TRANSPARENT=TRUE\n",
      "TILED=false\n",
      "TILESORIGIN=-30000,-60000\n",
      "PROJECTION=EPSG:5179\n",
      "DISPLAYPROJECTION=EPSG:5181\n",
      "TRANSFORM=EPSG:5181\n",
      "SERVICE=WMS\n",
      "VERSION=1.1.1\n",
      "REQUEST=GetMap\n",
      "CQL_FILTER=(engn_code='00') and (acdnt_year between '2022' and '2022')  and (legaldong_code ilike '4146%') and (( acdnt_gae_code = '01') or ( acdnt_gae_code = '02') or ( acdnt_gae_code = '03') or ( acdnt_gae_code = '04')) and (( road_type = '6'))\n",
      "SRS=EPSG:5181\n",
      "BBOX=164074.65472226,390342.32883748,266346.65472226,450182.32883748\n",
      "WIDTH=1598\n",
      "HEIGHT=935\n",
      "bbox_text : 164074.65472226,390342.32883748,266346.65472226,450182.32883748\n"
     ]
    },
    {
     "name": "stderr",
     "output_type": "stream",
     "text": [
      "  1%|          | 233/33698 [04:01<9:37:38,  1.04s/it]"
     ]
    },
    {
     "name": "stdout",
     "output_type": "stream",
     "text": [
      "Debugging - src content: <selenium.webdriver.remote.webelement.WebElement (session=\"5b06b3d12ca3a76e5c613afa896de233\", element=\"9E340076E16B0B12E9EB60FAF1C429D4_element_109145\")>\n",
      "Debugging - src content: https://taas.koroad.or.kr/gis36/TAAS/wms?LAYERS=GNRL_GIS_ACDNT_INFO_NON&STYLES=&FORMAT=image/png&TRANSPARENT=TRUE&TILED=false&TILESORIGIN=-30000,-60000&PROJECTION=EPSG:5179&DISPLAYPROJECTION=EPSG:5181&TRANSFORM=EPSG:5181&SERVICE=WMS&VERSION=1.1.1&REQUEST=GetMap&CQL_FILTER=(engn_code='00') and (acdnt_year between '2022' and '2022')  and (legaldong_code ilike '4146%') and (( acdnt_gae_code = '01') or ( acdnt_gae_code = '02') or ( acdnt_gae_code = '03') or ( acdnt_gae_code = '04')) and (( road_type = '6'))&SRS=EPSG:5181&BBOX=159329.69495399,370438.27342221,261601.69495399,430278.27342221&WIDTH=1598&HEIGHT=935\n",
      "src_split : ['https://taas.koroad.or.kr/gis36/TAAS/wms?LAYERS=GNRL_GIS_ACDNT_INFO_NON', 'STYLES=', 'FORMAT=image/png', 'TRANSPARENT=TRUE', 'TILED=false', 'TILESORIGIN=-30000,-60000', 'PROJECTION=EPSG:5179', 'DISPLAYPROJECTION=EPSG:5181', 'TRANSFORM=EPSG:5181', 'SERVICE=WMS', 'VERSION=1.1.1', 'REQUEST=GetMap', \"CQL_FILTER=(engn_code='00') and (acdnt_year between '2022' and '2022')  and (legaldong_code ilike '4146%') and (( acdnt_gae_code = '01') or ( acdnt_gae_code = '02') or ( acdnt_gae_code = '03') or ( acdnt_gae_code = '04')) and (( road_type = '6'))\", 'SRS=EPSG:5181', 'BBOX=159329.69495399,370438.27342221,261601.69495399,430278.27342221', 'WIDTH=1598', 'HEIGHT=935']\n",
      "Debugging - src_split:\n",
      "https://taas.koroad.or.kr/gis36/TAAS/wms?LAYERS=GNRL_GIS_ACDNT_INFO_NON\n",
      "STYLES=\n",
      "FORMAT=image/png\n",
      "TRANSPARENT=TRUE\n",
      "TILED=false\n",
      "TILESORIGIN=-30000,-60000\n",
      "PROJECTION=EPSG:5179\n",
      "DISPLAYPROJECTION=EPSG:5181\n",
      "TRANSFORM=EPSG:5181\n",
      "SERVICE=WMS\n",
      "VERSION=1.1.1\n",
      "REQUEST=GetMap\n",
      "CQL_FILTER=(engn_code='00') and (acdnt_year between '2022' and '2022')  and (legaldong_code ilike '4146%') and (( acdnt_gae_code = '01') or ( acdnt_gae_code = '02') or ( acdnt_gae_code = '03') or ( acdnt_gae_code = '04')) and (( road_type = '6'))\n",
      "SRS=EPSG:5181\n",
      "BBOX=159329.69495399,370438.27342221,261601.69495399,430278.27342221\n",
      "WIDTH=1598\n",
      "HEIGHT=935\n",
      "bbox_text : 159329.69495399,370438.27342221,261601.69495399,430278.27342221\n"
     ]
    },
    {
     "name": "stderr",
     "output_type": "stream",
     "text": [
      "  1%|          | 234/33698 [04:02<9:37:42,  1.04s/it]"
     ]
    },
    {
     "name": "stdout",
     "output_type": "stream",
     "text": [
      "Debugging - src content: <selenium.webdriver.remote.webelement.WebElement (session=\"5b06b3d12ca3a76e5c613afa896de233\", element=\"9E340076E16B0B12E9EB60FAF1C429D4_element_109595\")>\n",
      "Debugging - src content: https://taas.koroad.or.kr/gis36/TAAS/wms?LAYERS=GNRL_GIS_ACDNT_INFO_NON&STYLES=&FORMAT=image/png&TRANSPARENT=TRUE&TILED=false&TILESORIGIN=-30000,-60000&PROJECTION=EPSG:5179&DISPLAYPROJECTION=EPSG:5181&TRANSFORM=EPSG:5181&SERVICE=WMS&VERSION=1.1.1&REQUEST=GetMap&CQL_FILTER=(engn_code='00') and (acdnt_year between '2022' and '2022')  and (legaldong_code ilike '4146%') and (( acdnt_gae_code = '01') or ( acdnt_gae_code = '02') or ( acdnt_gae_code = '03') or ( acdnt_gae_code = '04')) and (( road_type = '6'))&SRS=EPSG:5181&BBOX=158357.42850931,384835.91615045,260629.42850931,444675.91615045&WIDTH=1598&HEIGHT=935\n",
      "src_split : ['https://taas.koroad.or.kr/gis36/TAAS/wms?LAYERS=GNRL_GIS_ACDNT_INFO_NON', 'STYLES=', 'FORMAT=image/png', 'TRANSPARENT=TRUE', 'TILED=false', 'TILESORIGIN=-30000,-60000', 'PROJECTION=EPSG:5179', 'DISPLAYPROJECTION=EPSG:5181', 'TRANSFORM=EPSG:5181', 'SERVICE=WMS', 'VERSION=1.1.1', 'REQUEST=GetMap', \"CQL_FILTER=(engn_code='00') and (acdnt_year between '2022' and '2022')  and (legaldong_code ilike '4146%') and (( acdnt_gae_code = '01') or ( acdnt_gae_code = '02') or ( acdnt_gae_code = '03') or ( acdnt_gae_code = '04')) and (( road_type = '6'))\", 'SRS=EPSG:5181', 'BBOX=158357.42850931,384835.91615045,260629.42850931,444675.91615045', 'WIDTH=1598', 'HEIGHT=935']\n",
      "Debugging - src_split:\n",
      "https://taas.koroad.or.kr/gis36/TAAS/wms?LAYERS=GNRL_GIS_ACDNT_INFO_NON\n",
      "STYLES=\n",
      "FORMAT=image/png\n",
      "TRANSPARENT=TRUE\n",
      "TILED=false\n",
      "TILESORIGIN=-30000,-60000\n",
      "PROJECTION=EPSG:5179\n",
      "DISPLAYPROJECTION=EPSG:5181\n",
      "TRANSFORM=EPSG:5181\n",
      "SERVICE=WMS\n",
      "VERSION=1.1.1\n",
      "REQUEST=GetMap\n",
      "CQL_FILTER=(engn_code='00') and (acdnt_year between '2022' and '2022')  and (legaldong_code ilike '4146%') and (( acdnt_gae_code = '01') or ( acdnt_gae_code = '02') or ( acdnt_gae_code = '03') or ( acdnt_gae_code = '04')) and (( road_type = '6'))\n",
      "SRS=EPSG:5181\n",
      "BBOX=158357.42850931,384835.91615045,260629.42850931,444675.91615045\n",
      "WIDTH=1598\n",
      "HEIGHT=935\n",
      "bbox_text : 158357.42850931,384835.91615045,260629.42850931,444675.91615045\n"
     ]
    },
    {
     "name": "stderr",
     "output_type": "stream",
     "text": [
      "  1%|          | 235/33698 [04:03<9:37:23,  1.04s/it]"
     ]
    },
    {
     "name": "stdout",
     "output_type": "stream",
     "text": [
      "Debugging - src content: <selenium.webdriver.remote.webelement.WebElement (session=\"5b06b3d12ca3a76e5c613afa896de233\", element=\"9E340076E16B0B12E9EB60FAF1C429D4_element_110045\")>\n",
      "Debugging - src content: https://taas.koroad.or.kr/gis36/TAAS/wms?LAYERS=GNRL_GIS_ACDNT_INFO_NON&STYLES=&FORMAT=image/png&TRANSPARENT=TRUE&TILED=false&TILESORIGIN=-30000,-60000&PROJECTION=EPSG:5179&DISPLAYPROJECTION=EPSG:5181&TRANSFORM=EPSG:5181&SERVICE=WMS&VERSION=1.1.1&REQUEST=GetMap&CQL_FILTER=(engn_code='00') and (acdnt_year between '2022' and '2022')  and (legaldong_code ilike '4146%') and (( acdnt_gae_code = '01') or ( acdnt_gae_code = '02') or ( acdnt_gae_code = '03') or ( acdnt_gae_code = '04')) and (( road_type = '6'))&SRS=EPSG:5181&BBOX=158075.63850446,390644.75120669,260347.63850446,450484.75120669&WIDTH=1598&HEIGHT=935\n",
      "src_split : ['https://taas.koroad.or.kr/gis36/TAAS/wms?LAYERS=GNRL_GIS_ACDNT_INFO_NON', 'STYLES=', 'FORMAT=image/png', 'TRANSPARENT=TRUE', 'TILED=false', 'TILESORIGIN=-30000,-60000', 'PROJECTION=EPSG:5179', 'DISPLAYPROJECTION=EPSG:5181', 'TRANSFORM=EPSG:5181', 'SERVICE=WMS', 'VERSION=1.1.1', 'REQUEST=GetMap', \"CQL_FILTER=(engn_code='00') and (acdnt_year between '2022' and '2022')  and (legaldong_code ilike '4146%') and (( acdnt_gae_code = '01') or ( acdnt_gae_code = '02') or ( acdnt_gae_code = '03') or ( acdnt_gae_code = '04')) and (( road_type = '6'))\", 'SRS=EPSG:5181', 'BBOX=158075.63850446,390644.75120669,260347.63850446,450484.75120669', 'WIDTH=1598', 'HEIGHT=935']\n",
      "Debugging - src_split:\n",
      "https://taas.koroad.or.kr/gis36/TAAS/wms?LAYERS=GNRL_GIS_ACDNT_INFO_NON\n",
      "STYLES=\n",
      "FORMAT=image/png\n",
      "TRANSPARENT=TRUE\n",
      "TILED=false\n",
      "TILESORIGIN=-30000,-60000\n",
      "PROJECTION=EPSG:5179\n",
      "DISPLAYPROJECTION=EPSG:5181\n",
      "TRANSFORM=EPSG:5181\n",
      "SERVICE=WMS\n",
      "VERSION=1.1.1\n",
      "REQUEST=GetMap\n",
      "CQL_FILTER=(engn_code='00') and (acdnt_year between '2022' and '2022')  and (legaldong_code ilike '4146%') and (( acdnt_gae_code = '01') or ( acdnt_gae_code = '02') or ( acdnt_gae_code = '03') or ( acdnt_gae_code = '04')) and (( road_type = '6'))\n",
      "SRS=EPSG:5181\n",
      "BBOX=158075.63850446,390644.75120669,260347.63850446,450484.75120669\n",
      "WIDTH=1598\n",
      "HEIGHT=935\n",
      "bbox_text : 158075.63850446,390644.75120669,260347.63850446,450484.75120669\n"
     ]
    },
    {
     "name": "stderr",
     "output_type": "stream",
     "text": [
      "  1%|          | 236/33698 [04:04<9:37:39,  1.04s/it]"
     ]
    },
    {
     "name": "stdout",
     "output_type": "stream",
     "text": [
      "Debugging - src content: <selenium.webdriver.remote.webelement.WebElement (session=\"5b06b3d12ca3a76e5c613afa896de233\", element=\"9E340076E16B0B12E9EB60FAF1C429D4_element_110495\")>\n",
      "Debugging - src content: https://taas.koroad.or.kr/gis36/TAAS/wms?LAYERS=GNRL_GIS_ACDNT_INFO_NON&STYLES=&FORMAT=image/png&TRANSPARENT=TRUE&TILED=false&TILESORIGIN=-30000,-60000&PROJECTION=EPSG:5179&DISPLAYPROJECTION=EPSG:5181&TRANSFORM=EPSG:5181&SERVICE=WMS&VERSION=1.1.1&REQUEST=GetMap&CQL_FILTER=(engn_code='00') and (acdnt_year between '2022' and '2022')  and (legaldong_code ilike '4146%') and (( acdnt_gae_code = '01') or ( acdnt_gae_code = '02') or ( acdnt_gae_code = '03') or ( acdnt_gae_code = '04')) and (( road_type = '6'))&SRS=EPSG:5181&BBOX=158113.26266172,384280.40535517,260385.26266172,444120.40535517&WIDTH=1598&HEIGHT=935\n",
      "src_split : ['https://taas.koroad.or.kr/gis36/TAAS/wms?LAYERS=GNRL_GIS_ACDNT_INFO_NON', 'STYLES=', 'FORMAT=image/png', 'TRANSPARENT=TRUE', 'TILED=false', 'TILESORIGIN=-30000,-60000', 'PROJECTION=EPSG:5179', 'DISPLAYPROJECTION=EPSG:5181', 'TRANSFORM=EPSG:5181', 'SERVICE=WMS', 'VERSION=1.1.1', 'REQUEST=GetMap', \"CQL_FILTER=(engn_code='00') and (acdnt_year between '2022' and '2022')  and (legaldong_code ilike '4146%') and (( acdnt_gae_code = '01') or ( acdnt_gae_code = '02') or ( acdnt_gae_code = '03') or ( acdnt_gae_code = '04')) and (( road_type = '6'))\", 'SRS=EPSG:5181', 'BBOX=158113.26266172,384280.40535517,260385.26266172,444120.40535517', 'WIDTH=1598', 'HEIGHT=935']\n",
      "Debugging - src_split:\n",
      "https://taas.koroad.or.kr/gis36/TAAS/wms?LAYERS=GNRL_GIS_ACDNT_INFO_NON\n",
      "STYLES=\n",
      "FORMAT=image/png\n",
      "TRANSPARENT=TRUE\n",
      "TILED=false\n",
      "TILESORIGIN=-30000,-60000\n",
      "PROJECTION=EPSG:5179\n",
      "DISPLAYPROJECTION=EPSG:5181\n",
      "TRANSFORM=EPSG:5181\n",
      "SERVICE=WMS\n",
      "VERSION=1.1.1\n",
      "REQUEST=GetMap\n",
      "CQL_FILTER=(engn_code='00') and (acdnt_year between '2022' and '2022')  and (legaldong_code ilike '4146%') and (( acdnt_gae_code = '01') or ( acdnt_gae_code = '02') or ( acdnt_gae_code = '03') or ( acdnt_gae_code = '04')) and (( road_type = '6'))\n",
      "SRS=EPSG:5181\n",
      "BBOX=158113.26266172,384280.40535517,260385.26266172,444120.40535517\n",
      "WIDTH=1598\n",
      "HEIGHT=935\n",
      "bbox_text : 158113.26266172,384280.40535517,260385.26266172,444120.40535517\n"
     ]
    },
    {
     "name": "stderr",
     "output_type": "stream",
     "text": [
      "  1%|          | 237/33698 [04:05<9:38:20,  1.04s/it]"
     ]
    },
    {
     "name": "stdout",
     "output_type": "stream",
     "text": [
      "Debugging - src content: <selenium.webdriver.remote.webelement.WebElement (session=\"5b06b3d12ca3a76e5c613afa896de233\", element=\"9E340076E16B0B12E9EB60FAF1C429D4_element_110945\")>\n",
      "Debugging - src content: https://taas.koroad.or.kr/gis36/TAAS/wms?LAYERS=GNRL_GIS_ACDNT_INFO_NON&STYLES=&FORMAT=image/png&TRANSPARENT=TRUE&TILED=false&TILESORIGIN=-30000,-60000&PROJECTION=EPSG:5179&DISPLAYPROJECTION=EPSG:5181&TRANSFORM=EPSG:5181&SERVICE=WMS&VERSION=1.1.1&REQUEST=GetMap&CQL_FILTER=(engn_code='00') and (acdnt_year between '2022' and '2022')  and (legaldong_code ilike '4146%') and (( acdnt_gae_code = '01') or ( acdnt_gae_code = '02') or ( acdnt_gae_code = '03') or ( acdnt_gae_code = '04')) and (( road_type = '6'))&SRS=EPSG:5181&BBOX=157292.13311095,391248.85193129,259564.13311095,451088.85193129&WIDTH=1598&HEIGHT=935\n",
      "src_split : ['https://taas.koroad.or.kr/gis36/TAAS/wms?LAYERS=GNRL_GIS_ACDNT_INFO_NON', 'STYLES=', 'FORMAT=image/png', 'TRANSPARENT=TRUE', 'TILED=false', 'TILESORIGIN=-30000,-60000', 'PROJECTION=EPSG:5179', 'DISPLAYPROJECTION=EPSG:5181', 'TRANSFORM=EPSG:5181', 'SERVICE=WMS', 'VERSION=1.1.1', 'REQUEST=GetMap', \"CQL_FILTER=(engn_code='00') and (acdnt_year between '2022' and '2022')  and (legaldong_code ilike '4146%') and (( acdnt_gae_code = '01') or ( acdnt_gae_code = '02') or ( acdnt_gae_code = '03') or ( acdnt_gae_code = '04')) and (( road_type = '6'))\", 'SRS=EPSG:5181', 'BBOX=157292.13311095,391248.85193129,259564.13311095,451088.85193129', 'WIDTH=1598', 'HEIGHT=935']\n",
      "Debugging - src_split:\n",
      "https://taas.koroad.or.kr/gis36/TAAS/wms?LAYERS=GNRL_GIS_ACDNT_INFO_NON\n",
      "STYLES=\n",
      "FORMAT=image/png\n",
      "TRANSPARENT=TRUE\n",
      "TILED=false\n",
      "TILESORIGIN=-30000,-60000\n",
      "PROJECTION=EPSG:5179\n",
      "DISPLAYPROJECTION=EPSG:5181\n",
      "TRANSFORM=EPSG:5181\n",
      "SERVICE=WMS\n",
      "VERSION=1.1.1\n",
      "REQUEST=GetMap\n",
      "CQL_FILTER=(engn_code='00') and (acdnt_year between '2022' and '2022')  and (legaldong_code ilike '4146%') and (( acdnt_gae_code = '01') or ( acdnt_gae_code = '02') or ( acdnt_gae_code = '03') or ( acdnt_gae_code = '04')) and (( road_type = '6'))\n",
      "SRS=EPSG:5181\n",
      "BBOX=157292.13311095,391248.85193129,259564.13311095,451088.85193129\n",
      "WIDTH=1598\n",
      "HEIGHT=935\n",
      "bbox_text : 157292.13311095,391248.85193129,259564.13311095,451088.85193129\n"
     ]
    },
    {
     "name": "stderr",
     "output_type": "stream",
     "text": [
      "  1%|          | 238/33698 [04:06<9:38:09,  1.04s/it]"
     ]
    },
    {
     "name": "stdout",
     "output_type": "stream",
     "text": [
      "Debugging - src content: <selenium.webdriver.remote.webelement.WebElement (session=\"5b06b3d12ca3a76e5c613afa896de233\", element=\"9E340076E16B0B12E9EB60FAF1C429D4_element_111385\")>\n",
      "Debugging - src content: https://taas.koroad.or.kr/gis36/TAAS/wms?LAYERS=GNRL_GIS_ACDNT_INFO_NON&STYLES=&FORMAT=image/png&TRANSPARENT=TRUE&TILED=false&TILESORIGIN=-30000,-60000&PROJECTION=EPSG:5179&DISPLAYPROJECTION=EPSG:5181&TRANSFORM=EPSG:5181&SERVICE=WMS&VERSION=1.1.1&REQUEST=GetMap&CQL_FILTER=(engn_code='00') and (acdnt_year between '2022' and '2022')  and (legaldong_code ilike '4146%') and (( acdnt_gae_code = '01') or ( acdnt_gae_code = '02') or ( acdnt_gae_code = '03') or ( acdnt_gae_code = '04')) and (( road_type = '6'))&SRS=EPSG:5181&BBOX=158040.05209917,391509.90903793,260312.05209917,451349.90903793&WIDTH=1598&HEIGHT=935\n",
      "src_split : ['https://taas.koroad.or.kr/gis36/TAAS/wms?LAYERS=GNRL_GIS_ACDNT_INFO_NON', 'STYLES=', 'FORMAT=image/png', 'TRANSPARENT=TRUE', 'TILED=false', 'TILESORIGIN=-30000,-60000', 'PROJECTION=EPSG:5179', 'DISPLAYPROJECTION=EPSG:5181', 'TRANSFORM=EPSG:5181', 'SERVICE=WMS', 'VERSION=1.1.1', 'REQUEST=GetMap', \"CQL_FILTER=(engn_code='00') and (acdnt_year between '2022' and '2022')  and (legaldong_code ilike '4146%') and (( acdnt_gae_code = '01') or ( acdnt_gae_code = '02') or ( acdnt_gae_code = '03') or ( acdnt_gae_code = '04')) and (( road_type = '6'))\", 'SRS=EPSG:5181', 'BBOX=158040.05209917,391509.90903793,260312.05209917,451349.90903793', 'WIDTH=1598', 'HEIGHT=935']\n",
      "Debugging - src_split:\n",
      "https://taas.koroad.or.kr/gis36/TAAS/wms?LAYERS=GNRL_GIS_ACDNT_INFO_NON\n",
      "STYLES=\n",
      "FORMAT=image/png\n",
      "TRANSPARENT=TRUE\n",
      "TILED=false\n",
      "TILESORIGIN=-30000,-60000\n",
      "PROJECTION=EPSG:5179\n",
      "DISPLAYPROJECTION=EPSG:5181\n",
      "TRANSFORM=EPSG:5181\n",
      "SERVICE=WMS\n",
      "VERSION=1.1.1\n",
      "REQUEST=GetMap\n",
      "CQL_FILTER=(engn_code='00') and (acdnt_year between '2022' and '2022')  and (legaldong_code ilike '4146%') and (( acdnt_gae_code = '01') or ( acdnt_gae_code = '02') or ( acdnt_gae_code = '03') or ( acdnt_gae_code = '04')) and (( road_type = '6'))\n",
      "SRS=EPSG:5181\n",
      "BBOX=158040.05209917,391509.90903793,260312.05209917,451349.90903793\n",
      "WIDTH=1598\n",
      "HEIGHT=935\n",
      "bbox_text : 158040.05209917,391509.90903793,260312.05209917,451349.90903793\n"
     ]
    },
    {
     "name": "stderr",
     "output_type": "stream",
     "text": [
      "  1%|          | 239/33698 [04:07<9:36:48,  1.03s/it]"
     ]
    },
    {
     "name": "stdout",
     "output_type": "stream",
     "text": [
      "Debugging - src content: <selenium.webdriver.remote.webelement.WebElement (session=\"5b06b3d12ca3a76e5c613afa896de233\", element=\"9E340076E16B0B12E9EB60FAF1C429D4_element_111825\")>\n",
      "Debugging - src content: https://taas.koroad.or.kr/gis36/TAAS/wms?LAYERS=GNRL_GIS_ACDNT_INFO_NON&STYLES=&FORMAT=image/png&TRANSPARENT=TRUE&TILED=false&TILESORIGIN=-30000,-60000&PROJECTION=EPSG:5179&DISPLAYPROJECTION=EPSG:5181&TRANSFORM=EPSG:5181&SERVICE=WMS&VERSION=1.1.1&REQUEST=GetMap&CQL_FILTER=(engn_code='00') and (acdnt_year between '2022' and '2022')  and (legaldong_code ilike '4146%') and (( acdnt_gae_code = '01') or ( acdnt_gae_code = '02') or ( acdnt_gae_code = '03') or ( acdnt_gae_code = '04')) and (( road_type = '6'))&SRS=EPSG:5181&BBOX=158075.08627676,391506.09267684,260347.08627676,451346.09267684&WIDTH=1598&HEIGHT=935\n",
      "src_split : ['https://taas.koroad.or.kr/gis36/TAAS/wms?LAYERS=GNRL_GIS_ACDNT_INFO_NON', 'STYLES=', 'FORMAT=image/png', 'TRANSPARENT=TRUE', 'TILED=false', 'TILESORIGIN=-30000,-60000', 'PROJECTION=EPSG:5179', 'DISPLAYPROJECTION=EPSG:5181', 'TRANSFORM=EPSG:5181', 'SERVICE=WMS', 'VERSION=1.1.1', 'REQUEST=GetMap', \"CQL_FILTER=(engn_code='00') and (acdnt_year between '2022' and '2022')  and (legaldong_code ilike '4146%') and (( acdnt_gae_code = '01') or ( acdnt_gae_code = '02') or ( acdnt_gae_code = '03') or ( acdnt_gae_code = '04')) and (( road_type = '6'))\", 'SRS=EPSG:5181', 'BBOX=158075.08627676,391506.09267684,260347.08627676,451346.09267684', 'WIDTH=1598', 'HEIGHT=935']\n",
      "Debugging - src_split:\n",
      "https://taas.koroad.or.kr/gis36/TAAS/wms?LAYERS=GNRL_GIS_ACDNT_INFO_NON\n",
      "STYLES=\n",
      "FORMAT=image/png\n",
      "TRANSPARENT=TRUE\n",
      "TILED=false\n",
      "TILESORIGIN=-30000,-60000\n",
      "PROJECTION=EPSG:5179\n",
      "DISPLAYPROJECTION=EPSG:5181\n",
      "TRANSFORM=EPSG:5181\n",
      "SERVICE=WMS\n",
      "VERSION=1.1.1\n",
      "REQUEST=GetMap\n",
      "CQL_FILTER=(engn_code='00') and (acdnt_year between '2022' and '2022')  and (legaldong_code ilike '4146%') and (( acdnt_gae_code = '01') or ( acdnt_gae_code = '02') or ( acdnt_gae_code = '03') or ( acdnt_gae_code = '04')) and (( road_type = '6'))\n",
      "SRS=EPSG:5181\n",
      "BBOX=158075.08627676,391506.09267684,260347.08627676,451346.09267684\n",
      "WIDTH=1598\n",
      "HEIGHT=935\n",
      "bbox_text : 158075.08627676,391506.09267684,260347.08627676,451346.09267684\n"
     ]
    },
    {
     "name": "stderr",
     "output_type": "stream",
     "text": [
      "  1%|          | 240/33698 [04:08<9:37:14,  1.04s/it]"
     ]
    },
    {
     "name": "stdout",
     "output_type": "stream",
     "text": [
      "Debugging - src content: <selenium.webdriver.remote.webelement.WebElement (session=\"5b06b3d12ca3a76e5c613afa896de233\", element=\"9E340076E16B0B12E9EB60FAF1C429D4_element_112275\")>\n",
      "Debugging - src content: https://taas.koroad.or.kr/gis36/TAAS/wms?LAYERS=GNRL_GIS_ACDNT_INFO_NON&STYLES=&FORMAT=image/png&TRANSPARENT=TRUE&TILED=false&TILESORIGIN=-30000,-60000&PROJECTION=EPSG:5179&DISPLAYPROJECTION=EPSG:5181&TRANSFORM=EPSG:5181&SERVICE=WMS&VERSION=1.1.1&REQUEST=GetMap&CQL_FILTER=(engn_code='00') and (acdnt_year between '2022' and '2022')  and (legaldong_code ilike '4146%') and (( acdnt_gae_code = '01') or ( acdnt_gae_code = '02') or ( acdnt_gae_code = '03') or ( acdnt_gae_code = '04')) and (( road_type = '6'))&SRS=EPSG:5181&BBOX=158078.15714626,387896.66579716,260350.15714626,447736.66579716&WIDTH=1598&HEIGHT=935\n",
      "src_split : ['https://taas.koroad.or.kr/gis36/TAAS/wms?LAYERS=GNRL_GIS_ACDNT_INFO_NON', 'STYLES=', 'FORMAT=image/png', 'TRANSPARENT=TRUE', 'TILED=false', 'TILESORIGIN=-30000,-60000', 'PROJECTION=EPSG:5179', 'DISPLAYPROJECTION=EPSG:5181', 'TRANSFORM=EPSG:5181', 'SERVICE=WMS', 'VERSION=1.1.1', 'REQUEST=GetMap', \"CQL_FILTER=(engn_code='00') and (acdnt_year between '2022' and '2022')  and (legaldong_code ilike '4146%') and (( acdnt_gae_code = '01') or ( acdnt_gae_code = '02') or ( acdnt_gae_code = '03') or ( acdnt_gae_code = '04')) and (( road_type = '6'))\", 'SRS=EPSG:5181', 'BBOX=158078.15714626,387896.66579716,260350.15714626,447736.66579716', 'WIDTH=1598', 'HEIGHT=935']\n",
      "Debugging - src_split:\n",
      "https://taas.koroad.or.kr/gis36/TAAS/wms?LAYERS=GNRL_GIS_ACDNT_INFO_NON\n",
      "STYLES=\n",
      "FORMAT=image/png\n",
      "TRANSPARENT=TRUE\n",
      "TILED=false\n",
      "TILESORIGIN=-30000,-60000\n",
      "PROJECTION=EPSG:5179\n",
      "DISPLAYPROJECTION=EPSG:5181\n",
      "TRANSFORM=EPSG:5181\n",
      "SERVICE=WMS\n",
      "VERSION=1.1.1\n",
      "REQUEST=GetMap\n",
      "CQL_FILTER=(engn_code='00') and (acdnt_year between '2022' and '2022')  and (legaldong_code ilike '4146%') and (( acdnt_gae_code = '01') or ( acdnt_gae_code = '02') or ( acdnt_gae_code = '03') or ( acdnt_gae_code = '04')) and (( road_type = '6'))\n",
      "SRS=EPSG:5181\n",
      "BBOX=158078.15714626,387896.66579716,260350.15714626,447736.66579716\n",
      "WIDTH=1598\n",
      "HEIGHT=935\n",
      "bbox_text : 158078.15714626,387896.66579716,260350.15714626,447736.66579716\n"
     ]
    },
    {
     "name": "stderr",
     "output_type": "stream",
     "text": [
      "  1%|          | 241/33698 [04:09<9:37:31,  1.04s/it]"
     ]
    },
    {
     "name": "stdout",
     "output_type": "stream",
     "text": [
      "Debugging - src content: <selenium.webdriver.remote.webelement.WebElement (session=\"5b06b3d12ca3a76e5c613afa896de233\", element=\"9E340076E16B0B12E9EB60FAF1C429D4_element_112722\")>\n",
      "Debugging - src content: https://taas.koroad.or.kr/gis36/TAAS/wms?LAYERS=GNRL_GIS_ACDNT_INFO_NON&STYLES=&FORMAT=image/png&TRANSPARENT=TRUE&TILED=false&TILESORIGIN=-30000,-60000&PROJECTION=EPSG:5179&DISPLAYPROJECTION=EPSG:5181&TRANSFORM=EPSG:5181&SERVICE=WMS&VERSION=1.1.1&REQUEST=GetMap&CQL_FILTER=(engn_code='00') and (acdnt_year between '2022' and '2022')  and (legaldong_code ilike '4146%') and (( acdnt_gae_code = '01') or ( acdnt_gae_code = '02') or ( acdnt_gae_code = '03') or ( acdnt_gae_code = '04')) and (( road_type = '6'))&SRS=EPSG:5181&BBOX=170535.06784479,386410.83971178,272807.06784479,446250.83971178&WIDTH=1598&HEIGHT=935\n",
      "src_split : ['https://taas.koroad.or.kr/gis36/TAAS/wms?LAYERS=GNRL_GIS_ACDNT_INFO_NON', 'STYLES=', 'FORMAT=image/png', 'TRANSPARENT=TRUE', 'TILED=false', 'TILESORIGIN=-30000,-60000', 'PROJECTION=EPSG:5179', 'DISPLAYPROJECTION=EPSG:5181', 'TRANSFORM=EPSG:5181', 'SERVICE=WMS', 'VERSION=1.1.1', 'REQUEST=GetMap', \"CQL_FILTER=(engn_code='00') and (acdnt_year between '2022' and '2022')  and (legaldong_code ilike '4146%') and (( acdnt_gae_code = '01') or ( acdnt_gae_code = '02') or ( acdnt_gae_code = '03') or ( acdnt_gae_code = '04')) and (( road_type = '6'))\", 'SRS=EPSG:5181', 'BBOX=170535.06784479,386410.83971178,272807.06784479,446250.83971178', 'WIDTH=1598', 'HEIGHT=935']\n",
      "Debugging - src_split:\n",
      "https://taas.koroad.or.kr/gis36/TAAS/wms?LAYERS=GNRL_GIS_ACDNT_INFO_NON\n",
      "STYLES=\n",
      "FORMAT=image/png\n",
      "TRANSPARENT=TRUE\n",
      "TILED=false\n",
      "TILESORIGIN=-30000,-60000\n",
      "PROJECTION=EPSG:5179\n",
      "DISPLAYPROJECTION=EPSG:5181\n",
      "TRANSFORM=EPSG:5181\n",
      "SERVICE=WMS\n",
      "VERSION=1.1.1\n",
      "REQUEST=GetMap\n",
      "CQL_FILTER=(engn_code='00') and (acdnt_year between '2022' and '2022')  and (legaldong_code ilike '4146%') and (( acdnt_gae_code = '01') or ( acdnt_gae_code = '02') or ( acdnt_gae_code = '03') or ( acdnt_gae_code = '04')) and (( road_type = '6'))\n",
      "SRS=EPSG:5181\n",
      "BBOX=170535.06784479,386410.83971178,272807.06784479,446250.83971178\n",
      "WIDTH=1598\n",
      "HEIGHT=935\n",
      "bbox_text : 170535.06784479,386410.83971178,272807.06784479,446250.83971178\n"
     ]
    },
    {
     "name": "stderr",
     "output_type": "stream",
     "text": [
      "  1%|          | 242/33698 [04:10<9:37:09,  1.04s/it]"
     ]
    },
    {
     "name": "stdout",
     "output_type": "stream",
     "text": [
      "Debugging - src content: <selenium.webdriver.remote.webelement.WebElement (session=\"5b06b3d12ca3a76e5c613afa896de233\", element=\"9E340076E16B0B12E9EB60FAF1C429D4_element_113179\")>\n",
      "Debugging - src content: https://taas.koroad.or.kr/gis36/TAAS/wms?LAYERS=GNRL_GIS_ACDNT_INFO_NON&STYLES=&FORMAT=image/png&TRANSPARENT=TRUE&TILED=false&TILESORIGIN=-30000,-60000&PROJECTION=EPSG:5179&DISPLAYPROJECTION=EPSG:5181&TRANSFORM=EPSG:5181&SERVICE=WMS&VERSION=1.1.1&REQUEST=GetMap&CQL_FILTER=(engn_code='00') and (acdnt_year between '2022' and '2022')  and (legaldong_code ilike '4146%') and (( acdnt_gae_code = '01') or ( acdnt_gae_code = '02') or ( acdnt_gae_code = '03') or ( acdnt_gae_code = '04')) and (( road_type = '6'))&SRS=EPSG:5181&BBOX=159559.25803851,391396.89305757,261831.25803851,451236.89305757&WIDTH=1598&HEIGHT=935\n",
      "src_split : ['https://taas.koroad.or.kr/gis36/TAAS/wms?LAYERS=GNRL_GIS_ACDNT_INFO_NON', 'STYLES=', 'FORMAT=image/png', 'TRANSPARENT=TRUE', 'TILED=false', 'TILESORIGIN=-30000,-60000', 'PROJECTION=EPSG:5179', 'DISPLAYPROJECTION=EPSG:5181', 'TRANSFORM=EPSG:5181', 'SERVICE=WMS', 'VERSION=1.1.1', 'REQUEST=GetMap', \"CQL_FILTER=(engn_code='00') and (acdnt_year between '2022' and '2022')  and (legaldong_code ilike '4146%') and (( acdnt_gae_code = '01') or ( acdnt_gae_code = '02') or ( acdnt_gae_code = '03') or ( acdnt_gae_code = '04')) and (( road_type = '6'))\", 'SRS=EPSG:5181', 'BBOX=159559.25803851,391396.89305757,261831.25803851,451236.89305757', 'WIDTH=1598', 'HEIGHT=935']\n",
      "Debugging - src_split:\n",
      "https://taas.koroad.or.kr/gis36/TAAS/wms?LAYERS=GNRL_GIS_ACDNT_INFO_NON\n",
      "STYLES=\n",
      "FORMAT=image/png\n",
      "TRANSPARENT=TRUE\n",
      "TILED=false\n",
      "TILESORIGIN=-30000,-60000\n",
      "PROJECTION=EPSG:5179\n",
      "DISPLAYPROJECTION=EPSG:5181\n",
      "TRANSFORM=EPSG:5181\n",
      "SERVICE=WMS\n",
      "VERSION=1.1.1\n",
      "REQUEST=GetMap\n",
      "CQL_FILTER=(engn_code='00') and (acdnt_year between '2022' and '2022')  and (legaldong_code ilike '4146%') and (( acdnt_gae_code = '01') or ( acdnt_gae_code = '02') or ( acdnt_gae_code = '03') or ( acdnt_gae_code = '04')) and (( road_type = '6'))\n",
      "SRS=EPSG:5181\n",
      "BBOX=159559.25803851,391396.89305757,261831.25803851,451236.89305757\n",
      "WIDTH=1598\n",
      "HEIGHT=935\n",
      "bbox_text : 159559.25803851,391396.89305757,261831.25803851,451236.89305757\n"
     ]
    },
    {
     "name": "stderr",
     "output_type": "stream",
     "text": [
      "  1%|          | 243/33698 [04:11<9:36:00,  1.03s/it]"
     ]
    },
    {
     "name": "stdout",
     "output_type": "stream",
     "text": [
      "Debugging - src content: <selenium.webdriver.remote.webelement.WebElement (session=\"5b06b3d12ca3a76e5c613afa896de233\", element=\"9E340076E16B0B12E9EB60FAF1C429D4_element_113619\")>\n",
      "Debugging - src content: https://taas.koroad.or.kr/gis36/TAAS/wms?LAYERS=GNRL_GIS_ACDNT_INFO_NON&STYLES=&FORMAT=image/png&TRANSPARENT=TRUE&TILED=false&TILESORIGIN=-30000,-60000&PROJECTION=EPSG:5179&DISPLAYPROJECTION=EPSG:5181&TRANSFORM=EPSG:5181&SERVICE=WMS&VERSION=1.1.1&REQUEST=GetMap&CQL_FILTER=(engn_code='00') and (acdnt_year between '2022' and '2022')  and (legaldong_code ilike '4146%') and (( acdnt_gae_code = '01') or ( acdnt_gae_code = '02') or ( acdnt_gae_code = '03') or ( acdnt_gae_code = '04')) and (( road_type = '6'))&SRS=EPSG:5181&BBOX=158067.55003277,390471.63925201,260339.55003277,450311.63925201&WIDTH=1598&HEIGHT=935\n",
      "src_split : ['https://taas.koroad.or.kr/gis36/TAAS/wms?LAYERS=GNRL_GIS_ACDNT_INFO_NON', 'STYLES=', 'FORMAT=image/png', 'TRANSPARENT=TRUE', 'TILED=false', 'TILESORIGIN=-30000,-60000', 'PROJECTION=EPSG:5179', 'DISPLAYPROJECTION=EPSG:5181', 'TRANSFORM=EPSG:5181', 'SERVICE=WMS', 'VERSION=1.1.1', 'REQUEST=GetMap', \"CQL_FILTER=(engn_code='00') and (acdnt_year between '2022' and '2022')  and (legaldong_code ilike '4146%') and (( acdnt_gae_code = '01') or ( acdnt_gae_code = '02') or ( acdnt_gae_code = '03') or ( acdnt_gae_code = '04')) and (( road_type = '6'))\", 'SRS=EPSG:5181', 'BBOX=158067.55003277,390471.63925201,260339.55003277,450311.63925201', 'WIDTH=1598', 'HEIGHT=935']\n",
      "Debugging - src_split:\n",
      "https://taas.koroad.or.kr/gis36/TAAS/wms?LAYERS=GNRL_GIS_ACDNT_INFO_NON\n",
      "STYLES=\n",
      "FORMAT=image/png\n",
      "TRANSPARENT=TRUE\n",
      "TILED=false\n",
      "TILESORIGIN=-30000,-60000\n",
      "PROJECTION=EPSG:5179\n",
      "DISPLAYPROJECTION=EPSG:5181\n",
      "TRANSFORM=EPSG:5181\n",
      "SERVICE=WMS\n",
      "VERSION=1.1.1\n",
      "REQUEST=GetMap\n",
      "CQL_FILTER=(engn_code='00') and (acdnt_year between '2022' and '2022')  and (legaldong_code ilike '4146%') and (( acdnt_gae_code = '01') or ( acdnt_gae_code = '02') or ( acdnt_gae_code = '03') or ( acdnt_gae_code = '04')) and (( road_type = '6'))\n",
      "SRS=EPSG:5181\n",
      "BBOX=158067.55003277,390471.63925201,260339.55003277,450311.63925201\n",
      "WIDTH=1598\n",
      "HEIGHT=935\n",
      "bbox_text : 158067.55003277,390471.63925201,260339.55003277,450311.63925201\n"
     ]
    },
    {
     "name": "stderr",
     "output_type": "stream",
     "text": [
      "  1%|          | 244/33698 [04:12<9:35:08,  1.03s/it]"
     ]
    },
    {
     "name": "stdout",
     "output_type": "stream",
     "text": [
      "Debugging - src content: <selenium.webdriver.remote.webelement.WebElement (session=\"5b06b3d12ca3a76e5c613afa896de233\", element=\"9E340076E16B0B12E9EB60FAF1C429D4_element_114059\")>\n",
      "Debugging - src content: https://taas.koroad.or.kr/gis36/TAAS/wms?LAYERS=GNRL_GIS_ACDNT_INFO_NON&STYLES=&FORMAT=image/png&TRANSPARENT=TRUE&TILED=false&TILESORIGIN=-30000,-60000&PROJECTION=EPSG:5179&DISPLAYPROJECTION=EPSG:5181&TRANSFORM=EPSG:5181&SERVICE=WMS&VERSION=1.1.1&REQUEST=GetMap&CQL_FILTER=(engn_code='00') and (acdnt_year between '2022' and '2022')  and (legaldong_code ilike '4146%') and (( acdnt_gae_code = '01') or ( acdnt_gae_code = '02') or ( acdnt_gae_code = '03') or ( acdnt_gae_code = '04')) and (( road_type = '6'))&SRS=EPSG:5181&BBOX=158041.16381238,395838.64561948,260313.16381238,455678.64561948&WIDTH=1598&HEIGHT=935\n",
      "src_split : ['https://taas.koroad.or.kr/gis36/TAAS/wms?LAYERS=GNRL_GIS_ACDNT_INFO_NON', 'STYLES=', 'FORMAT=image/png', 'TRANSPARENT=TRUE', 'TILED=false', 'TILESORIGIN=-30000,-60000', 'PROJECTION=EPSG:5179', 'DISPLAYPROJECTION=EPSG:5181', 'TRANSFORM=EPSG:5181', 'SERVICE=WMS', 'VERSION=1.1.1', 'REQUEST=GetMap', \"CQL_FILTER=(engn_code='00') and (acdnt_year between '2022' and '2022')  and (legaldong_code ilike '4146%') and (( acdnt_gae_code = '01') or ( acdnt_gae_code = '02') or ( acdnt_gae_code = '03') or ( acdnt_gae_code = '04')) and (( road_type = '6'))\", 'SRS=EPSG:5181', 'BBOX=158041.16381238,395838.64561948,260313.16381238,455678.64561948', 'WIDTH=1598', 'HEIGHT=935']\n",
      "Debugging - src_split:\n",
      "https://taas.koroad.or.kr/gis36/TAAS/wms?LAYERS=GNRL_GIS_ACDNT_INFO_NON\n",
      "STYLES=\n",
      "FORMAT=image/png\n",
      "TRANSPARENT=TRUE\n",
      "TILED=false\n",
      "TILESORIGIN=-30000,-60000\n",
      "PROJECTION=EPSG:5179\n",
      "DISPLAYPROJECTION=EPSG:5181\n",
      "TRANSFORM=EPSG:5181\n",
      "SERVICE=WMS\n",
      "VERSION=1.1.1\n",
      "REQUEST=GetMap\n",
      "CQL_FILTER=(engn_code='00') and (acdnt_year between '2022' and '2022')  and (legaldong_code ilike '4146%') and (( acdnt_gae_code = '01') or ( acdnt_gae_code = '02') or ( acdnt_gae_code = '03') or ( acdnt_gae_code = '04')) and (( road_type = '6'))\n",
      "SRS=EPSG:5181\n",
      "BBOX=158041.16381238,395838.64561948,260313.16381238,455678.64561948\n",
      "WIDTH=1598\n",
      "HEIGHT=935\n",
      "bbox_text : 158041.16381238,395838.64561948,260313.16381238,455678.64561948\n"
     ]
    },
    {
     "name": "stderr",
     "output_type": "stream",
     "text": [
      "  1%|          | 245/33698 [04:13<9:35:21,  1.03s/it]"
     ]
    },
    {
     "name": "stdout",
     "output_type": "stream",
     "text": [
      "Debugging - src content: <selenium.webdriver.remote.webelement.WebElement (session=\"5b06b3d12ca3a76e5c613afa896de233\", element=\"9E340076E16B0B12E9EB60FAF1C429D4_element_114499\")>\n",
      "Debugging - src content: https://taas.koroad.or.kr/gis36/TAAS/wms?LAYERS=GNRL_GIS_ACDNT_INFO_NON&STYLES=&FORMAT=image/png&TRANSPARENT=TRUE&TILED=false&TILESORIGIN=-30000,-60000&PROJECTION=EPSG:5179&DISPLAYPROJECTION=EPSG:5181&TRANSFORM=EPSG:5181&SERVICE=WMS&VERSION=1.1.1&REQUEST=GetMap&CQL_FILTER=(engn_code='00') and (acdnt_year between '2022' and '2022')  and (legaldong_code ilike '4146%') and (( acdnt_gae_code = '01') or ( acdnt_gae_code = '02') or ( acdnt_gae_code = '03') or ( acdnt_gae_code = '04')) and (( road_type = '6'))&SRS=EPSG:5181&BBOX=165363.62212999,388933.56519042,267635.62212999,448773.56519042&WIDTH=1598&HEIGHT=935\n",
      "src_split : ['https://taas.koroad.or.kr/gis36/TAAS/wms?LAYERS=GNRL_GIS_ACDNT_INFO_NON', 'STYLES=', 'FORMAT=image/png', 'TRANSPARENT=TRUE', 'TILED=false', 'TILESORIGIN=-30000,-60000', 'PROJECTION=EPSG:5179', 'DISPLAYPROJECTION=EPSG:5181', 'TRANSFORM=EPSG:5181', 'SERVICE=WMS', 'VERSION=1.1.1', 'REQUEST=GetMap', \"CQL_FILTER=(engn_code='00') and (acdnt_year between '2022' and '2022')  and (legaldong_code ilike '4146%') and (( acdnt_gae_code = '01') or ( acdnt_gae_code = '02') or ( acdnt_gae_code = '03') or ( acdnt_gae_code = '04')) and (( road_type = '6'))\", 'SRS=EPSG:5181', 'BBOX=165363.62212999,388933.56519042,267635.62212999,448773.56519042', 'WIDTH=1598', 'HEIGHT=935']\n",
      "Debugging - src_split:\n",
      "https://taas.koroad.or.kr/gis36/TAAS/wms?LAYERS=GNRL_GIS_ACDNT_INFO_NON\n",
      "STYLES=\n",
      "FORMAT=image/png\n",
      "TRANSPARENT=TRUE\n",
      "TILED=false\n",
      "TILESORIGIN=-30000,-60000\n",
      "PROJECTION=EPSG:5179\n",
      "DISPLAYPROJECTION=EPSG:5181\n",
      "TRANSFORM=EPSG:5181\n",
      "SERVICE=WMS\n",
      "VERSION=1.1.1\n",
      "REQUEST=GetMap\n",
      "CQL_FILTER=(engn_code='00') and (acdnt_year between '2022' and '2022')  and (legaldong_code ilike '4146%') and (( acdnt_gae_code = '01') or ( acdnt_gae_code = '02') or ( acdnt_gae_code = '03') or ( acdnt_gae_code = '04')) and (( road_type = '6'))\n",
      "SRS=EPSG:5181\n",
      "BBOX=165363.62212999,388933.56519042,267635.62212999,448773.56519042\n",
      "WIDTH=1598\n",
      "HEIGHT=935\n",
      "bbox_text : 165363.62212999,388933.56519042,267635.62212999,448773.56519042\n"
     ]
    },
    {
     "name": "stderr",
     "output_type": "stream",
     "text": [
      "  1%|          | 246/33698 [04:14<9:36:34,  1.03s/it]"
     ]
    },
    {
     "name": "stdout",
     "output_type": "stream",
     "text": [
      "Debugging - src content: <selenium.webdriver.remote.webelement.WebElement (session=\"5b06b3d12ca3a76e5c613afa896de233\", element=\"9E340076E16B0B12E9EB60FAF1C429D4_element_114939\")>\n",
      "Debugging - src content: https://taas.koroad.or.kr/gis36/TAAS/wms?LAYERS=GNRL_GIS_ACDNT_INFO_NON&STYLES=&FORMAT=image/png&TRANSPARENT=TRUE&TILED=false&TILESORIGIN=-30000,-60000&PROJECTION=EPSG:5179&DISPLAYPROJECTION=EPSG:5181&TRANSFORM=EPSG:5181&SERVICE=WMS&VERSION=1.1.1&REQUEST=GetMap&CQL_FILTER=(engn_code='00') and (acdnt_year between '2022' and '2022')  and (legaldong_code ilike '4146%') and (( acdnt_gae_code = '01') or ( acdnt_gae_code = '02') or ( acdnt_gae_code = '03') or ( acdnt_gae_code = '04')) and (( road_type = '6'))&SRS=EPSG:5181&BBOX=158056.04759944,393781.90197417,260328.04759944,453621.90197417&WIDTH=1598&HEIGHT=935\n",
      "src_split : ['https://taas.koroad.or.kr/gis36/TAAS/wms?LAYERS=GNRL_GIS_ACDNT_INFO_NON', 'STYLES=', 'FORMAT=image/png', 'TRANSPARENT=TRUE', 'TILED=false', 'TILESORIGIN=-30000,-60000', 'PROJECTION=EPSG:5179', 'DISPLAYPROJECTION=EPSG:5181', 'TRANSFORM=EPSG:5181', 'SERVICE=WMS', 'VERSION=1.1.1', 'REQUEST=GetMap', \"CQL_FILTER=(engn_code='00') and (acdnt_year between '2022' and '2022')  and (legaldong_code ilike '4146%') and (( acdnt_gae_code = '01') or ( acdnt_gae_code = '02') or ( acdnt_gae_code = '03') or ( acdnt_gae_code = '04')) and (( road_type = '6'))\", 'SRS=EPSG:5181', 'BBOX=158056.04759944,393781.90197417,260328.04759944,453621.90197417', 'WIDTH=1598', 'HEIGHT=935']\n",
      "Debugging - src_split:\n",
      "https://taas.koroad.or.kr/gis36/TAAS/wms?LAYERS=GNRL_GIS_ACDNT_INFO_NON\n",
      "STYLES=\n",
      "FORMAT=image/png\n",
      "TRANSPARENT=TRUE\n",
      "TILED=false\n",
      "TILESORIGIN=-30000,-60000\n",
      "PROJECTION=EPSG:5179\n",
      "DISPLAYPROJECTION=EPSG:5181\n",
      "TRANSFORM=EPSG:5181\n",
      "SERVICE=WMS\n",
      "VERSION=1.1.1\n",
      "REQUEST=GetMap\n",
      "CQL_FILTER=(engn_code='00') and (acdnt_year between '2022' and '2022')  and (legaldong_code ilike '4146%') and (( acdnt_gae_code = '01') or ( acdnt_gae_code = '02') or ( acdnt_gae_code = '03') or ( acdnt_gae_code = '04')) and (( road_type = '6'))\n",
      "SRS=EPSG:5181\n",
      "BBOX=158056.04759944,393781.90197417,260328.04759944,453621.90197417\n",
      "WIDTH=1598\n",
      "HEIGHT=935\n",
      "bbox_text : 158056.04759944,393781.90197417,260328.04759944,453621.90197417\n"
     ]
    },
    {
     "name": "stderr",
     "output_type": "stream",
     "text": [
      "  1%|          | 247/33698 [04:15<9:36:53,  1.03s/it]"
     ]
    },
    {
     "name": "stdout",
     "output_type": "stream",
     "text": [
      "Debugging - src content: <selenium.webdriver.remote.webelement.WebElement (session=\"5b06b3d12ca3a76e5c613afa896de233\", element=\"9E340076E16B0B12E9EB60FAF1C429D4_element_115379\")>\n",
      "Debugging - src content: https://taas.koroad.or.kr/gis36/TAAS/wms?LAYERS=GNRL_GIS_ACDNT_INFO_NON&STYLES=&FORMAT=image/png&TRANSPARENT=TRUE&TILED=false&TILESORIGIN=-30000,-60000&PROJECTION=EPSG:5179&DISPLAYPROJECTION=EPSG:5181&TRANSFORM=EPSG:5181&SERVICE=WMS&VERSION=1.1.1&REQUEST=GetMap&CQL_FILTER=(engn_code='00') and (acdnt_year between '2022' and '2022')  and (legaldong_code ilike '4146%') and (( acdnt_gae_code = '01') or ( acdnt_gae_code = '02') or ( acdnt_gae_code = '03') or ( acdnt_gae_code = '04')) and (( road_type = '6'))&SRS=EPSG:5181&BBOX=165350.06209739,389038.53636299,267622.06209739,448878.53636299&WIDTH=1598&HEIGHT=935\n",
      "src_split : ['https://taas.koroad.or.kr/gis36/TAAS/wms?LAYERS=GNRL_GIS_ACDNT_INFO_NON', 'STYLES=', 'FORMAT=image/png', 'TRANSPARENT=TRUE', 'TILED=false', 'TILESORIGIN=-30000,-60000', 'PROJECTION=EPSG:5179', 'DISPLAYPROJECTION=EPSG:5181', 'TRANSFORM=EPSG:5181', 'SERVICE=WMS', 'VERSION=1.1.1', 'REQUEST=GetMap', \"CQL_FILTER=(engn_code='00') and (acdnt_year between '2022' and '2022')  and (legaldong_code ilike '4146%') and (( acdnt_gae_code = '01') or ( acdnt_gae_code = '02') or ( acdnt_gae_code = '03') or ( acdnt_gae_code = '04')) and (( road_type = '6'))\", 'SRS=EPSG:5181', 'BBOX=165350.06209739,389038.53636299,267622.06209739,448878.53636299', 'WIDTH=1598', 'HEIGHT=935']\n",
      "Debugging - src_split:\n",
      "https://taas.koroad.or.kr/gis36/TAAS/wms?LAYERS=GNRL_GIS_ACDNT_INFO_NON\n",
      "STYLES=\n",
      "FORMAT=image/png\n",
      "TRANSPARENT=TRUE\n",
      "TILED=false\n",
      "TILESORIGIN=-30000,-60000\n",
      "PROJECTION=EPSG:5179\n",
      "DISPLAYPROJECTION=EPSG:5181\n",
      "TRANSFORM=EPSG:5181\n",
      "SERVICE=WMS\n",
      "VERSION=1.1.1\n",
      "REQUEST=GetMap\n",
      "CQL_FILTER=(engn_code='00') and (acdnt_year between '2022' and '2022')  and (legaldong_code ilike '4146%') and (( acdnt_gae_code = '01') or ( acdnt_gae_code = '02') or ( acdnt_gae_code = '03') or ( acdnt_gae_code = '04')) and (( road_type = '6'))\n",
      "SRS=EPSG:5181\n",
      "BBOX=165350.06209739,389038.53636299,267622.06209739,448878.53636299\n",
      "WIDTH=1598\n",
      "HEIGHT=935\n",
      "bbox_text : 165350.06209739,389038.53636299,267622.06209739,448878.53636299\n"
     ]
    },
    {
     "name": "stderr",
     "output_type": "stream",
     "text": [
      "  1%|          | 248/33698 [04:16<9:36:24,  1.03s/it]"
     ]
    },
    {
     "name": "stdout",
     "output_type": "stream",
     "text": [
      "Debugging - src content: <selenium.webdriver.remote.webelement.WebElement (session=\"5b06b3d12ca3a76e5c613afa896de233\", element=\"9E340076E16B0B12E9EB60FAF1C429D4_element_115819\")>\n",
      "Debugging - src content: https://taas.koroad.or.kr/gis36/TAAS/wms?LAYERS=GNRL_GIS_ACDNT_INFO_NON&STYLES=&FORMAT=image/png&TRANSPARENT=TRUE&TILED=false&TILESORIGIN=-30000,-60000&PROJECTION=EPSG:5179&DISPLAYPROJECTION=EPSG:5181&TRANSFORM=EPSG:5181&SERVICE=WMS&VERSION=1.1.1&REQUEST=GetMap&CQL_FILTER=(engn_code='00') and (acdnt_year between '2022' and '2022')  and (legaldong_code ilike '4146%') and (( acdnt_gae_code = '01') or ( acdnt_gae_code = '02') or ( acdnt_gae_code = '03') or ( acdnt_gae_code = '04')) and (( road_type = '6'))&SRS=EPSG:5181&BBOX=153874.91026051,395195.35181924,256146.91026051,455035.35181924&WIDTH=1598&HEIGHT=935\n",
      "src_split : ['https://taas.koroad.or.kr/gis36/TAAS/wms?LAYERS=GNRL_GIS_ACDNT_INFO_NON', 'STYLES=', 'FORMAT=image/png', 'TRANSPARENT=TRUE', 'TILED=false', 'TILESORIGIN=-30000,-60000', 'PROJECTION=EPSG:5179', 'DISPLAYPROJECTION=EPSG:5181', 'TRANSFORM=EPSG:5181', 'SERVICE=WMS', 'VERSION=1.1.1', 'REQUEST=GetMap', \"CQL_FILTER=(engn_code='00') and (acdnt_year between '2022' and '2022')  and (legaldong_code ilike '4146%') and (( acdnt_gae_code = '01') or ( acdnt_gae_code = '02') or ( acdnt_gae_code = '03') or ( acdnt_gae_code = '04')) and (( road_type = '6'))\", 'SRS=EPSG:5181', 'BBOX=153874.91026051,395195.35181924,256146.91026051,455035.35181924', 'WIDTH=1598', 'HEIGHT=935']\n",
      "Debugging - src_split:\n",
      "https://taas.koroad.or.kr/gis36/TAAS/wms?LAYERS=GNRL_GIS_ACDNT_INFO_NON\n",
      "STYLES=\n",
      "FORMAT=image/png\n",
      "TRANSPARENT=TRUE\n",
      "TILED=false\n",
      "TILESORIGIN=-30000,-60000\n",
      "PROJECTION=EPSG:5179\n",
      "DISPLAYPROJECTION=EPSG:5181\n",
      "TRANSFORM=EPSG:5181\n",
      "SERVICE=WMS\n",
      "VERSION=1.1.1\n",
      "REQUEST=GetMap\n",
      "CQL_FILTER=(engn_code='00') and (acdnt_year between '2022' and '2022')  and (legaldong_code ilike '4146%') and (( acdnt_gae_code = '01') or ( acdnt_gae_code = '02') or ( acdnt_gae_code = '03') or ( acdnt_gae_code = '04')) and (( road_type = '6'))\n",
      "SRS=EPSG:5181\n",
      "BBOX=153874.91026051,395195.35181924,256146.91026051,455035.35181924\n",
      "WIDTH=1598\n",
      "HEIGHT=935\n",
      "bbox_text : 153874.91026051,395195.35181924,256146.91026051,455035.35181924\n"
     ]
    },
    {
     "name": "stderr",
     "output_type": "stream",
     "text": [
      "  1%|          | 249/33698 [04:17<9:37:13,  1.04s/it]"
     ]
    },
    {
     "name": "stdout",
     "output_type": "stream",
     "text": [
      "Debugging - src content: <selenium.webdriver.remote.webelement.WebElement (session=\"5b06b3d12ca3a76e5c613afa896de233\", element=\"9E340076E16B0B12E9EB60FAF1C429D4_element_116276\")>\n",
      "Debugging - src content: https://taas.koroad.or.kr/gis36/TAAS/wms?LAYERS=GNRL_GIS_ACDNT_INFO_NON&STYLES=&FORMAT=image/png&TRANSPARENT=TRUE&TILED=false&TILESORIGIN=-30000,-60000&PROJECTION=EPSG:5179&DISPLAYPROJECTION=EPSG:5181&TRANSFORM=EPSG:5181&SERVICE=WMS&VERSION=1.1.1&REQUEST=GetMap&CQL_FILTER=(engn_code='00') and (acdnt_year between '2022' and '2022')  and (legaldong_code ilike '4146%') and (( acdnt_gae_code = '01') or ( acdnt_gae_code = '02') or ( acdnt_gae_code = '03') or ( acdnt_gae_code = '04')) and (( road_type = '6'))&SRS=EPSG:5181&BBOX=175965.23360877,386239.43669127,278237.23360877,446079.43669127&WIDTH=1598&HEIGHT=935\n",
      "src_split : ['https://taas.koroad.or.kr/gis36/TAAS/wms?LAYERS=GNRL_GIS_ACDNT_INFO_NON', 'STYLES=', 'FORMAT=image/png', 'TRANSPARENT=TRUE', 'TILED=false', 'TILESORIGIN=-30000,-60000', 'PROJECTION=EPSG:5179', 'DISPLAYPROJECTION=EPSG:5181', 'TRANSFORM=EPSG:5181', 'SERVICE=WMS', 'VERSION=1.1.1', 'REQUEST=GetMap', \"CQL_FILTER=(engn_code='00') and (acdnt_year between '2022' and '2022')  and (legaldong_code ilike '4146%') and (( acdnt_gae_code = '01') or ( acdnt_gae_code = '02') or ( acdnt_gae_code = '03') or ( acdnt_gae_code = '04')) and (( road_type = '6'))\", 'SRS=EPSG:5181', 'BBOX=175965.23360877,386239.43669127,278237.23360877,446079.43669127', 'WIDTH=1598', 'HEIGHT=935']\n",
      "Debugging - src_split:\n",
      "https://taas.koroad.or.kr/gis36/TAAS/wms?LAYERS=GNRL_GIS_ACDNT_INFO_NON\n",
      "STYLES=\n",
      "FORMAT=image/png\n",
      "TRANSPARENT=TRUE\n",
      "TILED=false\n",
      "TILESORIGIN=-30000,-60000\n",
      "PROJECTION=EPSG:5179\n",
      "DISPLAYPROJECTION=EPSG:5181\n",
      "TRANSFORM=EPSG:5181\n",
      "SERVICE=WMS\n",
      "VERSION=1.1.1\n",
      "REQUEST=GetMap\n",
      "CQL_FILTER=(engn_code='00') and (acdnt_year between '2022' and '2022')  and (legaldong_code ilike '4146%') and (( acdnt_gae_code = '01') or ( acdnt_gae_code = '02') or ( acdnt_gae_code = '03') or ( acdnt_gae_code = '04')) and (( road_type = '6'))\n",
      "SRS=EPSG:5181\n",
      "BBOX=175965.23360877,386239.43669127,278237.23360877,446079.43669127\n",
      "WIDTH=1598\n",
      "HEIGHT=935\n",
      "bbox_text : 175965.23360877,386239.43669127,278237.23360877,446079.43669127\n"
     ]
    },
    {
     "name": "stderr",
     "output_type": "stream",
     "text": [
      "  1%|          | 250/33698 [04:18<9:36:26,  1.03s/it]"
     ]
    },
    {
     "name": "stdout",
     "output_type": "stream",
     "text": [
      "Debugging - src content: <selenium.webdriver.remote.webelement.WebElement (session=\"5b06b3d12ca3a76e5c613afa896de233\", element=\"9E340076E16B0B12E9EB60FAF1C429D4_element_116716\")>\n",
      "Debugging - src content: https://taas.koroad.or.kr/gis36/TAAS/wms?LAYERS=GNRL_GIS_ACDNT_INFO_NON&STYLES=&FORMAT=image/png&TRANSPARENT=TRUE&TILED=false&TILESORIGIN=-30000,-60000&PROJECTION=EPSG:5179&DISPLAYPROJECTION=EPSG:5181&TRANSFORM=EPSG:5181&SERVICE=WMS&VERSION=1.1.1&REQUEST=GetMap&CQL_FILTER=(engn_code='00') and (acdnt_year between '2022' and '2022')  and (legaldong_code ilike '4146%') and (( acdnt_gae_code = '01') or ( acdnt_gae_code = '02') or ( acdnt_gae_code = '03') or ( acdnt_gae_code = '04')) and (( road_type = '6'))&SRS=EPSG:5181&BBOX=169607.35323275,386663.04577078,271879.35323275,446503.04577078&WIDTH=1598&HEIGHT=935\n",
      "src_split : ['https://taas.koroad.or.kr/gis36/TAAS/wms?LAYERS=GNRL_GIS_ACDNT_INFO_NON', 'STYLES=', 'FORMAT=image/png', 'TRANSPARENT=TRUE', 'TILED=false', 'TILESORIGIN=-30000,-60000', 'PROJECTION=EPSG:5179', 'DISPLAYPROJECTION=EPSG:5181', 'TRANSFORM=EPSG:5181', 'SERVICE=WMS', 'VERSION=1.1.1', 'REQUEST=GetMap', \"CQL_FILTER=(engn_code='00') and (acdnt_year between '2022' and '2022')  and (legaldong_code ilike '4146%') and (( acdnt_gae_code = '01') or ( acdnt_gae_code = '02') or ( acdnt_gae_code = '03') or ( acdnt_gae_code = '04')) and (( road_type = '6'))\", 'SRS=EPSG:5181', 'BBOX=169607.35323275,386663.04577078,271879.35323275,446503.04577078', 'WIDTH=1598', 'HEIGHT=935']\n",
      "Debugging - src_split:\n",
      "https://taas.koroad.or.kr/gis36/TAAS/wms?LAYERS=GNRL_GIS_ACDNT_INFO_NON\n",
      "STYLES=\n",
      "FORMAT=image/png\n",
      "TRANSPARENT=TRUE\n",
      "TILED=false\n",
      "TILESORIGIN=-30000,-60000\n",
      "PROJECTION=EPSG:5179\n",
      "DISPLAYPROJECTION=EPSG:5181\n",
      "TRANSFORM=EPSG:5181\n",
      "SERVICE=WMS\n",
      "VERSION=1.1.1\n",
      "REQUEST=GetMap\n",
      "CQL_FILTER=(engn_code='00') and (acdnt_year between '2022' and '2022')  and (legaldong_code ilike '4146%') and (( acdnt_gae_code = '01') or ( acdnt_gae_code = '02') or ( acdnt_gae_code = '03') or ( acdnt_gae_code = '04')) and (( road_type = '6'))\n",
      "SRS=EPSG:5181\n",
      "BBOX=169607.35323275,386663.04577078,271879.35323275,446503.04577078\n",
      "WIDTH=1598\n",
      "HEIGHT=935\n",
      "bbox_text : 169607.35323275,386663.04577078,271879.35323275,446503.04577078\n"
     ]
    },
    {
     "name": "stderr",
     "output_type": "stream",
     "text": [
      "  1%|          | 251/33698 [04:19<9:35:32,  1.03s/it]"
     ]
    },
    {
     "name": "stdout",
     "output_type": "stream",
     "text": [
      "Debugging - src content: <selenium.webdriver.remote.webelement.WebElement (session=\"5b06b3d12ca3a76e5c613afa896de233\", element=\"9E340076E16B0B12E9EB60FAF1C429D4_element_117156\")>\n",
      "Debugging - src content: https://taas.koroad.or.kr/gis36/TAAS/wms?LAYERS=GNRL_GIS_ACDNT_INFO_NON&STYLES=&FORMAT=image/png&TRANSPARENT=TRUE&TILED=false&TILESORIGIN=-30000,-60000&PROJECTION=EPSG:5179&DISPLAYPROJECTION=EPSG:5181&TRANSFORM=EPSG:5181&SERVICE=WMS&VERSION=1.1.1&REQUEST=GetMap&CQL_FILTER=(engn_code='00') and (acdnt_year between '2022' and '2022')  and (legaldong_code ilike '4146%') and (( acdnt_gae_code = '01') or ( acdnt_gae_code = '02') or ( acdnt_gae_code = '03') or ( acdnt_gae_code = '04')) and (( road_type = '6'))&SRS=EPSG:5181&BBOX=175197.98755503,385277.98379163,277469.98755503,445117.98379163&WIDTH=1598&HEIGHT=935\n",
      "src_split : ['https://taas.koroad.or.kr/gis36/TAAS/wms?LAYERS=GNRL_GIS_ACDNT_INFO_NON', 'STYLES=', 'FORMAT=image/png', 'TRANSPARENT=TRUE', 'TILED=false', 'TILESORIGIN=-30000,-60000', 'PROJECTION=EPSG:5179', 'DISPLAYPROJECTION=EPSG:5181', 'TRANSFORM=EPSG:5181', 'SERVICE=WMS', 'VERSION=1.1.1', 'REQUEST=GetMap', \"CQL_FILTER=(engn_code='00') and (acdnt_year between '2022' and '2022')  and (legaldong_code ilike '4146%') and (( acdnt_gae_code = '01') or ( acdnt_gae_code = '02') or ( acdnt_gae_code = '03') or ( acdnt_gae_code = '04')) and (( road_type = '6'))\", 'SRS=EPSG:5181', 'BBOX=175197.98755503,385277.98379163,277469.98755503,445117.98379163', 'WIDTH=1598', 'HEIGHT=935']\n",
      "Debugging - src_split:\n",
      "https://taas.koroad.or.kr/gis36/TAAS/wms?LAYERS=GNRL_GIS_ACDNT_INFO_NON\n",
      "STYLES=\n",
      "FORMAT=image/png\n",
      "TRANSPARENT=TRUE\n",
      "TILED=false\n",
      "TILESORIGIN=-30000,-60000\n",
      "PROJECTION=EPSG:5179\n",
      "DISPLAYPROJECTION=EPSG:5181\n",
      "TRANSFORM=EPSG:5181\n",
      "SERVICE=WMS\n",
      "VERSION=1.1.1\n",
      "REQUEST=GetMap\n",
      "CQL_FILTER=(engn_code='00') and (acdnt_year between '2022' and '2022')  and (legaldong_code ilike '4146%') and (( acdnt_gae_code = '01') or ( acdnt_gae_code = '02') or ( acdnt_gae_code = '03') or ( acdnt_gae_code = '04')) and (( road_type = '6'))\n",
      "SRS=EPSG:5181\n",
      "BBOX=175197.98755503,385277.98379163,277469.98755503,445117.98379163\n",
      "WIDTH=1598\n",
      "HEIGHT=935\n",
      "bbox_text : 175197.98755503,385277.98379163,277469.98755503,445117.98379163\n"
     ]
    },
    {
     "name": "stderr",
     "output_type": "stream",
     "text": [
      "  1%|          | 252/33698 [04:20<9:36:16,  1.03s/it]"
     ]
    },
    {
     "name": "stdout",
     "output_type": "stream",
     "text": [
      "Debugging - src content: <selenium.webdriver.remote.webelement.WebElement (session=\"5b06b3d12ca3a76e5c613afa896de233\", element=\"9E340076E16B0B12E9EB60FAF1C429D4_element_117603\")>\n",
      "Debugging - src content: https://taas.koroad.or.kr/gis36/TAAS/wms?LAYERS=GNRL_GIS_ACDNT_INFO_NON&STYLES=&FORMAT=image/png&TRANSPARENT=TRUE&TILED=false&TILESORIGIN=-30000,-60000&PROJECTION=EPSG:5179&DISPLAYPROJECTION=EPSG:5181&TRANSFORM=EPSG:5181&SERVICE=WMS&VERSION=1.1.1&REQUEST=GetMap&CQL_FILTER=(engn_code='00') and (acdnt_year between '2022' and '2022')  and (legaldong_code ilike '4146%') and (( acdnt_gae_code = '01') or ( acdnt_gae_code = '02') or ( acdnt_gae_code = '03') or ( acdnt_gae_code = '04')) and (( road_type = '6'))&SRS=EPSG:5181&BBOX=158224.55406077,385370.42860978,260496.55406077,445210.42860978&WIDTH=1598&HEIGHT=935\n",
      "src_split : ['https://taas.koroad.or.kr/gis36/TAAS/wms?LAYERS=GNRL_GIS_ACDNT_INFO_NON', 'STYLES=', 'FORMAT=image/png', 'TRANSPARENT=TRUE', 'TILED=false', 'TILESORIGIN=-30000,-60000', 'PROJECTION=EPSG:5179', 'DISPLAYPROJECTION=EPSG:5181', 'TRANSFORM=EPSG:5181', 'SERVICE=WMS', 'VERSION=1.1.1', 'REQUEST=GetMap', \"CQL_FILTER=(engn_code='00') and (acdnt_year between '2022' and '2022')  and (legaldong_code ilike '4146%') and (( acdnt_gae_code = '01') or ( acdnt_gae_code = '02') or ( acdnt_gae_code = '03') or ( acdnt_gae_code = '04')) and (( road_type = '6'))\", 'SRS=EPSG:5181', 'BBOX=158224.55406077,385370.42860978,260496.55406077,445210.42860978', 'WIDTH=1598', 'HEIGHT=935']\n",
      "Debugging - src_split:\n",
      "https://taas.koroad.or.kr/gis36/TAAS/wms?LAYERS=GNRL_GIS_ACDNT_INFO_NON\n",
      "STYLES=\n",
      "FORMAT=image/png\n",
      "TRANSPARENT=TRUE\n",
      "TILED=false\n",
      "TILESORIGIN=-30000,-60000\n",
      "PROJECTION=EPSG:5179\n",
      "DISPLAYPROJECTION=EPSG:5181\n",
      "TRANSFORM=EPSG:5181\n",
      "SERVICE=WMS\n",
      "VERSION=1.1.1\n",
      "REQUEST=GetMap\n",
      "CQL_FILTER=(engn_code='00') and (acdnt_year between '2022' and '2022')  and (legaldong_code ilike '4146%') and (( acdnt_gae_code = '01') or ( acdnt_gae_code = '02') or ( acdnt_gae_code = '03') or ( acdnt_gae_code = '04')) and (( road_type = '6'))\n",
      "SRS=EPSG:5181\n",
      "BBOX=158224.55406077,385370.42860978,260496.55406077,445210.42860978\n",
      "WIDTH=1598\n",
      "HEIGHT=935\n",
      "bbox_text : 158224.55406077,385370.42860978,260496.55406077,445210.42860978\n"
     ]
    },
    {
     "name": "stderr",
     "output_type": "stream",
     "text": [
      "  1%|          | 253/33698 [04:21<9:36:52,  1.03s/it]"
     ]
    },
    {
     "name": "stdout",
     "output_type": "stream",
     "text": [
      "Debugging - src content: <selenium.webdriver.remote.webelement.WebElement (session=\"5b06b3d12ca3a76e5c613afa896de233\", element=\"9E340076E16B0B12E9EB60FAF1C429D4_element_118053\")>\n",
      "Debugging - src content: https://taas.koroad.or.kr/gis36/TAAS/wms?LAYERS=GNRL_GIS_ACDNT_INFO_NON&STYLES=&FORMAT=image/png&TRANSPARENT=TRUE&TILED=false&TILESORIGIN=-30000,-60000&PROJECTION=EPSG:5179&DISPLAYPROJECTION=EPSG:5181&TRANSFORM=EPSG:5181&SERVICE=WMS&VERSION=1.1.1&REQUEST=GetMap&CQL_FILTER=(engn_code='00') and (acdnt_year between '2022' and '2022')  and (legaldong_code ilike '4146%') and (( acdnt_gae_code = '01') or ( acdnt_gae_code = '02') or ( acdnt_gae_code = '03') or ( acdnt_gae_code = '04')) and (( road_type = '6'))&SRS=EPSG:5181&BBOX=158088.45908433,390868.9085816,260360.45908433,450708.9085816&WIDTH=1598&HEIGHT=935\n",
      "src_split : ['https://taas.koroad.or.kr/gis36/TAAS/wms?LAYERS=GNRL_GIS_ACDNT_INFO_NON', 'STYLES=', 'FORMAT=image/png', 'TRANSPARENT=TRUE', 'TILED=false', 'TILESORIGIN=-30000,-60000', 'PROJECTION=EPSG:5179', 'DISPLAYPROJECTION=EPSG:5181', 'TRANSFORM=EPSG:5181', 'SERVICE=WMS', 'VERSION=1.1.1', 'REQUEST=GetMap', \"CQL_FILTER=(engn_code='00') and (acdnt_year between '2022' and '2022')  and (legaldong_code ilike '4146%') and (( acdnt_gae_code = '01') or ( acdnt_gae_code = '02') or ( acdnt_gae_code = '03') or ( acdnt_gae_code = '04')) and (( road_type = '6'))\", 'SRS=EPSG:5181', 'BBOX=158088.45908433,390868.9085816,260360.45908433,450708.9085816', 'WIDTH=1598', 'HEIGHT=935']\n",
      "Debugging - src_split:\n",
      "https://taas.koroad.or.kr/gis36/TAAS/wms?LAYERS=GNRL_GIS_ACDNT_INFO_NON\n",
      "STYLES=\n",
      "FORMAT=image/png\n",
      "TRANSPARENT=TRUE\n",
      "TILED=false\n",
      "TILESORIGIN=-30000,-60000\n",
      "PROJECTION=EPSG:5179\n",
      "DISPLAYPROJECTION=EPSG:5181\n",
      "TRANSFORM=EPSG:5181\n",
      "SERVICE=WMS\n",
      "VERSION=1.1.1\n",
      "REQUEST=GetMap\n",
      "CQL_FILTER=(engn_code='00') and (acdnt_year between '2022' and '2022')  and (legaldong_code ilike '4146%') and (( acdnt_gae_code = '01') or ( acdnt_gae_code = '02') or ( acdnt_gae_code = '03') or ( acdnt_gae_code = '04')) and (( road_type = '6'))\n",
      "SRS=EPSG:5181\n",
      "BBOX=158088.45908433,390868.9085816,260360.45908433,450708.9085816\n",
      "WIDTH=1598\n",
      "HEIGHT=935\n",
      "bbox_text : 158088.45908433,390868.9085816,260360.45908433,450708.9085816\n"
     ]
    },
    {
     "name": "stderr",
     "output_type": "stream",
     "text": [
      "  1%|          | 254/33698 [04:23<9:39:12,  1.04s/it]"
     ]
    },
    {
     "name": "stdout",
     "output_type": "stream",
     "text": [
      "Debugging - src content: <selenium.webdriver.remote.webelement.WebElement (session=\"5b06b3d12ca3a76e5c613afa896de233\", element=\"9E340076E16B0B12E9EB60FAF1C429D4_element_118510\")>\n",
      "Debugging - src content: https://taas.koroad.or.kr/gis36/TAAS/wms?LAYERS=GNRL_GIS_ACDNT_INFO_NON&STYLES=&FORMAT=image/png&TRANSPARENT=TRUE&TILED=false&TILESORIGIN=-30000,-60000&PROJECTION=EPSG:5179&DISPLAYPROJECTION=EPSG:5181&TRANSFORM=EPSG:5181&SERVICE=WMS&VERSION=1.1.1&REQUEST=GetMap&CQL_FILTER=(engn_code='00') and (acdnt_year between '2022' and '2022')  and (legaldong_code ilike '4146%') and (( acdnt_gae_code = '01') or ( acdnt_gae_code = '02') or ( acdnt_gae_code = '03') or ( acdnt_gae_code = '04')) and (( road_type = '6'))&SRS=EPSG:5181&BBOX=167100.32825447,387798.27403903,269372.32825447,447638.27403903&WIDTH=1598&HEIGHT=935\n",
      "src_split : ['https://taas.koroad.or.kr/gis36/TAAS/wms?LAYERS=GNRL_GIS_ACDNT_INFO_NON', 'STYLES=', 'FORMAT=image/png', 'TRANSPARENT=TRUE', 'TILED=false', 'TILESORIGIN=-30000,-60000', 'PROJECTION=EPSG:5179', 'DISPLAYPROJECTION=EPSG:5181', 'TRANSFORM=EPSG:5181', 'SERVICE=WMS', 'VERSION=1.1.1', 'REQUEST=GetMap', \"CQL_FILTER=(engn_code='00') and (acdnt_year between '2022' and '2022')  and (legaldong_code ilike '4146%') and (( acdnt_gae_code = '01') or ( acdnt_gae_code = '02') or ( acdnt_gae_code = '03') or ( acdnt_gae_code = '04')) and (( road_type = '6'))\", 'SRS=EPSG:5181', 'BBOX=167100.32825447,387798.27403903,269372.32825447,447638.27403903', 'WIDTH=1598', 'HEIGHT=935']\n",
      "Debugging - src_split:\n",
      "https://taas.koroad.or.kr/gis36/TAAS/wms?LAYERS=GNRL_GIS_ACDNT_INFO_NON\n",
      "STYLES=\n",
      "FORMAT=image/png\n",
      "TRANSPARENT=TRUE\n",
      "TILED=false\n",
      "TILESORIGIN=-30000,-60000\n",
      "PROJECTION=EPSG:5179\n",
      "DISPLAYPROJECTION=EPSG:5181\n",
      "TRANSFORM=EPSG:5181\n",
      "SERVICE=WMS\n",
      "VERSION=1.1.1\n",
      "REQUEST=GetMap\n",
      "CQL_FILTER=(engn_code='00') and (acdnt_year between '2022' and '2022')  and (legaldong_code ilike '4146%') and (( acdnt_gae_code = '01') or ( acdnt_gae_code = '02') or ( acdnt_gae_code = '03') or ( acdnt_gae_code = '04')) and (( road_type = '6'))\n",
      "SRS=EPSG:5181\n",
      "BBOX=167100.32825447,387798.27403903,269372.32825447,447638.27403903\n",
      "WIDTH=1598\n",
      "HEIGHT=935\n",
      "bbox_text : 167100.32825447,387798.27403903,269372.32825447,447638.27403903\n"
     ]
    },
    {
     "name": "stderr",
     "output_type": "stream",
     "text": [
      "  1%|          | 255/33698 [04:24<9:38:14,  1.04s/it]"
     ]
    },
    {
     "name": "stdout",
     "output_type": "stream",
     "text": [
      "Debugging - src content: <selenium.webdriver.remote.webelement.WebElement (session=\"5b06b3d12ca3a76e5c613afa896de233\", element=\"9E340076E16B0B12E9EB60FAF1C429D4_element_118967\")>\n",
      "Debugging - src content: https://taas.koroad.or.kr/gis36/TAAS/wms?LAYERS=GNRL_GIS_ACDNT_INFO_NON&STYLES=&FORMAT=image/png&TRANSPARENT=TRUE&TILED=false&TILESORIGIN=-30000,-60000&PROJECTION=EPSG:5179&DISPLAYPROJECTION=EPSG:5181&TRANSFORM=EPSG:5181&SERVICE=WMS&VERSION=1.1.1&REQUEST=GetMap&CQL_FILTER=(engn_code='00') and (acdnt_year between '2022' and '2022')  and (legaldong_code ilike '4146%') and (( acdnt_gae_code = '01') or ( acdnt_gae_code = '02') or ( acdnt_gae_code = '03') or ( acdnt_gae_code = '04')) and (( road_type = '6'))&SRS=EPSG:5181&BBOX=158038.78262537,391749.99831468,260310.78262537,451589.99831468&WIDTH=1598&HEIGHT=935\n",
      "src_split : ['https://taas.koroad.or.kr/gis36/TAAS/wms?LAYERS=GNRL_GIS_ACDNT_INFO_NON', 'STYLES=', 'FORMAT=image/png', 'TRANSPARENT=TRUE', 'TILED=false', 'TILESORIGIN=-30000,-60000', 'PROJECTION=EPSG:5179', 'DISPLAYPROJECTION=EPSG:5181', 'TRANSFORM=EPSG:5181', 'SERVICE=WMS', 'VERSION=1.1.1', 'REQUEST=GetMap', \"CQL_FILTER=(engn_code='00') and (acdnt_year between '2022' and '2022')  and (legaldong_code ilike '4146%') and (( acdnt_gae_code = '01') or ( acdnt_gae_code = '02') or ( acdnt_gae_code = '03') or ( acdnt_gae_code = '04')) and (( road_type = '6'))\", 'SRS=EPSG:5181', 'BBOX=158038.78262537,391749.99831468,260310.78262537,451589.99831468', 'WIDTH=1598', 'HEIGHT=935']\n",
      "Debugging - src_split:\n",
      "https://taas.koroad.or.kr/gis36/TAAS/wms?LAYERS=GNRL_GIS_ACDNT_INFO_NON\n",
      "STYLES=\n",
      "FORMAT=image/png\n",
      "TRANSPARENT=TRUE\n",
      "TILED=false\n",
      "TILESORIGIN=-30000,-60000\n",
      "PROJECTION=EPSG:5179\n",
      "DISPLAYPROJECTION=EPSG:5181\n",
      "TRANSFORM=EPSG:5181\n",
      "SERVICE=WMS\n",
      "VERSION=1.1.1\n",
      "REQUEST=GetMap\n",
      "CQL_FILTER=(engn_code='00') and (acdnt_year between '2022' and '2022')  and (legaldong_code ilike '4146%') and (( acdnt_gae_code = '01') or ( acdnt_gae_code = '02') or ( acdnt_gae_code = '03') or ( acdnt_gae_code = '04')) and (( road_type = '6'))\n",
      "SRS=EPSG:5181\n",
      "BBOX=158038.78262537,391749.99831468,260310.78262537,451589.99831468\n",
      "WIDTH=1598\n",
      "HEIGHT=935\n",
      "bbox_text : 158038.78262537,391749.99831468,260310.78262537,451589.99831468\n"
     ]
    },
    {
     "name": "stderr",
     "output_type": "stream",
     "text": [
      "  1%|          | 256/33698 [04:25<9:37:12,  1.04s/it]"
     ]
    },
    {
     "name": "stdout",
     "output_type": "stream",
     "text": [
      "Debugging - src content: <selenium.webdriver.remote.webelement.WebElement (session=\"5b06b3d12ca3a76e5c613afa896de233\", element=\"9E340076E16B0B12E9EB60FAF1C429D4_element_119407\")>\n",
      "Debugging - src content: https://taas.koroad.or.kr/gis36/TAAS/wms?LAYERS=GNRL_GIS_ACDNT_INFO_NON&STYLES=&FORMAT=image/png&TRANSPARENT=TRUE&TILED=false&TILESORIGIN=-30000,-60000&PROJECTION=EPSG:5179&DISPLAYPROJECTION=EPSG:5181&TRANSFORM=EPSG:5181&SERVICE=WMS&VERSION=1.1.1&REQUEST=GetMap&CQL_FILTER=(engn_code='00') and (acdnt_year between '2022' and '2022')  and (legaldong_code ilike '4146%') and (( acdnt_gae_code = '01') or ( acdnt_gae_code = '02') or ( acdnt_gae_code = '03') or ( acdnt_gae_code = '04')) and (( road_type = '6'))&SRS=EPSG:5181&BBOX=158363.12400017,391331.54518561,260635.12400017,451171.54518561&WIDTH=1598&HEIGHT=935\n",
      "src_split : ['https://taas.koroad.or.kr/gis36/TAAS/wms?LAYERS=GNRL_GIS_ACDNT_INFO_NON', 'STYLES=', 'FORMAT=image/png', 'TRANSPARENT=TRUE', 'TILED=false', 'TILESORIGIN=-30000,-60000', 'PROJECTION=EPSG:5179', 'DISPLAYPROJECTION=EPSG:5181', 'TRANSFORM=EPSG:5181', 'SERVICE=WMS', 'VERSION=1.1.1', 'REQUEST=GetMap', \"CQL_FILTER=(engn_code='00') and (acdnt_year between '2022' and '2022')  and (legaldong_code ilike '4146%') and (( acdnt_gae_code = '01') or ( acdnt_gae_code = '02') or ( acdnt_gae_code = '03') or ( acdnt_gae_code = '04')) and (( road_type = '6'))\", 'SRS=EPSG:5181', 'BBOX=158363.12400017,391331.54518561,260635.12400017,451171.54518561', 'WIDTH=1598', 'HEIGHT=935']\n",
      "Debugging - src_split:\n",
      "https://taas.koroad.or.kr/gis36/TAAS/wms?LAYERS=GNRL_GIS_ACDNT_INFO_NON\n",
      "STYLES=\n",
      "FORMAT=image/png\n",
      "TRANSPARENT=TRUE\n",
      "TILED=false\n",
      "TILESORIGIN=-30000,-60000\n",
      "PROJECTION=EPSG:5179\n",
      "DISPLAYPROJECTION=EPSG:5181\n",
      "TRANSFORM=EPSG:5181\n",
      "SERVICE=WMS\n",
      "VERSION=1.1.1\n",
      "REQUEST=GetMap\n",
      "CQL_FILTER=(engn_code='00') and (acdnt_year between '2022' and '2022')  and (legaldong_code ilike '4146%') and (( acdnt_gae_code = '01') or ( acdnt_gae_code = '02') or ( acdnt_gae_code = '03') or ( acdnt_gae_code = '04')) and (( road_type = '6'))\n",
      "SRS=EPSG:5181\n",
      "BBOX=158363.12400017,391331.54518561,260635.12400017,451171.54518561\n",
      "WIDTH=1598\n",
      "HEIGHT=935\n",
      "bbox_text : 158363.12400017,391331.54518561,260635.12400017,451171.54518561\n"
     ]
    },
    {
     "name": "stderr",
     "output_type": "stream",
     "text": [
      "  1%|          | 257/33698 [04:26<9:37:07,  1.04s/it]"
     ]
    },
    {
     "name": "stdout",
     "output_type": "stream",
     "text": [
      "Debugging - src content: <selenium.webdriver.remote.webelement.WebElement (session=\"5b06b3d12ca3a76e5c613afa896de233\", element=\"9E340076E16B0B12E9EB60FAF1C429D4_element_119857\")>\n",
      "Debugging - src content: https://taas.koroad.or.kr/gis36/TAAS/wms?LAYERS=GNRL_GIS_ACDNT_INFO_NON&STYLES=&FORMAT=image/png&TRANSPARENT=TRUE&TILED=false&TILESORIGIN=-30000,-60000&PROJECTION=EPSG:5179&DISPLAYPROJECTION=EPSG:5181&TRANSFORM=EPSG:5181&SERVICE=WMS&VERSION=1.1.1&REQUEST=GetMap&CQL_FILTER=(engn_code='00') and (acdnt_year between '2022' and '2022')  and (legaldong_code ilike '4146%') and (( acdnt_gae_code = '01') or ( acdnt_gae_code = '02') or ( acdnt_gae_code = '03') or ( acdnt_gae_code = '04')) and (( road_type = '6'))&SRS=EPSG:5181&BBOX=158207.03194449,385657.45090258,260479.03194449,445497.45090258&WIDTH=1598&HEIGHT=935\n",
      "src_split : ['https://taas.koroad.or.kr/gis36/TAAS/wms?LAYERS=GNRL_GIS_ACDNT_INFO_NON', 'STYLES=', 'FORMAT=image/png', 'TRANSPARENT=TRUE', 'TILED=false', 'TILESORIGIN=-30000,-60000', 'PROJECTION=EPSG:5179', 'DISPLAYPROJECTION=EPSG:5181', 'TRANSFORM=EPSG:5181', 'SERVICE=WMS', 'VERSION=1.1.1', 'REQUEST=GetMap', \"CQL_FILTER=(engn_code='00') and (acdnt_year between '2022' and '2022')  and (legaldong_code ilike '4146%') and (( acdnt_gae_code = '01') or ( acdnt_gae_code = '02') or ( acdnt_gae_code = '03') or ( acdnt_gae_code = '04')) and (( road_type = '6'))\", 'SRS=EPSG:5181', 'BBOX=158207.03194449,385657.45090258,260479.03194449,445497.45090258', 'WIDTH=1598', 'HEIGHT=935']\n",
      "Debugging - src_split:\n",
      "https://taas.koroad.or.kr/gis36/TAAS/wms?LAYERS=GNRL_GIS_ACDNT_INFO_NON\n",
      "STYLES=\n",
      "FORMAT=image/png\n",
      "TRANSPARENT=TRUE\n",
      "TILED=false\n",
      "TILESORIGIN=-30000,-60000\n",
      "PROJECTION=EPSG:5179\n",
      "DISPLAYPROJECTION=EPSG:5181\n",
      "TRANSFORM=EPSG:5181\n",
      "SERVICE=WMS\n",
      "VERSION=1.1.1\n",
      "REQUEST=GetMap\n",
      "CQL_FILTER=(engn_code='00') and (acdnt_year between '2022' and '2022')  and (legaldong_code ilike '4146%') and (( acdnt_gae_code = '01') or ( acdnt_gae_code = '02') or ( acdnt_gae_code = '03') or ( acdnt_gae_code = '04')) and (( road_type = '6'))\n",
      "SRS=EPSG:5181\n",
      "BBOX=158207.03194449,385657.45090258,260479.03194449,445497.45090258\n",
      "WIDTH=1598\n",
      "HEIGHT=935\n",
      "bbox_text : 158207.03194449,385657.45090258,260479.03194449,445497.45090258\n"
     ]
    },
    {
     "name": "stderr",
     "output_type": "stream",
     "text": [
      "  1%|          | 258/33698 [04:27<9:37:02,  1.04s/it]"
     ]
    },
    {
     "name": "stdout",
     "output_type": "stream",
     "text": [
      "Debugging - src content: <selenium.webdriver.remote.webelement.WebElement (session=\"5b06b3d12ca3a76e5c613afa896de233\", element=\"9E340076E16B0B12E9EB60FAF1C429D4_element_120297\")>\n",
      "Debugging - src content: https://taas.koroad.or.kr/gis36/TAAS/wms?LAYERS=GNRL_GIS_ACDNT_INFO_NON&STYLES=&FORMAT=image/png&TRANSPARENT=TRUE&TILED=false&TILESORIGIN=-30000,-60000&PROJECTION=EPSG:5179&DISPLAYPROJECTION=EPSG:5181&TRANSFORM=EPSG:5181&SERVICE=WMS&VERSION=1.1.1&REQUEST=GetMap&CQL_FILTER=(engn_code='00') and (acdnt_year between '2022' and '2022')  and (legaldong_code ilike '4146%') and (( acdnt_gae_code = '01') or ( acdnt_gae_code = '02') or ( acdnt_gae_code = '03') or ( acdnt_gae_code = '04')) and (( road_type = '6'))&SRS=EPSG:5181&BBOX=158238.79500612,385136.41018663,260510.79500612,444976.41018663&WIDTH=1598&HEIGHT=935\n",
      "src_split : ['https://taas.koroad.or.kr/gis36/TAAS/wms?LAYERS=GNRL_GIS_ACDNT_INFO_NON', 'STYLES=', 'FORMAT=image/png', 'TRANSPARENT=TRUE', 'TILED=false', 'TILESORIGIN=-30000,-60000', 'PROJECTION=EPSG:5179', 'DISPLAYPROJECTION=EPSG:5181', 'TRANSFORM=EPSG:5181', 'SERVICE=WMS', 'VERSION=1.1.1', 'REQUEST=GetMap', \"CQL_FILTER=(engn_code='00') and (acdnt_year between '2022' and '2022')  and (legaldong_code ilike '4146%') and (( acdnt_gae_code = '01') or ( acdnt_gae_code = '02') or ( acdnt_gae_code = '03') or ( acdnt_gae_code = '04')) and (( road_type = '6'))\", 'SRS=EPSG:5181', 'BBOX=158238.79500612,385136.41018663,260510.79500612,444976.41018663', 'WIDTH=1598', 'HEIGHT=935']\n",
      "Debugging - src_split:\n",
      "https://taas.koroad.or.kr/gis36/TAAS/wms?LAYERS=GNRL_GIS_ACDNT_INFO_NON\n",
      "STYLES=\n",
      "FORMAT=image/png\n",
      "TRANSPARENT=TRUE\n",
      "TILED=false\n",
      "TILESORIGIN=-30000,-60000\n",
      "PROJECTION=EPSG:5179\n",
      "DISPLAYPROJECTION=EPSG:5181\n",
      "TRANSFORM=EPSG:5181\n",
      "SERVICE=WMS\n",
      "VERSION=1.1.1\n",
      "REQUEST=GetMap\n",
      "CQL_FILTER=(engn_code='00') and (acdnt_year between '2022' and '2022')  and (legaldong_code ilike '4146%') and (( acdnt_gae_code = '01') or ( acdnt_gae_code = '02') or ( acdnt_gae_code = '03') or ( acdnt_gae_code = '04')) and (( road_type = '6'))\n",
      "SRS=EPSG:5181\n",
      "BBOX=158238.79500612,385136.41018663,260510.79500612,444976.41018663\n",
      "WIDTH=1598\n",
      "HEIGHT=935\n",
      "bbox_text : 158238.79500612,385136.41018663,260510.79500612,444976.41018663\n"
     ]
    },
    {
     "name": "stderr",
     "output_type": "stream",
     "text": [
      "  1%|          | 259/33698 [04:28<9:36:15,  1.03s/it]"
     ]
    },
    {
     "name": "stdout",
     "output_type": "stream",
     "text": [
      "Debugging - src content: <selenium.webdriver.remote.webelement.WebElement (session=\"5b06b3d12ca3a76e5c613afa896de233\", element=\"9E340076E16B0B12E9EB60FAF1C429D4_element_120737\")>\n",
      "Debugging - src content: https://taas.koroad.or.kr/gis36/TAAS/wms?LAYERS=GNRL_GIS_ACDNT_INFO_NON&STYLES=&FORMAT=image/png&TRANSPARENT=TRUE&TILED=false&TILESORIGIN=-30000,-60000&PROJECTION=EPSG:5179&DISPLAYPROJECTION=EPSG:5181&TRANSFORM=EPSG:5181&SERVICE=WMS&VERSION=1.1.1&REQUEST=GetMap&CQL_FILTER=(engn_code='00') and (acdnt_year between '2022' and '2022')  and (legaldong_code ilike '4146%') and (( acdnt_gae_code = '01') or ( acdnt_gae_code = '02') or ( acdnt_gae_code = '03') or ( acdnt_gae_code = '04')) and (( road_type = '6'))&SRS=EPSG:5181&BBOX=165934.94248065,388538.42174858,268206.94248065,448378.42174858&WIDTH=1598&HEIGHT=935\n",
      "src_split : ['https://taas.koroad.or.kr/gis36/TAAS/wms?LAYERS=GNRL_GIS_ACDNT_INFO_NON', 'STYLES=', 'FORMAT=image/png', 'TRANSPARENT=TRUE', 'TILED=false', 'TILESORIGIN=-30000,-60000', 'PROJECTION=EPSG:5179', 'DISPLAYPROJECTION=EPSG:5181', 'TRANSFORM=EPSG:5181', 'SERVICE=WMS', 'VERSION=1.1.1', 'REQUEST=GetMap', \"CQL_FILTER=(engn_code='00') and (acdnt_year between '2022' and '2022')  and (legaldong_code ilike '4146%') and (( acdnt_gae_code = '01') or ( acdnt_gae_code = '02') or ( acdnt_gae_code = '03') or ( acdnt_gae_code = '04')) and (( road_type = '6'))\", 'SRS=EPSG:5181', 'BBOX=165934.94248065,388538.42174858,268206.94248065,448378.42174858', 'WIDTH=1598', 'HEIGHT=935']\n",
      "Debugging - src_split:\n",
      "https://taas.koroad.or.kr/gis36/TAAS/wms?LAYERS=GNRL_GIS_ACDNT_INFO_NON\n",
      "STYLES=\n",
      "FORMAT=image/png\n",
      "TRANSPARENT=TRUE\n",
      "TILED=false\n",
      "TILESORIGIN=-30000,-60000\n",
      "PROJECTION=EPSG:5179\n",
      "DISPLAYPROJECTION=EPSG:5181\n",
      "TRANSFORM=EPSG:5181\n",
      "SERVICE=WMS\n",
      "VERSION=1.1.1\n",
      "REQUEST=GetMap\n",
      "CQL_FILTER=(engn_code='00') and (acdnt_year between '2022' and '2022')  and (legaldong_code ilike '4146%') and (( acdnt_gae_code = '01') or ( acdnt_gae_code = '02') or ( acdnt_gae_code = '03') or ( acdnt_gae_code = '04')) and (( road_type = '6'))\n",
      "SRS=EPSG:5181\n",
      "BBOX=165934.94248065,388538.42174858,268206.94248065,448378.42174858\n",
      "WIDTH=1598\n",
      "HEIGHT=935\n",
      "bbox_text : 165934.94248065,388538.42174858,268206.94248065,448378.42174858\n"
     ]
    },
    {
     "name": "stderr",
     "output_type": "stream",
     "text": [
      "  1%|          | 260/33698 [04:29<9:36:01,  1.03s/it]"
     ]
    },
    {
     "name": "stdout",
     "output_type": "stream",
     "text": [
      "Debugging - src content: <selenium.webdriver.remote.webelement.WebElement (session=\"5b06b3d12ca3a76e5c613afa896de233\", element=\"9E340076E16B0B12E9EB60FAF1C429D4_element_121184\")>\n",
      "Debugging - src content: https://taas.koroad.or.kr/gis36/TAAS/wms?LAYERS=GNRL_GIS_ACDNT_INFO_NON&STYLES=&FORMAT=image/png&TRANSPARENT=TRUE&TILED=false&TILESORIGIN=-30000,-60000&PROJECTION=EPSG:5179&DISPLAYPROJECTION=EPSG:5181&TRANSFORM=EPSG:5181&SERVICE=WMS&VERSION=1.1.1&REQUEST=GetMap&CQL_FILTER=(engn_code='00') and (acdnt_year between '2022' and '2022')  and (legaldong_code ilike '4146%') and (( acdnt_gae_code = '01') or ( acdnt_gae_code = '02') or ( acdnt_gae_code = '03') or ( acdnt_gae_code = '04')) and (( road_type = '6'))&SRS=EPSG:5181&BBOX=170589.00941434,386426.13082245,272861.00941434,446266.13082245&WIDTH=1598&HEIGHT=935\n",
      "src_split : ['https://taas.koroad.or.kr/gis36/TAAS/wms?LAYERS=GNRL_GIS_ACDNT_INFO_NON', 'STYLES=', 'FORMAT=image/png', 'TRANSPARENT=TRUE', 'TILED=false', 'TILESORIGIN=-30000,-60000', 'PROJECTION=EPSG:5179', 'DISPLAYPROJECTION=EPSG:5181', 'TRANSFORM=EPSG:5181', 'SERVICE=WMS', 'VERSION=1.1.1', 'REQUEST=GetMap', \"CQL_FILTER=(engn_code='00') and (acdnt_year between '2022' and '2022')  and (legaldong_code ilike '4146%') and (( acdnt_gae_code = '01') or ( acdnt_gae_code = '02') or ( acdnt_gae_code = '03') or ( acdnt_gae_code = '04')) and (( road_type = '6'))\", 'SRS=EPSG:5181', 'BBOX=170589.00941434,386426.13082245,272861.00941434,446266.13082245', 'WIDTH=1598', 'HEIGHT=935']\n",
      "Debugging - src_split:\n",
      "https://taas.koroad.or.kr/gis36/TAAS/wms?LAYERS=GNRL_GIS_ACDNT_INFO_NON\n",
      "STYLES=\n",
      "FORMAT=image/png\n",
      "TRANSPARENT=TRUE\n",
      "TILED=false\n",
      "TILESORIGIN=-30000,-60000\n",
      "PROJECTION=EPSG:5179\n",
      "DISPLAYPROJECTION=EPSG:5181\n",
      "TRANSFORM=EPSG:5181\n",
      "SERVICE=WMS\n",
      "VERSION=1.1.1\n",
      "REQUEST=GetMap\n",
      "CQL_FILTER=(engn_code='00') and (acdnt_year between '2022' and '2022')  and (legaldong_code ilike '4146%') and (( acdnt_gae_code = '01') or ( acdnt_gae_code = '02') or ( acdnt_gae_code = '03') or ( acdnt_gae_code = '04')) and (( road_type = '6'))\n",
      "SRS=EPSG:5181\n",
      "BBOX=170589.00941434,386426.13082245,272861.00941434,446266.13082245\n",
      "WIDTH=1598\n",
      "HEIGHT=935\n",
      "bbox_text : 170589.00941434,386426.13082245,272861.00941434,446266.13082245\n"
     ]
    },
    {
     "name": "stderr",
     "output_type": "stream",
     "text": [
      "  1%|          | 261/33698 [04:30<9:35:46,  1.03s/it]"
     ]
    },
    {
     "name": "stdout",
     "output_type": "stream",
     "text": [
      "Debugging - src content: <selenium.webdriver.remote.webelement.WebElement (session=\"5b06b3d12ca3a76e5c613afa896de233\", element=\"9E340076E16B0B12E9EB60FAF1C429D4_element_121624\")>\n",
      "Debugging - src content: https://taas.koroad.or.kr/gis36/TAAS/wms?LAYERS=GNRL_GIS_ACDNT_INFO_NON&STYLES=&FORMAT=image/png&TRANSPARENT=TRUE&TILED=false&TILESORIGIN=-30000,-60000&PROJECTION=EPSG:5179&DISPLAYPROJECTION=EPSG:5181&TRANSFORM=EPSG:5181&SERVICE=WMS&VERSION=1.1.1&REQUEST=GetMap&CQL_FILTER=(engn_code='00') and (acdnt_year between '2022' and '2022')  and (legaldong_code ilike '4146%') and (( acdnt_gae_code = '01') or ( acdnt_gae_code = '02') or ( acdnt_gae_code = '03') or ( acdnt_gae_code = '04')) and (( road_type = '6'))&SRS=EPSG:5181&BBOX=181153.74901435,385609.56086157,283425.74901435,445449.56086157&WIDTH=1598&HEIGHT=935\n",
      "src_split : ['https://taas.koroad.or.kr/gis36/TAAS/wms?LAYERS=GNRL_GIS_ACDNT_INFO_NON', 'STYLES=', 'FORMAT=image/png', 'TRANSPARENT=TRUE', 'TILED=false', 'TILESORIGIN=-30000,-60000', 'PROJECTION=EPSG:5179', 'DISPLAYPROJECTION=EPSG:5181', 'TRANSFORM=EPSG:5181', 'SERVICE=WMS', 'VERSION=1.1.1', 'REQUEST=GetMap', \"CQL_FILTER=(engn_code='00') and (acdnt_year between '2022' and '2022')  and (legaldong_code ilike '4146%') and (( acdnt_gae_code = '01') or ( acdnt_gae_code = '02') or ( acdnt_gae_code = '03') or ( acdnt_gae_code = '04')) and (( road_type = '6'))\", 'SRS=EPSG:5181', 'BBOX=181153.74901435,385609.56086157,283425.74901435,445449.56086157', 'WIDTH=1598', 'HEIGHT=935']\n",
      "Debugging - src_split:\n",
      "https://taas.koroad.or.kr/gis36/TAAS/wms?LAYERS=GNRL_GIS_ACDNT_INFO_NON\n",
      "STYLES=\n",
      "FORMAT=image/png\n",
      "TRANSPARENT=TRUE\n",
      "TILED=false\n",
      "TILESORIGIN=-30000,-60000\n",
      "PROJECTION=EPSG:5179\n",
      "DISPLAYPROJECTION=EPSG:5181\n",
      "TRANSFORM=EPSG:5181\n",
      "SERVICE=WMS\n",
      "VERSION=1.1.1\n",
      "REQUEST=GetMap\n",
      "CQL_FILTER=(engn_code='00') and (acdnt_year between '2022' and '2022')  and (legaldong_code ilike '4146%') and (( acdnt_gae_code = '01') or ( acdnt_gae_code = '02') or ( acdnt_gae_code = '03') or ( acdnt_gae_code = '04')) and (( road_type = '6'))\n",
      "SRS=EPSG:5181\n",
      "BBOX=181153.74901435,385609.56086157,283425.74901435,445449.56086157\n",
      "WIDTH=1598\n",
      "HEIGHT=935\n",
      "bbox_text : 181153.74901435,385609.56086157,283425.74901435,445449.56086157\n"
     ]
    },
    {
     "name": "stderr",
     "output_type": "stream",
     "text": [
      "  1%|          | 262/33698 [04:31<9:35:20,  1.03s/it]"
     ]
    },
    {
     "name": "stdout",
     "output_type": "stream",
     "text": [
      "Debugging - src content: <selenium.webdriver.remote.webelement.WebElement (session=\"5b06b3d12ca3a76e5c613afa896de233\", element=\"9E340076E16B0B12E9EB60FAF1C429D4_element_122071\")>\n",
      "Debugging - src content: https://taas.koroad.or.kr/gis36/TAAS/wms?LAYERS=GNRL_GIS_ACDNT_INFO_NON&STYLES=&FORMAT=image/png&TRANSPARENT=TRUE&TILED=false&TILESORIGIN=-30000,-60000&PROJECTION=EPSG:5179&DISPLAYPROJECTION=EPSG:5181&TRANSFORM=EPSG:5181&SERVICE=WMS&VERSION=1.1.1&REQUEST=GetMap&CQL_FILTER=(engn_code='00') and (acdnt_year between '2022' and '2022')  and (legaldong_code ilike '4146%') and (( acdnt_gae_code = '01') or ( acdnt_gae_code = '02') or ( acdnt_gae_code = '03') or ( acdnt_gae_code = '04')) and (( road_type = '6'))&SRS=EPSG:5181&BBOX=158025.28155361,388058.45121665,260297.28155361,447898.45121665&WIDTH=1598&HEIGHT=935\n",
      "src_split : ['https://taas.koroad.or.kr/gis36/TAAS/wms?LAYERS=GNRL_GIS_ACDNT_INFO_NON', 'STYLES=', 'FORMAT=image/png', 'TRANSPARENT=TRUE', 'TILED=false', 'TILESORIGIN=-30000,-60000', 'PROJECTION=EPSG:5179', 'DISPLAYPROJECTION=EPSG:5181', 'TRANSFORM=EPSG:5181', 'SERVICE=WMS', 'VERSION=1.1.1', 'REQUEST=GetMap', \"CQL_FILTER=(engn_code='00') and (acdnt_year between '2022' and '2022')  and (legaldong_code ilike '4146%') and (( acdnt_gae_code = '01') or ( acdnt_gae_code = '02') or ( acdnt_gae_code = '03') or ( acdnt_gae_code = '04')) and (( road_type = '6'))\", 'SRS=EPSG:5181', 'BBOX=158025.28155361,388058.45121665,260297.28155361,447898.45121665', 'WIDTH=1598', 'HEIGHT=935']\n",
      "Debugging - src_split:\n",
      "https://taas.koroad.or.kr/gis36/TAAS/wms?LAYERS=GNRL_GIS_ACDNT_INFO_NON\n",
      "STYLES=\n",
      "FORMAT=image/png\n",
      "TRANSPARENT=TRUE\n",
      "TILED=false\n",
      "TILESORIGIN=-30000,-60000\n",
      "PROJECTION=EPSG:5179\n",
      "DISPLAYPROJECTION=EPSG:5181\n",
      "TRANSFORM=EPSG:5181\n",
      "SERVICE=WMS\n",
      "VERSION=1.1.1\n",
      "REQUEST=GetMap\n",
      "CQL_FILTER=(engn_code='00') and (acdnt_year between '2022' and '2022')  and (legaldong_code ilike '4146%') and (( acdnt_gae_code = '01') or ( acdnt_gae_code = '02') or ( acdnt_gae_code = '03') or ( acdnt_gae_code = '04')) and (( road_type = '6'))\n",
      "SRS=EPSG:5181\n",
      "BBOX=158025.28155361,388058.45121665,260297.28155361,447898.45121665\n",
      "WIDTH=1598\n",
      "HEIGHT=935\n",
      "bbox_text : 158025.28155361,388058.45121665,260297.28155361,447898.45121665\n"
     ]
    },
    {
     "name": "stderr",
     "output_type": "stream",
     "text": [
      "  1%|          | 263/33698 [04:32<9:36:40,  1.03s/it]"
     ]
    },
    {
     "name": "stdout",
     "output_type": "stream",
     "text": [
      "Debugging - src content: <selenium.webdriver.remote.webelement.WebElement (session=\"5b06b3d12ca3a76e5c613afa896de233\", element=\"9E340076E16B0B12E9EB60FAF1C429D4_element_122521\")>\n",
      "Debugging - src content: https://taas.koroad.or.kr/gis36/TAAS/wms?LAYERS=GNRL_GIS_ACDNT_INFO_NON&STYLES=&FORMAT=image/png&TRANSPARENT=TRUE&TILED=false&TILESORIGIN=-30000,-60000&PROJECTION=EPSG:5179&DISPLAYPROJECTION=EPSG:5181&TRANSFORM=EPSG:5181&SERVICE=WMS&VERSION=1.1.1&REQUEST=GetMap&CQL_FILTER=(engn_code='00') and (acdnt_year between '2022' and '2022')  and (legaldong_code ilike '4146%') and (( acdnt_gae_code = '01') or ( acdnt_gae_code = '02') or ( acdnt_gae_code = '03') or ( acdnt_gae_code = '04')) and (( road_type = '6'))&SRS=EPSG:5181&BBOX=159410.50423198,370290.63944649,261682.50423198,430130.63944649&WIDTH=1598&HEIGHT=935\n",
      "src_split : ['https://taas.koroad.or.kr/gis36/TAAS/wms?LAYERS=GNRL_GIS_ACDNT_INFO_NON', 'STYLES=', 'FORMAT=image/png', 'TRANSPARENT=TRUE', 'TILED=false', 'TILESORIGIN=-30000,-60000', 'PROJECTION=EPSG:5179', 'DISPLAYPROJECTION=EPSG:5181', 'TRANSFORM=EPSG:5181', 'SERVICE=WMS', 'VERSION=1.1.1', 'REQUEST=GetMap', \"CQL_FILTER=(engn_code='00') and (acdnt_year between '2022' and '2022')  and (legaldong_code ilike '4146%') and (( acdnt_gae_code = '01') or ( acdnt_gae_code = '02') or ( acdnt_gae_code = '03') or ( acdnt_gae_code = '04')) and (( road_type = '6'))\", 'SRS=EPSG:5181', 'BBOX=159410.50423198,370290.63944649,261682.50423198,430130.63944649', 'WIDTH=1598', 'HEIGHT=935']\n",
      "Debugging - src_split:\n",
      "https://taas.koroad.or.kr/gis36/TAAS/wms?LAYERS=GNRL_GIS_ACDNT_INFO_NON\n",
      "STYLES=\n",
      "FORMAT=image/png\n",
      "TRANSPARENT=TRUE\n",
      "TILED=false\n",
      "TILESORIGIN=-30000,-60000\n",
      "PROJECTION=EPSG:5179\n",
      "DISPLAYPROJECTION=EPSG:5181\n",
      "TRANSFORM=EPSG:5181\n",
      "SERVICE=WMS\n",
      "VERSION=1.1.1\n",
      "REQUEST=GetMap\n",
      "CQL_FILTER=(engn_code='00') and (acdnt_year between '2022' and '2022')  and (legaldong_code ilike '4146%') and (( acdnt_gae_code = '01') or ( acdnt_gae_code = '02') or ( acdnt_gae_code = '03') or ( acdnt_gae_code = '04')) and (( road_type = '6'))\n",
      "SRS=EPSG:5181\n",
      "BBOX=159410.50423198,370290.63944649,261682.50423198,430130.63944649\n",
      "WIDTH=1598\n",
      "HEIGHT=935\n",
      "bbox_text : 159410.50423198,370290.63944649,261682.50423198,430130.63944649\n"
     ]
    },
    {
     "name": "stderr",
     "output_type": "stream",
     "text": [
      "  1%|          | 264/33698 [04:33<9:36:20,  1.03s/it]"
     ]
    },
    {
     "name": "stdout",
     "output_type": "stream",
     "text": [
      "Debugging - src content: <selenium.webdriver.remote.webelement.WebElement (session=\"5b06b3d12ca3a76e5c613afa896de233\", element=\"9E340076E16B0B12E9EB60FAF1C429D4_element_122981\")>\n",
      "Debugging - src content: https://taas.koroad.or.kr/gis36/TAAS/wms?LAYERS=GNRL_GIS_ACDNT_INFO_NON&STYLES=&FORMAT=image/png&TRANSPARENT=TRUE&TILED=false&TILESORIGIN=-30000,-60000&PROJECTION=EPSG:5179&DISPLAYPROJECTION=EPSG:5181&TRANSFORM=EPSG:5181&SERVICE=WMS&VERSION=1.1.1&REQUEST=GetMap&CQL_FILTER=(engn_code='00') and (acdnt_year between '2022' and '2022')  and (legaldong_code ilike '4146%') and (( acdnt_gae_code = '01') or ( acdnt_gae_code = '02') or ( acdnt_gae_code = '03') or ( acdnt_gae_code = '04')) and (( road_type = '6'))&SRS=EPSG:5181&BBOX=154039.27733725,395516.34815484,256311.27733725,455356.34815484&WIDTH=1598&HEIGHT=935\n",
      "src_split : ['https://taas.koroad.or.kr/gis36/TAAS/wms?LAYERS=GNRL_GIS_ACDNT_INFO_NON', 'STYLES=', 'FORMAT=image/png', 'TRANSPARENT=TRUE', 'TILED=false', 'TILESORIGIN=-30000,-60000', 'PROJECTION=EPSG:5179', 'DISPLAYPROJECTION=EPSG:5181', 'TRANSFORM=EPSG:5181', 'SERVICE=WMS', 'VERSION=1.1.1', 'REQUEST=GetMap', \"CQL_FILTER=(engn_code='00') and (acdnt_year between '2022' and '2022')  and (legaldong_code ilike '4146%') and (( acdnt_gae_code = '01') or ( acdnt_gae_code = '02') or ( acdnt_gae_code = '03') or ( acdnt_gae_code = '04')) and (( road_type = '6'))\", 'SRS=EPSG:5181', 'BBOX=154039.27733725,395516.34815484,256311.27733725,455356.34815484', 'WIDTH=1598', 'HEIGHT=935']\n",
      "Debugging - src_split:\n",
      "https://taas.koroad.or.kr/gis36/TAAS/wms?LAYERS=GNRL_GIS_ACDNT_INFO_NON\n",
      "STYLES=\n",
      "FORMAT=image/png\n",
      "TRANSPARENT=TRUE\n",
      "TILED=false\n",
      "TILESORIGIN=-30000,-60000\n",
      "PROJECTION=EPSG:5179\n",
      "DISPLAYPROJECTION=EPSG:5181\n",
      "TRANSFORM=EPSG:5181\n",
      "SERVICE=WMS\n",
      "VERSION=1.1.1\n",
      "REQUEST=GetMap\n",
      "CQL_FILTER=(engn_code='00') and (acdnt_year between '2022' and '2022')  and (legaldong_code ilike '4146%') and (( acdnt_gae_code = '01') or ( acdnt_gae_code = '02') or ( acdnt_gae_code = '03') or ( acdnt_gae_code = '04')) and (( road_type = '6'))\n",
      "SRS=EPSG:5181\n",
      "BBOX=154039.27733725,395516.34815484,256311.27733725,455356.34815484\n",
      "WIDTH=1598\n",
      "HEIGHT=935\n",
      "bbox_text : 154039.27733725,395516.34815484,256311.27733725,455356.34815484\n"
     ]
    },
    {
     "name": "stderr",
     "output_type": "stream",
     "text": [
      "  1%|          | 265/33698 [04:34<9:36:10,  1.03s/it]"
     ]
    },
    {
     "name": "stdout",
     "output_type": "stream",
     "text": [
      "Debugging - src content: <selenium.webdriver.remote.webelement.WebElement (session=\"5b06b3d12ca3a76e5c613afa896de233\", element=\"9E340076E16B0B12E9EB60FAF1C429D4_element_123421\")>\n",
      "Debugging - src content: https://taas.koroad.or.kr/gis36/TAAS/wms?LAYERS=GNRL_GIS_ACDNT_INFO_NON&STYLES=&FORMAT=image/png&TRANSPARENT=TRUE&TILED=false&TILESORIGIN=-30000,-60000&PROJECTION=EPSG:5179&DISPLAYPROJECTION=EPSG:5181&TRANSFORM=EPSG:5181&SERVICE=WMS&VERSION=1.1.1&REQUEST=GetMap&CQL_FILTER=(engn_code='00') and (acdnt_year between '2022' and '2022')  and (legaldong_code ilike '4146%') and (( acdnt_gae_code = '01') or ( acdnt_gae_code = '02') or ( acdnt_gae_code = '03') or ( acdnt_gae_code = '04')) and (( road_type = '6'))&SRS=EPSG:5181&BBOX=155658.04850214,391709.39873069,257930.04850214,451549.39873069&WIDTH=1598&HEIGHT=935\n",
      "src_split : ['https://taas.koroad.or.kr/gis36/TAAS/wms?LAYERS=GNRL_GIS_ACDNT_INFO_NON', 'STYLES=', 'FORMAT=image/png', 'TRANSPARENT=TRUE', 'TILED=false', 'TILESORIGIN=-30000,-60000', 'PROJECTION=EPSG:5179', 'DISPLAYPROJECTION=EPSG:5181', 'TRANSFORM=EPSG:5181', 'SERVICE=WMS', 'VERSION=1.1.1', 'REQUEST=GetMap', \"CQL_FILTER=(engn_code='00') and (acdnt_year between '2022' and '2022')  and (legaldong_code ilike '4146%') and (( acdnt_gae_code = '01') or ( acdnt_gae_code = '02') or ( acdnt_gae_code = '03') or ( acdnt_gae_code = '04')) and (( road_type = '6'))\", 'SRS=EPSG:5181', 'BBOX=155658.04850214,391709.39873069,257930.04850214,451549.39873069', 'WIDTH=1598', 'HEIGHT=935']\n",
      "Debugging - src_split:\n",
      "https://taas.koroad.or.kr/gis36/TAAS/wms?LAYERS=GNRL_GIS_ACDNT_INFO_NON\n",
      "STYLES=\n",
      "FORMAT=image/png\n",
      "TRANSPARENT=TRUE\n",
      "TILED=false\n",
      "TILESORIGIN=-30000,-60000\n",
      "PROJECTION=EPSG:5179\n",
      "DISPLAYPROJECTION=EPSG:5181\n",
      "TRANSFORM=EPSG:5181\n",
      "SERVICE=WMS\n",
      "VERSION=1.1.1\n",
      "REQUEST=GetMap\n",
      "CQL_FILTER=(engn_code='00') and (acdnt_year between '2022' and '2022')  and (legaldong_code ilike '4146%') and (( acdnt_gae_code = '01') or ( acdnt_gae_code = '02') or ( acdnt_gae_code = '03') or ( acdnt_gae_code = '04')) and (( road_type = '6'))\n",
      "SRS=EPSG:5181\n",
      "BBOX=155658.04850214,391709.39873069,257930.04850214,451549.39873069\n",
      "WIDTH=1598\n",
      "HEIGHT=935\n",
      "bbox_text : 155658.04850214,391709.39873069,257930.04850214,451549.39873069\n"
     ]
    },
    {
     "name": "stderr",
     "output_type": "stream",
     "text": [
      "  1%|          | 266/33698 [04:35<9:35:51,  1.03s/it]"
     ]
    },
    {
     "name": "stdout",
     "output_type": "stream",
     "text": [
      "Debugging - src content: <selenium.webdriver.remote.webelement.WebElement (session=\"5b06b3d12ca3a76e5c613afa896de233\", element=\"9E340076E16B0B12E9EB60FAF1C429D4_element_123861\")>\n",
      "Debugging - src content: https://taas.koroad.or.kr/gis36/TAAS/wms?LAYERS=GNRL_GIS_ACDNT_INFO_NON&STYLES=&FORMAT=image/png&TRANSPARENT=TRUE&TILED=false&TILESORIGIN=-30000,-60000&PROJECTION=EPSG:5179&DISPLAYPROJECTION=EPSG:5181&TRANSFORM=EPSG:5181&SERVICE=WMS&VERSION=1.1.1&REQUEST=GetMap&CQL_FILTER=(engn_code='00') and (acdnt_year between '2022' and '2022')  and (legaldong_code ilike '4146%') and (( acdnt_gae_code = '01') or ( acdnt_gae_code = '02') or ( acdnt_gae_code = '03') or ( acdnt_gae_code = '04')) and (( road_type = '6'))&SRS=EPSG:5181&BBOX=158056.84382472,390793.71144456,260328.84382472,450633.71144456&WIDTH=1598&HEIGHT=935\n",
      "src_split : ['https://taas.koroad.or.kr/gis36/TAAS/wms?LAYERS=GNRL_GIS_ACDNT_INFO_NON', 'STYLES=', 'FORMAT=image/png', 'TRANSPARENT=TRUE', 'TILED=false', 'TILESORIGIN=-30000,-60000', 'PROJECTION=EPSG:5179', 'DISPLAYPROJECTION=EPSG:5181', 'TRANSFORM=EPSG:5181', 'SERVICE=WMS', 'VERSION=1.1.1', 'REQUEST=GetMap', \"CQL_FILTER=(engn_code='00') and (acdnt_year between '2022' and '2022')  and (legaldong_code ilike '4146%') and (( acdnt_gae_code = '01') or ( acdnt_gae_code = '02') or ( acdnt_gae_code = '03') or ( acdnt_gae_code = '04')) and (( road_type = '6'))\", 'SRS=EPSG:5181', 'BBOX=158056.84382472,390793.71144456,260328.84382472,450633.71144456', 'WIDTH=1598', 'HEIGHT=935']\n",
      "Debugging - src_split:\n",
      "https://taas.koroad.or.kr/gis36/TAAS/wms?LAYERS=GNRL_GIS_ACDNT_INFO_NON\n",
      "STYLES=\n",
      "FORMAT=image/png\n",
      "TRANSPARENT=TRUE\n",
      "TILED=false\n",
      "TILESORIGIN=-30000,-60000\n",
      "PROJECTION=EPSG:5179\n",
      "DISPLAYPROJECTION=EPSG:5181\n",
      "TRANSFORM=EPSG:5181\n",
      "SERVICE=WMS\n",
      "VERSION=1.1.1\n",
      "REQUEST=GetMap\n",
      "CQL_FILTER=(engn_code='00') and (acdnt_year between '2022' and '2022')  and (legaldong_code ilike '4146%') and (( acdnt_gae_code = '01') or ( acdnt_gae_code = '02') or ( acdnt_gae_code = '03') or ( acdnt_gae_code = '04')) and (( road_type = '6'))\n",
      "SRS=EPSG:5181\n",
      "BBOX=158056.84382472,390793.71144456,260328.84382472,450633.71144456\n",
      "WIDTH=1598\n",
      "HEIGHT=935\n",
      "bbox_text : 158056.84382472,390793.71144456,260328.84382472,450633.71144456\n"
     ]
    },
    {
     "name": "stderr",
     "output_type": "stream",
     "text": [
      "  1%|          | 267/33698 [04:36<9:35:39,  1.03s/it]"
     ]
    },
    {
     "name": "stdout",
     "output_type": "stream",
     "text": [
      "Debugging - src content: <selenium.webdriver.remote.webelement.WebElement (session=\"5b06b3d12ca3a76e5c613afa896de233\", element=\"9E340076E16B0B12E9EB60FAF1C429D4_element_124301\")>\n",
      "Debugging - src content: https://taas.koroad.or.kr/gis36/TAAS/wms?LAYERS=GNRL_GIS_ACDNT_INFO_NON&STYLES=&FORMAT=image/png&TRANSPARENT=TRUE&TILED=false&TILESORIGIN=-30000,-60000&PROJECTION=EPSG:5179&DISPLAYPROJECTION=EPSG:5181&TRANSFORM=EPSG:5181&SERVICE=WMS&VERSION=1.1.1&REQUEST=GetMap&CQL_FILTER=(engn_code='00') and (acdnt_year between '2022' and '2022')  and (legaldong_code ilike '4146%') and (( acdnt_gae_code = '01') or ( acdnt_gae_code = '02') or ( acdnt_gae_code = '03') or ( acdnt_gae_code = '04')) and (( road_type = '6'))&SRS=EPSG:5181&BBOX=154056.56415219,395463.41866339,256328.56415219,455303.41866339&WIDTH=1598&HEIGHT=935\n",
      "src_split : ['https://taas.koroad.or.kr/gis36/TAAS/wms?LAYERS=GNRL_GIS_ACDNT_INFO_NON', 'STYLES=', 'FORMAT=image/png', 'TRANSPARENT=TRUE', 'TILED=false', 'TILESORIGIN=-30000,-60000', 'PROJECTION=EPSG:5179', 'DISPLAYPROJECTION=EPSG:5181', 'TRANSFORM=EPSG:5181', 'SERVICE=WMS', 'VERSION=1.1.1', 'REQUEST=GetMap', \"CQL_FILTER=(engn_code='00') and (acdnt_year between '2022' and '2022')  and (legaldong_code ilike '4146%') and (( acdnt_gae_code = '01') or ( acdnt_gae_code = '02') or ( acdnt_gae_code = '03') or ( acdnt_gae_code = '04')) and (( road_type = '6'))\", 'SRS=EPSG:5181', 'BBOX=154056.56415219,395463.41866339,256328.56415219,455303.41866339', 'WIDTH=1598', 'HEIGHT=935']\n",
      "Debugging - src_split:\n",
      "https://taas.koroad.or.kr/gis36/TAAS/wms?LAYERS=GNRL_GIS_ACDNT_INFO_NON\n",
      "STYLES=\n",
      "FORMAT=image/png\n",
      "TRANSPARENT=TRUE\n",
      "TILED=false\n",
      "TILESORIGIN=-30000,-60000\n",
      "PROJECTION=EPSG:5179\n",
      "DISPLAYPROJECTION=EPSG:5181\n",
      "TRANSFORM=EPSG:5181\n",
      "SERVICE=WMS\n",
      "VERSION=1.1.1\n",
      "REQUEST=GetMap\n",
      "CQL_FILTER=(engn_code='00') and (acdnt_year between '2022' and '2022')  and (legaldong_code ilike '4146%') and (( acdnt_gae_code = '01') or ( acdnt_gae_code = '02') or ( acdnt_gae_code = '03') or ( acdnt_gae_code = '04')) and (( road_type = '6'))\n",
      "SRS=EPSG:5181\n",
      "BBOX=154056.56415219,395463.41866339,256328.56415219,455303.41866339\n",
      "WIDTH=1598\n",
      "HEIGHT=935\n",
      "bbox_text : 154056.56415219,395463.41866339,256328.56415219,455303.41866339\n"
     ]
    },
    {
     "name": "stderr",
     "output_type": "stream",
     "text": [
      "  1%|          | 268/33698 [04:37<9:36:54,  1.04s/it]"
     ]
    },
    {
     "name": "stdout",
     "output_type": "stream",
     "text": [
      "Debugging - src content: <selenium.webdriver.remote.webelement.WebElement (session=\"5b06b3d12ca3a76e5c613afa896de233\", element=\"9E340076E16B0B12E9EB60FAF1C429D4_element_124751\")>\n",
      "Debugging - src content: https://taas.koroad.or.kr/gis36/TAAS/wms?LAYERS=GNRL_GIS_ACDNT_INFO_NON&STYLES=&FORMAT=image/png&TRANSPARENT=TRUE&TILED=false&TILESORIGIN=-30000,-60000&PROJECTION=EPSG:5179&DISPLAYPROJECTION=EPSG:5181&TRANSFORM=EPSG:5181&SERVICE=WMS&VERSION=1.1.1&REQUEST=GetMap&CQL_FILTER=(engn_code='00') and (acdnt_year between '2022' and '2022')  and (legaldong_code ilike '4146%') and (( acdnt_gae_code = '01') or ( acdnt_gae_code = '02') or ( acdnt_gae_code = '03') or ( acdnt_gae_code = '04')) and (( road_type = '6'))&SRS=EPSG:5181&BBOX=157976.72195724,388539.38697539,260248.72195724,448379.38697539&WIDTH=1598&HEIGHT=935\n",
      "src_split : ['https://taas.koroad.or.kr/gis36/TAAS/wms?LAYERS=GNRL_GIS_ACDNT_INFO_NON', 'STYLES=', 'FORMAT=image/png', 'TRANSPARENT=TRUE', 'TILED=false', 'TILESORIGIN=-30000,-60000', 'PROJECTION=EPSG:5179', 'DISPLAYPROJECTION=EPSG:5181', 'TRANSFORM=EPSG:5181', 'SERVICE=WMS', 'VERSION=1.1.1', 'REQUEST=GetMap', \"CQL_FILTER=(engn_code='00') and (acdnt_year between '2022' and '2022')  and (legaldong_code ilike '4146%') and (( acdnt_gae_code = '01') or ( acdnt_gae_code = '02') or ( acdnt_gae_code = '03') or ( acdnt_gae_code = '04')) and (( road_type = '6'))\", 'SRS=EPSG:5181', 'BBOX=157976.72195724,388539.38697539,260248.72195724,448379.38697539', 'WIDTH=1598', 'HEIGHT=935']\n",
      "Debugging - src_split:\n",
      "https://taas.koroad.or.kr/gis36/TAAS/wms?LAYERS=GNRL_GIS_ACDNT_INFO_NON\n",
      "STYLES=\n",
      "FORMAT=image/png\n",
      "TRANSPARENT=TRUE\n",
      "TILED=false\n",
      "TILESORIGIN=-30000,-60000\n",
      "PROJECTION=EPSG:5179\n",
      "DISPLAYPROJECTION=EPSG:5181\n",
      "TRANSFORM=EPSG:5181\n",
      "SERVICE=WMS\n",
      "VERSION=1.1.1\n",
      "REQUEST=GetMap\n",
      "CQL_FILTER=(engn_code='00') and (acdnt_year between '2022' and '2022')  and (legaldong_code ilike '4146%') and (( acdnt_gae_code = '01') or ( acdnt_gae_code = '02') or ( acdnt_gae_code = '03') or ( acdnt_gae_code = '04')) and (( road_type = '6'))\n",
      "SRS=EPSG:5181\n",
      "BBOX=157976.72195724,388539.38697539,260248.72195724,448379.38697539\n",
      "WIDTH=1598\n",
      "HEIGHT=935\n",
      "bbox_text : 157976.72195724,388539.38697539,260248.72195724,448379.38697539\n"
     ]
    },
    {
     "name": "stderr",
     "output_type": "stream",
     "text": [
      "\n"
     ]
    },
    {
     "ename": "JavascriptException",
     "evalue": "Message: javascript error: Cannot read properties of undefined (reading 'layer')\n  (Session info: chrome=120.0.6099.225)\nStacktrace:\n\tGetHandleVerifier [0x00007FF703E62142+3514994]\n\t(No symbol) [0x00007FF703A80CE2]\n\t(No symbol) [0x00007FF7039276AA]\n\t(No symbol) [0x00007FF70392CFC0]\n\t(No symbol) [0x00007FF70392F6F7]\n\t(No symbol) [0x00007FF7039B316B]\n\t(No symbol) [0x00007FF703995FEA]\n\t(No symbol) [0x00007FF7039B28F6]\n\t(No symbol) [0x00007FF703995D93]\n\t(No symbol) [0x00007FF703964BDC]\n\t(No symbol) [0x00007FF703965C64]\n\tGetHandleVerifier [0x00007FF703E8E16B+3695259]\n\tGetHandleVerifier [0x00007FF703EE6737+4057191]\n\tGetHandleVerifier [0x00007FF703EDE4E3+4023827]\n\tGetHandleVerifier [0x00007FF703BB04F9+689705]\n\t(No symbol) [0x00007FF703A8C048]\n\t(No symbol) [0x00007FF703A88044]\n\t(No symbol) [0x00007FF703A881C9]\n\t(No symbol) [0x00007FF703A788C4]\n\tBaseThreadInitThunk [0x00007FFDF0337614+20]\n\tRtlUserThreadStart [0x00007FFDF1AC26A1+33]\n",
     "output_type": "error",
     "traceback": [
      "\u001b[1;31m---------------------------------------------------------------------------\u001b[0m",
      "\u001b[1;31mJavascriptException\u001b[0m                       Traceback (most recent call last)",
      "Cell \u001b[1;32mIn[36], line 6\u001b[0m\n\u001b[0;32m      3\u001b[0m srs_ls \u001b[38;5;241m=\u001b[39m []\n\u001b[0;32m      5\u001b[0m \u001b[38;5;28;01mfor\u001b[39;00m i \u001b[38;5;129;01min\u001b[39;00m tqdm(\u001b[38;5;28mrange\u001b[39m(\u001b[38;5;241m0\u001b[39m,\u001b[38;5;241m33698\u001b[39m)):\n\u001b[1;32m----> 6\u001b[0m     \u001b[43mdriver\u001b[49m\u001b[38;5;241;43m.\u001b[39;49m\u001b[43mexecute_script\u001b[49m\u001b[43m(\u001b[49m\u001b[38;5;124;43mf\u001b[39;49m\u001b[38;5;124;43m'\u001b[39;49m\u001b[38;5;124;43mgis.srh.msh.selectListUi(\u001b[39;49m\u001b[38;5;132;43;01m{\u001b[39;49;00m\u001b[43mi\u001b[49m\u001b[38;5;132;43;01m}\u001b[39;49;00m\u001b[38;5;124;43m, 11);\u001b[39;49m\u001b[38;5;124;43m'\u001b[39;49m\u001b[43m)\u001b[49m \u001b[38;5;66;03m# 개별 사고지점\u001b[39;00m\n\u001b[0;32m      7\u001b[0m     time\u001b[38;5;241m.\u001b[39msleep(\u001b[38;5;241m1\u001b[39m) \u001b[38;5;66;03m# 로드\u001b[39;00m\n\u001b[0;32m      9\u001b[0m     bbox \u001b[38;5;241m=\u001b[39m driver\u001b[38;5;241m.\u001b[39mfind_elements(By\u001b[38;5;241m.\u001b[39mCLASS_NAME,\u001b[38;5;124m'\u001b[39m\u001b[38;5;124molTileImage\u001b[39m\u001b[38;5;124m'\u001b[39m)[\u001b[38;5;241m-\u001b[39m\u001b[38;5;241m1\u001b[39m]\n",
      "File \u001b[1;32mc:\\Users\\sons\\AppData\\Local\\Programs\\Python\\Python312\\Lib\\site-packages\\selenium\\webdriver\\remote\\webdriver.py:408\u001b[0m, in \u001b[0;36mWebDriver.execute_script\u001b[1;34m(self, script, *args)\u001b[0m\n\u001b[0;32m    405\u001b[0m converted_args \u001b[38;5;241m=\u001b[39m \u001b[38;5;28mlist\u001b[39m(args)\n\u001b[0;32m    406\u001b[0m command \u001b[38;5;241m=\u001b[39m Command\u001b[38;5;241m.\u001b[39mW3C_EXECUTE_SCRIPT\n\u001b[1;32m--> 408\u001b[0m \u001b[38;5;28;01mreturn\u001b[39;00m \u001b[38;5;28;43mself\u001b[39;49m\u001b[38;5;241;43m.\u001b[39;49m\u001b[43mexecute\u001b[49m\u001b[43m(\u001b[49m\u001b[43mcommand\u001b[49m\u001b[43m,\u001b[49m\u001b[43m \u001b[49m\u001b[43m{\u001b[49m\u001b[38;5;124;43m\"\u001b[39;49m\u001b[38;5;124;43mscript\u001b[39;49m\u001b[38;5;124;43m\"\u001b[39;49m\u001b[43m:\u001b[49m\u001b[43m \u001b[49m\u001b[43mscript\u001b[49m\u001b[43m,\u001b[49m\u001b[43m \u001b[49m\u001b[38;5;124;43m\"\u001b[39;49m\u001b[38;5;124;43margs\u001b[39;49m\u001b[38;5;124;43m\"\u001b[39;49m\u001b[43m:\u001b[49m\u001b[43m \u001b[49m\u001b[43mconverted_args\u001b[49m\u001b[43m}\u001b[49m\u001b[43m)\u001b[49m[\u001b[38;5;124m\"\u001b[39m\u001b[38;5;124mvalue\u001b[39m\u001b[38;5;124m\"\u001b[39m]\n",
      "File \u001b[1;32mc:\\Users\\sons\\AppData\\Local\\Programs\\Python\\Python312\\Lib\\site-packages\\selenium\\webdriver\\remote\\webdriver.py:348\u001b[0m, in \u001b[0;36mWebDriver.execute\u001b[1;34m(self, driver_command, params)\u001b[0m\n\u001b[0;32m    346\u001b[0m response \u001b[38;5;241m=\u001b[39m \u001b[38;5;28mself\u001b[39m\u001b[38;5;241m.\u001b[39mcommand_executor\u001b[38;5;241m.\u001b[39mexecute(driver_command, params)\n\u001b[0;32m    347\u001b[0m \u001b[38;5;28;01mif\u001b[39;00m response:\n\u001b[1;32m--> 348\u001b[0m     \u001b[38;5;28;43mself\u001b[39;49m\u001b[38;5;241;43m.\u001b[39;49m\u001b[43merror_handler\u001b[49m\u001b[38;5;241;43m.\u001b[39;49m\u001b[43mcheck_response\u001b[49m\u001b[43m(\u001b[49m\u001b[43mresponse\u001b[49m\u001b[43m)\u001b[49m\n\u001b[0;32m    349\u001b[0m     response[\u001b[38;5;124m\"\u001b[39m\u001b[38;5;124mvalue\u001b[39m\u001b[38;5;124m\"\u001b[39m] \u001b[38;5;241m=\u001b[39m \u001b[38;5;28mself\u001b[39m\u001b[38;5;241m.\u001b[39m_unwrap_value(response\u001b[38;5;241m.\u001b[39mget(\u001b[38;5;124m\"\u001b[39m\u001b[38;5;124mvalue\u001b[39m\u001b[38;5;124m\"\u001b[39m, \u001b[38;5;28;01mNone\u001b[39;00m))\n\u001b[0;32m    350\u001b[0m     \u001b[38;5;28;01mreturn\u001b[39;00m response\n",
      "File \u001b[1;32mc:\\Users\\sons\\AppData\\Local\\Programs\\Python\\Python312\\Lib\\site-packages\\selenium\\webdriver\\remote\\errorhandler.py:229\u001b[0m, in \u001b[0;36mErrorHandler.check_response\u001b[1;34m(self, response)\u001b[0m\n\u001b[0;32m    227\u001b[0m         alert_text \u001b[38;5;241m=\u001b[39m value[\u001b[38;5;124m\"\u001b[39m\u001b[38;5;124malert\u001b[39m\u001b[38;5;124m\"\u001b[39m]\u001b[38;5;241m.\u001b[39mget(\u001b[38;5;124m\"\u001b[39m\u001b[38;5;124mtext\u001b[39m\u001b[38;5;124m\"\u001b[39m)\n\u001b[0;32m    228\u001b[0m     \u001b[38;5;28;01mraise\u001b[39;00m exception_class(message, screen, stacktrace, alert_text)  \u001b[38;5;66;03m# type: ignore[call-arg]  # mypy is not smart enough here\u001b[39;00m\n\u001b[1;32m--> 229\u001b[0m \u001b[38;5;28;01mraise\u001b[39;00m exception_class(message, screen, stacktrace)\n",
      "\u001b[1;31mJavascriptException\u001b[0m: Message: javascript error: Cannot read properties of undefined (reading 'layer')\n  (Session info: chrome=120.0.6099.225)\nStacktrace:\n\tGetHandleVerifier [0x00007FF703E62142+3514994]\n\t(No symbol) [0x00007FF703A80CE2]\n\t(No symbol) [0x00007FF7039276AA]\n\t(No symbol) [0x00007FF70392CFC0]\n\t(No symbol) [0x00007FF70392F6F7]\n\t(No symbol) [0x00007FF7039B316B]\n\t(No symbol) [0x00007FF703995FEA]\n\t(No symbol) [0x00007FF7039B28F6]\n\t(No symbol) [0x00007FF703995D93]\n\t(No symbol) [0x00007FF703964BDC]\n\t(No symbol) [0x00007FF703965C64]\n\tGetHandleVerifier [0x00007FF703E8E16B+3695259]\n\tGetHandleVerifier [0x00007FF703EE6737+4057191]\n\tGetHandleVerifier [0x00007FF703EDE4E3+4023827]\n\tGetHandleVerifier [0x00007FF703BB04F9+689705]\n\t(No symbol) [0x00007FF703A8C048]\n\t(No symbol) [0x00007FF703A88044]\n\t(No symbol) [0x00007FF703A881C9]\n\t(No symbol) [0x00007FF703A788C4]\n\tBaseThreadInitThunk [0x00007FFDF0337614+20]\n\tRtlUserThreadStart [0x00007FFDF1AC26A1+33]\n"
     ]
    }
   ],
   "source": [
    "# Crawling\n",
    "coord_ls = []\n",
    "srs_ls = []\n",
    "\n",
    "for i in tqdm(range(0,33698)):\n",
    "    driver.execute_script(f'gis.srh.msh.selectListUi({i}, 11);') # 개별 사고지점\n",
    "    time.sleep(1) # 로드\n",
    "\n",
    "    bbox = driver.find_elements(By.CLASS_NAME,'olTileImage')[-1]\n",
    "    # 디버깅 코드\n",
    "    # if isinstance(bbox, list):\n",
    "    #     print(\"Debugging - src content:\")\n",
    "    #     for element in bbox:\n",
    "    #         print(element)\n",
    "    # else:\n",
    "    #     print(\"Debugging - src content:\", bbox)\n",
    "\n",
    "    src = parse.unquote(bbox.get_attribute('src')) # get src and unquote from 16byte\n",
    "\n",
    "    # 디버깅 코드\n",
    "    # if isinstance(src, list):\n",
    "    #     print(\"Debugging - src content:\")\n",
    "    #     for element in src:\n",
    "    #         print(element)\n",
    "    # else:\n",
    "    #     print(\"Debugging - src content:\", src)\n",
    "\n",
    "    src_split = src.split('&')\n",
    "    print(\"src_split : \" + str(src_split))  # Use str() to convert list to string\n",
    "\n",
    "    # if isinstance(src_split, list):\n",
    "    #     print(\"Debugging - src_split:\")\n",
    "    #     for element in src_split:\n",
    "    #         print(element)\n",
    "    # else:\n",
    "    #     print(\"Debugging - src_split:\", src_split)\n",
    "\n",
    "\n",
    "    bbox_text = src_split[-3][5:]\n",
    "    print(\"bbox_text : \" + bbox_text)\n",
    "\n",
    "\n",
    "    coords = [float(i) for i in bbox_text.split(',')]\n",
    "    x, y = (coords[0]+coords[2])/2, (coords[1]+coords[3])/2 # center position\n",
    "    srs = src_split[-4][4:]\n",
    "    coord_ls.append([x, y])\n",
    "    srs_ls.append(srs)"
   ]
  },
  {
   "cell_type": "code",
   "execution_count": 37,
   "metadata": {},
   "outputs": [
    {
     "data": {
      "text/plain": [
       "[[209176.08898455, 418394.69582018],\n",
       " [209177.22091531, 426503.94392474],\n",
       " [224865.49670994002, 415932.53885942],\n",
       " [209216.39344077, 420989.94633964],\n",
       " [209160.0626828, 421615.89888425],\n",
       " [209211.80591178, 420154.58809908],\n",
       " [209034.19202678, 418743.0855474],\n",
       " [210759.24722064, 399705.55622113],\n",
       " [211087.79599158, 421244.93875139],\n",
       " [209148.37076302, 413982.78593158],\n",
       " [209296.5676287, 415851.31513254],\n",
       " [209035.03380589, 418773.1019889],\n",
       " [205165.5649273, 425192.20022866],\n",
       " [209183.49846377, 423048.59556201],\n",
       " [209193.60893736, 419244.12795092],\n",
       " [209079.03127552, 413852.36790157],\n",
       " [209170.01590082, 420868.65275342],\n",
       " [209167.8643837, 424112.93843643],\n",
       " [209283.6895888, 415827.23751964],\n",
       " [209437.32518879, 414960.70195528],\n",
       " [208964.41040531, 418885.77394688],\n",
       " [209125.07659399, 418582.5014427],\n",
       " [217168.36000277998, 418386.90708926],\n",
       " [209688.08860879, 421272.55228576],\n",
       " [222317.57082337, 416286.23450135],\n",
       " [209099.45937201, 418697.41205622],\n",
       " [209339.70499653, 414312.92765014],\n",
       " [209201.18609418, 420838.80554359],\n",
       " [209348.10776656, 415563.47210678],\n",
       " [209516.3525605, 414772.0435955],\n",
       " [209502.15511882, 414618.90739475],\n",
       " [209207.56021734, 420011.50846006],\n",
       " [209221.2889322, 417413.54229203],\n",
       " [209185.37208767, 421180.85872546],\n",
       " [213941.43775528, 420962.90610331],\n",
       " [216951.54830939998, 418523.81781362],\n",
       " [209209.58307286, 420196.59314825],\n",
       " [209309.17437748, 415737.33610767],\n",
       " [210497.65424106, 400368.44567842],\n",
       " [205217.36143503, 425612.64049296],\n",
       " [209189.45456704, 425137.46225696],\n",
       " [209215.56151617, 417361.49123648],\n",
       " [209141.19328425, 424994.14969271],\n",
       " [209191.08927851, 418395.7754826],\n",
       " [221139.5901787, 416569.13210209],\n",
       " [209161.73975485, 426026.67118972],\n",
       " [208981.73945444, 413710.79793599],\n",
       " [214547.79794471, 420752.02499199],\n",
       " [212839.27210302, 421099.13648548],\n",
       " [220475.11808798002, 416606.63924885],\n",
       " [210052.10155994, 401579.58618543],\n",
       " [214892.97067880997, 420745.84653731],\n",
       " [208920.33172633, 421168.45303308],\n",
       " [208883.17940623, 418923.35985872],\n",
       " [227188.36278584, 416141.88931662],\n",
       " [223310.45833534002, 416385.51768889],\n",
       " [221133.76752558, 416535.08730568],\n",
       " [214539.66715091, 406942.38118888],\n",
       " [209393.92750918, 415411.65325955],\n",
       " [209239.42031519, 418526.08286585],\n",
       " [209471.03265628, 414639.75147448],\n",
       " [205154.25903014, 425438.23772202],\n",
       " [225413.37883641, 415619.30042374],\n",
       " [226234.80292291997, 415414.55086852],\n",
       " [209210.62224636, 418674.99028535],\n",
       " [220259.50706511002, 416705.54157916],\n",
       " [209138.57674499, 421138.59451737],\n",
       " [209216.70302872, 417145.41087672],\n",
       " [209191.72986367, 423572.84869417],\n",
       " [224854.69319676998, 415894.46595542],\n",
       " [209188.61492758, 420756.7062864],\n",
       " [217037.71847561997, 418498.26253017],\n",
       " [209032.1437054, 418752.07832108],\n",
       " [210448.92008781, 400504.24367866],\n",
       " [204867.48729296, 424617.39645108],\n",
       " [218778.55938345997, 418095.29229511],\n",
       " [218243.03161257, 419668.10821711],\n",
       " [209219.8700814, 418060.79357267],\n",
       " [209219.35599022, 418726.05683629],\n",
       " [209219.8291567, 418257.87215011],\n",
       " [212026.08314252, 421072.82828933],\n",
       " [217177.22070606, 418413.96494334],\n",
       " [209191.59931901, 418677.89096103],\n",
       " [210684.68247098, 399807.20468159],\n",
       " [209196.28169059, 421387.99920041],\n",
       " [217837.21440522, 417898.23991358],\n",
       " [210434.98332413, 400491.16509415],\n",
       " [225677.60855868, 415596.68578345],\n",
       " [217370.04443694, 418272.92577342],\n",
       " [209220.13307766, 418579.00214667],\n",
       " [209201.30928176, 421193.94818679],\n",
       " [210075.93704367, 421330.62537129],\n",
       " [225459.47072798997, 415605.53798608],\n",
       " [209214.63831837, 418482.93471417],\n",
       " [216773.56116858998, 418696.94833043],\n",
       " [225432.22775027, 415649.41249418],\n",
       " [205411.31251235, 427526.42383177],\n",
       " [209203.13568872, 419145.13870362],\n",
       " [225118.20767227001, 415817.82509686],\n",
       " [205593.64626573, 428421.74323997],\n",
       " [224780.42665325, 415939.09249623],\n",
       " [218159.24071363, 417728.87127051],\n",
       " [224883.36634664, 415958.64407829],\n",
       " [209125.67907845, 413922.64214741],\n",
       " [208971.76720497, 418818.78604445],\n",
       " [226271.48789472, 415287.69143336],\n",
       " [210184.18328197, 401194.12695663],\n",
       " [208810.43363352, 413376.76059762],\n",
       " [207357.08671711, 421475.31337364],\n",
       " [209182.61879002, 420944.74977855],\n",
       " [207712.04343887, 404072.26119544],\n",
       " [208907.28877192, 418904.479675],\n",
       " [213422.90154852002, 414965.74056878],\n",
       " [209188.47898487, 421160.86715265],\n",
       " [209106.8901668, 418616.41893563],\n",
       " [209176.21559011, 426315.86340253],\n",
       " [210363.20370328, 400633.84456009],\n",
       " [209429.81217981, 415246.77673166],\n",
       " [209118.24184922, 418361.376957],\n",
       " [209098.45371375, 418698.40714177],\n",
       " [209134.45395302, 418322.44702699],\n",
       " [209143.30976667, 425917.53005473],\n",
       " [209096.81616411, 413894.4785809],\n",
       " [209350.35291458, 415138.31392873],\n",
       " [209339.44390487, 415120.24912246],\n",
       " [209104.49294969, 418691.43625653],\n",
       " [209186.28362955, 425736.68508226],\n",
       " [209224.66005198, 420750.89444404],\n",
       " [209162.92613787, 425235.36108173],\n",
       " [209090.46131125, 418696.3641071],\n",
       " [208009.45443535, 421265.67780667],\n",
       " [209185.8764916, 420328.52062831],\n",
       " [217679.54140500003, 418013.45431904],\n",
       " [216779.91234842, 418630.95494897],\n",
       " [209159.05706169, 425021.25501399],\n",
       " [217100.06981316, 418436.56667152],\n",
       " [216772.44977428002, 418717.95103015],\n",
       " [209097.51149173, 418687.39776446],\n",
       " [208132.9493458, 403552.2706166],\n",
       " [209127.23869015, 421012.48418539],\n",
       " [209182.23266138, 419882.32299002],\n",
       " [209517.79662278, 414688.01759863],\n",
       " [210611.58661094, 400009.90138912],\n",
       " [208836.43803551, 419060.16758678],\n",
       " [205300.77558531, 422325.78148574],\n",
       " [209162.23269166, 421583.89756024],\n",
       " [210472.18146527, 400456.34688258],\n",
       " [209058.04235841, 418773.22357703],\n",
       " [209448.41052384, 415134.83012155],\n",
       " [210824.36636097, 399497.8154647],\n",
       " [221451.55013902002, 416411.714164],\n",
       " [209187.26830317, 425550.61589136],\n",
       " [219572.32597403, 417065.06106016],\n",
       " [214702.34269511, 420660.80465991],\n",
       " [209202.36457977, 421751.17655691],\n",
       " [209452.57048648, 415104.84008251],\n",
       " [209190.20031788, 423672.88060253],\n",
       " [211400.17192316998, 421197.5706181],\n",
       " [210505.94687425, 400313.46726818],\n",
       " [208873.53330619, 413552.16359397],\n",
       " [209236.17074777, 418573.08449399],\n",
       " [209195.80486362, 423180.7134514],\n",
       " [209213.59545832, 417733.62963309],\n",
       " [213108.12469986, 421147.57690851],\n",
       " [223993.69150893, 416395.12889748],\n",
       " [209213.62077442, 418296.8549441],\n",
       " [209486.65508417, 414901.93881904],\n",
       " [221384.3235307, 416449.37478649],\n",
       " [209203.80987296, 417881.63712463],\n",
       " [209170.98106955, 423334.64374621],\n",
       " [209457.85231536, 415051.84676263],\n",
       " [209126.2144076, 418556.4970586],\n",
       " [218702.74796955002, 417485.64184213],\n",
       " [217090.06600673002, 418436.51381065],\n",
       " [226367.18005720997, 415164.14482986],\n",
       " [232016.90507685998, 416046.3400882],\n",
       " [209182.17216138, 414022.98037268],\n",
       " [221907.16945597, 416330.08591629],\n",
       " [209179.980233, 419362.10311584],\n",
       " [216577.68877843, 418846.97488009],\n",
       " [216209.90672108, 419345.23513384],\n",
       " [222837.69790342002, 416302.98746949],\n",
       " [204910.06514504, 422052.60813607],\n",
       " [208744.98538745, 418949.64033837],\n",
       " [210028.94548766, 401607.47547222],\n",
       " [213889.39169852, 420967.63296932],\n",
       " [208741.39976397, 413567.47248142],\n",
       " [207270.62423777, 419853.21127017],\n",
       " [226260.44661858003, 415294.63605865],\n",
       " [225571.54080659, 415601.12773435],\n",
       " [224224.48356674, 416263.29252636],\n",
       " [231926.51007318002, 416113.89155761],\n",
       " [209157.67018886, 425283.35246845],\n",
       " [218347.80404254002, 417636.82938274],\n",
       " [205470.94736605, 427788.84328703],\n",
       " [209200.04116238, 421812.18867034],\n",
       " [209933.63036032, 401850.07091167],\n",
       " [209201.84620948, 418631.92671155],\n",
       " [220203.25833523, 416748.26217771],\n",
       " [196559.61758888, 424924.57610542],\n",
       " [209187.1159276, 414034.01087102],\n",
       " [221664.91758417, 416358.81880698],\n",
       " [209220.45951461, 418327.90347877],\n",
       " [216692.20261156, 418758.54370702],\n",
       " [220016.69548226998, 416840.31500463],\n",
       " [209355.83603002, 415615.53372416],\n",
       " [209217.90633693, 418053.78039709],\n",
       " [224614.53317369003, 418746.38626618],\n",
       " [203398.91673616, 440660.94445366],\n",
       " [208904.27550946, 413603.34625341],\n",
       " [209363.30080433, 421207.80985721],\n",
       " [221315.37092001998, 416435.004802],\n",
       " [209224.30739977, 417599.63263224],\n",
       " [209191.56613747, 421523.02826383],\n",
       " [215296.25272364, 420155.73780596],\n",
       " [226890.49972571997, 416092.29601686],\n",
       " [209124.80699471, 418633.52041137],\n",
       " [209200.92966493, 420319.59660227],\n",
       " [224808.09940858, 416003.26533186],\n",
       " [209193.29874295, 417977.61998297],\n",
       " [212183.11031302, 421079.66090729],\n",
       " [205555.18093476, 429829.09685381],\n",
       " [213238.27984267997, 416963.57357655],\n",
       " [208824.1955551, 421186.95234409],\n",
       " [209198.67682227, 420745.75508034],\n",
       " [205054.45002156, 425205.61780076],\n",
       " [225689.70305008, 415579.7425488],\n",
       " [217325.87967061, 418300.70385855],\n",
       " [209180.04899339, 425024.36728851],\n",
       " [208892.8077713, 418994.43911411],\n",
       " [209196.39935839, 420419.61265085],\n",
       " [215210.65472226002, 420262.32883748],\n",
       " [210465.69495399, 400358.27342221],\n",
       " [209493.42850931, 414755.91615045],\n",
       " [209211.63850446, 420564.75120669],\n",
       " [209249.26266172, 414200.40535517],\n",
       " [208428.13311095, 421168.85193129],\n",
       " [209176.05209917, 421429.90903793],\n",
       " [209211.08627676, 421426.09267684],\n",
       " [209214.15714626, 417816.66579716],\n",
       " [221671.06784479, 416330.83971178],\n",
       " [210695.25803851, 421316.89305757],\n",
       " [209203.55003277, 420391.63925201],\n",
       " [209177.16381238, 425758.64561948],\n",
       " [216499.62212999002, 418853.56519042],\n",
       " [209192.04759944, 423701.90197417],\n",
       " [216486.06209739, 418958.53636299],\n",
       " [205010.91026051, 425115.35181924],\n",
       " [227101.23360877, 416159.43669127],\n",
       " [220743.35323275003, 416583.04577078],\n",
       " [226333.98755502998, 415197.98379163],\n",
       " [209360.55406077, 415290.42860978],\n",
       " [209224.45908433, 420788.9085816],\n",
       " [218236.32825447002, 417718.27403903],\n",
       " [209174.78262537, 421669.99831468],\n",
       " [209499.12400017, 421251.54518561],\n",
       " [209343.03194449, 415577.45090258],\n",
       " [209374.79500612, 415056.41018663],\n",
       " [217070.94248064997, 418458.42174858],\n",
       " [221725.00941434002, 416346.13082245],\n",
       " [232289.74901435, 415529.56086157],\n",
       " [209161.28155361, 417978.45121665],\n",
       " [210546.50423198, 400210.63944649],\n",
       " [205175.27733725, 425436.34815484],\n",
       " [206794.04850214, 421629.39873069],\n",
       " [209192.84382472, 420713.71144456],\n",
       " [205192.56415219, 425383.41866339],\n",
       " [209112.72195724, 418459.38697539]]"
      ]
     },
     "execution_count": 37,
     "metadata": {},
     "output_type": "execute_result"
    }
   ],
   "source": [
    "# 크롤링한 좌표 확인\n",
    "coord_ls"
   ]
  },
  {
   "cell_type": "code",
   "execution_count": 38,
   "metadata": {},
   "outputs": [],
   "source": [
    "# 크롤링데이터 json 파일로 저장\n",
    "import json\n",
    "\n",
    "# JSON 파일로 저장\n",
    "with open('yongin_list.json', 'w') as json_file:\n",
    "    json.dump(coord_ls, json_file)\n"
   ]
  },
  {
   "cell_type": "code",
   "execution_count": 39,
   "metadata": {},
   "outputs": [
    {
     "name": "stdout",
     "output_type": "stream",
     "text": [
      "yongin_list.json 파일의 데이터 개수: 268\n"
     ]
    }
   ],
   "source": [
    "# 크롤링한 좌표 데이터 갯수 체크\n",
    "import json\n",
    "\n",
    "# 파일 이름\n",
    "file_name = 'yongin_list.json'\n",
    "\n",
    "# 파일 내용 읽기\n",
    "with open(file_name, 'r') as file:\n",
    "    json_data = json.load(file)\n",
    "\n",
    "# JSON 데이터의 개수 확인\n",
    "data_count = len(json_data)\n",
    "\n",
    "# 결과 출력\n",
    "print(f\"{file_name} 파일의 데이터 개수: {data_count}\")\n"
   ]
  },
  {
   "cell_type": "code",
   "execution_count": 40,
   "metadata": {},
   "outputs": [],
   "source": [
    "# 크롤링데이터 csv파일로 변환\n",
    "import pandas as pd\n",
    "\n",
    "# JSON 파일 읽기\n",
    "with open('yongin_list.json', 'r') as json_file:\n",
    "    data = json.load(json_file)\n",
    "\n",
    "# JSON 데이터를 DataFrame으로 변환\n",
    "df = pd.DataFrame(data)\n",
    "\n",
    "# CSV 파일로 저장\n",
    "df.to_csv('용인시고속도로교통사고데이터.csv', index=False)"
   ]
  },
  {
   "cell_type": "code",
   "execution_count": 43,
   "metadata": {},
   "outputs": [
    {
     "name": "stderr",
     "output_type": "stream",
     "text": [
      "c:\\Users\\sons\\AppData\\Local\\Programs\\Python\\Python312\\Lib\\site-packages\\pyproj\\crs\\crs.py:141: FutureWarning: '+init=<authority>:<code>' syntax is deprecated. '<authority>:<code>' is the preferred initialization method. When making the change, be mindful of axis order changes: https://pyproj4.github.io/pyproj/stable/gotchas.html#axis-order-changes-in-proj-6\n",
      "  in_crs_string = _prepare_from_proj_string(in_crs_string)\n",
      "c:\\Users\\sons\\AppData\\Local\\Programs\\Python\\Python312\\Lib\\site-packages\\pyproj\\crs\\crs.py:141: FutureWarning: '+init=<authority>:<code>' syntax is deprecated. '<authority>:<code>' is the preferred initialization method. When making the change, be mindful of axis order changes: https://pyproj4.github.io/pyproj/stable/gotchas.html#axis-order-changes-in-proj-6\n",
      "  in_crs_string = _prepare_from_proj_string(in_crs_string)\n"
     ]
    }
   ],
   "source": [
    "# 크롤링한 좌표값 변환하는작업\n",
    "import pandas as pd\n",
    "from pyproj import Proj, Transformer\n",
    "\n",
    "# CSV 파일 경로\n",
    "csv_file_path = '용인시고속도로교통사고데이터.csv'\n",
    "\n",
    "# CSV 파일 읽기\n",
    "df = pd.read_csv(csv_file_path)\n",
    "\n",
    "# epsg:5181 좌표계 정의\n",
    "in_proj = Proj(init='epsg:5181')\n",
    "\n",
    "# epsg:4326 좌표계 정의\n",
    "out_proj = Proj(init='epsg:4326')\n",
    "\n",
    "# 좌표 변환 함수 정의\n",
    "def convert_coordinates(row):\n",
    "    lon, lat = row['lon(경도)'], row['lat(위도)']\n",
    "    lon, lat = Transformer.from_proj(in_proj, out_proj).transform(lon, lat)\n",
    "    return pd.Series({'lon(경도)': lon, 'lat(위도)': lat})\n",
    "\n",
    "# Rename the columns\n",
    "df.columns = ['lon(경도)', 'lat(위도)']\n",
    "\n",
    "# 'lon(경도)'와 'lat(위도)' 컬럼 생성 및 좌표 변환\n",
    "df[['lon(경도)', 'lat(위도)']] = df.apply(convert_coordinates, axis=1)\n",
    "\n",
    "# 결과를 CSV 파일로 저장\n",
    "df.to_csv('용인시고속도로교통사고데이터(위도경도).csv', index=False)\n",
    "\n",
    "\n",
    "\n",
    "\n"
   ]
  },
  {
   "cell_type": "code",
   "execution_count": 44,
   "metadata": {},
   "outputs": [],
   "source": [
    "# 위도경도 순서바꾸기\n",
    "import pandas as pd\n",
    "\n",
    "# CSV 파일 경로\n",
    "csv_file_path = '용인시고속도로교통사고데이터(위도경도).csv'\n",
    "\n",
    "# CSV 파일 읽기\n",
    "df = pd.read_csv(csv_file_path)\n",
    "\n",
    "# 'lon(경도)'와 'lat(위도)' 컬럼의 위치 바꾸기\n",
    "df = df[['lat(위도)', 'lon(경도)']]\n",
    "\n",
    "# 결과를 CSV 파일로 저장\n",
    "df.to_csv('yongin_swapped_result.csv', index=False)\n"
   ]
  },
  {
   "cell_type": "code",
   "execution_count": 46,
   "metadata": {},
   "outputs": [],
   "source": [
    "# 사고데이터와 크롤링후 변환한 좌표데이터 붙이기작업\n",
    "\n",
    "import pandas as pd\n",
    "\n",
    "# accidentInfoList.csv 파일 읽기\n",
    "accident_df = pd.read_csv('yongin_accidentInfoList.csv', encoding='cp949')\n",
    "\n",
    "# swapped_result.csv 파일 읽기(좌표데이터)\n",
    "coord_df = pd.read_csv('yongin_swapped_result.csv')\n",
    "\n",
    "# 두 DataFrame을 수평으로 붙이기\n",
    "merged_df = pd.concat([accident_df, coord_df], axis=1)\n",
    "\n",
    "# 결과를 CSV 파일로 저장\n",
    "merged_df.to_csv('yongin_merged_result.csv', index=False)"
   ]
  }
 ],
 "metadata": {
  "kernelspec": {
   "display_name": "Python 3",
   "language": "python",
   "name": "python3"
  },
  "language_info": {
   "codemirror_mode": {
    "name": "ipython",
    "version": 3
   },
   "file_extension": ".py",
   "mimetype": "text/x-python",
   "name": "python",
   "nbconvert_exporter": "python",
   "pygments_lexer": "ipython3",
   "version": "3.12.1"
  }
 },
 "nbformat": 4,
 "nbformat_minor": 2
}
